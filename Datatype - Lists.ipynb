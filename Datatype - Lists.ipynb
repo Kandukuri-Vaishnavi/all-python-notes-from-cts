{
 "cells": [
  {
   "cell_type": "markdown",
   "metadata": {},
   "source": [
    "# Data type - Lists"
   ]
  },
  {
   "cell_type": "code",
   "execution_count": 1,
   "metadata": {},
   "outputs": [],
   "source": [
    "#Lists are probably the most commonly used of the derived data types. They allow one to store a collection of elements\n",
    "# in a sequential manner and perform a host of operations on the elements as well as on other lists. They are one of the\n",
    "# most versatile datatypes.\n",
    "\n",
    "# Arrays also allow one to store many datatypes and perform operations on the elements in them. However, arrays limit one\n",
    "# to store only one datatype in them. The operations are faster in arrays and if we know that we will only be saving one\n",
    "# type of data in the object in a structured manner - arrays might be the way to go. But more on arrays later. \n",
    "\n",
    "# Lists have the following properties:\n",
    "\n",
    "#1. They are a derived datatype.\n",
    "#2. They are sequential and ordered i.e. stored in the order of input (insertion of element not withstanding).\n",
    "#3. Lists themselves are mutable i.e. the elements inside a list can be changed.\n",
    "#4. They allow mutable elements to be stored in them. e.g. we can store a set or dictionary (and even another list) in a\n",
    "# list.\n",
    "#5. They allow nesting i.e. a list in another list.\n",
    "#6. They allow indexing and slicing.\n",
    "#7. They are iterable i.e. one can go through each element in a list and perform an operation on each element.\n"
   ]
  },
  {
   "cell_type": "code",
   "execution_count": 2,
   "metadata": {},
   "outputs": [
    {
     "name": "stdout",
     "output_type": "stream",
     "text": [
      "[1, 2, 3, 4, 5]\n",
      "<class 'list'>\n"
     ]
    }
   ],
   "source": [
    "#Initialising lists\n",
    "\n",
    "x = [1,2,3,4,5]\n",
    "\n",
    "print(x)\n",
    "print(type(x))\n",
    "\n",
    "#To initialise a list, simply enclose the elements of the list in square brackets."
   ]
  },
  {
   "cell_type": "code",
   "execution_count": 3,
   "metadata": {},
   "outputs": [
    {
     "name": "stdout",
     "output_type": "stream",
     "text": [
      "[4, 6, 8]\n"
     ]
    }
   ],
   "source": [
    "x = []\n",
    "\n",
    "#Empty square brackets can be used to initialise an empty list.\n",
    "\n",
    "#When would we need an empty list? When we know that we shall be filling the list object with elements and would like to\n",
    "# be able to perform list operations on that object.\n",
    "\n",
    "# For e.g.I have certain values and would like to multiply each one by 2 before appending it to the list. We can use the\n",
    "# append function to do so. (We whall discuss in detail about the append function a bit later)\n",
    "\n",
    "x.append(2*2)\n",
    "x.append(3*2)\n",
    "x.append(4*2)\n",
    "\n",
    "print(x)"
   ]
  },
  {
   "cell_type": "code",
   "execution_count": 4,
   "metadata": {},
   "outputs": [
    {
     "ename": "NameError",
     "evalue": "name 'y' is not defined",
     "output_type": "error",
     "traceback": [
      "\u001b[1;31m---------------------------------------------------------------------------\u001b[0m",
      "\u001b[1;31mNameError\u001b[0m                                 Traceback (most recent call last)",
      "\u001b[1;32m<ipython-input-4-afa683a9ec9e>\u001b[0m in \u001b[0;36m<module>\u001b[1;34m\u001b[0m\n\u001b[0;32m      2\u001b[0m \u001b[1;31m# datatype.\u001b[0m\u001b[1;33m\u001b[0m\u001b[1;33m\u001b[0m\u001b[1;33m\u001b[0m\u001b[0m\n\u001b[0;32m      3\u001b[0m \u001b[1;33m\u001b[0m\u001b[0m\n\u001b[1;32m----> 4\u001b[1;33m \u001b[0my\u001b[0m\u001b[1;33m.\u001b[0m\u001b[0mappend\u001b[0m\u001b[1;33m(\u001b[0m\u001b[1;36m2\u001b[0m\u001b[1;33m*\u001b[0m\u001b[1;36m2\u001b[0m\u001b[1;33m)\u001b[0m\u001b[1;33m\u001b[0m\u001b[1;33m\u001b[0m\u001b[0m\n\u001b[0m\u001b[0;32m      5\u001b[0m \u001b[1;33m\u001b[0m\u001b[0m\n",
      "\u001b[1;31mNameError\u001b[0m: name 'y' is not defined"
     ]
    }
   ],
   "source": [
    "#If I had not initialised the list object - I would not have been able to append. And also, if I had initialised a different\n",
    "# datatype.\n",
    "\n",
    "y.append(2*2)\n",
    "\n"
   ]
  },
  {
   "cell_type": "code",
   "execution_count": 5,
   "metadata": {},
   "outputs": [
    {
     "ename": "AttributeError",
     "evalue": "'set' object has no attribute 'append'",
     "output_type": "error",
     "traceback": [
      "\u001b[1;31m---------------------------------------------------------------------------\u001b[0m",
      "\u001b[1;31mAttributeError\u001b[0m                            Traceback (most recent call last)",
      "\u001b[1;32m<ipython-input-5-8799e8add662>\u001b[0m in \u001b[0;36m<module>\u001b[1;34m\u001b[0m\n\u001b[0;32m      1\u001b[0m \u001b[0my\u001b[0m \u001b[1;33m=\u001b[0m \u001b[0mset\u001b[0m\u001b[1;33m(\u001b[0m\u001b[1;33m)\u001b[0m\u001b[1;33m\u001b[0m\u001b[1;33m\u001b[0m\u001b[0m\n\u001b[0;32m      2\u001b[0m \u001b[1;33m\u001b[0m\u001b[0m\n\u001b[1;32m----> 3\u001b[1;33m \u001b[0my\u001b[0m\u001b[1;33m.\u001b[0m\u001b[0mappend\u001b[0m\u001b[1;33m(\u001b[0m\u001b[1;36m2\u001b[0m\u001b[1;33m*\u001b[0m\u001b[1;36m2\u001b[0m\u001b[1;33m)\u001b[0m\u001b[1;33m\u001b[0m\u001b[1;33m\u001b[0m\u001b[0m\n\u001b[0m",
      "\u001b[1;31mAttributeError\u001b[0m: 'set' object has no attribute 'append'"
     ]
    }
   ],
   "source": [
    "y = set()\n",
    "\n",
    "y.append(2*2)\n"
   ]
  },
  {
   "cell_type": "code",
   "execution_count": 6,
   "metadata": {},
   "outputs": [
    {
     "name": "stdout",
     "output_type": "stream",
     "text": [
      "[]\n",
      "<class 'list'>\n"
     ]
    }
   ],
   "source": [
    "#We could also initialise a list by calling list() constructor on an iterable object. This is optional. Calling list without\n",
    "#any parameters initialises an empty list. \n",
    "\n",
    "x = list()\n",
    "print(x)\n",
    "print(type(x))\n"
   ]
  },
  {
   "cell_type": "code",
   "execution_count": 7,
   "metadata": {},
   "outputs": [
    {
     "name": "stdout",
     "output_type": "stream",
     "text": [
      "<class 'tuple'>\n"
     ]
    }
   ],
   "source": [
    "x = 1,2,3,4\n",
    "print(type(x))"
   ]
  },
  {
   "cell_type": "code",
   "execution_count": 8,
   "metadata": {},
   "outputs": [
    {
     "name": "stdout",
     "output_type": "stream",
     "text": [
      "[1, 2, 3, 4]\n",
      "<class 'list'>\n",
      "1\n"
     ]
    }
   ],
   "source": [
    "y = list(x)\n",
    "\n",
    "print(y)\n",
    "print(type(y))\n",
    "print(y[0])"
   ]
  },
  {
   "cell_type": "code",
   "execution_count": 9,
   "metadata": {},
   "outputs": [
    {
     "name": "stdout",
     "output_type": "stream",
     "text": [
      "[(1, 2, 3, 4)]\n",
      "<class 'list'>\n",
      "(1, 2, 3, 4)\n",
      "<class 'tuple'>\n"
     ]
    }
   ],
   "source": [
    "y = [x]\n",
    "\n",
    "print(y)\n",
    "print(type(y))\n",
    "print(y[0])\n",
    "print(type(y[0]))"
   ]
  },
  {
   "cell_type": "code",
   "execution_count": null,
   "metadata": {},
   "outputs": [],
   "source": []
  },
  {
   "cell_type": "code",
   "execution_count": null,
   "metadata": {},
   "outputs": [],
   "source": [
    "#Note here how when simply enclosing the different datatype in square brackets put the variable as ONE element in the list."
   ]
  },
  {
   "cell_type": "code",
   "execution_count": 10,
   "metadata": {},
   "outputs": [
    {
     "name": "stdout",
     "output_type": "stream",
     "text": [
      "<class 'dict'>\n"
     ]
    }
   ],
   "source": [
    "z = {1:100, 2:200, 'a':33, None:True}\n",
    "print(type(z))"
   ]
  },
  {
   "cell_type": "code",
   "execution_count": 11,
   "metadata": {},
   "outputs": [
    {
     "name": "stdout",
     "output_type": "stream",
     "text": [
      "[1, 2, 'a', None]\n",
      "<class 'list'>\n"
     ]
    }
   ],
   "source": [
    "zz = list(z)\n",
    "\n",
    "print(zz)\n",
    "print(type(zz))\n",
    "\n",
    "#Do note how the list has only taken the keys of the dictionary as its elements."
   ]
  },
  {
   "cell_type": "code",
   "execution_count": 12,
   "metadata": {},
   "outputs": [
    {
     "name": "stdout",
     "output_type": "stream",
     "text": [
      "1\n"
     ]
    }
   ],
   "source": [
    "print(zz[0])"
   ]
  },
  {
   "cell_type": "code",
   "execution_count": 13,
   "metadata": {},
   "outputs": [
    {
     "name": "stdout",
     "output_type": "stream",
     "text": [
      "<class 'tuple'>\n"
     ]
    }
   ],
   "source": [
    "x = 1,2,3,4\n",
    "print(type(x))"
   ]
  },
  {
   "cell_type": "code",
   "execution_count": 14,
   "metadata": {},
   "outputs": [
    {
     "name": "stdout",
     "output_type": "stream",
     "text": [
      "[(1, 2, 3, 4)]\n",
      "<class 'list'>\n",
      "<class 'tuple'>\n"
     ]
    }
   ],
   "source": [
    "zzz = [x]\n",
    "\n",
    "print(zzz)\n",
    "print(type(zzz))\n",
    "print(type(zzz[0]))"
   ]
  },
  {
   "cell_type": "code",
   "execution_count": 15,
   "metadata": {},
   "outputs": [
    {
     "name": "stdout",
     "output_type": "stream",
     "text": [
      "(1, 2, 3, 4)\n",
      "3\n"
     ]
    }
   ],
   "source": [
    "print(zzz[0])\n",
    "print(zzz[0][2])"
   ]
  },
  {
   "cell_type": "code",
   "execution_count": 16,
   "metadata": {},
   "outputs": [
    {
     "name": "stdout",
     "output_type": "stream",
     "text": [
      "[1, 2, 'a', None]\n",
      "{1: 100, 2: 200, 'a': 33, None: True}\n"
     ]
    }
   ],
   "source": [
    "print(zz)\n",
    "print(z)"
   ]
  },
  {
   "cell_type": "code",
   "execution_count": 17,
   "metadata": {},
   "outputs": [
    {
     "name": "stdout",
     "output_type": "stream",
     "text": [
      "[(1, 2, 3, 4), [1, 2, 'a', None], {1: 100, 2: 200, 'a': 33, None: True}, ['one', 'two', 'three']]\n",
      "4\n"
     ]
    }
   ],
   "source": [
    "zzz.append(zz)\n",
    "zzz.append(z)\n",
    "zzz.append(['one', 'two', 'three'])\n",
    "print(zzz)\n",
    "\n",
    "print(len(zzz))"
   ]
  },
  {
   "cell_type": "code",
   "execution_count": null,
   "metadata": {},
   "outputs": [],
   "source": [
    "#In short, please remember this difference while trying to create lists - do you want to change the datatype of a sequential\n",
    "# object or just put that iterable itself in a list. "
   ]
  },
  {
   "cell_type": "code",
   "execution_count": 18,
   "metadata": {},
   "outputs": [],
   "source": [
    "x = []\n",
    "\n",
    "a = [1,2,3,4]\n",
    "b = list('abcde')\n",
    "c = ('one', 'two','three')\n",
    "d = {'A':100, 'B':200}\n"
   ]
  },
  {
   "cell_type": "code",
   "execution_count": 24,
   "metadata": {},
   "outputs": [
    {
     "data": {
      "text/plain": [
       "['A', 'B']"
      ]
     },
     "execution_count": 24,
     "metadata": {},
     "output_type": "execute_result"
    }
   ],
   "source": [
    "list(d)"
   ]
  },
  {
   "cell_type": "code",
   "execution_count": 19,
   "metadata": {},
   "outputs": [
    {
     "name": "stdout",
     "output_type": "stream",
     "text": [
      "[200]\n"
     ]
    }
   ],
   "source": [
    "x.append(2*100)\n",
    "\n",
    "print(x)"
   ]
  },
  {
   "cell_type": "code",
   "execution_count": 20,
   "metadata": {},
   "outputs": [
    {
     "name": "stdout",
     "output_type": "stream",
     "text": [
      "[200, [1, 2, 3, 4]]\n"
     ]
    }
   ],
   "source": [
    "x.append(a)\n",
    "print(x)"
   ]
  },
  {
   "cell_type": "code",
   "execution_count": 21,
   "metadata": {},
   "outputs": [
    {
     "name": "stdout",
     "output_type": "stream",
     "text": [
      "[200, [1, 2, 3, 4], ['a', 'b', 'c', 'd', 'e']]\n"
     ]
    }
   ],
   "source": [
    "x.append(b)\n",
    "print(x)"
   ]
  },
  {
   "cell_type": "code",
   "execution_count": 22,
   "metadata": {},
   "outputs": [
    {
     "name": "stdout",
     "output_type": "stream",
     "text": [
      "[200, [1, 2, 3, 4], ['a', 'b', 'c', 'd', 'e'], ('one', 'two', 'three')]\n"
     ]
    }
   ],
   "source": [
    "x.append(c)\n",
    "print(x)\n"
   ]
  },
  {
   "cell_type": "code",
   "execution_count": 23,
   "metadata": {},
   "outputs": [
    {
     "name": "stdout",
     "output_type": "stream",
     "text": [
      "[200, [1, 2, 3, 4], ['a', 'b', 'c', 'd', 'e'], ('one', 'two', 'three'), {'A': 100, 'B': 200}]\n"
     ]
    }
   ],
   "source": [
    "x.append(d)\n",
    "print(x)"
   ]
  },
  {
   "cell_type": "code",
   "execution_count": 25,
   "metadata": {},
   "outputs": [
    {
     "name": "stdout",
     "output_type": "stream",
     "text": [
      "5\n"
     ]
    }
   ],
   "source": [
    "print(len(x))"
   ]
  },
  {
   "cell_type": "code",
   "execution_count": 26,
   "metadata": {},
   "outputs": [
    {
     "name": "stdout",
     "output_type": "stream",
     "text": [
      "['abc']\n"
     ]
    }
   ],
   "source": [
    "s = ['abc']\n",
    "\n",
    "print(s)"
   ]
  },
  {
   "cell_type": "code",
   "execution_count": 27,
   "metadata": {},
   "outputs": [
    {
     "name": "stdout",
     "output_type": "stream",
     "text": [
      "['a', 'b', 'c']\n"
     ]
    }
   ],
   "source": [
    "ss = list('abc')\n",
    "\n",
    "print(ss)"
   ]
  },
  {
   "cell_type": "code",
   "execution_count": null,
   "metadata": {},
   "outputs": [],
   "source": [
    "#Same thing happened here. Since string is also sequential, in the first example, a list was initialised with one element, \n",
    "# the object 'abc'. The second time when we called the list constructor - the list understood that each individual object\n",
    "# of the 'abc' object was to be put in a list."
   ]
  },
  {
   "cell_type": "code",
   "execution_count": 28,
   "metadata": {},
   "outputs": [
    {
     "name": "stdout",
     "output_type": "stream",
     "text": [
      "3\n"
     ]
    }
   ],
   "source": [
    "#Indexing and slicing can be performed on a list and works exactly as indexing and slicing of other sequential objects. \n",
    "# We have already seen this in the string datatype.\n",
    "\n",
    "lst1 = [1,2,3,4,5]\n",
    "\n",
    "print(lst1[2])"
   ]
  },
  {
   "cell_type": "code",
   "execution_count": 29,
   "metadata": {},
   "outputs": [
    {
     "name": "stdout",
     "output_type": "stream",
     "text": [
      "[1, 1000, 'Python', {'a': 1, 2: 200}, ('Amar', 'Akbar', 'Anthony'), {'Krish', 'Ironman'}]\n"
     ]
    }
   ],
   "source": [
    "# A list is a mutable datatype. We can hold mutable datatypes in a list.\n",
    "\n",
    "orig = [1,2*500, 'P'+'y'+'t'+'h'+'o'+'n', {'a':1, 2:200}, ('Amar','Akbar','Anthony'), {'Ironman', 'Krish'}]\n",
    "print(orig)"
   ]
  },
  {
   "cell_type": "code",
   "execution_count": 31,
   "metadata": {},
   "outputs": [
    {
     "name": "stdout",
     "output_type": "stream",
     "text": [
      "<class 'tuple'>\n"
     ]
    }
   ],
   "source": [
    "v=('Amar','Akbar','Anthony')\n",
    "print(type(v))"
   ]
  },
  {
   "cell_type": "code",
   "execution_count": 30,
   "metadata": {},
   "outputs": [
    {
     "name": "stdout",
     "output_type": "stream",
     "text": [
      "<class 'set'>\n"
     ]
    }
   ],
   "source": [
    "vaish={'Ironman', 'Krish'}\n",
    "print(type(vaish))"
   ]
  },
  {
   "cell_type": "code",
   "execution_count": 32,
   "metadata": {},
   "outputs": [
    {
     "name": "stdout",
     "output_type": "stream",
     "text": [
      "('Amar', 'Akbar', 'Anthony')\n",
      "<class 'tuple'>\n"
     ]
    }
   ],
   "source": [
    "# Getting object at index no. 4\n",
    "\n",
    "idx1 = orig[4]\n",
    "print(idx1)\n",
    "print(type(idx1))"
   ]
  },
  {
   "cell_type": "code",
   "execution_count": 33,
   "metadata": {},
   "outputs": [
    {
     "name": "stdout",
     "output_type": "stream",
     "text": [
      "Akbar\n",
      "<class 'str'>\n"
     ]
    }
   ],
   "source": [
    "# Getting object at 1st index of object at index no. 4\n",
    "idx2 = orig[4][1]\n",
    "print(idx2)\n",
    "print(type(idx2))"
   ]
  },
  {
   "cell_type": "code",
   "execution_count": 34,
   "metadata": {},
   "outputs": [
    {
     "name": "stdout",
     "output_type": "stream",
     "text": [
      "h\n"
     ]
    }
   ],
   "source": [
    "idx3 = orig[2][3]\n",
    "print(idx3)"
   ]
  },
  {
   "cell_type": "code",
   "execution_count": 35,
   "metadata": {},
   "outputs": [
    {
     "name": "stdout",
     "output_type": "stream",
     "text": [
      "b\n"
     ]
    }
   ],
   "source": [
    "orig = [1,2*500, 'P'+'y'+'t'+'h'+'o'+'n', {'a':1, 2:200}, ('Amar','Akbar','Anthony'), {'Ironman', 'Krish'}]\n",
    "\n",
    "#Getting object at 2nd index of object at 1st index of object at 4th index of original list object\n",
    "\n",
    "idx4 = orig[4][1][2]\n",
    "\n",
    "print(idx4)\n",
    "\n"
   ]
  },
  {
   "cell_type": "code",
   "execution_count": 36,
   "metadata": {},
   "outputs": [
    {
     "name": "stdout",
     "output_type": "stream",
     "text": [
      "[1, 2, 3, 4, 5, [6, 7, [8, 9, 10], 11, 12, [14, [21, 22], 27]], 100, 111]\n"
     ]
    }
   ],
   "source": [
    "#Nested lists. Since list is a mutable datatype and can itself hold mutable datatypes - it goes to show that lists can\n",
    "#hold lists. \n",
    "\n",
    "lst = [1,2,3,4,5,[6,7,[8,9,10], 11, 12, [14,[21,22],27]],100,111]\n",
    "       \n",
    "print(lst)\n"
   ]
  },
  {
   "cell_type": "code",
   "execution_count": 37,
   "metadata": {},
   "outputs": [
    {
     "name": "stdout",
     "output_type": "stream",
     "text": [
      "[6, 7, [8, 9, 10], 11, 12, [14, [21, 22], 27]]\n"
     ]
    }
   ],
   "source": [
    "print(lst[5])"
   ]
  },
  {
   "cell_type": "code",
   "execution_count": 38,
   "metadata": {},
   "outputs": [
    {
     "name": "stdout",
     "output_type": "stream",
     "text": [
      "111\n"
     ]
    }
   ],
   "source": [
    "print(lst[-1])"
   ]
  },
  {
   "cell_type": "code",
   "execution_count": 39,
   "metadata": {},
   "outputs": [
    {
     "name": "stdout",
     "output_type": "stream",
     "text": [
      "[14, [21, 22], 27]\n"
     ]
    }
   ],
   "source": [
    "print(lst[5][5])"
   ]
  },
  {
   "cell_type": "code",
   "execution_count": 40,
   "metadata": {},
   "outputs": [
    {
     "name": "stdout",
     "output_type": "stream",
     "text": [
      "[21, 22]\n"
     ]
    }
   ],
   "source": [
    "print(lst[5][5][1])"
   ]
  },
  {
   "cell_type": "code",
   "execution_count": 41,
   "metadata": {},
   "outputs": [
    {
     "name": "stdout",
     "output_type": "stream",
     "text": [
      "21\n"
     ]
    }
   ],
   "source": [
    "print(lst[5][5][1][0])"
   ]
  },
  {
   "cell_type": "code",
   "execution_count": 42,
   "metadata": {},
   "outputs": [
    {
     "name": "stdout",
     "output_type": "stream",
     "text": [
      "[1, 1000, 'Python', {'a': 1, 2: 200}, ('Amar', 'Akbar', 'Anthony'), {'Krish', 'Ironman'}]\n"
     ]
    }
   ],
   "source": [
    "#Slicing on lists\n",
    "\n",
    "orig = [1,2*500, 'P'+'y'+'t'+'h'+'o'+'n', {'a':1, 2:200}, ('Amar','Akbar','Anthony'), {'Ironman', 'Krish'}]\n",
    "\n",
    "slc1 = orig[:]\n",
    "print(slc1)"
   ]
  },
  {
   "cell_type": "code",
   "execution_count": 43,
   "metadata": {},
   "outputs": [
    {
     "name": "stdout",
     "output_type": "stream",
     "text": [
      "[1, 'Python', ('Amar', 'Akbar', 'Anthony')]\n"
     ]
    }
   ],
   "source": [
    "slc2 = orig[::2]\n",
    "print(slc2)"
   ]
  },
  {
   "cell_type": "code",
   "execution_count": 44,
   "metadata": {},
   "outputs": [
    {
     "name": "stdout",
     "output_type": "stream",
     "text": [
      "[1, {'a': 1, 2: 200}]\n"
     ]
    }
   ],
   "source": [
    "slc3 = orig[:5:3]\n",
    "print(slc3)"
   ]
  },
  {
   "cell_type": "code",
   "execution_count": 45,
   "metadata": {},
   "outputs": [
    {
     "name": "stdout",
     "output_type": "stream",
     "text": [
      "<class 'list'>\n"
     ]
    }
   ],
   "source": [
    "print(type(slc3))"
   ]
  },
  {
   "cell_type": "code",
   "execution_count": 46,
   "metadata": {},
   "outputs": [
    {
     "name": "stdout",
     "output_type": "stream",
     "text": [
      "[1, 1000, 'Python', {'a': 1, 2: 200}, ('Amar', 'Akbar', 'Anthony'), {'Krish', 'Ironman'}]\n"
     ]
    }
   ],
   "source": [
    "#As you can see - slicing a list outputs a list object. \n",
    "print(orig)"
   ]
  },
  {
   "cell_type": "code",
   "execution_count": 47,
   "metadata": {},
   "outputs": [
    {
     "name": "stdout",
     "output_type": "stream",
     "text": [
      "[1, 1000, 'Python', {'a': 1, 2: 200}]\n",
      "<class 'list'>\n"
     ]
    }
   ],
   "source": [
    "z = orig[:-2]\n",
    "print(z)\n",
    "print(type(z))"
   ]
  },
  {
   "cell_type": "code",
   "execution_count": 1,
   "metadata": {},
   "outputs": [
    {
     "name": "stdout",
     "output_type": "stream",
     "text": [
      "['a', 'b', 'c', 'd', 'e', 'f', 'g', 'h', 'i', 'j']\n"
     ]
    }
   ],
   "source": [
    "#As usual the concepts of negative indexing remain the same. \n",
    "\n",
    "lst_alpha = list('abcdefghij')\n",
    "print(lst_alpha)"
   ]
  },
  {
   "cell_type": "code",
   "execution_count": 2,
   "metadata": {},
   "outputs": [
    {
     "name": "stdout",
     "output_type": "stream",
     "text": [
      "['j', 'i', 'h', 'g', 'f', 'e', 'd', 'c', 'b', 'a']\n"
     ]
    }
   ],
   "source": [
    "lst_alpha_rev = lst_alpha[::-1]\n",
    "print(lst_alpha_rev)"
   ]
  },
  {
   "cell_type": "code",
   "execution_count": 3,
   "metadata": {},
   "outputs": [
    {
     "name": "stdout",
     "output_type": "stream",
     "text": [
      "True\n"
     ]
    }
   ],
   "source": [
    "x = 'malayalam'\n",
    "\n",
    "if x == x[::-1]:\n",
    "    print('True')"
   ]
  },
  {
   "cell_type": "code",
   "execution_count": 4,
   "metadata": {},
   "outputs": [
    {
     "name": "stdout",
     "output_type": "stream",
     "text": [
      "['a', 'b', 'c', 'd', 'e', 'f', 'g', 'h', 'i', 'j']\n"
     ]
    }
   ],
   "source": [
    "print(lst_alpha)"
   ]
  },
  {
   "cell_type": "code",
   "execution_count": 5,
   "metadata": {},
   "outputs": [
    {
     "name": "stdout",
     "output_type": "stream",
     "text": [
      "['f', 'g', 'h']\n"
     ]
    }
   ],
   "source": [
    "lst_alpha_rev2 = lst_alpha[-5:-2]\n",
    "print(lst_alpha_rev2)"
   ]
  },
  {
   "cell_type": "code",
   "execution_count": 6,
   "metadata": {},
   "outputs": [
    {
     "name": "stdout",
     "output_type": "stream",
     "text": [
      "[]\n"
     ]
    }
   ],
   "source": [
    "lst_alpha_rev3 = lst_alpha[-2:-5]\n",
    "print(lst_alpha_rev3)"
   ]
  },
  {
   "cell_type": "code",
   "execution_count": 56,
   "metadata": {},
   "outputs": [
    {
     "name": "stdout",
     "output_type": "stream",
     "text": [
      "['i', 'h', 'g']\n"
     ]
    }
   ],
   "source": [
    "lst_alpha_rev4 = lst_alpha[-2:-5:-1]\n",
    "print(lst_alpha_rev4)"
   ]
  },
  {
   "cell_type": "code",
   "execution_count": 57,
   "metadata": {},
   "outputs": [
    {
     "name": "stdout",
     "output_type": "stream",
     "text": [
      "[1, 2, 3, 4, 5, [6, 7, [8, 9, 10], 11, 12, [14, [21, 22], 27]], 100, 111]\n"
     ]
    }
   ],
   "source": [
    "print(lst)"
   ]
  },
  {
   "cell_type": "code",
   "execution_count": 58,
   "metadata": {},
   "outputs": [
    {
     "name": "stdout",
     "output_type": "stream",
     "text": [
      "[1, 2, 11, 12, 5, [6, 7, [8, 9, 10], 11, 12, [14, [21, 22], 27]], 100, 111]\n"
     ]
    }
   ],
   "source": [
    "#Slicing and item assignment can be performed together. \n",
    "\n",
    "lst[2:4] = 11,12\n",
    "\n",
    "print(lst)"
   ]
  },
  {
   "cell_type": "code",
   "execution_count": 59,
   "metadata": {},
   "outputs": [
    {
     "name": "stdout",
     "output_type": "stream",
     "text": [
      "[1, 2, 11, 12, 100, 111]\n"
     ]
    }
   ],
   "source": [
    "lst[2:6] = 11,12\n",
    "\n",
    "print(lst)"
   ]
  },
  {
   "cell_type": "code",
   "execution_count": 60,
   "metadata": {},
   "outputs": [
    {
     "name": "stdout",
     "output_type": "stream",
     "text": [
      "[1, 2, 54, 56, 58, 60, 100, 111]\n"
     ]
    }
   ],
   "source": [
    "#Note how while slicing we picked up 4 elements but only assigned two new elements? Basically, we told Python to pick up\n",
    "# a certain slice of the list and reassign the values based on what we are giving it - irrespecitive of if the number of\n",
    "# elements match. \n",
    "\n",
    "lst[2:4] = 54,56,58,60\n",
    "print(lst)"
   ]
  },
  {
   "cell_type": "code",
   "execution_count": 61,
   "metadata": {},
   "outputs": [
    {
     "name": "stdout",
     "output_type": "stream",
     "text": [
      "[1, 2, 93, 94, 95, 96, 97, 58, 60, 100, 111]\n"
     ]
    }
   ],
   "source": [
    "lst[2:4] = list(range(93,98))\n",
    "print(lst)"
   ]
  },
  {
   "cell_type": "code",
   "execution_count": 62,
   "metadata": {},
   "outputs": [
    {
     "name": "stdout",
     "output_type": "stream",
     "text": [
      "[1, 2, 11, 12, 13, 14, 15, 5]\n"
     ]
    }
   ],
   "source": [
    "srin=[1,2,3,4,5]\n",
    "srin[2:4]=list(range(11,16))\n",
    "print(srin)"
   ]
  },
  {
   "cell_type": "code",
   "execution_count": 63,
   "metadata": {},
   "outputs": [
    {
     "name": "stdout",
     "output_type": "stream",
     "text": [
      "[1, 1000, 'Python', {'a': 1, 2: 200}]\n",
      "1\n",
      "1000\n",
      "Python\n",
      "{'a': 1, 2: 200}\n"
     ]
    }
   ],
   "source": [
    "#Iteration over a list. \n",
    "print(z)\n",
    "for x in z:\n",
    "    print(x)"
   ]
  },
  {
   "cell_type": "code",
   "execution_count": 64,
   "metadata": {},
   "outputs": [
    {
     "name": "stdout",
     "output_type": "stream",
     "text": [
      "[1, 2, 11, 12, 13, 14, 15, 5]\n"
     ]
    }
   ],
   "source": [
    "srin=[1,2,3,4,5]\n",
    "srin[2:4]=list(range(11,16))\n",
    "print(srin)"
   ]
  },
  {
   "cell_type": "code",
   "execution_count": 65,
   "metadata": {},
   "outputs": [
    {
     "name": "stdout",
     "output_type": "stream",
     "text": [
      "0246810"
     ]
    }
   ],
   "source": [
    "lst1 = [0,1,2,3,4,5]\n",
    "\n",
    "for x in lst1:\n",
    "    print(x*2,end='')"
   ]
  },
  {
   "cell_type": "code",
   "execution_count": 66,
   "metadata": {},
   "outputs": [
    {
     "name": "stdout",
     "output_type": "stream",
     "text": [
      "[0, 1, 2, 3, 4, 5]\n",
      "[0, 1, 2, 3, 4, 5, 0, 1, 2, 3, 4, 5, 0, 1, 2, 3, 4, 5, 0, 1, 2, 3, 4, 5, 0, 1, 2, 3, 4, 5]\n"
     ]
    }
   ],
   "source": [
    "#Repetition of a list\n",
    "\n",
    "lst2 = lst1*5\n",
    "\n",
    "print(lst1)\n",
    "print(lst2)"
   ]
  },
  {
   "cell_type": "code",
   "execution_count": 67,
   "metadata": {},
   "outputs": [
    {
     "name": "stdout",
     "output_type": "stream",
     "text": [
      "['a', 'b', 'c', 'd', 'a', 'b', 'c', 'd', 'a', 'b', 'c', 'd', 'a', 'b', 'c', 'd', 'a', 'b', 'c', 'd']\n"
     ]
    }
   ],
   "source": [
    "lsta = list('abcd')*5\n",
    "\n",
    "print(lsta)"
   ]
  },
  {
   "cell_type": "code",
   "execution_count": 68,
   "metadata": {},
   "outputs": [
    {
     "name": "stdout",
     "output_type": "stream",
     "text": [
      "['a', 'b', 'c', 'd']\n",
      "['e', 'f', 'g', 'h']\n",
      "['a', 'b', 'c', 'd', 'e', 'f', 'g', 'h']\n"
     ]
    }
   ],
   "source": [
    "#Concatenation of lists\n",
    "\n",
    "orig_1 = ['a','b','c','d']\n",
    "orig_2 = ['e', 'f', 'g', 'h']\n",
    "lst3 = orig_1 + orig_2\n",
    "\n",
    "print(orig_1)\n",
    "print(orig_2)\n",
    "print(lst3)\n"
   ]
  },
  {
   "cell_type": "code",
   "execution_count": 69,
   "metadata": {},
   "outputs": [
    {
     "name": "stdout",
     "output_type": "stream",
     "text": [
      "['a', 'b', 'c', 'd', 'e', 'f', 'g', 'h']\n"
     ]
    }
   ],
   "source": [
    "lst3 = ['a','b','c','d'] + ['e', 'f', 'g', 'h']\n",
    "\n",
    "print(lst3)"
   ]
  },
  {
   "cell_type": "code",
   "execution_count": 70,
   "metadata": {},
   "outputs": [
    {
     "name": "stdout",
     "output_type": "stream",
     "text": [
      "['a', 'b', 'c', 'd', 'efgh']\n"
     ]
    }
   ],
   "source": [
    "lst4 = ['a', 'b', 'c', 'd'] + ['efgh']\n",
    "\n",
    "print(lst4)"
   ]
  },
  {
   "cell_type": "code",
   "execution_count": 71,
   "metadata": {},
   "outputs": [
    {
     "name": "stdout",
     "output_type": "stream",
     "text": [
      "['a', 'b', 'c', 'd', 'e', 'f', 'g', 'h']\n"
     ]
    }
   ],
   "source": [
    "lst5 = ['a','b','c','d'] + list('efgh')\n",
    "\n",
    "print(lst5)"
   ]
  },
  {
   "cell_type": "code",
   "execution_count": 72,
   "metadata": {},
   "outputs": [
    {
     "name": "stdout",
     "output_type": "stream",
     "text": [
      "True\n"
     ]
    }
   ],
   "source": [
    "#Membership operations on a list\n",
    "\n",
    "print('d' in lst5)"
   ]
  },
  {
   "cell_type": "code",
   "execution_count": 73,
   "metadata": {},
   "outputs": [
    {
     "name": "stdout",
     "output_type": "stream",
     "text": [
      "False\n"
     ]
    }
   ],
   "source": [
    "print('z' in lst5)"
   ]
  },
  {
   "cell_type": "code",
   "execution_count": 74,
   "metadata": {},
   "outputs": [
    {
     "name": "stdout",
     "output_type": "stream",
     "text": [
      "False\n"
     ]
    }
   ],
   "source": [
    "print('d' not in lst5)"
   ]
  },
  {
   "cell_type": "code",
   "execution_count": 75,
   "metadata": {},
   "outputs": [
    {
     "name": "stdout",
     "output_type": "stream",
     "text": [
      "False\n"
     ]
    }
   ],
   "source": [
    "print('z' in lst5)"
   ]
  },
  {
   "cell_type": "code",
   "execution_count": 76,
   "metadata": {},
   "outputs": [
    {
     "name": "stdout",
     "output_type": "stream",
     "text": [
      "False\n"
     ]
    }
   ],
   "source": [
    "print(['d','e'] in lst5)"
   ]
  },
  {
   "cell_type": "code",
   "execution_count": 77,
   "metadata": {},
   "outputs": [
    {
     "name": "stdout",
     "output_type": "stream",
     "text": [
      "True\n"
     ]
    }
   ],
   "source": [
    "print(['d','e'] not in lst5)\n",
    "\n"
   ]
  },
  {
   "cell_type": "code",
   "execution_count": 79,
   "metadata": {},
   "outputs": [
    {
     "name": "stdout",
     "output_type": "stream",
     "text": [
      "True\n"
     ]
    }
   ],
   "source": [
    "lst6 = ['a', 'b', 'c', ['d', 'e'], 'f', 'g']\n",
    "\n",
    "print(['d', 'e'] in lst6)"
   ]
  },
  {
   "cell_type": "code",
   "execution_count": 81,
   "metadata": {},
   "outputs": [
    {
     "name": "stdout",
     "output_type": "stream",
     "text": [
      "d True\n"
     ]
    }
   ],
   "source": [
    "print('d','e' in lst5)\n",
    "\n",
    "#Note here how though it takes two elements as the elements to search - it actually throws an unexpected output. \n",
    "\n",
    "#For all practical purposes, please assume that the in operator takes only one element to be searched at a time."
   ]
  },
  {
   "cell_type": "code",
   "execution_count": 82,
   "metadata": {},
   "outputs": [],
   "source": [
    "if('z' in lst5):\n",
    "    print('True')\n",
    "    \n"
   ]
  },
  {
   "cell_type": "code",
   "execution_count": 83,
   "metadata": {},
   "outputs": [
    {
     "name": "stdout",
     "output_type": "stream",
     "text": [
      "[0, 1, 2, 3, 4, 5]\n",
      "6\n"
     ]
    }
   ],
   "source": [
    "#Length function on lists. As with any other derived datatype - the length function returns the length of the object<in this\n",
    "#case the list. \n",
    "\n",
    "print(lst1)\n",
    "print(len(lst1))\n"
   ]
  },
  {
   "cell_type": "code",
   "execution_count": 84,
   "metadata": {},
   "outputs": [
    {
     "name": "stdout",
     "output_type": "stream",
     "text": [
      "List is. [0, 1, 2, 3, 4, 5, 0, 1, 2, 3, 4, 5, 0, 1, 2, 3, 4, 5, 0, 1, 2, 3, 4, 5, 0, 1, 2, 3, 4, 5]. \n",
      "Its length is 30\n"
     ]
    }
   ],
   "source": [
    "print(f'List is. {lst2}. \\nIts length is {len(lst2)}')"
   ]
  },
  {
   "cell_type": "code",
   "execution_count": 85,
   "metadata": {},
   "outputs": [
    {
     "name": "stdout",
     "output_type": "stream",
     "text": [
      "List is. ['a', 'b', 'c', 'd', 'e', 'f', 'g', 'h']. \n",
      "Its length is 8\n"
     ]
    }
   ],
   "source": [
    "print(f'List is. {lst3}. \\nIts length is {len(lst3)}')"
   ]
  },
  {
   "cell_type": "code",
   "execution_count": 86,
   "metadata": {},
   "outputs": [
    {
     "name": "stdout",
     "output_type": "stream",
     "text": [
      "List is. ['a', 'b', 'c', 'd', 'efgh']. \n",
      "Its length is 5\n"
     ]
    }
   ],
   "source": [
    "print(f'List is. {lst4}. \\nIts length is {len(lst4)}')"
   ]
  },
  {
   "cell_type": "code",
   "execution_count": 87,
   "metadata": {},
   "outputs": [
    {
     "name": "stdout",
     "output_type": "stream",
     "text": [
      "List is. ['a', 'b', 'c', 'd', 'e', 'f', 'g', 'h']. \n",
      "Its length is 8\n"
     ]
    }
   ],
   "source": [
    "print(f'List is. {lst5}. \\nIts length is {len(lst5)}')"
   ]
  },
  {
   "cell_type": "code",
   "execution_count": 88,
   "metadata": {},
   "outputs": [
    {
     "name": "stdout",
     "output_type": "stream",
     "text": [
      "['a', 'b', 'c', 'd', 'e', 'f', 'g', 'h']\n"
     ]
    }
   ],
   "source": [
    "# One of the most common functions used with lists is the append function which adds exactly 1 object to the end of the\n",
    "# list. \n",
    "\n",
    "print(lst5)"
   ]
  },
  {
   "cell_type": "code",
   "execution_count": 89,
   "metadata": {},
   "outputs": [
    {
     "name": "stdout",
     "output_type": "stream",
     "text": [
      "['a', 'b', 'c', 'd', 'e', 'f', 'g', 'h', 'i']\n"
     ]
    }
   ],
   "source": [
    "lst5.append('i')\n",
    "\n",
    "print(lst5)\n",
    "\n",
    "#It takes exactly one parameter - an object of any datatype to add to the end of the list. Any more (or less) objects than \n",
    "#1 will throw an error."
   ]
  },
  {
   "cell_type": "code",
   "execution_count": 90,
   "metadata": {},
   "outputs": [
    {
     "name": "stdout",
     "output_type": "stream",
     "text": [
      "['a', 'b', 'c', 'd', 'e', 'f', 'g', 'h', 'i', ['i', 'j']]\n"
     ]
    }
   ],
   "source": [
    "lst5.append(['i', 'j'])\n",
    "print(lst5)"
   ]
  },
  {
   "cell_type": "code",
   "execution_count": 91,
   "metadata": {},
   "outputs": [
    {
     "name": "stdout",
     "output_type": "stream",
     "text": [
      "['a', 'b', 'c', 'd', 'e', 'f', 'g', 'h', 'i', ['i', 'j'], 'ij']\n"
     ]
    }
   ],
   "source": [
    "lst5.append('ij')\n",
    "print(lst5)"
   ]
  },
  {
   "cell_type": "code",
   "execution_count": 92,
   "metadata": {},
   "outputs": [
    {
     "name": "stdout",
     "output_type": "stream",
     "text": [
      "['a', 'b', 'c', 'd', 'e', 'f', 'g', 'h', 'i', ['i', 'j'], 'ij', ('i', 'j')]\n"
     ]
    }
   ],
   "source": [
    "lst5.append(('i', 'j'))\n",
    "print(lst5)"
   ]
  },
  {
   "cell_type": "code",
   "execution_count": 93,
   "metadata": {},
   "outputs": [],
   "source": [
    "#Append method modifies the ORIGINAL list and doesnt return anything. \n",
    "\n",
    "\n",
    "x = []\n",
    "\n",
    "for i in range(5):\n",
    "    x.append(i)   \n",
    "    \n",
    "    "
   ]
  },
  {
   "cell_type": "code",
   "execution_count": 95,
   "metadata": {},
   "outputs": [
    {
     "name": "stdout",
     "output_type": "stream",
     "text": [
      "2435269079232\n"
     ]
    }
   ],
   "source": [
    "a = id(y)\n",
    "print (a)"
   ]
  },
  {
   "cell_type": "code",
   "execution_count": 96,
   "metadata": {},
   "outputs": [
    {
     "name": "stdout",
     "output_type": "stream",
     "text": [
      "[1, 2, 3, 4, 5, 6, 7, 8, 9, 10]\n"
     ]
    }
   ],
   "source": [
    "x = [1,2,3,4]\n",
    "y = x + [5,6,7,8]\n",
    "\n",
    "a = id(y)\n",
    "y += [9,10]\n",
    "b = id(y)\n",
    "print(y)\n",
    "\n",
    "z += x  \n"
   ]
  },
  {
   "cell_type": "code",
   "execution_count": 97,
   "metadata": {},
   "outputs": [
    {
     "name": "stdout",
     "output_type": "stream",
     "text": [
      "2435287167488 2435287167488\n"
     ]
    }
   ],
   "source": [
    "print(a, b)"
   ]
  },
  {
   "cell_type": "code",
   "execution_count": 98,
   "metadata": {},
   "outputs": [
    {
     "name": "stdout",
     "output_type": "stream",
     "text": [
      "None\n",
      "['a', 'b', 'c', 'd', 'e', 'f', 'g', 'h', 'i', ['i', 'j'], 'ij', ('i', 'j'), 'Try this out']\n"
     ]
    }
   ],
   "source": [
    "lst6 = lst5.append('Try this out')\n",
    "\n",
    "print(lst6)\n",
    "print(lst5)"
   ]
  },
  {
   "cell_type": "code",
   "execution_count": null,
   "metadata": {},
   "outputs": [],
   "source": [
    "#If you recall, while performing operations like strip, center, rjust etc on string - the methods would return NEW string\n",
    "# objects. But in lists we CAN modifiy the original list. Why is this so?"
   ]
  },
  {
   "cell_type": "markdown",
   "metadata": {},
   "source": [
    "##### Because Strings are immutable datatypes while lists are mutable."
   ]
  },
  {
   "cell_type": "code",
   "execution_count": null,
   "metadata": {},
   "outputs": [],
   "source": [
    "#Before we move on to more methods which can be performded on the list datatype, I would like to illustrate 1 neat trick\n",
    "# and 1 special syntax for use with lists(and some other derived datatypes)"
   ]
  },
  {
   "cell_type": "code",
   "execution_count": 99,
   "metadata": {},
   "outputs": [
    {
     "name": "stdout",
     "output_type": "stream",
     "text": [
      "['a', 'b', 'c', 'd', 'e', 'f', 'g', 'h', 'i', 'j']\n",
      "a\n",
      "b\n",
      "c\n",
      "d\n",
      "e\n",
      "f\n",
      "g\n",
      "h\n",
      "i\n",
      "j\n"
     ]
    }
   ],
   "source": [
    "#A neat trick which is very commonly used is to use a range function to get the index numbers of the items in a list.\n",
    "\n",
    "#If you recall, the range object returns a range <object> with numbers in a sequence with specified parameters. \n",
    "#We also know that lists support indexing. \n",
    "#And that lists and range both support iteration.\n",
    "\n",
    "#We can use this to get the index numbers of each element inside a list. \n",
    "\n",
    "lst1 = list('abcdefghij')\n",
    "print(lst1)\n",
    "\n",
    "for element in lst1:\n",
    "    print(element)\n",
    "    \n"
   ]
  },
  {
   "cell_type": "code",
   "execution_count": 100,
   "metadata": {},
   "outputs": [
    {
     "name": "stdout",
     "output_type": "stream",
     "text": [
      "0\n",
      "1\n",
      "2\n",
      "3\n",
      "4\n",
      "5\n",
      "6\n",
      "7\n",
      "8\n",
      "9\n"
     ]
    }
   ],
   "source": [
    "#However, if I only wanted the index numbers of each of the elements in the lst1?\n",
    "\n",
    "for indexno in range(10):  #Here length of lst1 is 10\n",
    "    print(indexno)"
   ]
  },
  {
   "cell_type": "code",
   "execution_count": 101,
   "metadata": {},
   "outputs": [
    {
     "name": "stdout",
     "output_type": "stream",
     "text": [
      "0\n",
      "1\n",
      "2\n",
      "3\n",
      "4\n",
      "5\n",
      "6\n",
      "7\n",
      "8\n",
      "9\n"
     ]
    }
   ],
   "source": [
    "# We could simplify this, since we have learnt that length function returns the length of a list\n",
    "\n",
    "for indexno in range(len(lst1)):\n",
    "    print(indexno)"
   ]
  },
  {
   "cell_type": "code",
   "execution_count": null,
   "metadata": {},
   "outputs": [],
   "source": [
    "# And since we know that indexing works on lists, to get each element of the lst1 I could use indexing to get the element\n",
    "# at that position. \n",
    "print(lst1)"
   ]
  },
  {
   "cell_type": "code",
   "execution_count": 102,
   "metadata": {},
   "outputs": [
    {
     "name": "stdout",
     "output_type": "stream",
     "text": [
      "a\n",
      "b\n",
      "c\n",
      "d\n",
      "e\n",
      "f\n",
      "g\n",
      "h\n",
      "i\n",
      "j\n"
     ]
    }
   ],
   "source": [
    "for idxE in range(len(lst1)):\n",
    "    print(lst1[idxE])"
   ]
  },
  {
   "cell_type": "code",
   "execution_count": 103,
   "metadata": {},
   "outputs": [
    {
     "name": "stdout",
     "output_type": "stream",
     "text": [
      "18\n",
      "21\n",
      "31\n",
      "12\n"
     ]
    }
   ],
   "source": [
    "# But why go in a round about way to get the element at a certain position of a list?\n",
    "# Sometimes we need to work on an element in a list(or any other sequential datatype) based on their position in the list.\n",
    "\n",
    "lst1 = [17,20, 30, 11]\n",
    "\n",
    "#Add 1 to every element in lst1 and print it. \n",
    "\n",
    "for elem in lst1:\n",
    "    print(elem+1)\n",
    "    \n",
    "#Great! Problem solved."
   ]
  },
  {
   "cell_type": "code",
   "execution_count": 7,
   "metadata": {},
   "outputs": [],
   "source": [
    "#Add 1 to every 2ND element in lst1.\n",
    "\n",
    "lst1 = [17,20, 30, 11]"
   ]
  },
  {
   "cell_type": "code",
   "execution_count": 104,
   "metadata": {},
   "outputs": [
    {
     "name": "stdout",
     "output_type": "stream",
     "text": [
      "Index number we are working on 0.\n",
      "Original value of element at that index position. 17.\n",
      "New output = 18.\n",
      "-----------------------------\n",
      "Index number we are working on 2.\n",
      "Original value of element at that index position. 30.\n",
      "New output = 31.\n",
      "-----------------------------\n"
     ]
    }
   ],
   "source": [
    "for elem in range(0,len(lst1),2):\n",
    "    print(f'Index number we are working on {elem}.')\n",
    "    print(f'Original value of element at that index position. {lst1[elem]}.')\n",
    "    print(f'New output = {lst1[elem]+1}.\\n-----------------------------')"
   ]
  },
  {
   "cell_type": "code",
   "execution_count": 105,
   "metadata": {},
   "outputs": [
    {
     "name": "stdout",
     "output_type": "stream",
     "text": [
      "[17, 20, 30, 11]\n"
     ]
    }
   ],
   "source": [
    "print(lst1)"
   ]
  },
  {
   "cell_type": "code",
   "execution_count": 13,
   "metadata": {},
   "outputs": [
    {
     "name": "stdout",
     "output_type": "stream",
     "text": [
      "[17, 20, 30, 11]\n",
      "18\n",
      "[17, 20, 30, 11]\n",
      "21\n",
      "[17, 20, 30, 11]\n",
      "31\n",
      "[17, 20, 30, 11]\n",
      "12\n"
     ]
    }
   ],
   "source": [
    "for i in range(len(lst1)):\n",
    "    print(lst1)\n",
    "    print(lst1[i]+1)"
   ]
  },
  {
   "cell_type": "code",
   "execution_count": 8,
   "metadata": {},
   "outputs": [
    {
     "name": "stdout",
     "output_type": "stream",
     "text": [
      "[18, 21, 31, 12]\n"
     ]
    }
   ],
   "source": [
    "# Add 1 to the elements in lst 1 using a for loop. You can use a new list. Fairly easy?\n",
    "\n",
    "lst2 = []\n",
    "\n",
    "for x in lst1:\n",
    "    lst2.append(x+1)\n",
    "\n",
    "print(lst2)"
   ]
  },
  {
   "cell_type": "code",
   "execution_count": null,
   "metadata": {},
   "outputs": [],
   "source": []
  },
  {
   "cell_type": "code",
   "execution_count": 106,
   "metadata": {},
   "outputs": [],
   "source": [
    "# # Now lets try the same thing. But we cannot use a new list. \n",
    "\n",
    "# lst1 = [17,20, 30, 11]\n",
    "\n",
    "# for x in lst1:\n",
    "#     lst1.append(x+1)\n",
    "    \n",
    "# print(lst1)"
   ]
  },
  {
   "cell_type": "code",
   "execution_count": null,
   "metadata": {},
   "outputs": [],
   "source": [
    "#Note how this throws us into an infinite loop? Every time we append an item to lst1 - the length of list 1 grows and the\n",
    "#for loop continues to have to add 1 to the new elements created. So, thats out!"
   ]
  },
  {
   "cell_type": "code",
   "execution_count": 107,
   "metadata": {},
   "outputs": [
    {
     "name": "stdout",
     "output_type": "stream",
     "text": [
      "18\n",
      "21\n",
      "31\n",
      "12\n",
      "[17, 20, 30, 11]\n"
     ]
    }
   ],
   "source": [
    "# #How about if we try to change the value of the elements of lst1 in place? Try to reassign the value?\n",
    "\n",
    "lst1 = [17,20, 30, 11]\n",
    "\n",
    "for x in lst1:\n",
    "    x += 1\n",
    "    print(x)\n",
    "print(lst1)\n",
    "\n",
    "#Oops! We did update new values to temporary variable x, but that did us no good - we could not assign that value to \n",
    "# the list we were running the for loop on. But if we were to assign the new value of x to the index position of lst1\n",
    "# that would solve our problem right?\n"
   ]
  },
  {
   "cell_type": "code",
   "execution_count": 108,
   "metadata": {},
   "outputs": [
    {
     "name": "stdout",
     "output_type": "stream",
     "text": [
      "[18, 21, 31, 12]\n"
     ]
    }
   ],
   "source": [
    "#We could individually assign the values of the list based on their index position. \n",
    "\n",
    "lst1[0] += 1\n",
    "lst1[1] += 1\n",
    "lst1[2] += 1\n",
    "lst1[3] += 1\n",
    "\n",
    "print(lst1)"
   ]
  },
  {
   "cell_type": "code",
   "execution_count": 109,
   "metadata": {},
   "outputs": [
    {
     "name": "stdout",
     "output_type": "stream",
     "text": [
      "[18, 21, 31, 12]\n"
     ]
    }
   ],
   "source": [
    "#However using the concept of index positions, item assigment(since list is mutable) and the range function, we are able\n",
    "# to accomplish this easily.\n",
    "\n",
    "lst1 = [17,20,30,11]\n",
    "\n",
    "for x in range(len(lst1)):\n",
    "    lst1[x] += 1\n",
    "    \n",
    "print(lst1)"
   ]
  },
  {
   "cell_type": "code",
   "execution_count": null,
   "metadata": {},
   "outputs": [],
   "source": [
    "# So, important takeaways from this excercise of using range functions with lists:\n",
    "\n",
    "# 1. We can use the range function to act as a proxy for the index numbers of a list.\n",
    "\n",
    "### PLEASE PLEASE understand that the range function is NOT a function that returns the index numbers of a list. What it \n",
    "# returns is a range of numbers(elements) between specified parameters. We then use this range object as a proxy for \n",
    "# index numbers of a list. There is a distinction between these two and it has taken me hours with individual\n",
    "# students making them unlearn and relearn their understanding of this idea. \n",
    "\n",
    "# 2. We can use the index numbers of a list, when we cannot (or do not want to) work on the elements of a list directly,\n",
    "# but need to perform operations on their index positions. \n"
   ]
  },
  {
   "cell_type": "code",
   "execution_count": 14,
   "metadata": {},
   "outputs": [
    {
     "name": "stdout",
     "output_type": "stream",
     "text": [
      " May Twelfth Batch Is A Great Batch\n"
     ]
    }
   ],
   "source": [
    "str1 = ' may twelfth batch is a great batch'\n",
    "\n",
    "str2 = ''\n",
    "\n",
    "for x in range(len(str1)):\n",
    "    if str1[x-1] == \" \":\n",
    "        str2 += str1[x].upper()\n",
    "    else:\n",
    "        str2 += str1[x]\n",
    "print(str2)"
   ]
  },
  {
   "cell_type": "code",
   "execution_count": 15,
   "metadata": {},
   "outputs": [
    {
     "name": "stdout",
     "output_type": "stream",
     "text": [
      "[17, 20, 30, 11]\n"
     ]
    }
   ],
   "source": [
    "# A cool syntax to use with lists is called list comprehension. It is short form of a for loop with lists. \n",
    "print(lst1)"
   ]
  },
  {
   "cell_type": "code",
   "execution_count": 16,
   "metadata": {},
   "outputs": [
    {
     "name": "stdout",
     "output_type": "stream",
     "text": [
      "[18, 21, 31, 12]\n"
     ]
    }
   ],
   "source": [
    "lst2 = [x+1 for x in lst1]\n",
    "\n",
    "print(lst2)"
   ]
  },
  {
   "cell_type": "code",
   "execution_count": 17,
   "metadata": {},
   "outputs": [
    {
     "name": "stdout",
     "output_type": "stream",
     "text": [
      "[18, 21, 31, 12]\n"
     ]
    }
   ],
   "source": [
    "lst3 = []\n",
    "for x in lst1:\n",
    "    lst3.append(x+1)\n",
    "print(lst3)\n",
    "    "
   ]
  },
  {
   "cell_type": "code",
   "execution_count": 18,
   "metadata": {},
   "outputs": [
    {
     "name": "stdout",
     "output_type": "stream",
     "text": [
      "['a!', 'b!', 'c!', 'd!', 'e!', 'f!']\n"
     ]
    }
   ],
   "source": [
    "#It returns a new list object based using the for loop in one line of efficient easy code. \n",
    "\n",
    "#it works on any iterable. \n",
    "\n",
    "str1 = 'abcdef'\n",
    "lst3 = [x+'!' for x in str1]\n",
    "print(lst3)"
   ]
  },
  {
   "cell_type": "code",
   "execution_count": 20,
   "metadata": {},
   "outputs": [
    {
     "name": "stdout",
     "output_type": "stream",
     "text": [
      "[2, 12, 12, 24, 18]\n"
     ]
    }
   ],
   "source": [
    "# We can use the if and else conditions along with a list comprehension. \n",
    "\n",
    "lst4 = [1,12,11,24,17]\n",
    "\n",
    "lst5 = [x + 1 if x%2 == 1 else x for x in lst4]\n",
    "\n",
    "print(lst5)"
   ]
  },
  {
   "cell_type": "code",
   "execution_count": 21,
   "metadata": {},
   "outputs": [
    {
     "name": "stdout",
     "output_type": "stream",
     "text": [
      "[1, 12, 11, 24, 17]\n"
     ]
    }
   ],
   "source": [
    "print(lst4)"
   ]
  },
  {
   "cell_type": "code",
   "execution_count": 114,
   "metadata": {},
   "outputs": [
    {
     "name": "stdout",
     "output_type": "stream",
     "text": [
      "[2, 12, 18]\n"
     ]
    }
   ],
   "source": [
    "lst6 = [x+1 for x in lst4 if x%2 == 1]\n",
    "\n",
    "print(lst6)"
   ]
  },
  {
   "cell_type": "code",
   "execution_count": null,
   "metadata": {},
   "outputs": [],
   "source": [
    "#Note importantly how if we are using both if and else then if else condition comes before the for loop otherwise if only using if\n",
    "# condition this comes after teh for loop. \n",
    "# Also note that do not specify the else condition then for elements that do not satisfy the if condition, nothing is done\n",
    "# and they are not included in the new list. \n",
    "\n"
   ]
  },
  {
   "cell_type": "code",
   "execution_count": 115,
   "metadata": {},
   "outputs": [
    {
     "name": "stdout",
     "output_type": "stream",
     "text": [
      "[18, 21, 31, 12]\n"
     ]
    }
   ],
   "source": [
    "print(lst1)"
   ]
  },
  {
   "cell_type": "code",
   "execution_count": 116,
   "metadata": {},
   "outputs": [
    {
     "name": "stdout",
     "output_type": "stream",
     "text": [
      "18\n",
      "12\n",
      "12\n"
     ]
    }
   ],
   "source": [
    "\n",
    "for x in lst1:\n",
    "    if x%2 == 0:\n",
    "        print(x)\n",
    "\n",
    "    if x%4 == 0:\n",
    "        print(x)"
   ]
  },
  {
   "cell_type": "code",
   "execution_count": 117,
   "metadata": {},
   "outputs": [
    {
     "name": "stdout",
     "output_type": "stream",
     "text": [
      "[2, 12, 12, 24, 18]\n",
      "[13, 13, 25]\n"
     ]
    }
   ],
   "source": [
    "# You can use multiple if statements in the list comprehension.\n",
    "\n",
    "print(lst5)\n",
    "\n",
    "lst7 = [x+1 for x in lst5 if x%2 ==0 if x%4==0]\n",
    "print(lst7)\n",
    "\n",
    "# The expressions that satisfy all the if conditions will be output to the new list. \n",
    "\n",
    "#However, you cannot use multiple if statements with an else statement. There is a workaround to this which we will \n",
    "# discuss when discussing loops and conditional statements further in the course. "
   ]
  },
  {
   "cell_type": "code",
   "execution_count": 118,
   "metadata": {},
   "outputs": [],
   "source": [
    "#At the time of discussing loops, we shall also look at nested for loops for normal lists and also their use in list\n",
    "# comprehension. "
   ]
  },
  {
   "cell_type": "code",
   "execution_count": 119,
   "metadata": {},
   "outputs": [
    {
     "name": "stdout",
     "output_type": "stream",
     "text": [
      "[0, 1, 2, 3, 4, 5, 6, 7, 8, 9]\n"
     ]
    }
   ],
   "source": [
    "#So, from what we have learnt we can easily use the range function to return a list of numbers to us.\n",
    "\n",
    "# normal for loop. \n",
    "\n",
    "lst = []\n",
    "for x in range(10):\n",
    "    lst.append(x)\n",
    "    \n",
    "print(lst)\n",
    "    "
   ]
  },
  {
   "cell_type": "code",
   "execution_count": 120,
   "metadata": {},
   "outputs": [
    {
     "name": "stdout",
     "output_type": "stream",
     "text": [
      "[50, 52, 54, 56, 58, 60, 62, 64, 66, 68]\n"
     ]
    }
   ],
   "source": [
    "\n",
    "\n",
    "lst = []\n",
    "for x in range(50,70,2):\n",
    "    lst.append(x)\n",
    "    \n",
    "print(lst)"
   ]
  },
  {
   "cell_type": "code",
   "execution_count": 121,
   "metadata": {},
   "outputs": [
    {
     "name": "stdout",
     "output_type": "stream",
     "text": [
      "[0, 1, 2, 3, 4, 5, 6, 7, 8, 9, 10, 11, 12, 13, 14, 15, 16, 17, 18, 19]\n"
     ]
    }
   ],
   "source": [
    "#And using list comprehension\n",
    "\n",
    "lst = [x for x in range(20)]\n",
    "print(lst)"
   ]
  },
  {
   "cell_type": "code",
   "execution_count": 122,
   "metadata": {},
   "outputs": [
    {
     "name": "stdout",
     "output_type": "stream",
     "text": [
      "[50, 52, 54, 56, 58, 60, 62, 64, 66, 68]\n"
     ]
    }
   ],
   "source": [
    "lst = [x for x in range(50,70,2)]\n",
    "print(lst)"
   ]
  },
  {
   "cell_type": "code",
   "execution_count": 123,
   "metadata": {},
   "outputs": [
    {
     "name": "stdout",
     "output_type": "stream",
     "text": [
      "[0, 1, 2, 3, 4, 5, 6, 7, 8, 9, 10, 11, 12, 13, 14, 15, 16, 17, 18, 19]\n",
      "[0, 1, 2, 3, 4, 5, 6, 7, 8, 9, 10, 11, 12, 13, 14, 15, 16, 17, 18, 19, 50, 52, 54, 56, 58, 60, 62, 64, 66, 68]\n"
     ]
    }
   ],
   "source": [
    "#Note how using list comprehension - I did not have to reassign variable lst to a new empty list? What would happen in\n",
    "# the normal for loop if I were to not reassign a new empty list to lst? \n",
    "\n",
    "lst = []\n",
    "\n",
    "for x in range(20):\n",
    "    lst.append(x)\n",
    "print(lst)\n",
    "\n",
    "for x in range(50,70,2):\n",
    "    lst.append(x)\n",
    "\n",
    "print(lst)"
   ]
  },
  {
   "cell_type": "code",
   "execution_count": 124,
   "metadata": {},
   "outputs": [
    {
     "name": "stdout",
     "output_type": "stream",
     "text": [
      "[0, 1, 2, 3, 4, 5, 6, 7, 8, 9, 10, 11, 12, 13, 14, 15, 16, 17, 18, 19]\n"
     ]
    }
   ],
   "source": [
    "#While the above examples were just to understand the use and differences between for loops with lists and list\n",
    "# comprehension, the easiest way to actually create the above lists would be: \n",
    "\n",
    "lst = list(range(20))\n",
    "\n",
    "print(lst)"
   ]
  },
  {
   "cell_type": "code",
   "execution_count": null,
   "metadata": {},
   "outputs": [],
   "source": [
    "lst = list(range(50,70,2))\n",
    "print(lst)"
   ]
  },
  {
   "cell_type": "code",
   "execution_count": null,
   "metadata": {},
   "outputs": [],
   "source": [
    "# You would probably use for and lists or list comprehensions to perform much more complex tasks than just creating\n",
    "# a list of numbers. "
   ]
  },
  {
   "cell_type": "code",
   "execution_count": null,
   "metadata": {},
   "outputs": [],
   "source": [
    "# Delete, remove and pop - Uses and differences in Python\n",
    "\n",
    "# Delete is a Python keyword and works on deleting any Python object."
   ]
  },
  {
   "cell_type": "code",
   "execution_count": 125,
   "metadata": {},
   "outputs": [
    {
     "name": "stdout",
     "output_type": "stream",
     "text": [
      "[1, 2, 3, 4, 5, 6, 7, 8, 9]\n"
     ]
    }
   ],
   "source": [
    "lst = list(range(1,10))\n",
    "\n",
    "print(lst)"
   ]
  },
  {
   "cell_type": "code",
   "execution_count": 126,
   "metadata": {},
   "outputs": [
    {
     "name": "stdout",
     "output_type": "stream",
     "text": [
      "[1, 2, 3, 4, 5, 6, 7, 8, 9]\n"
     ]
    }
   ],
   "source": [
    "print(lst)"
   ]
  },
  {
   "cell_type": "code",
   "execution_count": 128,
   "metadata": {},
   "outputs": [
    {
     "name": "stdout",
     "output_type": "stream",
     "text": [
      "[1, 2, 4, 5, 6, 7, 8, 9]\n"
     ]
    }
   ],
   "source": [
    "# With lists and list indexing it will remove the element at specified index position of the list\n",
    "\n",
    "del(lst[2])\n",
    "print(lst)\n",
    "\n",
    "#Note here how it deleted the object at the 2nd index position and not the value 2 inside the list."
   ]
  },
  {
   "cell_type": "code",
   "execution_count": 129,
   "metadata": {},
   "outputs": [
    {
     "ename": "NameError",
     "evalue": "name 'lst' is not defined",
     "output_type": "error",
     "traceback": [
      "\u001b[1;31m---------------------------------------------------------------------------\u001b[0m",
      "\u001b[1;31mNameError\u001b[0m                                 Traceback (most recent call last)",
      "\u001b[1;32m<ipython-input-129-3adeb8159ffc>\u001b[0m in \u001b[0;36m<module>\u001b[1;34m\u001b[0m\n\u001b[0;32m      3\u001b[0m \u001b[1;32mdel\u001b[0m\u001b[1;33m(\u001b[0m\u001b[0mlst\u001b[0m\u001b[1;33m)\u001b[0m\u001b[1;33m\u001b[0m\u001b[1;33m\u001b[0m\u001b[0m\n\u001b[0;32m      4\u001b[0m \u001b[1;33m\u001b[0m\u001b[0m\n\u001b[1;32m----> 5\u001b[1;33m \u001b[0mprint\u001b[0m\u001b[1;33m(\u001b[0m\u001b[0mlst\u001b[0m\u001b[1;33m)\u001b[0m\u001b[1;33m\u001b[0m\u001b[1;33m\u001b[0m\u001b[0m\n\u001b[0m",
      "\u001b[1;31mNameError\u001b[0m: name 'lst' is not defined"
     ]
    }
   ],
   "source": [
    "# With no index number provided it will delete the whole list object. \n",
    "\n",
    "del(lst)\n",
    "\n",
    "print(lst)\n"
   ]
  },
  {
   "cell_type": "code",
   "execution_count": 130,
   "metadata": {},
   "outputs": [
    {
     "name": "stdout",
     "output_type": "stream",
     "text": [
      "[1, 2, 54, 55, 56, 57, 58, 60, 100, 111]\n"
     ]
    }
   ],
   "source": [
    "lst = [1, 2, 54, 55, 56, 57, 58, 60, 100, 111]\n",
    "print(lst)"
   ]
  },
  {
   "cell_type": "code",
   "execution_count": 131,
   "metadata": {},
   "outputs": [],
   "source": [
    "del(lst[2:4])"
   ]
  },
  {
   "cell_type": "code",
   "execution_count": 132,
   "metadata": {},
   "outputs": [
    {
     "name": "stdout",
     "output_type": "stream",
     "text": [
      "[1, 2, 56, 57, 58, 60, 100, 111]\n"
     ]
    }
   ],
   "source": [
    "print(lst)"
   ]
  },
  {
   "cell_type": "code",
   "execution_count": 133,
   "metadata": {},
   "outputs": [
    {
     "name": "stdout",
     "output_type": "stream",
     "text": [
      "[1, 2, 3, 4, 5, 6, 7, 8, 9, 20]\n",
      "10\n"
     ]
    }
   ],
   "source": [
    "lst = list(range(1,10))\n",
    "\n",
    "lst.append(20)\n",
    "print(lst)\n",
    "\n",
    "print(len(lst))"
   ]
  },
  {
   "cell_type": "code",
   "execution_count": 134,
   "metadata": {},
   "outputs": [
    {
     "ename": "IndexError",
     "evalue": "list assignment index out of range",
     "output_type": "error",
     "traceback": [
      "\u001b[1;31m---------------------------------------------------------------------------\u001b[0m",
      "\u001b[1;31mIndexError\u001b[0m                                Traceback (most recent call last)",
      "\u001b[1;32m<ipython-input-134-70664d746492>\u001b[0m in \u001b[0;36m<module>\u001b[1;34m\u001b[0m\n\u001b[1;32m----> 1\u001b[1;33m \u001b[1;32mdel\u001b[0m\u001b[1;33m(\u001b[0m\u001b[0mlst\u001b[0m\u001b[1;33m[\u001b[0m\u001b[1;36m20\u001b[0m\u001b[1;33m]\u001b[0m\u001b[1;33m)\u001b[0m\u001b[1;33m\u001b[0m\u001b[1;33m\u001b[0m\u001b[0m\n\u001b[0m\u001b[0;32m      2\u001b[0m \u001b[1;33m\u001b[0m\u001b[0m\n\u001b[0;32m      3\u001b[0m \u001b[1;31m#Note here how we get an IndexError - since len of list is only 10\u001b[0m\u001b[1;33m\u001b[0m\u001b[1;33m\u001b[0m\u001b[1;33m\u001b[0m\u001b[0m\n",
      "\u001b[1;31mIndexError\u001b[0m: list assignment index out of range"
     ]
    }
   ],
   "source": [
    "del(lst[20])\n",
    "\n",
    "#Note here how we get an IndexError - since len of list is only 10"
   ]
  },
  {
   "cell_type": "code",
   "execution_count": 135,
   "metadata": {},
   "outputs": [
    {
     "name": "stdout",
     "output_type": "stream",
     "text": [
      "[1, 2, 3, 4, 5, 6, 7, 8, 9]\n"
     ]
    }
   ],
   "source": [
    "lst = list(range(1,10))\n",
    "print(lst)"
   ]
  },
  {
   "cell_type": "code",
   "execution_count": 22,
   "metadata": {},
   "outputs": [],
   "source": [
    "lst1 = [1,2,3,4]\n",
    "lst2 = [5,6,7,8]\n",
    "\n",
    "del(lst1, lst2)\n",
    "\n"
   ]
  },
  {
   "cell_type": "code",
   "execution_count": 23,
   "metadata": {},
   "outputs": [
    {
     "ename": "NameError",
     "evalue": "name 'lst1' is not defined",
     "output_type": "error",
     "traceback": [
      "\u001b[1;31m---------------------------------------------------------------------------\u001b[0m",
      "\u001b[1;31mNameError\u001b[0m                                 Traceback (most recent call last)",
      "\u001b[1;32m<ipython-input-23-11e7a8a8aec1>\u001b[0m in \u001b[0;36m<module>\u001b[1;34m\u001b[0m\n\u001b[1;32m----> 1\u001b[1;33m \u001b[0mprint\u001b[0m\u001b[1;33m(\u001b[0m\u001b[0mlst1\u001b[0m\u001b[1;33m)\u001b[0m\u001b[1;33m\u001b[0m\u001b[1;33m\u001b[0m\u001b[0m\n\u001b[0m",
      "\u001b[1;31mNameError\u001b[0m: name 'lst1' is not defined"
     ]
    }
   ],
   "source": [
    "print(lst1)"
   ]
  },
  {
   "cell_type": "code",
   "execution_count": 24,
   "metadata": {},
   "outputs": [
    {
     "ename": "NameError",
     "evalue": "name 'lst2' is not defined",
     "output_type": "error",
     "traceback": [
      "\u001b[1;31m---------------------------------------------------------------------------\u001b[0m",
      "\u001b[1;31mNameError\u001b[0m                                 Traceback (most recent call last)",
      "\u001b[1;32m<ipython-input-24-7bdd547aff67>\u001b[0m in \u001b[0;36m<module>\u001b[1;34m\u001b[0m\n\u001b[1;32m----> 1\u001b[1;33m \u001b[0mprint\u001b[0m\u001b[1;33m(\u001b[0m\u001b[0mlst2\u001b[0m\u001b[1;33m)\u001b[0m\u001b[1;33m\u001b[0m\u001b[1;33m\u001b[0m\u001b[0m\n\u001b[0m",
      "\u001b[1;31mNameError\u001b[0m: name 'lst2' is not defined"
     ]
    }
   ],
   "source": [
    "print(lst2)"
   ]
  },
  {
   "cell_type": "code",
   "execution_count": 139,
   "metadata": {},
   "outputs": [
    {
     "name": "stdout",
     "output_type": "stream",
     "text": [
      "[1, 2, 3, 1001, 2002, 4]\n"
     ]
    }
   ],
   "source": [
    "x = 1001\n",
    "y = 2002\n",
    "\n",
    "lst1 = [1,2,3,x, y, 4]\n",
    "\n",
    "print(lst1)"
   ]
  },
  {
   "cell_type": "code",
   "execution_count": 140,
   "metadata": {},
   "outputs": [
    {
     "name": "stdout",
     "output_type": "stream",
     "text": [
      "[1, 2, 3, 2002, 4]\n"
     ]
    }
   ],
   "source": [
    "del(lst1[3])\n",
    "\n",
    "print(lst1)"
   ]
  },
  {
   "cell_type": "code",
   "execution_count": 141,
   "metadata": {},
   "outputs": [
    {
     "name": "stdout",
     "output_type": "stream",
     "text": [
      "1001\n"
     ]
    }
   ],
   "source": [
    "print(x)\n",
    "\n",
    "#Note how the object x is deleted from list but not from memory."
   ]
  },
  {
   "cell_type": "code",
   "execution_count": 142,
   "metadata": {},
   "outputs": [
    {
     "ename": "NameError",
     "evalue": "name 'x' is not defined",
     "output_type": "error",
     "traceback": [
      "\u001b[1;31m---------------------------------------------------------------------------\u001b[0m",
      "\u001b[1;31mNameError\u001b[0m                                 Traceback (most recent call last)",
      "\u001b[1;32m<ipython-input-142-6d63e897d7a1>\u001b[0m in \u001b[0;36m<module>\u001b[1;34m\u001b[0m\n\u001b[0;32m      1\u001b[0m \u001b[1;32mdel\u001b[0m\u001b[1;33m(\u001b[0m\u001b[0mx\u001b[0m\u001b[1;33m)\u001b[0m\u001b[1;33m\u001b[0m\u001b[1;33m\u001b[0m\u001b[0m\n\u001b[1;32m----> 2\u001b[1;33m \u001b[0mprint\u001b[0m\u001b[1;33m(\u001b[0m\u001b[0mx\u001b[0m\u001b[1;33m)\u001b[0m\u001b[1;33m\u001b[0m\u001b[1;33m\u001b[0m\u001b[0m\n\u001b[0m",
      "\u001b[1;31mNameError\u001b[0m: name 'x' is not defined"
     ]
    }
   ],
   "source": [
    "del(x)\n",
    "print(x)"
   ]
  },
  {
   "cell_type": "code",
   "execution_count": 143,
   "metadata": {},
   "outputs": [
    {
     "name": "stdout",
     "output_type": "stream",
     "text": [
      "[1, 2, 3, 2002, 4, 1001]\n"
     ]
    }
   ],
   "source": [
    "x = 1001\n",
    "\n",
    "lst1.append(x)\n",
    "print(lst1)"
   ]
  },
  {
   "cell_type": "code",
   "execution_count": 144,
   "metadata": {},
   "outputs": [
    {
     "ename": "NameError",
     "evalue": "name 'x' is not defined",
     "output_type": "error",
     "traceback": [
      "\u001b[1;31m---------------------------------------------------------------------------\u001b[0m",
      "\u001b[1;31mNameError\u001b[0m                                 Traceback (most recent call last)",
      "\u001b[1;32m<ipython-input-144-6d63e897d7a1>\u001b[0m in \u001b[0;36m<module>\u001b[1;34m\u001b[0m\n\u001b[0;32m      1\u001b[0m \u001b[1;32mdel\u001b[0m\u001b[1;33m(\u001b[0m\u001b[0mx\u001b[0m\u001b[1;33m)\u001b[0m\u001b[1;33m\u001b[0m\u001b[1;33m\u001b[0m\u001b[0m\n\u001b[1;32m----> 2\u001b[1;33m \u001b[0mprint\u001b[0m\u001b[1;33m(\u001b[0m\u001b[0mx\u001b[0m\u001b[1;33m)\u001b[0m\u001b[1;33m\u001b[0m\u001b[1;33m\u001b[0m\u001b[0m\n\u001b[0m",
      "\u001b[1;31mNameError\u001b[0m: name 'x' is not defined"
     ]
    }
   ],
   "source": [
    "del(x)\n",
    "print(x)"
   ]
  },
  {
   "cell_type": "code",
   "execution_count": 145,
   "metadata": {},
   "outputs": [
    {
     "name": "stdout",
     "output_type": "stream",
     "text": [
      "[1, 2, 3, 2002, 4, 1001]\n"
     ]
    }
   ],
   "source": [
    "print(lst1)\n",
    "\n",
    "#Note how even though object is supposedly removed from memory, since there is another reference to it inside the list\n",
    "#object, it remains in memory i.e. it has not been deleted. "
   ]
  },
  {
   "cell_type": "code",
   "execution_count": 146,
   "metadata": {},
   "outputs": [
    {
     "name": "stdout",
     "output_type": "stream",
     "text": [
      "[1, 2, 3, 4, 5, 6, 7, 8, 9]\n"
     ]
    }
   ],
   "source": [
    "#Delete can also be used to delete a range of objects from the list\n",
    "\n",
    "lst1 = list(range(1,10))\n",
    "print(lst1)"
   ]
  },
  {
   "cell_type": "code",
   "execution_count": 147,
   "metadata": {},
   "outputs": [
    {
     "name": "stdout",
     "output_type": "stream",
     "text": [
      "[1, 5, 6, 7, 8, 9]\n"
     ]
    }
   ],
   "source": [
    "del(lst1[1:4])\n",
    "\n",
    "print(lst1)"
   ]
  },
  {
   "cell_type": "code",
   "execution_count": 148,
   "metadata": {},
   "outputs": [
    {
     "name": "stdout",
     "output_type": "stream",
     "text": [
      "[1, 3, 4, 5, 6, 7, 8, 9]\n"
     ]
    }
   ],
   "source": [
    "lst.remove(2)\n",
    "\n",
    "print(lst)"
   ]
  },
  {
   "cell_type": "code",
   "execution_count": 149,
   "metadata": {},
   "outputs": [],
   "source": [
    "#Note here - how remove method removed the element with the value of 2. "
   ]
  },
  {
   "cell_type": "code",
   "execution_count": 150,
   "metadata": {},
   "outputs": [
    {
     "name": "stdout",
     "output_type": "stream",
     "text": [
      "[1, 2, 3, 4, 5, 6, 7, 8, 9, 20]\n"
     ]
    }
   ],
   "source": [
    "lst = list(range(1,10))\n",
    "lst.append(20)\n",
    "print(lst)"
   ]
  },
  {
   "cell_type": "code",
   "execution_count": 151,
   "metadata": {},
   "outputs": [
    {
     "name": "stdout",
     "output_type": "stream",
     "text": [
      "[1, 2, 3, 4, 5, 6, 7, 8, 9]\n"
     ]
    }
   ],
   "source": [
    "lst.remove(20)\n",
    "\n",
    "print(lst)"
   ]
  },
  {
   "cell_type": "code",
   "execution_count": 152,
   "metadata": {},
   "outputs": [
    {
     "ename": "SyntaxError",
     "evalue": "invalid syntax (<ipython-input-152-e98f62562d0e>, line 7)",
     "output_type": "error",
     "traceback": [
      "\u001b[1;36m  File \u001b[1;32m\"<ipython-input-152-e98f62562d0e>\"\u001b[1;36m, line \u001b[1;32m7\u001b[0m\n\u001b[1;33m    lst_del = del(lst[2])\u001b[0m\n\u001b[1;37m              ^\u001b[0m\n\u001b[1;31mSyntaxError\u001b[0m\u001b[1;31m:\u001b[0m invalid syntax\n"
     ]
    }
   ],
   "source": [
    "# Note here how lst was able to remove the object with the value 20 from the list. \n",
    "\n",
    "#Both delete and remove perform the operation on the original list and return nothing. \n",
    "\n",
    "lst = list(range(1,10))\n",
    "\n",
    "lst_del = del(lst[2])\n",
    "\n",
    "print(lst)\n",
    "print(lst_del)\n",
    "\n",
    "#Since del is a keyword and not a method(function) on the list datatype - we immediately get a syntax error. You cannot\n",
    "#assign a keyword operation to a variable. "
   ]
  },
  {
   "cell_type": "code",
   "execution_count": 153,
   "metadata": {},
   "outputs": [
    {
     "ename": "TypeError",
     "evalue": "remove() takes exactly one argument (2 given)",
     "output_type": "error",
     "traceback": [
      "\u001b[1;31m---------------------------------------------------------------------------\u001b[0m",
      "\u001b[1;31mTypeError\u001b[0m                                 Traceback (most recent call last)",
      "\u001b[1;32m<ipython-input-153-0e645f0debcf>\u001b[0m in \u001b[0;36m<module>\u001b[1;34m\u001b[0m\n\u001b[0;32m      1\u001b[0m \u001b[0mlst\u001b[0m \u001b[1;33m=\u001b[0m \u001b[0mlist\u001b[0m\u001b[1;33m(\u001b[0m\u001b[0mrange\u001b[0m\u001b[1;33m(\u001b[0m\u001b[1;36m1\u001b[0m\u001b[1;33m,\u001b[0m\u001b[1;36m10\u001b[0m\u001b[1;33m)\u001b[0m\u001b[1;33m)\u001b[0m\u001b[1;33m\u001b[0m\u001b[1;33m\u001b[0m\u001b[0m\n\u001b[0;32m      2\u001b[0m \u001b[1;33m\u001b[0m\u001b[0m\n\u001b[1;32m----> 3\u001b[1;33m \u001b[0mlst\u001b[0m\u001b[1;33m.\u001b[0m\u001b[0mremove\u001b[0m\u001b[1;33m(\u001b[0m\u001b[1;36m2\u001b[0m\u001b[1;33m,\u001b[0m\u001b[1;36m5\u001b[0m\u001b[1;33m)\u001b[0m\u001b[1;33m\u001b[0m\u001b[1;33m\u001b[0m\u001b[0m\n\u001b[0m\u001b[0;32m      4\u001b[0m \u001b[1;33m\u001b[0m\u001b[0m\n",
      "\u001b[1;31mTypeError\u001b[0m: remove() takes exactly one argument (2 given)"
     ]
    }
   ],
   "source": [
    "lst = list(range(1,10))\n",
    "\n",
    "lst.remove(2,5)\n",
    "\n"
   ]
  },
  {
   "cell_type": "code",
   "execution_count": null,
   "metadata": {},
   "outputs": [],
   "source": []
  },
  {
   "cell_type": "code",
   "execution_count": 154,
   "metadata": {},
   "outputs": [
    {
     "name": "stdout",
     "output_type": "stream",
     "text": [
      "[1, 2, 3, 4, 5, 6, 7, 8, 9]\n"
     ]
    }
   ],
   "source": [
    "lst = list(range(1,10))\n",
    "print(lst)"
   ]
  },
  {
   "cell_type": "code",
   "execution_count": 155,
   "metadata": {},
   "outputs": [
    {
     "name": "stdout",
     "output_type": "stream",
     "text": [
      "[1, 3, 4, 5, 6, 7, 8, 9]\n"
     ]
    }
   ],
   "source": [
    "lst_del = lst.remove(2)\n",
    "\n",
    "print(lst)"
   ]
  },
  {
   "cell_type": "code",
   "execution_count": 156,
   "metadata": {},
   "outputs": [
    {
     "name": "stdout",
     "output_type": "stream",
     "text": [
      "None\n"
     ]
    }
   ],
   "source": [
    "print(lst_del)"
   ]
  },
  {
   "cell_type": "code",
   "execution_count": null,
   "metadata": {},
   "outputs": [],
   "source": [
    "#As expected, the remove operation has been performed on the original list and this is reflected in the original list. \n",
    "# However, since the remove method on lists does not return anything, we receive None as contained in variable lst_del."
   ]
  },
  {
   "cell_type": "code",
   "execution_count": null,
   "metadata": {},
   "outputs": [],
   "source": []
  },
  {
   "cell_type": "code",
   "execution_count": 25,
   "metadata": {},
   "outputs": [
    {
     "name": "stdout",
     "output_type": "stream",
     "text": [
      "[1, 2, 3, 4, 5, 6, 7, 8, 9]\n"
     ]
    }
   ],
   "source": [
    "#Pop method on lists in Python removes the element and the specified index value in a list. It takes one parameter, index \n",
    "# value of the element to be removed. If parameter left empty it defaults to -1 or the last element in the list. \n",
    "\n",
    "lst = list(range(1,10))\n",
    "print(lst)"
   ]
  },
  {
   "cell_type": "code",
   "execution_count": 26,
   "metadata": {},
   "outputs": [
    {
     "name": "stdout",
     "output_type": "stream",
     "text": [
      "[1, 2, 3, 4, 5, 6, 7, 8]\n"
     ]
    }
   ],
   "source": [
    "lst.pop()\n",
    "\n",
    "print(lst)"
   ]
  },
  {
   "cell_type": "code",
   "execution_count": 27,
   "metadata": {},
   "outputs": [
    {
     "name": "stdout",
     "output_type": "stream",
     "text": [
      "[1, 2, 4, 5, 6, 7, 8]\n"
     ]
    }
   ],
   "source": [
    "lst.pop(2)\n",
    "print(lst)"
   ]
  },
  {
   "cell_type": "code",
   "execution_count": 28,
   "metadata": {},
   "outputs": [
    {
     "name": "stdout",
     "output_type": "stream",
     "text": [
      "[1, 2, 3, 4, 5, 6, 7, 8, 9]\n",
      "List after popping [1, 2, 3, 4, 5, 6, 7, 8]\n"
     ]
    }
   ],
   "source": [
    "#However, the pop method removes the element from the original list AND returns the element that was at the specified index\n",
    "# and was removed. \n",
    "\n",
    "lst = list(range(1,10))\n",
    "print(lst)\n",
    "popped = lst.pop()\n",
    "\n",
    "print(f'List after popping {lst}')"
   ]
  },
  {
   "cell_type": "code",
   "execution_count": 29,
   "metadata": {},
   "outputs": [
    {
     "name": "stdout",
     "output_type": "stream",
     "text": [
      "Popped = 9.\n"
     ]
    }
   ],
   "source": [
    "print(f'Popped = {popped}.')"
   ]
  },
  {
   "cell_type": "code",
   "execution_count": 30,
   "metadata": {},
   "outputs": [
    {
     "name": "stdout",
     "output_type": "stream",
     "text": [
      "[1, 2, 3, 4, 5, 6, 7, 8, 9]\n"
     ]
    }
   ],
   "source": [
    "lst = list(range(1,10))\n",
    "print(lst)\n",
    "popped = lst.pop(5)"
   ]
  },
  {
   "cell_type": "code",
   "execution_count": 31,
   "metadata": {},
   "outputs": [
    {
     "name": "stdout",
     "output_type": "stream",
     "text": [
      "List after popping [1, 2, 3, 4, 5, 7, 8, 9]\n",
      "Popped = 6.\n"
     ]
    }
   ],
   "source": [
    "print(f'List after popping {lst}')\n",
    "print(f'Popped = {popped}.')"
   ]
  },
  {
   "cell_type": "code",
   "execution_count": 32,
   "metadata": {},
   "outputs": [],
   "source": [
    "#Sort method on Lists - sorts the given list in ascending order (by default). For strings does comparison by unicode values\n",
    "# character by character"
   ]
  },
  {
   "cell_type": "code",
   "execution_count": 33,
   "metadata": {},
   "outputs": [
    {
     "name": "stdout",
     "output_type": "stream",
     "text": [
      "[9, 11, 12, 17, 18, 39]\n",
      "None\n"
     ]
    }
   ],
   "source": [
    "lst1 = [17, 12, 39, 11, 9, 18]\n",
    "\n",
    "lst2 = lst1.sort()\n",
    "print(lst1)\n",
    "print(lst2)"
   ]
  },
  {
   "cell_type": "code",
   "execution_count": 34,
   "metadata": {},
   "outputs": [
    {
     "name": "stdout",
     "output_type": "stream",
     "text": [
      "['Python', 'XYZ', 'a']\n"
     ]
    }
   ],
   "source": [
    "#As we can see - the sort is performed on original list which is modified and there is no return value. \n",
    "\n",
    "lst2 = ['a', 'Python', 'XYZ']\n",
    "\n",
    "lst2.sort()\n",
    "print(lst2)\n",
    "\n",
    "#Note here how Python and XYZ are before the alphabet a. This is because the unicode values of capital P and X are lower\n",
    "#than the unicode value for a. "
   ]
  },
  {
   "cell_type": "code",
   "execution_count": 35,
   "metadata": {},
   "outputs": [
    {
     "name": "stdout",
     "output_type": "stream",
     "text": [
      "['Python', 'a', 'xYZ']\n"
     ]
    }
   ],
   "source": [
    "lst2 = ['a', 'Python', 'xYZ']\n",
    "\n",
    "lst2.sort()\n",
    "print(lst2)"
   ]
  },
  {
   "cell_type": "code",
   "execution_count": null,
   "metadata": {},
   "outputs": [],
   "source": [
    "#Sort can take in 2 Parameters. \n",
    "\n",
    "#1. Key - This can take in a new function to calculate the values to be sorted on. Optional\n",
    "#2. reverse - Is False by default but if set to True - then will return the list in descending order. \n",
    "\n",
    "lst2 = [17, 24, 1001, 2123, 3, 82]\n",
    "\n",
    "lst2.sort(reverse = True)\n",
    "\n",
    "print(lst2)"
   ]
  },
  {
   "cell_type": "code",
   "execution_count": null,
   "metadata": {},
   "outputs": [],
   "source": [
    "lst3 = ['a', 'Python', 'xYZ']\n",
    "\n",
    "lst3.sort(reverse = True)\n",
    "\n",
    "print(lst3)"
   ]
  },
  {
   "cell_type": "code",
   "execution_count": 36,
   "metadata": {},
   "outputs": [
    {
     "name": "stdout",
     "output_type": "stream",
     "text": [
      "['a', 'xYZ', 'Python']\n"
     ]
    }
   ],
   "source": [
    "#The keyword can take any type of function to evaluate the elements. E.g. len() function. \n",
    "\n",
    "lst4 = ['a', 'Python', 'xYZ']\n",
    "\n",
    "lst4.sort(key = len)\n",
    "\n",
    "print(lst4)"
   ]
  },
  {
   "cell_type": "code",
   "execution_count": 37,
   "metadata": {},
   "outputs": [
    {
     "name": "stdout",
     "output_type": "stream",
     "text": [
      "['Python', 'xYZ', 'a']\n"
     ]
    }
   ],
   "source": [
    "lst4.sort(reverse = True, key = len)\n",
    "print(lst4)"
   ]
  },
  {
   "cell_type": "code",
   "execution_count": 38,
   "metadata": {},
   "outputs": [
    {
     "ename": "TypeError",
     "evalue": "'<' not supported between instances of 'int' and 'str'",
     "output_type": "error",
     "traceback": [
      "\u001b[1;31m---------------------------------------------------------------------------\u001b[0m",
      "\u001b[1;31mTypeError\u001b[0m                                 Traceback (most recent call last)",
      "\u001b[1;32m<ipython-input-38-be4bb07d67c4>\u001b[0m in \u001b[0;36m<module>\u001b[1;34m\u001b[0m\n\u001b[0;32m      1\u001b[0m \u001b[0mlst4x\u001b[0m \u001b[1;33m=\u001b[0m \u001b[1;33m[\u001b[0m\u001b[1;34m'a'\u001b[0m\u001b[1;33m,\u001b[0m \u001b[1;36m100\u001b[0m\u001b[1;33m,\u001b[0m \u001b[1;34m'Python'\u001b[0m\u001b[1;33m,\u001b[0m \u001b[1;34m'xYZ'\u001b[0m\u001b[1;33m,\u001b[0m \u001b[1;36m21\u001b[0m\u001b[1;33m]\u001b[0m\u001b[1;33m\u001b[0m\u001b[1;33m\u001b[0m\u001b[0m\n\u001b[0;32m      2\u001b[0m \u001b[1;33m\u001b[0m\u001b[0m\n\u001b[1;32m----> 3\u001b[1;33m \u001b[0mlst4x\u001b[0m\u001b[1;33m.\u001b[0m\u001b[0msort\u001b[0m\u001b[1;33m(\u001b[0m\u001b[1;33m)\u001b[0m\u001b[1;33m\u001b[0m\u001b[1;33m\u001b[0m\u001b[0m\n\u001b[0m\u001b[0;32m      4\u001b[0m \u001b[0mprint\u001b[0m\u001b[1;33m(\u001b[0m\u001b[0mlst4x\u001b[0m\u001b[1;33m)\u001b[0m\u001b[1;33m\u001b[0m\u001b[1;33m\u001b[0m\u001b[0m\n\u001b[0;32m      5\u001b[0m \u001b[1;33m\u001b[0m\u001b[0m\n",
      "\u001b[1;31mTypeError\u001b[0m: '<' not supported between instances of 'int' and 'str'"
     ]
    }
   ],
   "source": [
    "lst4x = ['a', 100, 'Python', 'xYZ', 21]\n",
    "\n",
    "lst4x.sort()\n",
    "print(lst4x)\n",
    "\n",
    "#Sort not supported between different datatypes. "
   ]
  },
  {
   "cell_type": "code",
   "execution_count": 39,
   "metadata": {},
   "outputs": [
    {
     "name": "stdout",
     "output_type": "stream",
     "text": [
      "['a', 'Python', 'xYZ']\n",
      "['Python', 'a', 'xYZ']\n"
     ]
    }
   ],
   "source": [
    "#However, as noticed - the sort method on lists - modifies the original list and does not return anything. \n",
    "#If original list order needs to be maintained and/or new object with items sorted is required, use the Python built-in \n",
    "#method sorted()\n",
    "\n",
    "lst5 = ['a', 'Python', 'xYZ']\n",
    "\n",
    "lst6 = sorted(lst5)\n",
    "\n",
    "print(lst5)\n",
    "print(lst6)"
   ]
  },
  {
   "cell_type": "code",
   "execution_count": 40,
   "metadata": {},
   "outputs": [
    {
     "name": "stdout",
     "output_type": "stream",
     "text": [
      "['Python', 'xYZ', 'a']\n"
     ]
    }
   ],
   "source": [
    "#Sorted built-in method takes in 3 parameters.\n",
    "\n",
    "#1. Iterable to be sorted - In this case, a list - Mandatory\n",
    "#2. Reverse = Set to False as default and returns the list sorted with the elements in ascending order. If set to True, will\n",
    "# return the elements in descending order. \n",
    "#3. Key = A different function on which to evaluate the elements and sort them accordingly. \n",
    "\n",
    "lst7 = sorted(lst6, key = len, reverse = True)\n",
    "\n",
    "print(lst7)"
   ]
  },
  {
   "cell_type": "code",
   "execution_count": 41,
   "metadata": {},
   "outputs": [
    {
     "name": "stdout",
     "output_type": "stream",
     "text": [
      "4\n"
     ]
    }
   ],
   "source": [
    "def funct_sq_rt(a):\n",
    "    return a%5\n",
    "\n",
    "print(funct_sq_rt(24))\n"
   ]
  },
  {
   "cell_type": "code",
   "execution_count": 42,
   "metadata": {},
   "outputs": [
    {
     "name": "stdout",
     "output_type": "stream",
     "text": [
      "[16, 12, 18]\n"
     ]
    }
   ],
   "source": [
    "lst3 = [18,12,16]\n",
    "\n",
    "lst4 = sorted(lst3, key = funct_sq_rt)\n",
    "\n",
    "print(lst4)"
   ]
  },
  {
   "cell_type": "code",
   "execution_count": 43,
   "metadata": {},
   "outputs": [
    {
     "name": "stdout",
     "output_type": "stream",
     "text": [
      "['a', 'b', 'c', 'd', 'e', 'f', 'g', 'h', 'i', 'j']\n",
      "['j', 'i', 'h', 'g', 'f', 'e', 'd', 'c', 'b', 'a']\n"
     ]
    }
   ],
   "source": [
    "#Reverse method on lists.  \n",
    "\n",
    "lst = list('abcdefghij')\n",
    "\n",
    "print(lst)\n",
    "\n",
    "lst.reverse()\n",
    "print(lst)"
   ]
  },
  {
   "cell_type": "code",
   "execution_count": 44,
   "metadata": {},
   "outputs": [
    {
     "name": "stdout",
     "output_type": "stream",
     "text": [
      "['a', 'b', 'c', 'd', 'e', 'f', 'g', 'h', 'i', 'j']\n"
     ]
    }
   ],
   "source": [
    "#It performs the operation on the original list object and returns nothing.\n",
    "\n",
    "lst = list('abcdefghij')\n",
    "print(lst)"
   ]
  },
  {
   "cell_type": "code",
   "execution_count": 45,
   "metadata": {},
   "outputs": [
    {
     "name": "stdout",
     "output_type": "stream",
     "text": [
      "['j', 'i', 'h', 'g', 'f', 'e', 'd', 'c', 'b', 'a']\n",
      "None\n"
     ]
    }
   ],
   "source": [
    "lst1 = lst.reverse()\n",
    "print(lst)\n",
    "print(lst1)"
   ]
  },
  {
   "cell_type": "code",
   "execution_count": 46,
   "metadata": {},
   "outputs": [
    {
     "name": "stdout",
     "output_type": "stream",
     "text": [
      "['a', 'b', 'c', 'd', 'e', 'f', 'g', 'h', 'i', 'j']\n",
      "['a', 'b', 'c', 'd', 'e', 'f', 'g', 'h', 'i', 'j']\n",
      "['j', 'i', 'h', 'g', 'f', 'e', 'd', 'c', 'b', 'a']\n"
     ]
    }
   ],
   "source": [
    "#Reversed iterator. If however, the original list order has to be maintained and/or a new object with elements reversed is\n",
    "# required - use the reversed built-in function of Python to create a reversed iterator object and using list comprehension\n",
    "# create a new list. \n",
    "\n",
    "lst = list('abcdefghij')\n",
    "print(lst)\n",
    "\n",
    "lst2 = [x for x in reversed(lst)]\n",
    "\n",
    "print(lst)\n",
    "print(lst2)"
   ]
  },
  {
   "cell_type": "code",
   "execution_count": 48,
   "metadata": {},
   "outputs": [
    {
     "name": "stdout",
     "output_type": "stream",
     "text": [
      "<list_reverseiterator object at 0x00000195F0FE93D0>\n",
      "<class 'list_reverseiterator'>\n"
     ]
    }
   ],
   "source": [
    "rev_it = reversed(lst)\n",
    "\n",
    "print(rev_it)\n",
    "print(type(rev_it))"
   ]
  },
  {
   "cell_type": "code",
   "execution_count": null,
   "metadata": {},
   "outputs": [],
   "source": []
  },
  {
   "cell_type": "code",
   "execution_count": 130,
   "metadata": {},
   "outputs": [
    {
     "name": "stdout",
     "output_type": "stream",
     "text": [
      "[10, 20, 30, 40, 50, 60, 70, 80, 90]\n"
     ]
    }
   ],
   "source": [
    "#Aliasing and cloning\n",
    "\n",
    "x = [x * 10 for x in range(1,10)]\n",
    "print(x)"
   ]
  },
  {
   "cell_type": "code",
   "execution_count": 131,
   "metadata": {},
   "outputs": [
    {
     "name": "stdout",
     "output_type": "stream",
     "text": [
      "[10, 20, 30, 40, 50, 60, 70, 80, 90]\n",
      "True\n",
      "1743505169152 1743505169152\n"
     ]
    }
   ],
   "source": [
    "#Aliasing on lists - is insitialisng a new variable name to the same list object stored in the memory. \n",
    "\n",
    "y = x\n",
    "\n",
    "print(y)\n",
    "print(x is y)\n",
    "print(id(x), id(y))\n",
    "\n",
    "#When we do y = x, all we are doing is adding a new variable name which is pointing to the same object stored in variable.\n",
    "# This is called aliasing"
   ]
  },
  {
   "cell_type": "code",
   "execution_count": 128,
   "metadata": {},
   "outputs": [
    {
     "name": "stdout",
     "output_type": "stream",
     "text": [
      "100\n"
     ]
    }
   ],
   "source": [
    "y = 100\n",
    "\n",
    "x = y\n",
    "\n",
    "print(x)"
   ]
  },
  {
   "cell_type": "code",
   "execution_count": 132,
   "metadata": {},
   "outputs": [
    {
     "name": "stdout",
     "output_type": "stream",
     "text": [
      "[10, 20, 35, 40, 50, 60, 70, 80, 90]\n",
      "[10, 20, 35, 40, 50, 60, 70, 80, 90]\n"
     ]
    }
   ],
   "source": [
    "#Any changes to x will also be reflected on y. \n",
    "\n",
    "x[2] = 35\n",
    "\n",
    "print(x)\n",
    "print(y)"
   ]
  },
  {
   "cell_type": "code",
   "execution_count": 133,
   "metadata": {},
   "outputs": [
    {
     "name": "stdout",
     "output_type": "stream",
     "text": [
      "True\n",
      "1743505169152 1743505169152\n"
     ]
    }
   ],
   "source": [
    "print(x is y)\n",
    "print(id(x), id(y))"
   ]
  },
  {
   "cell_type": "code",
   "execution_count": 134,
   "metadata": {},
   "outputs": [
    {
     "name": "stdout",
     "output_type": "stream",
     "text": [
      "[10, 20, 35, 40, 50, 60, 70, 80, 90]\n",
      "[10, 20, 35, 40, 50, 60, 70, 80, 90]\n"
     ]
    }
   ],
   "source": [
    "#If a new object with the same elements as x is required, we have two options: \n",
    "\n",
    "#The by now familiar and popular - slicing\n",
    "\n",
    "y = x[:]\n",
    "\n",
    "print(x)\n",
    "print(y)"
   ]
  },
  {
   "cell_type": "code",
   "execution_count": 135,
   "metadata": {},
   "outputs": [
    {
     "name": "stdout",
     "output_type": "stream",
     "text": [
      "False\n",
      "1743505169152 1743504894272\n"
     ]
    }
   ],
   "source": [
    "print(x is y)\n",
    "print(id(x), id(y))"
   ]
  },
  {
   "cell_type": "code",
   "execution_count": 136,
   "metadata": {},
   "outputs": [
    {
     "name": "stdout",
     "output_type": "stream",
     "text": [
      "[10, 20, 37, 40, 50, 60, 70, 80, 90]\n",
      "[10, 20, 35, 40, 50, 60, 70, 80, 90]\n"
     ]
    }
   ],
   "source": [
    "#Changing x (or y) does not affect the other\n",
    "\n",
    "x[2] = 37\n",
    "\n",
    "print(x)\n",
    "print(y)"
   ]
  },
  {
   "cell_type": "code",
   "execution_count": 137,
   "metadata": {},
   "outputs": [
    {
     "name": "stdout",
     "output_type": "stream",
     "text": [
      "[10, 20, 37, 40, 50, 60, 70, 80, 90]\n",
      "[10, 20, 37, 40, 50, 60, 70, 80, 90]\n"
     ]
    }
   ],
   "source": [
    "y = x[:]\n",
    "\n",
    "print(x)\n",
    "print(y)"
   ]
  },
  {
   "cell_type": "code",
   "execution_count": 138,
   "metadata": {},
   "outputs": [
    {
     "name": "stdout",
     "output_type": "stream",
     "text": [
      "[10, 20, 37, 40, 50, 60, 70, 80, 90]\n",
      "[10, 20, 73, 40, 50, 60, 70, 80, 90]\n"
     ]
    }
   ],
   "source": [
    "y[2] = 73\n",
    "\n",
    "print(x)\n",
    "print(y)"
   ]
  },
  {
   "cell_type": "code",
   "execution_count": 139,
   "metadata": {},
   "outputs": [
    {
     "name": "stdout",
     "output_type": "stream",
     "text": [
      "[1020, 2010, 'Python$']\n",
      "[1020, 2010]\n"
     ]
    }
   ],
   "source": [
    "x = [1020, 2010, 'Python$']\n",
    "\n",
    "y = x[:2]\n",
    "\n",
    "print(x)\n",
    "print(y)"
   ]
  },
  {
   "cell_type": "code",
   "execution_count": 140,
   "metadata": {},
   "outputs": [
    {
     "name": "stdout",
     "output_type": "stream",
     "text": [
      "False\n",
      "1743506003200 1743506004608\n"
     ]
    }
   ],
   "source": [
    "print(x is y)\n",
    "print(id(x), id(y))"
   ]
  },
  {
   "cell_type": "code",
   "execution_count": 142,
   "metadata": {},
   "outputs": [
    {
     "name": "stdout",
     "output_type": "stream",
     "text": [
      "1743505998320\n",
      "1743505998320\n"
     ]
    }
   ],
   "source": [
    "print(id(x[0]))\n",
    "print(id(y[0]))"
   ]
  },
  {
   "cell_type": "code",
   "execution_count": 143,
   "metadata": {},
   "outputs": [
    {
     "name": "stdout",
     "output_type": "stream",
     "text": [
      "[0, 10, 20, 30, 40, 50, 60, 70, 80, 90]\n",
      "[0, 10, 20, 30, 40, 50, 60, 70, 80, 90]\n"
     ]
    }
   ],
   "source": [
    "#Another way is to use the copy method in List class/datatype.\n",
    "\n",
    "x = [x*10 for x in range(10)]\n",
    "y = x.copy()\n",
    "\n",
    "print(x)\n",
    "print(y)"
   ]
  },
  {
   "cell_type": "code",
   "execution_count": 144,
   "metadata": {},
   "outputs": [
    {
     "name": "stdout",
     "output_type": "stream",
     "text": [
      "False\n",
      "1743505891776 1743505892096\n"
     ]
    }
   ],
   "source": [
    "print(x is y)\n",
    "print(id(x), id(y))"
   ]
  },
  {
   "cell_type": "code",
   "execution_count": 145,
   "metadata": {},
   "outputs": [
    {
     "name": "stdout",
     "output_type": "stream",
     "text": [
      "[0, 10, 37, 30, 40, 50, 60, 70, 80, 90]\n",
      "[0, 10, 20, 30, 40, 50, 60, 70, 80, 90]\n"
     ]
    }
   ],
   "source": [
    "x[2] = 37\n",
    "\n",
    "print(x)\n",
    "print(y)"
   ]
  },
  {
   "cell_type": "code",
   "execution_count": 147,
   "metadata": {},
   "outputs": [
    {
     "name": "stdout",
     "output_type": "stream",
     "text": [
      "[0, 10, 37, 30, 40, 50, 60, 70, 80, 90]\n",
      "[0, 10, 37, 30, 40, 50, 60, 70, 80, 90]\n"
     ]
    }
   ],
   "source": [
    "y = x.copy()\n",
    "\n",
    "print(x)\n",
    "print(y)"
   ]
  },
  {
   "cell_type": "code",
   "execution_count": 148,
   "metadata": {},
   "outputs": [
    {
     "name": "stdout",
     "output_type": "stream",
     "text": [
      "[0, 10, 37, 30, 40, 50, 60, 70, 80, 90]\n",
      "[0, 10, 73, 30, 40, 50, 60, 70, 80, 90]\n"
     ]
    }
   ],
   "source": [
    "y[2] = 73\n",
    "\n",
    "print(x)\n",
    "print(y)"
   ]
  },
  {
   "cell_type": "code",
   "execution_count": 149,
   "metadata": {},
   "outputs": [
    {
     "name": "stdout",
     "output_type": "stream",
     "text": [
      "[1000, '#', ['a', 100, 200, 2]]\n",
      "[1000, '#', ['a', 100, 200, 2]]\n"
     ]
    }
   ],
   "source": [
    "x = [1000, '#', ['a',100, 200,2]]\n",
    "y = x\n",
    "\n",
    "print(x)\n",
    "print(y)"
   ]
  },
  {
   "cell_type": "code",
   "execution_count": 150,
   "metadata": {},
   "outputs": [
    {
     "name": "stdout",
     "output_type": "stream",
     "text": [
      "Item at index 0 is 1000.\n",
      "Items in x and y are the same object : True.\n",
      "Item at index 1 is #.\n",
      "Items in x and y are the same object : True.\n",
      "Item at index 2 is ['a', 100, 200, 2].\n",
      "Items in x and y are the same object : True.\n"
     ]
    }
   ],
   "source": [
    "for a in range(len(x)):\n",
    "    print(f'Item at index {a} is {x[a]}.')\n",
    "    print(f'Items in x and y are the same object : {x[a] is y[a]}.')\n"
   ]
  },
  {
   "cell_type": "code",
   "execution_count": 151,
   "metadata": {},
   "outputs": [
    {
     "name": "stdout",
     "output_type": "stream",
     "text": [
      "[1000, '#', ['Python', 100, 200, 2]]\n",
      "[1000, '#', ['Python', 100, 200, 2]]\n"
     ]
    }
   ],
   "source": [
    "x[2][0] ='Python'\n",
    "\n",
    "print(x)\n",
    "print(y)"
   ]
  },
  {
   "cell_type": "code",
   "execution_count": 152,
   "metadata": {},
   "outputs": [
    {
     "name": "stdout",
     "output_type": "stream",
     "text": [
      "[1000, '#', ['a', 100, 200, 2]]\n",
      "[1000, '#', ['a', 100, 200, 2]]\n"
     ]
    }
   ],
   "source": [
    "x = [1000, '#', ['a',100, 200,2]]\n",
    "y = x[:]\n",
    "\n",
    "print(x)\n",
    "print(y)"
   ]
  },
  {
   "cell_type": "code",
   "execution_count": null,
   "metadata": {},
   "outputs": [],
   "source": [
    "for a in range(len(x)):\n",
    "    print(f'Item at index {a} is {x[a]}.')\n",
    "    print(f'Items in x and y are the same object : {x[a] is y[a]}.')\n"
   ]
  },
  {
   "cell_type": "code",
   "execution_count": null,
   "metadata": {},
   "outputs": [],
   "source": [
    "y[1] = '$'\n",
    "\n",
    "print(x)\n",
    "print(y)"
   ]
  },
  {
   "cell_type": "code",
   "execution_count": null,
   "metadata": {},
   "outputs": [],
   "source": [
    "for a in range(len(x)):\n",
    "    print(f'Item at index {a} is {x[a]}.')\n",
    "    print(f'Items in x and y are the same object : {x[a] is y[a]}.')\n"
   ]
  },
  {
   "cell_type": "code",
   "execution_count": null,
   "metadata": {},
   "outputs": [],
   "source": [
    "x = [1000, '#', ['a',100, 200,2]]\n",
    "y = x.copy()\n",
    "\n",
    "print(x)\n",
    "print(y)"
   ]
  },
  {
   "cell_type": "code",
   "execution_count": null,
   "metadata": {},
   "outputs": [],
   "source": [
    "for a in range(len(x)):\n",
    "    print(f'Item at index {a} is {x[a]}.')\n",
    "    print(f'Items in x and y are the same object : {x[a] is y[a]}.')\n"
   ]
  },
  {
   "cell_type": "code",
   "execution_count": null,
   "metadata": {},
   "outputs": [],
   "source": [
    "y[1] = 200\n",
    "\n",
    "print(x)\n",
    "print(y)"
   ]
  },
  {
   "cell_type": "code",
   "execution_count": null,
   "metadata": {},
   "outputs": [],
   "source": [
    "for a in range(len(x)):\n",
    "    print(f'Item at index {a} is {x[a]}.')\n",
    "    print(f'Items in x and y are the same object : {x[a] is y[a]}.')\n"
   ]
  },
  {
   "cell_type": "code",
   "execution_count": null,
   "metadata": {},
   "outputs": [],
   "source": [
    "# The above methods of slicing or using the built in copy function is called copying. \n",
    "\n",
    "# Or more precisely creating a 'Shallow' copy.\n",
    "\n",
    "# Shallow copying does not work on compound objects since for the compound objects(sequential) objects y also stores the\n",
    "# same memory id as the x and changing the object at that memory location in x changes the object at that memory location in y as\n",
    "# well. \n",
    "\n",
    "x = [1000, '#', ['a',100, 200,2]]\n",
    "y = x.copy()\n",
    "print(x)\n",
    "print(y)"
   ]
  },
  {
   "cell_type": "code",
   "execution_count": null,
   "metadata": {},
   "outputs": [],
   "source": [
    "x[2][1] = 1001\n",
    "print(x)\n",
    "print(y)"
   ]
  },
  {
   "cell_type": "code",
   "execution_count": null,
   "metadata": {},
   "outputs": [],
   "source": [
    "import copy\n"
   ]
  },
  {
   "cell_type": "code",
   "execution_count": null,
   "metadata": {},
   "outputs": [],
   "source": [
    "x = [1000,'#', ['a', 100, 200, 2]]\n",
    "\n",
    "y = copy.deepcopy(x)\n",
    "\n",
    "print(x)\n",
    "print(y)\n",
    "x[2][1]=6\n",
    "print(x)\n",
    "print(y)\n"
   ]
  },
  {
   "cell_type": "code",
   "execution_count": null,
   "metadata": {},
   "outputs": [],
   "source": [
    "y[2] = 2001\n",
    "\n",
    "print(x)\n",
    "\n",
    "\n",
    "print(y)"
   ]
  },
  {
   "cell_type": "code",
   "execution_count": null,
   "metadata": {},
   "outputs": [],
   "source": [
    "x = [1,2,3,4, [5,6,7,8]]\n",
    "\n",
    "y = x.copy()\n",
    "\n",
    "z = copy.deepcopy(x)\n",
    "\n",
    "print(x,y,z, sep ='\\n')\n",
    "\n",
    "print(id(x[-1]) is id(z[-1]))\n",
    "\n"
   ]
  },
  {
   "cell_type": "code",
   "execution_count": null,
   "metadata": {},
   "outputs": [],
   "source": [
    "x[1] = 2020\n",
    "\n",
    "print(x)\n",
    "print(y)\n",
    "print(z)"
   ]
  },
  {
   "cell_type": "code",
   "execution_count": null,
   "metadata": {},
   "outputs": [],
   "source": [
    "x[4][1] = 60\n",
    "\n",
    "print(x)\n",
    "print(y)\n",
    "print(z)"
   ]
  },
  {
   "cell_type": "code",
   "execution_count": null,
   "metadata": {},
   "outputs": [],
   "source": [
    "x[2][0] = 'Python'\n",
    "\n",
    "print(x)\n",
    "print(y)\n"
   ]
  },
  {
   "cell_type": "code",
   "execution_count": null,
   "metadata": {},
   "outputs": [],
   "source": []
  },
  {
   "cell_type": "code",
   "execution_count": null,
   "metadata": {},
   "outputs": [],
   "source": [
    "#Note that copy module also has a copy method but the functioning is exactly as the built-in copy method - and it creates\n",
    "# a shallow copy and is rarely used. It MAY be used to highlight that a shallow copy is being created. But even then it is\n",
    "# easier to use the built-in copy method and just comment a '#Shallow copy'"
   ]
  },
  {
   "cell_type": "code",
   "execution_count": null,
   "metadata": {},
   "outputs": [],
   "source": [
    "#Deepcopy on Dictionaries\n",
    "\n",
    "xd = {'a': 100, 'b':{'p': [300, 700, 900]}, 'c':'Python' }\n",
    "\n",
    "yd = copy.deepcopy(xd)\n",
    "\n",
    "xd['a'] = 1001\n",
    "\n",
    "\n",
    "print(xd)\n",
    "print(yd)"
   ]
  },
  {
   "cell_type": "code",
   "execution_count": null,
   "metadata": {},
   "outputs": [],
   "source": [
    "xd['b']['p'][1] = 7001\n",
    "\n",
    "print(xd)\n",
    "print(yd)"
   ]
  },
  {
   "cell_type": "code",
   "execution_count": null,
   "metadata": {},
   "outputs": [],
   "source": [
    "#Deepcopy on Sets\n",
    "\n",
    "xs = {870, 901, 1012, 'Python'}\n",
    "\n",
    "ys = copy.deepcopy(xs)\n",
    "\n",
    "xs.remove(1012)\n",
    "\n",
    "print(xs)\n",
    "print(ys)"
   ]
  },
  {
   "cell_type": "code",
   "execution_count": null,
   "metadata": {},
   "outputs": [],
   "source": [
    "xs.add(2024)\n",
    "\n",
    "print(xs)\n",
    "print(ys)"
   ]
  },
  {
   "cell_type": "code",
   "execution_count": null,
   "metadata": {},
   "outputs": [],
   "source": [
    "#Deepcopy on Tuples\n",
    "\n",
    "xs = ('a', 'b', [300, 500, 800])\n",
    "\n",
    "ys = copy.deepcopy(xs)\n",
    "\n",
    "xs[2][1] = 501\n",
    "\n",
    "print(xs)\n",
    "print(ys)"
   ]
  },
  {
   "cell_type": "code",
   "execution_count": 70,
   "metadata": {},
   "outputs": [
    {
     "name": "stdout",
     "output_type": "stream",
     "text": [
      "[1, 2, 3, 4, 5, 6, 7, 8, 9]\n"
     ]
    }
   ],
   "source": [
    "#Functions for use with list datatype\n",
    "\n",
    "#Sum function\n",
    "lst1 = list(range(1,10))\n",
    "print(lst1)"
   ]
  },
  {
   "cell_type": "code",
   "execution_count": 71,
   "metadata": {},
   "outputs": [
    {
     "name": "stdout",
     "output_type": "stream",
     "text": [
      "45\n"
     ]
    }
   ],
   "source": [
    "x = sum(lst1)\n",
    "print(x)"
   ]
  },
  {
   "cell_type": "code",
   "execution_count": 72,
   "metadata": {},
   "outputs": [
    {
     "name": "stdout",
     "output_type": "stream",
     "text": [
      "[1, 2, 3, 4, 5, 6, 7, 8, 9]\n",
      "1045\n"
     ]
    }
   ],
   "source": [
    "# Sum function in Python can take in two parameters - \n",
    "\n",
    "# 1. The iterable to be summed (e.g. list, tuple, set)\n",
    "# 2. The start - This number will be added to the sum - basically where to start summing from. \n",
    "\n",
    "# All the elements in the iterable must be numbers. \n",
    "print(lst1)\n",
    "x = sum(lst1, 1000)\n",
    "print(x)"
   ]
  },
  {
   "cell_type": "code",
   "execution_count": 73,
   "metadata": {},
   "outputs": [
    {
     "ename": "TypeError",
     "evalue": "unsupported operand type(s) for +: 'int' and 'str'",
     "output_type": "error",
     "traceback": [
      "\u001b[1;31m---------------------------------------------------------------------------\u001b[0m",
      "\u001b[1;31mTypeError\u001b[0m                                 Traceback (most recent call last)",
      "\u001b[1;32m<ipython-input-73-bc5961bf747d>\u001b[0m in \u001b[0;36m<module>\u001b[1;34m\u001b[0m\n\u001b[0;32m      1\u001b[0m \u001b[0my\u001b[0m \u001b[1;33m=\u001b[0m \u001b[1;33m[\u001b[0m\u001b[1;36m101\u001b[0m\u001b[1;33m,\u001b[0m \u001b[1;36m201\u001b[0m\u001b[1;33m,\u001b[0m \u001b[1;34m'Python'\u001b[0m\u001b[1;33m,\u001b[0m \u001b[1;36m1001\u001b[0m\u001b[1;33m]\u001b[0m\u001b[1;33m\u001b[0m\u001b[1;33m\u001b[0m\u001b[0m\n\u001b[0;32m      2\u001b[0m \u001b[1;33m\u001b[0m\u001b[0m\n\u001b[1;32m----> 3\u001b[1;33m \u001b[0mz\u001b[0m \u001b[1;33m=\u001b[0m \u001b[0msum\u001b[0m\u001b[1;33m(\u001b[0m\u001b[0my\u001b[0m\u001b[1;33m)\u001b[0m\u001b[1;33m\u001b[0m\u001b[1;33m\u001b[0m\u001b[0m\n\u001b[0m\u001b[0;32m      4\u001b[0m \u001b[1;33m\u001b[0m\u001b[0m\n\u001b[0;32m      5\u001b[0m \u001b[0mprint\u001b[0m\u001b[1;33m(\u001b[0m\u001b[0mz\u001b[0m\u001b[1;33m)\u001b[0m\u001b[1;33m\u001b[0m\u001b[1;33m\u001b[0m\u001b[0m\n",
      "\u001b[1;31mTypeError\u001b[0m: unsupported operand type(s) for +: 'int' and 'str'"
     ]
    }
   ],
   "source": [
    "y = [101, 201, 'Python', 1001]\n",
    "\n",
    "z = sum(y)\n",
    "\n",
    "print(z)"
   ]
  },
  {
   "cell_type": "code",
   "execution_count": 74,
   "metadata": {},
   "outputs": [
    {
     "name": "stdout",
     "output_type": "stream",
     "text": [
      "[101, 201, 'Python', 1001]\n"
     ]
    }
   ],
   "source": [
    "print(y)"
   ]
  },
  {
   "cell_type": "code",
   "execution_count": 75,
   "metadata": {},
   "outputs": [
    {
     "name": "stdout",
     "output_type": "stream",
     "text": [
      "2\n"
     ]
    }
   ],
   "source": [
    "#Index function. \n",
    "\n",
    "#Returns the first occurrence of the element in the list. Takes 3 parameters\n",
    "\n",
    "#1. The element to be searched.\n",
    "#2. Start - the index number of where to start search from. Optional - defaults to 0 if not provided\n",
    "#3. End - the index number of where to end. Optional - defaults to index number of end of list if not provided.\n",
    "\n",
    "# If the element to be searched is not present - it returns a ValueError\n",
    "\n",
    "print(y.index('Python'))"
   ]
  },
  {
   "cell_type": "code",
   "execution_count": 76,
   "metadata": {},
   "outputs": [
    {
     "name": "stdout",
     "output_type": "stream",
     "text": [
      "2\n"
     ]
    }
   ],
   "source": [
    "x = y.index('Python')\n",
    "\n",
    "print(x)"
   ]
  },
  {
   "cell_type": "code",
   "execution_count": 77,
   "metadata": {},
   "outputs": [
    {
     "name": "stdout",
     "output_type": "stream",
     "text": [
      "2\n"
     ]
    }
   ],
   "source": [
    "x = y.index('Python',2)\n",
    "\n",
    "print(x)"
   ]
  },
  {
   "cell_type": "code",
   "execution_count": 78,
   "metadata": {},
   "outputs": [
    {
     "name": "stdout",
     "output_type": "stream",
     "text": [
      "6\n"
     ]
    }
   ],
   "source": [
    "y = [100,200,'Python',2+3J, 1001, 'abc','Python']\n",
    "\n",
    "x = y.index('Python', 3, 7)\n",
    "\n",
    "print(x)"
   ]
  },
  {
   "cell_type": "code",
   "execution_count": 79,
   "metadata": {},
   "outputs": [
    {
     "name": "stdout",
     "output_type": "stream",
     "text": [
      "[100, 200, 'Python', (2+3j), 1001, 'abc', 'Python']\n"
     ]
    }
   ],
   "source": [
    "print(y)"
   ]
  },
  {
   "cell_type": "code",
   "execution_count": 80,
   "metadata": {},
   "outputs": [
    {
     "ename": "SyntaxError",
     "evalue": "invalid syntax (<ipython-input-80-bb268277298c>, line 1)",
     "output_type": "error",
     "traceback": [
      "\u001b[1;36m  File \u001b[1;32m\"<ipython-input-80-bb268277298c>\"\u001b[1;36m, line \u001b[1;32m1\u001b[0m\n\u001b[1;33m    x = y.index('Python',3)`\u001b[0m\n\u001b[1;37m                           ^\u001b[0m\n\u001b[1;31mSyntaxError\u001b[0m\u001b[1;31m:\u001b[0m invalid syntax\n"
     ]
    }
   ],
   "source": [
    "x = y.index('Python',3)`\n",
    "\n",
    "print(x)"
   ]
  },
  {
   "cell_type": "code",
   "execution_count": 81,
   "metadata": {},
   "outputs": [
    {
     "name": "stdout",
     "output_type": "stream",
     "text": [
      "6\n"
     ]
    }
   ],
   "source": [
    "x = y.index('Python',3,len(y))\n",
    "\n",
    "print(x)"
   ]
  },
  {
   "cell_type": "code",
   "execution_count": 82,
   "metadata": {},
   "outputs": [
    {
     "ename": "SyntaxError",
     "evalue": "invalid syntax (<ipython-input-82-32c2ad5e3f15>, line 1)",
     "output_type": "error",
     "traceback": [
      "\u001b[1;36m  File \u001b[1;32m\"<ipython-input-82-32c2ad5e3f15>\"\u001b[1;36m, line \u001b[1;32m1\u001b[0m\n\u001b[1;33m    x = y.index('Python',,len(y))\u001b[0m\n\u001b[1;37m                         ^\u001b[0m\n\u001b[1;31mSyntaxError\u001b[0m\u001b[1;31m:\u001b[0m invalid syntax\n"
     ]
    }
   ],
   "source": [
    "x = y.index('Python',,len(y))\n",
    "\n",
    "print(x)\n",
    "\n",
    "# As always, without providing the start index, we cannot provide the stop index\n",
    "\n",
    "#Unlike strings - No rindex method."
   ]
  },
  {
   "cell_type": "code",
   "execution_count": 83,
   "metadata": {},
   "outputs": [
    {
     "name": "stdout",
     "output_type": "stream",
     "text": [
      "1\n"
     ]
    }
   ],
   "source": [
    "#Min and Max functions\n",
    "\n",
    "lst1 = [1,2,7,5,11,4]\n",
    "\n",
    "print(min(lst1))\n",
    "\n"
   ]
  },
  {
   "cell_type": "code",
   "execution_count": 84,
   "metadata": {},
   "outputs": [
    {
     "name": "stdout",
     "output_type": "stream",
     "text": [
      "11\n"
     ]
    }
   ],
   "source": [
    "print(max(lst1))"
   ]
  },
  {
   "cell_type": "code",
   "execution_count": 85,
   "metadata": {},
   "outputs": [
    {
     "name": "stdout",
     "output_type": "stream",
     "text": [
      "1\n"
     ]
    }
   ],
   "source": [
    "a = min(lst1)\n",
    "print(a)"
   ]
  },
  {
   "cell_type": "code",
   "execution_count": 86,
   "metadata": {},
   "outputs": [
    {
     "name": "stdout",
     "output_type": "stream",
     "text": [
      "11\n"
     ]
    }
   ],
   "source": [
    "b = max(lst1)\n",
    "print(b)"
   ]
  },
  {
   "cell_type": "code",
   "execution_count": 87,
   "metadata": {},
   "outputs": [
    {
     "name": "stdout",
     "output_type": "stream",
     "text": [
      "Python\n"
     ]
    }
   ],
   "source": [
    "lst_alpha = ['Python', 'a', 'Seventy-Two']\n",
    "\n",
    "print(min(lst_alpha))"
   ]
  },
  {
   "cell_type": "code",
   "execution_count": 88,
   "metadata": {},
   "outputs": [
    {
     "name": "stdout",
     "output_type": "stream",
     "text": [
      "a\n"
     ]
    }
   ],
   "source": [
    "print(max(lst_alpha))"
   ]
  },
  {
   "cell_type": "code",
   "execution_count": 89,
   "metadata": {},
   "outputs": [
    {
     "name": "stdout",
     "output_type": "stream",
     "text": [
      "seventy-two\n"
     ]
    }
   ],
   "source": [
    "#Note while working with strings - that the min/max method calculates the ORDER in which the characters are stored in\n",
    "# ordinal values and checks for the first character (and each subsequent character if tied). Therefore - Capital A is the \n",
    "# lowest and small z is the highest. \n",
    "\n",
    "lst_alpha2 = [\"Python\", 'a', 'seventy-two']\n",
    "\n",
    "print(max(lst_alpha2))"
   ]
  },
  {
   "cell_type": "code",
   "execution_count": 90,
   "metadata": {},
   "outputs": [
    {
     "name": "stdout",
     "output_type": "stream",
     "text": [
      "Python\n"
     ]
    }
   ],
   "source": [
    "lst_alpha3 = ['Python', 'Pithon']\n",
    "\n",
    "print(max(lst_alpha3))"
   ]
  },
  {
   "cell_type": "code",
   "execution_count": 91,
   "metadata": {},
   "outputs": [
    {
     "name": "stdout",
     "output_type": "stream",
     "text": [
      "Qython\n"
     ]
    }
   ],
   "source": [
    "lst_alpha4 = [\"Python\", \"Qython\"]\n",
    "\n",
    "print(max(lst_alpha4))"
   ]
  },
  {
   "cell_type": "code",
   "execution_count": 92,
   "metadata": {},
   "outputs": [
    {
     "ename": "TypeError",
     "evalue": "'<' not supported between instances of 'int' and 'str'",
     "output_type": "error",
     "traceback": [
      "\u001b[1;31m---------------------------------------------------------------------------\u001b[0m",
      "\u001b[1;31mTypeError\u001b[0m                                 Traceback (most recent call last)",
      "\u001b[1;32m<ipython-input-92-8f19e4945021>\u001b[0m in \u001b[0;36m<module>\u001b[1;34m\u001b[0m\n\u001b[0;32m      1\u001b[0m \u001b[0mlst5\u001b[0m \u001b[1;33m=\u001b[0m \u001b[1;33m[\u001b[0m\u001b[1;34m'P'\u001b[0m\u001b[1;33m,\u001b[0m \u001b[1;36m200\u001b[0m\u001b[1;33m,\u001b[0m \u001b[1;36m50\u001b[0m\u001b[1;33m,\u001b[0m \u001b[1;36m75\u001b[0m\u001b[1;33m]\u001b[0m\u001b[1;33m\u001b[0m\u001b[1;33m\u001b[0m\u001b[0m\n\u001b[0;32m      2\u001b[0m \u001b[1;33m\u001b[0m\u001b[0m\n\u001b[1;32m----> 3\u001b[1;33m \u001b[0mprint\u001b[0m\u001b[1;33m(\u001b[0m\u001b[0mmin\u001b[0m\u001b[1;33m(\u001b[0m\u001b[0mlst5\u001b[0m\u001b[1;33m)\u001b[0m\u001b[1;33m)\u001b[0m\u001b[1;33m\u001b[0m\u001b[1;33m\u001b[0m\u001b[0m\n\u001b[0m\u001b[0;32m      4\u001b[0m \u001b[1;33m\u001b[0m\u001b[0m\n\u001b[0;32m      5\u001b[0m \u001b[1;31m#With mixed datatypes the comparison of min and max cannot be performed.\u001b[0m\u001b[1;33m\u001b[0m\u001b[1;33m\u001b[0m\u001b[1;33m\u001b[0m\u001b[0m\n",
      "\u001b[1;31mTypeError\u001b[0m: '<' not supported between instances of 'int' and 'str'"
     ]
    }
   ],
   "source": [
    "lst5 = ['P', 200, 50, 75]\n",
    "\n",
    "print(min(lst5))\n",
    "\n",
    "#With mixed datatypes the comparison of min and max cannot be performed.\n"
   ]
  },
  {
   "cell_type": "code",
   "execution_count": 93,
   "metadata": {},
   "outputs": [
    {
     "name": "stdout",
     "output_type": "stream",
     "text": [
      "3\n"
     ]
    }
   ],
   "source": [
    "#Count method in Lists. Counts the number of times an element occurs in a list. \n",
    "\n",
    "lst= ['P', 200, 50, 75, 200, 'P', 50, 'P', 20]\n",
    "\n",
    "print(lst.count('P'))"
   ]
  },
  {
   "cell_type": "code",
   "execution_count": 94,
   "metadata": {},
   "outputs": [
    {
     "name": "stdout",
     "output_type": "stream",
     "text": [
      "3\n"
     ]
    }
   ],
   "source": [
    "y = lst.count('P')\n",
    "print(y)"
   ]
  },
  {
   "cell_type": "code",
   "execution_count": 95,
   "metadata": {},
   "outputs": [
    {
     "ename": "TypeError",
     "evalue": "count() takes exactly one argument (2 given)",
     "output_type": "error",
     "traceback": [
      "\u001b[1;31m---------------------------------------------------------------------------\u001b[0m",
      "\u001b[1;31mTypeError\u001b[0m                                 Traceback (most recent call last)",
      "\u001b[1;32m<ipython-input-95-a22f6714384c>\u001b[0m in \u001b[0;36m<module>\u001b[1;34m\u001b[0m\n\u001b[0;32m      5\u001b[0m \u001b[1;31m# Returns TypeError if more than one element to count passed into the arguments.\u001b[0m\u001b[1;33m\u001b[0m\u001b[1;33m\u001b[0m\u001b[1;33m\u001b[0m\u001b[0m\n\u001b[0;32m      6\u001b[0m \u001b[1;33m\u001b[0m\u001b[0m\n\u001b[1;32m----> 7\u001b[1;33m \u001b[0my\u001b[0m \u001b[1;33m=\u001b[0m \u001b[0mlst\u001b[0m\u001b[1;33m.\u001b[0m\u001b[0mcount\u001b[0m\u001b[1;33m(\u001b[0m\u001b[1;34m'P'\u001b[0m\u001b[1;33m,\u001b[0m \u001b[1;36m50\u001b[0m\u001b[1;33m)\u001b[0m\u001b[1;33m\u001b[0m\u001b[1;33m\u001b[0m\u001b[0m\n\u001b[0m",
      "\u001b[1;31mTypeError\u001b[0m: count() takes exactly one argument (2 given)"
     ]
    }
   ],
   "source": [
    "#Returns the count as a value so the value can be stored in a variable.\n",
    "\n",
    "#Takes only one parameter - the item to be counted\n",
    "\n",
    "# Returns TypeError if more than one element to count passed into the arguments. \n",
    "\n",
    "y = lst.count('P', 50)"
   ]
  },
  {
   "cell_type": "code",
   "execution_count": 96,
   "metadata": {},
   "outputs": [
    {
     "name": "stdout",
     "output_type": "stream",
     "text": [
      "['P', 200, 50, 75, 200, 'P', 50, 'P', 20]\n"
     ]
    }
   ],
   "source": [
    "#Insert Method on Lists. Inserts item at specified index position in a list. Performs operation on original list and has\n",
    "# no return. \n",
    "\n",
    "#Takes 2 arguments - Both mandatory:\n",
    "#1. Index position to be inserted at. \n",
    "#2. Item to be inserted\n",
    "\n",
    "print(lst)"
   ]
  },
  {
   "cell_type": "code",
   "execution_count": 97,
   "metadata": {},
   "outputs": [
    {
     "name": "stdout",
     "output_type": "stream",
     "text": [
      "['P', 200, 50, 75, 'ABC', 200, 'P', 50, 'P', 20]\n"
     ]
    }
   ],
   "source": [
    "lst.insert(4, 'ABC')\n",
    "\n",
    "print(lst)"
   ]
  },
  {
   "cell_type": "code",
   "execution_count": 98,
   "metadata": {},
   "outputs": [
    {
     "name": "stdout",
     "output_type": "stream",
     "text": [
      "['P', 200, 50, 75, 'ABC', 200, 'P', 'XYZ', 50, 'P', 20]\n",
      "None\n"
     ]
    }
   ],
   "source": [
    "lst1 = lst.insert(7,'XYZ')\n",
    "\n",
    "print(lst)\n",
    "print(lst1)"
   ]
  },
  {
   "cell_type": "code",
   "execution_count": 99,
   "metadata": {},
   "outputs": [
    {
     "ename": "TypeError",
     "evalue": "insert expected 2 arguments, got 3",
     "output_type": "error",
     "traceback": [
      "\u001b[1;31m---------------------------------------------------------------------------\u001b[0m",
      "\u001b[1;31mTypeError\u001b[0m                                 Traceback (most recent call last)",
      "\u001b[1;32m<ipython-input-99-08352bf82f77>\u001b[0m in \u001b[0;36m<module>\u001b[1;34m\u001b[0m\n\u001b[0;32m      1\u001b[0m \u001b[1;31m#Cannot specify more than one index position or item to be inserted at one time.\u001b[0m\u001b[1;33m\u001b[0m\u001b[1;33m\u001b[0m\u001b[1;33m\u001b[0m\u001b[0m\n\u001b[0;32m      2\u001b[0m \u001b[1;33m\u001b[0m\u001b[0m\n\u001b[1;32m----> 3\u001b[1;33m \u001b[0mlst\u001b[0m\u001b[1;33m.\u001b[0m\u001b[0minsert\u001b[0m\u001b[1;33m(\u001b[0m\u001b[1;36m4\u001b[0m\u001b[1;33m,\u001b[0m\u001b[1;36m5\u001b[0m\u001b[1;33m,\u001b[0m\u001b[1;34m'Python'\u001b[0m\u001b[1;33m)\u001b[0m\u001b[1;33m\u001b[0m\u001b[1;33m\u001b[0m\u001b[0m\n\u001b[0m",
      "\u001b[1;31mTypeError\u001b[0m: insert expected 2 arguments, got 3"
     ]
    }
   ],
   "source": [
    "#Cannot specify more than one index position or item to be inserted at one time. \n",
    "\n",
    "lst.insert(4,5,'Python')"
   ]
  },
  {
   "cell_type": "code",
   "execution_count": 100,
   "metadata": {},
   "outputs": [
    {
     "ename": "TypeError",
     "evalue": "insert expected 2 arguments, got 1",
     "output_type": "error",
     "traceback": [
      "\u001b[1;31m---------------------------------------------------------------------------\u001b[0m",
      "\u001b[1;31mTypeError\u001b[0m                                 Traceback (most recent call last)",
      "\u001b[1;32m<ipython-input-100-2e9335fb012a>\u001b[0m in \u001b[0;36m<module>\u001b[1;34m\u001b[0m\n\u001b[0;32m      1\u001b[0m \u001b[1;31m#Also throws a TypeError if only one parameter specified i.e. there is no default index number.\u001b[0m\u001b[1;33m\u001b[0m\u001b[1;33m\u001b[0m\u001b[1;33m\u001b[0m\u001b[0m\n\u001b[1;32m----> 2\u001b[1;33m \u001b[0mlst\u001b[0m\u001b[1;33m.\u001b[0m\u001b[0minsert\u001b[0m\u001b[1;33m(\u001b[0m\u001b[1;34m'Python'\u001b[0m\u001b[1;33m)\u001b[0m\u001b[1;33m\u001b[0m\u001b[1;33m\u001b[0m\u001b[0m\n\u001b[0m",
      "\u001b[1;31mTypeError\u001b[0m: insert expected 2 arguments, got 1"
     ]
    }
   ],
   "source": [
    "#Also throws a TypeError if only one parameter specified i.e. there is no default index number. \n",
    "lst.insert('Python')"
   ]
  },
  {
   "cell_type": "code",
   "execution_count": 101,
   "metadata": {},
   "outputs": [
    {
     "name": "stdout",
     "output_type": "stream",
     "text": [
      "['a', 100, 2001, 10.2, 'XYZ']\n",
      "['b', 'C for Chair', 1132]\n"
     ]
    }
   ],
   "source": [
    "#Extend method on Lists. Extends the list by the elements specified in the parameter. \n",
    "\n",
    "lst1 = ['a', 100, 2001, 10.2, 'XYZ']\n",
    "lst2 = ['b', 'C for Chair', 1132]\n",
    "\n",
    "print(lst1)\n",
    "print(lst2)"
   ]
  },
  {
   "cell_type": "code",
   "execution_count": 102,
   "metadata": {},
   "outputs": [
    {
     "name": "stdout",
     "output_type": "stream",
     "text": [
      "['a', 100, 2001, 10.2, 'XYZ', 'b', 'C for Chair', 1132]\n",
      "['b', 'C for Chair', 1132]\n"
     ]
    }
   ],
   "source": [
    "lst1.extend(lst2)\n",
    "\n",
    "print(lst1)\n",
    "print(lst2)"
   ]
  },
  {
   "cell_type": "code",
   "execution_count": 103,
   "metadata": {},
   "outputs": [
    {
     "name": "stdout",
     "output_type": "stream",
     "text": [
      "['a', 100, 2001, 10.2, 'XYZ', 'b', 'C for Chair', 1132, 'b', 'C for Chair', 1132]\n",
      "None\n"
     ]
    }
   ],
   "source": [
    "#Difference between Concatenation and Extend method. \n",
    "\n",
    "#1. Extend method modifies the original list while concatenation creates a new list object. \n",
    "#2. Extend method can be used between datatypes. Concatenation can only be performed between two lists. \n",
    "\n",
    "lst_x = lst1.extend(lst2)\n",
    "print(lst1)\n",
    "print(lst_x)"
   ]
  },
  {
   "cell_type": "code",
   "execution_count": 104,
   "metadata": {},
   "outputs": [
    {
     "name": "stdout",
     "output_type": "stream",
     "text": [
      "['a', 100, 2001, 10.2, 'XYZ', 'b', 'C for Chair', 1132, 'b', 'C for Chair', 1132, 'p', 'q', 'r', 's']\n"
     ]
    }
   ],
   "source": [
    "lst1.extend('pqrs')\n",
    "\n",
    "print(lst1)"
   ]
  },
  {
   "cell_type": "code",
   "execution_count": 105,
   "metadata": {},
   "outputs": [
    {
     "name": "stdout",
     "output_type": "stream",
     "text": [
      "['a', 100, 2001, 10.2, 'XYZ', 'b', 'C for Chair', 1132, 'b', 'C for Chair', 1132, 'p', 'q', 'r', 's', 'pqrs', 'xyz']\n"
     ]
    }
   ],
   "source": [
    "lst3 = ['pqrs', 'xyz']\n",
    "\n",
    "lst1.extend(lst3)\n",
    "\n",
    "print(lst1)"
   ]
  },
  {
   "cell_type": "code",
   "execution_count": 106,
   "metadata": {},
   "outputs": [
    {
     "name": "stdout",
     "output_type": "stream",
     "text": [
      "['a', 100, 2001, 10.2, 'XYZ', 'b', 'C for Chair', 1132, 'b', 'C for Chair', 1132, 'p', 'q', 'r', 's', 'pqrs', 'xyz', 17, 'Airplane', 'Train']\n"
     ]
    }
   ],
   "source": [
    "#Note how extend treats each of the element in the iterable 'pqrs' as a separate element and adds each of them to the\n",
    "# original list. \n",
    "\n",
    "tup_y = (17, 'Airplane', 'Train')\n",
    "\n",
    "lst1.extend(tup_y)\n",
    "\n",
    "print(lst1)"
   ]
  },
  {
   "cell_type": "code",
   "execution_count": 107,
   "metadata": {},
   "outputs": [
    {
     "ename": "TypeError",
     "evalue": "can only concatenate list (not \"tuple\") to list",
     "output_type": "error",
     "traceback": [
      "\u001b[1;31m---------------------------------------------------------------------------\u001b[0m",
      "\u001b[1;31mTypeError\u001b[0m                                 Traceback (most recent call last)",
      "\u001b[1;32m<ipython-input-107-a8f7d20ffe3c>\u001b[0m in \u001b[0;36m<module>\u001b[1;34m\u001b[0m\n\u001b[1;32m----> 1\u001b[1;33m \u001b[0mlst3\u001b[0m \u001b[1;33m=\u001b[0m \u001b[0mlst1\u001b[0m \u001b[1;33m+\u001b[0m \u001b[0mtup_y\u001b[0m\u001b[1;33m\u001b[0m\u001b[1;33m\u001b[0m\u001b[0m\n\u001b[0m\u001b[0;32m      2\u001b[0m \u001b[1;33m\u001b[0m\u001b[0m\n\u001b[0;32m      3\u001b[0m \u001b[0mprint\u001b[0m\u001b[1;33m(\u001b[0m\u001b[0mlst3\u001b[0m\u001b[1;33m)\u001b[0m\u001b[1;33m\u001b[0m\u001b[1;33m\u001b[0m\u001b[0m\n",
      "\u001b[1;31mTypeError\u001b[0m: can only concatenate list (not \"tuple\") to list"
     ]
    }
   ],
   "source": [
    "lst3 = lst1 + tup_y\n",
    "\n",
    "print(lst3)"
   ]
  },
  {
   "cell_type": "code",
   "execution_count": 114,
   "metadata": {},
   "outputs": [
    {
     "name": "stdout",
     "output_type": "stream",
     "text": [
      "['a', 'b', 'c', 'd', 'e', 'p', 'q', 'r', 's', 'pqrs']\n"
     ]
    }
   ],
   "source": [
    "#If we need to treat the iterable as a single element - we need to put it in another iterable as one object and then extend\n",
    "# list\n",
    "\n",
    "tup_z = ('pqrs',)\n",
    "\n",
    "lst1.extend(tup_z)\n",
    "\n",
    "print(lst1)"
   ]
  },
  {
   "cell_type": "code",
   "execution_count": 109,
   "metadata": {},
   "outputs": [
    {
     "name": "stdout",
     "output_type": "stream",
     "text": [
      "[]\n"
     ]
    }
   ],
   "source": [
    "#Clear method on Lists - clears the original list of all elements. \n",
    "\n",
    "lst1.clear()\n",
    "\n",
    "print(lst1)\n",
    "\n"
   ]
  },
  {
   "cell_type": "code",
   "execution_count": 112,
   "metadata": {},
   "outputs": [
    {
     "name": "stdout",
     "output_type": "stream",
     "text": [
      "['a', 'b', 'c', 'd', 'e']\n"
     ]
    }
   ],
   "source": [
    "#Modifies original list and returns none. \n",
    "\n",
    "lst1 = list('abcde',)\n",
    "\n",
    "print(lst1)"
   ]
  },
  {
   "cell_type": "code",
   "execution_count": 115,
   "metadata": {},
   "outputs": [
    {
     "name": "stdout",
     "output_type": "stream",
     "text": [
      "[]\n",
      "None\n"
     ]
    }
   ],
   "source": [
    "lst2 = lst1.clear()\n",
    "\n",
    "print(lst1)\n",
    "print(lst2)"
   ]
  },
  {
   "cell_type": "code",
   "execution_count": 116,
   "metadata": {},
   "outputs": [
    {
     "name": "stdout",
     "output_type": "stream",
     "text": [
      "[1, 2, 3, 4, 5, 6] <class 'list'>\n",
      "[10, 20, 30, 40, 50, 60] <class 'list'>\n",
      "['a', 'b', 'c', 'd', 'e', 'f'] <class 'list'>\n"
     ]
    }
   ],
   "source": [
    "#Packing and unpacking list. Packing is nothing but assigning elements / objects to a list which we have seen previously. \n",
    "\n",
    "lst1 = [1,2,3,4,5,6]\n",
    "lst2 = [10,20,30,40,50,60]\n",
    "lst3 = list('abcdef')\n",
    "\n",
    "print(lst1, type(lst1))\n",
    "print(lst2, type(lst2))\n",
    "print(lst3, type(lst3))"
   ]
  },
  {
   "cell_type": "code",
   "execution_count": null,
   "metadata": {},
   "outputs": [],
   "source": []
  },
  {
   "cell_type": "code",
   "execution_count": 117,
   "metadata": {},
   "outputs": [
    {
     "name": "stdout",
     "output_type": "stream",
     "text": [
      "1\n",
      "2\n",
      "3\n",
      "4\n",
      "5\n",
      "6\n"
     ]
    }
   ],
   "source": [
    "#Unpacking however, is assigning the values inside a list(or a tuple) to variables. The variables are on the left and \n",
    "# the list is on the right of the expression. \n",
    "\n",
    "a,b,c,d,e,f = lst1\n",
    "\n",
    "print(a,b,c,d,e,f, sep = '\\n')"
   ]
  },
  {
   "cell_type": "code",
   "execution_count": 118,
   "metadata": {},
   "outputs": [
    {
     "name": "stdout",
     "output_type": "stream",
     "text": [
      "10\n",
      "20\n",
      "30\n",
      "40\n",
      "50\n",
      "60\n"
     ]
    }
   ],
   "source": [
    "a,b,c,d,e,f = lst2\n",
    "\n",
    "print(a,b,c,d,e,f, sep = '\\n')"
   ]
  },
  {
   "cell_type": "code",
   "execution_count": 119,
   "metadata": {},
   "outputs": [
    {
     "name": "stdout",
     "output_type": "stream",
     "text": [
      "a\n",
      "b\n",
      "c\n",
      "d\n",
      "e\n",
      "f\n"
     ]
    }
   ],
   "source": [
    "a,b,c,d,e,f = lst3\n",
    "\n",
    "print(a,b,c,d,e,f, sep = '\\n')"
   ]
  },
  {
   "cell_type": "code",
   "execution_count": 120,
   "metadata": {},
   "outputs": [
    {
     "ename": "ValueError",
     "evalue": "too many values to unpack (expected 3)",
     "output_type": "error",
     "traceback": [
      "\u001b[1;31m---------------------------------------------------------------------------\u001b[0m",
      "\u001b[1;31mValueError\u001b[0m                                Traceback (most recent call last)",
      "\u001b[1;32m<ipython-input-120-21faa332b8cc>\u001b[0m in \u001b[0;36m<module>\u001b[1;34m\u001b[0m\n\u001b[0;32m      2\u001b[0m \u001b[1;31m# the rest of the elements. More on that later).\u001b[0m\u001b[1;33m\u001b[0m\u001b[1;33m\u001b[0m\u001b[1;33m\u001b[0m\u001b[0m\n\u001b[0;32m      3\u001b[0m \u001b[1;33m\u001b[0m\u001b[0m\n\u001b[1;32m----> 4\u001b[1;33m \u001b[0ma\u001b[0m\u001b[1;33m,\u001b[0m\u001b[0mb\u001b[0m\u001b[1;33m,\u001b[0m\u001b[0mc\u001b[0m \u001b[1;33m=\u001b[0m \u001b[0mlst3\u001b[0m\u001b[1;33m\u001b[0m\u001b[1;33m\u001b[0m\u001b[0m\n\u001b[0m\u001b[0;32m      5\u001b[0m \u001b[1;33m\u001b[0m\u001b[0m\n\u001b[0;32m      6\u001b[0m \u001b[0mprint\u001b[0m\u001b[1;33m(\u001b[0m\u001b[0ma\u001b[0m\u001b[1;33m,\u001b[0m\u001b[0mb\u001b[0m\u001b[1;33m,\u001b[0m\u001b[0mc\u001b[0m\u001b[1;33m,\u001b[0m \u001b[0msep\u001b[0m \u001b[1;33m=\u001b[0m \u001b[1;34m'\\n'\u001b[0m\u001b[1;33m)\u001b[0m\u001b[1;33m\u001b[0m\u001b[1;33m\u001b[0m\u001b[0m\n",
      "\u001b[1;31mValueError\u001b[0m: too many values to unpack (expected 3)"
     ]
    }
   ],
   "source": [
    "#The number of variables must correspond to the elements in the list (or we use the * to prefix a single variable to collect\n",
    "# the rest of the elements. More on that later).\n",
    "\n",
    "a,b,c = lst3\n",
    "\n",
    "print(a,b,c, sep = '\\n')"
   ]
  },
  {
   "cell_type": "code",
   "execution_count": 121,
   "metadata": {},
   "outputs": [
    {
     "name": "stdout",
     "output_type": "stream",
     "text": [
      "[1, 2, 3, 4, 5, 6]\n"
     ]
    }
   ],
   "source": [
    "print(lst1)"
   ]
  },
  {
   "cell_type": "code",
   "execution_count": 122,
   "metadata": {},
   "outputs": [
    {
     "name": "stdout",
     "output_type": "stream",
     "text": [
      "1\n",
      "2\n",
      "[3, 4, 5, 6]\n"
     ]
    }
   ],
   "source": [
    "#However, if we need only some of the variables assigned and the rest in a single list we can add the * prefix infront of\n",
    "# one of the variables - and this will collect all the remaining variables after the n number of variables are each assigned\n",
    "# an element from the list. \n",
    "\n",
    "a,b, *c = lst1\n",
    "\n",
    "print(a,b,c, sep = '\\n')"
   ]
  },
  {
   "cell_type": "code",
   "execution_count": 123,
   "metadata": {},
   "outputs": [
    {
     "name": "stdout",
     "output_type": "stream",
     "text": [
      "1\n",
      "[2, 3, 4, 5]\n",
      "6\n"
     ]
    }
   ],
   "source": [
    "\n",
    "a,*b,c = lst1\n",
    "\n",
    "print(a,b,c, sep = '\\n')\n"
   ]
  },
  {
   "cell_type": "code",
   "execution_count": 124,
   "metadata": {},
   "outputs": [
    {
     "name": "stdout",
     "output_type": "stream",
     "text": [
      "My students are amazing! My students are amazing! My students are amazing! My students are amazing! My students are amazing! My students are amazing! My students are amazing! My students are amazing! My students are amazing! \n"
     ]
    }
   ],
   "source": [
    "#Using this logic of unpacking multiple arguments to a function can be packed into a list and a single list with the *\n",
    "#prefix can be passed into the function. \n",
    "\n",
    "def func_list(p,q,r,s,t):\n",
    "    return (s+t)*(p+q*r)\n",
    "\n",
    "lst1 = [3,3,2,'My students ', 'are amazing! ']\n",
    "\n",
    "print(func_list(*lst1))\n",
    "    \n",
    "p,q,r,s,t = lst1"
   ]
  },
  {
   "cell_type": "code",
   "execution_count": 125,
   "metadata": {},
   "outputs": [
    {
     "name": "stdout",
     "output_type": "stream",
     "text": [
      "None\n"
     ]
    }
   ],
   "source": [
    "try1 = str(None)\n",
    "\n",
    "print(try1)"
   ]
  },
  {
   "cell_type": "code",
   "execution_count": null,
   "metadata": {},
   "outputs": [],
   "source": []
  }
 ],
 "metadata": {
  "kernelspec": {
   "display_name": "Python 3",
   "language": "python",
   "name": "python3"
  },
  "language_info": {
   "codemirror_mode": {
    "name": "ipython",
    "version": 3
   },
   "file_extension": ".py",
   "mimetype": "text/x-python",
   "name": "python",
   "nbconvert_exporter": "python",
   "pygments_lexer": "ipython3",
   "version": "3.8.3"
  }
 },
 "nbformat": 4,
 "nbformat_minor": 5
}
