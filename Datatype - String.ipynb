{
 "cells": [
  {
   "cell_type": "markdown",
   "metadata": {},
   "source": [
    "# String Datatype"
   ]
  },
  {
   "cell_type": "code",
   "execution_count": 3,
   "metadata": {},
   "outputs": [],
   "source": [
    "# Strings in Python refers to text or one or more characters datatype. It is an important datatype since most things in life\n",
    "# are not numeric - names, addresses, genders, citizenship, brands or alphanumeric like vehicle plate numbers, credit card\n",
    "# numbers, National ID numbers etc. Furthermore, we communicate with other humans(and even in some cases our pets!) with\n",
    "# language or text characters. When we want to write an email or tweet - we are dealing in strings of characters. \n",
    "\n",
    "# A computer on the other hand understands binary only. So, all the characters and text we see on the screen gets encoded\n",
    "# behind the scenes to numeric characters. Python uses the Unicode UTF-8 system behinds the scene for encoding characters\n",
    "# to unicode values.\n",
    "\n",
    "# String datatype in Python handles text or characters. \n",
    "\n",
    "# As we have seen in previous discussions, the properties of Strings are:\n",
    "\n",
    "# a. Fundamental Datatype\n",
    "# b. Immutable\n",
    "# c. Sequential\n",
    "# d. Indexable\n",
    "# e. Slicing works\n",
    "# f. Iterable\n",
    "\n",
    "# We can simply create strings by enclosing any text (even other datatypes like numbers and floats) in either single quotes\n",
    "#'text', Double quotes \"text\" or triple single quotes '''text'''"
   ]
  },
  {
   "cell_type": "code",
   "execution_count": 4,
   "metadata": {},
   "outputs": [
    {
     "name": "stdout",
     "output_type": "stream",
     "text": [
      "<class 'str'>\n"
     ]
    }
   ],
   "source": [
    "str1 = 'Python'\n",
    "\n",
    "print(type(str1))"
   ]
  },
  {
   "cell_type": "code",
   "execution_count": 5,
   "metadata": {},
   "outputs": [
    {
     "name": "stdout",
     "output_type": "stream",
     "text": [
      "<class 'str'>\n"
     ]
    }
   ],
   "source": [
    "str2 = '10'\n",
    "\n",
    "print(type(str2))"
   ]
  },
  {
   "cell_type": "code",
   "execution_count": 6,
   "metadata": {},
   "outputs": [
    {
     "name": "stdout",
     "output_type": "stream",
     "text": [
      "<class 'str'>\n"
     ]
    }
   ],
   "source": [
    "str3 = '0.13'\n",
    "\n",
    "print(type(str3))"
   ]
  },
  {
   "cell_type": "code",
   "execution_count": 7,
   "metadata": {},
   "outputs": [
    {
     "name": "stdout",
     "output_type": "stream",
     "text": [
      "<class 'type'>\n"
     ]
    }
   ],
   "source": [
    "str4 = 'None'\n",
    "\n",
    "print(type(str))"
   ]
  },
  {
   "cell_type": "code",
   "execution_count": 8,
   "metadata": {},
   "outputs": [
    {
     "name": "stdout",
     "output_type": "stream",
     "text": [
      "<class 'str'>\n"
     ]
    }
   ],
   "source": [
    "str5 = 'False'\n",
    "\n",
    "print(type(str5))"
   ]
  },
  {
   "cell_type": "code",
   "execution_count": 9,
   "metadata": {},
   "outputs": [
    {
     "name": "stdout",
     "output_type": "stream",
     "text": [
      "<class 'str'>\n"
     ]
    }
   ],
   "source": [
    "str6 = '3+5j'\n",
    "\n",
    "print(type(str6))"
   ]
  },
  {
   "cell_type": "code",
   "execution_count": 10,
   "metadata": {},
   "outputs": [],
   "source": [
    "# Another way to initialise a string datatype is to enclose it in the str function. This is Explicit Typecasting."
   ]
  },
  {
   "cell_type": "code",
   "execution_count": 17,
   "metadata": {},
   "outputs": [
    {
     "name": "stdout",
     "output_type": "stream",
     "text": [
      "None <class 'str'>\n"
     ]
    }
   ],
   "source": [
    "str7 = str(None)\n",
    "print(str7, type(str7))"
   ]
  },
  {
   "cell_type": "code",
   "execution_count": 12,
   "metadata": {},
   "outputs": [
    {
     "name": "stdout",
     "output_type": "stream",
     "text": [
      "True <class 'str'>\n"
     ]
    }
   ],
   "source": [
    "str8 = str(True)\n",
    "print(str8, type(str8))"
   ]
  },
  {
   "cell_type": "code",
   "execution_count": 5,
   "metadata": {},
   "outputs": [
    {
     "name": "stdout",
     "output_type": "stream",
     "text": [
      "(2+3j) <class 'str'>\n"
     ]
    }
   ],
   "source": [
    "str9 = str(2+3j)\n",
    "print(str9, type(str9))"
   ]
  },
  {
   "cell_type": "code",
   "execution_count": 171,
   "metadata": {},
   "outputs": [
    {
     "name": "stdout",
     "output_type": "stream",
     "text": [
      "None <class 'str'>\n"
     ]
    }
   ],
   "source": [
    "str7 = str(None)\n",
    "print(str7, type(str7))"
   ]
  },
  {
   "cell_type": "code",
   "execution_count": 19,
   "metadata": {},
   "outputs": [
    {
     "name": "stdout",
     "output_type": "stream",
     "text": [
      "10.2 <class 'str'>\n"
     ]
    }
   ],
   "source": [
    "str11 = str(10.2)\n",
    "print(str11, type(str11))"
   ]
  },
  {
   "cell_type": "code",
   "execution_count": 1,
   "metadata": {},
   "outputs": [
    {
     "ename": "NameError",
     "evalue": "name 'Python' is not defined",
     "output_type": "error",
     "traceback": [
      "\u001b[1;31m---------------------------------------------------------------------------\u001b[0m",
      "\u001b[1;31mNameError\u001b[0m                                 Traceback (most recent call last)",
      "\u001b[1;32m<ipython-input-1-da367e924e02>\u001b[0m in \u001b[0;36m<module>\u001b[1;34m\u001b[0m\n\u001b[1;32m----> 1\u001b[1;33m \u001b[0mstr12\u001b[0m \u001b[1;33m=\u001b[0m \u001b[0mstr\u001b[0m\u001b[1;33m(\u001b[0m\u001b[0mPython\u001b[0m\u001b[1;33m)\u001b[0m\u001b[1;33m\u001b[0m\u001b[1;33m\u001b[0m\u001b[0m\n\u001b[0m\u001b[0;32m      2\u001b[0m \u001b[0mprint\u001b[0m\u001b[1;33m(\u001b[0m\u001b[0mstr12\u001b[0m\u001b[1;33m,\u001b[0m \u001b[0mtype\u001b[0m\u001b[1;33m(\u001b[0m\u001b[0mstr12\u001b[0m\u001b[1;33m)\u001b[0m\u001b[1;33m)\u001b[0m\u001b[1;33m\u001b[0m\u001b[1;33m\u001b[0m\u001b[0m\n",
      "\u001b[1;31mNameError\u001b[0m: name 'Python' is not defined"
     ]
    }
   ],
   "source": [
    "str12 = str(Python)\n",
    "print(str12, type(str12))"
   ]
  },
  {
   "cell_type": "code",
   "execution_count": 6,
   "metadata": {},
   "outputs": [
    {
     "name": "stdout",
     "output_type": "stream",
     "text": [
      "<class 'str'>\n"
     ]
    }
   ],
   "source": [
    "v=str(23.9)\n",
    "print(type(v))"
   ]
  },
  {
   "cell_type": "code",
   "execution_count": 8,
   "metadata": {},
   "outputs": [
    {
     "name": "stdout",
     "output_type": "stream",
     "text": [
      "[1, 2, 3, 4]\n",
      "<class 'str'>\n",
      "[\n",
      "1\n",
      ",\n",
      " \n",
      "2\n",
      ",\n",
      " \n",
      "3\n",
      ",\n",
      " \n",
      "4\n",
      "]\n",
      "[\n"
     ]
    }
   ],
   "source": [
    "str1 = str([1,2,3,4])\n",
    "\n",
    "print(str1)\n",
    "print(type(str1))\n",
    "\n",
    "for x in str1:\n",
    "    print(x)\n",
    "#print(str1)\n",
    "    \n",
    "print(str1[0])"
   ]
  },
  {
   "cell_type": "code",
   "execution_count": null,
   "metadata": {},
   "outputs": [],
   "source": [
    "#Note as we have seen previously, Python infers datatypes automatically. This is called Implicit Typecast.\n"
   ]
  },
  {
   "cell_type": "code",
   "execution_count": null,
   "metadata": {},
   "outputs": [],
   "source": [
    "# Strings initialised (created) with either single, double or triple quotes are all the same. But the uses could differ\n",
    "# depending on user."
   ]
  },
  {
   "cell_type": "code",
   "execution_count": 25,
   "metadata": {},
   "outputs": [
    {
     "name": "stdout",
     "output_type": "stream",
     "text": [
      "<class 'str'>\n",
      "<class 'str'>\n",
      "<class 'str'>\n"
     ]
    }
   ],
   "source": [
    "print(type('Python'))\n",
    "print(type(\"Python\"))\n",
    "print(type('''Python'''))"
   ]
  },
  {
   "cell_type": "code",
   "execution_count": null,
   "metadata": {},
   "outputs": [],
   "source": [
    "#Single or double quotation marks can be used any time and are interchangeable. However, if you wish to use single quotes\n",
    "# in your text, use double quotation marks to enclose the text with the single quotes inside it. Vice versa - if you wish\n",
    "# to use double quotes in your text, use single quotes to enclose the text and double quotes.\n",
    "\n",
    "print('He asked me \"What are you upto?\"')\n",
    "# print(\"He asked me \"What are you upto?\"\")"
   ]
  },
  {
   "cell_type": "code",
   "execution_count": null,
   "metadata": {},
   "outputs": [],
   "source": [
    "#print(\"Don't think I don't know what you are upto!\")\n",
    "#print('Don't think I don't know what you are upto!')"
   ]
  },
  {
   "cell_type": "code",
   "execution_count": null,
   "metadata": {},
   "outputs": [],
   "source": [
    "#In both above cases, if you wish to use either single, double (or both) quotation marks - you can also use triple quotes.\n",
    "\n",
    "print('''He asked me \"What are you upto?\" Don't think I don't know what you are upto!''')"
   ]
  },
  {
   "cell_type": "code",
   "execution_count": 10,
   "metadata": {},
   "outputs": [
    {
     "name": "stdout",
     "output_type": "stream",
     "text": [
      "He asked me What are you upto? \n",
      "Dont think I dont know what you are upto!\n"
     ]
    }
   ],
   "source": [
    "#You can also use triple quotes to write multi-line text\n",
    "# print('''He asked me \"What are you upto?\"\n",
    "# Don't think I don't know what you are upto!''')\n",
    "\n",
    "print('''He asked me What are you upto? \n",
    "Dont think I dont know what you are upto!''')"
   ]
  },
  {
   "cell_type": "code",
   "execution_count": 11,
   "metadata": {},
   "outputs": [
    {
     "name": "stdout",
     "output_type": "stream",
     "text": [
      "22\n",
      "The function takes 2 parameters which are numbers.\n",
      "It returns the sum of the two numbers\n",
      "I am also writing some gibberish just to extend the docstring\n"
     ]
    }
   ],
   "source": [
    "#We also use triple quotes to define a docstring of a function. A docstring is good practice when writing a function. It is used to describe\n",
    "# what the function does, what parameters it takes, what is the expected output and any other information that a programmer\n",
    "# may find neccessary to elaborate on. We will learn more about functions and docstrings in the related lecture.\n",
    "\n",
    "def temp_func(x,y):\n",
    "    '''The function takes 2 parameters which are numbers.\n",
    "It returns the sum of the two numbers\n",
    "I am also writing some gibberish just to extend the docstring'''\n",
    "    return x+y\n",
    "\n",
    "print(temp_func(10,12))\n",
    "\n",
    "print(temp_func.__doc__)\n",
    "\n",
    "# Of course, as we have seen before, we can also use the \\ for multiline typing in Python but if one already knows that\n",
    "# we will be writing long text, (like writing a book or summary or docstring of a complex function, it would be best \n",
    "# practice to prefix with 3 single quotes continue writing and only in the end suffix with 3 single quotes."
   ]
  },
  {
   "cell_type": "code",
   "execution_count": 12,
   "metadata": {},
   "outputs": [
    {
     "name": "stdout",
     "output_type": "stream",
     "text": [
      "He said \"What are you upto?\"\n"
     ]
    }
   ],
   "source": [
    "print(\"He said \\\"What are you upto?\\\"\")"
   ]
  },
  {
   "cell_type": "code",
   "execution_count": 29,
   "metadata": {},
   "outputs": [
    {
     "name": "stdout",
     "output_type": "stream",
     "text": [
      "Hello ''' pqr\n"
     ]
    }
   ],
   "source": [
    "print('''Hello \\''' pqr''')"
   ]
  },
  {
   "cell_type": "code",
   "execution_count": null,
   "metadata": {},
   "outputs": [],
   "source": [
    "# Length of a string"
   ]
  },
  {
   "cell_type": "code",
   "execution_count": 13,
   "metadata": {},
   "outputs": [
    {
     "name": "stdout",
     "output_type": "stream",
     "text": [
      "5\n"
     ]
    }
   ],
   "source": [
    "print(len('Hello'))"
   ]
  },
  {
   "cell_type": "code",
   "execution_count": 14,
   "metadata": {},
   "outputs": [
    {
     "name": "stdout",
     "output_type": "stream",
     "text": [
      "22\n"
     ]
    }
   ],
   "source": [
    "print(len('Happy birthday to you!'))"
   ]
  },
  {
   "cell_type": "code",
   "execution_count": 15,
   "metadata": {},
   "outputs": [
    {
     "name": "stdout",
     "output_type": "stream",
     "text": [
      "104\n"
     ]
    }
   ],
   "source": [
    "print(len('''Happy birthday to you,\n",
    "You were born in the zoo\n",
    "With the donkeys and the monkeys\n",
    "and the gorilla is you!'''))"
   ]
  },
  {
   "cell_type": "code",
   "execution_count": 17,
   "metadata": {},
   "outputs": [
    {
     "name": "stdout",
     "output_type": "stream",
     "text": [
      "b\n",
      "9\n"
     ]
    }
   ],
   "source": [
    "# Indexing and slicing on Strings. \n",
    "\n",
    "# We have already discussed indexing and slicing in Python. However, just for a referesher - \n",
    "\n",
    "# To get the element at a certain index position use the following syntax:\n",
    "\n",
    "# str[index_position]\n",
    "\n",
    "print('Boss Baby'[7])\n",
    "print(len('Boss Baby'))"
   ]
  },
  {
   "cell_type": "code",
   "execution_count": 5,
   "metadata": {},
   "outputs": [
    {
     "name": "stdout",
     "output_type": "stream",
     "text": [
      "b\n"
     ]
    }
   ],
   "source": [
    "str1 = 'Boss Baby'\n",
    "\n",
    "print(str1[7])"
   ]
  },
  {
   "cell_type": "code",
   "execution_count": 6,
   "metadata": {},
   "outputs": [
    {
     "name": "stdout",
     "output_type": "stream",
     "text": [
      "s\n"
     ]
    }
   ],
   "source": [
    "#y = 4\n",
    "#print(str1)\n",
    "print(str1[3])"
   ]
  },
  {
   "cell_type": "code",
   "execution_count": 22,
   "metadata": {},
   "outputs": [
    {
     "name": "stdout",
     "output_type": "stream",
     "text": [
      "love\n"
     ]
    }
   ],
   "source": [
    "# We have also already covered slicing in string. But just to refresh :\n",
    "\n",
    "str1 = 'I love India!'\n",
    "\n",
    "print('I love India!'[2:6])"
   ]
  },
  {
   "cell_type": "code",
   "execution_count": 23,
   "metadata": {},
   "outputs": [
    {
     "name": "stdout",
     "output_type": "stream",
     "text": [
      "India!\n"
     ]
    }
   ],
   "source": [
    "print(str1[7:])"
   ]
  },
  {
   "cell_type": "code",
   "execution_count": 25,
   "metadata": {},
   "outputs": [
    {
     "name": "stdout",
     "output_type": "stream",
     "text": [
      "love Ind\n"
     ]
    }
   ],
   "source": [
    "x = 2 ; y = 10\n",
    "\n",
    "print(str1[x:y])"
   ]
  },
  {
   "cell_type": "code",
   "execution_count": 26,
   "metadata": {},
   "outputs": [
    {
     "name": "stdout",
     "output_type": "stream",
     "text": [
      "lv n\n"
     ]
    }
   ],
   "source": [
    "# The last parameter that slicing accepts is the step parameter. \n",
    "print(str1[x:y:2])"
   ]
  },
  {
   "cell_type": "code",
   "execution_count": 27,
   "metadata": {},
   "outputs": [
    {
     "name": "stdout",
     "output_type": "stream",
     "text": [
      "in v\n"
     ]
    }
   ],
   "source": [
    "# And it accepts negative steps\n",
    "\n",
    "print(str1[y:x:-2])"
   ]
  },
  {
   "cell_type": "code",
   "execution_count": 41,
   "metadata": {},
   "outputs": [
    {
     "name": "stdout",
     "output_type": "stream",
     "text": [
      "I love India!\n"
     ]
    }
   ],
   "source": [
    "# Any of the parameters left empty, will take up defualt values:\n",
    "# Start value - First index number of indexable object i.e. 0\n",
    "# Stop value - Last index number of indexable object that is length of the string - 1\n",
    "# A REMINDER THAT THE STOP VALUE IS ALWAYS EXCLUSIVE so to slice a string upto the 6th index, we would mention the stop\n",
    "# values a 7. \n",
    "# Step value - Defaults to 1\n",
    "\n",
    "print(str1[:])\n",
    "\n"
   ]
  },
  {
   "cell_type": "code",
   "execution_count": 42,
   "metadata": {},
   "outputs": [
    {
     "name": "stdout",
     "output_type": "stream",
     "text": [
      "ove India!\n"
     ]
    }
   ],
   "source": [
    "print(str1[3:])"
   ]
  },
  {
   "cell_type": "code",
   "execution_count": 43,
   "metadata": {},
   "outputs": [
    {
     "name": "stdout",
     "output_type": "stream",
     "text": [
      "I love \n"
     ]
    }
   ],
   "source": [
    "print(str1[:7])"
   ]
  },
  {
   "cell_type": "code",
   "execution_count": 44,
   "metadata": {},
   "outputs": [
    {
     "name": "stdout",
     "output_type": "stream",
     "text": [
      "Ilv ni\n"
     ]
    }
   ],
   "source": [
    "print(str1[:11:2])"
   ]
  },
  {
   "cell_type": "code",
   "execution_count": 7,
   "metadata": {},
   "outputs": [
    {
     "name": "stdout",
     "output_type": "stream",
     "text": [
      "adIeo \n",
      "6\n"
     ]
    }
   ],
   "source": [
    "str1 = 'I love India!' \n",
    "        \n",
    "\n",
    "print(str1[11::-2])\n",
    "print(len(str1[11::-2]))"
   ]
  },
  {
   "cell_type": "code",
   "execution_count": 8,
   "metadata": {},
   "outputs": [
    {
     "name": "stdout",
     "output_type": "stream",
     "text": [
      "lena\n"
     ]
    }
   ],
   "source": [
    "print(str1[2::3])\n",
    "\n"
   ]
  },
  {
   "cell_type": "code",
   "execution_count": 48,
   "metadata": {},
   "outputs": [
    {
     "name": "stdout",
     "output_type": "stream",
     "text": [
      "13\n",
      "lena\n"
     ]
    }
   ],
   "source": [
    "print(len(str1))\n",
    "print(str1[2:len(str1):3])"
   ]
  },
  {
   "cell_type": "code",
   "execution_count": 49,
   "metadata": {},
   "outputs": [
    {
     "name": "stdout",
     "output_type": "stream",
     "text": [
      "len\n"
     ]
    }
   ],
   "source": [
    "print(str1[2:len(str1)-4:3])"
   ]
  },
  {
   "cell_type": "code",
   "execution_count": 50,
   "metadata": {},
   "outputs": [
    {
     "name": "stdout",
     "output_type": "stream",
     "text": [
      "len\n"
     ]
    }
   ],
   "source": [
    "print(str1[2:-4:3])"
   ]
  },
  {
   "cell_type": "code",
   "execution_count": null,
   "metadata": {},
   "outputs": [],
   "source": [
    "## String repetiton"
   ]
  },
  {
   "cell_type": "code",
   "execution_count": 28,
   "metadata": {},
   "outputs": [
    {
     "name": "stdout",
     "output_type": "stream",
     "text": [
      "Hello! Hello! Hello! \n"
     ]
    }
   ],
   "source": [
    "print('Hello! '*3)"
   ]
  },
  {
   "cell_type": "code",
   "execution_count": null,
   "metadata": {},
   "outputs": [],
   "source": [
    "print('o'*20)"
   ]
  },
  {
   "cell_type": "code",
   "execution_count": 51,
   "metadata": {},
   "outputs": [
    {
     "name": "stdout",
     "output_type": "stream",
     "text": [
      "************************************************************************************************************************\n"
     ]
    }
   ],
   "source": [
    "print('*'*120)"
   ]
  },
  {
   "cell_type": "code",
   "execution_count": 29,
   "metadata": {},
   "outputs": [
    {
     "name": "stdout",
     "output_type": "stream",
     "text": [
      "Hello one and all!\n"
     ]
    }
   ],
   "source": [
    "# Concatenation\n",
    "\n",
    "# The plus operator on strings performs what is called 'concatenation'.  \n",
    "\n",
    "# But what it basically does is adds or joins (not mathematically) one series of text characters to another to make it\n",
    "# one big text. See 'adds' or 'joins'? Easy words. But early programmers needed to feel big and important - so they came\n",
    "# up with the fancy word 'concatenation' for adding two non-mathematical objects together to make one big object.\n",
    "\n",
    "print('Hello ' + 'one and all!')"
   ]
  },
  {
   "cell_type": "code",
   "execution_count": 30,
   "metadata": {},
   "outputs": [
    {
     "name": "stdout",
     "output_type": "stream",
     "text": [
      "Helloone and all\n"
     ]
    }
   ],
   "source": [
    "str_c = 'Hello'\n",
    "str_d = 'one and all'\n",
    "\n",
    "print(str_c+str_d)"
   ]
  },
  {
   "cell_type": "code",
   "execution_count": 31,
   "metadata": {},
   "outputs": [
    {
     "name": "stdout",
     "output_type": "stream",
     "text": [
      "Hello one and all\n"
     ]
    }
   ],
   "source": [
    "print(str_c + ' ' + str_d)"
   ]
  },
  {
   "cell_type": "code",
   "execution_count": 55,
   "metadata": {},
   "outputs": [
    {
     "name": "stdout",
     "output_type": "stream",
     "text": [
      "Hello**********one and all\n"
     ]
    }
   ],
   "source": [
    "print(str_c + \"*\"*10 + str_d)"
   ]
  },
  {
   "cell_type": "code",
   "execution_count": 56,
   "metadata": {},
   "outputs": [
    {
     "name": "stdout",
     "output_type": "stream",
     "text": [
      "Hello\n",
      "one and all\n"
     ]
    }
   ],
   "source": [
    "# Take note that strings are immutable. The original strings have NOT been modified. \n",
    "\n",
    "print(str_c)\n",
    "print(str_d)"
   ]
  },
  {
   "cell_type": "code",
   "execution_count": 57,
   "metadata": {},
   "outputs": [
    {
     "name": "stdout",
     "output_type": "stream",
     "text": [
      "Hello one and all\n"
     ]
    }
   ],
   "source": [
    "# If we wanted to use this newly formed string for operations other than printing - we would have to save it to a new \n",
    "# variable(new object).\n",
    "\n",
    "str_e = str_c + \" \" + str_d\n",
    "\n",
    "print(str_e)"
   ]
  },
  {
   "cell_type": "code",
   "execution_count": 32,
   "metadata": {},
   "outputs": [
    {
     "name": "stdout",
     "output_type": "stream",
     "text": [
      "True\n"
     ]
    }
   ],
   "source": [
    "# Checking for membership\n",
    "\n",
    "# We can check if a set of characters(1 or more) called substring is present in another string using in an not in operators\n",
    "\n",
    "print('t' in 'Python')"
   ]
  },
  {
   "cell_type": "code",
   "execution_count": 33,
   "metadata": {},
   "outputs": [
    {
     "name": "stdout",
     "output_type": "stream",
     "text": [
      "False\n"
     ]
    }
   ],
   "source": [
    "print('t' not in 'Python')"
   ]
  },
  {
   "cell_type": "code",
   "execution_count": null,
   "metadata": {},
   "outputs": [],
   "source": [
    "print('x' in 'Python')\n"
   ]
  },
  {
   "cell_type": "code",
   "execution_count": null,
   "metadata": {},
   "outputs": [],
   "source": [
    "print('x' not in 'Python')"
   ]
  },
  {
   "cell_type": "code",
   "execution_count": 59,
   "metadata": {},
   "outputs": [
    {
     "name": "stdout",
     "output_type": "stream",
     "text": [
      "True\n"
     ]
    }
   ],
   "source": [
    "sub_str = 'India'\n",
    "o_string = 'I love India!'\n",
    "\n",
    "print(sub_str in o_string)"
   ]
  },
  {
   "cell_type": "code",
   "execution_count": 60,
   "metadata": {},
   "outputs": [
    {
     "name": "stdout",
     "output_type": "stream",
     "text": [
      "False\n"
     ]
    }
   ],
   "source": [
    "print(sub_str not in o_string)"
   ]
  },
  {
   "cell_type": "code",
   "execution_count": 61,
   "metadata": {},
   "outputs": [
    {
     "name": "stdout",
     "output_type": "stream",
     "text": [
      "False\n"
     ]
    }
   ],
   "source": [
    "sub_str = '&'\n",
    "o_string = 'I love India and Indian cuisine'\n",
    "\n",
    "print(sub_str in o_string)"
   ]
  },
  {
   "cell_type": "code",
   "execution_count": 62,
   "metadata": {},
   "outputs": [
    {
     "name": "stdout",
     "output_type": "stream",
     "text": [
      "True\n"
     ]
    }
   ],
   "source": [
    "print(sub_str not in o_string)"
   ]
  },
  {
   "cell_type": "code",
   "execution_count": null,
   "metadata": {},
   "outputs": [],
   "source": [
    "# Membership operations on strings are case-sensitive"
   ]
  },
  {
   "cell_type": "code",
   "execution_count": 63,
   "metadata": {},
   "outputs": [
    {
     "name": "stdout",
     "output_type": "stream",
     "text": [
      "False\n"
     ]
    }
   ],
   "source": [
    "print('p' in 'Python')"
   ]
  },
  {
   "cell_type": "code",
   "execution_count": 64,
   "metadata": {},
   "outputs": [
    {
     "name": "stdout",
     "output_type": "stream",
     "text": [
      "True\n"
     ]
    }
   ],
   "source": [
    "print('p' not in 'Python')"
   ]
  },
  {
   "cell_type": "code",
   "execution_count": null,
   "metadata": {},
   "outputs": [],
   "source": [
    "# We can compare strings using comparison operators i.e. == which means equal to, > than which means greater than, >= which\n",
    "# means greater than or equal to, < which means less than and <= which means less than or equal to."
   ]
  },
  {
   "cell_type": "code",
   "execution_count": 65,
   "metadata": {},
   "outputs": [
    {
     "name": "stdout",
     "output_type": "stream",
     "text": [
      "True\n"
     ]
    }
   ],
   "source": [
    "print('Python' == 'Python')"
   ]
  },
  {
   "cell_type": "code",
   "execution_count": 66,
   "metadata": {},
   "outputs": [
    {
     "name": "stdout",
     "output_type": "stream",
     "text": [
      "False\n"
     ]
    }
   ],
   "source": [
    "print('Python' == 'python')"
   ]
  },
  {
   "cell_type": "code",
   "execution_count": 34,
   "metadata": {},
   "outputs": [
    {
     "name": "stdout",
     "output_type": "stream",
     "text": [
      "False\n"
     ]
    }
   ],
   "source": [
    "print('Python' < 'Python')"
   ]
  },
  {
   "cell_type": "code",
   "execution_count": 68,
   "metadata": {},
   "outputs": [
    {
     "name": "stdout",
     "output_type": "stream",
     "text": [
      "True\n"
     ]
    }
   ],
   "source": [
    "print('Python' <= 'Python')"
   ]
  },
  {
   "cell_type": "code",
   "execution_count": 35,
   "metadata": {},
   "outputs": [
    {
     "name": "stdout",
     "output_type": "stream",
     "text": [
      "True\n"
     ]
    }
   ],
   "source": [
    "print('Python' < 'python')"
   ]
  },
  {
   "cell_type": "code",
   "execution_count": null,
   "metadata": {},
   "outputs": [],
   "source": [
    "print('Python' <= 'python')"
   ]
  },
  {
   "cell_type": "code",
   "execution_count": 70,
   "metadata": {},
   "outputs": [
    {
     "name": "stdout",
     "output_type": "stream",
     "text": [
      "80\n"
     ]
    }
   ],
   "source": [
    "print(ord(\"P\"))"
   ]
  },
  {
   "cell_type": "code",
   "execution_count": null,
   "metadata": {},
   "outputs": [],
   "source": [
    "print(ord('p'))"
   ]
  },
  {
   "cell_type": "code",
   "execution_count": 71,
   "metadata": {},
   "outputs": [
    {
     "name": "stdout",
     "output_type": "stream",
     "text": [
      "False\n"
     ]
    }
   ],
   "source": [
    "print('Python' > 'Python')"
   ]
  },
  {
   "cell_type": "code",
   "execution_count": 72,
   "metadata": {},
   "outputs": [
    {
     "name": "stdout",
     "output_type": "stream",
     "text": [
      "True\n"
     ]
    }
   ],
   "source": [
    "print('Python' >= 'Python')"
   ]
  },
  {
   "cell_type": "code",
   "execution_count": 73,
   "metadata": {},
   "outputs": [
    {
     "name": "stdout",
     "output_type": "stream",
     "text": [
      "False\n"
     ]
    }
   ],
   "source": [
    "print('Python' > 'python')"
   ]
  },
  {
   "cell_type": "code",
   "execution_count": 74,
   "metadata": {},
   "outputs": [
    {
     "name": "stdout",
     "output_type": "stream",
     "text": [
      "False\n"
     ]
    }
   ],
   "source": [
    "print('Python' >= 'python')"
   ]
  },
  {
   "cell_type": "code",
   "execution_count": null,
   "metadata": {},
   "outputs": [],
   "source": [
    "# When we are 'comparing' strings in Python. The equal to operator intutitively makes some sense if Python is checking\n",
    "# for equality character by character. \n",
    "# Therefore :"
   ]
  },
  {
   "cell_type": "code",
   "execution_count": 75,
   "metadata": {},
   "outputs": [
    {
     "name": "stdout",
     "output_type": "stream",
     "text": [
      "False\n"
     ]
    }
   ],
   "source": [
    "a = 'python'\n",
    "b = 'qxthon'\n",
    "\n",
    "print(a == b)"
   ]
  },
  {
   "cell_type": "code",
   "execution_count": null,
   "metadata": {},
   "outputs": [],
   "source": [
    "# However, when it comes to the >, >=, <, <= operators, Python checks for the total unicode values of the characters."
   ]
  },
  {
   "cell_type": "code",
   "execution_count": 4,
   "metadata": {},
   "outputs": [],
   "source": [
    "def unicode_sum(x):\n",
    "    total = 0\n",
    "    for i in x:\n",
    "        total += ord(i)\n",
    "    return total\n"
   ]
  },
  {
   "cell_type": "code",
   "execution_count": 38,
   "metadata": {},
   "outputs": [
    {
     "name": "stdout",
     "output_type": "stream",
     "text": [
      "674\n",
      "674\n",
      "False\n"
     ]
    }
   ],
   "source": [
    "print(unicode_sum('python'))\n",
    "print(unicode_sum('qxthon'))\n",
    "\n",
    "\n",
    "print('python' == 'qxthon')"
   ]
  },
  {
   "cell_type": "code",
   "execution_count": 5,
   "metadata": {},
   "outputs": [
    {
     "name": "stdout",
     "output_type": "stream",
     "text": [
      "674\n",
      "674\n",
      "False\n",
      "True\n"
     ]
    }
   ],
   "source": [
    "print(unicode_sum('python'))\n",
    "print(unicode_sum('qxthon'))\n",
    "\n",
    "print('python' >= 'qython')\n",
    "print('python' <= 'qython')"
   ]
  },
  {
   "cell_type": "code",
   "execution_count": 6,
   "metadata": {},
   "outputs": [
    {
     "name": "stdout",
     "output_type": "stream",
     "text": [
      "1195\n",
      "2061\n"
     ]
    }
   ],
   "source": [
    "P = 'My batch ROCKS!'\n",
    "p = 'My batch doesn\\'t rock :('\n",
    "\n",
    "print(unicode_sum(P))\n",
    "print(unicode_sum(p))"
   ]
  },
  {
   "cell_type": "code",
   "execution_count": 7,
   "metadata": {},
   "outputs": [
    {
     "data": {
      "text/plain": [
       "True"
      ]
     },
     "execution_count": 7,
     "metadata": {},
     "output_type": "execute_result"
    }
   ],
   "source": [
    "import operator\n",
    "#Note - \n",
    "#operator.eq means =\n",
    "#operator.gt means >\n",
    "#operator.lt means <\n",
    "#operator.ge means <=\n",
    "#operator.le means >=\n",
    "\n",
    "def comp_uni(x,y,compare = operator.eq):\n",
    "    comp = compare(unicode_sum(x), unicode_sum(y))\n",
    "    return (compare(x,y)) == comp\n",
    "\n",
    "comp_uni(P,p, operator.le)\n"
   ]
  },
  {
   "cell_type": "code",
   "execution_count": 9,
   "metadata": {},
   "outputs": [
    {
     "name": "stdout",
     "output_type": "stream",
     "text": [
      "False\n",
      "False\n",
      "False\n"
     ]
    }
   ],
   "source": [
    "# Stripping a string. \n",
    "\n",
    "# Python offers a method to remove leading and trailing characters from a string. Sometimes, some whitespace of characters \n",
    "# may have been put at the beginning or end of a string. Now, while searching for the specific string, we are unable to \n",
    "# find it due to the white spaces. \n",
    "\n",
    "# Example : \n",
    "\n",
    "p = 'python'\n",
    "p1 = '   python'\n",
    "p2 = 'python   '\n",
    "p3 = '  python '\n",
    "print(p == p1)\n",
    "print(p == p2)\n",
    "print(p == p3)"
   ]
  },
  {
   "cell_type": "code",
   "execution_count": 10,
   "metadata": {},
   "outputs": [
    {
     "name": "stdout",
     "output_type": "stream",
     "text": [
      "9\n",
      "python\n",
      "9\n"
     ]
    }
   ],
   "source": [
    "# We can use the strip method to remove these whitespaces (or other characters) from the string.\n",
    "\n",
    "print(len(p1))\n",
    "\n",
    "p10 = p1.strip()\n",
    "print(p10)\n",
    "#print(p1)\n",
    "\n",
    "print(len(p1))\n",
    "\n",
    "# As you can see, the strip method returns A NEW STRING OBJECT without modifying the original string(the original string\n",
    "# cannot be modified since it is immutable)"
   ]
  },
  {
   "cell_type": "code",
   "execution_count": null,
   "metadata": {},
   "outputs": [],
   "source": [
    "# The strip method removes the character only leading and trailing characters NOT characters from in between the string."
   ]
  },
  {
   "cell_type": "code",
   "execution_count": 272,
   "metadata": {},
   "outputs": [
    {
     "name": "stdout",
     "output_type": "stream",
     "text": [
      "Python Rocks\n"
     ]
    }
   ],
   "source": [
    "x = '   Python Rocks  '\n",
    "\n",
    "print(x.strip())"
   ]
  },
  {
   "cell_type": "code",
   "execution_count": 85,
   "metadata": {},
   "outputs": [
    {
     "name": "stdout",
     "output_type": "stream",
     "text": [
      "Python                 Rocks\n"
     ]
    }
   ],
   "source": [
    "x = '     Python                 Rocks               '\n",
    "\n",
    "print(x.strip())"
   ]
  },
  {
   "cell_type": "code",
   "execution_count": null,
   "metadata": {},
   "outputs": [],
   "source": [
    "# The strip method can take one parameter i.e. the character to be removed. The default to be stripped is whitespace but\n",
    "# this can be changed to the character(s) of choice."
   ]
  },
  {
   "cell_type": "code",
   "execution_count": 86,
   "metadata": {},
   "outputs": [
    {
     "name": "stdout",
     "output_type": "stream",
     "text": [
      "Python\n"
     ]
    }
   ],
   "source": [
    "x = '***Python***'\n",
    "\n",
    "print(x.strip('*'))"
   ]
  },
  {
   "cell_type": "code",
   "execution_count": null,
   "metadata": {},
   "outputs": [],
   "source": [
    "x = '***   Python    ***'\n",
    "print(x.strip('*'))"
   ]
  },
  {
   "cell_type": "code",
   "execution_count": 12,
   "metadata": {},
   "outputs": [
    {
     "name": "stdout",
     "output_type": "stream",
     "text": [
      "Python\n"
     ]
    }
   ],
   "source": [
    "x = '***   *** Python ***  ***'\n",
    "\n",
    "print(x.strip('* '))"
   ]
  },
  {
   "cell_type": "code",
   "execution_count": 88,
   "metadata": {},
   "outputs": [
    {
     "name": "stdout",
     "output_type": "stream",
     "text": [
      "Python\n"
     ]
    }
   ],
   "source": [
    "x = 'xyxyxyxyPythonxyxyxyxy'\n",
    "\n",
    "print(x.strip('xy'))"
   ]
  },
  {
   "cell_type": "code",
   "execution_count": 89,
   "metadata": {},
   "outputs": [
    {
     "name": "stdout",
     "output_type": "stream",
     "text": [
      "Python\n"
     ]
    }
   ],
   "source": [
    "x = 'x x x x x Pythonx x x x x x '\n",
    "print(x.strip('x '))\n"
   ]
  },
  {
   "cell_type": "code",
   "execution_count": 13,
   "metadata": {},
   "outputs": [
    {
     "name": "stdout",
     "output_type": "stream",
     "text": [
      "15\n",
      "    Python\n",
      "10\n"
     ]
    }
   ],
   "source": [
    "#The rstrip method removes whitespace or characters from the right side of the string.\n",
    "\n",
    "x = '    Python     '\n",
    "\n",
    "print(len(x))\n",
    "\n",
    "y = x.rstrip()\n",
    "\n",
    "print(y)\n",
    "\n",
    "print(len(y))\n",
    "\n",
    "#The same as strip method, the original string cannot be mutated and a new string object is returned."
   ]
  },
  {
   "cell_type": "code",
   "execution_count": 14,
   "metadata": {},
   "outputs": [
    {
     "name": "stdout",
     "output_type": "stream",
     "text": [
      "xxxx Python \n"
     ]
    }
   ],
   "source": [
    "x = 'xxxx Python xxxxx'\n",
    "\n",
    "print(x.rstrip('x'))\n"
   ]
  },
  {
   "cell_type": "code",
   "execution_count": 1,
   "metadata": {},
   "outputs": [
    {
     "name": "stdout",
     "output_type": "stream",
     "text": [
      "15\n",
      "Python     \n",
      "11\n"
     ]
    }
   ],
   "source": [
    "# And on the left side we use lstrip exactly the same as strip and rstrip methods\n",
    "\n",
    "x = '    Python     '\n",
    "\n",
    "print(len(x))\n",
    "\n",
    "y = x.lstrip()\n",
    "\n",
    "print(y)\n",
    "\n",
    "print(len(y))\n",
    "\n",
    "#The same as strip method, the original string cannot be mutated and a new string object is returned."
   ]
  },
  {
   "cell_type": "code",
   "execution_count": null,
   "metadata": {},
   "outputs": [],
   "source": [
    "x = 'xxxx Python xxxx'\n",
    "print(x.lstrip('x'))"
   ]
  },
  {
   "cell_type": "code",
   "execution_count": 269,
   "metadata": {},
   "outputs": [
    {
     "name": "stdout",
     "output_type": "stream",
     "text": [
      "2\n"
     ]
    }
   ],
   "source": [
    "# Finding a substring from a string. We can use find method to find a substring from a string. It returns the starting index\n",
    "# number of THE FIRST OCCURENCE where the substring was found in the original string.\n",
    "\n",
    "print('Python Python'.find('t'))"
   ]
  },
  {
   "cell_type": "code",
   "execution_count": 94,
   "metadata": {},
   "outputs": [
    {
     "name": "stdout",
     "output_type": "stream",
     "text": [
      "2\n"
     ]
    }
   ],
   "source": [
    "x = 'Python Python'\n",
    "y = 't'\n",
    "\n",
    "print(x.find(y))"
   ]
  },
  {
   "cell_type": "code",
   "execution_count": 95,
   "metadata": {},
   "outputs": [
    {
     "name": "stdout",
     "output_type": "stream",
     "text": [
      "3\n"
     ]
    }
   ],
   "source": [
    "print('Python Python'.find('ho'))"
   ]
  },
  {
   "cell_type": "code",
   "execution_count": 92,
   "metadata": {},
   "outputs": [
    {
     "name": "stdout",
     "output_type": "stream",
     "text": [
      "3\n"
     ]
    }
   ],
   "source": [
    "x = 'Python Python'\n",
    "y = 'ho'\n",
    "print(x.find(y))"
   ]
  },
  {
   "cell_type": "code",
   "execution_count": 270,
   "metadata": {},
   "outputs": [
    {
     "name": "stdout",
     "output_type": "stream",
     "text": [
      "2\n"
     ]
    }
   ],
   "source": [
    "# The index method does the same operation as the find method.\n",
    "print('Python Python'.index('t'))"
   ]
  },
  {
   "cell_type": "code",
   "execution_count": 1,
   "metadata": {},
   "outputs": [
    {
     "name": "stdout",
     "output_type": "stream",
     "text": [
      "2\n"
     ]
    }
   ],
   "source": [
    "x = 'Python Python'\n",
    "y = 't'\n",
    "print(x.index(y))"
   ]
  },
  {
   "cell_type": "code",
   "execution_count": 2,
   "metadata": {},
   "outputs": [
    {
     "name": "stdout",
     "output_type": "stream",
     "text": [
      "3\n"
     ]
    }
   ],
   "source": [
    "print('Python Python'.index('ho'))"
   ]
  },
  {
   "cell_type": "code",
   "execution_count": 3,
   "metadata": {},
   "outputs": [
    {
     "name": "stdout",
     "output_type": "stream",
     "text": [
      "3\n"
     ]
    }
   ],
   "source": [
    "x = 'Python Python'\n",
    "y = 'ho'\n",
    "print(x.index(y))"
   ]
  },
  {
   "cell_type": "code",
   "execution_count": 97,
   "metadata": {},
   "outputs": [
    {
     "name": "stdout",
     "output_type": "stream",
     "text": [
      "-1\n"
     ]
    }
   ],
   "source": [
    "# The only differnce between the find and index method is that if the find method doesnt find the substring it returns -1\n",
    "# while the index method returns an error\n",
    "\n",
    "print('Python Python'.find('x'))"
   ]
  },
  {
   "cell_type": "code",
   "execution_count": 98,
   "metadata": {},
   "outputs": [
    {
     "ename": "ValueError",
     "evalue": "substring not found",
     "output_type": "error",
     "traceback": [
      "\u001b[1;31m---------------------------------------------------------------------------\u001b[0m",
      "\u001b[1;31mValueError\u001b[0m                                Traceback (most recent call last)",
      "\u001b[1;32m<ipython-input-98-76c1f5e65472>\u001b[0m in \u001b[0;36m<module>\u001b[1;34m\u001b[0m\n\u001b[1;32m----> 1\u001b[1;33m \u001b[0mprint\u001b[0m\u001b[1;33m(\u001b[0m\u001b[1;34m'Python Python'\u001b[0m\u001b[1;33m.\u001b[0m\u001b[0mindex\u001b[0m\u001b[1;33m(\u001b[0m\u001b[1;34m'x'\u001b[0m\u001b[1;33m)\u001b[0m\u001b[1;33m)\u001b[0m\u001b[1;33m\u001b[0m\u001b[1;33m\u001b[0m\u001b[0m\n\u001b[0m",
      "\u001b[1;31mValueError\u001b[0m: substring not found"
     ]
    }
   ],
   "source": [
    "print('Python Python'.index('x'))"
   ]
  },
  {
   "cell_type": "code",
   "execution_count": 15,
   "metadata": {},
   "outputs": [
    {
     "name": "stdout",
     "output_type": "stream",
     "text": [
      "Please provide a correct substring\n"
     ]
    }
   ],
   "source": [
    "#The difference between them and the uses can be further explained by exception handling. In case you wish to get the output\n",
    "# of your application in such a way that the rest of your code continues to run but only account for the fact that the\n",
    "# substring was not found and you would get a -1 value, the you would use find. If however, on not finding a substring, you\n",
    "# wish your program to do something completely different - then you would let the exception be thrown BUT specify to the\n",
    "# program that on getting a ValueError do something else.\n",
    "\n",
    "def find_sub(x,y):\n",
    "    try:\n",
    "        print(f'Substring found at position {x.index(y)}.')\n",
    "    \n",
    "    except:\n",
    "        print(f'Please provide a correct substring')\n",
    "              \n",
    "find_sub('Python Python', 'x')\n",
    "\n",
    "# We shall get into the detail of try and except blocks in a separate lecture."
   ]
  },
  {
   "cell_type": "code",
   "execution_count": 16,
   "metadata": {},
   "outputs": [
    {
     "name": "stdout",
     "output_type": "stream",
     "text": [
      "9\n"
     ]
    }
   ],
   "source": [
    "# The rfind method searches the string from the right to left instead of conventional left to right i.e. you can look for\n",
    "# the substring starting from the back of the string. Remember that it will return the index number of the FIRST OCCURENCE\n",
    "# of the substring but starting from right to left. It DOES NOT give the negative index number. It still gives the positive\n",
    "# index number but starts searching from the end of the string.\n",
    "\n",
    "print('Python Python'.rfind('t'))"
   ]
  },
  {
   "cell_type": "code",
   "execution_count": 17,
   "metadata": {},
   "outputs": [
    {
     "name": "stdout",
     "output_type": "stream",
     "text": [
      "9\n"
     ]
    }
   ],
   "source": [
    "# Similarly the rindex method searches for the FIRST OCCURENCE of the substring from right to left and throws an exception\n",
    "# if the string is not found.\n",
    "\n",
    "print('Python Python'.rindex('t'))"
   ]
  },
  {
   "cell_type": "code",
   "execution_count": 18,
   "metadata": {},
   "outputs": [
    {
     "name": "stdout",
     "output_type": "stream",
     "text": [
      "9\n",
      "9\n"
     ]
    }
   ],
   "source": [
    "# Both the find(and rfind) and index(and rindex) methods take 3 parameters. \n",
    "\n",
    "# 1. Substring to be found - Mandatory\n",
    "# 2. Start index - Optional. If not provided defaults to 0\n",
    "# 3. Stop index - Optional. If not provided defaults to end of string(length of string - 1)\n",
    "\n",
    "print('Python Python'.find('t', 3, 11))\n",
    "print('Python Python'.index('t', 3, 11))"
   ]
  },
  {
   "cell_type": "code",
   "execution_count": 19,
   "metadata": {},
   "outputs": [
    {
     "name": "stdout",
     "output_type": "stream",
     "text": [
      "9\n",
      "9\n"
     ]
    }
   ],
   "source": [
    "\n",
    "print('Python Python'.find('t', 3))\n",
    "print('Python Python'.index('t', 3))"
   ]
  },
  {
   "cell_type": "code",
   "execution_count": 104,
   "metadata": {},
   "outputs": [
    {
     "ename": "ValueError",
     "evalue": "substring not found",
     "output_type": "error",
     "traceback": [
      "\u001b[1;31m---------------------------------------------------------------------------\u001b[0m",
      "\u001b[1;31mValueError\u001b[0m                                Traceback (most recent call last)",
      "\u001b[1;32m<ipython-input-104-cf181ee541a7>\u001b[0m in \u001b[0;36m<module>\u001b[1;34m\u001b[0m\n\u001b[0;32m      1\u001b[0m \u001b[1;31m# print('Python Python'.find('t', 3, 8))\u001b[0m\u001b[1;33m\u001b[0m\u001b[1;33m\u001b[0m\u001b[1;33m\u001b[0m\u001b[0m\n\u001b[1;32m----> 2\u001b[1;33m \u001b[0mprint\u001b[0m\u001b[1;33m(\u001b[0m\u001b[1;34m'Python Python'\u001b[0m\u001b[1;33m.\u001b[0m\u001b[0mindex\u001b[0m\u001b[1;33m(\u001b[0m\u001b[1;34m't'\u001b[0m\u001b[1;33m,\u001b[0m \u001b[1;36m3\u001b[0m\u001b[1;33m,\u001b[0m \u001b[1;36m8\u001b[0m\u001b[1;33m)\u001b[0m\u001b[1;33m)\u001b[0m\u001b[1;33m\u001b[0m\u001b[1;33m\u001b[0m\u001b[0m\n\u001b[0m",
      "\u001b[1;31mValueError\u001b[0m: substring not found"
     ]
    }
   ],
   "source": [
    "# print('Python Python'.find('t', 3, 8))\n",
    "print('Python Python'.index('t', 3, 8))"
   ]
  },
  {
   "cell_type": "code",
   "execution_count": 20,
   "metadata": {},
   "outputs": [
    {
     "ename": "SyntaxError",
     "evalue": "invalid syntax (<ipython-input-20-a9d953f82fc6>, line 1)",
     "output_type": "error",
     "traceback": [
      "\u001b[1;36m  File \u001b[1;32m\"<ipython-input-20-a9d953f82fc6>\"\u001b[1;36m, line \u001b[1;32m1\u001b[0m\n\u001b[1;33m    print('Python Python'.find('t',,11))\u001b[0m\n\u001b[1;37m                                   ^\u001b[0m\n\u001b[1;31mSyntaxError\u001b[0m\u001b[1;31m:\u001b[0m invalid syntax\n"
     ]
    }
   ],
   "source": [
    "print('Python Python'.find('t',,11))\n",
    "print('Python Python'.index('t',,11))\n",
    "\n",
    "# Note - though both start and stop parameters are optional - to be able to provide the stop parameter, the start parameter\n",
    "# must be provided or you will get a syntax error i.e. if the function receives the substring to search which is mandatory,\n",
    "# plus only one parameter - it will assume that is the start parameter and default to end of string for the stop parameter.\n",
    "\n",
    "# That means - you can have the following parameters\n",
    "# Only Substring to be found\n",
    "# Substring to be found and start parameter. No stop parameter\n",
    "# Substring, start and stop parameters\n",
    "\n",
    "# You cannot have:\n",
    "# Substring and stop parameter - no start parameter"
   ]
  },
  {
   "cell_type": "code",
   "execution_count": 12,
   "metadata": {},
   "outputs": [
    {
     "name": "stdout",
     "output_type": "stream",
     "text": [
      "2\n",
      "6\n"
     ]
    },
    {
     "data": {
      "text/plain": [
       "'love'"
      ]
     },
     "execution_count": 12,
     "metadata": {},
     "output_type": "execute_result"
    }
   ],
   "source": [
    "sub_str = 'love'\n",
    "\n",
    "o_str = 'I love India'\n",
    "\n",
    "print(o_str.find(sub_str))\n",
    "\n",
    "print(o_str.find(sub_str)+len(sub_str))\n",
    "\n",
    "o_str[2:6]"
   ]
  },
  {
   "cell_type": "code",
   "execution_count": 17,
   "metadata": {},
   "outputs": [
    {
     "name": "stdout",
     "output_type": "stream",
     "text": [
      "5\n"
     ]
    }
   ],
   "source": [
    "x = o_str.find(sub_str[::-1][0])\n",
    "print(x)"
   ]
  },
  {
   "cell_type": "code",
   "execution_count": 110,
   "metadata": {},
   "outputs": [
    {
     "name": "stdout",
     "output_type": "stream",
     "text": [
      "e\n",
      "5\n"
     ]
    }
   ],
   "source": [
    "x = o_str.find(sub_str[::-1][0])\n",
    "print(sub_str[::-1][0])\n",
    "print(x)"
   ]
  },
  {
   "cell_type": "markdown",
   "metadata": {},
   "source": [
    "# Excercise for class. \n",
    "\n",
    "### Find the starting AND ENDING index of the LAST occurrence of 'butter' in the above string. "
   ]
  },
  {
   "cell_type": "code",
   "execution_count": 111,
   "metadata": {},
   "outputs": [
    {
     "name": "stdout",
     "output_type": "stream",
     "text": [
      "4\n"
     ]
    }
   ],
   "source": [
    "orig_string = 'betty bought some butter but the butter was bitter so betty bought some better butter to make the bitter butter better'\n",
    "sub_str = 'butter'\n",
    "\n",
    "print(orig_string.count(sub_str))"
   ]
  },
  {
   "cell_type": "code",
   "execution_count": 112,
   "metadata": {},
   "outputs": [
    {
     "name": "stdout",
     "output_type": "stream",
     "text": [
      "5\n"
     ]
    }
   ],
   "source": [
    "# Count method for strings. Counts the number of occurrences of the substring in the original string.\n",
    "\n",
    "print('Pythooooon'.count('o'))"
   ]
  },
  {
   "cell_type": "code",
   "execution_count": null,
   "metadata": {},
   "outputs": [],
   "source": [
    "x = 'Pythooooon'\n",
    "y = 'o'\n",
    "\n",
    "print(x.count(y))"
   ]
  },
  {
   "cell_type": "code",
   "execution_count": null,
   "metadata": {},
   "outputs": [],
   "source": [
    "print('PythonPythonPython'.count('Python'))"
   ]
  },
  {
   "cell_type": "code",
   "execution_count": 113,
   "metadata": {},
   "outputs": [
    {
     "name": "stdout",
     "output_type": "stream",
     "text": [
      "3\n"
     ]
    }
   ],
   "source": [
    "x = 'Python'*3\n",
    "y = 'Python'\n",
    "\n",
    "print(x.count(y))"
   ]
  },
  {
   "cell_type": "code",
   "execution_count": null,
   "metadata": {},
   "outputs": [],
   "source": [
    "#print(('Python'*7).count('Python'))"
   ]
  },
  {
   "cell_type": "code",
   "execution_count": 18,
   "metadata": {},
   "outputs": [
    {
     "name": "stdout",
     "output_type": "stream",
     "text": [
      "11\n"
     ]
    }
   ],
   "source": [
    "x = 'Betty bought some butter but the butter was bitter so Betty bought some better butter to make the bitter butter better'\n",
    "\n",
    "print(x.count('b'))"
   ]
  },
  {
   "cell_type": "code",
   "execution_count": 19,
   "metadata": {},
   "outputs": [
    {
     "name": "stdout",
     "output_type": "stream",
     "text": [
      "13\n"
     ]
    }
   ],
   "source": [
    "x = 'betty bought some butter but the butter was bitter so betty bought some better butter to make the bitter butter better'\n",
    "y = 'b'\n",
    "print(x.count(y))"
   ]
  },
  {
   "cell_type": "code",
   "execution_count": 114,
   "metadata": {},
   "outputs": [
    {
     "name": "stdout",
     "output_type": "stream",
     "text": [
      "4\n"
     ]
    }
   ],
   "source": [
    "x = 'betty bought some butter but the butter was bitter so betty bought some better butter to make the bitter butter better'\n",
    "y = 'butter'\n",
    "print(x.count(y))"
   ]
  },
  {
   "cell_type": "code",
   "execution_count": null,
   "metadata": {},
   "outputs": [],
   "source": [
    "# The count method takes 3 parameters. \n",
    "\n",
    "#1. The substring to be counted\n",
    "#2. The start index - Optional\n",
    "#3. The stop index - Optional\n",
    "\n",
    "# Just as the find, rfind, index and rindex methods - for the count method also to provide a stop index, start index must be\n",
    "# provided."
   ]
  },
  {
   "cell_type": "code",
   "execution_count": 115,
   "metadata": {},
   "outputs": [
    {
     "name": "stdout",
     "output_type": "stream",
     "text": [
      "118\n"
     ]
    }
   ],
   "source": [
    "print(len(x))"
   ]
  },
  {
   "cell_type": "code",
   "execution_count": 116,
   "metadata": {},
   "outputs": [
    {
     "name": "stdout",
     "output_type": "stream",
     "text": [
      "3\n"
     ]
    }
   ],
   "source": [
    "print(x.count(y,20,118))"
   ]
  },
  {
   "cell_type": "code",
   "execution_count": 117,
   "metadata": {},
   "outputs": [
    {
     "name": "stdout",
     "output_type": "stream",
     "text": [
      "3\n"
     ]
    }
   ],
   "source": [
    "print(x.count(y,20))"
   ]
  },
  {
   "cell_type": "code",
   "execution_count": 118,
   "metadata": {},
   "outputs": [
    {
     "name": "stdout",
     "output_type": "stream",
     "text": [
      "3\n"
     ]
    }
   ],
   "source": [
    "print(x.count(y,26))"
   ]
  },
  {
   "cell_type": "code",
   "execution_count": 119,
   "metadata": {},
   "outputs": [
    {
     "name": "stdout",
     "output_type": "stream",
     "text": [
      "2\n"
     ]
    }
   ],
   "source": [
    "print(x.count(y,26,100))"
   ]
  },
  {
   "cell_type": "code",
   "execution_count": 120,
   "metadata": {},
   "outputs": [
    {
     "name": "stdout",
     "output_type": "stream",
     "text": [
      "My name is Adithya\n"
     ]
    }
   ],
   "source": [
    "# Replace method in Python\n",
    "\n",
    "orig_str = 'My name is Rikki'\n",
    "str1 = 'Rikki'\n",
    "str2 = 'Adithya'\n",
    "\n",
    "print(orig_str.replace(str1, str2))"
   ]
  },
  {
   "cell_type": "code",
   "execution_count": 121,
   "metadata": {},
   "outputs": [
    {
     "name": "stdout",
     "output_type": "stream",
     "text": [
      "My name is Rikki\n"
     ]
    }
   ],
   "source": [
    "print(orig_str)"
   ]
  },
  {
   "cell_type": "code",
   "execution_count": 122,
   "metadata": {},
   "outputs": [
    {
     "name": "stdout",
     "output_type": "stream",
     "text": [
      "My name is Adithya\n"
     ]
    }
   ],
   "source": [
    "# Just like the concatenation and strip methods - the original strings remain unchanged. To use the string formed from the\n",
    "# replace function - the output needs to be saved to a variable.\n",
    "\n",
    "str3 = orig_str.replace(str1, str2)\n",
    "\n",
    "print(str3)"
   ]
  },
  {
   "cell_type": "code",
   "execution_count": 1,
   "metadata": {},
   "outputs": [
    {
     "name": "stdout",
     "output_type": "stream",
     "text": [
      "Pyth0n Pyth0n Pyth0n Pyth0n Pyth0n Pyth0n Pyth0n Pyth0n Pyth0n Pyth0n \n"
     ]
    }
   ],
   "source": [
    "# Besides the sub_string to be replaced and the string that will replace it, replace also takes an optional parameter\n",
    "# maxcount.\n",
    "\n",
    "# 1. substr1 - Mandatory. The piece of string inside the original string that has to be replaced.\n",
    "# 2. substr2 - Mandatory. The string that will replace substr1\n",
    "# 3. Maxcount - Maximum number of times to replace the substring with new piece of string. This is optional. If this is\n",
    "# not provided then all the occurrences of the substr1 are replaced with substr2.\n",
    "\n",
    "orig_str = 'Python '*10\n",
    "str1 = 'o'\n",
    "str2 = '0'\n",
    "\n",
    "str3 = orig_str.replace(str1, str2)\n",
    "\n",
    "print(str3)"
   ]
  },
  {
   "cell_type": "code",
   "execution_count": 124,
   "metadata": {},
   "outputs": [
    {
     "name": "stdout",
     "output_type": "stream",
     "text": [
      "Pyth0n Pyth0n Pyth0n Python Python Python Python Python Python Python \n"
     ]
    }
   ],
   "source": [
    "str4 = orig_str.replace(str1, str2, 3)\n",
    "\n",
    "print(str4)"
   ]
  },
  {
   "cell_type": "code",
   "execution_count": 125,
   "metadata": {},
   "outputs": [
    {
     "name": "stdout",
     "output_type": "stream",
     "text": [
      "['betty', 'bought', 'some', 'butter', 'but', 'the', 'butter', 'was', 'bitter', 'so', 'betty', 'bought', 'some', 'better', 'butter', 'to', 'make', 'the', 'bitter', 'butter', 'better']\n"
     ]
    }
   ],
   "source": [
    "# Splitting strings. The split method in Python spllts a string based on white spacces into a list.\n",
    "\n",
    "x = 'betty bought some butter but the butter was bitter so betty bought some better butter to make the bitter butter better'\n",
    "\n",
    "print(x.split())"
   ]
  },
  {
   "cell_type": "code",
   "execution_count": 126,
   "metadata": {},
   "outputs": [
    {
     "name": "stdout",
     "output_type": "stream",
     "text": [
      "['', 'etty ', 'ought some ', 'utter ', 'ut the ', 'utter was ', 'itter so ', 'etty ', 'ought some ', 'etter ', 'utter to make the ', 'itter ', 'utter ', 'etter']\n"
     ]
    }
   ],
   "source": [
    "x = 'betty bought some butter but the butter was bitter so betty bought some better butter to make the bitter butter better'\n",
    "\n",
    "print(x.split('b'))"
   ]
  },
  {
   "cell_type": "code",
   "execution_count": 264,
   "metadata": {},
   "outputs": [
    {
     "name": "stdout",
     "output_type": "stream",
     "text": [
      "['betty bought ', ' butter but the butter was bitter so betty bought ', ' better butter to make the bitter butter better']\n"
     ]
    }
   ],
   "source": [
    "x = 'betty bought some butter but the butter was bitter so betty bought some better butter to make the bitter butter better'\n",
    "\n",
    "print(x.split('some'))"
   ]
  },
  {
   "cell_type": "code",
   "execution_count": 265,
   "metadata": {},
   "outputs": [
    {
     "name": "stdout",
     "output_type": "stream",
     "text": [
      "['betty', 'bought', 'some', 'butter', 'but', 'the', 'butter', 'was', 'bitter', 'so', 'betty', 'bought', 'some', 'better', 'butter', 'to', 'make', 'the', 'bitter', 'butter', 'better']\n"
     ]
    }
   ],
   "source": [
    "# The split method returns a list object. As with the other methods, if we need to use this list later, it must be saved\n",
    "# to a variable.\n",
    "\n",
    "y = print(x.split())"
   ]
  },
  {
   "cell_type": "code",
   "execution_count": 20,
   "metadata": {},
   "outputs": [
    {
     "name": "stdout",
     "output_type": "stream",
     "text": [
      "betty\n",
      "bought\n",
      "some\n",
      "butter\n",
      "but\n",
      "the\n",
      "butter\n",
      "was\n",
      "bitter\n",
      "so\n",
      "betty\n",
      "bought\n",
      "some\n",
      "better\n",
      "butter\n",
      "to\n",
      "make\n",
      "the\n",
      "bitter\n",
      "butter\n",
      "better\n"
     ]
    }
   ],
   "source": [
    "# However, we could perform some operations directly on the returned list if we do not require the output list again. For\n",
    "# example:\n",
    "\n",
    "for i in x.split():\n",
    "    print(i)\n",
    "\n",
    "# We will delve into for and while loops in a later lecture in deep and see other uses of loops.\n",
    "\n",
    "#This above implementation saves memory space as after splitting and performing the operation, the split list is removed\n",
    "# from memory."
   ]
  },
  {
   "cell_type": "code",
   "execution_count": 128,
   "metadata": {},
   "outputs": [
    {
     "name": "stdout",
     "output_type": "stream",
     "text": [
      "['betty bought some ', ' but the ', ' was bitter so betty bought some better ', ' to make the bitter ', ' better']\n"
     ]
    }
   ],
   "source": [
    "# The split method can take two parameters.\n",
    "\n",
    "#1. Separator - what we want to use to separate the list. Optional - if not provided the default is space. \n",
    "# SPECIAL NOTE - the separator is NOT included in the output list. Therefore to join the list back - the same separator\n",
    "# must be used. More on that later.\n",
    "# Maxcount - Maximum number of splits we want to do - from left to right.Optional. If not provided then the string will be\n",
    "# split at every occurrence of the separator.\n",
    "\n",
    "x = 'betty bought some butter but the butter was bitter so betty bought some better butter to make the bitter butter better'\n",
    "\n",
    "y = x.split('butter')\n",
    "\n",
    "print(y)"
   ]
  },
  {
   "cell_type": "code",
   "execution_count": 129,
   "metadata": {},
   "outputs": [
    {
     "name": "stdout",
     "output_type": "stream",
     "text": [
      "['betty bought some ', ' but the ', ' was bitter so betty bought some better butter to make the bitter butter better']\n"
     ]
    }
   ],
   "source": [
    "y = x.split('butter', 2)\n",
    "\n",
    "print(y)"
   ]
  },
  {
   "cell_type": "code",
   "execution_count": 34,
   "metadata": {},
   "outputs": [
    {
     "name": "stdout",
     "output_type": "stream",
     "text": [
      "['betty', 'bought', 'some', 'butter', 'but', 'the', 'butter', 'was', 'bitter', 'so', 'betty', 'bought', 'some', 'better', 'butter', 'to', 'make', 'the', 'bitter', 'butter', 'better']\n"
     ]
    }
   ],
   "source": [
    "# Join method on strings. The join method works on iterables - like lists, tuples, sets etc. For ease of explanation, we\n",
    "# will work with lists today. Once other datatypes are covered, you may try using the join method on other iterables.\n",
    "# The separator must be provided on which the strings in the iterable will be joined. \n",
    "#join method can only join strings not other datatype like int\n",
    "# If the join method finds a NON-STRING in the iterable, it will throw a TypeError\n",
    "\n",
    "x = 'betty bought some butter but the butter was bitter so betty bought some better butter to make the bitter butter better'\n",
    "y = x.split()\n",
    "\n",
    "print(y)"
   ]
  },
  {
   "cell_type": "code",
   "execution_count": 35,
   "metadata": {},
   "outputs": [
    {
     "name": "stdout",
     "output_type": "stream",
     "text": [
      "bettyboughtsomebutterbutthebutterwasbittersobettyboughtsomebetterbuttertomakethebitterbutterbetter\n"
     ]
    }
   ],
   "source": [
    "z = \"\".join(y)\n",
    "print(z)"
   ]
  },
  {
   "cell_type": "code",
   "execution_count": 37,
   "metadata": {},
   "outputs": [
    {
     "name": "stdout",
     "output_type": "stream",
     "text": [
      "betty-bought-some-butter-but-the-butter-was-bitter-so-betty-bought-some-better-butter-to-make-the-bitter-butter-better\n"
     ]
    }
   ],
   "source": [
    "z = \"-\".join(y)\n",
    "print(z)"
   ]
  },
  {
   "cell_type": "code",
   "execution_count": 133,
   "metadata": {},
   "outputs": [
    {
     "name": "stdout",
     "output_type": "stream",
     "text": [
      "['betty', 'bought', 'some', 'butter', 'but', 'the', 'butter', 'was', 'bitter', 'so', 'betty', 'bought', 'some', 'better', 'butter', 'to', 'make', 'the', 'bitter', 'butter', 'better', 10, 20]\n"
     ]
    }
   ],
   "source": [
    "y += [10,20]\n",
    "print(y)"
   ]
  },
  {
   "cell_type": "code",
   "execution_count": 136,
   "metadata": {},
   "outputs": [
    {
     "name": "stdout",
     "output_type": "stream",
     "text": [
      "<class 'int'>\n"
     ]
    }
   ],
   "source": [
    "print(type(y[-1]))"
   ]
  },
  {
   "cell_type": "code",
   "execution_count": null,
   "metadata": {},
   "outputs": [],
   "source": [
    "z = \" \".join(y)"
   ]
  },
  {
   "cell_type": "code",
   "execution_count": 137,
   "metadata": {},
   "outputs": [
    {
     "name": "stdout",
     "output_type": "stream",
     "text": [
      "BETTY BOUGHT SOME BUTTER BUT THE BUTTER WAS BITTER SO BETTY BOUGHT SOME BETTER BUTTER TO MAKE THE BITTER BUTTER BETTER\n"
     ]
    }
   ],
   "source": [
    "# Case changing methods in strings. \n",
    "\n",
    "# There are four methods on strings which we can use to change the case (upper or lower) of a string.\n",
    "\n",
    "# As with other methods, the original string remains unchanged and if the output of the methods needs to be used later, \n",
    "# it must be saved.\n",
    "\n",
    "x = 'Betty bought some butter but the butter was bitter so Betty bought some better butter to make the bitter butter better'\n",
    "\n",
    "#1. upper() method - changes string characters to upper case(if they are already upper case, they remain unchnaged)\n",
    "\n",
    "y = x.upper()\n",
    "print(y)"
   ]
  },
  {
   "cell_type": "code",
   "execution_count": 138,
   "metadata": {},
   "outputs": [
    {
     "name": "stdout",
     "output_type": "stream",
     "text": [
      "betty bought some butter but the butter was bitter so betty bought some better butter to make the bitter butter better\n"
     ]
    }
   ],
   "source": [
    "#2. lower() method - changes string characters to lower case(if they are already lower case, they remain unchanged)\n",
    "\n",
    "y = x.lower()\n",
    "print(y)"
   ]
  },
  {
   "cell_type": "code",
   "execution_count": 139,
   "metadata": {},
   "outputs": [
    {
     "name": "stdout",
     "output_type": "stream",
     "text": [
      "Betty Bought Some Butter But The Butter Was Bitter So Betty Bought Some Better Butter To Make The Bitter Butter Better\n"
     ]
    }
   ],
   "source": [
    "#3. title() method - changes the first alphabet of every word to upper case and the others become lower case.\n",
    "\n",
    "z = y.title()\n",
    "\n",
    "print(z)\n"
   ]
  },
  {
   "cell_type": "code",
   "execution_count": 140,
   "metadata": {},
   "outputs": [
    {
     "name": "stdout",
     "output_type": "stream",
     "text": [
      "Betty bought some butter but the butter was bitter so betty bought some better butter to make the bitter butter better\n"
     ]
    }
   ],
   "source": [
    "#4. Capitalize() method - changes the first letter of the string to upper case and the rest to lower.\n",
    "\n",
    "z = y.capitalize()\n",
    "print(z)"
   ]
  },
  {
   "cell_type": "code",
   "execution_count": 141,
   "metadata": {},
   "outputs": [
    {
     "name": "stdout",
     "output_type": "stream",
     "text": [
      "Java is great. not as great as python\n"
     ]
    }
   ],
   "source": [
    "x = 'java is great. not as great as python'\n",
    "\n",
    "z = x.capitalize()\n",
    "print(z)\n",
    "\n",
    "#Note how it does not understand to change the letter after the period to capital and also the first letter of Python to\n",
    "# capital."
   ]
  },
  {
   "cell_type": "code",
   "execution_count": 142,
   "metadata": {},
   "outputs": [
    {
     "name": "stdout",
     "output_type": "stream",
     "text": [
      "bETTY BOUGHT SOME BUTTER BUT THE BUTTER WAS BITTER SO bETTY BOUGHT SOME BETTER BUTTER TO MAKE THE BITTER BUTTER BETTER\n"
     ]
    }
   ],
   "source": [
    "#5. Swapcase() method - interchanges the case of the alphabets in the string.\n",
    "\n",
    "x = 'Betty bought some butter but the butter was bitter so Betty bought some better butter to make the bitter butter better'\n",
    "\n",
    "z = x.swapcase()\n",
    "print(z)\n",
    "\n"
   ]
  },
  {
   "cell_type": "code",
   "execution_count": 143,
   "metadata": {},
   "outputs": [
    {
     "name": "stdout",
     "output_type": "stream",
     "text": [
      "True\n"
     ]
    }
   ],
   "source": [
    "# Startswith and endswith methods for strings. The startswith and endswith methods in Python check if the string respectively\n",
    "# starts with or ends with substring. Returns True or False.\n",
    "\n",
    "\n",
    "x = 'Python'\n",
    "sw = 'P'\n",
    "ew = 'n'\n",
    "\n",
    "print(x.startswith(sw))\n",
    "\n"
   ]
  },
  {
   "cell_type": "code",
   "execution_count": null,
   "metadata": {},
   "outputs": [],
   "source": [
    "print(x.endswith(ew))\n"
   ]
  },
  {
   "cell_type": "code",
   "execution_count": 144,
   "metadata": {},
   "outputs": [
    {
     "name": "stdout",
     "output_type": "stream",
     "text": [
      "True\n"
     ]
    }
   ],
   "source": [
    "print('Python'.startswith('P'))"
   ]
  },
  {
   "cell_type": "code",
   "execution_count": 145,
   "metadata": {},
   "outputs": [
    {
     "name": "stdout",
     "output_type": "stream",
     "text": [
      "True\n"
     ]
    }
   ],
   "source": [
    "print('Python'.endswith('n'))"
   ]
  },
  {
   "cell_type": "code",
   "execution_count": 146,
   "metadata": {},
   "outputs": [
    {
     "name": "stdout",
     "output_type": "stream",
     "text": [
      "False\n"
     ]
    }
   ],
   "source": [
    "print(x.startswith('t'))"
   ]
  },
  {
   "cell_type": "code",
   "execution_count": 147,
   "metadata": {},
   "outputs": [
    {
     "name": "stdout",
     "output_type": "stream",
     "text": [
      "False\n"
     ]
    }
   ],
   "source": [
    "print(x.endswith('t'))"
   ]
  },
  {
   "cell_type": "code",
   "execution_count": 148,
   "metadata": {},
   "outputs": [
    {
     "name": "stdout",
     "output_type": "stream",
     "text": [
      "True\n"
     ]
    }
   ],
   "source": [
    "print(x.startswith('Py'))"
   ]
  },
  {
   "cell_type": "code",
   "execution_count": 149,
   "metadata": {},
   "outputs": [
    {
     "name": "stdout",
     "output_type": "stream",
     "text": [
      "True\n"
     ]
    }
   ],
   "source": [
    "print(x.endswith('on'))"
   ]
  },
  {
   "cell_type": "code",
   "execution_count": 150,
   "metadata": {},
   "outputs": [
    {
     "name": "stdout",
     "output_type": "stream",
     "text": [
      "7\n",
      "13\n"
     ]
    }
   ],
   "source": [
    "# Startswith and endswith methods takes 3 parameters:\n",
    "\n",
    "#1. substring - The string to check the original string against for beginning or ending respectively.\n",
    "#2. Start index - Optional. Defaults to index of beginning of string (0)\n",
    "#3. End Index - Optional. Defaults to index of end of string (length of string - 1)\n",
    "\n",
    "# As with other methods, to be able to provide a stop index, one must provide a start index.\n",
    "\n",
    "x = 'I love Python'\n",
    "\n",
    "print(x.find('P'))\n",
    "print(len(x))"
   ]
  },
  {
   "cell_type": "code",
   "execution_count": 151,
   "metadata": {},
   "outputs": [
    {
     "name": "stdout",
     "output_type": "stream",
     "text": [
      "True\n"
     ]
    }
   ],
   "source": [
    "print(x.startswith('P',7, 13))"
   ]
  },
  {
   "cell_type": "code",
   "execution_count": 152,
   "metadata": {},
   "outputs": [
    {
     "name": "stdout",
     "output_type": "stream",
     "text": [
      "True\n"
     ]
    }
   ],
   "source": [
    "print(x.startswith('P',7))"
   ]
  },
  {
   "cell_type": "code",
   "execution_count": 153,
   "metadata": {},
   "outputs": [
    {
     "name": "stdout",
     "output_type": "stream",
     "text": [
      "False\n"
     ]
    }
   ],
   "source": [
    "print(x.startswith('P',13))"
   ]
  },
  {
   "cell_type": "code",
   "execution_count": 154,
   "metadata": {},
   "outputs": [
    {
     "ename": "SyntaxError",
     "evalue": "invalid syntax (<ipython-input-154-c9576c49fcd4>, line 1)",
     "output_type": "error",
     "traceback": [
      "\u001b[1;36m  File \u001b[1;32m\"<ipython-input-154-c9576c49fcd4>\"\u001b[1;36m, line \u001b[1;32m1\u001b[0m\n\u001b[1;33m    print(x.startswith('P',,13))\u001b[0m\n\u001b[1;37m                           ^\u001b[0m\n\u001b[1;31mSyntaxError\u001b[0m\u001b[1;31m:\u001b[0m invalid syntax\n"
     ]
    }
   ],
   "source": [
    "print(x.startswith('P',,13))"
   ]
  },
  {
   "cell_type": "code",
   "execution_count": 155,
   "metadata": {},
   "outputs": [
    {
     "name": "stdout",
     "output_type": "stream",
     "text": [
      "False\n"
     ]
    }
   ],
   "source": [
    "print(x.startswith(\"P\",0,13))"
   ]
  },
  {
   "cell_type": "code",
   "execution_count": 156,
   "metadata": {},
   "outputs": [
    {
     "name": "stdout",
     "output_type": "stream",
     "text": [
      "True\n"
     ]
    }
   ],
   "source": [
    "print(x.endswith('P',0,8))"
   ]
  },
  {
   "cell_type": "code",
   "execution_count": 158,
   "metadata": {},
   "outputs": [
    {
     "name": "stdout",
     "output_type": "stream",
     "text": [
      "False\n"
     ]
    }
   ],
   "source": [
    "x = 'I love Python'\n",
    "print(x.endswith('P',0,6))\n"
   ]
  },
  {
   "cell_type": "code",
   "execution_count": 23,
   "metadata": {},
   "outputs": [
    {
     "name": "stdout",
     "output_type": "stream",
     "text": [
      "       Hello        \n",
      "20\n"
     ]
    }
   ],
   "source": [
    "# center method in strings - Creates an output string of specified length and centers the original text string in the new\n",
    "# output string. It pads both sides of the centered text with whitespaces by default. Default can be changed to any\n",
    "# character\n",
    "\n",
    "#ljust method in strings - creates an output string of specified length and puts the original string on the left of the\n",
    "# padding characters(whitespace by default)\n",
    "\n",
    "#rjust method in strings - creates an output string of specified length and puts the original string on the right of the\n",
    "# padding characters(whitespace by default)\n",
    "\n",
    "a = 'Hello'\n",
    "b = a.center(20)\n",
    "print(b)\n",
    "print(len(b))"
   ]
  },
  {
   "cell_type": "code",
   "execution_count": 24,
   "metadata": {},
   "outputs": [
    {
     "name": "stdout",
     "output_type": "stream",
     "text": [
      "Hello\n"
     ]
    }
   ],
   "source": [
    "print(a)"
   ]
  },
  {
   "cell_type": "code",
   "execution_count": 25,
   "metadata": {},
   "outputs": [
    {
     "name": "stdout",
     "output_type": "stream",
     "text": [
      "Hello               \n",
      "20\n"
     ]
    }
   ],
   "source": [
    "c = a.ljust(20)\n",
    "print(c)\n",
    "print(len(c))"
   ]
  },
  {
   "cell_type": "code",
   "execution_count": 26,
   "metadata": {},
   "outputs": [
    {
     "name": "stdout",
     "output_type": "stream",
     "text": [
      "               Hello\n",
      "20\n"
     ]
    }
   ],
   "source": [
    "d = a.rjust(20)\n",
    "print(d)\n",
    "print(len(d))"
   ]
  },
  {
   "cell_type": "code",
   "execution_count": 27,
   "metadata": {},
   "outputs": [
    {
     "name": "stdout",
     "output_type": "stream",
     "text": [
      "Hello\n",
      "*******Hello********\n",
      "20\n"
     ]
    }
   ],
   "source": [
    "# These methods can take two parameters. \n",
    "\n",
    "#1. The size of the final string required - mandatory\n",
    "#2. The fill character - optional. If not specified it defaults to whitespace. \n",
    "print(a)\n",
    "b = a.center(20,\"*\")\n",
    "print(b)\n",
    "print(len(b))"
   ]
  },
  {
   "cell_type": "code",
   "execution_count": 28,
   "metadata": {},
   "outputs": [
    {
     "name": "stdout",
     "output_type": "stream",
     "text": [
      "Hello***************\n",
      "20\n"
     ]
    }
   ],
   "source": [
    "c = a.ljust(20,\"*\")\n",
    "print(c)\n",
    "print(len(c))"
   ]
  },
  {
   "cell_type": "code",
   "execution_count": 166,
   "metadata": {},
   "outputs": [
    {
     "name": "stdout",
     "output_type": "stream",
     "text": [
      "***************Hello\n",
      "20\n"
     ]
    }
   ],
   "source": [
    "d = a.rjust(20,'*')\n",
    "print(d)\n",
    "print(len(d))"
   ]
  },
  {
   "cell_type": "code",
   "execution_count": 29,
   "metadata": {},
   "outputs": [
    {
     "ename": "TypeError",
     "evalue": "The fill character must be exactly one character long",
     "output_type": "error",
     "traceback": [
      "\u001b[1;31m---------------------------------------------------------------------------\u001b[0m",
      "\u001b[1;31mTypeError\u001b[0m                                 Traceback (most recent call last)",
      "\u001b[1;32m<ipython-input-29-7f0bba107429>\u001b[0m in \u001b[0;36m<module>\u001b[1;34m\u001b[0m\n\u001b[1;32m----> 1\u001b[1;33m \u001b[0mb\u001b[0m \u001b[1;33m=\u001b[0m \u001b[0ma\u001b[0m\u001b[1;33m.\u001b[0m\u001b[0mcenter\u001b[0m\u001b[1;33m(\u001b[0m\u001b[1;36m20\u001b[0m\u001b[1;33m,\u001b[0m\u001b[1;34m'* x *'\u001b[0m\u001b[1;33m)\u001b[0m\u001b[1;33m\u001b[0m\u001b[1;33m\u001b[0m\u001b[0m\n\u001b[0m\u001b[0;32m      2\u001b[0m \u001b[0mprint\u001b[0m\u001b[1;33m(\u001b[0m\u001b[0mb\u001b[0m\u001b[1;33m)\u001b[0m\u001b[1;33m\u001b[0m\u001b[1;33m\u001b[0m\u001b[0m\n\u001b[0;32m      3\u001b[0m \u001b[0mprint\u001b[0m\u001b[1;33m(\u001b[0m\u001b[0mlen\u001b[0m\u001b[1;33m(\u001b[0m\u001b[0mb\u001b[0m\u001b[1;33m)\u001b[0m\u001b[1;33m)\u001b[0m\u001b[1;33m\u001b[0m\u001b[1;33m\u001b[0m\u001b[0m\n\u001b[0;32m      4\u001b[0m \u001b[1;33m\u001b[0m\u001b[0m\n\u001b[0;32m      5\u001b[0m \u001b[1;31m#print character can only be 1 character long.\u001b[0m\u001b[1;33m\u001b[0m\u001b[1;33m\u001b[0m\u001b[1;33m\u001b[0m\u001b[0m\n",
      "\u001b[1;31mTypeError\u001b[0m: The fill character must be exactly one character long"
     ]
    }
   ],
   "source": [
    "b = a.center(20,'* x *')\n",
    "print(b)\n",
    "print(len(b))\n",
    "\n",
    "#print character can only be 1 character long."
   ]
  },
  {
   "cell_type": "code",
   "execution_count": 30,
   "metadata": {},
   "outputs": [
    {
     "ename": "TypeError",
     "evalue": "The fill character must be exactly one character long",
     "output_type": "error",
     "traceback": [
      "\u001b[1;31m---------------------------------------------------------------------------\u001b[0m",
      "\u001b[1;31mTypeError\u001b[0m                                 Traceback (most recent call last)",
      "\u001b[1;32m<ipython-input-30-281e0fe4db9f>\u001b[0m in \u001b[0;36m<module>\u001b[1;34m\u001b[0m\n\u001b[1;32m----> 1\u001b[1;33m \u001b[0mc\u001b[0m \u001b[1;33m=\u001b[0m \u001b[0ma\u001b[0m\u001b[1;33m.\u001b[0m\u001b[0mljust\u001b[0m\u001b[1;33m(\u001b[0m\u001b[1;36m20\u001b[0m\u001b[1;33m,\u001b[0m \u001b[1;34m'* x'\u001b[0m\u001b[1;33m)\u001b[0m\u001b[1;33m\u001b[0m\u001b[1;33m\u001b[0m\u001b[0m\n\u001b[0m\u001b[0;32m      2\u001b[0m \u001b[0mprint\u001b[0m\u001b[1;33m(\u001b[0m\u001b[0mc\u001b[0m\u001b[1;33m)\u001b[0m\u001b[1;33m\u001b[0m\u001b[1;33m\u001b[0m\u001b[0m\n",
      "\u001b[1;31mTypeError\u001b[0m: The fill character must be exactly one character long"
     ]
    }
   ],
   "source": [
    "c = a.ljust(20, '* x')\n",
    "print(c)"
   ]
  },
  {
   "cell_type": "code",
   "execution_count": 168,
   "metadata": {},
   "outputs": [
    {
     "ename": "TypeError",
     "evalue": "The fill character must be exactly one character long",
     "output_type": "error",
     "traceback": [
      "\u001b[1;31m---------------------------------------------------------------------------\u001b[0m",
      "\u001b[1;31mTypeError\u001b[0m                                 Traceback (most recent call last)",
      "\u001b[1;32m<ipython-input-168-0e8c4e63d7a1>\u001b[0m in \u001b[0;36m<module>\u001b[1;34m\u001b[0m\n\u001b[1;32m----> 1\u001b[1;33m \u001b[0md\u001b[0m \u001b[1;33m=\u001b[0m \u001b[0ma\u001b[0m\u001b[1;33m.\u001b[0m\u001b[0mrjust\u001b[0m\u001b[1;33m(\u001b[0m\u001b[1;36m20\u001b[0m\u001b[1;33m,\u001b[0m \u001b[1;34m'* x'\u001b[0m\u001b[1;33m)\u001b[0m\u001b[1;33m\u001b[0m\u001b[1;33m\u001b[0m\u001b[0m\n\u001b[0m\u001b[0;32m      2\u001b[0m \u001b[0mprint\u001b[0m\u001b[1;33m(\u001b[0m\u001b[0md\u001b[0m\u001b[1;33m)\u001b[0m\u001b[1;33m\u001b[0m\u001b[1;33m\u001b[0m\u001b[0m\n",
      "\u001b[1;31mTypeError\u001b[0m: The fill character must be exactly one character long"
     ]
    }
   ],
   "source": [
    "d = a.rjust(20, '* x')\n",
    "print(d)"
   ]
  },
  {
   "cell_type": "code",
   "execution_count": 169,
   "metadata": {},
   "outputs": [
    {
     "name": "stdout",
     "output_type": "stream",
     "text": [
      "Hello\n",
      "5\n"
     ]
    }
   ],
   "source": [
    "b = a.center(4, '*')\n",
    "print(b)\n",
    "print(len(b))\n",
    "\n",
    "#If the new output string length specified is less than or equal to the original string - the original string is returned."
   ]
  },
  {
   "cell_type": "code",
   "execution_count": 4,
   "metadata": {},
   "outputs": [
    {
     "ename": "NameError",
     "evalue": "name 'a' is not defined",
     "output_type": "error",
     "traceback": [
      "\u001b[1;31m---------------------------------------------------------------------------\u001b[0m",
      "\u001b[1;31mNameError\u001b[0m                                 Traceback (most recent call last)",
      "\u001b[1;32m<ipython-input-4-538fbea7bcbf>\u001b[0m in \u001b[0;36m<module>\u001b[1;34m\u001b[0m\n\u001b[1;32m----> 1\u001b[1;33m \u001b[0mc\u001b[0m \u001b[1;33m=\u001b[0m \u001b[0ma\u001b[0m\u001b[1;33m.\u001b[0m\u001b[0mljust\u001b[0m\u001b[1;33m(\u001b[0m\u001b[1;36m4\u001b[0m\u001b[1;33m,\u001b[0m\u001b[1;34m'*'\u001b[0m\u001b[1;33m)\u001b[0m\u001b[1;33m\u001b[0m\u001b[1;33m\u001b[0m\u001b[0m\n\u001b[0m\u001b[0;32m      2\u001b[0m \u001b[0mprint\u001b[0m\u001b[1;33m(\u001b[0m\u001b[0mc\u001b[0m\u001b[1;33m)\u001b[0m\u001b[1;33m\u001b[0m\u001b[1;33m\u001b[0m\u001b[0m\n\u001b[0;32m      3\u001b[0m \u001b[0mprint\u001b[0m\u001b[1;33m(\u001b[0m\u001b[0mlen\u001b[0m\u001b[1;33m(\u001b[0m\u001b[0mc\u001b[0m\u001b[1;33m)\u001b[0m\u001b[1;33m)\u001b[0m\u001b[1;33m\u001b[0m\u001b[1;33m\u001b[0m\u001b[0m\n",
      "\u001b[1;31mNameError\u001b[0m: name 'a' is not defined"
     ]
    }
   ],
   "source": [
    "c = a.ljust(4,'*')\n",
    "print(c)\n",
    "print(len(c))"
   ]
  },
  {
   "cell_type": "code",
   "execution_count": 170,
   "metadata": {},
   "outputs": [
    {
     "name": "stdout",
     "output_type": "stream",
     "text": [
      "Hello\n",
      "5\n"
     ]
    }
   ],
   "source": [
    "d = a.rjust(4,'*')\n",
    "print(d)\n",
    "print(len(d))"
   ]
  },
  {
   "cell_type": "code",
   "execution_count": 31,
   "metadata": {},
   "outputs": [
    {
     "name": "stdout",
     "output_type": "stream",
     "text": [
      "***************Rikki\n",
      "20\n"
     ]
    }
   ],
   "source": [
    "#Lets build the rjust function ourselves\n",
    "\n",
    "def rikki_just(original_str, req_width, fill_char):\n",
    "    return fill_char*(req_width-len(original_str))+original_str\n",
    "                      \n",
    "outp = rikki_just('Rikki', 20, '*')\n",
    "print(outp)\n",
    "print(len(outp))"
   ]
  },
  {
   "cell_type": "code",
   "execution_count": null,
   "metadata": {},
   "outputs": [],
   "source": [
    "# class stRingg:\n",
    "#     def __init__(self,x):\n",
    "#         self.x = str(x)\n",
    "#         #print(self.x)\n",
    "#     def rikki_just(self, req_width, fill_char):\n",
    "#         original_str = self.x\n",
    "#         return fill_char*(req_width-len(original_str))+original_str\n",
    "    \n",
    "# hello = stRingg('hello')\n",
    "\n",
    "# print(hello.rikki_just(20,'*'))\n",
    "\n",
    "# print(type(hello))"
   ]
  },
  {
   "cell_type": "code",
   "execution_count": 173,
   "metadata": {},
   "outputs": [
    {
     "name": "stdout",
     "output_type": "stream",
     "text": [
      "('Jack and Jill went up the hill', ',', ' to fetch a pail of water, Jack fell down and broke his crown, And Jill came tumbling after')\n"
     ]
    }
   ],
   "source": [
    "#partition, rpartition methods take one parameter - the separator, and returns a tuple object containing 3 elements. \n",
    "\n",
    "#Partition method works from left to right so -\n",
    "\n",
    "#First element is the original string until the first occurrence of the separator\n",
    "# Second element of the tuple is the separator itself\n",
    "# Third element is the separators end till the end of the original string. \n",
    "\n",
    "#rpartition method works from right to left so - \n",
    "\n",
    "#First element is the first occurrence of separators end, from right to left to the end of original string\n",
    "#Second element is the separator\n",
    "#Third element is the beginning of original string to the beginning of separator.\n",
    "\n",
    "a = 'Jack and Jill went up the hill, to fetch a pail of water, Jack fell down and broke his crown, And Jill came tumbling after'\n",
    "\n",
    "print(a.partition(','))"
   ]
  },
  {
   "cell_type": "code",
   "execution_count": 174,
   "metadata": {},
   "outputs": [
    {
     "name": "stdout",
     "output_type": "stream",
     "text": [
      "('Jack and Jill went up the hill, to fetch a pail of water, Jack fell down and broke his crown', ',', ' And Jill came tumbling after')\n"
     ]
    }
   ],
   "source": [
    "print(a.rpartition(','))"
   ]
  },
  {
   "cell_type": "code",
   "execution_count": 175,
   "metadata": {},
   "outputs": [
    {
     "name": "stdout",
     "output_type": "stream",
     "text": [
      "Jack and Jill went up the hill,\n",
      "to fetch a pail of water,\n",
      "Jack fell down and broke his crown,\n",
      "And Jill came tumbling after\n",
      "\n"
     ]
    }
   ],
   "source": [
    "b = 'Jack and Jill went up the hill,\\nto fetch a pail of water,\\nJack fell down and broke his crown,\\nAnd Jill came tumbling after\\n'\n",
    "print(b)\n"
   ]
  },
  {
   "cell_type": "code",
   "execution_count": 176,
   "metadata": {},
   "outputs": [
    {
     "name": "stdout",
     "output_type": "stream",
     "text": [
      "('Jack and Jill went up the hill,', '\\n', 'to fetch a pail of water,\\nJack fell down and broke his crown,\\nAnd Jill came tumbling after\\n')\n"
     ]
    }
   ],
   "source": [
    "print(b.partition('\\n'))"
   ]
  },
  {
   "cell_type": "code",
   "execution_count": 177,
   "metadata": {},
   "outputs": [
    {
     "name": "stdout",
     "output_type": "stream",
     "text": [
      "('Jack and Jill went up the hill,\\nto fetch a pail of water,\\nJack fell down and broke his crown,\\nAnd Jill came tumbling after', '\\n', '')\n"
     ]
    }
   ],
   "source": [
    "print(b.rpartition('\\n'))"
   ]
  },
  {
   "cell_type": "code",
   "execution_count": 178,
   "metadata": {},
   "outputs": [
    {
     "name": "stdout",
     "output_type": "stream",
     "text": [
      "('Jack and Jill went up the hill,', '\\n', 'to fetch a pail of water,\\nJack fell down and broke his crown,\\nAnd Jill came tumbling after\\n')\n"
     ]
    }
   ],
   "source": [
    "c = b.partition('\\n')\n",
    "print(c)"
   ]
  },
  {
   "cell_type": "code",
   "execution_count": 179,
   "metadata": {},
   "outputs": [
    {
     "name": "stdout",
     "output_type": "stream",
     "text": [
      "to fetch a pail of water,\n",
      "Jack fell down and broke his crown,\n",
      "And Jill came tumbling after\n",
      "\n"
     ]
    }
   ],
   "source": [
    "print(c[2])"
   ]
  },
  {
   "cell_type": "code",
   "execution_count": 37,
   "metadata": {},
   "outputs": [
    {
     "name": "stdout",
     "output_type": "stream",
     "text": [
      "Hello\n",
      "('Hello', '', '')\n",
      "\n",
      "\n"
     ]
    }
   ],
   "source": [
    "# If the separator is not found - partitition returns the original string in first element and two other empty elements.\n",
    "#rpartition first returns two empty elements and the original string as third element.\n",
    "print(a)\n",
    "c = a.partition('!')\n",
    "print(c)\n",
    "print(c[1])\n",
    "print(c[2])"
   ]
  },
  {
   "cell_type": "code",
   "execution_count": 39,
   "metadata": {},
   "outputs": [
    {
     "name": "stdout",
     "output_type": "stream",
     "text": [
      "('', '', 'Hello')\n"
     ]
    }
   ],
   "source": [
    "c = a.rpartition('!')\n",
    "print(c)\n",
    "# print(c[0])\n",
    "# print(c[1])"
   ]
  },
  {
   "cell_type": "code",
   "execution_count": 40,
   "metadata": {},
   "outputs": [
    {
     "name": "stdout",
     "output_type": "stream",
     "text": [
      "['Jack and Jill went up the hill,', 'to fetch a pail of water,', 'Jack fell down and broke his crown,', 'And Jill came tumbling after']\n"
     ]
    }
   ],
   "source": [
    "#splitlines method on strings. Splits the lines in a string based on line boundaries. The useful line boundaries are :\n",
    "# \\n line-feed (new line)\n",
    "# \\r return-carriage\n",
    "# \\r\\n return-carriage, new-line\n",
    "\n",
    "# The line boudaries also have some other unicode characters. However, this syntax in programming is a hold over from the\n",
    "# days of type-writers and besides applications for printing to a physical printer - are unlikely to be of use. \n",
    "\n",
    "#The splitlines method returns a list of the lines in a string split on line boundaries. \n",
    "\n",
    "a = 'Jack and Jill went up the hill,\\nto fetch a pail of water,\\nJack fell down and broke his crown,\\nAnd Jill came tumbling after\\n'\n",
    "b = a.splitlines()\n",
    "print(b)"
   ]
  },
  {
   "cell_type": "code",
   "execution_count": 41,
   "metadata": {},
   "outputs": [
    {
     "name": "stdout",
     "output_type": "stream",
     "text": [
      "['Jack and Jill went up the hill,\\n', 'to fetch a pail of water,\\n', 'Jack fell down and broke his crown,\\n', 'And Jill came tumbling after\\n']\n"
     ]
    }
   ],
   "source": [
    "#It can take one optional parameter 'keepends'. This is set to False by default. If set to True it keeps the end of the\n",
    "# lines boundaries at the end of the string. \n",
    "\n",
    "c = a.splitlines(True)\n",
    "print(c)"
   ]
  },
  {
   "cell_type": "code",
   "execution_count": 42,
   "metadata": {},
   "outputs": [],
   "source": [
    "#Difference between the split and splitlines method is that:\n",
    "\n",
    "#1. Split can seperate on any separator. \n",
    "#2. Splitlines will only split of sepearators which are classified as line-boundaries.\n",
    "#3. Split does not keep the seperator in the returned list\n",
    "#4. By setting the default for 'keepends' to true in the splitlines method, the line-boundaries at end of strings are kept."
   ]
  },
  {
   "cell_type": "code",
   "execution_count": 185,
   "metadata": {},
   "outputs": [
    {
     "name": "stdout",
     "output_type": "stream",
     "text": [
      "Jack and Jill went up the hill,\n",
      "to fetch a pail of water,\n",
      "Jack fell down and broke his crown,\n",
      "And Jill came tumbling after\n"
     ]
    }
   ],
   "source": [
    "for i in b:\n",
    "    print(i)"
   ]
  },
  {
   "cell_type": "code",
   "execution_count": 186,
   "metadata": {},
   "outputs": [
    {
     "name": "stdout",
     "output_type": "stream",
     "text": [
      "Jack and Jill went up the hill,\n",
      "\n",
      "to fetch a pail of water,\n",
      "\n",
      "Jack fell down and broke his crown,\n",
      "\n",
      "And Jill came tumbling after\n",
      "\n"
     ]
    }
   ],
   "source": [
    "for i in c:\n",
    "    print(i)"
   ]
  },
  {
   "cell_type": "code",
   "execution_count": 187,
   "metadata": {},
   "outputs": [
    {
     "name": "stdout",
     "output_type": "stream",
     "text": [
      "00000042\n"
     ]
    }
   ],
   "source": [
    "#zfill method on strings adds padding before the characters and returns a new string of specified width. \n",
    "\n",
    "print('42'.zfill(8))"
   ]
  },
  {
   "cell_type": "code",
   "execution_count": 188,
   "metadata": {},
   "outputs": [
    {
     "name": "stdout",
     "output_type": "stream",
     "text": [
      "0000000a\n"
     ]
    }
   ],
   "source": [
    "print('a'.zfill(8))"
   ]
  },
  {
   "cell_type": "code",
   "execution_count": 189,
   "metadata": {},
   "outputs": [
    {
     "name": "stdout",
     "output_type": "stream",
     "text": [
      "-0000042\n"
     ]
    }
   ],
   "source": [
    "# However, in case of signed characters it returns padding after the sign and before the original string.\n",
    "\n",
    "print('-42'.zfill(8))"
   ]
  },
  {
   "cell_type": "code",
   "execution_count": 190,
   "metadata": {},
   "outputs": [
    {
     "name": "stdout",
     "output_type": "stream",
     "text": [
      "+0000042\n"
     ]
    }
   ],
   "source": [
    "print('+42'.zfill(8))"
   ]
  },
  {
   "cell_type": "code",
   "execution_count": 191,
   "metadata": {},
   "outputs": [
    {
     "name": "stdout",
     "output_type": "stream",
     "text": [
      "-000000a\n"
     ]
    }
   ],
   "source": [
    "print('-a'.zfill(8))"
   ]
  },
  {
   "cell_type": "code",
   "execution_count": 192,
   "metadata": {},
   "outputs": [
    {
     "name": "stdout",
     "output_type": "stream",
     "text": [
      "+000000a\n"
     ]
    }
   ],
   "source": [
    "print('+a'.zfill(8))"
   ]
  },
  {
   "cell_type": "code",
   "execution_count": 193,
   "metadata": {},
   "outputs": [
    {
     "name": "stdout",
     "output_type": "stream",
     "text": [
      "-00000000000000000Learnbay batch\n"
     ]
    }
   ],
   "source": [
    "print('-Learnbay batch'.zfill(32))"
   ]
  },
  {
   "cell_type": "code",
   "execution_count": 194,
   "metadata": {},
   "outputs": [
    {
     "name": "stdout",
     "output_type": "stream",
     "text": [
      "Learnbay Batch\n"
     ]
    }
   ],
   "source": [
    "#However, if speficied weight is less than the original string lenght, origianl string is returned.\n",
    "\n",
    "print('Learnbay Batch'.zfill(8))"
   ]
  },
  {
   "cell_type": "code",
   "execution_count": 195,
   "metadata": {},
   "outputs": [
    {
     "name": "stdout",
     "output_type": "stream",
     "text": [
      "-Learnbay Batch\n"
     ]
    }
   ],
   "source": [
    "print('-Learnbay Batch'.zfill(8))"
   ]
  },
  {
   "cell_type": "code",
   "execution_count": null,
   "metadata": {},
   "outputs": [],
   "source": [
    "# String testing methods. There are several methods for testing the contents of a string. \n",
    "\n",
    "# 1. isalpha() method - checks if all the characters in a string are alphabets (upper or lower case)\n",
    "x = 'Python'\n",
    "print(x.isalpha())"
   ]
  },
  {
   "cell_type": "code",
   "execution_count": 196,
   "metadata": {},
   "outputs": [
    {
     "name": "stdout",
     "output_type": "stream",
     "text": [
      "False\n"
     ]
    }
   ],
   "source": [
    "print('Pyth0n'.isalpha())"
   ]
  },
  {
   "cell_type": "code",
   "execution_count": 197,
   "metadata": {},
   "outputs": [
    {
     "name": "stdout",
     "output_type": "stream",
     "text": [
      "False\n"
     ]
    }
   ],
   "source": [
    "print(' Python'.isalpha())"
   ]
  },
  {
   "cell_type": "code",
   "execution_count": 198,
   "metadata": {},
   "outputs": [
    {
     "name": "stdout",
     "output_type": "stream",
     "text": [
      "False\n"
     ]
    }
   ],
   "source": [
    "print('_Python'.isalpha())"
   ]
  },
  {
   "cell_type": "code",
   "execution_count": 199,
   "metadata": {},
   "outputs": [
    {
     "name": "stdout",
     "output_type": "stream",
     "text": [
      "False\n"
     ]
    }
   ],
   "source": [
    "print('Py$thon'.isalpha())"
   ]
  },
  {
   "cell_type": "code",
   "execution_count": 200,
   "metadata": {},
   "outputs": [
    {
     "name": "stdout",
     "output_type": "stream",
     "text": [
      "False\n"
     ]
    }
   ],
   "source": [
    "print(\"\".isalpha())"
   ]
  },
  {
   "cell_type": "code",
   "execution_count": 201,
   "metadata": {},
   "outputs": [
    {
     "name": "stdout",
     "output_type": "stream",
     "text": [
      "True\n"
     ]
    }
   ],
   "source": [
    "print('βython'.isalpha())"
   ]
  },
  {
   "cell_type": "code",
   "execution_count": 202,
   "metadata": {},
   "outputs": [
    {
     "name": "stdout",
     "output_type": "stream",
     "text": [
      "True\n"
     ]
    }
   ],
   "source": [
    "print('Ԉython'.isalpha())"
   ]
  },
  {
   "cell_type": "code",
   "execution_count": 203,
   "metadata": {},
   "outputs": [
    {
     "name": "stdout",
     "output_type": "stream",
     "text": [
      "False\n"
     ]
    }
   ],
   "source": [
    "print('©Python'.isalpha())"
   ]
  },
  {
   "cell_type": "code",
   "execution_count": 204,
   "metadata": {},
   "outputs": [
    {
     "name": "stdout",
     "output_type": "stream",
     "text": [
      "True\n"
     ]
    }
   ],
   "source": [
    "#2. isalnum() method - returns true if all the characters in the string are either alphabets(upper, lower, any kind) or \n",
    "#numbers.\n",
    "\n",
    "print('Python'.isalnum())"
   ]
  },
  {
   "cell_type": "code",
   "execution_count": 205,
   "metadata": {},
   "outputs": [
    {
     "name": "stdout",
     "output_type": "stream",
     "text": [
      "True\n"
     ]
    }
   ],
   "source": [
    "print('Pyth0n'.isalnum())"
   ]
  },
  {
   "cell_type": "code",
   "execution_count": 206,
   "metadata": {},
   "outputs": [
    {
     "name": "stdout",
     "output_type": "stream",
     "text": [
      "False\n"
     ]
    }
   ],
   "source": [
    "print(' Pyth0n'.isalnum())"
   ]
  },
  {
   "cell_type": "code",
   "execution_count": 207,
   "metadata": {},
   "outputs": [
    {
     "name": "stdout",
     "output_type": "stream",
     "text": [
      "False\n"
     ]
    }
   ],
   "source": [
    "print('Pyt_th0n'.isalnum())"
   ]
  },
  {
   "cell_type": "code",
   "execution_count": 208,
   "metadata": {},
   "outputs": [
    {
     "name": "stdout",
     "output_type": "stream",
     "text": [
      "False\n"
     ]
    }
   ],
   "source": [
    "print('#PyTH_()n'.isalnum())"
   ]
  },
  {
   "cell_type": "code",
   "execution_count": 210,
   "metadata": {},
   "outputs": [
    {
     "name": "stdout",
     "output_type": "stream",
     "text": [
      "True\n"
     ]
    }
   ],
   "source": [
    "print('βy111thon'.isalnum())"
   ]
  },
  {
   "cell_type": "code",
   "execution_count": 211,
   "metadata": {},
   "outputs": [
    {
     "name": "stdout",
     "output_type": "stream",
     "text": [
      "True\n"
     ]
    }
   ],
   "source": [
    "print('Ԉy111th0n'.isalnum())"
   ]
  },
  {
   "cell_type": "code",
   "execution_count": 212,
   "metadata": {},
   "outputs": [
    {
     "name": "stdout",
     "output_type": "stream",
     "text": [
      "False\n"
     ]
    }
   ],
   "source": [
    "print('©Py111th0n'.isalnum())"
   ]
  },
  {
   "cell_type": "code",
   "execution_count": 213,
   "metadata": {},
   "outputs": [
    {
     "name": "stdout",
     "output_type": "stream",
     "text": [
      "True\n"
     ]
    }
   ],
   "source": [
    "#3 isupper() method - checks if all the alphabets in the string are upper case. Alllows other characters (numbers, symbols\n",
    "#etc to go unchecked.)\n",
    "\n",
    "print('PYTHON'.isupper())\n"
   ]
  },
  {
   "cell_type": "code",
   "execution_count": 214,
   "metadata": {},
   "outputs": [
    {
     "name": "stdout",
     "output_type": "stream",
     "text": [
      "False\n"
     ]
    }
   ],
   "source": [
    "print('Python'.isupper())"
   ]
  },
  {
   "cell_type": "code",
   "execution_count": 215,
   "metadata": {},
   "outputs": [
    {
     "name": "stdout",
     "output_type": "stream",
     "text": [
      "True\n"
     ]
    }
   ],
   "source": [
    "print('PYTH0N'.isupper()) \n",
    "\n",
    "#As we can see - it allows a number to be present and obviously numbers cannot be checked for upper or lower case."
   ]
  },
  {
   "cell_type": "code",
   "execution_count": 216,
   "metadata": {},
   "outputs": [
    {
     "name": "stdout",
     "output_type": "stream",
     "text": [
      "True\n"
     ]
    }
   ],
   "source": [
    "print('PYT_TH0N'.isupper())\n",
    "\n",
    "#It also allows special characters to be present. It is ONLY checking if the ALPHABETS are in upper case."
   ]
  },
  {
   "cell_type": "code",
   "execution_count": 217,
   "metadata": {},
   "outputs": [
    {
     "name": "stdout",
     "output_type": "stream",
     "text": [
      "True\n"
     ]
    }
   ],
   "source": [
    "print('PYT$TH0N'.isupper())\n"
   ]
  },
  {
   "cell_type": "code",
   "execution_count": 218,
   "metadata": {},
   "outputs": [
    {
     "name": "stdout",
     "output_type": "stream",
     "text": [
      "False\n"
     ]
    }
   ],
   "source": [
    "print('βYTHON'.isupper())"
   ]
  },
  {
   "cell_type": "code",
   "execution_count": null,
   "metadata": {},
   "outputs": [],
   "source": [
    "#Here it correctly identifies the small greek letter beta as NOT being in upper case and returns False."
   ]
  },
  {
   "cell_type": "code",
   "execution_count": 219,
   "metadata": {},
   "outputs": [
    {
     "name": "stdout",
     "output_type": "stream",
     "text": [
      "True\n"
     ]
    }
   ],
   "source": [
    "print('βython'.islower())"
   ]
  },
  {
   "cell_type": "code",
   "execution_count": null,
   "metadata": {},
   "outputs": [],
   "source": [
    "#Eureka! It DOES identify the small greek letter beta as being in lower case."
   ]
  },
  {
   "cell_type": "code",
   "execution_count": 43,
   "metadata": {},
   "outputs": [
    {
     "name": "stdout",
     "output_type": "stream",
     "text": [
      "True\n"
     ]
    }
   ],
   "source": [
    "print('ԈYTHON'.isupper())"
   ]
  },
  {
   "cell_type": "code",
   "execution_count": null,
   "metadata": {},
   "outputs": [],
   "source": [
    "#Here it correctly identifies the Cryllic Capital letter Komi Lje as upper case and returns True."
   ]
  },
  {
   "cell_type": "code",
   "execution_count": 44,
   "metadata": {},
   "outputs": [
    {
     "name": "stdout",
     "output_type": "stream",
     "text": [
      "False\n"
     ]
    }
   ],
   "source": [
    "print('Ԉython'.islower())"
   ]
  },
  {
   "cell_type": "code",
   "execution_count": null,
   "metadata": {},
   "outputs": [],
   "source": [
    "#Smart Python! It identified the Cryllic Capital letter Komi Lje as NOT being lower case."
   ]
  },
  {
   "cell_type": "code",
   "execution_count": null,
   "metadata": {},
   "outputs": [],
   "source": [
    "#That said - there is a lengthy ongoing debate online about what upper SHOULD classify as upper and what should not be\n",
    "#accepted as upper. Different language users(experts?) have different opinions. So, if you come across some letters that you\n",
    "#think should be accepted as upper but is not - congratulations on finding a hidden gem! This information I just put in\n",
    "# for your knowledge and to make things interesting but its not worth discussing too much."
   ]
  },
  {
   "cell_type": "code",
   "execution_count": 45,
   "metadata": {},
   "outputs": [
    {
     "name": "stdout",
     "output_type": "stream",
     "text": [
      "True\n"
     ]
    }
   ],
   "source": [
    "print('©PY111TH0N'.isupper())\n",
    "\n",
    "#Note how it also allows the copyright symbol (c). "
   ]
  },
  {
   "cell_type": "code",
   "execution_count": 46,
   "metadata": {},
   "outputs": [
    {
     "name": "stdout",
     "output_type": "stream",
     "text": [
      "True\n"
     ]
    }
   ],
   "source": [
    "#3.Islower() method in Python checks if the alphabets in the string are lower case. Allows other characters to be unchecked.\n",
    "\n",
    "print('python'.islower())"
   ]
  },
  {
   "cell_type": "code",
   "execution_count": 47,
   "metadata": {},
   "outputs": [
    {
     "name": "stdout",
     "output_type": "stream",
     "text": [
      "False\n"
     ]
    }
   ],
   "source": [
    "print('Python'.islower())"
   ]
  },
  {
   "cell_type": "code",
   "execution_count": 48,
   "metadata": {},
   "outputs": [
    {
     "name": "stdout",
     "output_type": "stream",
     "text": [
      "True\n"
     ]
    }
   ],
   "source": [
    "print('pyth0n'.islower())"
   ]
  },
  {
   "cell_type": "code",
   "execution_count": 49,
   "metadata": {},
   "outputs": [
    {
     "name": "stdout",
     "output_type": "stream",
     "text": [
      "True\n"
     ]
    }
   ],
   "source": [
    "print('_pyth#on0'.islower())"
   ]
  },
  {
   "cell_type": "code",
   "execution_count": 50,
   "metadata": {},
   "outputs": [
    {
     "name": "stdout",
     "output_type": "stream",
     "text": [
      "False\n"
     ]
    }
   ],
   "source": [
    "print('©py111th0n'.isupper())\n"
   ]
  },
  {
   "cell_type": "code",
   "execution_count": 51,
   "metadata": {},
   "outputs": [
    {
     "name": "stdout",
     "output_type": "stream",
     "text": [
      "True\n"
     ]
    }
   ],
   "source": [
    "#4 isspace() - method in Python checks if the string contains only spaces. Returns false if any other characters found.\n",
    "\n",
    "print(\" \".isspace())"
   ]
  },
  {
   "cell_type": "code",
   "execution_count": 221,
   "metadata": {},
   "outputs": [
    {
     "name": "stdout",
     "output_type": "stream",
     "text": [
      "True\n"
     ]
    }
   ],
   "source": [
    "print('      '.isspace())"
   ]
  },
  {
   "cell_type": "code",
   "execution_count": 52,
   "metadata": {},
   "outputs": [
    {
     "name": "stdout",
     "output_type": "stream",
     "text": [
      "True\n"
     ]
    }
   ],
   "source": [
    "print((\" \"*100).isspace())"
   ]
  },
  {
   "cell_type": "code",
   "execution_count": 53,
   "metadata": {},
   "outputs": [
    {
     "name": "stdout",
     "output_type": "stream",
     "text": [
      "False\n"
     ]
    }
   ],
   "source": [
    "print(\"  a   \".isspace())"
   ]
  },
  {
   "cell_type": "code",
   "execution_count": 27,
   "metadata": {},
   "outputs": [
    {
     "name": "stdout",
     "output_type": "stream",
     "text": [
      "False\n"
     ]
    }
   ],
   "source": [
    "print(\"   0   \".isspace())"
   ]
  },
  {
   "cell_type": "code",
   "execution_count": 54,
   "metadata": {},
   "outputs": [
    {
     "name": "stdout",
     "output_type": "stream",
     "text": [
      "False\n"
     ]
    }
   ],
   "source": [
    "print('    _   '.isspace())"
   ]
  },
  {
   "cell_type": "code",
   "execution_count": 55,
   "metadata": {},
   "outputs": [
    {
     "name": "stdout",
     "output_type": "stream",
     "text": [
      "False\n",
      "False\n"
     ]
    }
   ],
   "source": [
    "print('  $'.isspace())\n",
    "print('#   '.isspace())"
   ]
  },
  {
   "cell_type": "code",
   "execution_count": null,
   "metadata": {},
   "outputs": [],
   "source": [
    "print('_'.isspace())"
   ]
  },
  {
   "cell_type": "code",
   "execution_count": null,
   "metadata": {},
   "outputs": [],
   "source": [
    "#5. Istitle() method - Returns true if all the words in the string start with a capital AND all other letters are lower \n",
    "# case and False otherwise\n",
    "\n",
    "#DISCLAIMER - Very Very Peculiar behaviour by the istitle() method of Python. On researching in Python Documentation &\n",
    "# other online sites and forums, could not find any explanation of why it exhibits this behaviour. Some posters have even\n",
    "# suggested not to use istitle() at all or to be very very very careful using it. "
   ]
  },
  {
   "cell_type": "code",
   "execution_count": 56,
   "metadata": {},
   "outputs": [
    {
     "name": "stdout",
     "output_type": "stream",
     "text": [
      "True\n"
     ]
    }
   ],
   "source": [
    "print('Python Rocks'.istitle())"
   ]
  },
  {
   "cell_type": "code",
   "execution_count": 226,
   "metadata": {},
   "outputs": [
    {
     "name": "stdout",
     "output_type": "stream",
     "text": [
      "False\n"
     ]
    }
   ],
   "source": [
    "print('Pyth0n R0cks'.istitle()) #Does not allow numbers as part of the words"
   ]
  },
  {
   "cell_type": "code",
   "execution_count": 227,
   "metadata": {},
   "outputs": [
    {
     "name": "stdout",
     "output_type": "stream",
     "text": [
      "True\n"
     ]
    }
   ],
   "source": [
    "print('Python 0 Rocks'.istitle()) #But allows between the words"
   ]
  },
  {
   "cell_type": "code",
   "execution_count": 228,
   "metadata": {},
   "outputs": [
    {
     "name": "stdout",
     "output_type": "stream",
     "text": [
      "False\n"
     ]
    }
   ],
   "source": [
    "print('Python_rocks'.istitle()) #Does not allow underscore as part of the words"
   ]
  },
  {
   "cell_type": "code",
   "execution_count": 229,
   "metadata": {},
   "outputs": [
    {
     "name": "stdout",
     "output_type": "stream",
     "text": [
      "True\n"
     ]
    }
   ],
   "source": [
    "print('Python Rocks _ And So Does Java'.istitle()) #But allows between words"
   ]
  },
  {
   "cell_type": "code",
   "execution_count": 57,
   "metadata": {},
   "outputs": [
    {
     "name": "stdout",
     "output_type": "stream",
     "text": [
      "True\n"
     ]
    }
   ],
   "source": [
    "print('Python Rock $ And So Does Java'.istitle()) #Allows special character between words"
   ]
  },
  {
   "cell_type": "code",
   "execution_count": 58,
   "metadata": {},
   "outputs": [
    {
     "name": "stdout",
     "output_type": "stream",
     "text": [
      "False\n"
     ]
    }
   ],
   "source": [
    "print('Python Roc$k And So Does Java'.istitle()) #Does not allow special character as part of the word"
   ]
  },
  {
   "cell_type": "code",
   "execution_count": 59,
   "metadata": {},
   "outputs": [
    {
     "name": "stdout",
     "output_type": "stream",
     "text": [
      "True\n"
     ]
    }
   ],
   "source": [
    "print('Python Rock$ And So Does Java'.istitle()) #But allows the special character at the end of the word???"
   ]
  },
  {
   "cell_type": "code",
   "execution_count": 60,
   "metadata": {},
   "outputs": [
    {
     "name": "stdout",
     "output_type": "stream",
     "text": [
      "False\n"
     ]
    }
   ],
   "source": [
    "print(\"Father's\".istitle()) #Why does this throw False?"
   ]
  },
  {
   "cell_type": "code",
   "execution_count": 61,
   "metadata": {},
   "outputs": [
    {
     "name": "stdout",
     "output_type": "stream",
     "text": [
      "True\n"
     ]
    }
   ],
   "source": [
    "print(\"Fathers'\".istitle()) #And this one True?? In real life, most of the time the ' will be before s but sometimes at the\n",
    "#end of the word."
   ]
  },
  {
   "cell_type": "code",
   "execution_count": 230,
   "metadata": {},
   "outputs": [
    {
     "name": "stdout",
     "output_type": "stream",
     "text": [
      "True\n"
     ]
    }
   ],
   "source": [
    "#isascii, #isprintable, #isidentifier\n",
    "\n",
    "#isascii() - if the string is empty or all the characters are ascii encodable. \n",
    "\n",
    "print('Python'.isascii())"
   ]
  },
  {
   "cell_type": "code",
   "execution_count": 231,
   "metadata": {},
   "outputs": [
    {
     "name": "stdout",
     "output_type": "stream",
     "text": [
      "True\n"
     ]
    }
   ],
   "source": [
    "print('Python'.isascii())"
   ]
  },
  {
   "cell_type": "code",
   "execution_count": 232,
   "metadata": {},
   "outputs": [
    {
     "name": "stdout",
     "output_type": "stream",
     "text": [
      "True\n"
     ]
    }
   ],
   "source": [
    "print('PYTH0N'.isascii()) \n",
    "\n",
    "#As we can see - it allows a number to be present and obviously numbers cannot be checked for upper or lower case."
   ]
  },
  {
   "cell_type": "code",
   "execution_count": 233,
   "metadata": {},
   "outputs": [
    {
     "name": "stdout",
     "output_type": "stream",
     "text": [
      "True\n"
     ]
    }
   ],
   "source": [
    "print('PYT_TH0N'.isascii())\n",
    "\n",
    "#It also allows special characters to be present. It is ONLY checking if the ALPHABETS are in upper case."
   ]
  },
  {
   "cell_type": "code",
   "execution_count": 234,
   "metadata": {},
   "outputs": [
    {
     "name": "stdout",
     "output_type": "stream",
     "text": [
      "True\n"
     ]
    }
   ],
   "source": [
    "print('PYT$TH0N'.isascii())\n"
   ]
  },
  {
   "cell_type": "code",
   "execution_count": 62,
   "metadata": {},
   "outputs": [
    {
     "name": "stdout",
     "output_type": "stream",
     "text": [
      "False\n"
     ]
    }
   ],
   "source": [
    "print('βYTHON'.isascii())"
   ]
  },
  {
   "cell_type": "code",
   "execution_count": null,
   "metadata": {},
   "outputs": [],
   "source": [
    "#Here it correctly identifies the small greek letter beta as NOT being an ASCII character and returns False."
   ]
  },
  {
   "cell_type": "code",
   "execution_count": 63,
   "metadata": {},
   "outputs": [
    {
     "name": "stdout",
     "output_type": "stream",
     "text": [
      "False\n"
     ]
    }
   ],
   "source": [
    "print('βython'.isascii()) #Same here"
   ]
  },
  {
   "cell_type": "code",
   "execution_count": 64,
   "metadata": {},
   "outputs": [
    {
     "name": "stdout",
     "output_type": "stream",
     "text": [
      "False\n"
     ]
    }
   ],
   "source": [
    "print('ԈYTHON'.isascii()) #And here"
   ]
  },
  {
   "cell_type": "code",
   "execution_count": null,
   "metadata": {},
   "outputs": [],
   "source": [
    "#isprintable - Checks if a character is printable (loosely based on the ASCII) but in strict sense Non printable characters\n",
    "# are those that are identified by Unicode as 'Other', 'Separator'"
   ]
  },
  {
   "cell_type": "code",
   "execution_count": 235,
   "metadata": {},
   "outputs": [
    {
     "name": "stdout",
     "output_type": "stream",
     "text": [
      "True\n"
     ]
    }
   ],
   "source": [
    "print('Python'.isprintable())"
   ]
  },
  {
   "cell_type": "code",
   "execution_count": 236,
   "metadata": {},
   "outputs": [
    {
     "name": "stdout",
     "output_type": "stream",
     "text": [
      "True\n"
     ]
    }
   ],
   "source": [
    "print('Python'.isprintable())"
   ]
  },
  {
   "cell_type": "code",
   "execution_count": 65,
   "metadata": {},
   "outputs": [
    {
     "name": "stdout",
     "output_type": "stream",
     "text": [
      "True\n"
     ]
    }
   ],
   "source": [
    "print('PYTH0N'.isprintable()) \n",
    "\n",
    "#As we can see - it allows a number to be present and obviously numbers cannot be checked for upper or lower case."
   ]
  },
  {
   "cell_type": "code",
   "execution_count": 66,
   "metadata": {},
   "outputs": [
    {
     "name": "stdout",
     "output_type": "stream",
     "text": [
      "True\n"
     ]
    }
   ],
   "source": [
    "print('PYT_TH0N'.isprintable())\n",
    "\n",
    "#It also allows special characters to be present. It is ONLY checking if the ALPHABETS are in upper case."
   ]
  },
  {
   "cell_type": "code",
   "execution_count": 67,
   "metadata": {},
   "outputs": [
    {
     "name": "stdout",
     "output_type": "stream",
     "text": [
      "True\n"
     ]
    }
   ],
   "source": [
    "print('PYT$TH0N'.isprintable())\n"
   ]
  },
  {
   "cell_type": "code",
   "execution_count": 68,
   "metadata": {},
   "outputs": [
    {
     "name": "stdout",
     "output_type": "stream",
     "text": [
      "True\n"
     ]
    }
   ],
   "source": [
    "print('βYTHON'.isprintable()) #Greek letter Beta seems as not identified as 'Other' or 'Separator' in Unicode"
   ]
  },
  {
   "cell_type": "code",
   "execution_count": 69,
   "metadata": {},
   "outputs": [
    {
     "name": "stdout",
     "output_type": "stream",
     "text": [
      "True\n"
     ]
    }
   ],
   "source": [
    "print('βython'.isprintable()) #Same here"
   ]
  },
  {
   "cell_type": "code",
   "execution_count": 70,
   "metadata": {},
   "outputs": [
    {
     "name": "stdout",
     "output_type": "stream",
     "text": [
      "True\n"
     ]
    }
   ],
   "source": [
    "print('ԈYTHON'.isprintable()) #Same here"
   ]
  },
  {
   "cell_type": "code",
   "execution_count": null,
   "metadata": {},
   "outputs": [],
   "source": [
    "#isidentifier() - checks if a string is a valid identifier. Does NOT check if it is a valid keyword. Best to use along with\n",
    "#iskeyword() function from keyword module"
   ]
  },
  {
   "cell_type": "code",
   "execution_count": 71,
   "metadata": {},
   "outputs": [
    {
     "name": "stdout",
     "output_type": "stream",
     "text": [
      "True\n",
      "False\n"
     ]
    }
   ],
   "source": [
    "from keyword import iskeyword\n",
    "\n",
    "print('abc'.isidentifier()) ;  print(iskeyword('abc'))"
   ]
  },
  {
   "cell_type": "code",
   "execution_count": 72,
   "metadata": {},
   "outputs": [
    {
     "name": "stdout",
     "output_type": "stream",
     "text": [
      "True\n",
      "False\n"
     ]
    }
   ],
   "source": [
    "print('aBc'.isidentifier()) ;  print(iskeyword('aBC'))\n",
    "\n",
    "#Note here that .isidentifier() is a method in the string datatype or class i.e. applicable on any string object. \n",
    "# While iskeyword is a function available in the keyword module of Python i.e. not native to Python and is a separate\n",
    "# module in the available Python libraries."
   ]
  },
  {
   "cell_type": "code",
   "execution_count": 73,
   "metadata": {},
   "outputs": [
    {
     "name": "stdout",
     "output_type": "stream",
     "text": [
      "True\n",
      "True\n"
     ]
    }
   ],
   "source": [
    "print('None'.isidentifier()) ; print(iskeyword('None'))"
   ]
  },
  {
   "cell_type": "code",
   "execution_count": 74,
   "metadata": {},
   "outputs": [
    {
     "name": "stdout",
     "output_type": "stream",
     "text": [
      "False\n",
      "False\n"
     ]
    }
   ],
   "source": [
    "print('2ab'.isidentifier()) ; print(iskeyword('2ab'))"
   ]
  },
  {
   "cell_type": "code",
   "execution_count": 75,
   "metadata": {},
   "outputs": [
    {
     "name": "stdout",
     "output_type": "stream",
     "text": [
      "False\n",
      "False\n"
     ]
    }
   ],
   "source": [
    "print('*ab'.isidentifier()) ; print(iskeyword('*ab'))"
   ]
  },
  {
   "cell_type": "code",
   "execution_count": 241,
   "metadata": {},
   "outputs": [
    {
     "name": "stdout",
     "output_type": "stream",
     "text": [
      "True\n",
      "False\n"
     ]
    }
   ],
   "source": [
    "print('Abc'.isidentifier()) ; print(iskeyword('Abc'))"
   ]
  },
  {
   "cell_type": "code",
   "execution_count": 242,
   "metadata": {},
   "outputs": [
    {
     "name": "stdout",
     "output_type": "stream",
     "text": [
      "True\n",
      "False\n"
     ]
    }
   ],
   "source": [
    "print('_ab'.isidentifier()) ; print(iskeyword('_ab'))"
   ]
  },
  {
   "cell_type": "code",
   "execution_count": 243,
   "metadata": {},
   "outputs": [
    {
     "name": "stdout",
     "output_type": "stream",
     "text": [
      "True\n",
      "False\n"
     ]
    }
   ],
   "source": [
    "print('a_bc'.isidentifier()) ; print(iskeyword('a_bc'))"
   ]
  },
  {
   "cell_type": "code",
   "execution_count": 244,
   "metadata": {},
   "outputs": [
    {
     "name": "stdout",
     "output_type": "stream",
     "text": [
      "True\n",
      "False\n"
     ]
    }
   ],
   "source": [
    "print('ab__'.isidentifier()) ; print(iskeyword('ab__'))"
   ]
  },
  {
   "cell_type": "code",
   "execution_count": 28,
   "metadata": {},
   "outputs": [
    {
     "name": "stdout",
     "output_type": "stream",
     "text": [
      "True\n"
     ]
    },
    {
     "ename": "NameError",
     "evalue": "name 'iskeyword' is not defined",
     "output_type": "error",
     "traceback": [
      "\u001b[1;31m---------------------------------------------------------------------------\u001b[0m",
      "\u001b[1;31mNameError\u001b[0m                                 Traceback (most recent call last)",
      "\u001b[1;32m<ipython-input-28-d3cfacb4826f>\u001b[0m in \u001b[0;36m<module>\u001b[1;34m\u001b[0m\n\u001b[1;32m----> 1\u001b[1;33m \u001b[0mprint\u001b[0m\u001b[1;33m(\u001b[0m\u001b[1;34m'ab__'\u001b[0m\u001b[1;33m.\u001b[0m\u001b[0misidentifier\u001b[0m\u001b[1;33m(\u001b[0m\u001b[1;33m)\u001b[0m\u001b[1;33m)\u001b[0m \u001b[1;33m;\u001b[0m \u001b[0mprint\u001b[0m\u001b[1;33m(\u001b[0m\u001b[0miskeyword\u001b[0m\u001b[1;33m(\u001b[0m\u001b[1;34m'ab__'\u001b[0m\u001b[1;33m)\u001b[0m\u001b[1;33m)\u001b[0m\u001b[1;33m\u001b[0m\u001b[1;33m\u001b[0m\u001b[0m\n\u001b[0m",
      "\u001b[1;31mNameError\u001b[0m: name 'iskeyword' is not defined"
     ]
    }
   ],
   "source": [
    "print('ab__'.isidentifier()) ; print(iskeyword('ab__'))"
   ]
  },
  {
   "cell_type": "code",
   "execution_count": 246,
   "metadata": {},
   "outputs": [
    {
     "name": "stdout",
     "output_type": "stream",
     "text": [
      "True\n",
      "False\n"
     ]
    }
   ],
   "source": [
    "print('a2bc'.isidentifier()) ; print(iskeyword('a2bc'))"
   ]
  },
  {
   "cell_type": "code",
   "execution_count": 247,
   "metadata": {},
   "outputs": [
    {
     "name": "stdout",
     "output_type": "stream",
     "text": [
      "True\n",
      "False\n"
     ]
    }
   ],
   "source": [
    "print('__ab'.isidentifier()) ; print(iskeyword('__ab'))"
   ]
  },
  {
   "cell_type": "code",
   "execution_count": 248,
   "metadata": {},
   "outputs": [
    {
     "name": "stdout",
     "output_type": "stream",
     "text": [
      "True\n",
      "False\n"
     ]
    }
   ],
   "source": [
    "print('a_bc'.isidentifier()) ; print(iskeyword('a_bc'))"
   ]
  },
  {
   "cell_type": "code",
   "execution_count": null,
   "metadata": {},
   "outputs": [],
   "source": [
    "print('ab_'.isidentifier()) ; print(iskeyword('ab_'))"
   ]
  },
  {
   "cell_type": "code",
   "execution_count": null,
   "metadata": {},
   "outputs": [],
   "source": [
    "print('a_2'.isidentifier()) ; print(iskeyword('a_2'))"
   ]
  },
  {
   "cell_type": "code",
   "execution_count": null,
   "metadata": {},
   "outputs": [],
   "source": []
  },
  {
   "cell_type": "code",
   "execution_count": 76,
   "metadata": {},
   "outputs": [
    {
     "name": "stdout",
     "output_type": "stream",
     "text": [
      "True\n",
      "True\n",
      "True\n"
     ]
    }
   ],
   "source": [
    "#6. isdigit(), isnumeric() and isdecimal() methods. To check if a string in Python \n",
    "\n",
    "# isdigit() - numbers between 0 to 9\n",
    "# isnumeric() - is a numeric value\n",
    "# isdecimal() - is a decimal value\n",
    "\n",
    "print('0123'.isdecimal())\n",
    "print('0123'.isdigit())\n",
    "print('0123'.isnumeric())\n",
    "\n",
    "#All three allow base ten numbers"
   ]
  },
  {
   "cell_type": "code",
   "execution_count": 77,
   "metadata": {},
   "outputs": [
    {
     "name": "stdout",
     "output_type": "stream",
     "text": [
      "False\n",
      "True\n",
      "True\n"
     ]
    }
   ],
   "source": [
    "print('2²'.isdecimal())\n",
    "print('2²'.isdigit())\n",
    "print('2²'.isnumeric()) \n",
    "\n",
    "#Isdecimal doesnt allow exponents, while isdigit and isnumeric do."
   ]
  },
  {
   "cell_type": "code",
   "execution_count": 251,
   "metadata": {},
   "outputs": [
    {
     "name": "stdout",
     "output_type": "stream",
     "text": [
      "False\n",
      "False\n",
      "True\n"
     ]
    }
   ],
   "source": [
    "print('⅔'.isdecimal())\n",
    "print('⅔'.isdigit())\n",
    "print('⅔'.isnumeric()) \n",
    "\n",
    "#isdecimal and isdigit do not allow fractions while isnumeric does"
   ]
  },
  {
   "cell_type": "code",
   "execution_count": 252,
   "metadata": {},
   "outputs": [
    {
     "name": "stdout",
     "output_type": "stream",
     "text": [
      "Roman numeral 5: Ⅴ.\n",
      "False\n",
      "False\n",
      "True\n"
     ]
    }
   ],
   "source": [
    "x = '\\u2164'\n",
    "print(f'Roman numeral 5: {x}.')\n",
    "\n",
    "print(x.isdecimal())\n",
    "print(x.isdigit())\n",
    "print(x.isnumeric())\n",
    "\n",
    "# Isdecimal and isdigit do not allow roman numerals. isnumeric allows. "
   ]
  },
  {
   "cell_type": "code",
   "execution_count": 253,
   "metadata": {},
   "outputs": [
    {
     "name": "stdout",
     "output_type": "stream",
     "text": [
      "Roman numeral 1000 (CD): ↀ.\n",
      "False\n",
      "False\n",
      "True\n"
     ]
    }
   ],
   "source": [
    "x = '\\u2180'\n",
    "print(f'Roman numeral 1000 (CD): {x}.')\n",
    "\n",
    "print(x.isdecimal())\n",
    "print(x.isdigit())\n",
    "print(x.isnumeric())\n"
   ]
  },
  {
   "cell_type": "code",
   "execution_count": 254,
   "metadata": {},
   "outputs": [
    {
     "name": "stdout",
     "output_type": "stream",
     "text": [
      "False\n",
      "False\n",
      "False\n"
     ]
    }
   ],
   "source": [
    "print('10.2'.isdecimal())\n",
    "print('10.2'.isdigit())\n",
    "print('10.2'.isnumeric())\n",
    "\n",
    "#All three do not allow floats."
   ]
  },
  {
   "cell_type": "code",
   "execution_count": null,
   "metadata": {},
   "outputs": [],
   "source": [
    "#String formatting. Python keeps updating the ways to format string outputs. The latest method(as far as I am aware) is\n",
    "#f-string formatting."
   ]
  },
  {
   "cell_type": "code",
   "execution_count": 78,
   "metadata": {},
   "outputs": [
    {
     "name": "stdout",
     "output_type": "stream",
     "text": [
      "a = 10 and b = 20.\n"
     ]
    }
   ],
   "source": [
    "a = 10\n",
    "b = 20\n",
    "\n",
    "print(f'a = {a} and b = {b}.')\n",
    "\n",
    "#Simply put the variable to be formatted inside curly braces and prefix the string with f. The curly braces and values\n",
    "#inside them are called 'placeholders'"
   ]
  },
  {
   "cell_type": "code",
   "execution_count": 79,
   "metadata": {},
   "outputs": [
    {
     "name": "stdout",
     "output_type": "stream",
     "text": [
      "a = 10 and b = 20\n"
     ]
    }
   ],
   "source": [
    "#Another way to format(before f-string formatting) was with the .format way.\n",
    "\n",
    "print('a = {} and b = {}'.format(a,b))\n",
    "\n",
    "#The format method takes the values to be input in order i.e. first curly brace will have first value specified, second will\n",
    "#have second and so on."
   ]
  },
  {
   "cell_type": "code",
   "execution_count": 80,
   "metadata": {},
   "outputs": [
    {
     "name": "stdout",
     "output_type": "stream",
     "text": [
      "a = Python, b = (2+3j), c = None, d = 10 and e = [1, 2, 3, 4]\n"
     ]
    }
   ],
   "source": [
    "# You can have any datatype be the values - not necessarily variables\n",
    "\n",
    "print('a = {}, b = {}, c = {}, d = {} and e = {}'.format('Python', 2+3j, None, 10, [1,2,3,4]))"
   ]
  },
  {
   "cell_type": "code",
   "execution_count": 81,
   "metadata": {},
   "outputs": [
    {
     "name": "stdout",
     "output_type": "stream",
     "text": [
      "a = 10, b = Python, c = None, d = [1, 2, 3, 4] and e = (2+3j)\n"
     ]
    }
   ],
   "source": [
    "# You can also assign each value by index number inside the format parameters as per index number\n",
    "\n",
    "print('a = {3}, b = {0}, c = {2}, d = {4} and e = {1}'.format('Python', 2+3j, None, 10, [1,2,3,4]))"
   ]
  },
  {
   "cell_type": "code",
   "execution_count": 82,
   "metadata": {},
   "outputs": [
    {
     "name": "stdout",
     "output_type": "stream",
     "text": [
      "a = [1, 2, 3, 4], b = None, c = Python, d = (2+3j) and e = 10\n"
     ]
    }
   ],
   "source": [
    "#Or you can identify them by using temporary variables and then assign values to those temporary variables. \n",
    "\n",
    "print('a = {p}, b = {q}, c = {r}, d = {s} and e = {t}'.format(r='Python', s=2+3j, q=None, t=10, p=[1,2,3,4]))"
   ]
  },
  {
   "cell_type": "code",
   "execution_count": 83,
   "metadata": {},
   "outputs": [
    {
     "name": "stdout",
     "output_type": "stream",
     "text": [
      "Jack and Jill went upt the hill,\n",
      "to fetch a pail of water.\n"
     ]
    }
   ],
   "source": [
    "#There is also the r-string or raw string. This tells python to ignore escape characters in the string. \n",
    "\n",
    "print('Jack and Jill went upt the hill,\\nto fetch a pail of water.')"
   ]
  },
  {
   "cell_type": "code",
   "execution_count": 84,
   "metadata": {},
   "outputs": [
    {
     "name": "stdout",
     "output_type": "stream",
     "text": [
      "Jack and Jill went upt the hill,\\nto fetch a pail of water.\n"
     ]
    }
   ],
   "source": [
    "print(r'Jack and Jill went upt the hill,\\nto fetch a pail of water.')"
   ]
  },
  {
   "cell_type": "code",
   "execution_count": null,
   "metadata": {},
   "outputs": [],
   "source": [
    "#Note how in the first case the \\n results in new line. While with the r(rawstring) the \\n is not treated as an escape\n",
    "#character."
   ]
  },
  {
   "cell_type": "code",
   "execution_count": 85,
   "metadata": {},
   "outputs": [
    {
     "name": "stdout",
     "output_type": "stream",
     "text": [
      "Jack and Jill went upt the hill,\n",
      "to fetch a pail of water.\n",
      "{r=a}\n"
     ]
    }
   ],
   "source": [
    "#To use a variable text as rawstring. \n",
    "\n",
    "a = 'Jack and Jill went upt the hill,\\nto fetch a pail of water.'\n",
    "\n",
    "print(r'{}'.format(a))\n",
    "print(r'{r=a}')\n",
    "\n",
    "#One of the few times that .format method is more useful than the f-string method."
   ]
  },
  {
   "cell_type": "code",
   "execution_count": null,
   "metadata": {},
   "outputs": [],
   "source": [
    "#Rawstring 'r' method will come in very handy in later parts where you have to import files from a path into your\n",
    "# work environment. \n",
    "\n",
    "#The \\ in the path for a file location on our systems need to be escaped so the file can be imported. \n",
    "\n",
    "# 'C:\\Users\\Vikas\\Documents\\Computer Learning\\Data Science and AI Machine Learning' --> This will not work since Python\n",
    "# will get confused and escape the characters after the \\\n",
    "\n",
    "# r'C:\\Users\\Rikki\\Documents\\Computer Learning\\Data Science and AI Machine Learning' --> This will work since now the\n",
    "# \\ are being used as correctly intended - i.e. part of the path of the files location."
   ]
  }
 ],
 "metadata": {
  "kernelspec": {
   "display_name": "Python 3",
   "language": "python",
   "name": "python3"
  },
  "language_info": {
   "codemirror_mode": {
    "name": "ipython",
    "version": 3
   },
   "file_extension": ".py",
   "mimetype": "text/x-python",
   "name": "python",
   "nbconvert_exporter": "python",
   "pygments_lexer": "ipython3",
   "version": "3.8.3"
  }
 },
 "nbformat": 4,
 "nbformat_minor": 5
}
