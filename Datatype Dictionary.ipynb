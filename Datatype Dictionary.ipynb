{
 "cells": [
  {
   "cell_type": "markdown",
   "metadata": {},
   "source": [
    "# Datatype Dictionary"
   ]
  },
  {
   "cell_type": "code",
   "execution_count": 1,
   "metadata": {},
   "outputs": [],
   "source": [
    "#Dictionary datatype in Python provides mapping capability i.e. it is defined in key:value pairs. Each key corresponds to\n",
    "# a value in the dictionary. Each key and value is seperated by a colon : and each key:value pair is seperated from the next\n",
    "# by a comma.\n",
    "\n",
    "#1. The keys of a dictionary must be immutable objects. \n",
    "#2. The keys of a dictionary must be unique (i.e. no duplicates allowed in keys)\n",
    "#3. Values of a dictionary may take any type of object (mutable, immutable, variables, function definitions, function calls\n",
    "# etc.)\n",
    "\n",
    "#Examples of the use of dictionaries are:\n",
    "\n",
    "# Key : Value \n",
    "# Student Name : Marks\n",
    "# Menu item : Price\n",
    "# Room no : list(room tarriff, tax, list(peripherals to be billed))\n",
    "# Catalogue ID : {Product name : {price: value, width : Value2, height:value3, depth:value4}}\n",
    "\n",
    "#The properties of dictionaries are:\n",
    "\n",
    "#1. They are mutable datatypes. \n",
    "#2. Keys of a dictionary must be immutable and unique. Values can be of any datatype. \n",
    "#3. They are sequential\n",
    "#4. They are ordered (as of Python 3.7)\n",
    "#5. They do not support slicing or indexing\n",
    "#6. A dictionary can be iterated over\n"
   ]
  },
  {
   "cell_type": "code",
   "execution_count": 2,
   "metadata": {},
   "outputs": [
    {
     "name": "stdout",
     "output_type": "stream",
     "text": [
      "<class 'dict'>\n",
      "<class 'dict'>\n"
     ]
    }
   ],
   "source": [
    "#Initialising dictionaries. To initialise a dictionary simply put the key value pairs inside curly braces. \n",
    "\n",
    "#An empty dictionary can be created simply by putting a pair of curly braces. \n",
    "\n",
    "dict0 = {}\n",
    "\n",
    "#Or calling the dict constructor\n",
    "\n",
    "dict01 = dict()\n",
    "\n",
    "print(type(dict0))\n",
    "print(type(dict01))"
   ]
  },
  {
   "cell_type": "code",
   "execution_count": 3,
   "metadata": {},
   "outputs": [
    {
     "name": "stdout",
     "output_type": "stream",
     "text": [
      "{'A': 100, 'b': 20, 30: ['a', 'b', 'c', 'd'], 'x': {'p': 100, 'q': 101}}\n",
      "<class 'dict'>\n"
     ]
    }
   ],
   "source": [
    "#To initialise a dictionary with elements (key:value), put the pairs inside curly braces with each pair seperated by a comma.\n",
    "\n",
    "y = {'p' : 100, 'q': 101}\n",
    "dict1 = {'A':100, 'b':20, 30:['a', 'b', 'c', 'd'], 'x' : y}\n",
    "\n",
    "print(dict1)\n",
    "print(type(dict1))"
   ]
  },
  {
   "cell_type": "code",
   "execution_count": 4,
   "metadata": {},
   "outputs": [
    {
     "name": "stdout",
     "output_type": "stream",
     "text": [
      "{'A': 100, 'b': 20, 30: ['a', 'b', 'c', 'd'], 'x': {'p': 100, 'q': 101}}\n"
     ]
    }
   ],
   "source": [
    "#or using the constructor\n",
    "\n",
    "dict2 = dict({'A':100, 'b':20, 30:['a', 'b', 'c', 'd'], 'x' : y})\n",
    "\n",
    "print(dict2)"
   ]
  },
  {
   "cell_type": "code",
   "execution_count": 5,
   "metadata": {},
   "outputs": [
    {
     "name": "stdout",
     "output_type": "stream",
     "text": [
      "{'A': 100, 'b': 20, 30: ['a', 'b', 'c', 'd'], 'x': {'p': 100, 'q': 101}, (100, 200): 100}\n"
     ]
    }
   ],
   "source": [
    "dict2[(100,200)] = 100\n",
    "\n",
    "print(dict2)"
   ]
  },
  {
   "cell_type": "code",
   "execution_count": 6,
   "metadata": {},
   "outputs": [
    {
     "ename": "TypeError",
     "evalue": "unhashable type: 'list'",
     "output_type": "error",
     "traceback": [
      "\u001b[1;31m---------------------------------------------------------------------------\u001b[0m",
      "\u001b[1;31mTypeError\u001b[0m                                 Traceback (most recent call last)",
      "\u001b[1;32m<ipython-input-6-fbe420c220cb>\u001b[0m in \u001b[0;36m<module>\u001b[1;34m\u001b[0m\n\u001b[1;32m----> 1\u001b[1;33m \u001b[0mdict2\u001b[0m\u001b[1;33m[\u001b[0m\u001b[1;33m(\u001b[0m\u001b[1;36m100\u001b[0m\u001b[1;33m,\u001b[0m\u001b[1;33m[\u001b[0m\u001b[1;36m1\u001b[0m\u001b[1;33m,\u001b[0m\u001b[1;36m2\u001b[0m\u001b[1;33m]\u001b[0m\u001b[1;33m)\u001b[0m\u001b[1;33m]\u001b[0m \u001b[1;33m=\u001b[0m \u001b[1;36m100\u001b[0m\u001b[1;33m\u001b[0m\u001b[1;33m\u001b[0m\u001b[0m\n\u001b[0m\u001b[0;32m      2\u001b[0m \u001b[0mprint\u001b[0m\u001b[1;33m(\u001b[0m\u001b[0mdict2\u001b[0m\u001b[1;33m)\u001b[0m\u001b[1;33m\u001b[0m\u001b[1;33m\u001b[0m\u001b[0m\n",
      "\u001b[1;31mTypeError\u001b[0m: unhashable type: 'list'"
     ]
    }
   ],
   "source": [
    "dict2[(100,[1,2])] = 100\n",
    "print(dict2)"
   ]
  },
  {
   "cell_type": "code",
   "execution_count": 7,
   "metadata": {},
   "outputs": [
    {
     "name": "stdout",
     "output_type": "stream",
     "text": [
      "{'a': 100, 'b': 101}\n",
      "<class 'dict'>\n"
     ]
    }
   ],
   "source": [
    "#Note how the curly braces are still required inside the dict constructor while initialising a dictionary through this\n",
    "#method. In reality, one would probably not use the constructor to create a list in this way. \n",
    "\n",
    "#However, if initialising using elements as key:value pairs the constructor comes in handy. \n",
    "\n",
    "dict3 = dict((('a',100), ('b',101)))\n",
    "\n",
    "print(dict3)\n",
    "print(type(dict3))"
   ]
  },
  {
   "cell_type": "code",
   "execution_count": 8,
   "metadata": {},
   "outputs": [
    {
     "name": "stdout",
     "output_type": "stream",
     "text": [
      "{'a': 100, 'b': 101}\n",
      "<class 'dict'>\n"
     ]
    }
   ],
   "source": [
    "#Note putting each key value pair tuple inside a list before passing to dictionary. \n",
    "\n",
    "dict3 = dict([['a',100], ['b',101]])\n",
    "\n",
    "print(dict3)\n",
    "print(type(dict3))\n",
    "\n",
    "#Any combination of tuple, list can be used as long as the syntax is being followed i.e. constructor brackets must be round\n",
    "# brackets, then the key:value pairs must be put inside a list or tuple and finally - each key, value pair must be inside a\n",
    "# tuple or list - of ONLY two objects. We CAN have the values as a mutable derived object with more than one element. But\n",
    "# for the dictionaries purpose - the value item is only one OBJECT. "
   ]
  },
  {
   "cell_type": "code",
   "execution_count": 9,
   "metadata": {},
   "outputs": [
    {
     "ename": "ValueError",
     "evalue": "dictionary update sequence element #0 has length 3; 2 is required",
     "output_type": "error",
     "traceback": [
      "\u001b[1;31m---------------------------------------------------------------------------\u001b[0m",
      "\u001b[1;31mValueError\u001b[0m                                Traceback (most recent call last)",
      "\u001b[1;32m<ipython-input-9-582a29bad56a>\u001b[0m in \u001b[0;36m<module>\u001b[1;34m\u001b[0m\n\u001b[0;32m      1\u001b[0m \u001b[1;31m#You can also pass on a two or more elements in a list inside the original list to create a dictionary.\u001b[0m\u001b[1;33m\u001b[0m\u001b[1;33m\u001b[0m\u001b[1;33m\u001b[0m\u001b[0m\n\u001b[0;32m      2\u001b[0m \u001b[1;33m\u001b[0m\u001b[0m\n\u001b[1;32m----> 3\u001b[1;33m \u001b[0mdict4\u001b[0m \u001b[1;33m=\u001b[0m \u001b[0mdict\u001b[0m\u001b[1;33m(\u001b[0m\u001b[1;33m[\u001b[0m\u001b[1;33m[\u001b[0m\u001b[1;34m'a'\u001b[0m\u001b[1;33m,\u001b[0m\u001b[1;36m100\u001b[0m\u001b[1;33m,\u001b[0m\u001b[1;36m1001\u001b[0m\u001b[1;33m]\u001b[0m\u001b[1;33m,\u001b[0m \u001b[1;33m[\u001b[0m\u001b[1;34m'b'\u001b[0m\u001b[1;33m,\u001b[0m\u001b[1;36m101\u001b[0m\u001b[1;33m,\u001b[0m \u001b[1;36m1010\u001b[0m\u001b[1;33m]\u001b[0m\u001b[1;33m]\u001b[0m\u001b[1;33m)\u001b[0m\u001b[1;33m\u001b[0m\u001b[1;33m\u001b[0m\u001b[0m\n\u001b[0m\u001b[0;32m      4\u001b[0m \u001b[1;33m\u001b[0m\u001b[0m\n\u001b[0;32m      5\u001b[0m \u001b[0mprint\u001b[0m\u001b[1;33m(\u001b[0m\u001b[0mdict4\u001b[0m\u001b[1;33m)\u001b[0m\u001b[1;33m\u001b[0m\u001b[1;33m\u001b[0m\u001b[0m\n",
      "\u001b[1;31mValueError\u001b[0m: dictionary update sequence element #0 has length 3; 2 is required"
     ]
    }
   ],
   "source": [
    "#You can also pass on a two or more elements in a list inside the original list to create a dictionary. \n",
    "\n",
    "dict4 = dict([['a',100,1001], ['b',101, 1010]])\n",
    "\n",
    "print(dict4)\n",
    "#More than 2 elements throws a Value error as the dictionary constructor only expects one key and one value inside the list\n",
    "#(or tuple)"
   ]
  },
  {
   "cell_type": "code",
   "execution_count": 10,
   "metadata": {},
   "outputs": [
    {
     "name": "stdout",
     "output_type": "stream",
     "text": [
      "{'a': [100, 1001], 'b': [101, 1010]}\n",
      "<class 'dict'>\n"
     ]
    }
   ],
   "source": [
    "#However, besides the first immutable element in each list - the rest can be passed into a list(or tuple, or set) denoting\n",
    "# one value object. \n",
    "\n",
    "dict3 = dict([['a',[100,1001]], ['b',[101,1010]]])\n",
    "\n",
    "print(dict3)\n",
    "print(type(dict3))\n"
   ]
  },
  {
   "cell_type": "code",
   "execution_count": 11,
   "metadata": {},
   "outputs": [
    {
     "name": "stdout",
     "output_type": "stream",
     "text": [
      "{'a': (100, 1001), 'b': (101, 1010)}\n",
      "<class 'dict'>\n"
     ]
    }
   ],
   "source": [
    "dict3 = dict((('a',(100,1001)), ('b',(101,1010))))\n",
    "\n",
    "print(dict3)\n",
    "print(type(dict3))\n"
   ]
  },
  {
   "cell_type": "code",
   "execution_count": 12,
   "metadata": {},
   "outputs": [
    {
     "name": "stdout",
     "output_type": "stream",
     "text": [
      "{'a': 100, 'b': 2020, 'c': 201}\n"
     ]
    }
   ],
   "source": [
    "dict4 = {'a':100, 'b':200, 'c':201, 'b':2020}\n",
    "\n",
    "print(dict4)\n"
   ]
  },
  {
   "cell_type": "code",
   "execution_count": 13,
   "metadata": {},
   "outputs": [
    {
     "name": "stdout",
     "output_type": "stream",
     "text": [
      "{'a': 100, 'b': 200, 'c': 201, 'B': 2020}\n"
     ]
    }
   ],
   "source": [
    "#Note here how when finding two elements 'b' in the dictionary initialisation - it only keeps the latest value of 'b' in the\n",
    "# dictionary. Keys of a dictionary must be unique. \n",
    "\n",
    "#This works though since strings are case sensitive. \n",
    "\n",
    "dict4 = {'a':100, 'b':200, 'c':201, 'B':2020}\n",
    "\n",
    "print(dict4)\n"
   ]
  },
  {
   "cell_type": "code",
   "execution_count": 14,
   "metadata": {},
   "outputs": [
    {
     "ename": "TypeError",
     "evalue": "unhashable type: 'list'",
     "output_type": "error",
     "traceback": [
      "\u001b[1;31m---------------------------------------------------------------------------\u001b[0m",
      "\u001b[1;31mTypeError\u001b[0m                                 Traceback (most recent call last)",
      "\u001b[1;32m<ipython-input-14-5d47c707c931>\u001b[0m in \u001b[0;36m<module>\u001b[1;34m\u001b[0m\n\u001b[0;32m      3\u001b[0m \u001b[1;31m#Keys though must be immutable.\u001b[0m\u001b[1;33m\u001b[0m\u001b[1;33m\u001b[0m\u001b[1;33m\u001b[0m\u001b[0m\n\u001b[0;32m      4\u001b[0m \u001b[1;33m\u001b[0m\u001b[0m\n\u001b[1;32m----> 5\u001b[1;33m \u001b[0mdict5\u001b[0m \u001b[1;33m=\u001b[0m \u001b[1;33m{\u001b[0m\u001b[1;33m[\u001b[0m\u001b[1;36m1\u001b[0m\u001b[1;33m,\u001b[0m\u001b[1;36m2\u001b[0m\u001b[1;33m,\u001b[0m\u001b[1;36m3\u001b[0m\u001b[1;33m]\u001b[0m \u001b[1;33m:\u001b[0m \u001b[1;34m'abc'\u001b[0m\u001b[1;33m,\u001b[0m \u001b[1;36m21\u001b[0m\u001b[1;33m:\u001b[0m\u001b[1;36m200\u001b[0m\u001b[1;33m,\u001b[0m \u001b[1;34m'abc'\u001b[0m\u001b[1;33m:\u001b[0m\u001b[1;36m75\u001b[0m\u001b[1;33m,\u001b[0m \u001b[1;36m2\u001b[0m \u001b[1;33m+\u001b[0m \u001b[1;36m3j\u001b[0m \u001b[1;33m:\u001b[0m \u001b[1;36m75\u001b[0m\u001b[1;33m,\u001b[0m \u001b[1;36m10.2\u001b[0m \u001b[1;33m:\u001b[0m \u001b[1;36m75\u001b[0m\u001b[1;33m}\u001b[0m\u001b[1;33m\u001b[0m\u001b[1;33m\u001b[0m\u001b[0m\n\u001b[0m\u001b[0;32m      6\u001b[0m \u001b[1;33m\u001b[0m\u001b[0m\n\u001b[0;32m      7\u001b[0m \u001b[0mprint\u001b[0m\u001b[1;33m(\u001b[0m\u001b[0mdict5\u001b[0m\u001b[1;33m)\u001b[0m\u001b[1;33m\u001b[0m\u001b[1;33m\u001b[0m\u001b[0m\n",
      "\u001b[1;31mTypeError\u001b[0m: unhashable type: 'list'"
     ]
    }
   ],
   "source": [
    "#We already saw that values can be immutable or mutable datatypes. \n",
    "\n",
    "#Keys though must be immutable. \n",
    "\n",
    "dict5 = {[1,2,3] : 'abc', 21:200, 'abc':75, 2 + 3j : 75, 10.2 : 75}\n",
    "\n",
    "print(dict5)"
   ]
  },
  {
   "cell_type": "code",
   "execution_count": 15,
   "metadata": {},
   "outputs": [
    {
     "ename": "TypeError",
     "evalue": "unhashable type: 'list'",
     "output_type": "error",
     "traceback": [
      "\u001b[1;31m---------------------------------------------------------------------------\u001b[0m",
      "\u001b[1;31mTypeError\u001b[0m                                 Traceback (most recent call last)",
      "\u001b[1;32m<ipython-input-15-671318c2f2a8>\u001b[0m in \u001b[0;36m<module>\u001b[1;34m\u001b[0m\n\u001b[0;32m      1\u001b[0m \u001b[0mx\u001b[0m \u001b[1;33m=\u001b[0m \u001b[1;33m[\u001b[0m\u001b[1;36m1\u001b[0m\u001b[1;33m,\u001b[0m\u001b[1;36m2\u001b[0m\u001b[1;33m,\u001b[0m\u001b[1;36m3\u001b[0m\u001b[1;33m]\u001b[0m\u001b[1;33m\u001b[0m\u001b[1;33m\u001b[0m\u001b[0m\n\u001b[0;32m      2\u001b[0m \u001b[1;33m\u001b[0m\u001b[0m\n\u001b[1;32m----> 3\u001b[1;33m \u001b[0mdict5\u001b[0m \u001b[1;33m=\u001b[0m \u001b[1;33m{\u001b[0m\u001b[0mx\u001b[0m \u001b[1;33m:\u001b[0m \u001b[1;34m'abc'\u001b[0m\u001b[1;33m,\u001b[0m \u001b[1;36m21\u001b[0m\u001b[1;33m:\u001b[0m\u001b[1;36m200\u001b[0m\u001b[1;33m,\u001b[0m \u001b[1;34m'abc'\u001b[0m\u001b[1;33m:\u001b[0m\u001b[1;36m75\u001b[0m\u001b[1;33m,\u001b[0m \u001b[1;36m2\u001b[0m \u001b[1;33m+\u001b[0m \u001b[1;36m3j\u001b[0m \u001b[1;33m:\u001b[0m \u001b[1;36m75\u001b[0m\u001b[1;33m,\u001b[0m \u001b[1;36m10.2\u001b[0m \u001b[1;33m:\u001b[0m \u001b[1;36m75\u001b[0m\u001b[1;33m}\u001b[0m\u001b[1;33m\u001b[0m\u001b[1;33m\u001b[0m\u001b[0m\n\u001b[0m",
      "\u001b[1;31mTypeError\u001b[0m: unhashable type: 'list'"
     ]
    }
   ],
   "source": [
    "x = [1,2,3]\n",
    "\n",
    "dict5 = {x : 'abc', 21:200, 'abc':75, 2 + 3j : 75, 10.2 : 75}"
   ]
  },
  {
   "cell_type": "code",
   "execution_count": 16,
   "metadata": {},
   "outputs": [
    {
     "name": "stdout",
     "output_type": "stream",
     "text": [
      "{'PQR': 'abc', 21: 200, 'abc': 75, (2+3j): 75, 10.2: 75}\n"
     ]
    }
   ],
   "source": [
    "x = 'PQR'\n",
    "\n",
    "dict5 = {x : 'abc', 21:200, 'abc':75, 2 + 3j : 75, 10.2 : 75}\n",
    "\n",
    "print(dict5)\n",
    "\n",
    "ida = id(dict5)"
   ]
  },
  {
   "cell_type": "code",
   "execution_count": null,
   "metadata": {},
   "outputs": [],
   "source": []
  },
  {
   "cell_type": "code",
   "execution_count": 17,
   "metadata": {},
   "outputs": [],
   "source": [
    "x = 'STU'"
   ]
  },
  {
   "cell_type": "code",
   "execution_count": 18,
   "metadata": {},
   "outputs": [
    {
     "name": "stdout",
     "output_type": "stream",
     "text": [
      "{'PQR': 'abc', 21: 200, 'abc': 75, (2+3j): 75, 10.2: 75}\n"
     ]
    }
   ],
   "source": [
    "print(dict5)"
   ]
  },
  {
   "cell_type": "code",
   "execution_count": 19,
   "metadata": {},
   "outputs": [],
   "source": [
    "dict5 = {x : 'abc', 21:200, 'abc':75, 2 + 3j : 75, 10.2 : 75}"
   ]
  },
  {
   "cell_type": "code",
   "execution_count": 20,
   "metadata": {},
   "outputs": [
    {
     "name": "stdout",
     "output_type": "stream",
     "text": [
      "{'STU': 'abc', 21: 200, 'abc': 75, (2+3j): 75, 10.2: 75}\n"
     ]
    }
   ],
   "source": [
    "print(dict5)"
   ]
  },
  {
   "cell_type": "code",
   "execution_count": 21,
   "metadata": {},
   "outputs": [],
   "source": [
    "#Note above how when we assigned an immutable value to x variable, we were able to use it as a key in a dictionary(as long\n",
    "# as the value of x was immutable datatype)/\n",
    "\n",
    "#But when we changed the value of x, we were also able to create dict5. What looks like we were able to change the\n",
    "# dictionary in dict5 wasnt really true. A new dictionary object was created. "
   ]
  },
  {
   "cell_type": "code",
   "execution_count": 22,
   "metadata": {},
   "outputs": [
    {
     "ename": "NameError",
     "evalue": "name 'idaa' is not defined",
     "output_type": "error",
     "traceback": [
      "\u001b[1;31m---------------------------------------------------------------------------\u001b[0m",
      "\u001b[1;31mNameError\u001b[0m                                 Traceback (most recent call last)",
      "\u001b[1;32m<ipython-input-22-0e7feb30f24c>\u001b[0m in \u001b[0;36m<module>\u001b[1;34m\u001b[0m\n\u001b[1;32m----> 1\u001b[1;33m \u001b[0mprint\u001b[0m\u001b[1;33m(\u001b[0m\u001b[0mida\u001b[0m\u001b[1;33m,\u001b[0m \u001b[0midaa\u001b[0m\u001b[1;33m)\u001b[0m\u001b[1;33m\u001b[0m\u001b[1;33m\u001b[0m\u001b[0m\n\u001b[0m",
      "\u001b[1;31mNameError\u001b[0m: name 'idaa' is not defined"
     ]
    }
   ],
   "source": [
    "print(ida, idaa)"
   ]
  },
  {
   "cell_type": "code",
   "execution_count": 23,
   "metadata": {},
   "outputs": [],
   "source": [
    "#As explained before, though dictionaries themselves are mutable i.e. we can add and delete key:value pairs, we can alter\n",
    "# the values, the keys MUST be immutable i.e. once created - keys cannot be changed. \n",
    "\n",
    "#We CAN change the keys of a dictionary in a round about way which creates a new dictionary object. "
   ]
  },
  {
   "cell_type": "code",
   "execution_count": 24,
   "metadata": {},
   "outputs": [
    {
     "name": "stdout",
     "output_type": "stream",
     "text": [
      "['a', 'b', 'c', 'd', 'e']\n"
     ]
    }
   ],
   "source": [
    "#Another way to create dictionaries is with the .fromkeys() method. It takes two parameters:\n",
    "\n",
    "#1. An iterable whose values will be used as keys - mandatory\n",
    "#2. Value - Optional\n",
    "\n",
    "lst1 = list('abcde')\n",
    "print(lst1)"
   ]
  },
  {
   "cell_type": "code",
   "execution_count": 25,
   "metadata": {},
   "outputs": [
    {
     "name": "stdout",
     "output_type": "stream",
     "text": [
      "{'a': None, 'b': None, 'c': None, 'd': None, 'e': None}\n"
     ]
    }
   ],
   "source": [
    "dict1 = dict.fromkeys(lst1)\n",
    "\n",
    "print(dict1)\n",
    "\n",
    "#The default value has been set to None for later reassignment. "
   ]
  },
  {
   "cell_type": "code",
   "execution_count": 26,
   "metadata": {},
   "outputs": [
    {
     "name": "stdout",
     "output_type": "stream",
     "text": [
      "['a', 'b', 'c', 'd', 'e', [1, 2, 3, 4]]\n"
     ]
    }
   ],
   "source": [
    "#As always, all the keys must be immutable\n",
    "\n",
    "lst2 = list('abcde')\n",
    "lst2.append([1,2,3,4])\n",
    "print(lst2)"
   ]
  },
  {
   "cell_type": "code",
   "execution_count": 27,
   "metadata": {},
   "outputs": [
    {
     "ename": "TypeError",
     "evalue": "unhashable type: 'list'",
     "output_type": "error",
     "traceback": [
      "\u001b[1;31m---------------------------------------------------------------------------\u001b[0m",
      "\u001b[1;31mTypeError\u001b[0m                                 Traceback (most recent call last)",
      "\u001b[1;32m<ipython-input-27-d1bfccc5efd9>\u001b[0m in \u001b[0;36m<module>\u001b[1;34m\u001b[0m\n\u001b[1;32m----> 1\u001b[1;33m \u001b[0mdict2\u001b[0m \u001b[1;33m=\u001b[0m \u001b[0mdict\u001b[0m\u001b[1;33m.\u001b[0m\u001b[0mfromkeys\u001b[0m\u001b[1;33m(\u001b[0m\u001b[0mlst2\u001b[0m\u001b[1;33m)\u001b[0m\u001b[1;33m\u001b[0m\u001b[1;33m\u001b[0m\u001b[0m\n\u001b[0m",
      "\u001b[1;31mTypeError\u001b[0m: unhashable type: 'list'"
     ]
    }
   ],
   "source": [
    "dict2 = dict.fromkeys(lst2)"
   ]
  },
  {
   "cell_type": "code",
   "execution_count": 28,
   "metadata": {},
   "outputs": [
    {
     "name": "stdout",
     "output_type": "stream",
     "text": [
      "{'a': ['1', '2', '3', '4', '5'], 'b': ['1', '2', '3', '4', '5'], 'c': ['1', '2', '3', '4', '5'], 'd': ['1', '2', '3', '4', '5'], 'e': ['1', '2', '3', '4', '5']}\n"
     ]
    }
   ],
   "source": [
    "#Values can be provided as optional parameter to the from keys method\n",
    "\n",
    "val_dict1 = list('12345')\n",
    "\n",
    "dict3 = dict.fromkeys(lst1, val_dict1)\n",
    "print(dict3)"
   ]
  },
  {
   "cell_type": "code",
   "execution_count": 29,
   "metadata": {},
   "outputs": [
    {
     "name": "stdout",
     "output_type": "stream",
     "text": [
      "{'a': [1, 2, 3, 4], 'b': [1, 2, 3, 4], 'c': [1, 2, 3, 4], 'd': [1, 2, 3, 4], 'e': [1, 2, 3, 4]}\n"
     ]
    }
   ],
   "source": [
    "#Note that only one default value can be provided in the value parameter and not a range of values. It will only take the\n",
    "# single object provided as the default value for all keys. \n",
    "\n",
    "val_dict1 = [1,2,3,4]\n",
    "\n",
    "dict3a = dict.fromkeys(lst1, val_dict1)\n",
    "print(dict3a)"
   ]
  },
  {
   "cell_type": "code",
   "execution_count": 30,
   "metadata": {},
   "outputs": [
    {
     "name": "stdout",
     "output_type": "stream",
     "text": [
      "{'a': 1, 'b': 1, 'c': 1, 'd': 1, 'e': 1}\n"
     ]
    }
   ],
   "source": [
    "#Note the behaviour of an immutable datatype passed to the value parameter of dictionary created using fromkeys method\n",
    "\n",
    "val_dict1 = 1\n",
    "\n",
    "dict3 = dict.fromkeys(lst1, val_dict1)\n",
    "\n",
    "print(dict3)"
   ]
  },
  {
   "cell_type": "code",
   "execution_count": 31,
   "metadata": {},
   "outputs": [
    {
     "name": "stdout",
     "output_type": "stream",
     "text": [
      "{'a': 1, 'b': 1, 'c': 1, 'd': 1, 'e': 1}\n"
     ]
    }
   ],
   "source": [
    "val_dict1 = 2\n",
    "print(dict3)"
   ]
  },
  {
   "cell_type": "code",
   "execution_count": 32,
   "metadata": {},
   "outputs": [
    {
     "name": "stdout",
     "output_type": "stream",
     "text": [
      "{'a': [1, 2], 'b': [1, 2], 'c': [1, 2], 'd': [1, 2], 'e': [1, 2]}\n"
     ]
    }
   ],
   "source": [
    "#Now, note the behaviour of dictionary created with from keys method with mutable object as default value. \n",
    "\n",
    "val_dict2 = [1,2]\n",
    "\n",
    "dict4 = dict.fromkeys(lst1, val_dict2)\n",
    "print(dict4)"
   ]
  },
  {
   "cell_type": "code",
   "execution_count": 33,
   "metadata": {},
   "outputs": [
    {
     "name": "stdout",
     "output_type": "stream",
     "text": [
      "{'a': [1, 2, 3], 'b': [1, 2, 3], 'c': [1, 2, 3], 'd': [1, 2, 3], 'e': [1, 2, 3]}\n"
     ]
    }
   ],
   "source": [
    "val_dict2.append(3)\n",
    "\n",
    "print(dict4)"
   ]
  },
  {
   "cell_type": "code",
   "execution_count": 34,
   "metadata": {},
   "outputs": [
    {
     "name": "stdout",
     "output_type": "stream",
     "text": [
      "{'a': [1, 2, 3], 'b': 200}\n"
     ]
    }
   ],
   "source": [
    "#This is the same as:\n",
    "\n",
    "\n",
    "dict5 = {'a':val_dict2, 'b':200}\n",
    "\n",
    "print(dict5)\n",
    "\n"
   ]
  },
  {
   "cell_type": "code",
   "execution_count": 35,
   "metadata": {},
   "outputs": [
    {
     "name": "stdout",
     "output_type": "stream",
     "text": [
      "{'a': [1, 2, 3, 4], 'b': 200}\n"
     ]
    }
   ],
   "source": [
    "\n",
    "val_dict2.append(4)\n",
    "print(dict5)"
   ]
  },
  {
   "cell_type": "code",
   "execution_count": 36,
   "metadata": {},
   "outputs": [
    {
     "name": "stdout",
     "output_type": "stream",
     "text": [
      "{'a': [1, 2, 3, 4], 'b': [1, 2, 3, 4], 'c': [1, 2, 3, 4], 'd': [1, 2, 3, 4], 'e': [1, 2, 3, 4]}\n"
     ]
    }
   ],
   "source": [
    "#We can avoid this by using Dictionary comprehension. \n",
    "\n",
    "dict6 = {key:list(val_dict2) for key in lst1}\n",
    "\n",
    "print(dict6)"
   ]
  },
  {
   "cell_type": "code",
   "execution_count": 37,
   "metadata": {},
   "outputs": [
    {
     "name": "stdout",
     "output_type": "stream",
     "text": [
      "[1, 2, 3, 4]\n"
     ]
    }
   ],
   "source": [
    "print(val_dict2)"
   ]
  },
  {
   "cell_type": "code",
   "execution_count": 38,
   "metadata": {},
   "outputs": [],
   "source": [
    "dict6['a'].append(600)"
   ]
  },
  {
   "cell_type": "code",
   "execution_count": 167,
   "metadata": {},
   "outputs": [
    {
     "name": "stdout",
     "output_type": "stream",
     "text": [
      "3\n"
     ]
    }
   ],
   "source": [
    "print(dict6['a'][2])"
   ]
  },
  {
   "cell_type": "code",
   "execution_count": 40,
   "metadata": {},
   "outputs": [
    {
     "ename": "AttributeError",
     "evalue": "'dict' object has no attribute 'append'",
     "output_type": "error",
     "traceback": [
      "\u001b[1;31m---------------------------------------------------------------------------\u001b[0m",
      "\u001b[1;31mAttributeError\u001b[0m                            Traceback (most recent call last)",
      "\u001b[1;32m<ipython-input-40-343c21ba6710>\u001b[0m in \u001b[0;36m<module>\u001b[1;34m\u001b[0m\n\u001b[1;32m----> 1\u001b[1;33m \u001b[0mdict6\u001b[0m\u001b[1;33m.\u001b[0m\u001b[0mappend\u001b[0m\u001b[1;33m(\u001b[0m\u001b[1;36m77\u001b[0m\u001b[1;33m)\u001b[0m\u001b[1;33m\u001b[0m\u001b[1;33m\u001b[0m\u001b[0m\n\u001b[0m",
      "\u001b[1;31mAttributeError\u001b[0m: 'dict' object has no attribute 'append'"
     ]
    }
   ],
   "source": [
    "dict6.append(77)"
   ]
  },
  {
   "cell_type": "code",
   "execution_count": 41,
   "metadata": {},
   "outputs": [
    {
     "name": "stdout",
     "output_type": "stream",
     "text": [
      "{'a': [1, 2, 3, 4, 600], 'b': [1, 2, 3, 4], 'c': [1, 2, 3, 4], 'd': [1, 2, 3, 4], 'e': [1, 2, 3, 4]}\n"
     ]
    }
   ],
   "source": [
    "print(dict6)"
   ]
  },
  {
   "cell_type": "code",
   "execution_count": 42,
   "metadata": {},
   "outputs": [
    {
     "name": "stdout",
     "output_type": "stream",
     "text": [
      "{'a': [1, 2, 3, 4, 600], 'b': [1, 2, 3, 4], 'c': [1, 2, 3, 4], 'd': [1, 2, 3, 4], 'e': [1, 2, 3, 4]}\n"
     ]
    }
   ],
   "source": [
    "\n",
    "\n",
    "val_dict2.append(6)\n",
    "\n",
    "print(dict6)"
   ]
  },
  {
   "cell_type": "code",
   "execution_count": 43,
   "metadata": {},
   "outputs": [],
   "source": [
    "#Here a new list object is created and assigned as the value for each key. More on Dictionary Comprehension below. "
   ]
  },
  {
   "cell_type": "code",
   "execution_count": 44,
   "metadata": {},
   "outputs": [
    {
     "name": "stdout",
     "output_type": "stream",
     "text": [
      "abc\n"
     ]
    }
   ],
   "source": [
    "#To get the values of a key in dictionary we use the following syntax. \n",
    "\n",
    "dict5 = {'y' : 'abc', 21:200, 'abc':75, 2 + 3j : 75, 10.2 : 75}\n",
    "\n",
    "print(dict5['y'])"
   ]
  },
  {
   "cell_type": "code",
   "execution_count": 45,
   "metadata": {},
   "outputs": [
    {
     "ename": "KeyError",
     "evalue": "'x'",
     "output_type": "error",
     "traceback": [
      "\u001b[1;31m---------------------------------------------------------------------------\u001b[0m",
      "\u001b[1;31mKeyError\u001b[0m                                  Traceback (most recent call last)",
      "\u001b[1;32m<ipython-input-45-48045a67f53b>\u001b[0m in \u001b[0;36m<module>\u001b[1;34m\u001b[0m\n\u001b[0;32m      1\u001b[0m \u001b[1;31m#If the key is not found, it raises a key error.\u001b[0m\u001b[1;33m\u001b[0m\u001b[1;33m\u001b[0m\u001b[1;33m\u001b[0m\u001b[0m\n\u001b[0;32m      2\u001b[0m \u001b[1;33m\u001b[0m\u001b[0m\n\u001b[1;32m----> 3\u001b[1;33m \u001b[0mprint\u001b[0m\u001b[1;33m(\u001b[0m\u001b[0mdict5\u001b[0m\u001b[1;33m[\u001b[0m\u001b[1;34m'x'\u001b[0m\u001b[1;33m]\u001b[0m\u001b[1;33m)\u001b[0m\u001b[1;33m\u001b[0m\u001b[1;33m\u001b[0m\u001b[0m\n\u001b[0m",
      "\u001b[1;31mKeyError\u001b[0m: 'x'"
     ]
    }
   ],
   "source": [
    "#If the key is not found, it raises a key error.\n",
    "\n",
    "print(dict5['x'])"
   ]
  },
  {
   "cell_type": "code",
   "execution_count": 46,
   "metadata": {},
   "outputs": [
    {
     "name": "stdout",
     "output_type": "stream",
     "text": [
      "{'y': 'abc', 21: 200, 'abc': 75, (2+3j): 75, 10.2: 75}\n"
     ]
    }
   ],
   "source": [
    "\n",
    "print(dict5)"
   ]
  },
  {
   "cell_type": "code",
   "execution_count": 47,
   "metadata": {},
   "outputs": [
    {
     "name": "stdout",
     "output_type": "stream",
     "text": [
      "{'y': 'xyz', 21: 200, 'abc': 75, (2+3j): 75, 10.2: 75}\n"
     ]
    }
   ],
   "source": [
    "\n",
    "\n",
    "\n",
    "\n",
    "#We can also assign the values to a key in one lline. \n",
    "\n",
    "dict5['y'] = 'xyz'\n",
    "\n",
    "print(dict5)"
   ]
  },
  {
   "cell_type": "code",
   "execution_count": 48,
   "metadata": {},
   "outputs": [
    {
     "name": "stdout",
     "output_type": "stream",
     "text": [
      "{'y': 'xyz', 21: 200, 'abc': 75, (2+3j): 75, 10.2: 75}\n",
      "{'y': 'xyz', 21: 200, 'abc': 75, (2+3j): 75, 10.2: 75, 'x': 1230}\n"
     ]
    }
   ],
   "source": [
    "#However, if the key is not found during value assignment, then a new key value pair will be created\n",
    "\n",
    "print(dict5)\n",
    "\n",
    "dict5['x'] = 1230\n",
    "\n",
    "print(dict5)"
   ]
  },
  {
   "cell_type": "code",
   "execution_count": null,
   "metadata": {},
   "outputs": [],
   "source": []
  },
  {
   "cell_type": "code",
   "execution_count": 49,
   "metadata": {},
   "outputs": [
    {
     "name": "stdout",
     "output_type": "stream",
     "text": [
      "{'x': 'abc', 21: 200, 'abc': 75, (2+3j): 75, 10.2: 75, 'y': 'abc'}\n"
     ]
    }
   ],
   "source": [
    "#Coming back to changing the key in a round about way - \n",
    "\n",
    "dict1 = {'x' : 'abc', 21:200, 'abc':75, 2 + 3j : 75, 10.2 : 75}\n",
    "\n",
    "ida = id(dict1)\n",
    "\n",
    "dict1['y'] = dict1['x']\n",
    "\n",
    "print(dict1)"
   ]
  },
  {
   "cell_type": "code",
   "execution_count": 50,
   "metadata": {},
   "outputs": [],
   "source": [
    "del(dict1['x'])"
   ]
  },
  {
   "cell_type": "code",
   "execution_count": 51,
   "metadata": {},
   "outputs": [
    {
     "name": "stdout",
     "output_type": "stream",
     "text": [
      "{21: 200, 'abc': 75, (2+3j): 75, 10.2: 75, 'y': 'abc'}\n"
     ]
    }
   ],
   "source": [
    "print(dict1)"
   ]
  },
  {
   "cell_type": "code",
   "execution_count": 52,
   "metadata": {},
   "outputs": [],
   "source": [
    "idaa = id(dict1)\n",
    "#Above we assigned the value of 'x' to a new key 'y' (values can be duplicated but not keys). Then we went ahead and deleted\n",
    "# the old key to be changed. "
   ]
  },
  {
   "cell_type": "code",
   "execution_count": 53,
   "metadata": {},
   "outputs": [
    {
     "name": "stdout",
     "output_type": "stream",
     "text": [
      "2108550820544 2108550820544\n"
     ]
    }
   ],
   "source": [
    "print(ida, idaa)"
   ]
  },
  {
   "cell_type": "code",
   "execution_count": 54,
   "metadata": {},
   "outputs": [],
   "source": [
    "#Note how the id of the object did not change.\n",
    "\n",
    "#Therefore, Dictionaries are mutable, values can be mutable but keys of a dictionary are IMMUTABLE. "
   ]
  },
  {
   "cell_type": "code",
   "execution_count": 55,
   "metadata": {},
   "outputs": [
    {
     "name": "stdout",
     "output_type": "stream",
     "text": [
      "{'A': 100, 'b': 20, 30: ['a', 'b', 'c', 'd'], 'x': {'x': 100, 'y': 101}}\n",
      "<class 'dict'>\n"
     ]
    }
   ],
   "source": [
    "\n",
    "\n",
    "\n",
    "\n",
    "\n",
    "\n",
    "\n",
    "\n",
    "#Note also though that even though keys of a dictionary may not be duplicated, there is no conflict created in case the \n",
    "# key of a dictionary is used in the values. \n",
    "\n",
    "dict1 = {'A':100, 'b':20, 30:['a', 'b', 'c', 'd'], 'x' : {'x' : 100, 'y': 101}}\n",
    "\n",
    "print(dict1)\n",
    "print(type(dict1))"
   ]
  },
  {
   "cell_type": "code",
   "execution_count": 56,
   "metadata": {},
   "outputs": [
    {
     "name": "stdout",
     "output_type": "stream",
     "text": [
      "{'x': 'x', 'y': 'z', 'z': 'y'}\n"
     ]
    }
   ],
   "source": [
    "dict2 = {'x':'x', 'y':'z', 'z':'y'}\n",
    "print(dict2)"
   ]
  },
  {
   "cell_type": "code",
   "execution_count": 57,
   "metadata": {},
   "outputs": [
    {
     "ename": "KeyError",
     "evalue": "1",
     "output_type": "error",
     "traceback": [
      "\u001b[1;31m---------------------------------------------------------------------------\u001b[0m",
      "\u001b[1;31mKeyError\u001b[0m                                  Traceback (most recent call last)",
      "\u001b[1;32m<ipython-input-57-32a902464312>\u001b[0m in \u001b[0;36m<module>\u001b[1;34m\u001b[0m\n\u001b[0;32m      1\u001b[0m \u001b[1;31m#Slicing and indexing in Dictionaries is not supported\u001b[0m\u001b[1;33m\u001b[0m\u001b[1;33m\u001b[0m\u001b[1;33m\u001b[0m\u001b[0m\n\u001b[0;32m      2\u001b[0m \u001b[1;33m\u001b[0m\u001b[0m\n\u001b[1;32m----> 3\u001b[1;33m \u001b[0mprint\u001b[0m\u001b[1;33m(\u001b[0m\u001b[0mdict2\u001b[0m\u001b[1;33m[\u001b[0m\u001b[1;36m1\u001b[0m\u001b[1;33m]\u001b[0m\u001b[1;33m)\u001b[0m\u001b[1;33m\u001b[0m\u001b[1;33m\u001b[0m\u001b[0m\n\u001b[0m",
      "\u001b[1;31mKeyError\u001b[0m: 1"
     ]
    }
   ],
   "source": [
    "#Slicing and indexing in Dictionaries is not supported\n",
    "\n",
    "print(dict2[1])"
   ]
  },
  {
   "cell_type": "code",
   "execution_count": 58,
   "metadata": {},
   "outputs": [
    {
     "ename": "TypeError",
     "evalue": "unhashable type: 'slice'",
     "output_type": "error",
     "traceback": [
      "\u001b[1;31m---------------------------------------------------------------------------\u001b[0m",
      "\u001b[1;31mTypeError\u001b[0m                                 Traceback (most recent call last)",
      "\u001b[1;32m<ipython-input-58-73af8f1aa3c9>\u001b[0m in \u001b[0;36m<module>\u001b[1;34m\u001b[0m\n\u001b[1;32m----> 1\u001b[1;33m \u001b[0mdict2\u001b[0m \u001b[1;33m=\u001b[0m \u001b[0mdict1\u001b[0m\u001b[1;33m[\u001b[0m\u001b[1;33m:\u001b[0m\u001b[1;36m4\u001b[0m\u001b[1;33m]\u001b[0m\u001b[1;33m\u001b[0m\u001b[1;33m\u001b[0m\u001b[0m\n\u001b[0m\u001b[0;32m      2\u001b[0m \u001b[1;33m\u001b[0m\u001b[0m\n\u001b[0;32m      3\u001b[0m \u001b[0mprint\u001b[0m\u001b[1;33m(\u001b[0m\u001b[0mdict2\u001b[0m\u001b[1;33m)\u001b[0m\u001b[1;33m\u001b[0m\u001b[1;33m\u001b[0m\u001b[0m\n",
      "\u001b[1;31mTypeError\u001b[0m: unhashable type: 'slice'"
     ]
    }
   ],
   "source": [
    "dict2 = dict1[:4]\n",
    "\n",
    "print(dict2)"
   ]
  },
  {
   "cell_type": "code",
   "execution_count": 59,
   "metadata": {},
   "outputs": [
    {
     "name": "stdout",
     "output_type": "stream",
     "text": [
      "20\n"
     ]
    }
   ],
   "source": [
    "\n",
    "#We access the values of a key in a dictionary using the following syntax\n",
    "\n",
    "dict1 = {'A':100, 'b':20, 30:['a', 'b', 'c', 'd'], 'x' : {'x' : 100, 'y': 101}}\n",
    "\n",
    "print(dict1['b'])"
   ]
  },
  {
   "cell_type": "code",
   "execution_count": 60,
   "metadata": {},
   "outputs": [
    {
     "name": "stdout",
     "output_type": "stream",
     "text": [
      "['a', 'b', 'c', 'd']\n"
     ]
    }
   ],
   "source": [
    "print(dict1[30])"
   ]
  },
  {
   "cell_type": "code",
   "execution_count": 61,
   "metadata": {},
   "outputs": [
    {
     "name": "stdout",
     "output_type": "stream",
     "text": [
      "['a', 'b', 'c', 'd']\n"
     ]
    }
   ],
   "source": [
    "x = dict1[30]\n",
    "print(x)"
   ]
  },
  {
   "cell_type": "code",
   "execution_count": 62,
   "metadata": {},
   "outputs": [
    {
     "name": "stdout",
     "output_type": "stream",
     "text": [
      "{'A': 100, 'b': 20, 30: ['a', 'b', 'c', 'd'], 'x': {'x': 100, 'y': 101}}\n"
     ]
    }
   ],
   "source": [
    "#Please remember that here we are only accessing the values of the keys 'b' and 30\n",
    "\n",
    "#The .get() dictionary method does the same thing. \n",
    "print(dict1)"
   ]
  },
  {
   "cell_type": "code",
   "execution_count": 63,
   "metadata": {},
   "outputs": [
    {
     "name": "stdout",
     "output_type": "stream",
     "text": [
      "20\n"
     ]
    }
   ],
   "source": [
    "print(dict1.get('b'))"
   ]
  },
  {
   "cell_type": "code",
   "execution_count": 64,
   "metadata": {},
   "outputs": [
    {
     "ename": "KeyError",
     "evalue": "'Romeo'",
     "output_type": "error",
     "traceback": [
      "\u001b[1;31m---------------------------------------------------------------------------\u001b[0m",
      "\u001b[1;31mKeyError\u001b[0m                                  Traceback (most recent call last)",
      "\u001b[1;32m<ipython-input-64-95f8813f3115>\u001b[0m in \u001b[0;36m<module>\u001b[1;34m\u001b[0m\n\u001b[0;32m      1\u001b[0m \u001b[1;31m#However, if dict[key] does not find the key in the dictionary - it raises a key error\u001b[0m\u001b[1;33m\u001b[0m\u001b[1;33m\u001b[0m\u001b[1;33m\u001b[0m\u001b[0m\n\u001b[0;32m      2\u001b[0m \u001b[1;33m\u001b[0m\u001b[0m\n\u001b[1;32m----> 3\u001b[1;33m \u001b[0mx\u001b[0m \u001b[1;33m=\u001b[0m \u001b[0mdict1\u001b[0m\u001b[1;33m[\u001b[0m\u001b[1;34m'Romeo'\u001b[0m\u001b[1;33m]\u001b[0m\u001b[1;33m\u001b[0m\u001b[1;33m\u001b[0m\u001b[0m\n\u001b[0m",
      "\u001b[1;31mKeyError\u001b[0m: 'Romeo'"
     ]
    }
   ],
   "source": [
    "#However, if dict[key] does not find the key in the dictionary - it raises a key error\n",
    "\n",
    "x = dict1['Romeo']"
   ]
  },
  {
   "cell_type": "code",
   "execution_count": 65,
   "metadata": {},
   "outputs": [
    {
     "name": "stdout",
     "output_type": "stream",
     "text": [
      "None\n"
     ]
    }
   ],
   "source": [
    "\n",
    "#while the get method returns none by default. \n",
    "\n",
    "print(dict1.get('Romeo'))"
   ]
  },
  {
   "cell_type": "code",
   "execution_count": 66,
   "metadata": {},
   "outputs": [
    {
     "name": "stdout",
     "output_type": "stream",
     "text": [
      "Key not found\n"
     ]
    }
   ],
   "source": [
    "#The default return can be changed i.e. the get method takes two parameters\n",
    "\n",
    "#1. The key for which we need to find the value - Mandatory\n",
    "#2. Return value if key is not found. Optional and if not provided defaults to None. \n",
    "\n",
    "\n",
    "print(dict1.get('Romeo', 'Key not found'))"
   ]
  },
  {
   "cell_type": "code",
   "execution_count": 67,
   "metadata": {},
   "outputs": [],
   "source": [
    "#Both the square brackets syntax and the get method - can only take one key in as parameter at once. "
   ]
  },
  {
   "cell_type": "code",
   "execution_count": 68,
   "metadata": {},
   "outputs": [
    {
     "name": "stdout",
     "output_type": "stream",
     "text": [
      "{'A': 100, 'b': 20.101, 30: ['a', 'b', 'c', 'd'], 'x': {'x': 100, 'y': 101}}\n"
     ]
    }
   ],
   "source": [
    "#Values to keys can be assigned using the following syntax:\n",
    "\n",
    "dict1 = {'A':100, 'b':20, 30:['a', 'b', 'c', 'd'], 'x' : {'x' : 100, 'y': 101}}\n",
    "\n",
    "dict1['b'] = 20.101\n",
    "\n",
    "print(dict1)"
   ]
  },
  {
   "cell_type": "code",
   "execution_count": 69,
   "metadata": {},
   "outputs": [
    {
     "name": "stdout",
     "output_type": "stream",
     "text": [
      "{'A': 100, 'b': 20.101, 30: ['a', 'b', 'c', 'd'], 'x': {'x': 100, 'y': 101}, 'z': 201, 'w': 301}\n"
     ]
    }
   ],
   "source": [
    "\n",
    "\n",
    "#Or we can use the update method which can be another dictionary or other iterable in key, value pairs\n",
    "\n",
    "dict1.update({'z':201, 'w':301})\n",
    "\n",
    "print(dict1)"
   ]
  },
  {
   "cell_type": "code",
   "execution_count": 70,
   "metadata": {},
   "outputs": [
    {
     "name": "stdout",
     "output_type": "stream",
     "text": [
      "{'A': 100, 'b': 20, 30: ['a', 'b', 'c', 'd'], 'x': {'x': 100, 'y': 101}}\n",
      "{'A': 100, 'b': 20, 30: ['a', 'b', 'c', 'd'], 'x': {'x': 100, 'y': 101}, 'z': 2001, 'w': 3001}\n"
     ]
    }
   ],
   "source": [
    "dict1 = {'A':100, 'b':20, 30:['a', 'b', 'c', 'd'], 'x' : {'x' : 100, 'y': 101}}\n",
    "print(dict1)\n",
    "\n",
    "dict1.update([['z',2001], ['w',3001]])\n",
    "\n",
    "print(dict1)"
   ]
  },
  {
   "cell_type": "code",
   "execution_count": 71,
   "metadata": {},
   "outputs": [
    {
     "name": "stdout",
     "output_type": "stream",
     "text": [
      "{'A': 100, 'b': 20, 30: ['a', 'b', 'c', 'd'], 'x': {'x': 100, 'y': 101}}\n",
      "{'A': 100, 'b': 20, 30: ['a', 'b', 'c', 'd'], 'x': {'x': 100, 'y': 101}, 'z': 221, 'w': 321}\n"
     ]
    }
   ],
   "source": [
    "dict1 = {'A':100, 'b':20, 30:['a', 'b', 'c', 'd'], 'x' : {'x' : 100, 'y': 101}}\n",
    "print(dict1)\n",
    "\n",
    "dict1.update([('z',221), ('w',321)])\n",
    "\n",
    "print(dict1)"
   ]
  },
  {
   "cell_type": "code",
   "execution_count": 72,
   "metadata": {},
   "outputs": [
    {
     "name": "stdout",
     "output_type": "stream",
     "text": [
      "{'A': 100, 'b': 20, 30: ['a', 'b', 'c', 'd'], 'x': {'x': 100, 'y': 101}}\n",
      "{'A': 100, 'b': 20, 30: ['a', 'b', 'c', 'd'], 'x': {'x': 100, 'y': 101}}\n"
     ]
    }
   ],
   "source": [
    "dict1 = {'A':100, 'b':20, 30:['a', 'b', 'c', 'd'], 'x' : {'x' : 100, 'y': 101}}\n",
    "print(dict1)\n",
    "(('z',201), ('w',301))\n",
    "dict1.update()\n",
    "\n",
    "print(dict1)"
   ]
  },
  {
   "cell_type": "code",
   "execution_count": 73,
   "metadata": {},
   "outputs": [
    {
     "name": "stdout",
     "output_type": "stream",
     "text": [
      "{'A': 100, 'b': 20, 30: ['a', 'b', 'c', 'd'], 'x': {'x': 100, 'y': 101}}\n",
      "{'A': 100, 'b': 20, 30: ['a', 'b', 'c', 'd'], 'x': {'x': 100, 'y': 101}, 'z': 201, 'w': 301}\n"
     ]
    }
   ],
   "source": [
    "dict1 = {'A':100, 'b':20, 30:['a', 'b', 'c', 'd'], 'x' : {'x' : 100, 'y': 101}}\n",
    "\n",
    "print(dict1)\n",
    "\n",
    "dict1.update((['z',201], ['w',301]))\n",
    "print(dict1)\n"
   ]
  },
  {
   "cell_type": "code",
   "execution_count": 74,
   "metadata": {},
   "outputs": [],
   "source": [
    "#Any combination of tuple and list can be given to the update method. As long as the method is given ONE iterable - with\n",
    "#the key value pairs as a dictionary or inside another tuple or list. "
   ]
  },
  {
   "cell_type": "code",
   "execution_count": 75,
   "metadata": {},
   "outputs": [
    {
     "name": "stdout",
     "output_type": "stream",
     "text": [
      "{'A': 100, 'b': 20, 30: ['a', 'b', 'c', 'd'], 'x': {'x': 100, 'y': 101}, 'z': 201, 'w': 3001}\n"
     ]
    }
   ],
   "source": [
    "\n",
    "\n",
    "\n",
    "#However, if the key already exists in the dictionary then the value of the key is only updated. \n",
    "\n",
    "dict1.update({'w':3001})\n",
    "\n",
    "print(dict1)"
   ]
  },
  {
   "cell_type": "code",
   "execution_count": 76,
   "metadata": {},
   "outputs": [
    {
     "name": "stdout",
     "output_type": "stream",
     "text": [
      "False\n",
      "2108550678464 2108550678464\n"
     ]
    }
   ],
   "source": [
    "#Aliasing in dictionaries is just like in other datatypes. \n",
    "\n",
    "dict1 = {'A':100, 'b':20, 30:['a', 'b', 'c', 'd'], 'x' : {'x' : 100, 'y': 101}}\n",
    "\n",
    "dict2 = dict1\n",
    "\n",
    "print(id(dict1) is id(dict2))\n",
    "print(id(dict1), id(dict2))\n"
   ]
  },
  {
   "cell_type": "code",
   "execution_count": 77,
   "metadata": {},
   "outputs": [
    {
     "name": "stdout",
     "output_type": "stream",
     "text": [
      "True\n",
      "2108550676736 2108550676736\n"
     ]
    }
   ],
   "source": [
    "dict1 = {'A':100, 'b':20, 30:['a', 'b', 'c', 'd'], 'x' : {'x' : 100, 'y': 101}}\n",
    "\n",
    "dict2 = dict1\n",
    "\n",
    "print(dict1 is dict2)\n",
    "print(id(dict1), id(dict2))"
   ]
  },
  {
   "cell_type": "code",
   "execution_count": 78,
   "metadata": {},
   "outputs": [
    {
     "name": "stdout",
     "output_type": "stream",
     "text": [
      "{'A': 100, 'b': 20, 30: ['a', 'b', 'c', 'd'], 'x': {'x': 100, 'y': 101}}\n"
     ]
    }
   ],
   "source": [
    "\n",
    "\n",
    "#.setdefault() method in dictionaries. It returns the value of the key if they key is present and if not present adds the\n",
    "# key with value set as None and returns the default value None. We can also specify the default value parameter which is\n",
    "# optional.\n",
    "\n",
    "#.setdefault with key in dictionary and default value not provided. \n",
    "print(dict1)"
   ]
  },
  {
   "cell_type": "code",
   "execution_count": 79,
   "metadata": {},
   "outputs": [
    {
     "name": "stdout",
     "output_type": "stream",
     "text": [
      "100\n",
      "{'A': 100, 'b': 20, 30: ['a', 'b', 'c', 'd'], 'x': {'x': 100, 'y': 101}}\n"
     ]
    }
   ],
   "source": [
    "default = dict1.setdefault('A')\n",
    "\n",
    "print(default)\n",
    "print(dict1)"
   ]
  },
  {
   "cell_type": "code",
   "execution_count": 80,
   "metadata": {},
   "outputs": [
    {
     "name": "stdout",
     "output_type": "stream",
     "text": [
      "20\n",
      "{'A': 100, 'b': 20, 30: ['a', 'b', 'c', 'd'], 'x': {'x': 100, 'y': 101}}\n"
     ]
    }
   ],
   "source": [
    "#.setdefault if key is in dictionary and default value provided. \n",
    "\n",
    "default = dict1.setdefault('b', 2020)\n",
    "\n",
    "print(default)\n",
    "print(dict1)"
   ]
  },
  {
   "cell_type": "code",
   "execution_count": 81,
   "metadata": {},
   "outputs": [
    {
     "name": "stdout",
     "output_type": "stream",
     "text": [
      "None\n",
      "{'A': 100, 'b': 20, 30: ['a', 'b', 'c', 'd'], 'x': {'x': 100, 'y': 101}, 300: None}\n"
     ]
    }
   ],
   "source": [
    "#.setdefault if key not in dictionary and default value not provided. \n",
    "\n",
    "default = dict1.setdefault(300)\n",
    "\n",
    "print(default)\n",
    "print(dict1)"
   ]
  },
  {
   "cell_type": "code",
   "execution_count": 82,
   "metadata": {},
   "outputs": [],
   "source": [
    "#Note how the key 300 has been added to the dictionary with default value of None."
   ]
  },
  {
   "cell_type": "code",
   "execution_count": 83,
   "metadata": {},
   "outputs": [],
   "source": [
    "#.setdefault if key is not in dictionary with default value provided. "
   ]
  },
  {
   "cell_type": "code",
   "execution_count": 84,
   "metadata": {},
   "outputs": [
    {
     "name": "stdout",
     "output_type": "stream",
     "text": [
      "4x4x\n",
      "{'A': 100, 'b': 20, 30: ['a', 'b', 'c', 'd'], 'x': {'x': 100, 'y': 101}, 300: None, 400: '4x4x'}\n"
     ]
    }
   ],
   "source": [
    "default = dict1.setdefault(400, '4x4x')\n",
    "\n",
    "print(default)\n",
    "print(dict1)"
   ]
  },
  {
   "cell_type": "code",
   "execution_count": 85,
   "metadata": {},
   "outputs": [
    {
     "name": "stdout",
     "output_type": "stream",
     "text": [
      "{'A': 100, 'b': 20, 30: ['a', 'b', 'c', 'd'], 'x': {'x': 100, 'y': 101}, 300: None, 400: '4x4x'}\n"
     ]
    }
   ],
   "source": [
    "#Membership operations on dictionaries. \n",
    "\n",
    "#We can use the in and not in operators to check if a key is present in the dictionary.\n",
    "\n",
    "print(dict1)"
   ]
  },
  {
   "cell_type": "code",
   "execution_count": 86,
   "metadata": {},
   "outputs": [
    {
     "name": "stdout",
     "output_type": "stream",
     "text": [
      "True\n"
     ]
    }
   ],
   "source": [
    "print('b' in dict1)"
   ]
  },
  {
   "cell_type": "code",
   "execution_count": 87,
   "metadata": {},
   "outputs": [
    {
     "name": "stdout",
     "output_type": "stream",
     "text": [
      "False\n"
     ]
    }
   ],
   "source": [
    "print(101 in dict1)\n"
   ]
  },
  {
   "cell_type": "code",
   "execution_count": 88,
   "metadata": {},
   "outputs": [
    {
     "name": "stdout",
     "output_type": "stream",
     "text": [
      "False\n"
     ]
    }
   ],
   "source": [
    "print('b' not in dict1)\n"
   ]
  },
  {
   "cell_type": "code",
   "execution_count": 89,
   "metadata": {},
   "outputs": [
    {
     "name": "stdout",
     "output_type": "stream",
     "text": [
      "True\n"
     ]
    }
   ],
   "source": [
    "print('z' not in dict1)"
   ]
  },
  {
   "cell_type": "code",
   "execution_count": 90,
   "metadata": {},
   "outputs": [
    {
     "name": "stdout",
     "output_type": "stream",
     "text": [
      "{'A': 100, 'b': 20, 30: ['a', 'b', 'c', 'd'], 'x': {'x': 100, 'y': 101}}\n",
      "{'A': 100, 'b': 20, 30: ['a', 'b', 'c', 'd'], 'x': {'x': 100, 'y': 101}}\n"
     ]
    }
   ],
   "source": [
    "#Copy in Dictionaries. \n",
    "\n",
    "#We have already covered shallow copy while covering lists. At the same time we coverered deepcopy for lists, tuples,\n",
    "# dictionaries and sets. We covered how the built-in copy module creates 'Shallow copies'. And how shallow copies do not\n",
    "# work for compound objects. \n",
    "\n",
    "dict1 = {'A':100, 'b':20, 30:['a', 'b', 'c', 'd'], 'x' : {'x' : 100, 'y': 101}}\n",
    "\n",
    "dict2 = dict1.copy()\n",
    "\n",
    "print(dict1)\n",
    "print(dict2)\n"
   ]
  },
  {
   "cell_type": "code",
   "execution_count": 91,
   "metadata": {},
   "outputs": [
    {
     "name": "stdout",
     "output_type": "stream",
     "text": [
      "{'A': 100, 'b': 2010, 30: ['a', 'b', 'c', 'd'], 'x': {'x': 100, 'y': 101}}\n",
      "{'A': 100, 'b': 20, 30: ['a', 'b', 'c', 'd'], 'x': {'x': 100, 'y': 101}}\n"
     ]
    }
   ],
   "source": [
    "dict1['b'] = 2010\n",
    "\n",
    "print(dict1)\n",
    "print(dict2)"
   ]
  },
  {
   "cell_type": "code",
   "execution_count": 92,
   "metadata": {},
   "outputs": [],
   "source": [
    "#As with lists, if we created a copy of the object, changing one doesnt change the other UNLESS the object being changed\n",
    "# inside the list or dictionary is a mutable object in itself and the original list or dictionary object only contained\n",
    "# memory reference to the compound object. In which case, a change to the compound object will reflect on both copies of \n",
    "# the original list or dictionary object."
   ]
  },
  {
   "cell_type": "code",
   "execution_count": 93,
   "metadata": {},
   "outputs": [
    {
     "name": "stdout",
     "output_type": "stream",
     "text": [
      "{'A': 100, 'b': 2010, 30: ['a', 'b', 'c', 'd'], 'x': {'x': 100, 'y': 1010}}\n",
      "{'A': 100, 'b': 20, 30: ['a', 'b', 'c', 'd'], 'x': {'x': 100, 'y': 1010}}\n"
     ]
    }
   ],
   "source": [
    "dict1['x']['y'] = 1010\n",
    "\n",
    "print(dict1)\n",
    "print(dict2)"
   ]
  },
  {
   "cell_type": "code",
   "execution_count": 94,
   "metadata": {},
   "outputs": [
    {
     "name": "stdout",
     "output_type": "stream",
     "text": [
      "{'A': 100, 'b': 20, 30: ['a', 'b', 'c', 'd'], 'x': {'x': 100, 'y': 101}}\n",
      "{'A': 100, 'b': 20, 30: ['a', 'b', 'c', 'd'], 'x': {'x': 100, 'y': 101}}\n"
     ]
    }
   ],
   "source": [
    "#For such cases, we need the deepcopy()\n",
    "\n",
    "import copy\n",
    "\n",
    "dict1 = {'A':100, 'b':20, 30:['a', 'b', 'c', 'd'], 'x' : {'x' : 100, 'y': 101}}\n",
    "\n",
    "dict2 = copy.deepcopy(dict1)\n",
    "\n",
    "print(dict1)\n",
    "print(dict2)"
   ]
  },
  {
   "cell_type": "code",
   "execution_count": 95,
   "metadata": {},
   "outputs": [
    {
     "name": "stdout",
     "output_type": "stream",
     "text": [
      "{'A': 100, 'b': 20, 30: ['a', 'b', 'c', 'd'], 'x': {'x': 100, 'y': 1010}}\n",
      "{'A': 100, 'b': 20, 30: ['a', 'b', 'c', 'd'], 'x': {'x': 100, 'y': 101}}\n"
     ]
    }
   ],
   "source": [
    "dict1['x']['y'] = 1010\n",
    "\n",
    "print(dict1)\n",
    "print(dict2)"
   ]
  },
  {
   "cell_type": "code",
   "execution_count": 96,
   "metadata": {},
   "outputs": [],
   "source": [
    "#There is no syntax to get the keys of a dictionary from values. However, we can get the key by using programming logic \n",
    "# which we will see in a bit. "
   ]
  },
  {
   "cell_type": "code",
   "execution_count": 97,
   "metadata": {},
   "outputs": [
    {
     "name": "stdout",
     "output_type": "stream",
     "text": [
      "dict_keys(['A', 'b', 30, 'x'])\n"
     ]
    }
   ],
   "source": [
    "# keys() method for dictionaries gets the keys of the dictionary in a 'view object'.\n",
    "\n",
    "keys1 = dict1.keys()\n",
    "\n",
    "print(keys1)"
   ]
  },
  {
   "cell_type": "code",
   "execution_count": 98,
   "metadata": {},
   "outputs": [
    {
     "name": "stdout",
     "output_type": "stream",
     "text": [
      "{'A': 100, 'b': 20, 30: ['a', 'b', 'c', 'd'], 'x': {'x': 100, 'y': 1010}}\n"
     ]
    }
   ],
   "source": [
    "#Note how this is not a list. \n",
    "\n",
    "#Any changes to the keys of the dictionary(i.e. addition or deletion) reflects directly in this view object.\n",
    "print(dict1)"
   ]
  },
  {
   "cell_type": "code",
   "execution_count": 99,
   "metadata": {},
   "outputs": [
    {
     "name": "stdout",
     "output_type": "stream",
     "text": [
      "dict_keys(['A', 'b', 30, 'x', 'Python'])\n"
     ]
    }
   ],
   "source": [
    "dict1['Python'] = 'Great'\n",
    "\n",
    "print(keys1)"
   ]
  },
  {
   "cell_type": "code",
   "execution_count": 100,
   "metadata": {},
   "outputs": [],
   "source": [
    "#Note - how we did not update the keys variable but the dict view object stored with reference variable keys was \n",
    "# automatically updated. \n",
    "\n",
    "#The same will hold true for .values() method and .items() method. "
   ]
  },
  {
   "cell_type": "code",
   "execution_count": 101,
   "metadata": {},
   "outputs": [
    {
     "name": "stdout",
     "output_type": "stream",
     "text": [
      "['A', 'b', 30, 'x', 'Python']\n"
     ]
    }
   ],
   "source": [
    "#We can easily convert this dict view object to a list. \n",
    "\n",
    "key_list = list(dict1.keys())\n",
    "print(key_list)"
   ]
  },
  {
   "cell_type": "code",
   "execution_count": 102,
   "metadata": {},
   "outputs": [
    {
     "name": "stdout",
     "output_type": "stream",
     "text": [
      "{'A': 100, 'b': 20, 30: ['a', 'b', 'c', 'd'], 'x': {'x': 100, 'y': 1010}, 'Python': 'Great', 'Students': 'Awesome'}\n"
     ]
    }
   ],
   "source": [
    "dict1['Students'] = 'Awesome'\n",
    "print(dict1)"
   ]
  },
  {
   "cell_type": "code",
   "execution_count": 103,
   "metadata": {},
   "outputs": [
    {
     "name": "stdout",
     "output_type": "stream",
     "text": [
      "['A', 'b', 30, 'x', 'Python']\n"
     ]
    }
   ],
   "source": [
    "print(key_list)\n",
    "\n",
    "#Note here - how the key_list was not automatically updated since the list object from dict view object has already been\n",
    "# created and populated with the memory ref ids of the objects inside the dict view object. \n",
    "\n",
    "# In the case of the key variable we had set to the memory location of the dict view object itself and each update to\n",
    "# the dict view object was reflected in the variable key. "
   ]
  },
  {
   "cell_type": "code",
   "execution_count": 104,
   "metadata": {},
   "outputs": [
    {
     "name": "stdout",
     "output_type": "stream",
     "text": [
      "dict_values([100, 20, ['a', 'b', 'c', 'd'], {'x': 100, 'y': 1010}, 'Great', 'Awesome'])\n"
     ]
    }
   ],
   "source": [
    "#.values() method in dictionaries - returns a dict view object with the values of the dictionary. \n",
    "\n",
    "values1 = dict1.values()\n",
    "\n",
    "print(values1)"
   ]
  },
  {
   "cell_type": "code",
   "execution_count": 105,
   "metadata": {},
   "outputs": [
    {
     "name": "stdout",
     "output_type": "stream",
     "text": [
      "dict_values([100, 20, ['a', 'b', 'c', 'd'], {'x': 100, 'y': 1010}, 'Great', 'Fantastic'])\n"
     ]
    }
   ],
   "source": [
    "dict1['Students'] = 'Fantastic'\n",
    "\n",
    "print(values1)"
   ]
  },
  {
   "cell_type": "code",
   "execution_count": 106,
   "metadata": {},
   "outputs": [
    {
     "name": "stdout",
     "output_type": "stream",
     "text": [
      "[100, 20, ['a', 'b', 'c', 'd'], {'x': 100, 'y': 1010}, 'Great', 'Fantastic']\n"
     ]
    }
   ],
   "source": [
    "value_list = list(dict1.values())\n",
    "\n",
    "print(value_list)"
   ]
  },
  {
   "cell_type": "code",
   "execution_count": 107,
   "metadata": {},
   "outputs": [
    {
     "name": "stdout",
     "output_type": "stream",
     "text": [
      "[100, 20, ['a', 'b', 'c', 'd'], {'x': 100, 'y': 1010}, 'Great', 'Fantastic']\n"
     ]
    }
   ],
   "source": [
    "dict1['Students'] = 'Awesome'\n",
    "\n",
    "print(value_list)"
   ]
  },
  {
   "cell_type": "code",
   "execution_count": 108,
   "metadata": {},
   "outputs": [
    {
     "name": "stdout",
     "output_type": "stream",
     "text": [
      "{'A': 100, 'b': 20, 30: ['a', 'b', 'c', 'd'], 'x': {'x': 100, 'y': 1010}, 'Python': 'Great', 'Students': 'Awesome'}\n"
     ]
    }
   ],
   "source": [
    "#.items() method in dictionaries in Python returns a dict view object containing key, value pairs\n",
    "print(dict1)"
   ]
  },
  {
   "cell_type": "code",
   "execution_count": 109,
   "metadata": {},
   "outputs": [
    {
     "name": "stdout",
     "output_type": "stream",
     "text": [
      "dict_items([('A', 100), ('b', 20), (30, ['a', 'b', 'c', 'd']), ('x', {'x': 100, 'y': 1010}), ('Python', 'Great'), ('Students', 'Awesome')])\n"
     ]
    }
   ],
   "source": [
    "items1 = dict1.items()\n",
    "\n",
    "print(items1)"
   ]
  },
  {
   "cell_type": "code",
   "execution_count": 110,
   "metadata": {},
   "outputs": [
    {
     "name": "stdout",
     "output_type": "stream",
     "text": [
      "[('A', 100), ('b', 20), (30, ['a', 'b', 'c', 'd']), ('x', {'x': 100, 'y': 1010}), ('Python', 'Great'), ('Students', 'Awesome')]\n"
     ]
    }
   ],
   "source": [
    "#Note, how the items are returned in tuple like form. \n",
    "\n",
    "item_list = list(dict1.items())\n",
    "print(item_list)"
   ]
  },
  {
   "cell_type": "code",
   "execution_count": 111,
   "metadata": {},
   "outputs": [],
   "source": [
    "dict1['Paris'] = 'Romantic'"
   ]
  },
  {
   "cell_type": "code",
   "execution_count": 112,
   "metadata": {},
   "outputs": [
    {
     "name": "stdout",
     "output_type": "stream",
     "text": [
      "dict_items([('A', 100), ('b', 20), (30, ['a', 'b', 'c', 'd']), ('x', {'x': 100, 'y': 1010}), ('Python', 'Great'), ('Students', 'Awesome'), ('Paris', 'Romantic')])\n"
     ]
    }
   ],
   "source": [
    "print(items1)"
   ]
  },
  {
   "cell_type": "code",
   "execution_count": 113,
   "metadata": {},
   "outputs": [
    {
     "name": "stdout",
     "output_type": "stream",
     "text": [
      "[('A', 100), ('b', 20), (30, ['a', 'b', 'c', 'd']), ('x', {'x': 100, 'y': 1010}), ('Python', 'Great'), ('Students', 'Awesome')]\n"
     ]
    }
   ],
   "source": [
    "print(item_list)"
   ]
  },
  {
   "cell_type": "code",
   "execution_count": 114,
   "metadata": {},
   "outputs": [],
   "source": [
    "#Note again how items1 variable containing the dict view object was updated but the item_list was not. "
   ]
  },
  {
   "cell_type": "code",
   "execution_count": 115,
   "metadata": {},
   "outputs": [
    {
     "name": "stdout",
     "output_type": "stream",
     "text": [
      "A : 100.\n",
      "b : 20.\n",
      "30 : ['a', 'b', 'c', 'd'].\n",
      "x : {'x': 100, 'y': 1010}.\n",
      "Python : Great.\n",
      "Students : Awesome.\n",
      "Paris : Romantic.\n"
     ]
    }
   ],
   "source": [
    "#Iteration over a dictionary iterates over the keys. \n",
    "# To access the values we must use the syntax for accessing the values.\n",
    "for x in dict1:\n",
    "    print(f'{x} : {dict1[x]}.')"
   ]
  },
  {
   "cell_type": "code",
   "execution_count": 116,
   "metadata": {},
   "outputs": [
    {
     "name": "stdout",
     "output_type": "stream",
     "text": [
      "['A', 'b', 30, 'x', 'Python', 'Students', 'Paris']\n"
     ]
    }
   ],
   "source": [
    "list_dict = list(dict1)\n",
    "print(list_dict)"
   ]
  },
  {
   "cell_type": "code",
   "execution_count": 117,
   "metadata": {},
   "outputs": [],
   "source": [
    "#Note again how the list_dict variable is only picking up the keys of the dictionary. "
   ]
  },
  {
   "cell_type": "code",
   "execution_count": 118,
   "metadata": {},
   "outputs": [
    {
     "name": "stdout",
     "output_type": "stream",
     "text": [
      "{'A': 100, 'b': 20, 30: ['a', 'b', 'c', 'd'], 'x': {'x': 100, 'y': 1010}, 'Python': 'Great', 'Students': 'Awesome', 'Paris': 'Romantic'}\n"
     ]
    }
   ],
   "source": [
    "#If we have the value and wish to get the key corresponding to that value in the dictionary we have to use some programming\n",
    "# logic. \n",
    "\n",
    "print(dict1)"
   ]
  },
  {
   "cell_type": "code",
   "execution_count": 119,
   "metadata": {},
   "outputs": [
    {
     "name": "stdout",
     "output_type": "stream",
     "text": [
      "['A', 'b', 30, 'x', 'Python', 'Students', 'Paris']\n",
      "[100, 20, ['a', 'b', 'c', 'd'], {'x': 100, 'y': 1010}, 'Great', 'Awesome', 'Romantic']\n"
     ]
    }
   ],
   "source": [
    "keys_l = list(dict1.keys())\n",
    "val_l = list(dict1.values())\n",
    "\n",
    "print(keys_l)\n",
    "print(val_l)"
   ]
  },
  {
   "cell_type": "code",
   "execution_count": 120,
   "metadata": {},
   "outputs": [
    {
     "name": "stdout",
     "output_type": "stream",
     "text": [
      "Students\n"
     ]
    }
   ],
   "source": [
    "idx_v = val_l.index('Awesome')\n",
    "\n",
    "print(keys_l[idx_v])"
   ]
  },
  {
   "cell_type": "code",
   "execution_count": 121,
   "metadata": {},
   "outputs": [
    {
     "name": "stdout",
     "output_type": "stream",
     "text": [
      "Students\n"
     ]
    }
   ],
   "source": [
    "#Or another way:\n",
    "\n",
    "for x in dict1.keys():\n",
    "    if dict1[x] == 'Awesome':\n",
    "        print(x)"
   ]
  },
  {
   "cell_type": "code",
   "execution_count": 122,
   "metadata": {},
   "outputs": [
    {
     "name": "stdout",
     "output_type": "stream",
     "text": [
      "Students\n"
     ]
    }
   ],
   "source": [
    "#Or:\n",
    "\n",
    "for x,y in dict1.items():\n",
    "    if y == 'Awesome':\n",
    "        print(x)"
   ]
  },
  {
   "cell_type": "code",
   "execution_count": 123,
   "metadata": {},
   "outputs": [],
   "source": [
    "#Del on dictionaries"
   ]
  },
  {
   "cell_type": "code",
   "execution_count": 124,
   "metadata": {},
   "outputs": [
    {
     "name": "stdout",
     "output_type": "stream",
     "text": [
      "{'A': 100, 'b': 20, 30: ['a', 'b', 'c', 'd'], 'x': {'x': 100, 'y': 1010}, 'Python': 'Great', 'Students': 'Awesome', 'Paris': 'Romantic'}\n"
     ]
    }
   ],
   "source": [
    "print(dict1)"
   ]
  },
  {
   "cell_type": "code",
   "execution_count": 125,
   "metadata": {},
   "outputs": [
    {
     "name": "stdout",
     "output_type": "stream",
     "text": [
      "{'A': 100, 30: ['a', 'b', 'c', 'd'], 'x': {'x': 100, 'y': 1010}, 'Python': 'Great', 'Students': 'Awesome', 'Paris': 'Romantic'}\n"
     ]
    }
   ],
   "source": [
    "#We can use delete to delete a key value pair from the dictionary\n",
    "\n",
    "del(dict1['b'])\n",
    "\n",
    "print(dict1)"
   ]
  },
  {
   "cell_type": "code",
   "execution_count": 126,
   "metadata": {},
   "outputs": [
    {
     "ename": "KeyError",
     "evalue": "100",
     "output_type": "error",
     "traceback": [
      "\u001b[1;31m---------------------------------------------------------------------------\u001b[0m",
      "\u001b[1;31mKeyError\u001b[0m                                  Traceback (most recent call last)",
      "\u001b[1;32m<ipython-input-126-8df0a1e0683e>\u001b[0m in \u001b[0;36m<module>\u001b[1;34m\u001b[0m\n\u001b[1;32m----> 1\u001b[1;33m \u001b[1;32mdel\u001b[0m\u001b[1;33m(\u001b[0m\u001b[0mdict1\u001b[0m\u001b[1;33m[\u001b[0m\u001b[1;36m100\u001b[0m\u001b[1;33m]\u001b[0m\u001b[1;33m)\u001b[0m\u001b[1;33m\u001b[0m\u001b[1;33m\u001b[0m\u001b[0m\n\u001b[0m\u001b[0;32m      2\u001b[0m \u001b[1;33m\u001b[0m\u001b[0m\n\u001b[0;32m      3\u001b[0m \u001b[1;31m#Trying to delete the value will give a KeyError.\u001b[0m\u001b[1;33m\u001b[0m\u001b[1;33m\u001b[0m\u001b[1;33m\u001b[0m\u001b[0m\n\u001b[0;32m      4\u001b[0m \u001b[1;33m\u001b[0m\u001b[0m\n",
      "\u001b[1;31mKeyError\u001b[0m: 100"
     ]
    }
   ],
   "source": [
    "del(dict1[100])\n",
    "\n",
    "#Trying to delete the value will give a KeyError. \n",
    "\n"
   ]
  },
  {
   "cell_type": "code",
   "execution_count": 127,
   "metadata": {},
   "outputs": [],
   "source": [
    "#delete on the dictionary will delete the whole dictionary\n",
    "\n",
    "del(dict1)"
   ]
  },
  {
   "cell_type": "code",
   "execution_count": 128,
   "metadata": {},
   "outputs": [
    {
     "ename": "NameError",
     "evalue": "name 'dict1' is not defined",
     "output_type": "error",
     "traceback": [
      "\u001b[1;31m---------------------------------------------------------------------------\u001b[0m",
      "\u001b[1;31mNameError\u001b[0m                                 Traceback (most recent call last)",
      "\u001b[1;32m<ipython-input-128-55169f1c8990>\u001b[0m in \u001b[0;36m<module>\u001b[1;34m\u001b[0m\n\u001b[1;32m----> 1\u001b[1;33m \u001b[0mprint\u001b[0m\u001b[1;33m(\u001b[0m\u001b[0mdict1\u001b[0m\u001b[1;33m)\u001b[0m\u001b[1;33m\u001b[0m\u001b[1;33m\u001b[0m\u001b[0m\n\u001b[0m",
      "\u001b[1;31mNameError\u001b[0m: name 'dict1' is not defined"
     ]
    }
   ],
   "source": [
    "print(dict1)"
   ]
  },
  {
   "cell_type": "code",
   "execution_count": 129,
   "metadata": {},
   "outputs": [
    {
     "name": "stdout",
     "output_type": "stream",
     "text": [
      "{'A': 100, 'b': 20, 30: ['a', 'b', 'c', 'd'], 'x': {'x': 100, 'y': 101}, 300: None}\n"
     ]
    }
   ],
   "source": [
    "dict1 = {'A': 100, 'b': 20, 30: ['a', 'b', 'c', 'd'], 'x': {'x': 100, 'y': 101}, 300: None}\n",
    "print(dict1)"
   ]
  },
  {
   "cell_type": "code",
   "execution_count": 130,
   "metadata": {},
   "outputs": [
    {
     "name": "stdout",
     "output_type": "stream",
     "text": [
      "{}\n"
     ]
    }
   ],
   "source": [
    "#To clear a dictionary use the clear() function.\n",
    "\n",
    "dict1.clear()\n",
    "\n",
    "print(dict1)"
   ]
  },
  {
   "cell_type": "code",
   "execution_count": 131,
   "metadata": {},
   "outputs": [
    {
     "name": "stdout",
     "output_type": "stream",
     "text": [
      "{'A': 100, 'b': 20, 30: ['a', 'b', 'c', 'd'], 'x': {'x': 100, 'y': 101}, 300: None}\n"
     ]
    }
   ],
   "source": [
    "#.pop() method in dictionary. Pops the specified key:value pair from the dictionary and returns the value of the specified\n",
    "# key. \n",
    "\n",
    "#It takes two parameters. \n",
    "\n",
    "#1. The key to be searched for - Mandatory\n",
    "#2. The value to be returned if the key is not found in dictionary. Raises a key error if the key is not found and the \n",
    "# default is not provided.\n",
    "\n",
    "dict1 = {'A': 100, 'b': 20, 30: ['a', 'b', 'c', 'd'], 'x': {'x': 100, 'y': 101}, 300: None}\n",
    "print(dict1)"
   ]
  },
  {
   "cell_type": "code",
   "execution_count": 132,
   "metadata": {},
   "outputs": [
    {
     "name": "stdout",
     "output_type": "stream",
     "text": [
      "20\n",
      "{'A': 100, 30: ['a', 'b', 'c', 'd'], 'x': {'x': 100, 'y': 101}, 300: None}\n"
     ]
    }
   ],
   "source": [
    "#.pop method if key is in dictionary and default is not provided. \n",
    "\n",
    "popped = dict1.pop('b')\n",
    "\n",
    "print(popped)\n",
    "print(dict1)"
   ]
  },
  {
   "cell_type": "code",
   "execution_count": 133,
   "metadata": {},
   "outputs": [
    {
     "name": "stdout",
     "output_type": "stream",
     "text": [
      "['a', 'b', 'c', 'd']\n",
      "{'A': 100, 'b': 20, 'x': {'x': 100, 'y': 101}, 300: None}\n"
     ]
    }
   ],
   "source": [
    "#.pop method if key in dictionary and default provided. \n",
    "\n",
    "dict1 = {'A': 100, 'b': 20, 30: ['a', 'b', 'c', 'd'], 'x': {'x': 100, 'y': 101}, 300: None}\n",
    "\n",
    "popped = dict1.pop(30, 'Not found')\n",
    "\n",
    "print(popped)\n",
    "print(dict1)"
   ]
  },
  {
   "cell_type": "code",
   "execution_count": 134,
   "metadata": {},
   "outputs": [
    {
     "ename": "KeyError",
     "evalue": "'xyz'",
     "output_type": "error",
     "traceback": [
      "\u001b[1;31m---------------------------------------------------------------------------\u001b[0m",
      "\u001b[1;31mKeyError\u001b[0m                                  Traceback (most recent call last)",
      "\u001b[1;32m<ipython-input-134-c4a3ba0e550c>\u001b[0m in \u001b[0;36m<module>\u001b[1;34m\u001b[0m\n\u001b[0;32m      3\u001b[0m \u001b[0mdict1\u001b[0m \u001b[1;33m=\u001b[0m \u001b[1;33m{\u001b[0m\u001b[1;34m'A'\u001b[0m\u001b[1;33m:\u001b[0m \u001b[1;36m100\u001b[0m\u001b[1;33m,\u001b[0m \u001b[1;34m'b'\u001b[0m\u001b[1;33m:\u001b[0m \u001b[1;36m20\u001b[0m\u001b[1;33m,\u001b[0m \u001b[1;36m30\u001b[0m\u001b[1;33m:\u001b[0m \u001b[1;33m[\u001b[0m\u001b[1;34m'a'\u001b[0m\u001b[1;33m,\u001b[0m \u001b[1;34m'b'\u001b[0m\u001b[1;33m,\u001b[0m \u001b[1;34m'c'\u001b[0m\u001b[1;33m,\u001b[0m \u001b[1;34m'd'\u001b[0m\u001b[1;33m]\u001b[0m\u001b[1;33m,\u001b[0m \u001b[1;34m'x'\u001b[0m\u001b[1;33m:\u001b[0m \u001b[1;33m{\u001b[0m\u001b[1;34m'x'\u001b[0m\u001b[1;33m:\u001b[0m \u001b[1;36m100\u001b[0m\u001b[1;33m,\u001b[0m \u001b[1;34m'y'\u001b[0m\u001b[1;33m:\u001b[0m \u001b[1;36m101\u001b[0m\u001b[1;33m}\u001b[0m\u001b[1;33m,\u001b[0m \u001b[1;36m300\u001b[0m\u001b[1;33m:\u001b[0m \u001b[1;32mNone\u001b[0m\u001b[1;33m}\u001b[0m\u001b[1;33m\u001b[0m\u001b[1;33m\u001b[0m\u001b[0m\n\u001b[0;32m      4\u001b[0m \u001b[1;33m\u001b[0m\u001b[0m\n\u001b[1;32m----> 5\u001b[1;33m \u001b[0mpopped\u001b[0m \u001b[1;33m=\u001b[0m \u001b[0mdict1\u001b[0m\u001b[1;33m.\u001b[0m\u001b[0mpop\u001b[0m\u001b[1;33m(\u001b[0m\u001b[1;34m'xyz'\u001b[0m\u001b[1;33m)\u001b[0m\u001b[1;33m\u001b[0m\u001b[1;33m\u001b[0m\u001b[0m\n\u001b[0m\u001b[0;32m      6\u001b[0m \u001b[1;33m\u001b[0m\u001b[0m\n\u001b[0;32m      7\u001b[0m \u001b[0mprint\u001b[0m\u001b[1;33m(\u001b[0m\u001b[0mpopped\u001b[0m\u001b[1;33m)\u001b[0m\u001b[1;33m\u001b[0m\u001b[1;33m\u001b[0m\u001b[0m\n",
      "\u001b[1;31mKeyError\u001b[0m: 'xyz'"
     ]
    }
   ],
   "source": [
    "#.pop method if key not in dictionary and default not provided. \n",
    "\n",
    "dict1 = {'A': 100, 'b': 20, 30: ['a', 'b', 'c', 'd'], 'x': {'x': 100, 'y': 101}, 300: None}\n",
    "\n",
    "popped = dict1.pop('xyz')\n",
    "\n",
    "print(popped)\n",
    "print(dict1)"
   ]
  },
  {
   "cell_type": "code",
   "execution_count": 135,
   "metadata": {},
   "outputs": [
    {
     "name": "stdout",
     "output_type": "stream",
     "text": [
      "Not found\n",
      "{'A': 100, 'b': 20, 30: ['a', 'b', 'c', 'd'], 'x': {'x': 100, 'y': 101}, 300: None}\n"
     ]
    }
   ],
   "source": [
    "#.pop method if key not in dictionary and default provided. \n",
    "\n",
    "dict1 = {'A': 100, 'b': 20, 30: ['a', 'b', 'c', 'd'], 'x': {'x': 100, 'y': 101}, 300: None}\n",
    "\n",
    "popped = dict1.pop('xyz', 'Not found')\n",
    "\n",
    "print(popped)\n",
    "print(dict1)"
   ]
  },
  {
   "cell_type": "code",
   "execution_count": 136,
   "metadata": {},
   "outputs": [
    {
     "ename": "TypeError",
     "evalue": "pop expected at least 1 argument, got 0",
     "output_type": "error",
     "traceback": [
      "\u001b[1;31m---------------------------------------------------------------------------\u001b[0m",
      "\u001b[1;31mTypeError\u001b[0m                                 Traceback (most recent call last)",
      "\u001b[1;32m<ipython-input-136-0a19421ead93>\u001b[0m in \u001b[0;36m<module>\u001b[1;34m\u001b[0m\n\u001b[1;32m----> 1\u001b[1;33m \u001b[0mpopped\u001b[0m \u001b[1;33m=\u001b[0m \u001b[0mdict1\u001b[0m\u001b[1;33m.\u001b[0m\u001b[0mpop\u001b[0m\u001b[1;33m(\u001b[0m\u001b[1;33m)\u001b[0m\u001b[1;33m\u001b[0m\u001b[1;33m\u001b[0m\u001b[0m\n\u001b[0m\u001b[0;32m      2\u001b[0m \u001b[1;33m\u001b[0m\u001b[0m\n\u001b[0;32m      3\u001b[0m \u001b[0mprint\u001b[0m\u001b[1;33m(\u001b[0m\u001b[0mpopped\u001b[0m\u001b[1;33m)\u001b[0m\u001b[1;33m\u001b[0m\u001b[1;33m\u001b[0m\u001b[0m\n",
      "\u001b[1;31mTypeError\u001b[0m: pop expected at least 1 argument, got 0"
     ]
    }
   ],
   "source": [
    "popped = dict1.pop()\n",
    "\n",
    "print(popped)"
   ]
  },
  {
   "cell_type": "code",
   "execution_count": 137,
   "metadata": {},
   "outputs": [
    {
     "name": "stdout",
     "output_type": "stream",
     "text": [
      "(300, None)\n",
      "{'A': 100, 'b': 20, 30: ['a', 'b', 'c', 'd'], 'x': {'x': 100, 'y': 101}}\n"
     ]
    }
   ],
   "source": [
    "#.popitem() method removes the last element input in the dictionary and returns it. It takes no parameters\n",
    "\n",
    "dict1 = {'A': 100, 'b': 20, 30: ['a', 'b', 'c', 'd'], 'x': {'x': 100, 'y': 101}, 300: None}\n",
    "\n",
    "pop_item = dict1.popitem()\n",
    "\n",
    "print(pop_item)\n",
    "print(dict1)"
   ]
  },
  {
   "cell_type": "code",
   "execution_count": 138,
   "metadata": {},
   "outputs": [
    {
     "name": "stdout",
     "output_type": "stream",
     "text": [
      "{'A': 100, 'b': 20, 30: ['a', 'b', 'c', 'd'], 'x': {'x': 100, 'y': 101}, 300: '3xx', 400: '4xx'}\n"
     ]
    }
   ],
   "source": [
    "dict1[300] = '3xx'\n",
    "dict1[400] = '4xx'\n",
    "\n",
    "print(dict1)\n"
   ]
  },
  {
   "cell_type": "code",
   "execution_count": 139,
   "metadata": {},
   "outputs": [
    {
     "name": "stdout",
     "output_type": "stream",
     "text": [
      "(400, '4xx')\n",
      "{'A': 100, 'b': 20, 30: ['a', 'b', 'c', 'd'], 'x': {'x': 100, 'y': 101}, 300: '3xx'}\n"
     ]
    }
   ],
   "source": [
    "pop_item = dict1.popitem()\n",
    "\n",
    "print(pop_item)\n",
    "print(dict1)"
   ]
  },
  {
   "cell_type": "code",
   "execution_count": 140,
   "metadata": {},
   "outputs": [
    {
     "name": "stdout",
     "output_type": "stream",
     "text": [
      "{'A': 100, 'b': '2x', 30: ['a', 'b', 'c', 'd'], 'x': {'x': 100, 'y': 101}, 300: '3xx'}\n"
     ]
    }
   ],
   "source": [
    "dict1['b'] = '2x'\n",
    "\n",
    "print(dict1)"
   ]
  },
  {
   "cell_type": "code",
   "execution_count": 141,
   "metadata": {},
   "outputs": [
    {
     "name": "stdout",
     "output_type": "stream",
     "text": [
      "(300, '3xx')\n",
      "{'A': 100, 'b': '2x', 30: ['a', 'b', 'c', 'd'], 'x': {'x': 100, 'y': 101}}\n"
     ]
    }
   ],
   "source": [
    "pop_item = dict1.popitem()\n",
    "\n",
    "print(pop_item)\n",
    "print(dict1)"
   ]
  },
  {
   "cell_type": "code",
   "execution_count": 142,
   "metadata": {},
   "outputs": [],
   "source": [
    "#Note how updating the value of a key is not considered as the last input."
   ]
  },
  {
   "cell_type": "code",
   "execution_count": 143,
   "metadata": {},
   "outputs": [],
   "source": [
    "#Zip function in Python. Can take several iterable objects and map them based on their positions. \n",
    "\n",
    "x = list('abcde')\n",
    "y = list(range(5))\n",
    "z = tuple('ABCDE')\n",
    "\n",
    "zipd = zip(x,y,z)"
   ]
  },
  {
   "cell_type": "code",
   "execution_count": 144,
   "metadata": {},
   "outputs": [
    {
     "name": "stdout",
     "output_type": "stream",
     "text": [
      "<zip object at 0x000001EAEF6D8C00>\n",
      "<class 'zip'>\n"
     ]
    }
   ],
   "source": [
    "print(zipd)\n",
    "print(type(zipd))\n",
    "\n",
    "#Note that this is an iterator object - that means that once we have iterated over it - it is exhausted and empty. It cannot\n",
    "# be iterated over again. We will dig deeper into difference between iterable objects and iterators in the Built-In functions\n",
    "# part of the curriculum."
   ]
  },
  {
   "cell_type": "code",
   "execution_count": 145,
   "metadata": {},
   "outputs": [
    {
     "name": "stdout",
     "output_type": "stream",
     "text": [
      "('a', 0, 'A')\n",
      "<class 'tuple'>\n",
      "('b', 1, 'B')\n",
      "<class 'tuple'>\n",
      "('c', 2, 'C')\n",
      "<class 'tuple'>\n",
      "('d', 3, 'D')\n",
      "<class 'tuple'>\n",
      "('e', 4, 'E')\n",
      "<class 'tuple'>\n"
     ]
    }
   ],
   "source": [
    "for x in zipd:\n",
    "    print(x)\n",
    "    print(type(x))"
   ]
  },
  {
   "cell_type": "code",
   "execution_count": 146,
   "metadata": {},
   "outputs": [
    {
     "name": "stdout",
     "output_type": "stream",
     "text": [
      "[('e', 0, 'A'), (4, 1, 'B'), ('E', 2, 'C')]\n",
      "<class 'list'>\n",
      "('e', 0, 'A')\n",
      "(4, 1, 'B')\n",
      "('E', 2, 'C')\n"
     ]
    }
   ],
   "source": [
    "#We could also just simply convert the zip iterator object to a different datatype. \n",
    "\n",
    "zipdd = list(zip(x,y,z))\n",
    "\n",
    "print(zipdd)\n",
    "print(type(zipdd))\n",
    "\n",
    "#And now as many loops as we would like. \n",
    "\n",
    "for x in zipdd:\n",
    "    print(x)    "
   ]
  },
  {
   "cell_type": "code",
   "execution_count": 147,
   "metadata": {},
   "outputs": [
    {
     "name": "stdout",
     "output_type": "stream",
     "text": [
      "('e', 0, 'A')\n",
      "(4, 1, 'B')\n",
      "('E', 2, 'C')\n"
     ]
    }
   ],
   "source": [
    "for x in zipdd:\n",
    "    print(x)"
   ]
  },
  {
   "cell_type": "code",
   "execution_count": 148,
   "metadata": {},
   "outputs": [
    {
     "name": "stdout",
     "output_type": "stream",
     "text": [
      "[('a', 0), ('b', 1), ('c', 2), ('d', 3), ('e', 4)]\n"
     ]
    }
   ],
   "source": [
    "#Zip function will return a zipped iterator object using the shortest iterable and corresponding values. The excess values\n",
    "# will be ignored. \n",
    "\n",
    "x = list('abcdefghij')\n",
    "y = list(range(5))\n",
    "\n",
    "zip_dict_short = list(zip(x,y))\n",
    "\n",
    "print(zip_dict_short)"
   ]
  },
  {
   "cell_type": "code",
   "execution_count": 149,
   "metadata": {},
   "outputs": [
    {
     "name": "stdout",
     "output_type": "stream",
     "text": [
      "[('a', 0), ('b', 1), ('c', 2), ('d', 3), ('e', 4), ('f', None), ('g', None), ('h', None), ('i', None), ('j', None)]\n"
     ]
    }
   ],
   "source": [
    "#If the excess values are important use the zip_longest function from itertools module\n",
    "\n",
    "from itertools import zip_longest\n",
    "\n",
    "zip_dict_long = list(zip_longest(x,y))\n",
    "\n",
    "print(zip_dict_long)"
   ]
  },
  {
   "cell_type": "code",
   "execution_count": 150,
   "metadata": {},
   "outputs": [
    {
     "name": "stdout",
     "output_type": "stream",
     "text": [
      "[(0, 'a'), (1, 'b'), (2, 'c'), (3, 'd'), (4, 'e'), (None, 'f'), (None, 'g'), (None, 'h'), (None, 'i'), (None, 'j')]\n"
     ]
    }
   ],
   "source": [
    "zip_dict_long2 = list(zip_longest(y,x))\n",
    "\n",
    "print(zip_dict_long2)"
   ]
  },
  {
   "cell_type": "code",
   "execution_count": 151,
   "metadata": {},
   "outputs": [
    {
     "name": "stdout",
     "output_type": "stream",
     "text": [
      "['a', 'b', 'c', 'd', 'e', 'f', 'g', 'h', 'i', 'j']\n",
      "[0, 1, 2, 3, 4]\n",
      "('A', 'B', 'C', 'D', 'E')\n"
     ]
    }
   ],
   "source": [
    "#We can unzip zipped objects by passing a * in front of the zipped object. \n",
    "\n",
    "print(x)\n",
    "print(y)\n",
    "print(z)"
   ]
  },
  {
   "cell_type": "code",
   "execution_count": 152,
   "metadata": {},
   "outputs": [
    {
     "ename": "ValueError",
     "evalue": "not enough values to unpack (expected 3, got 0)",
     "output_type": "error",
     "traceback": [
      "\u001b[1;31m---------------------------------------------------------------------------\u001b[0m",
      "\u001b[1;31mValueError\u001b[0m                                Traceback (most recent call last)",
      "\u001b[1;32m<ipython-input-152-a67e87e2dc52>\u001b[0m in \u001b[0;36m<module>\u001b[1;34m\u001b[0m\n\u001b[1;32m----> 1\u001b[1;33m \u001b[0ma\u001b[0m\u001b[1;33m,\u001b[0m \u001b[0mb\u001b[0m\u001b[1;33m,\u001b[0m \u001b[0mc\u001b[0m \u001b[1;33m=\u001b[0m \u001b[0mzip\u001b[0m\u001b[1;33m(\u001b[0m\u001b[1;33m*\u001b[0m\u001b[0mzipd\u001b[0m\u001b[1;33m)\u001b[0m\u001b[1;33m\u001b[0m\u001b[1;33m\u001b[0m\u001b[0m\n\u001b[0m\u001b[0;32m      2\u001b[0m \u001b[1;33m\u001b[0m\u001b[0m\n\u001b[0;32m      3\u001b[0m \u001b[0mprint\u001b[0m\u001b[1;33m(\u001b[0m\u001b[0ma\u001b[0m\u001b[1;33m,\u001b[0m\u001b[0mb\u001b[0m\u001b[1;33m,\u001b[0m\u001b[0mc\u001b[0m\u001b[1;33m,\u001b[0m \u001b[0msep\u001b[0m \u001b[1;33m=\u001b[0m \u001b[1;34m'\\n'\u001b[0m\u001b[1;33m)\u001b[0m\u001b[1;33m\u001b[0m\u001b[1;33m\u001b[0m\u001b[0m\n",
      "\u001b[1;31mValueError\u001b[0m: not enough values to unpack (expected 3, got 0)"
     ]
    }
   ],
   "source": [
    "a, b, c = zip(*zipd)\n",
    "\n",
    "print(a,b,c, sep = '\\n')"
   ]
  },
  {
   "cell_type": "code",
   "execution_count": 153,
   "metadata": {},
   "outputs": [
    {
     "name": "stdout",
     "output_type": "stream",
     "text": [
      "{'a': 0, 'b': 1, 'c': 2, 'd': 3, 'e': 4}\n"
     ]
    }
   ],
   "source": [
    "#As we can see - the zip function returns a zipped object which has put the items at index no 0 of the first, second and\n",
    "# third iterable in tuples. We can use this in Dictionary comprehension to create dictionaries from iterables. \n",
    "\n",
    "x = list('abcde')\n",
    "y = list(range(5))\n",
    "\n",
    "dict1 = {key:value for key,value in zip(x,y)}\n",
    "\n",
    "print(dict1)"
   ]
  },
  {
   "cell_type": "code",
   "execution_count": 154,
   "metadata": {},
   "outputs": [
    {
     "name": "stdout",
     "output_type": "stream",
     "text": [
      "{'a': 0, 'b': 1, 'c': 2, 'd': 3, 'e': 4}\n"
     ]
    }
   ],
   "source": [
    "#Or even easier, \n",
    "\n",
    "dict2 = dict(zip(x,y))\n",
    "\n",
    "print(dict2)"
   ]
  },
  {
   "cell_type": "code",
   "execution_count": 155,
   "metadata": {},
   "outputs": [
    {
     "name": "stdout",
     "output_type": "stream",
     "text": [
      "{'a': 0, 'b': 5, 'c': 10, 'd': 15, 'e': 20}\n"
     ]
    }
   ],
   "source": [
    "#we can also do other operations with dictionary comprehension but it must follow the syntax \n",
    "# {key:value for key,value in iterable}\n",
    "\n",
    "dict2 = {x:v*5 for x,v in dict1.items()}\n",
    "\n",
    "print(dict2)"
   ]
  },
  {
   "cell_type": "code",
   "execution_count": 156,
   "metadata": {},
   "outputs": [
    {
     "name": "stdout",
     "output_type": "stream",
     "text": [
      "{0: 0, 1: 5, 2: 10, 3: 15, 4: 20}\n"
     ]
    }
   ],
   "source": [
    "dict3 = {x:x*5 for x in range(5)}\n",
    "\n",
    "print(dict3)"
   ]
  },
  {
   "cell_type": "code",
   "execution_count": 157,
   "metadata": {},
   "outputs": [
    {
     "name": "stdout",
     "output_type": "stream",
     "text": [
      "{'a': 'aaaaa', 'b': 'bbbbb', 'c': 'ccccc', 'd': 'ddddd', 'e': 'eeeee'}\n"
     ]
    }
   ],
   "source": [
    "dict4 = {x:x*5 for x in 'abcde'}\n",
    "\n",
    "print(dict4)"
   ]
  },
  {
   "cell_type": "code",
   "execution_count": 158,
   "metadata": {},
   "outputs": [
    {
     "name": "stdout",
     "output_type": "stream",
     "text": [
      "{0: 0, 1: 5, 2: 10, 3: 15, 4: 20}\n"
     ]
    }
   ],
   "source": [
    "#If else conditions with dictionary comprehension. As with list comprehension we can use one if else condition with \n",
    "# a dictionary comprehension. (Note that nested ifs are considered 1 if condition). Basically, there is no elif possibility\n",
    "# with list, dictionary and set comprehensions.\n",
    "\n",
    "print(dict3)"
   ]
  },
  {
   "cell_type": "code",
   "execution_count": 159,
   "metadata": {},
   "outputs": [
    {
     "name": "stdout",
     "output_type": "stream",
     "text": [
      "{0: 0, 2: 10, 4: 20}\n"
     ]
    }
   ],
   "source": [
    "dict5 = {key:value for key,value in dict3.items() if value%2 == 0}\n",
    "\n",
    "print(dict5)"
   ]
  },
  {
   "cell_type": "code",
   "execution_count": 160,
   "metadata": {},
   "outputs": [
    {
     "name": "stdout",
     "output_type": "stream",
     "text": [
      "{0: 0, 1: 5, 2: 10, 3: 15, 4: 20}\n",
      "{0: 0, 1: 10, 2: 10, 3: 30, 4: 20}\n"
     ]
    }
   ],
   "source": [
    "#And as with lists - the syntax for if else changes (if else comes to the front of the for loop) in comprehension.\n",
    "\n",
    "print(dict3)\n",
    "\n",
    "dict5 = {key: value*2 if value%2 == 1 else value for key,value in dict3.items()}\n",
    "\n",
    "print(dict5)"
   ]
  },
  {
   "cell_type": "code",
   "execution_count": 161,
   "metadata": {},
   "outputs": [
    {
     "name": "stdout",
     "output_type": "stream",
     "text": [
      "{'a': 100, 'b': [1, 2, 3, 4], 'c': 'xyz'}\n",
      "{'a': 100, 'b': [1, 2, 3, 4], 'c': 'xyz'}\n",
      "{'a': 100, 'b': [1, 2, 3, 4], 'c': 'xyz'}\n",
      "{'a': 100, 'b': [1, 2, 3, 4], 'c': 'xyz'}\n"
     ]
    }
   ],
   "source": [
    "#Aliasing, copying and Deepcopying in Dictionaries. \n",
    "\n",
    "#Effects of aliasing in Dictionaries is the same as for other datatypes. i.e. change in original object will affect the \n",
    "# aliased variable. \n",
    "\n",
    "#Effect of copying - (there is no copying by slicing in dictionaries) - Since the keys are anyway immutable, there are two\n",
    "# possibilities on the values. \n",
    "\n",
    "#1. If the value is an immutable object, then the effect of change on original does not affect a copied or deepcopied object.\n",
    "#2. However, if the value is mutable, then the effected change on original does effect the copy (but not the deepcopy) since\n",
    "# the copy also contains only a memory id reference to the same object.\n",
    "\n",
    "\n",
    "p = {'a':100, 'b':[1,2,3,4], 'c': 'xyz'}\n",
    "\n",
    "q = p\n",
    "r = p.copy()\n",
    "\n",
    "import copy\n",
    "\n",
    "s = copy.deepcopy(p)\n",
    "\n",
    "print(p,q,r,s, sep ='\\n')"
   ]
  },
  {
   "cell_type": "code",
   "execution_count": 162,
   "metadata": {},
   "outputs": [
    {
     "name": "stdout",
     "output_type": "stream",
     "text": [
      "Original object p : {'a': 10101, 'b': [1, 2, 3, 4], 'c': 'xyz'}. \n",
      "\n",
      "Aliased variable q : {'a': 10101, 'b': [1, 2, 3, 4], 'c': 'xyz'}. \n",
      "\n",
      "Copy of p : {'a': 100, 'b': [1, 2, 3, 4], 'c': 'xyz'}. \n",
      "\n",
      "Deepcopy of p : {'a': 100, 'b': [1, 2, 3, 4], 'c': 'xyz'}. \n",
      "\n"
     ]
    }
   ],
   "source": [
    "p['a'] = 10101\n",
    "\n",
    "print(f'Original object p : {p}.', '\\n')\n",
    "print(f'Aliased variable q : {q}.', '\\n')\n",
    "print(f'Copy of p : {r}.', '\\n')\n",
    "print(f'Deepcopy of p : {s}.', '\\n')\n"
   ]
  },
  {
   "cell_type": "code",
   "execution_count": 163,
   "metadata": {},
   "outputs": [
    {
     "name": "stdout",
     "output_type": "stream",
     "text": [
      "Original object p : {'a': 10101, 'b': [1, 20202, 3, 4], 'c': 'xyz'}. \n",
      "\n",
      "Aliased variable q : {'a': 10101, 'b': [1, 20202, 3, 4], 'c': 'xyz'}. \n",
      "\n",
      "Copy of p : {'a': 100, 'b': [1, 20202, 3, 4], 'c': 'xyz'}. \n",
      "\n",
      "Deepcopy of p : {'a': 100, 'b': [1, 2, 3, 4], 'c': 'xyz'}. \n",
      "\n"
     ]
    }
   ],
   "source": [
    "p['b'][1] = 20202\n",
    "\n",
    "print(f'Original object p : {p}.', '\\n')\n",
    "print(f'Aliased variable q : {q}.', '\\n')\n",
    "print(f'Copy of p : {r}.', '\\n')\n",
    "print(f'Deepcopy of p : {s}.', '\\n')\n"
   ]
  },
  {
   "cell_type": "code",
   "execution_count": 164,
   "metadata": {},
   "outputs": [
    {
     "name": "stdout",
     "output_type": "stream",
     "text": [
      "{'e': 0, 'b': 1, 'd': 2, 'a': 3, 'c': 4}\n",
      "['a', 'b', 'c', 'd', 'e']\n"
     ]
    }
   ],
   "source": [
    "dict1 = {'e': 0, 'b': 1, 'd': 2, 'a': 3, 'c': 4}\n",
    "\n",
    "dict2 = sorted(dict1)\n",
    "\n",
    "print(dict1)\n",
    "print(dict2)"
   ]
  },
  {
   "cell_type": "code",
   "execution_count": 165,
   "metadata": {},
   "outputs": [
    {
     "name": "stdout",
     "output_type": "stream",
     "text": [
      "dict_items([('e', 0), ('b', 1), ('d', 2), ('a', 3), ('c', 4)])\n"
     ]
    }
   ],
   "source": [
    "#sorting on dictionaries\n",
    "\n",
    "dict1 = {'e': 0, 'b': 1, 'd': 2, 'a': 3, 'c': 4}\n",
    "\n",
    "print(dict1.items())"
   ]
  },
  {
   "cell_type": "code",
   "execution_count": 166,
   "metadata": {},
   "outputs": [
    {
     "name": "stdout",
     "output_type": "stream",
     "text": [
      "{'a': 3, 'b': 1, 'c': 4, 'd': 2, 'e': 0}\n"
     ]
    }
   ],
   "source": [
    "dict2 = dict(sorted(dict1.items(), key = lambda t: t[0]))\n",
    "\n",
    "print(dict2)"
   ]
  },
  {
   "cell_type": "code",
   "execution_count": null,
   "metadata": {},
   "outputs": [],
   "source": []
  },
  {
   "cell_type": "code",
   "execution_count": null,
   "metadata": {},
   "outputs": [],
   "source": []
  },
  {
   "cell_type": "code",
   "execution_count": null,
   "metadata": {},
   "outputs": [],
   "source": []
  }
 ],
 "metadata": {
  "kernelspec": {
   "display_name": "Python 3",
   "language": "python",
   "name": "python3"
  },
  "language_info": {
   "codemirror_mode": {
    "name": "ipython",
    "version": 3
   },
   "file_extension": ".py",
   "mimetype": "text/x-python",
   "name": "python",
   "nbconvert_exporter": "python",
   "pygments_lexer": "ipython3",
   "version": "3.8.3"
  }
 },
 "nbformat": 4,
 "nbformat_minor": 5
}
