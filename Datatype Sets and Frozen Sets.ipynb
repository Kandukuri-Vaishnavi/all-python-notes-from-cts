{
 "cells": [
  {
   "cell_type": "markdown",
   "metadata": {},
   "source": [
    "# Datatype Sets (and Frozen Sets)"
   ]
  },
  {
   "cell_type": "code",
   "execution_count": 1,
   "metadata": {},
   "outputs": [],
   "source": [
    "#Sets are a special datatype in Python. They are loosely meant to perform mathematical set operations such as union, \n",
    "# intercept etc. \n",
    "\n",
    "# As in mathematical sets, a set in Python cannot have duplicate elements. \n",
    "\n",
    "#Sets in Python are : \n",
    "\n",
    "#1. A derived data type. \n",
    "#2. They are mutable themselves.\n",
    "#3. However, the objects (references) in sets must be of immutable type.\n",
    "#4. Sequential i.e. containing other objects(or specifically the reference to the memory id of those objects)\n",
    "#5. UNORDERED - here is where sets differ from most(all?) other datatypes. The sequence of input in sets is not maintained\n",
    "# i.e. the elements in the set may appear in any order and may even differ from iteration to iteration. (Note - mostly, if \n",
    "# run iteration one after the other in same program - USUALLY the output order is the same - but no guarantees. However, \n",
    "# users have noticed that output differs when program is stopped and restarted - output order changes. All this is because\n",
    "# of a Hash seed randomisation which is default in Python and is a security measure).\n",
    "#6. Since Sets are unordered - the do not support indexing or slicing. \n",
    "#7. Since they are sequential, they can be iterated over but the output order cannot be guaranteed. "
   ]
  },
  {
   "cell_type": "code",
   "execution_count": 17,
   "metadata": {},
   "outputs": [
    {
     "name": "stdout",
     "output_type": "stream",
     "text": [
      "{1, 2, 3, 4, 7}\n"
     ]
    }
   ],
   "source": [
    "#Initialising sets\n",
    "\n",
    "set1 = {1,2,3,4,1,7,3}\n",
    "\n",
    "print(set1)"
   ]
  },
  {
   "cell_type": "code",
   "execution_count": 18,
   "metadata": {},
   "outputs": [
    {
     "ename": "TypeError",
     "evalue": "set expected at most 1 argument, got 7",
     "output_type": "error",
     "traceback": [
      "\u001b[1;31m---------------------------------------------------------------------------\u001b[0m",
      "\u001b[1;31mTypeError\u001b[0m                                 Traceback (most recent call last)",
      "\u001b[1;32m<ipython-input-18-4843ba6f6d00>\u001b[0m in \u001b[0;36m<module>\u001b[1;34m\u001b[0m\n\u001b[1;32m----> 1\u001b[1;33m \u001b[0mset21\u001b[0m \u001b[1;33m=\u001b[0m \u001b[0mset\u001b[0m\u001b[1;33m(\u001b[0m\u001b[1;36m1\u001b[0m\u001b[1;33m,\u001b[0m\u001b[1;36m2\u001b[0m\u001b[1;33m,\u001b[0m\u001b[1;36m3\u001b[0m\u001b[1;33m,\u001b[0m\u001b[1;36m4\u001b[0m\u001b[1;33m,\u001b[0m\u001b[1;36m1\u001b[0m\u001b[1;33m,\u001b[0m\u001b[1;36m7\u001b[0m\u001b[1;33m,\u001b[0m\u001b[1;36m3\u001b[0m\u001b[1;33m)\u001b[0m\u001b[1;33m\u001b[0m\u001b[1;33m\u001b[0m\u001b[0m\n\u001b[0m\u001b[0;32m      2\u001b[0m \u001b[0mprint\u001b[0m\u001b[1;33m(\u001b[0m\u001b[0mset21\u001b[0m\u001b[1;33m)\u001b[0m\u001b[1;33m\u001b[0m\u001b[1;33m\u001b[0m\u001b[0m\n\u001b[0;32m      3\u001b[0m \u001b[1;33m\u001b[0m\u001b[0m\n\u001b[0;32m      4\u001b[0m \u001b[1;31m#As with other constructors we have seen for lists and tuples, there must be only one iterable in the call to the set\u001b[0m\u001b[1;33m\u001b[0m\u001b[1;33m\u001b[0m\u001b[1;33m\u001b[0m\u001b[0m\n\u001b[0;32m      5\u001b[0m \u001b[1;31m# constructor or it throws an error\u001b[0m\u001b[1;33m\u001b[0m\u001b[1;33m\u001b[0m\u001b[1;33m\u001b[0m\u001b[0m\n",
      "\u001b[1;31mTypeError\u001b[0m: set expected at most 1 argument, got 7"
     ]
    }
   ],
   "source": [
    "set21 = set(1,2,3,4,1,7,3)\n",
    "print(set21)\n",
    "\n",
    "#As with other constructors we have seen for lists and tuples, there must be only one iterable in the call to the set \n",
    "# constructor or it throws an error"
   ]
  },
  {
   "cell_type": "code",
   "execution_count": 19,
   "metadata": {},
   "outputs": [
    {
     "name": "stdout",
     "output_type": "stream",
     "text": [
      "{1, 2, 3, 4, 7}\n"
     ]
    }
   ],
   "source": [
    "set2 = set([1,2,3,4,1,7,3])\n",
    "\n",
    "print(set2)"
   ]
  },
  {
   "cell_type": "code",
   "execution_count": 20,
   "metadata": {},
   "outputs": [
    {
     "name": "stdout",
     "output_type": "stream",
     "text": [
      "{'b', 'n', 'k', 'e', 'f', 'q', 'j', 'c', 'o', 'p', 'r', 'l', 'u', 't', 'a', 'y', 'x', 'm', 's', 'i', 'h', 'g', 'z', 'v', 'w', 'd'}\n"
     ]
    }
   ],
   "source": [
    "set3 = set('abcdefghijklmnopqrstuvwxyz')\n",
    "\n",
    "print(set3)"
   ]
  },
  {
   "cell_type": "code",
   "execution_count": 21,
   "metadata": {},
   "outputs": [],
   "source": [
    "#Note how the input order has not been maintained in the above case. "
   ]
  },
  {
   "cell_type": "code",
   "execution_count": 22,
   "metadata": {},
   "outputs": [],
   "source": [
    "#Set operations and Methods"
   ]
  },
  {
   "cell_type": "code",
   "execution_count": 23,
   "metadata": {},
   "outputs": [
    {
     "ename": "TypeError",
     "evalue": "unhashable type: 'list'",
     "output_type": "error",
     "traceback": [
      "\u001b[1;31m---------------------------------------------------------------------------\u001b[0m",
      "\u001b[1;31mTypeError\u001b[0m                                 Traceback (most recent call last)",
      "\u001b[1;32m<ipython-input-23-7da063614d79>\u001b[0m in \u001b[0;36m<module>\u001b[1;34m\u001b[0m\n\u001b[1;32m----> 1\u001b[1;33m \u001b[0mset4\u001b[0m \u001b[1;33m=\u001b[0m \u001b[0mset\u001b[0m\u001b[1;33m(\u001b[0m\u001b[1;33m[\u001b[0m\u001b[1;36m1\u001b[0m\u001b[1;33m,\u001b[0m\u001b[1;36m2\u001b[0m\u001b[1;33m,\u001b[0m\u001b[1;33m[\u001b[0m\u001b[1;36m7\u001b[0m\u001b[1;33m,\u001b[0m\u001b[1;36m8\u001b[0m\u001b[1;33m,\u001b[0m\u001b[1;36m9\u001b[0m\u001b[1;33m]\u001b[0m\u001b[1;33m,\u001b[0m\u001b[1;34m'abc'\u001b[0m\u001b[1;33m,\u001b[0m\u001b[1;33m(\u001b[0m\u001b[1;34m'xyz'\u001b[0m\u001b[1;33m,\u001b[0m \u001b[1;34m'pqrst'\u001b[0m\u001b[1;33m)\u001b[0m\u001b[1;33m]\u001b[0m\u001b[1;33m)\u001b[0m\u001b[1;33m\u001b[0m\u001b[1;33m\u001b[0m\u001b[0m\n\u001b[0m\u001b[0;32m      2\u001b[0m \u001b[1;33m\u001b[0m\u001b[0m\n\u001b[0;32m      3\u001b[0m \u001b[0mprint\u001b[0m\u001b[1;33m(\u001b[0m\u001b[0mset4\u001b[0m\u001b[1;33m)\u001b[0m\u001b[1;33m\u001b[0m\u001b[1;33m\u001b[0m\u001b[0m\n",
      "\u001b[1;31mTypeError\u001b[0m: unhashable type: 'list'"
     ]
    }
   ],
   "source": [
    " set4 = set([1,2,[7,8,9],'abc',('xyz', 'pqrst')])\n",
    "    \n",
    "print(set4)"
   ]
  },
  {
   "cell_type": "code",
   "execution_count": 24,
   "metadata": {},
   "outputs": [
    {
     "name": "stdout",
     "output_type": "stream",
     "text": [
      "{1, 2, 'abc', ('xyz', 'pqrst')}\n"
     ]
    }
   ],
   "source": [
    "#Note the error above since we are trying to use a mutable datatype in sets. \n",
    "\n",
    "set5 = set([1,2,'abc',('xyz', 'pqrst')])\n",
    "print(set5)"
   ]
  },
  {
   "cell_type": "code",
   "execution_count": 25,
   "metadata": {},
   "outputs": [
    {
     "name": "stdout",
     "output_type": "stream",
     "text": [
      "(1, 2, 3, [100, 200, 300])\n",
      "<class 'tuple'>\n"
     ]
    }
   ],
   "source": [
    "tup1 = 1,2,3,[100,200,300]\n",
    "\n",
    "print(tup1)\n",
    "print(type(tup1))"
   ]
  },
  {
   "cell_type": "code",
   "execution_count": 26,
   "metadata": {},
   "outputs": [
    {
     "ename": "TypeError",
     "evalue": "unhashable type: 'list'",
     "output_type": "error",
     "traceback": [
      "\u001b[1;31m---------------------------------------------------------------------------\u001b[0m",
      "\u001b[1;31mTypeError\u001b[0m                                 Traceback (most recent call last)",
      "\u001b[1;32m<ipython-input-26-13924997c9f4>\u001b[0m in \u001b[0;36m<module>\u001b[1;34m\u001b[0m\n\u001b[1;32m----> 1\u001b[1;33m \u001b[0mset6\u001b[0m \u001b[1;33m=\u001b[0m \u001b[0mset\u001b[0m\u001b[1;33m(\u001b[0m\u001b[1;33m[\u001b[0m\u001b[1;36m1\u001b[0m\u001b[1;33m,\u001b[0m\u001b[1;36m2\u001b[0m\u001b[1;33m,\u001b[0m\u001b[1;34m'abc'\u001b[0m\u001b[1;33m,\u001b[0m\u001b[1;33m(\u001b[0m\u001b[1;34m'xyz'\u001b[0m\u001b[1;33m,\u001b[0m \u001b[1;34m'pqrst'\u001b[0m\u001b[1;33m)\u001b[0m\u001b[1;33m,\u001b[0m\u001b[0mtup1\u001b[0m\u001b[1;33m]\u001b[0m\u001b[1;33m)\u001b[0m\u001b[1;33m\u001b[0m\u001b[1;33m\u001b[0m\u001b[0m\n\u001b[0m\u001b[0;32m      2\u001b[0m \u001b[1;33m\u001b[0m\u001b[0m\n\u001b[0;32m      3\u001b[0m \u001b[0mprint\u001b[0m\u001b[1;33m(\u001b[0m\u001b[0mset6\u001b[0m\u001b[1;33m)\u001b[0m\u001b[1;33m\u001b[0m\u001b[1;33m\u001b[0m\u001b[0m\n",
      "\u001b[1;31mTypeError\u001b[0m: unhashable type: 'list'"
     ]
    }
   ],
   "source": [
    "set6 = set([1,2,'abc',('xyz', 'pqrst'),tup1])\n",
    "\n",
    "print(set6)"
   ]
  },
  {
   "cell_type": "code",
   "execution_count": 27,
   "metadata": {},
   "outputs": [
    {
     "name": "stdout",
     "output_type": "stream",
     "text": [
      "(1, 2, 3)\n",
      "<class 'tuple'>\n"
     ]
    }
   ],
   "source": [
    "#Note how I cannot trick the set into accepting a mutable type inside the immutable tup1 object. \n",
    "\n",
    "tup2 = 1,2,3\n",
    "\n",
    "print(tup2)\n",
    "print(type(tup2))"
   ]
  },
  {
   "cell_type": "code",
   "execution_count": 28,
   "metadata": {},
   "outputs": [
    {
     "name": "stdout",
     "output_type": "stream",
     "text": [
      "{1, 2, 'abc', (1, 2, 3), ('xyz', 'pqrst')}\n"
     ]
    }
   ],
   "source": [
    "set7 = set([1,2,'abc',('xyz', 'pqrst'),tup2])\n",
    "\n",
    "print(set7)"
   ]
  },
  {
   "cell_type": "code",
   "execution_count": 29,
   "metadata": {},
   "outputs": [],
   "source": [
    "#"
   ]
  },
  {
   "cell_type": "code",
   "execution_count": 30,
   "metadata": {},
   "outputs": [
    {
     "name": "stdout",
     "output_type": "stream",
     "text": [
      "{'b', 'n', 'k', 'e', 'f', 'q', 'j', 'c', 'o', 'p', 'r', 'l', 'u', 't', 'a', 'y', 'x', 'm', 's', 'i', 'h', 'g', 'z', 'v', 'w', 'd'}\n",
      "26\n"
     ]
    }
   ],
   "source": [
    "#len() - Python built-in len() function works on Sets since they are sequential or collection of objects. \n",
    "print(set3)\n",
    "set_len = len(set3)\n",
    "\n",
    "print(set_len)"
   ]
  },
  {
   "cell_type": "code",
   "execution_count": 31,
   "metadata": {},
   "outputs": [
    {
     "name": "stdout",
     "output_type": "stream",
     "text": [
      "{1, 2, 'abc', (1, 2, 3), ('xyz', 'pqrst')}\n"
     ]
    }
   ],
   "source": [
    "#Iteration on sets works. \n",
    "print(set7)"
   ]
  },
  {
   "cell_type": "code",
   "execution_count": 32,
   "metadata": {},
   "outputs": [
    {
     "name": "stdout",
     "output_type": "stream",
     "text": [
      "1\n",
      "2\n",
      "abc\n",
      "(1, 2, 3)\n",
      "('xyz', 'pqrst')\n"
     ]
    }
   ],
   "source": [
    "for x in set7:\n",
    "    print(x)"
   ]
  },
  {
   "cell_type": "code",
   "execution_count": 33,
   "metadata": {},
   "outputs": [
    {
     "name": "stdout",
     "output_type": "stream",
     "text": [
      "[1, 2, 'abc', (1, 2, 3), ('xyz', 'pqrst')]\n"
     ]
    }
   ],
   "source": [
    "#Note however, the output order cannot be guaranteed, if output order needs to be maintained, it is best to convert the\n",
    "#set to another datatype. \n",
    "\n",
    "lst3 = list(set7)\n",
    "\n",
    "print(lst3)"
   ]
  },
  {
   "cell_type": "code",
   "execution_count": 34,
   "metadata": {},
   "outputs": [],
   "source": [
    "#Once converted to list, the order of lst3 will be maintained from iteration to iteration, program run to program run, \n",
    "# machine to machine, Python Interpreter and implementation version to Python interpreter and implementation. "
   ]
  },
  {
   "cell_type": "code",
   "execution_count": 35,
   "metadata": {},
   "outputs": [
    {
     "name": "stdout",
     "output_type": "stream",
     "text": [
      "{1, 2, 3, 4, 7}\n",
      "True\n"
     ]
    }
   ],
   "source": [
    "#Membership operators in sets work as we have seen in other datatypes.\n",
    "print(set1)\n",
    "\n",
    "print(2 in set1)"
   ]
  },
  {
   "cell_type": "code",
   "execution_count": 36,
   "metadata": {},
   "outputs": [
    {
     "name": "stdout",
     "output_type": "stream",
     "text": [
      "False\n"
     ]
    }
   ],
   "source": [
    "print(8 in set1)"
   ]
  },
  {
   "cell_type": "code",
   "execution_count": 37,
   "metadata": {},
   "outputs": [
    {
     "name": "stdout",
     "output_type": "stream",
     "text": [
      "False\n"
     ]
    }
   ],
   "source": [
    "print(2 not in set1)\n"
   ]
  },
  {
   "cell_type": "code",
   "execution_count": 38,
   "metadata": {},
   "outputs": [
    {
     "name": "stdout",
     "output_type": "stream",
     "text": [
      "True\n"
     ]
    }
   ],
   "source": [
    "print(8 not in set1)"
   ]
  },
  {
   "cell_type": "code",
   "execution_count": 41,
   "metadata": {},
   "outputs": [
    {
     "name": "stdout",
     "output_type": "stream",
     "text": [
      "{1, 2, 3, 4, 100, 7}\n",
      "{1, 2, 3, 4, 100, 7}\n"
     ]
    }
   ],
   "source": [
    "#.add() method adds an element to a python set. \n",
    "\n",
    "print(set1)\n",
    "\n",
    "id1 = id(set1)\n",
    "\n",
    "set1.add(100)\n",
    "\n",
    "id2 = id(set1)\n",
    "print(set1)"
   ]
  },
  {
   "cell_type": "code",
   "execution_count": 42,
   "metadata": {},
   "outputs": [
    {
     "name": "stdout",
     "output_type": "stream",
     "text": [
      "3014602778656 3014602778656\n"
     ]
    }
   ],
   "source": [
    "print(id1, id2)\n"
   ]
  },
  {
   "cell_type": "code",
   "execution_count": 43,
   "metadata": {},
   "outputs": [
    {
     "name": "stdout",
     "output_type": "stream",
     "text": [
      "{1, 2, 3, 4, 100, 7, 200}\n",
      "None\n"
     ]
    }
   ],
   "source": [
    "#A set is mutable (but elements of a set should be immutable) so the memory id after add does not change. Add modifies the\n",
    "# original set\n",
    "\n",
    "set2 = set1.add(200)\n",
    "\n",
    "print(set1)\n",
    "print(set2)"
   ]
  },
  {
   "cell_type": "code",
   "execution_count": null,
   "metadata": {},
   "outputs": [],
   "source": [
    "#As you can see, there is no return from the add method and therefore variable set2 returned None. "
   ]
  },
  {
   "cell_type": "code",
   "execution_count": 44,
   "metadata": {},
   "outputs": [
    {
     "name": "stdout",
     "output_type": "stream",
     "text": [
      "{1, 2, 3, 4, 100, 7, 200, 20200}\n"
     ]
    }
   ],
   "source": [
    "set1.add(20200)\n",
    "\n",
    "print(set1)"
   ]
  },
  {
   "cell_type": "code",
   "execution_count": 45,
   "metadata": {},
   "outputs": [],
   "source": [
    "#As you see, the element was not added to set as it was already present and sets cannot hold duplicate values. "
   ]
  },
  {
   "cell_type": "code",
   "execution_count": 46,
   "metadata": {},
   "outputs": [
    {
     "ename": "TypeError",
     "evalue": "add() takes exactly one argument (2 given)",
     "output_type": "error",
     "traceback": [
      "\u001b[1;31m---------------------------------------------------------------------------\u001b[0m",
      "\u001b[1;31mTypeError\u001b[0m                                 Traceback (most recent call last)",
      "\u001b[1;32m<ipython-input-46-484559c946df>\u001b[0m in \u001b[0;36m<module>\u001b[1;34m\u001b[0m\n\u001b[1;32m----> 1\u001b[1;33m \u001b[0mset1\u001b[0m\u001b[1;33m.\u001b[0m\u001b[0madd\u001b[0m\u001b[1;33m(\u001b[0m\u001b[1;36m201\u001b[0m\u001b[1;33m,\u001b[0m\u001b[1;36m1001\u001b[0m\u001b[1;33m)\u001b[0m\u001b[1;33m\u001b[0m\u001b[1;33m\u001b[0m\u001b[0m\n\u001b[0m\u001b[0;32m      2\u001b[0m \u001b[1;33m\u001b[0m\u001b[0m\n\u001b[0;32m      3\u001b[0m \u001b[0mprint\u001b[0m\u001b[1;33m(\u001b[0m\u001b[0mset1\u001b[0m\u001b[1;33m)\u001b[0m\u001b[1;33m\u001b[0m\u001b[1;33m\u001b[0m\u001b[0m\n",
      "\u001b[1;31mTypeError\u001b[0m: add() takes exactly one argument (2 given)"
     ]
    }
   ],
   "source": [
    "set1.add(201,1001)\n",
    "\n",
    "print(set1)"
   ]
  },
  {
   "cell_type": "code",
   "execution_count": 47,
   "metadata": {},
   "outputs": [],
   "source": [
    "#We cannot add two elements at a time using the add function. \n",
    "\n",
    "#As lists and dictionaries are mutable, they cannot be added to sets. Tuples can be added but they will added as one single\n",
    "# element of the set (with the caveat that the tuple itself does not contain a mutable object as we saw previously)"
   ]
  },
  {
   "cell_type": "code",
   "execution_count": 48,
   "metadata": {},
   "outputs": [
    {
     "ename": "TypeError",
     "evalue": "unhashable type: 'list'",
     "output_type": "error",
     "traceback": [
      "\u001b[1;31m---------------------------------------------------------------------------\u001b[0m",
      "\u001b[1;31mTypeError\u001b[0m                                 Traceback (most recent call last)",
      "\u001b[1;32m<ipython-input-48-f8379d275bd4>\u001b[0m in \u001b[0;36m<module>\u001b[1;34m\u001b[0m\n\u001b[1;32m----> 1\u001b[1;33m \u001b[0mset1\u001b[0m\u001b[1;33m.\u001b[0m\u001b[0madd\u001b[0m\u001b[1;33m(\u001b[0m\u001b[1;33m[\u001b[0m\u001b[1;36m1\u001b[0m\u001b[1;33m,\u001b[0m\u001b[1;36m2\u001b[0m\u001b[1;33m,\u001b[0m\u001b[1;36m3\u001b[0m\u001b[1;33m]\u001b[0m\u001b[1;33m)\u001b[0m\u001b[1;33m\u001b[0m\u001b[1;33m\u001b[0m\u001b[0m\n\u001b[0m\u001b[0;32m      2\u001b[0m \u001b[1;33m\u001b[0m\u001b[0m\n\u001b[0;32m      3\u001b[0m \u001b[0mprint\u001b[0m\u001b[1;33m(\u001b[0m\u001b[0mset1\u001b[0m\u001b[1;33m)\u001b[0m\u001b[1;33m\u001b[0m\u001b[1;33m\u001b[0m\u001b[0m\n",
      "\u001b[1;31mTypeError\u001b[0m: unhashable type: 'list'"
     ]
    }
   ],
   "source": [
    "set1.add([1,2,3])\n",
    "\n",
    "print(set1)"
   ]
  },
  {
   "cell_type": "code",
   "execution_count": 49,
   "metadata": {},
   "outputs": [
    {
     "name": "stdout",
     "output_type": "stream",
     "text": [
      "{1, 2, 3, 4, 100, 7, 200, 20200, (1, 2, 3)}\n"
     ]
    }
   ],
   "source": [
    "set1.add(tuple([1,2,3]))\n",
    "\n",
    "print(set1)"
   ]
  },
  {
   "cell_type": "code",
   "execution_count": 50,
   "metadata": {},
   "outputs": [
    {
     "name": "stdout",
     "output_type": "stream",
     "text": [
      "{1, 2, 3, 4, 100, 7, 20200, (1, 2, 3)}\n",
      "None\n"
     ]
    }
   ],
   "source": [
    "#.discard() method for sets removes an element from the set. It takes one parameter the element to be removed. If the\n",
    "# element is present, it is removed, if not the original set is unchanged. \n",
    "\n",
    "set2 = set1.discard(200)\n",
    "\n",
    "print(set1)\n",
    "print(set2)"
   ]
  },
  {
   "cell_type": "code",
   "execution_count": 52,
   "metadata": {},
   "outputs": [],
   "source": [
    "#Note - no return from the discard method."
   ]
  },
  {
   "cell_type": "code",
   "execution_count": 53,
   "metadata": {},
   "outputs": [
    {
     "name": "stdout",
     "output_type": "stream",
     "text": [
      "{1, 2, 3, 4, 100, 7, 20200, (1, 2, 3)}\n"
     ]
    }
   ],
   "source": [
    "set1.discard(1001)\n",
    "\n",
    "print(set1)"
   ]
  },
  {
   "cell_type": "code",
   "execution_count": null,
   "metadata": {},
   "outputs": [],
   "source": [
    "#Note - how there is no error if element not found and set remains unchanged."
   ]
  },
  {
   "cell_type": "code",
   "execution_count": 54,
   "metadata": {},
   "outputs": [
    {
     "name": "stdout",
     "output_type": "stream",
     "text": [
      "{1, 2, 3, 4, 100, 7, 20200, (1, 2, 3)}\n"
     ]
    }
   ],
   "source": [
    "#.remove() method for sets removes specified element from the set. It takes one parameter, the element to be removed. If the\n",
    "# element is present it removes it, if not it raises a KeyError\n",
    "\n",
    "print(set1)\n",
    "\n",
    "set1.add(100)"
   ]
  },
  {
   "cell_type": "code",
   "execution_count": 55,
   "metadata": {},
   "outputs": [
    {
     "name": "stdout",
     "output_type": "stream",
     "text": [
      "{1, 2, 3, 4, 100, 7, 20200, (1, 2, 3)}\n",
      "{1, 2, 3, 4, 7, 20200, (1, 2, 3)}\n",
      "None\n"
     ]
    }
   ],
   "source": [
    "print(set1)\n",
    "\n",
    "set2 = set1.remove(100)\n",
    "\n",
    "print(set1)\n",
    "print(set2)"
   ]
  },
  {
   "cell_type": "code",
   "execution_count": null,
   "metadata": {},
   "outputs": [],
   "source": [
    "#Note how the element is removed from set1 but the original set is modified and there is no return. "
   ]
  },
  {
   "cell_type": "code",
   "execution_count": 56,
   "metadata": {},
   "outputs": [
    {
     "ename": "KeyError",
     "evalue": "72",
     "output_type": "error",
     "traceback": [
      "\u001b[1;31m---------------------------------------------------------------------------\u001b[0m",
      "\u001b[1;31mKeyError\u001b[0m                                  Traceback (most recent call last)",
      "\u001b[1;32m<ipython-input-56-cb0eff478e4c>\u001b[0m in \u001b[0;36m<module>\u001b[1;34m\u001b[0m\n\u001b[1;32m----> 1\u001b[1;33m \u001b[0mset1\u001b[0m\u001b[1;33m.\u001b[0m\u001b[0mremove\u001b[0m\u001b[1;33m(\u001b[0m\u001b[1;36m72\u001b[0m\u001b[1;33m)\u001b[0m\u001b[1;33m\u001b[0m\u001b[1;33m\u001b[0m\u001b[0m\n\u001b[0m\u001b[0;32m      2\u001b[0m \u001b[1;33m\u001b[0m\u001b[0m\n\u001b[0;32m      3\u001b[0m \u001b[1;33m\u001b[0m\u001b[0m\n\u001b[0;32m      4\u001b[0m \u001b[0mprint\u001b[0m\u001b[1;33m(\u001b[0m\u001b[0mset1\u001b[0m\u001b[1;33m)\u001b[0m\u001b[1;33m\u001b[0m\u001b[1;33m\u001b[0m\u001b[0m\n",
      "\u001b[1;31mKeyError\u001b[0m: 72"
     ]
    }
   ],
   "source": [
    "set1.remove(72)\n",
    "\n",
    "\n",
    "print(set1)"
   ]
  },
  {
   "cell_type": "code",
   "execution_count": 57,
   "metadata": {},
   "outputs": [
    {
     "name": "stdout",
     "output_type": "stream",
     "text": [
      "{1, 2, 3, 4, 7, 20200, (1, 2, 3)}\n"
     ]
    }
   ],
   "source": [
    "#.pop() method on sets - removes a random element from the set (usually the top printed element from the set). .pop() method\n",
    "# returns the popped element which we can save to a variable. It takes no arguments. \n",
    "\n",
    "print(set1)"
   ]
  },
  {
   "cell_type": "code",
   "execution_count": 58,
   "metadata": {},
   "outputs": [
    {
     "name": "stdout",
     "output_type": "stream",
     "text": [
      "{2, 3, 4, 7, 20200, (1, 2, 3)}\n",
      "1\n"
     ]
    }
   ],
   "source": [
    "set_pop = set1.pop()\n",
    "\n",
    "print(set1)\n",
    "print(set_pop)"
   ]
  },
  {
   "cell_type": "code",
   "execution_count": 59,
   "metadata": {},
   "outputs": [
    {
     "name": "stdout",
     "output_type": "stream",
     "text": [
      "{'abc', 'Abracadabra', 'Rikki', 'xyz', 'Python'}\n",
      "{'Abracadabra', 'Rikki', 'xyz', 'Python'}\n",
      "abc\n"
     ]
    }
   ],
   "source": [
    "set2 = {'xyz','abc', 'Python', 'Abracadabra', 'Rikki'}\n",
    "\n",
    "print(set2)\n",
    "\n",
    "set_pop2 = set2.pop()\n",
    "\n",
    "print(set2)\n",
    "print(set_pop2)"
   ]
  },
  {
   "cell_type": "code",
   "execution_count": 60,
   "metadata": {},
   "outputs": [],
   "source": [
    "#.update() method on set - takes any element(or iterable), converts it to sets and updates the original set. There is no\n",
    "# return in the output. \n",
    "\n",
    "set1 = {1,2,3,4,7,8}"
   ]
  },
  {
   "cell_type": "code",
   "execution_count": 61,
   "metadata": {},
   "outputs": [
    {
     "name": "stdout",
     "output_type": "stream",
     "text": [
      "[1, 2, 3, 4, 7, 8]\n"
     ]
    }
   ],
   "source": [
    "set2 = sorted(set1)\n",
    "\n",
    "print(set2)"
   ]
  },
  {
   "cell_type": "code",
   "execution_count": 62,
   "metadata": {},
   "outputs": [
    {
     "name": "stdout",
     "output_type": "stream",
     "text": [
      "{1, 2, 3, 4, 5, 6, 7, 8}\n",
      "None\n"
     ]
    }
   ],
   "source": [
    "set2 = {5,6,7,8}\n",
    "\n",
    "set3 = set1.update(set2)\n",
    "\n",
    "print(set1)\n",
    "print(set3)"
   ]
  },
  {
   "cell_type": "code",
   "execution_count": 63,
   "metadata": {},
   "outputs": [
    {
     "name": "stdout",
     "output_type": "stream",
     "text": [
      "[8, 5, 6, 7]\n"
     ]
    }
   ],
   "source": [
    "lst1 = list(set2)\n",
    "print(lst1)"
   ]
  },
  {
   "cell_type": "code",
   "execution_count": 64,
   "metadata": {},
   "outputs": [
    {
     "name": "stdout",
     "output_type": "stream",
     "text": [
      "{1, 2, 3, 4, 5, 6, 7, 8}\n"
     ]
    }
   ],
   "source": [
    "set1 = {1,2,3,4}\n",
    "\n",
    "set1.update(lst1)\n",
    "print(set1)"
   ]
  },
  {
   "cell_type": "code",
   "execution_count": 65,
   "metadata": {},
   "outputs": [
    {
     "name": "stdout",
     "output_type": "stream",
     "text": [
      "{'a', 'b', 'c', 'e', 'f', 'd'}\n",
      "efghij\n"
     ]
    }
   ],
   "source": [
    "set1 = set('abcdef')\n",
    "\n",
    "set2 = 'efghij'\n",
    "\n",
    "print(set1)\n",
    "print(set2)"
   ]
  },
  {
   "cell_type": "code",
   "execution_count": 66,
   "metadata": {},
   "outputs": [
    {
     "name": "stdout",
     "output_type": "stream",
     "text": [
      "{'a', 'i', 'b', 'g', 'h', 'c', 'e', 'f', 'j', 'd'}\n"
     ]
    }
   ],
   "source": [
    "set3 = set1.update(set2)\n",
    "print(set1)"
   ]
  },
  {
   "cell_type": "code",
   "execution_count": 67,
   "metadata": {},
   "outputs": [
    {
     "name": "stdout",
     "output_type": "stream",
     "text": [
      "{'a', 'i', 'b', 'g', 'h', 'c', 'efghij', 'e', 'f', 'j', 'd'}\n"
     ]
    }
   ],
   "source": [
    "#Note here how the object 'efghij' was converted to a set of individual characters since it is an iterable before the \n",
    "# update was performed. To actually perform update operation using single element 'efghij', we can put it in another \n",
    "# iterable. \n",
    "\n",
    "set3 = ['efghij']\n",
    "\n",
    "set1.update(set3)\n",
    "print(set1)"
   ]
  },
  {
   "cell_type": "code",
   "execution_count": null,
   "metadata": {},
   "outputs": [],
   "source": [
    "set1.update(set2)\n",
    "print(set1)"
   ]
  },
  {
   "cell_type": "code",
   "execution_count": null,
   "metadata": {},
   "outputs": [],
   "source": [
    "dict1 = dict.fromkeys(set2)\n",
    "\n",
    "print(dict1)"
   ]
  },
  {
   "cell_type": "code",
   "execution_count": null,
   "metadata": {},
   "outputs": [],
   "source": [
    "set1 = set('abcd')\n",
    "\n",
    "set1.update(dict1)\n",
    "print(set1)\n",
    "\n",
    "#Note how only the keys from dictionary are upated to set."
   ]
  },
  {
   "cell_type": "code",
   "execution_count": null,
   "metadata": {},
   "outputs": [],
   "source": [
    "# Note how set object does not support indexing. \n",
    "\n",
    "print(set1[0])"
   ]
  },
  {
   "cell_type": "code",
   "execution_count": null,
   "metadata": {},
   "outputs": [],
   "source": [
    "#Or slicing\n",
    "\n",
    "print(set1[:-2])"
   ]
  },
  {
   "cell_type": "code",
   "execution_count": null,
   "metadata": {},
   "outputs": [],
   "source": [
    "#Or item assigment\n",
    "\n",
    "set2[0] = 'x'\n",
    "\n",
    "print(set2)"
   ]
  },
  {
   "cell_type": "code",
   "execution_count": null,
   "metadata": {},
   "outputs": [],
   "source": [
    "#.clear() method on sets. It takes no parameters and returns no value. It clears the set on which it has been called on. \n",
    "\n",
    "set4 = set1.clear()\n",
    "\n",
    "print(set1)\n",
    "print(type(set1))\n",
    "print(len(set1))\n",
    "print(set4)\n",
    "\n"
   ]
  },
  {
   "cell_type": "code",
   "execution_count": null,
   "metadata": {},
   "outputs": [],
   "source": [
    "#Aliasing on sets works the same as any other datatype. \n",
    "\n",
    "#While aliasing, all changes in original and vice-versa will reflect on both variables since it is only a reference.\n",
    "\n",
    "#While copying - immutable objects will not show a change between original and the copy since memory id of the object\n",
    "# contained will change if the immutable object is changed. \n",
    "\n",
    "#However, since sets, though mutable themselves, cannot hold a mutable datatype - there is no purpose of deepcopy in this\n",
    "#case. Copy and deepcopy will behave the same./\n",
    "\n",
    "#Sets do not support slicing so there is no copy from slicing.\n",
    "\n",
    "p = set('abcde')\n",
    "\n",
    "q = p\n",
    "\n",
    "r = p.copy()\n",
    "\n",
    "import copy\n",
    "\n",
    "s = copy.deepcopy(p)\n",
    "\n",
    "print(p,q,r,s, sep='\\n')"
   ]
  },
  {
   "cell_type": "code",
   "execution_count": null,
   "metadata": {},
   "outputs": [],
   "source": [
    "p.add('f')\n",
    "\n",
    "print(f'Original object p = {p}.', '\\n')\n",
    "\n",
    "print(f'Aliased variable q = {q}.', '\\n')\n",
    "\n",
    "print(f'Copied object r = {r}.', '\\n')\n",
    "\n",
    "print(f'Deep Copied object s = {s}.', '\\n')\n",
    "\n"
   ]
  },
  {
   "cell_type": "code",
   "execution_count": null,
   "metadata": {},
   "outputs": [],
   "source": [
    "#.union() method returns a set of unique values of all the iterables defined in parameters. Parameters can be any number of\n",
    "#iterables.\n",
    "\n",
    "set1 = set('abcde')\n",
    "set2 = set('fghij')\n",
    "set3 = set('acegxyz')\n",
    "\n",
    "set4 = set1.union(set2,set3)\n",
    "\n",
    "print(set1)\n",
    "print(set2)\n",
    "print(set3)\n",
    "print(set4)"
   ]
  },
  {
   "cell_type": "code",
   "execution_count": null,
   "metadata": {},
   "outputs": [],
   "source": [
    "set1 = set('abcde')\n",
    "lst2 = list(set2)\n",
    "lst3 = list(set3)\n",
    "\n",
    "print(type(lst2), type(lst3))\n",
    "\n",
    "set5 = set1.union(lst2, lst3)\n",
    "\n",
    "print(set1)\n",
    "print(lst2)\n",
    "print(lst3)\n",
    "print(set5)"
   ]
  },
  {
   "cell_type": "code",
   "execution_count": null,
   "metadata": {},
   "outputs": [],
   "source": [
    "#Union operation can also be performed with the | operator\n",
    "\n",
    "set6 = set1 | set2 | set3\n",
    "\n",
    "print(set6)"
   ]
  },
  {
   "cell_type": "code",
   "execution_count": null,
   "metadata": {},
   "outputs": [],
   "source": [
    "# However, the | operator does not allow using other datatypes except sets. \n",
    "\n",
    "set7 = set1 | lst2 | lst3\n",
    "\n",
    "print(set7)"
   ]
  },
  {
   "cell_type": "code",
   "execution_count": null,
   "metadata": {},
   "outputs": [],
   "source": [
    "print(set1)"
   ]
  },
  {
   "cell_type": "code",
   "execution_count": null,
   "metadata": {},
   "outputs": [],
   "source": [
    "#Note how the original set from a Union method or | operator remains unchanged. "
   ]
  },
  {
   "cell_type": "code",
   "execution_count": null,
   "metadata": {},
   "outputs": [],
   "source": [
    "#.intersection() method of sets. Returns the values that are common across all sets. "
   ]
  },
  {
   "cell_type": "code",
   "execution_count": null,
   "metadata": {},
   "outputs": [],
   "source": [
    "set1 = set('abcde')\n",
    "set2 = set('cdefghij')\n",
    "set3 = set('xyzcde')\n",
    "\n",
    "set4 = set1.intersection(set2, set3)\n",
    "\n",
    "print(set1,set2, set3, set4, sep = '\\n')\n",
    "\n"
   ]
  },
  {
   "cell_type": "code",
   "execution_count": null,
   "metadata": {},
   "outputs": [],
   "source": [
    "lst2 = list(set2)\n",
    "lst3 = list(set3)\n",
    "\n",
    "set5 = set1.intersection(lst2, lst3)\n",
    "\n",
    "print(set1,lst2, lst3, set4, sep = '\\n')\n",
    "\n",
    "#Works with different iterable datatypes"
   ]
  },
  {
   "cell_type": "code",
   "execution_count": null,
   "metadata": {},
   "outputs": [],
   "source": [
    "# & operator for intersection\n",
    "\n",
    "set6 = set1 & set2 & set3\n",
    "\n",
    "print(set6)"
   ]
  },
  {
   "cell_type": "code",
   "execution_count": null,
   "metadata": {},
   "outputs": [],
   "source": [
    "# & operator doesnt work with different datatypes\n",
    "\n",
    "set7 = set1 & lst2 & lst3\n",
    "\n",
    "print(set7)"
   ]
  },
  {
   "cell_type": "code",
   "execution_count": null,
   "metadata": {},
   "outputs": [],
   "source": [
    "#intersecton_update() method - updates the caller set with the elements common across all the sets. \n",
    "\n",
    "set8 = set1.intersection_update(set2,set3)\n",
    "\n",
    "print(set1)\n",
    "print(set2)\n",
    "print(set3)\n",
    "print(set8)\n",
    "\n"
   ]
  },
  {
   "cell_type": "code",
   "execution_count": null,
   "metadata": {},
   "outputs": [],
   "source": [
    "#As seen, it updates the original set and there is no return value."
   ]
  },
  {
   "cell_type": "code",
   "execution_count": null,
   "metadata": {},
   "outputs": [],
   "source": [
    "set1 = set('abcde')\n",
    "lst2 = list('cdefghij')\n",
    "lst3 = list('xyzcde')\n",
    "\n",
    "set1.intersection_update(lst2, lst3)\n",
    "\n",
    "print(set1)"
   ]
  },
  {
   "cell_type": "code",
   "execution_count": null,
   "metadata": {},
   "outputs": [],
   "source": [
    "set1 = set('abcde')\n",
    "print(set1)"
   ]
  },
  {
   "cell_type": "code",
   "execution_count": null,
   "metadata": {},
   "outputs": [],
   "source": [
    "#Works with other iterables as well.\n",
    "\n",
    "set1 = set('abcde')\n",
    "elem1 = ['c', 'd', 'e','abcde']\n",
    "elem2 = ['xyz', 'c','d','e']\n",
    "\n",
    "set1.intersection_update(elem1, elem2)\n",
    "\n",
    "print(set1)"
   ]
  },
  {
   "cell_type": "code",
   "execution_count": null,
   "metadata": {},
   "outputs": [],
   "source": [
    "#.difference() method in sets. Returns a new set which has only the values from the first set which are not present in\n",
    "# the other sets. It can take multiple sets as parameters at a time but remember that only whatever is not present in the\n",
    "# other sets from first set will be returned.\n",
    "\n",
    "set1 = set('abcdepqr')\n",
    "set2 = set('efghicde')\n",
    "\n",
    "set3 = set1.difference(set2)\n",
    "\n",
    "print(set1)\n",
    "print(set2)\n",
    "print(set3)\n"
   ]
  },
  {
   "cell_type": "code",
   "execution_count": null,
   "metadata": {},
   "outputs": [],
   "source": [
    "#Note how the set1 and set2 remain unchanged and a new set with the different elements is returned."
   ]
  },
  {
   "cell_type": "code",
   "execution_count": null,
   "metadata": {},
   "outputs": [],
   "source": [
    "set1 = set('abcdepqr')\n",
    "set2 = set('efghicde')\n",
    "set4 = set('xyzpq')\n",
    "\n",
    "set3 = set1.difference(set2, set4)\n",
    "\n",
    "print(set1)\n",
    "print(set2)\n",
    "print(set4)\n",
    "print(set3)\n"
   ]
  },
  {
   "cell_type": "code",
   "execution_count": null,
   "metadata": {},
   "outputs": [],
   "source": [
    "#So far, with union and intersection, the order of the set on which the function is being called did not matter. \n",
    "\n",
    "#set1.union(set2) is the same as set2.union(set1) (even if more iterables were used as parameters)\n",
    "\n",
    "#Or\n",
    "\n",
    "# set1.intersection(set2) is the same as set2.intersection(set1) (even if more iterables were used as parameters)"
   ]
  },
  {
   "cell_type": "code",
   "execution_count": null,
   "metadata": {},
   "outputs": [],
   "source": [
    "set1 = set('abcdepqr')\n",
    "set2 = set('efghicdex')\n",
    "set4 = set('xyzcdepq')\n",
    "\n",
    "set3 = set1.difference(set2)\n",
    "set4 = set2.difference(set1)\n",
    "\n",
    "print(set1)\n",
    "print(set2)\n",
    "print(set3)\n",
    "print(set4)\n",
    "\n",
    "#However, for difference method, the order provided to the sets matters since it is only returning output as items from\n",
    "#left hand side set which are not present in the right hand side set. The difference items from set 2 are not considered\n",
    "# part of the output UNLESS we change the order. "
   ]
  },
  {
   "cell_type": "code",
   "execution_count": null,
   "metadata": {},
   "outputs": [],
   "source": [
    "set5 = set2.difference(set1, set4)\n",
    "print(set5)"
   ]
  },
  {
   "cell_type": "code",
   "execution_count": null,
   "metadata": {},
   "outputs": [],
   "source": [
    "#The difference method will take any iterable, convert to sets and perform the difference\n",
    "# operation. But the '-' operator will only take sets as input to perform the difference operator.\n",
    "\n",
    "set4 = set1 - set2\n",
    "\n",
    "print(set1)\n",
    "print(set2)\n",
    "print(set4)"
   ]
  },
  {
   "cell_type": "code",
   "execution_count": null,
   "metadata": {},
   "outputs": [],
   "source": [
    "set1 = set('abcdepqr')\n",
    "set2 = set('efghicdex')\n",
    "set3 = set('xyzcdepq')\n",
    "\n",
    "\n",
    "print(set1)\n",
    "print(set2)\n",
    "print(set3)\n",
    "\n",
    "set5 = set1 - set2 - set3\n",
    "\n",
    "print(set5)"
   ]
  },
  {
   "cell_type": "code",
   "execution_count": null,
   "metadata": {},
   "outputs": [],
   "source": [
    "lst2 = list('efghicdex')\n",
    "\n",
    "set5 = set1 - lst2\n",
    "\n",
    "print(set5)"
   ]
  },
  {
   "cell_type": "code",
   "execution_count": null,
   "metadata": {},
   "outputs": [],
   "source": [
    "#difference_update() method - updates the original set with the intersection of two or more sets. "
   ]
  },
  {
   "cell_type": "code",
   "execution_count": 7,
   "metadata": {},
   "outputs": [
    {
     "name": "stdout",
     "output_type": "stream",
     "text": [
      "set()\n",
      "{'a', 'q', 'p'}\n",
      "{'y', 'b', 'c'}\n",
      "None\n"
     ]
    }
   ],
   "source": [
    "set1 = set('abc')\n",
    "set2 = set('pqa')\n",
    "set3 = set('ybc')\n",
    "\n",
    "set4 = set1.difference_update(set2, set3)\n",
    "\n",
    "print(set1)\n",
    "print(set2)\n",
    "print(set3)\n",
    "print(set4)"
   ]
  },
  {
   "cell_type": "code",
   "execution_count": null,
   "metadata": {},
   "outputs": [],
   "source": [
    "#As seen, there is no return from the difference_update method and original set is updated."
   ]
  },
  {
   "cell_type": "code",
   "execution_count": 8,
   "metadata": {},
   "outputs": [
    {
     "name": "stdout",
     "output_type": "stream",
     "text": [
      "{'a', 'q', 'c', 'p', 'r', 'e', 'b', 'd'}\n",
      "{'x', 'c', 'g', 'e', 'f', 'i', 'd', 'h'}\n",
      "{'x', 'a', 'q', 'p', 'r', 'g', 'f', 'i', 'b', 'h'}\n"
     ]
    }
   ],
   "source": [
    "#symmetric_difference() method in Python returns the elements that are present in either of the sets but not in both i.e. \n",
    "\n",
    "# symemetric_difference = set union - set intersection\n",
    "\n",
    "set1 = set('abcdepqr')\n",
    "set2 = set('efghicdex')\n",
    "set3 = set('xyzcdepq')\n",
    "\n",
    "set4 = set1.symmetric_difference(set2)\n",
    "\n",
    "print(set1)\n",
    "print(set2)\n",
    "print(set4)\n"
   ]
  },
  {
   "cell_type": "code",
   "execution_count": 9,
   "metadata": {},
   "outputs": [
    {
     "ename": "TypeError",
     "evalue": "symmetric_difference() takes exactly one argument (2 given)",
     "output_type": "error",
     "traceback": [
      "\u001b[1;31m---------------------------------------------------------------------------\u001b[0m",
      "\u001b[1;31mTypeError\u001b[0m                                 Traceback (most recent call last)",
      "\u001b[1;32m<ipython-input-9-7013b7bcef86>\u001b[0m in \u001b[0;36m<module>\u001b[1;34m\u001b[0m\n\u001b[0;32m      2\u001b[0m \u001b[1;33m\u001b[0m\u001b[0m\n\u001b[0;32m      3\u001b[0m \u001b[1;33m\u001b[0m\u001b[0m\n\u001b[1;32m----> 4\u001b[1;33m \u001b[0mset5\u001b[0m \u001b[1;33m=\u001b[0m \u001b[0mset1\u001b[0m\u001b[1;33m.\u001b[0m\u001b[0msymmetric_difference\u001b[0m\u001b[1;33m(\u001b[0m\u001b[0mset2\u001b[0m\u001b[1;33m,\u001b[0m \u001b[0mset3\u001b[0m\u001b[1;33m)\u001b[0m\u001b[1;33m\u001b[0m\u001b[1;33m\u001b[0m\u001b[0m\n\u001b[0m\u001b[0;32m      5\u001b[0m \u001b[1;33m\u001b[0m\u001b[0m\n\u001b[0;32m      6\u001b[0m \u001b[0mprint\u001b[0m\u001b[1;33m(\u001b[0m\u001b[0mset5\u001b[0m\u001b[1;33m)\u001b[0m\u001b[1;33m\u001b[0m\u001b[1;33m\u001b[0m\u001b[0m\n",
      "\u001b[1;31mTypeError\u001b[0m: symmetric_difference() takes exactly one argument (2 given)"
     ]
    }
   ],
   "source": [
    "# Unlike the other operations of union, intersection and difference though - symmetric_difference takes only one argument.\n",
    "\n",
    "\n",
    "set5 = set1.symmetric_difference(set2, set3)\n",
    "\n",
    "print(set5)"
   ]
  },
  {
   "cell_type": "code",
   "execution_count": 10,
   "metadata": {},
   "outputs": [
    {
     "name": "stdout",
     "output_type": "stream",
     "text": [
      "{'a', 'c', 'e', 'b', 'd'}\n",
      "['f', 'g', 'h', 'i', 'c', 'd', 'e']\n",
      "{'a', 'g', 'f', 'i', 'b', 'h'}\n"
     ]
    }
   ],
   "source": [
    "# And the ^ (caret) operator is used for symmetric_differnce in Python. As with the other methods, ^ operator will only\n",
    "# allow operation to be performed between two sets. \n",
    "\n",
    "set1 = set('abcde')\n",
    "lst2 = list('fghicde')\n",
    "\n",
    "set3 = set1.symmetric_difference(lst2)\n",
    "\n",
    "print(set1)\n",
    "print(lst2)\n",
    "print(set3)"
   ]
  },
  {
   "cell_type": "code",
   "execution_count": 11,
   "metadata": {},
   "outputs": [
    {
     "name": "stdout",
     "output_type": "stream",
     "text": [
      "{'a', 'c', 'e', 'b', 'd'}\n",
      "{'c', 'g', 'e', 'f', 'i', 'd', 'h'}\n",
      "{'a', 'g', 'f', 'i', 'b', 'h'}\n"
     ]
    }
   ],
   "source": [
    "set1 = set('abcde')\n",
    "set2 = set('fghicde')\n",
    "\n",
    "set3 = set1 ^ set2\n",
    "\n",
    "print(set1)\n",
    "print(set2)\n",
    "print(set3)"
   ]
  },
  {
   "cell_type": "code",
   "execution_count": 12,
   "metadata": {},
   "outputs": [
    {
     "ename": "TypeError",
     "evalue": "unsupported operand type(s) for ^: 'set' and 'list'",
     "output_type": "error",
     "traceback": [
      "\u001b[1;31m---------------------------------------------------------------------------\u001b[0m",
      "\u001b[1;31mTypeError\u001b[0m                                 Traceback (most recent call last)",
      "\u001b[1;32m<ipython-input-12-b29712325b27>\u001b[0m in \u001b[0;36m<module>\u001b[1;34m\u001b[0m\n\u001b[0;32m      2\u001b[0m \u001b[0mlst2\u001b[0m \u001b[1;33m=\u001b[0m \u001b[0mlist\u001b[0m\u001b[1;33m(\u001b[0m\u001b[1;34m'fghicde'\u001b[0m\u001b[1;33m)\u001b[0m\u001b[1;33m\u001b[0m\u001b[1;33m\u001b[0m\u001b[0m\n\u001b[0;32m      3\u001b[0m \u001b[1;33m\u001b[0m\u001b[0m\n\u001b[1;32m----> 4\u001b[1;33m \u001b[0mset3\u001b[0m \u001b[1;33m=\u001b[0m \u001b[0mset1\u001b[0m \u001b[1;33m^\u001b[0m \u001b[0mlst2\u001b[0m\u001b[1;33m\u001b[0m\u001b[1;33m\u001b[0m\u001b[0m\n\u001b[0m\u001b[0;32m      5\u001b[0m \u001b[1;33m\u001b[0m\u001b[0m\n\u001b[0;32m      6\u001b[0m \u001b[0mprint\u001b[0m\u001b[1;33m(\u001b[0m\u001b[0mset1\u001b[0m\u001b[1;33m)\u001b[0m\u001b[1;33m\u001b[0m\u001b[1;33m\u001b[0m\u001b[0m\n",
      "\u001b[1;31mTypeError\u001b[0m: unsupported operand type(s) for ^: 'set' and 'list'"
     ]
    }
   ],
   "source": [
    "set1 = set('abcde')\n",
    "lst2 = list('fghicde')\n",
    "\n",
    "set3 = set1 ^ lst2\n",
    "\n",
    "print(set1)\n",
    "print(lst2)\n",
    "print(set3)"
   ]
  },
  {
   "cell_type": "code",
   "execution_count": null,
   "metadata": {},
   "outputs": [],
   "source": [
    "#.symmetric_difference_update method updates the original set and takes only 1 parameter. It modifies the original set\n",
    "# and returns nothing. "
   ]
  },
  {
   "cell_type": "code",
   "execution_count": 13,
   "metadata": {},
   "outputs": [
    {
     "name": "stdout",
     "output_type": "stream",
     "text": [
      "{'a', 'g', 'f', 'b', 'i', 'h'}\n",
      "{'c', 'g', 'e', 'f', 'i', 'd', 'h'}\n",
      "None\n"
     ]
    }
   ],
   "source": [
    "set1 = set('abcde')\n",
    "set2 = set('fghicde')\n",
    "\n",
    "set3 = set1.symmetric_difference_update(set2)\n",
    "\n",
    "print(set1)\n",
    "print(set2)\n",
    "print(set3)\n",
    "\n"
   ]
  },
  {
   "cell_type": "code",
   "execution_count": 14,
   "metadata": {},
   "outputs": [
    {
     "name": "stdout",
     "output_type": "stream",
     "text": [
      "{'a', 'b', 'c'}\n",
      "{'a', 'c', 'e', 'b', 'd'}\n",
      "True\n"
     ]
    }
   ],
   "source": [
    "#issubset() method on sets - checks if ALL the elements are present in another. The set which we have to check for (whether\n",
    "# it is a subset) will be passed as the caller object i.e. on the left and the superset(the set which is supposed to \n",
    "#contain all the elements) is on the right. It returns a boolean value True or False\n",
    "\n",
    "set1 = set('abc')\n",
    "set2 = set('abcde')\n",
    "\n",
    "set3 = set1.issubset(set2)\n",
    "\n",
    "print(set1)\n",
    "print(set2)\n",
    "print(set3)"
   ]
  },
  {
   "cell_type": "code",
   "execution_count": 15,
   "metadata": {},
   "outputs": [
    {
     "ename": "TypeError",
     "evalue": "issubset() takes exactly one argument (2 given)",
     "output_type": "error",
     "traceback": [
      "\u001b[1;31m---------------------------------------------------------------------------\u001b[0m",
      "\u001b[1;31mTypeError\u001b[0m                                 Traceback (most recent call last)",
      "\u001b[1;32m<ipython-input-15-e6653e524687>\u001b[0m in \u001b[0;36m<module>\u001b[1;34m\u001b[0m\n\u001b[0;32m      1\u001b[0m \u001b[0mset4\u001b[0m \u001b[1;33m=\u001b[0m \u001b[0mset\u001b[0m\u001b[1;33m(\u001b[0m\u001b[1;34m'abcxy'\u001b[0m\u001b[1;33m)\u001b[0m\u001b[1;33m\u001b[0m\u001b[1;33m\u001b[0m\u001b[0m\n\u001b[0;32m      2\u001b[0m \u001b[1;33m\u001b[0m\u001b[0m\n\u001b[1;32m----> 3\u001b[1;33m \u001b[0mprint\u001b[0m\u001b[1;33m(\u001b[0m\u001b[0mset1\u001b[0m\u001b[1;33m.\u001b[0m\u001b[0missubset\u001b[0m\u001b[1;33m(\u001b[0m\u001b[0mset2\u001b[0m\u001b[1;33m,\u001b[0m \u001b[0mset4\u001b[0m\u001b[1;33m)\u001b[0m\u001b[1;33m)\u001b[0m\u001b[1;33m\u001b[0m\u001b[1;33m\u001b[0m\u001b[0m\n\u001b[0m",
      "\u001b[1;31mTypeError\u001b[0m: issubset() takes exactly one argument (2 given)"
     ]
    }
   ],
   "source": [
    "set4 = set('abcxy')\n",
    "\n",
    "print(set1.issubset(set2, set4))"
   ]
  },
  {
   "cell_type": "code",
   "execution_count": 16,
   "metadata": {},
   "outputs": [
    {
     "name": "stdout",
     "output_type": "stream",
     "text": [
      "False\n"
     ]
    }
   ],
   "source": [
    "#It can only check for one subset at a time. \n",
    "\n",
    "#Meanwhile, if a is subset of b, b is not neccessarily a subset of a. It MAY be but is more likely a superset of a. \n",
    "\n",
    "print(set2.issubset(set1))"
   ]
  },
  {
   "cell_type": "code",
   "execution_count": 17,
   "metadata": {},
   "outputs": [],
   "source": [
    "#We can also use operators to check for whether a set is a subset of another(or superset of another - more on that later)."
   ]
  },
  {
   "cell_type": "code",
   "execution_count": 18,
   "metadata": {},
   "outputs": [
    {
     "name": "stdout",
     "output_type": "stream",
     "text": [
      "{'a', 'c', 'e', 'b', 'd'}\n",
      "{'j', 'a', 'c', 'g', 'e', 'f', 'b', 'i', 'd', 'h'}\n",
      "True\n"
     ]
    }
   ],
   "source": [
    "set1 = set('abcde')\n",
    "set2 = set('abcdefghij')\n",
    "print(set1)\n",
    "print(set2)\n",
    "\n",
    "result = set1 <= set2\n",
    "print(result)\n",
    "\n",
    "#As with issubset - it returns True if set1 if all elements of set1 are present in set2."
   ]
  },
  {
   "cell_type": "code",
   "execution_count": 19,
   "metadata": {},
   "outputs": [
    {
     "name": "stdout",
     "output_type": "stream",
     "text": [
      "False\n"
     ]
    }
   ],
   "source": [
    "set1 = set('abcde')\n",
    "set2 = set('cdefghij')\n",
    "\n",
    "print(set1 <= set2)"
   ]
  },
  {
   "cell_type": "code",
   "execution_count": 20,
   "metadata": {},
   "outputs": [
    {
     "name": "stdout",
     "output_type": "stream",
     "text": [
      "True\n",
      "True\n"
     ]
    }
   ],
   "source": [
    "set1 = set('abcde')\n",
    "set2 = set('abcde')\n",
    "\n",
    "print(set1.issubset(set2))\n",
    "print(set2.issubset(set1))"
   ]
  },
  {
   "cell_type": "code",
   "execution_count": 21,
   "metadata": {},
   "outputs": [
    {
     "name": "stdout",
     "output_type": "stream",
     "text": [
      "True\n"
     ]
    }
   ],
   "source": [
    "# A set is considered a subset of itself. It fits the definition - all elements of the set are present in itself.\n",
    "\n",
    "\n",
    "print(set1.issubset(set1))"
   ]
  },
  {
   "cell_type": "code",
   "execution_count": 22,
   "metadata": {},
   "outputs": [
    {
     "name": "stdout",
     "output_type": "stream",
     "text": [
      "True\n"
     ]
    }
   ],
   "source": [
    "#However, for practical purposes we may need to check if a set is a PROPER subset of another i.e. all elements of set1 are\n",
    "# present in set2 AND Set1 and Set2 are NOT equal. For this, we can use the < operator on sets. \n",
    "\n",
    "set1 = set('abcde')\n",
    "set2 = set('abcdefghi')\n",
    "\n",
    "print(set1 < set2)"
   ]
  },
  {
   "cell_type": "code",
   "execution_count": 23,
   "metadata": {},
   "outputs": [
    {
     "name": "stdout",
     "output_type": "stream",
     "text": [
      "False\n"
     ]
    }
   ],
   "source": [
    "set1 = set('abcde')\n",
    "set2 = set('abcde')\n",
    "\n",
    "print(set1 < set2)\n"
   ]
  },
  {
   "cell_type": "code",
   "execution_count": 24,
   "metadata": {},
   "outputs": [
    {
     "name": "stdout",
     "output_type": "stream",
     "text": [
      "True\n"
     ]
    }
   ],
   "source": [
    "#We can also check for equality of sets. \n",
    "\n",
    "print(set1 == set2)"
   ]
  },
  {
   "cell_type": "code",
   "execution_count": 25,
   "metadata": {},
   "outputs": [
    {
     "name": "stdout",
     "output_type": "stream",
     "text": [
      "False\n"
     ]
    }
   ],
   "source": [
    "print(set1 != set2) # -   !# denotes NOT equal"
   ]
  },
  {
   "cell_type": "code",
   "execution_count": 26,
   "metadata": {},
   "outputs": [
    {
     "name": "stdout",
     "output_type": "stream",
     "text": [
      "False\n",
      "True\n"
     ]
    }
   ],
   "source": [
    "set1 = set('abcde')\n",
    "set2 = set('fghij')\n",
    "\n",
    "print(set1 == set2)\n",
    "print(set1 != set2)"
   ]
  },
  {
   "cell_type": "code",
   "execution_count": 27,
   "metadata": {},
   "outputs": [
    {
     "name": "stdout",
     "output_type": "stream",
     "text": [
      "True\n"
     ]
    }
   ],
   "source": [
    "set1 = set('abc')\n",
    "lst2 = list('abcde')\n",
    "\n",
    "print(set1.issubset(lst2))\n",
    "\n",
    "#Allows any other iterable to be used.\n",
    "\n"
   ]
  },
  {
   "cell_type": "code",
   "execution_count": 28,
   "metadata": {},
   "outputs": [
    {
     "ename": "TypeError",
     "evalue": "'<' not supported between instances of 'set' and 'list'",
     "output_type": "error",
     "traceback": [
      "\u001b[1;31m---------------------------------------------------------------------------\u001b[0m",
      "\u001b[1;31mTypeError\u001b[0m                                 Traceback (most recent call last)",
      "\u001b[1;32m<ipython-input-28-7f0ead28cf65>\u001b[0m in \u001b[0;36m<module>\u001b[1;34m\u001b[0m\n\u001b[0;32m      1\u001b[0m \u001b[0mlst2\u001b[0m \u001b[1;33m=\u001b[0m \u001b[0mlist\u001b[0m\u001b[1;33m(\u001b[0m\u001b[1;34m'abcde'\u001b[0m\u001b[1;33m)\u001b[0m\u001b[1;33m\u001b[0m\u001b[1;33m\u001b[0m\u001b[0m\n\u001b[0;32m      2\u001b[0m \u001b[1;33m\u001b[0m\u001b[0m\n\u001b[1;32m----> 3\u001b[1;33m \u001b[0mprint\u001b[0m\u001b[1;33m(\u001b[0m\u001b[0mset1\u001b[0m \u001b[1;33m<\u001b[0m \u001b[0mlst2\u001b[0m\u001b[1;33m)\u001b[0m\u001b[1;33m\u001b[0m\u001b[1;33m\u001b[0m\u001b[0m\n\u001b[0m",
      "\u001b[1;31mTypeError\u001b[0m: '<' not supported between instances of 'set' and 'list'"
     ]
    }
   ],
   "source": [
    "lst2 = list('abcde')\n",
    "\n",
    "print(set1 < lst2)"
   ]
  },
  {
   "cell_type": "code",
   "execution_count": 29,
   "metadata": {},
   "outputs": [
    {
     "ename": "TypeError",
     "evalue": "'<=' not supported between instances of 'set' and 'list'",
     "output_type": "error",
     "traceback": [
      "\u001b[1;31m---------------------------------------------------------------------------\u001b[0m",
      "\u001b[1;31mTypeError\u001b[0m                                 Traceback (most recent call last)",
      "\u001b[1;32m<ipython-input-29-56b9dfc3f07d>\u001b[0m in \u001b[0;36m<module>\u001b[1;34m\u001b[0m\n\u001b[0;32m      1\u001b[0m \u001b[1;31m#The operators do not allow different datatypes to be compared.\u001b[0m\u001b[1;33m\u001b[0m\u001b[1;33m\u001b[0m\u001b[1;33m\u001b[0m\u001b[0m\n\u001b[0;32m      2\u001b[0m \u001b[1;33m\u001b[0m\u001b[0m\n\u001b[1;32m----> 3\u001b[1;33m \u001b[0mprint\u001b[0m\u001b[1;33m(\u001b[0m\u001b[0mset1\u001b[0m \u001b[1;33m<=\u001b[0m \u001b[0mlst2\u001b[0m\u001b[1;33m)\u001b[0m\u001b[1;33m\u001b[0m\u001b[1;33m\u001b[0m\u001b[0m\n\u001b[0m",
      "\u001b[1;31mTypeError\u001b[0m: '<=' not supported between instances of 'set' and 'list'"
     ]
    }
   ],
   "source": [
    "#The operators do not allow different datatypes to be compared. \n",
    "\n",
    "print(set1 <= lst2)"
   ]
  },
  {
   "cell_type": "code",
   "execution_count": 30,
   "metadata": {},
   "outputs": [
    {
     "name": "stdout",
     "output_type": "stream",
     "text": [
      "{'a', 'b', 'c'}\n"
     ]
    }
   ],
   "source": [
    "print(set1)"
   ]
  },
  {
   "cell_type": "code",
   "execution_count": 31,
   "metadata": {},
   "outputs": [
    {
     "name": "stdout",
     "output_type": "stream",
     "text": [
      "True\n"
     ]
    }
   ],
   "source": [
    "print(set1.issubset('abcde')) #Note here how the 'abcde' is converted to a set and then checked returning true."
   ]
  },
  {
   "cell_type": "code",
   "execution_count": 32,
   "metadata": {},
   "outputs": [
    {
     "name": "stdout",
     "output_type": "stream",
     "text": [
      "False\n"
     ]
    }
   ],
   "source": [
    "print(set1.issubset(['abcde']))"
   ]
  },
  {
   "cell_type": "code",
   "execution_count": null,
   "metadata": {},
   "outputs": [],
   "source": [
    "#A set will return True for both a subset and a superset of itself. "
   ]
  },
  {
   "cell_type": "code",
   "execution_count": 33,
   "metadata": {},
   "outputs": [
    {
     "name": "stdout",
     "output_type": "stream",
     "text": [
      "True\n"
     ]
    }
   ],
   "source": [
    "#issuperset() method checks if a set contains all the elements of another set. The super set which is supposed to contain\n",
    "# all the elements of the second set is called the superset and is on the left. Meanwhile, the subset or the set which \n",
    "# may contain the elements of the superset, is on the right. If a is a superset of b, b is subset of a. \n",
    "\n",
    "set1 = set('abcde')\n",
    "set2 = set('abc')\n",
    "\n",
    "print(set1.issuperset(set2))"
   ]
  },
  {
   "cell_type": "code",
   "execution_count": 34,
   "metadata": {},
   "outputs": [
    {
     "name": "stdout",
     "output_type": "stream",
     "text": [
      "False\n"
     ]
    }
   ],
   "source": [
    "print(set2.issuperset(set1))"
   ]
  },
  {
   "cell_type": "code",
   "execution_count": 35,
   "metadata": {},
   "outputs": [
    {
     "name": "stdout",
     "output_type": "stream",
     "text": [
      "True\n",
      "True\n"
     ]
    }
   ],
   "source": [
    "set1 = set('abcde')\n",
    "set2 = set('abcde')\n",
    "\n",
    "print(set1.issubset(set2))\n",
    "print(set2.issuperset(set1))"
   ]
  },
  {
   "cell_type": "code",
   "execution_count": null,
   "metadata": {},
   "outputs": [],
   "source": [
    "#A set will return as super set of itself. \n",
    "\n",
    "print(set1.issuperset(set1))"
   ]
  },
  {
   "cell_type": "code",
   "execution_count": 36,
   "metadata": {},
   "outputs": [
    {
     "name": "stdout",
     "output_type": "stream",
     "text": [
      "True\n"
     ]
    }
   ],
   "source": [
    "#We can also use operators to check if a set is a superset of another. \n",
    "\n",
    "set1 = set('abcdefghij')\n",
    "set2 = set('abcde')\n",
    "\n",
    "print(set1 >= set2)"
   ]
  },
  {
   "cell_type": "code",
   "execution_count": 37,
   "metadata": {},
   "outputs": [
    {
     "name": "stdout",
     "output_type": "stream",
     "text": [
      "True\n"
     ]
    }
   ],
   "source": [
    "set1 = set('abcde')\n",
    "set2 = set('abcde')\n",
    "\n",
    "print(set1 >= set2)"
   ]
  },
  {
   "cell_type": "code",
   "execution_count": 38,
   "metadata": {},
   "outputs": [
    {
     "name": "stdout",
     "output_type": "stream",
     "text": [
      "False\n"
     ]
    }
   ],
   "source": [
    "print(set1 > set2)"
   ]
  },
  {
   "cell_type": "code",
   "execution_count": null,
   "metadata": {},
   "outputs": [],
   "source": [
    "#As with subsets - the > operator returns True only if set 1 contains all the elements of set2 AND is not\n",
    "# equal to set 2. "
   ]
  },
  {
   "cell_type": "code",
   "execution_count": 39,
   "metadata": {},
   "outputs": [
    {
     "name": "stdout",
     "output_type": "stream",
     "text": [
      "True\n"
     ]
    }
   ],
   "source": [
    "#Allows any other iterable to be used.  \n",
    "\n",
    "set1 = set('abcde')\n",
    "lst2 = list('abc')\n",
    "\n",
    "print(set1.issuperset(lst2))"
   ]
  },
  {
   "cell_type": "code",
   "execution_count": 40,
   "metadata": {},
   "outputs": [
    {
     "name": "stdout",
     "output_type": "stream",
     "text": [
      "True\n"
     ]
    }
   ],
   "source": [
    "#isdisjoint() - will check that two sets have no common elements between them. Returns true if it finds no common elements\n",
    "# false if one or more common elements found.\n",
    "\n",
    "set1 = set('abcde')\n",
    "set2 = set('fghij')\n",
    "set3 = set('xyz')\n",
    "\n",
    "print(set1.isdisjoint(set2))"
   ]
  },
  {
   "cell_type": "code",
   "execution_count": 41,
   "metadata": {},
   "outputs": [
    {
     "ename": "TypeError",
     "evalue": "isdisjoint() takes exactly one argument (2 given)",
     "output_type": "error",
     "traceback": [
      "\u001b[1;31m---------------------------------------------------------------------------\u001b[0m",
      "\u001b[1;31mTypeError\u001b[0m                                 Traceback (most recent call last)",
      "\u001b[1;32m<ipython-input-41-7e503c59ade6>\u001b[0m in \u001b[0;36m<module>\u001b[1;34m\u001b[0m\n\u001b[0;32m      1\u001b[0m \u001b[1;31m# It takes only one parameter\u001b[0m\u001b[1;33m\u001b[0m\u001b[1;33m\u001b[0m\u001b[1;33m\u001b[0m\u001b[0m\n\u001b[1;32m----> 2\u001b[1;33m \u001b[0mprint\u001b[0m\u001b[1;33m(\u001b[0m\u001b[0mset1\u001b[0m\u001b[1;33m.\u001b[0m\u001b[0misdisjoint\u001b[0m\u001b[1;33m(\u001b[0m\u001b[0mset2\u001b[0m\u001b[1;33m,\u001b[0m \u001b[0mset3\u001b[0m\u001b[1;33m)\u001b[0m\u001b[1;33m)\u001b[0m\u001b[1;33m\u001b[0m\u001b[1;33m\u001b[0m\u001b[0m\n\u001b[0m",
      "\u001b[1;31mTypeError\u001b[0m: isdisjoint() takes exactly one argument (2 given)"
     ]
    }
   ],
   "source": [
    "# It takes only one parameter\n",
    "print(set1.isdisjoint(set2, set3))"
   ]
  },
  {
   "cell_type": "code",
   "execution_count": 42,
   "metadata": {},
   "outputs": [
    {
     "name": "stdout",
     "output_type": "stream",
     "text": [
      "True\n"
     ]
    }
   ],
   "source": [
    "#Allows other datatypes to be used.\n",
    "\n",
    "lst2 = list('fghij')\n",
    "\n",
    "print(set1.isdisjoint(lst2))"
   ]
  },
  {
   "cell_type": "code",
   "execution_count": 43,
   "metadata": {},
   "outputs": [
    {
     "name": "stdout",
     "output_type": "stream",
     "text": [
      "{'a', 'c', 'e', 'b', 'd'}\n"
     ]
    }
   ],
   "source": [
    "print(set1)"
   ]
  },
  {
   "cell_type": "code",
   "execution_count": 44,
   "metadata": {},
   "outputs": [
    {
     "name": "stdout",
     "output_type": "stream",
     "text": [
      "True\n"
     ]
    }
   ],
   "source": [
    "\n",
    "print(set1.isdisjoint('fghij'))"
   ]
  },
  {
   "cell_type": "code",
   "execution_count": 45,
   "metadata": {},
   "outputs": [
    {
     "name": "stdout",
     "output_type": "stream",
     "text": [
      "True\n"
     ]
    }
   ],
   "source": [
    "set1 = set('abcde')\n",
    "print(set1.isdisjoint(['abcde']))"
   ]
  },
  {
   "cell_type": "code",
   "execution_count": 46,
   "metadata": {},
   "outputs": [
    {
     "name": "stdout",
     "output_type": "stream",
     "text": [
      "set()\n",
      "<class 'set'>\n",
      "True\n"
     ]
    }
   ],
   "source": [
    "set4 = set()\n",
    "\n",
    "print(set4)\n",
    "print(type(set4))\n",
    "\n",
    "\n",
    "print(set1.isdisjoint(set4))"
   ]
  },
  {
   "cell_type": "code",
   "execution_count": null,
   "metadata": {},
   "outputs": [],
   "source": [
    "#As we have seen - sets themselves are mutable but contain immutable objects. However, if we need AN IMMUTABLE set which\n",
    "# only contains unique values, we can use Frozen sets - another built-in datatype in Python.\\\n",
    "\n",
    "#1. Frozensets are derived datatypes.\n",
    "#2. They are immutable. \n",
    "#3. The elements in a frozenset are immutable. So, unlike sets - no addition or removal of elements can be performed.\n",
    "#4. They are sequential\n",
    "#5. They are unordered. \n",
    "#6. They do not support slicing, indexing or item assignment\n",
    "#7. They are iterable.\n",
    "\n",
    "#They can take any iterable and be converted to a frozenset. "
   ]
  },
  {
   "cell_type": "code",
   "execution_count": 47,
   "metadata": {},
   "outputs": [
    {
     "name": "stdout",
     "output_type": "stream",
     "text": [
      "{'a', 'c', 'e', 'b', 'd'}\n",
      "frozenset({'e', 'a', 'b', 'c', 'd'})\n"
     ]
    }
   ],
   "source": [
    "set1 = set('abcde')\n",
    "\n",
    "fset1 = frozenset(set1)\n",
    "\n",
    "print(set1)\n",
    "print(fset1)"
   ]
  },
  {
   "cell_type": "code",
   "execution_count": 48,
   "metadata": {},
   "outputs": [
    {
     "ename": "AttributeError",
     "evalue": "'frozenset' object has no attribute 'add'",
     "output_type": "error",
     "traceback": [
      "\u001b[1;31m---------------------------------------------------------------------------\u001b[0m",
      "\u001b[1;31mAttributeError\u001b[0m                            Traceback (most recent call last)",
      "\u001b[1;32m<ipython-input-48-4c091802b17c>\u001b[0m in \u001b[0;36m<module>\u001b[1;34m\u001b[0m\n\u001b[1;32m----> 1\u001b[1;33m \u001b[0mfset1\u001b[0m\u001b[1;33m.\u001b[0m\u001b[0madd\u001b[0m\u001b[1;33m(\u001b[0m\u001b[1;34m'f'\u001b[0m\u001b[1;33m)\u001b[0m\u001b[1;33m\u001b[0m\u001b[1;33m\u001b[0m\u001b[0m\n\u001b[0m",
      "\u001b[1;31mAttributeError\u001b[0m: 'frozenset' object has no attribute 'add'"
     ]
    }
   ],
   "source": [
    "fset1.add('f')\n"
   ]
  },
  {
   "cell_type": "code",
   "execution_count": 49,
   "metadata": {},
   "outputs": [
    {
     "ename": "AttributeError",
     "evalue": "'frozenset' object has no attribute 'remove'",
     "output_type": "error",
     "traceback": [
      "\u001b[1;31m---------------------------------------------------------------------------\u001b[0m",
      "\u001b[1;31mAttributeError\u001b[0m                            Traceback (most recent call last)",
      "\u001b[1;32m<ipython-input-49-5da63f67cecd>\u001b[0m in \u001b[0;36m<module>\u001b[1;34m\u001b[0m\n\u001b[1;32m----> 1\u001b[1;33m \u001b[0mfset1\u001b[0m\u001b[1;33m.\u001b[0m\u001b[0mremove\u001b[0m\u001b[1;33m(\u001b[0m\u001b[1;34m'e'\u001b[0m\u001b[1;33m)\u001b[0m\u001b[1;33m\u001b[0m\u001b[1;33m\u001b[0m\u001b[0m\n\u001b[0m",
      "\u001b[1;31mAttributeError\u001b[0m: 'frozenset' object has no attribute 'remove'"
     ]
    }
   ],
   "source": [
    "fset1.remove('e')"
   ]
  },
  {
   "cell_type": "code",
   "execution_count": 50,
   "metadata": {},
   "outputs": [
    {
     "name": "stdout",
     "output_type": "stream",
     "text": [
      "frozenset({'j', 'g', 'f', 'i', 'h'})\n"
     ]
    }
   ],
   "source": [
    "fset2 = frozenset('fghij')\n",
    "\n",
    "print(fset2)"
   ]
  },
  {
   "cell_type": "code",
   "execution_count": 51,
   "metadata": {},
   "outputs": [
    {
     "ename": "TypeError",
     "evalue": "unsupported operand type(s) for +: 'frozenset' and 'frozenset'",
     "output_type": "error",
     "traceback": [
      "\u001b[1;31m---------------------------------------------------------------------------\u001b[0m",
      "\u001b[1;31mTypeError\u001b[0m                                 Traceback (most recent call last)",
      "\u001b[1;32m<ipython-input-51-a9cde37c6716>\u001b[0m in \u001b[0;36m<module>\u001b[1;34m\u001b[0m\n\u001b[1;32m----> 1\u001b[1;33m \u001b[0mfset1\u001b[0m \u001b[1;33m+\u001b[0m \u001b[0mfset2\u001b[0m\u001b[1;33m\u001b[0m\u001b[1;33m\u001b[0m\u001b[0m\n\u001b[0m",
      "\u001b[1;31mTypeError\u001b[0m: unsupported operand type(s) for +: 'frozenset' and 'frozenset'"
     ]
    }
   ],
   "source": [
    "fset1 + fset2"
   ]
  },
  {
   "cell_type": "code",
   "execution_count": 52,
   "metadata": {},
   "outputs": [
    {
     "ename": "TypeError",
     "evalue": "unsupported operand type(s) for +: 'frozenset' and 'frozenset'",
     "output_type": "error",
     "traceback": [
      "\u001b[1;31m---------------------------------------------------------------------------\u001b[0m",
      "\u001b[1;31mTypeError\u001b[0m                                 Traceback (most recent call last)",
      "\u001b[1;32m<ipython-input-52-9fba73ce3906>\u001b[0m in \u001b[0;36m<module>\u001b[1;34m\u001b[0m\n\u001b[1;32m----> 1\u001b[1;33m \u001b[0mfset3\u001b[0m \u001b[1;33m=\u001b[0m \u001b[0mfset1\u001b[0m\u001b[1;33m+\u001b[0m\u001b[0mfset2\u001b[0m\u001b[1;33m\u001b[0m\u001b[1;33m\u001b[0m\u001b[0m\n\u001b[0m",
      "\u001b[1;31mTypeError\u001b[0m: unsupported operand type(s) for +: 'frozenset' and 'frozenset'"
     ]
    }
   ],
   "source": [
    "fset3 = fset1+fset2"
   ]
  },
  {
   "cell_type": "code",
   "execution_count": null,
   "metadata": {},
   "outputs": [],
   "source": [
    "#Though we can perform some operations on frozensets which will all create new frozenset objects. More on that later."
   ]
  },
  {
   "cell_type": "code",
   "execution_count": 53,
   "metadata": {},
   "outputs": [
    {
     "name": "stdout",
     "output_type": "stream",
     "text": [
      "frozenset({'a', 'c', 'e', 'b', 'd'})\n"
     ]
    }
   ],
   "source": [
    "lst1 = list('abcde')\n",
    "\n",
    "fset3 = frozenset(lst1)\n",
    "\n",
    "print(fset3)"
   ]
  },
  {
   "cell_type": "code",
   "execution_count": 54,
   "metadata": {},
   "outputs": [
    {
     "name": "stdout",
     "output_type": "stream",
     "text": [
      "frozenset({'a', 'c', 'e', 'b', 'd'})\n"
     ]
    }
   ],
   "source": [
    "tup1 = tuple('abcde')\n",
    "\n",
    "fset4 = frozenset(tup1)\n",
    "print(fset4)"
   ]
  },
  {
   "cell_type": "code",
   "execution_count": 55,
   "metadata": {},
   "outputs": [
    {
     "name": "stdout",
     "output_type": "stream",
     "text": [
      "{'a': None, 'b': None, 'c': None, 'd': None, 'e': None}\n"
     ]
    }
   ],
   "source": [
    "dict1 = dict.fromkeys(tup1)\n",
    "\n",
    "print(dict1)"
   ]
  },
  {
   "cell_type": "code",
   "execution_count": 56,
   "metadata": {},
   "outputs": [
    {
     "name": "stdout",
     "output_type": "stream",
     "text": [
      "frozenset({'e', 'a', 'b', 'c', 'd'})\n"
     ]
    }
   ],
   "source": [
    "fset5 = frozenset(dict1)\n",
    "\n",
    "print(fset5)"
   ]
  },
  {
   "cell_type": "code",
   "execution_count": 57,
   "metadata": {},
   "outputs": [
    {
     "name": "stdout",
     "output_type": "stream",
     "text": [
      "(('a', None), ('b', None), ('c', None), ('d', None), ('e', None))\n"
     ]
    }
   ],
   "source": [
    "#As you will see, frozenset takes only the key values of the dictionary. Though we could convert the key, value pairs to \n",
    "# tuples and then put them in a frozenset. \n",
    "\n",
    "tup2 = tuple(dict1.items())\n",
    "print(tup2)"
   ]
  },
  {
   "cell_type": "code",
   "execution_count": 58,
   "metadata": {},
   "outputs": [
    {
     "name": "stdout",
     "output_type": "stream",
     "text": [
      "frozenset({('b', None), ('e', None), ('c', None), ('d', None), ('a', None)})\n"
     ]
    }
   ],
   "source": [
    "fset6 = frozenset(tup2)\n",
    "\n",
    "print(fset6)"
   ]
  },
  {
   "cell_type": "code",
   "execution_count": 59,
   "metadata": {},
   "outputs": [
    {
     "ename": "TypeError",
     "evalue": "unhashable type: 'list'",
     "output_type": "error",
     "traceback": [
      "\u001b[1;31m---------------------------------------------------------------------------\u001b[0m",
      "\u001b[1;31mTypeError\u001b[0m                                 Traceback (most recent call last)",
      "\u001b[1;32m<ipython-input-59-dedd8cabbcea>\u001b[0m in \u001b[0;36m<module>\u001b[1;34m\u001b[0m\n\u001b[0;32m      1\u001b[0m \u001b[0mlst3\u001b[0m \u001b[1;33m=\u001b[0m \u001b[1;33m[\u001b[0m\u001b[1;36m1\u001b[0m\u001b[1;33m,\u001b[0m\u001b[1;36m2\u001b[0m\u001b[1;33m,\u001b[0m\u001b[1;36m3\u001b[0m\u001b[1;33m,\u001b[0m\u001b[1;36m4\u001b[0m\u001b[1;33m,\u001b[0m\u001b[1;33m[\u001b[0m\u001b[1;36m5\u001b[0m\u001b[1;33m,\u001b[0m\u001b[1;36m6\u001b[0m\u001b[1;33m,\u001b[0m\u001b[1;36m7\u001b[0m\u001b[1;33m]\u001b[0m\u001b[1;33m,\u001b[0m\u001b[1;36m8\u001b[0m\u001b[1;33m,\u001b[0m\u001b[1;36m9\u001b[0m\u001b[1;33m]\u001b[0m\u001b[1;33m\u001b[0m\u001b[1;33m\u001b[0m\u001b[0m\n\u001b[0;32m      2\u001b[0m \u001b[1;33m\u001b[0m\u001b[0m\n\u001b[1;32m----> 3\u001b[1;33m \u001b[0mfset7\u001b[0m \u001b[1;33m=\u001b[0m \u001b[0mfrozenset\u001b[0m\u001b[1;33m(\u001b[0m\u001b[0mlst3\u001b[0m\u001b[1;33m)\u001b[0m\u001b[1;33m\u001b[0m\u001b[1;33m\u001b[0m\u001b[0m\n\u001b[0m",
      "\u001b[1;31mTypeError\u001b[0m: unhashable type: 'list'"
     ]
    }
   ],
   "source": [
    "lst3 = [1,2,3,4,[5,6,7],8,9]\n",
    "\n",
    "fset7 = frozenset(lst3)"
   ]
  },
  {
   "cell_type": "code",
   "execution_count": 60,
   "metadata": {},
   "outputs": [
    {
     "name": "stdout",
     "output_type": "stream",
     "text": [
      "frozenset({'a', 'c', 'e', 'b', 'd'})\n",
      "frozenset({'j', 'c', 'g', 'e', 'f', 'i', 'd', 'h'})\n",
      "frozenset({'j', 'a', 'c', 'g', 'e', 'f', 'b', 'i', 'd', 'h'})\n"
     ]
    }
   ],
   "source": [
    "#Note - just like with sets - we cannot trick frozenset to accept a mutable object as its element. Once frozenset is created\n",
    "# it cannot be modified. It is very useful when we want to save sensitive information, like in cybersecurity or in \n",
    "# identity management on financial applications or government official information. Once saved the frozenset object\n",
    "# associated with a user or id, has to be completely replaced in case of modificiations. \n",
    "\n",
    "#However, we can perform certain operations on sets. \n",
    "\n",
    "fset1 = frozenset('abcde')\n",
    "fset2 = frozenset('cdefghij')\n",
    "\n",
    "fset3 = fset1.union(fset2)\n",
    "\n",
    "print(fset1)\n",
    "print(fset2)\n",
    "print(fset3)"
   ]
  },
  {
   "cell_type": "code",
   "execution_count": 61,
   "metadata": {},
   "outputs": [
    {
     "name": "stdout",
     "output_type": "stream",
     "text": [
      "frozenset({'j', 'a', 'c', 'g', 'e', 'f', 'b', 'i', 'd', 'h'})\n"
     ]
    }
   ],
   "source": [
    "fset3x = fset1 | fset2\n",
    "\n",
    "print(fset3x)"
   ]
  },
  {
   "cell_type": "code",
   "execution_count": 62,
   "metadata": {},
   "outputs": [
    {
     "name": "stdout",
     "output_type": "stream",
     "text": [
      "frozenset({'y', 'j', 'x', 'a', 'c', 'z', 'g', 'e', 'f', 'b', 'i', 'd', 'h'})\n"
     ]
    }
   ],
   "source": [
    "fset4 = frozenset('xyz')\n",
    "\n",
    "fset3y = fset1.union(fset2, fset4)\n",
    "\n",
    "print(fset3y)"
   ]
  },
  {
   "cell_type": "code",
   "execution_count": 63,
   "metadata": {},
   "outputs": [
    {
     "name": "stdout",
     "output_type": "stream",
     "text": [
      "frozenset({'y', 'j', 'x', 'a', 'c', 'z', 'g', 'e', 'f', 'b', 'i', 'd', 'h'})\n"
     ]
    }
   ],
   "source": [
    "fset3xx = fset1 | fset2 | fset4\n",
    "\n",
    "\n",
    "print(fset3xx)\n",
    "\n",
    "#Multiple union operations are possible with both the method and the operator."
   ]
  },
  {
   "cell_type": "code",
   "execution_count": 64,
   "metadata": {},
   "outputs": [
    {
     "name": "stdout",
     "output_type": "stream",
     "text": [
      "frozenset({'j', 'a', 'g', 'e', 'b', 'i', 'c', 'f', 'd', 'h'})\n"
     ]
    }
   ],
   "source": [
    "fset1 = frozenset('abcde')\n",
    "lst2 = list('fghij')\n",
    "\n",
    "fset2 = fset1.union(lst2)\n",
    "\n",
    "print(fset2)"
   ]
  },
  {
   "cell_type": "code",
   "execution_count": 65,
   "metadata": {},
   "outputs": [
    {
     "ename": "TypeError",
     "evalue": "unsupported operand type(s) for |: 'frozenset' and 'list'",
     "output_type": "error",
     "traceback": [
      "\u001b[1;31m---------------------------------------------------------------------------\u001b[0m",
      "\u001b[1;31mTypeError\u001b[0m                                 Traceback (most recent call last)",
      "\u001b[1;32m<ipython-input-65-915b6ed19b5d>\u001b[0m in \u001b[0;36m<module>\u001b[1;34m\u001b[0m\n\u001b[1;32m----> 1\u001b[1;33m \u001b[0mfset3\u001b[0m \u001b[1;33m=\u001b[0m \u001b[0mfset1\u001b[0m \u001b[1;33m|\u001b[0m \u001b[0mlst2\u001b[0m\u001b[1;33m\u001b[0m\u001b[1;33m\u001b[0m\u001b[0m\n\u001b[0m\u001b[0;32m      2\u001b[0m \u001b[1;33m\u001b[0m\u001b[0m\n\u001b[0;32m      3\u001b[0m \u001b[0mprint\u001b[0m\u001b[1;33m(\u001b[0m\u001b[0mfset3\u001b[0m\u001b[1;33m)\u001b[0m\u001b[1;33m\u001b[0m\u001b[1;33m\u001b[0m\u001b[0m\n",
      "\u001b[1;31mTypeError\u001b[0m: unsupported operand type(s) for |: 'frozenset' and 'list'"
     ]
    }
   ],
   "source": [
    "fset3 = fset1 | lst2\n",
    "\n",
    "print(fset3)"
   ]
  },
  {
   "cell_type": "code",
   "execution_count": null,
   "metadata": {},
   "outputs": [],
   "source": [
    "#As with sets, the operator does not allow other datatypes to perform the union function. "
   ]
  },
  {
   "cell_type": "markdown",
   "metadata": {},
   "source": [
    "#### Going forward, please hold true that operators between derived datatypes will not permit operations between different\n",
    "#### datatypes (Except the * operator in the case of lists and tuples - where duplicate elements is not an issue - which \n",
    "#### performs a multiplication operation between the elements of the datatype and the integer). <For dictionaries, sets and \n",
    "#### frozensets - since the elements must be unique - the multiplication operator is not available.\n",
    "\n",
    "### As such, will not be performing tests of operators between different datatypes. "
   ]
  },
  {
   "cell_type": "code",
   "execution_count": 66,
   "metadata": {},
   "outputs": [
    {
     "name": "stdout",
     "output_type": "stream",
     "text": [
      "frozenset({'c', 'e', 'd'})\n"
     ]
    }
   ],
   "source": [
    "#Intersection\n",
    "\n",
    "fset1 = frozenset('abcde')\n",
    "fset2 = frozenset('cdefghij')\n",
    "fset3 = frozenset('cdexyz')\n",
    "\n",
    "fset4 = fset1.intersection(fset2, fset3)\n",
    "\n",
    "print(fset4)"
   ]
  },
  {
   "cell_type": "code",
   "execution_count": 67,
   "metadata": {},
   "outputs": [
    {
     "name": "stdout",
     "output_type": "stream",
     "text": [
      "frozenset({'c', 'e', 'd'})\n"
     ]
    }
   ],
   "source": [
    "fset5 = fset1 & fset2 & fset3\n",
    "\n",
    "print(fset5)"
   ]
  },
  {
   "cell_type": "code",
   "execution_count": 68,
   "metadata": {},
   "outputs": [
    {
     "name": "stdout",
     "output_type": "stream",
     "text": [
      "frozenset({'a', 'b'})\n"
     ]
    }
   ],
   "source": [
    "#Difference.  \n",
    "\n",
    "fset6 = fset1.difference(fset2)\n",
    "\n",
    "print(fset6)\n",
    "\n"
   ]
  },
  {
   "cell_type": "code",
   "execution_count": 69,
   "metadata": {},
   "outputs": [
    {
     "name": "stdout",
     "output_type": "stream",
     "text": [
      "frozenset({'a', 'b'})\n"
     ]
    }
   ],
   "source": [
    "fset6 = fset1 - fset2\n",
    "\n",
    "print(fset6)"
   ]
  },
  {
   "cell_type": "code",
   "execution_count": 70,
   "metadata": {},
   "outputs": [
    {
     "name": "stdout",
     "output_type": "stream",
     "text": [
      "frozenset({'a', 'b'})\n"
     ]
    }
   ],
   "source": [
    "fset7 = fset1.difference(fset2, fset3)\n",
    "print(fset7)"
   ]
  },
  {
   "cell_type": "code",
   "execution_count": 71,
   "metadata": {},
   "outputs": [
    {
     "name": "stdout",
     "output_type": "stream",
     "text": [
      "frozenset({'a', 'b'})\n"
     ]
    }
   ],
   "source": [
    "fset8 = fset1 - fset2 - fset3\n",
    "\n",
    "print(fset8)"
   ]
  },
  {
   "cell_type": "code",
   "execution_count": 72,
   "metadata": {},
   "outputs": [
    {
     "name": "stdout",
     "output_type": "stream",
     "text": [
      "frozenset({'a', 'g', 'f', 'i', 'b', 'h'})\n"
     ]
    }
   ],
   "source": [
    "#Symmetric difference. Can only be performed between two sets. Not more. \n",
    "\n",
    "fset1 = frozenset('abcde')\n",
    "fset2 = frozenset('cdefghi')\n",
    "\n",
    "fset3 = fset1.symmetric_difference(fset2)\n",
    "\n",
    "print(fset3)"
   ]
  },
  {
   "cell_type": "code",
   "execution_count": 73,
   "metadata": {},
   "outputs": [
    {
     "name": "stdout",
     "output_type": "stream",
     "text": [
      "frozenset({'a', 'g', 'f', 'i', 'b', 'h'})\n"
     ]
    }
   ],
   "source": [
    "fset4 = fset1 ^ fset2\n",
    "\n",
    "print(fset4)"
   ]
  },
  {
   "cell_type": "code",
   "execution_count": 74,
   "metadata": {},
   "outputs": [
    {
     "ename": "TypeError",
     "evalue": "symmetric_difference() takes exactly one argument (2 given)",
     "output_type": "error",
     "traceback": [
      "\u001b[1;31m---------------------------------------------------------------------------\u001b[0m",
      "\u001b[1;31mTypeError\u001b[0m                                 Traceback (most recent call last)",
      "\u001b[1;32m<ipython-input-74-fd837dc4ecf2>\u001b[0m in \u001b[0;36m<module>\u001b[1;34m\u001b[0m\n\u001b[0;32m      1\u001b[0m \u001b[0mfset5\u001b[0m \u001b[1;33m=\u001b[0m \u001b[0mfrozenset\u001b[0m\u001b[1;33m(\u001b[0m\u001b[1;34m'xyz'\u001b[0m\u001b[1;33m)\u001b[0m\u001b[1;33m\u001b[0m\u001b[1;33m\u001b[0m\u001b[0m\n\u001b[0;32m      2\u001b[0m \u001b[1;33m\u001b[0m\u001b[0m\n\u001b[1;32m----> 3\u001b[1;33m \u001b[0mfset6\u001b[0m \u001b[1;33m=\u001b[0m \u001b[0mfset1\u001b[0m\u001b[1;33m.\u001b[0m\u001b[0msymmetric_difference\u001b[0m\u001b[1;33m(\u001b[0m\u001b[0mfset2\u001b[0m\u001b[1;33m,\u001b[0m\u001b[0mfset5\u001b[0m\u001b[1;33m)\u001b[0m\u001b[1;33m\u001b[0m\u001b[1;33m\u001b[0m\u001b[0m\n\u001b[0m\u001b[0;32m      4\u001b[0m \u001b[1;33m\u001b[0m\u001b[0m\n\u001b[0;32m      5\u001b[0m \u001b[0mprint\u001b[0m\u001b[1;33m(\u001b[0m\u001b[0mfset6\u001b[0m\u001b[1;33m)\u001b[0m\u001b[1;33m\u001b[0m\u001b[1;33m\u001b[0m\u001b[0m\n",
      "\u001b[1;31mTypeError\u001b[0m: symmetric_difference() takes exactly one argument (2 given)"
     ]
    }
   ],
   "source": [
    "fset5 = frozenset('xyz')\n",
    "\n",
    "fset6 = fset1.symmetric_difference(fset2,fset5)\n",
    "\n",
    "print(fset6)"
   ]
  },
  {
   "cell_type": "code",
   "execution_count": null,
   "metadata": {},
   "outputs": [],
   "source": []
  }
 ],
 "metadata": {
  "kernelspec": {
   "display_name": "Python 3",
   "language": "python",
   "name": "python3"
  },
  "language_info": {
   "codemirror_mode": {
    "name": "ipython",
    "version": 3
   },
   "file_extension": ".py",
   "mimetype": "text/x-python",
   "name": "python",
   "nbconvert_exporter": "python",
   "pygments_lexer": "ipython3",
   "version": "3.8.3"
  }
 },
 "nbformat": 4,
 "nbformat_minor": 5
}
