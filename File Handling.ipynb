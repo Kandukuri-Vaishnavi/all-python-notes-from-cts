{
 "cells": [
  {
   "cell_type": "markdown",
   "metadata": {},
   "source": [
    "# File Handling"
   ]
  },
  {
   "cell_type": "code",
   "execution_count": 1,
   "metadata": {},
   "outputs": [],
   "source": [
    "# Whether in real life or in the digital world - we use files to store data. Files are a collection of data which can be\n",
    "# stored, extracted and manipulated. \n",
    "\n",
    "# Python allows us to handle two types of files:\n",
    "\n",
    "# Text - where the information is stored as a sequence of characters\n",
    "# Binary - where the data is stored in Bytes(8 bit sequences)\n",
    "\n",
    "# Internally, even text in text files is stored as bytes. However, we can operate directly in text form on Text files unlike\n",
    "# binary files which are used to store text, images, video, audio and other types of files. \n",
    "\n",
    "# Each line of code in a file terminates with an End Of Line (EOL) character, '\\n' by default in Python, but different\n",
    "# for different operating systems (e.g. '\\r\\n' in Windows. Internally, Python will change the '\\r\\n' to '\\n' when it is \n",
    "# run. \n",
    "\n",
    "# Previously End of File markers were used to indicate the End Of File. As per my understanding, since a couple of decades\n",
    "# now, end of file is handled by most languages by checking the length. You may still encounter the 'End Of File (EOF)' \n",
    "# word but as far as I know - there is no particular marker any more. \n",
    "\n",
    "\n"
   ]
  },
  {
   "cell_type": "code",
   "execution_count": 2,
   "metadata": {},
   "outputs": [],
   "source": [
    "# When opening a file for performing operations on them in Python - we open the file characters specifying what operations\n",
    "# we are permitting to be performed on the file at the time of opening. This is called the 'mode'"
   ]
  },
  {
   "cell_type": "code",
   "execution_count": 3,
   "metadata": {},
   "outputs": [],
   "source": [
    "# Operations permitted  Text Mode  Binary Mode  Handle Position     Notes\n",
    "\n",
    "# read only             'r'        'rb'         Beginning of file   Default mode of file opening. If file does not exist, \n",
    "#                                                                   raises an I/O error.\n",
    "# read and write        'r+'       'rb+'        Beginning of file   If file does not exist, raises an I/O error. By default,\n",
    "#                                                                   any write operations are performed at beginning of file.\n",
    "# write only            'w'        'wb'         Beginning of file   If file exists, truncates file(deletes all contents)\n",
    "#                                                                   else creates a file for writing into\n",
    "# write and read        'w+'       'wb+'        Beginning of file   If file exists, truncates file(deletes all contents)\n",
    "#                                                                   else creates a file for writing into\n",
    "# append                'a'        'ab'         End of file         If file does not exist, creates file. New data \n",
    "#                                                                   will be written at end of file. \n",
    "# append and read       'a+'       'ab+'        End of file         If file does not exist, creates file.\n",
    "\n",
    "# Exclusive creation     'x'        'xb'        Beginning of file   Opens a file for exclusive creation(new file). If \n",
    "#                                                                   the file already exists raises an error. \n",
    "# Text mode              't'                    Beginning of file   Default mode. You could say, a file without mode\n",
    "#                                                                   specified opens a file in Text mode for reading (both\n",
    "#                                                                   are defaults)\n",
    "\n",
    "# Please remember that handle(cursor) position mentioned above are Default positions. However, once operations have been \n",
    "# performed and cursor has been moved - write, read operations are performed from the current cursor position. \n"
   ]
  },
  {
   "cell_type": "code",
   "execution_count": 4,
   "metadata": {},
   "outputs": [
    {
     "ename": "FileNotFoundError",
     "evalue": "[Errno 2] No such file or directory: 'animal_jokes.txt'",
     "output_type": "error",
     "traceback": [
      "\u001b[1;31m---------------------------------------------------------------------------\u001b[0m",
      "\u001b[1;31mFileNotFoundError\u001b[0m                         Traceback (most recent call last)",
      "\u001b[1;32m<ipython-input-4-d7d95e6e7112>\u001b[0m in \u001b[0;36m<module>\u001b[1;34m\u001b[0m\n\u001b[0;32m      3\u001b[0m \u001b[1;31m#<variable_name> = open(file_name, mode)\u001b[0m\u001b[1;33m\u001b[0m\u001b[1;33m\u001b[0m\u001b[1;33m\u001b[0m\u001b[0m\n\u001b[0;32m      4\u001b[0m \u001b[1;33m\u001b[0m\u001b[0m\n\u001b[1;32m----> 5\u001b[1;33m \u001b[0mf\u001b[0m \u001b[1;33m=\u001b[0m \u001b[0mopen\u001b[0m\u001b[1;33m(\u001b[0m\u001b[1;34m'animal_jokes.txt'\u001b[0m\u001b[1;33m,\u001b[0m \u001b[1;34m'r'\u001b[0m\u001b[1;33m)\u001b[0m\u001b[1;33m\u001b[0m\u001b[1;33m\u001b[0m\u001b[0m\n\u001b[0m\u001b[0;32m      6\u001b[0m \u001b[0mprint\u001b[0m\u001b[1;33m(\u001b[0m\u001b[0mf\u001b[0m\u001b[1;33m)\u001b[0m\u001b[1;33m\u001b[0m\u001b[1;33m\u001b[0m\u001b[0m\n\u001b[0;32m      7\u001b[0m \u001b[0mf\u001b[0m\u001b[1;33m.\u001b[0m\u001b[0mclose\u001b[0m\u001b[1;33m(\u001b[0m\u001b[1;33m)\u001b[0m\u001b[1;33m\u001b[0m\u001b[1;33m\u001b[0m\u001b[0m\n",
      "\u001b[1;31mFileNotFoundError\u001b[0m: [Errno 2] No such file or directory: 'animal_jokes.txt'"
     ]
    }
   ],
   "source": [
    "# To open a file we use the open function with the following syntax:\n",
    "\n",
    "#<variable_name> = open(file_name, mode)\n",
    "\n",
    "f = open('animal_jokes.txt', 'r')\n",
    "print(f)\n",
    "f.close()"
   ]
  },
  {
   "cell_type": "code",
   "execution_count": 5,
   "metadata": {},
   "outputs": [
    {
     "ename": "FileNotFoundError",
     "evalue": "[Errno 2] No such file or directory: 'animal_jokes.txt'",
     "output_type": "error",
     "traceback": [
      "\u001b[1;31m---------------------------------------------------------------------------\u001b[0m",
      "\u001b[1;31mFileNotFoundError\u001b[0m                         Traceback (most recent call last)",
      "\u001b[1;32m<ipython-input-5-a06d7bfdfc4e>\u001b[0m in \u001b[0;36m<module>\u001b[1;34m\u001b[0m\n\u001b[1;32m----> 1\u001b[1;33m \u001b[0mf\u001b[0m \u001b[1;33m=\u001b[0m \u001b[0mopen\u001b[0m\u001b[1;33m(\u001b[0m\u001b[1;34m'animal_jokes.txt'\u001b[0m\u001b[1;33m,\u001b[0m \u001b[1;34m'r'\u001b[0m\u001b[1;33m)\u001b[0m\u001b[1;33m\u001b[0m\u001b[1;33m\u001b[0m\u001b[0m\n\u001b[0m\u001b[0;32m      2\u001b[0m \u001b[1;32mfor\u001b[0m \u001b[0mx\u001b[0m \u001b[1;32min\u001b[0m \u001b[0mf\u001b[0m\u001b[1;33m.\u001b[0m\u001b[0mreadlines\u001b[0m\u001b[1;33m(\u001b[0m\u001b[1;33m)\u001b[0m\u001b[1;33m:\u001b[0m\u001b[1;33m\u001b[0m\u001b[1;33m\u001b[0m\u001b[0m\n\u001b[0;32m      3\u001b[0m     \u001b[0mprint\u001b[0m\u001b[1;33m(\u001b[0m\u001b[0mx\u001b[0m\u001b[1;33m)\u001b[0m\u001b[1;33m\u001b[0m\u001b[1;33m\u001b[0m\u001b[0m\n\u001b[0;32m      4\u001b[0m \u001b[0mf\u001b[0m\u001b[1;33m.\u001b[0m\u001b[0mclose\u001b[0m\u001b[1;33m(\u001b[0m\u001b[1;33m)\u001b[0m\u001b[1;33m\u001b[0m\u001b[1;33m\u001b[0m\u001b[0m\n",
      "\u001b[1;31mFileNotFoundError\u001b[0m: [Errno 2] No such file or directory: 'animal_jokes.txt'"
     ]
    }
   ],
   "source": [
    "f = open('animal_jokes.txt', 'r')\n",
    "for x in f.readlines():\n",
    "    print(x)\n",
    "f.close()"
   ]
  },
  {
   "cell_type": "code",
   "execution_count": 6,
   "metadata": {},
   "outputs": [],
   "source": [
    "# The open function takes several parameters. Some of these are:\n",
    "\n",
    "#1. File name as string - mandatory\n",
    "#2. Mode - optional. If not specified opens as a text file in read only mode. \n",
    "#3. Buffer size - optional - Default is system dependent (usually 4096 or 8192 bytes). 0 means no buffering, 1 means until\n",
    "# new line. Otherwise buffersize can be specified.\n",
    "#4. Encoding - Optional Specifies encoding (Unicode - <UTF8,UTF16, UTF32>, ascii, cp1252 etc.)\n",
    "#5. Errors - Optional - \n",
    "#   'strict’ (Default) - raises an UnicodeError exception on failure\n",
    "#   ‘backslashreplace’ - the unencodable character is replaced by a backslash\n",
    "#   ‘ignore’ - the unencodable character is ignored\n",
    "#   ‘namereplace’ - the unencodable character is replaced by its name\n",
    "#   ‘replace’ - the unencodable character is replaced by questionmark\n",
    "#   ‘xmlcharrefreplace’ - the unencodable character is replaced by an xml characterine\n",
    "\n",
    "# Buffering is storing the information from the input(writing to file) into a buffer and not directly sending it to the file\n",
    "# Therefore, if 1 is specified as the buffer, then input is written to file once a newline is reached. If a buffer size of\n",
    "# 500 is specified, when the buffer is full, input is written to file. If 0 is specified, then buffering is off and files\n",
    "# are written directly to the file. By default, writing to the file happens when file object is closed(removed from\n",
    "# temporary memory).\n",
    "\n",
    "# It is useful when using large file sizes with high latency (i.e. input from source is slow, then with buffering the \n",
    "# program has to make fewer system calls to write and program speed is faster). On the other hand, working with large file\n",
    "# sizes with fast streaming data may overflow the buffer causing a system issue (like a crash).\n",
    "\n",
    "# The effects of buffering will not be visible until we have huge file sizes and/or latency - therefore, we shall skip \n",
    "# examples of buffering parameter.\n",
    "\n",
    "#Encoding and errors - parameters are the same as for bytes objects.\n",
    "\n"
   ]
  },
  {
   "cell_type": "code",
   "execution_count": 7,
   "metadata": {},
   "outputs": [],
   "source": [
    "# We need to open the file saved on our hard disk in primary(RAM) memory for working on the file. Therefore, the need to \n",
    "# specify a variable to create the file object and perform operations. Several methods can now be applied to this file\n",
    "# object"
   ]
  },
  {
   "cell_type": "code",
   "execution_count": 8,
   "metadata": {},
   "outputs": [
    {
     "ename": "FileNotFoundError",
     "evalue": "[Errno 2] No such file or directory: 'animal_jokes.txt'",
     "output_type": "error",
     "traceback": [
      "\u001b[1;31m---------------------------------------------------------------------------\u001b[0m",
      "\u001b[1;31mFileNotFoundError\u001b[0m                         Traceback (most recent call last)",
      "\u001b[1;32m<ipython-input-8-dbdf0d0086b1>\u001b[0m in \u001b[0;36m<module>\u001b[1;34m\u001b[0m\n\u001b[0;32m      6\u001b[0m \u001b[1;31m# closed the file properly), it is good practice to build in exception handling as follows :\u001b[0m\u001b[1;33m\u001b[0m\u001b[1;33m\u001b[0m\u001b[1;33m\u001b[0m\u001b[0m\n\u001b[0;32m      7\u001b[0m \u001b[1;33m\u001b[0m\u001b[0m\n\u001b[1;32m----> 8\u001b[1;33m \u001b[0mf\u001b[0m \u001b[1;33m=\u001b[0m \u001b[0mopen\u001b[0m\u001b[1;33m(\u001b[0m\u001b[1;34m'animal_jokes.txt'\u001b[0m\u001b[1;33m,\u001b[0m \u001b[1;34m'r'\u001b[0m\u001b[1;33m)\u001b[0m\u001b[1;33m\u001b[0m\u001b[1;33m\u001b[0m\u001b[0m\n\u001b[0m\u001b[0;32m      9\u001b[0m \u001b[1;32mtry\u001b[0m\u001b[1;33m:\u001b[0m\u001b[1;33m\u001b[0m\u001b[1;33m\u001b[0m\u001b[0m\n\u001b[0;32m     10\u001b[0m     \u001b[0mdata\u001b[0m \u001b[1;33m=\u001b[0m \u001b[0mf\u001b[0m\u001b[1;33m.\u001b[0m\u001b[0mread\u001b[0m\u001b[1;33m(\u001b[0m\u001b[1;33m)\u001b[0m\u001b[1;33m\u001b[0m\u001b[1;33m\u001b[0m\u001b[0m\n",
      "\u001b[1;31mFileNotFoundError\u001b[0m: [Errno 2] No such file or directory: 'animal_jokes.txt'"
     ]
    }
   ],
   "source": [
    "# open files need to be closed with the close function using the following syntax:\n",
    "\n",
    "# <variable_name>.close()\n",
    "\n",
    "# However, to ensure that in case of any errors that data is not lost or files do not get corrupted (since we have not\n",
    "# closed the file properly), it is good practice to build in exception handling as follows : \n",
    "\n",
    "f = open('animal_jokes.txt', 'r')\n",
    "try:\n",
    "    data = f.read()\n",
    "    print(data)\n",
    "finally:\n",
    "    f.close()"
   ]
  },
  {
   "cell_type": "code",
   "execution_count": null,
   "metadata": {},
   "outputs": [],
   "source": [
    "#An alternate way to open files is with the 'with' keyword which opens a context manager. Internally, the context manager\n",
    "# calls the __enter__ constructor and open the files with this context and upon completing the execution automatically calls\n",
    "# the __exit__ constructor to close the file. \n",
    "\n",
    "with open('animal_jokes.txt', 'r') as f:\n",
    "    for x in f.readlines(50):\n",
    "        print(x)\n",
    "        \n",
    "print(f.closed)"
   ]
  },
  {
   "cell_type": "code",
   "execution_count": null,
   "metadata": {},
   "outputs": [],
   "source": [
    "# As you can notice the file has already been closed."
   ]
  },
  {
   "cell_type": "code",
   "execution_count": null,
   "metadata": {},
   "outputs": [],
   "source": [
    "f = open('animal_jokes.txt', 'r')\n",
    "for x in f.readlines(50):\n",
    "    print(x)\n",
    "    \n",
    "print(f.closed)\n",
    "\n",
    "print(f'Closing file object, {f.close()}.')\n",
    "\n",
    "print(f.closed)"
   ]
  },
  {
   "cell_type": "code",
   "execution_count": null,
   "metadata": {},
   "outputs": [],
   "source": [
    "# Opening file without default mode. \n",
    "\n",
    "with open('animal_jokes.txt') as f:\n",
    "    for x in f.readlines(200):\n",
    "        print(x)\n",
    "    f.write('XYZ')"
   ]
  },
  {
   "cell_type": "code",
   "execution_count": null,
   "metadata": {},
   "outputs": [],
   "source": [
    "# As we can see a text file with read only permissions has been opened which when we tried to write to gave us an\n",
    "# UnsupportedOperation error : 'not writable'"
   ]
  },
  {
   "cell_type": "code",
   "execution_count": null,
   "metadata": {},
   "outputs": [],
   "source": [
    "with open('animal_jokes.txt', 'r') as f:\n",
    "    for x in f.readlines(200):\n",
    "        print(x)"
   ]
  },
  {
   "cell_type": "code",
   "execution_count": null,
   "metadata": {},
   "outputs": [],
   "source": [
    "with open('animal_jokes.txt', 'r') as f:\n",
    "    f.write('\\nXYZ')"
   ]
  },
  {
   "cell_type": "code",
   "execution_count": null,
   "metadata": {},
   "outputs": [],
   "source": [
    "# As with default mode (i.e without specifying 'r', we cannot write to the file)"
   ]
  },
  {
   "cell_type": "code",
   "execution_count": null,
   "metadata": {},
   "outputs": [],
   "source": [
    "with open('animal_jokes.txt', 'r+') as f:\n",
    "    f.write('\\nXYZ')\n",
    "    "
   ]
  },
  {
   "cell_type": "code",
   "execution_count": null,
   "metadata": {},
   "outputs": [],
   "source": [
    "with open('animal_jokes.txt', 'r') as f:\n",
    "    for x in f.readlines():\n",
    "        print(x)"
   ]
  },
  {
   "cell_type": "code",
   "execution_count": null,
   "metadata": {},
   "outputs": [],
   "source": [
    "# opening files in write only mode. \n",
    "\n",
    "with open('animal_jokes.txt', 'w') as f:\n",
    "    f.write('\\nXYZ')"
   ]
  },
  {
   "cell_type": "code",
   "execution_count": null,
   "metadata": {},
   "outputs": [],
   "source": [
    "with open('animal_jokes.txt', 'r') as f:\n",
    "    for x in f.readlines():\n",
    "        print(x)"
   ]
  },
  {
   "cell_type": "code",
   "execution_count": null,
   "metadata": {},
   "outputs": [],
   "source": [
    "with open('animal_jokes.txt', 'w') as f:\n",
    "    for x in f.readlines():\n",
    "        print(x)"
   ]
  },
  {
   "cell_type": "code",
   "execution_count": null,
   "metadata": {},
   "outputs": [],
   "source": [
    "# Note the not readable error."
   ]
  },
  {
   "cell_type": "code",
   "execution_count": null,
   "metadata": {},
   "outputs": [],
   "source": [
    "with open('animal_jokes.txt', 'w+') as f:\n",
    "    for x in f.readlines():\n",
    "        print(x)\n",
    "    "
   ]
  },
  {
   "cell_type": "code",
   "execution_count": null,
   "metadata": {},
   "outputs": [],
   "source": [
    "# Note how there is no output - because w and w+ erase the contents of the file when opening in these modes. Therefore in\n",
    "# the second example also we have no content to read."
   ]
  },
  {
   "cell_type": "code",
   "execution_count": null,
   "metadata": {},
   "outputs": [],
   "source": [
    "# Re-writing the text to the animals_jokes file using multiple with open\n",
    "\n",
    "with open('animal_jokes.txt', 'w+') as aj, open('animal_jokes_Copy.txt', 'r') as ajCopy:\n",
    "    data = ajCopy.readlines()\n",
    "    aj.writelines(data)\n"
   ]
  },
  {
   "cell_type": "code",
   "execution_count": null,
   "metadata": {},
   "outputs": [],
   "source": [
    "#Write mode to create a file"
   ]
  },
  {
   "cell_type": "code",
   "execution_count": null,
   "metadata": {},
   "outputs": [],
   "source": [
    "with open('New_file.txt', 'w') as nf:\n",
    "    nf.write('This is a new file')\n"
   ]
  },
  {
   "cell_type": "code",
   "execution_count": null,
   "metadata": {},
   "outputs": [],
   "source": [
    "with open('New_file.txt', 'r') as nf:\n",
    "    for x in nf:\n",
    "        print(x)"
   ]
  },
  {
   "cell_type": "code",
   "execution_count": null,
   "metadata": {},
   "outputs": [],
   "source": [
    "# w+ mode to create a file\n",
    "with open('New_file2.txt', 'w+') as nf:\n",
    "    nf.write('2nd new file')"
   ]
  },
  {
   "cell_type": "code",
   "execution_count": null,
   "metadata": {},
   "outputs": [],
   "source": [
    "with open('New_file2.txt', 'r') as nf:\n",
    "    for x in nf:\n",
    "        print(x)"
   ]
  },
  {
   "cell_type": "code",
   "execution_count": null,
   "metadata": {},
   "outputs": [],
   "source": [
    "#Append mode and append+ mode."
   ]
  },
  {
   "cell_type": "code",
   "execution_count": null,
   "metadata": {},
   "outputs": [],
   "source": [
    "with open('animal_jokes.txt', 'a') as f:\n",
    "    f.write('\\nABC')"
   ]
  },
  {
   "cell_type": "code",
   "execution_count": null,
   "metadata": {},
   "outputs": [],
   "source": [
    "with open('animal_jokes.txt', 'r') as f:\n",
    "    for x in f.readlines():\n",
    "        print(x)"
   ]
  },
  {
   "cell_type": "code",
   "execution_count": null,
   "metadata": {},
   "outputs": [],
   "source": [
    "with open('animal_jokes.txt', 'a') as f:\n",
    "    for x in f.readlines():\n",
    "        print(x)"
   ]
  },
  {
   "cell_type": "code",
   "execution_count": null,
   "metadata": {},
   "outputs": [],
   "source": [
    "# Note how when opened in 'a' mode - file is not readable."
   ]
  },
  {
   "cell_type": "code",
   "execution_count": null,
   "metadata": {},
   "outputs": [],
   "source": [
    "with open('animal_jokes.txt', 'a+') as f:\n",
    "    for x in f.readlines():\n",
    "        print(x)"
   ]
  },
  {
   "cell_type": "code",
   "execution_count": null,
   "metadata": {},
   "outputs": [],
   "source": [
    "# Note no output since the cursor is at end of file. "
   ]
  },
  {
   "cell_type": "code",
   "execution_count": null,
   "metadata": {},
   "outputs": [],
   "source": [
    "with open('animal_jokes.txt', 'a+') as f:\n",
    "    f.seek(0)\n",
    "    for x in f.readlines():\n",
    "        print(x)"
   ]
  },
  {
   "cell_type": "code",
   "execution_count": null,
   "metadata": {},
   "outputs": [],
   "source": [
    "# Before we go on to the binary file types in Python, let us study the methods available on file objects in Python."
   ]
  },
  {
   "cell_type": "code",
   "execution_count": null,
   "metadata": {},
   "outputs": [],
   "source": [
    "#Method          Description\n",
    "# close()        Closes the file\n",
    "# detach()       Returns the separated raw stream from the buffer\n",
    "# fileno()       Returns a number that represents the stream, from the operating system's perspective\n",
    "# flush()        Flushes the internal buffer\n",
    "# isatty()       Returns whether the file stream is interactive or not\n",
    "# read()         Returns the file content\n",
    "# readable()     Returns whether the file stream can be read or not\n",
    "# readline()     Returns one line from the file\n",
    "# readlines()    Returns a list of lines from the file\n",
    "# seek()         Change the file position\n",
    "# seekable()     Returns whether the file allows us to change the file position\n",
    "# tell()         Returns the current file position\n",
    "# truncate()     Resizes the file to a specified size\n",
    "# writable()     Returns whether the file can be written to or not\n",
    "# write()        Writes the specified string to the file\n",
    "# writelines()   Writes a list of strings to the file"
   ]
  },
  {
   "cell_type": "code",
   "execution_count": null,
   "metadata": {},
   "outputs": [],
   "source": [
    "# Attributes:\n",
    "\n",
    "# closed - Returns True if the file is closed and False when the file is open.\n",
    "# encoding - Encoding used for the file.\n",
    "# mode - Value of mode parameter.\n",
    "# name: If the file object was created using open(), the name of the file.\n",
    "# newlines: A file object that has been opened in universal newline mode has this attribute which reflects the newline\n",
    "# convention used in the file. The value for this attribute are “\\r”, “\\n”, “\\r\\n”, None or a tuple containing all the\n",
    "# newline types seen.\n",
    "# softspace: It is a boolean that indicates whether a space character needs to be printed before another value when using the print statement.\n",
    "\n"
   ]
  },
  {
   "cell_type": "code",
   "execution_count": null,
   "metadata": {},
   "outputs": [],
   "source": [
    "# close() function call and close attribute\n",
    "f = open('animal_jokes.txt', 'r')\n",
    "print(f.closed)\n",
    "f.close()\n",
    "print(f.closed)"
   ]
  },
  {
   "cell_type": "code",
   "execution_count": null,
   "metadata": {},
   "outputs": [],
   "source": [
    "#Note - close() function call closes the file while closed attribute returns True or False indicating the state of the \n",
    "# file object."
   ]
  },
  {
   "cell_type": "code",
   "execution_count": null,
   "metadata": {},
   "outputs": [],
   "source": [
    "# read method - extracts the contents of the file character by character. It can take one parameter, the size (characters or\n",
    "# bytes) to be read."
   ]
  },
  {
   "cell_type": "code",
   "execution_count": null,
   "metadata": {},
   "outputs": [],
   "source": [
    "with open('animal_jokes.txt', 'r') as f:\n",
    "    for x in f.read():\n",
    "        print(x)"
   ]
  },
  {
   "cell_type": "code",
   "execution_count": null,
   "metadata": {},
   "outputs": [],
   "source": [
    "with open('animal_jokes.txt', 'r') as f:\n",
    "    for x in f.read(20):\n",
    "        print(x)\n",
    "\n"
   ]
  },
  {
   "cell_type": "code",
   "execution_count": null,
   "metadata": {},
   "outputs": [],
   "source": [
    "f = open('animal_jokes.txt', 'r')\n",
    "for x in f.read():\n",
    "    print(x)"
   ]
  },
  {
   "cell_type": "code",
   "execution_count": null,
   "metadata": {},
   "outputs": [],
   "source": [
    "for x in f.read():\n",
    "    print(x)"
   ]
  },
  {
   "cell_type": "code",
   "execution_count": null,
   "metadata": {},
   "outputs": [],
   "source": [
    "# Note how the second for loop gives no output? That is because file objects themselves are iterators i.e. the iter() \n",
    "# function is called on creating the file object. And once exhausted cannot be used. \n",
    "\n",
    "f.close()\n",
    "\n",
    "#Therefore, it is best to save the output of read, readlines etc to another variable, perform operations and then write back\n",
    "# to file.\n",
    "\n",
    "with open('animal_jokes.txt', 'r+') as f:\n",
    "    data = f.readlines()\n",
    "    data.insert(2,'\\nBreak from animal jokes \\n\\n')\n",
    "    f.seek(0)\n",
    "    f.writelines(data)\n",
    "print(data)"
   ]
  },
  {
   "cell_type": "code",
   "execution_count": null,
   "metadata": {},
   "outputs": [],
   "source": [
    "with open('animal_jokes.txt', 'r+') as f:\n",
    "    f.write('\\nI hope you like animal jokes\\n\\n')\n",
    "\n",
    "#Note how - since we did not do any read operations, cursor is at beginning of file and overwrote the portion of file till\n",
    "# the inserted string."
   ]
  },
  {
   "cell_type": "code",
   "execution_count": null,
   "metadata": {},
   "outputs": [],
   "source": [
    "with open('animal_jokes.txt', 'r+') as f:\n",
    "    f.seek(100)\n",
    "    f.write('\\nBreak from animal jokes \\n\\n')\n",
    "\n",
    "# Inserted the specified string at specified index position."
   ]
  },
  {
   "cell_type": "code",
   "execution_count": null,
   "metadata": {},
   "outputs": [],
   "source": [
    "with open('animal_jokes.txt', 'r') as f:\n",
    "    print(len(f.read()))"
   ]
  },
  {
   "cell_type": "code",
   "execution_count": null,
   "metadata": {},
   "outputs": [],
   "source": [
    "with open('animal_jokes.txt', 'r') as f:\n",
    "    print(len(f.readlines()))"
   ]
  },
  {
   "cell_type": "code",
   "execution_count": null,
   "metadata": {},
   "outputs": [],
   "source": [
    "# readline method for file objects - reads until the newline character is reached. On next readline call - it will read\n",
    "# from where the handle/cursor stopped at last iteration."
   ]
  },
  {
   "cell_type": "code",
   "execution_count": null,
   "metadata": {},
   "outputs": [],
   "source": [
    "with open('animal_jokes.txt', 'r') as f:\n",
    "    for x in f.readline():\n",
    "        print(x)\n"
   ]
  },
  {
   "cell_type": "code",
   "execution_count": null,
   "metadata": {},
   "outputs": [],
   "source": [
    "f = open('animal_jokes.txt', 'r')\n",
    "print(f.readline())"
   ]
  },
  {
   "cell_type": "code",
   "execution_count": null,
   "metadata": {},
   "outputs": [],
   "source": [
    "print(f.readline())"
   ]
  },
  {
   "cell_type": "code",
   "execution_count": null,
   "metadata": {},
   "outputs": [],
   "source": [
    "print(f.readline())"
   ]
  },
  {
   "cell_type": "code",
   "execution_count": null,
   "metadata": {},
   "outputs": [],
   "source": [
    "print(f.readline())"
   ]
  },
  {
   "cell_type": "code",
   "execution_count": null,
   "metadata": {},
   "outputs": [],
   "source": [
    "f.close()"
   ]
  },
  {
   "cell_type": "code",
   "execution_count": null,
   "metadata": {},
   "outputs": [],
   "source": [
    "#Readlines method returns all the lines in the document in the form of a list. \n",
    "with open('animal_jokes.txt', 'r') as f:\n",
    "    print(f.readlines())\n",
    "    "
   ]
  },
  {
   "cell_type": "code",
   "execution_count": null,
   "metadata": {},
   "outputs": [],
   "source": [
    "f = open('animal_jokes.txt', 'r')\n",
    "for x in f.readlines():\n",
    "    print(x)"
   ]
  },
  {
   "cell_type": "code",
   "execution_count": null,
   "metadata": {},
   "outputs": [],
   "source": [
    "#If you notice, in the list of lines from the readlines method, each line ends with a newline character - '\\n'. To suppress\n",
    "# this we could use the splitlines method.\n",
    "\n",
    "with open('animal_jokes.txt', 'r+') as f:\n",
    "    data = f.read().splitlines()\n",
    "    print(data)"
   ]
  },
  {
   "cell_type": "code",
   "execution_count": null,
   "metadata": {},
   "outputs": [],
   "source": [
    "for x in data:\n",
    "    print(x)"
   ]
  },
  {
   "cell_type": "code",
   "execution_count": null,
   "metadata": {},
   "outputs": [],
   "source": [
    "#Please remember that splitlines is a string method and not a file object method. "
   ]
  },
  {
   "cell_type": "code",
   "execution_count": null,
   "metadata": {},
   "outputs": [],
   "source": []
  },
  {
   "cell_type": "code",
   "execution_count": null,
   "metadata": {},
   "outputs": [],
   "source": [
    "#Also, the use of readlines method since Python 2.3 has been somewhat deprecated. We can get the same result with : \n",
    "f = open('animal_jokes.txt', 'a+')\n",
    "f.seek(0)\n",
    "print(len(f.readlines()))"
   ]
  },
  {
   "cell_type": "code",
   "execution_count": null,
   "metadata": {},
   "outputs": [],
   "source": [
    "# If you remember the example from input cell 62 above which was as follows to re-write contents to another file: "
   ]
  },
  {
   "cell_type": "code",
   "execution_count": null,
   "metadata": {},
   "outputs": [],
   "source": [
    "# # Re-writing the text to the animals_jokes file using multiple with open\n",
    "\n",
    "# with open('animal_jokes.txt', 'w+') as aj, open('animal_jokes_Copy.txt', 'r') as ajCopy:\n",
    "#     data = ajCopy.readlines()\n",
    "#     aj.writelines(data)\n",
    "\n",
    "# We used the above."
   ]
  },
  {
   "cell_type": "code",
   "execution_count": null,
   "metadata": {},
   "outputs": [],
   "source": [
    "# Clearing contents of animal_jokes.txt and only inputting XYZ.\n",
    "\n",
    "with open('animal_jokes.txt', 'w') as f:\n",
    "    f.write('xyz')\n",
    "\n"
   ]
  },
  {
   "cell_type": "code",
   "execution_count": null,
   "metadata": {},
   "outputs": [],
   "source": [
    "# Rewriting contents of animal_jokes_copy.txt to animal_jokes.txt with cleaner syntax.\n",
    "\n",
    "with open('animal_jokes.txt', 'w+') as aj, open('animal_jokes_Copy.txt', 'r') as ajCopy:\n",
    "    aj.writelines(ajCopy)\n"
   ]
  },
  {
   "cell_type": "code",
   "execution_count": null,
   "metadata": {},
   "outputs": [],
   "source": [
    "# readable() method returns whether the file object has reading permissions (True) or not (False).\n",
    "\n",
    "with open('animal_jokes.txt', 'w+') as f:\n",
    "    print(f.readable())"
   ]
  },
  {
   "cell_type": "code",
   "execution_count": null,
   "metadata": {},
   "outputs": [],
   "source": [
    "with open('animal_jokes.txt', 'w') as f:\n",
    "    print(f.readable())"
   ]
  },
  {
   "cell_type": "code",
   "execution_count": null,
   "metadata": {},
   "outputs": [],
   "source": [
    "# write method - writes the specified string to the file object.\n",
    "\n",
    "with open('animal_jokes.txt', 'a') as f:\n",
    "    f.write('\\nNo more animal jokes')\n",
    "    "
   ]
  },
  {
   "cell_type": "code",
   "execution_count": null,
   "metadata": {},
   "outputs": [],
   "source": [
    "with open('animal_jokes.txt', 'r') as f:\n",
    "    f.seek(1400)\n",
    "    for x in f.readlines():\n",
    "        print(x)"
   ]
  },
  {
   "cell_type": "code",
   "execution_count": null,
   "metadata": {},
   "outputs": [],
   "source": [
    "with open('animal_jokes.txt', 'w+') as f:\n",
    "    f.write('1st string', '2nd string')"
   ]
  },
  {
   "cell_type": "code",
   "execution_count": null,
   "metadata": {},
   "outputs": [],
   "source": [
    "# Note the error when trying to write more than one string. "
   ]
  },
  {
   "cell_type": "code",
   "execution_count": null,
   "metadata": {},
   "outputs": [],
   "source": [
    "x = '\\nJokes keep the mood light hearted.\\n\\n'\n",
    "\n",
    "with open('animal_jokes.txt', 'a+') as f:\n",
    "    f.write(x)"
   ]
  },
  {
   "cell_type": "code",
   "execution_count": null,
   "metadata": {},
   "outputs": [],
   "source": [
    "#writelines method"
   ]
  },
  {
   "cell_type": "code",
   "execution_count": null,
   "metadata": {},
   "outputs": [],
   "source": [
    "add_jokes = ['Q: What do you get when you cross a snake and a pie?\\n', 'A: A pie-thon!\\n','Q: What did the buffalo say to\\\n",
    "his son when he went away on a trip?\\n','A: Bison!\\n','Q: How do bees get to school?\\n','A: By school buzz!\\n','Q: What do\\\n",
    "you call a bear with no ears?\\n','A: B!\\n']\n",
    "\n",
    "with open('animal_jokes.txt', 'a+') as f:\n",
    "    f.writelines(add_jokes)"
   ]
  },
  {
   "cell_type": "code",
   "execution_count": null,
   "metadata": {},
   "outputs": [],
   "source": [
    "with open('animal_jokes.txt', 'w') as f:\n",
    "    f.write('XY')"
   ]
  },
  {
   "cell_type": "code",
   "execution_count": null,
   "metadata": {},
   "outputs": [],
   "source": [
    "add_jokes_tup = tuple(add_jokes)\n",
    "print(add_jokes_tup)"
   ]
  },
  {
   "cell_type": "code",
   "execution_count": null,
   "metadata": {},
   "outputs": [],
   "source": [
    "# Writelines can take any iterable. \n",
    "\n",
    "with open('animal_jokes.txt', 'w+') as f:\n",
    "    f.writelines(add_jokes_tup)\n",
    "    \n",
    "    "
   ]
  },
  {
   "cell_type": "code",
   "execution_count": null,
   "metadata": {},
   "outputs": [],
   "source": [
    "    \n",
    "with open('animal_jokes.txt', 'r') as f:\n",
    "    for x in f:\n",
    "        print(x)"
   ]
  },
  {
   "cell_type": "code",
   "execution_count": null,
   "metadata": {},
   "outputs": [],
   "source": [
    "# with open('animal_jokes.txt', 'w+') as aj, open('animal_jokes_copy.txt', 'r') as ajCopy:\n",
    "#     aj.writelines(ajCopy)\n",
    "#     aj.flush()\n",
    "#     aj.seek(0)\n",
    "#     for x in aj:\n",
    "#         print(x)"
   ]
  },
  {
   "cell_type": "code",
   "execution_count": null,
   "metadata": {},
   "outputs": [],
   "source": []
  },
  {
   "cell_type": "code",
   "execution_count": null,
   "metadata": {},
   "outputs": [],
   "source": [
    "# writable method returns True if file object is able to be written into, False if not."
   ]
  },
  {
   "cell_type": "code",
   "execution_count": null,
   "metadata": {},
   "outputs": [],
   "source": [
    "with open('animal_jokes.txt', 'r+') as f:\n",
    "    print(f.writable())\n",
    "    "
   ]
  },
  {
   "cell_type": "code",
   "execution_count": null,
   "metadata": {},
   "outputs": [],
   "source": [
    "with open('animal_jokes.txt', 'r') as f:\n",
    "    print(f.writable())\n"
   ]
  },
  {
   "cell_type": "code",
   "execution_count": null,
   "metadata": {},
   "outputs": [],
   "source": [
    "# seek method sends the cursor/handle to the specified index number.\n",
    "# tell method tells you the cursor position\n"
   ]
  },
  {
   "cell_type": "code",
   "execution_count": null,
   "metadata": {},
   "outputs": [],
   "source": [
    "with open('animal_jokes.txt', 'r') as f:\n",
    "    print(f.tell())\n",
    "    f.seek(100)\n",
    "    print(f.tell())\n",
    "    "
   ]
  },
  {
   "cell_type": "code",
   "execution_count": null,
   "metadata": {},
   "outputs": [],
   "source": [
    "# Until Python 3.2, we could use a second parameter - \n",
    "# 1 for seek relative to current position i.e. if cursor is at 100 and we specified f.seek(100,1) cursor would go to 200.\n",
    "# 2 for seek relative to end of file i.e. if cursor was at end of file, then f.seek(-100,2) would take cursor 100 steps\n",
    "# back. However, these have been deprecated from Python 3.2 and now the only relative seek that works is complete end of\n",
    "# file i.e.\n",
    "\n",
    "with open('animal_jokes.txt', 'r') as f:\n",
    "    f.seek(0,2)\n",
    "    print(f.tell())\n"
   ]
  },
  {
   "cell_type": "code",
   "execution_count": null,
   "metadata": {},
   "outputs": [],
   "source": [
    "with open('animal_jokes.txt', 'r') as f:\n",
    "    print(len(f.read()))"
   ]
  },
  {
   "cell_type": "code",
   "execution_count": null,
   "metadata": {},
   "outputs": [],
   "source": [
    "with open('animal_jokes.txt', 'r') as f:\n",
    "    print(len(f.readlines()))"
   ]
  },
  {
   "cell_type": "code",
   "execution_count": null,
   "metadata": {},
   "outputs": [],
   "source": [
    "# As noticed, in the read, newline characters are already parsed and not counted. However, as you can see in the readlines\n",
    "# there are 44 lines, so read characters (1432) + lines (44) is adding up to the cursor being at the end index i.e. 1476"
   ]
  },
  {
   "cell_type": "code",
   "execution_count": null,
   "metadata": {},
   "outputs": [],
   "source": [
    "# seekable - Returns True if the file allows us to change the cursor/handle/file position else False.\n",
    "\n",
    "with open('animal_jokes.txt', 'r') as f:\n",
    "    print(f.seekable())\n",
    "\n",
    "# Assumption is that when working with very large file sizes overflowing the buffer, the seekable() function \n",
    "# may return False. Not sure of the use since have not come across a use case for this."
   ]
  },
  {
   "cell_type": "code",
   "execution_count": null,
   "metadata": {},
   "outputs": [],
   "source": [
    "# truncate() resizes the file to the specified size.\n",
    "\n",
    "with open('animal_jokes.txt', 'r') as f:\n",
    "    f.seek(1000)\n",
    "    for x in f:\n",
    "        print(x)"
   ]
  },
  {
   "cell_type": "code",
   "execution_count": null,
   "metadata": {},
   "outputs": [],
   "source": [
    "with open('animal_jokes.txt', 'r+') as f:\n",
    "    f.truncate(1000)\n",
    "    f.seek(0)\n",
    "    for x in f:\n",
    "        print(x)"
   ]
  },
  {
   "cell_type": "code",
   "execution_count": null,
   "metadata": {},
   "outputs": [],
   "source": [
    "#flush method - flushes the internal buffer and writes to file (or if no write call given, disposes the data)\n",
    "\n",
    "# If you recall, we had an example above where we did a write procedure but the result was not displayed till we closed, \n",
    "# the file object and then displayed in the next file object creation call with open."
   ]
  },
  {
   "cell_type": "code",
   "execution_count": null,
   "metadata": {},
   "outputs": [],
   "source": [
    "with open('animal_jokes.txt', 'r+') as f:\n",
    "    f.write('\\nNo more animal jokes\\n\\n')\n",
    "    f.flush()\n",
    "    f.seek(0)\n",
    "    for x in f.readlines(100):\n",
    "        print(x)\n",
    "    "
   ]
  },
  {
   "cell_type": "code",
   "execution_count": null,
   "metadata": {},
   "outputs": [],
   "source": [
    "# fileno() Returns a number that represents the stream. \n",
    "\n",
    "with open('animal_jokes.txt', 'r') as f:\n",
    "    print(f.fileno())"
   ]
  },
  {
   "cell_type": "code",
   "execution_count": null,
   "metadata": {},
   "outputs": [],
   "source": [
    "# detach method used to detach input rawstream from file buffer. \n",
    "\n",
    "f = open('animal_jokes.txt', 'r')\n",
    "f.detach()\n",
    "for x in f.readlines():\n",
    "    print(x)\n",
    "f.close()"
   ]
  },
  {
   "cell_type": "code",
   "execution_count": null,
   "metadata": {},
   "outputs": [],
   "source": [
    "# Attributes. \n",
    "\n",
    "# We have already seen the closed attribute. \n",
    "\n",
    "f = open('animal_jokes.txt', 'r')\n",
    "print(f.closed)\n",
    "f.close()\n",
    "print(f.closed)"
   ]
  },
  {
   "cell_type": "code",
   "execution_count": null,
   "metadata": {},
   "outputs": [],
   "source": [
    "# encoding - displays the encoding used on the file.\n",
    "\n",
    "f = open('animal_jokes.txt', 'r')\n",
    "print(f.encoding)"
   ]
  },
  {
   "cell_type": "code",
   "execution_count": null,
   "metadata": {},
   "outputs": [],
   "source": [
    "# If you recall, when discussing encoding in Bytes and Bytearrays - we had discussed that - by default Python uses UTF-8\n",
    "# encoding BUT open function will be system dependent. Windows uses cp1252 and therefore the encoding on this file is \n",
    "# cp1252. Your outputs may be different depending on your systems."
   ]
  },
  {
   "cell_type": "code",
   "execution_count": null,
   "metadata": {},
   "outputs": [],
   "source": [
    "# mode - displays the mode of the file object i.e. the permissions. \n",
    "\n",
    "print(f.mode)"
   ]
  },
  {
   "cell_type": "code",
   "execution_count": null,
   "metadata": {},
   "outputs": [],
   "source": [
    "# name displays the file name if the file has been opened as a file object. \n",
    "\n",
    "print(f.name)"
   ]
  },
  {
   "cell_type": "code",
   "execution_count": null,
   "metadata": {},
   "outputs": [],
   "source": [
    "f.close()"
   ]
  },
  {
   "cell_type": "code",
   "execution_count": null,
   "metadata": {},
   "outputs": [],
   "source": [
    "with open('animal_jokes.txt', 'r') as f:\n",
    "    f.seek(630)\n",
    "    for x in f:\n",
    "        print(x)"
   ]
  },
  {
   "cell_type": "code",
   "execution_count": null,
   "metadata": {},
   "outputs": [],
   "source": [
    "#Binary files"
   ]
  },
  {
   "cell_type": "code",
   "execution_count": null,
   "metadata": {},
   "outputs": [],
   "source": [
    "# The modes to open binary files are the same as text file, only add b before the mode to specify opening in binary format."
   ]
  },
  {
   "cell_type": "code",
   "execution_count": null,
   "metadata": {},
   "outputs": [],
   "source": [
    "from IPython import display\n",
    "display.Image('watermelon32x32.jpg')"
   ]
  },
  {
   "cell_type": "code",
   "execution_count": null,
   "metadata": {},
   "outputs": [],
   "source": [
    "with open('watermelon32x32.jpg', 'rb') as imgf:\n",
    "    for x in imgf:\n",
    "        print(len(x))\n",
    "        print(x, '\\n', '-'*100)"
   ]
  },
  {
   "cell_type": "code",
   "execution_count": null,
   "metadata": {},
   "outputs": [],
   "source": [
    "with open('watermelon32x32.jpg', 'rb+') as img_f:\n",
    "    data = img_f.readlines()\n",
    "    for x in range(len(data)):\n",
    "        print(f'Line no. {x}, length : {len(data[x])} and type : {type(data[x])}.')\n",
    "        print('-'*125)\n",
    "        print(f'Data : {data[x]}.')"
   ]
  },
  {
   "cell_type": "code",
   "execution_count": null,
   "metadata": {},
   "outputs": [],
   "source": [
    "with open('watermelon32x32.jpg', 'rb+') as img_f, open('watermelon_rev.jpg', 'wb+') as img_rev:\n",
    "    data = img_f.readlines()\n",
    "    data[16]= bytes([2,17,252,42,83,49])\n",
    "    img_rev.writelines(data)"
   ]
  },
  {
   "cell_type": "code",
   "execution_count": null,
   "metadata": {},
   "outputs": [],
   "source": [
    "with open('text_bin.bin', 'wb+') as f:\n",
    "    f.write(bytes('Python', encoding = 'UTF-8'))"
   ]
  },
  {
   "cell_type": "code",
   "execution_count": null,
   "metadata": {},
   "outputs": [],
   "source": [
    "with open('text_bin.bin', 'rb') as f:\n",
    "    data = bytearray(f.read())\n",
    "    for x in range(len(data)):\n",
    "        print('Python'[x],' ', data[x])\n",
    "    data[2] = 84\n",
    "\n",
    "print(data)"
   ]
  },
  {
   "cell_type": "code",
   "execution_count": null,
   "metadata": {},
   "outputs": [],
   "source": [
    "with open('text_bin_rev.bin', 'wb+') as f:\n",
    "    f.write(data)"
   ]
  },
  {
   "cell_type": "code",
   "execution_count": null,
   "metadata": {},
   "outputs": [],
   "source": [
    "with open('text_bin_rev.bin', 'a+') as f:\n",
    "    f.seek(0)\n",
    "    print(f.read())"
   ]
  },
  {
   "cell_type": "code",
   "execution_count": null,
   "metadata": {},
   "outputs": [],
   "source": [
    "with open('animal_jokes.txt', 'r') as f:\n",
    "    data = f.read(20)\n",
    "    with open('animal_jokes.txt', 'wb+') as f2:\n",
    "        for x in data:\n",
    "            f2.write(bytes(x))"
   ]
  },
  {
   "cell_type": "code",
   "execution_count": null,
   "metadata": {},
   "outputs": [],
   "source": [
    "f = open('my_file', 'w+b')\n",
    "byte_arr = [120, 3, 255, 0, 100]\n",
    "binary_format = bytearray(byte_arr)\n",
    "f.write(binary_format)\n",
    "f.close()"
   ]
  },
  {
   "cell_type": "code",
   "execution_count": null,
   "metadata": {},
   "outputs": [],
   "source": [
    "f = open('my_file', 'r')"
   ]
  },
  {
   "cell_type": "code",
   "execution_count": null,
   "metadata": {},
   "outputs": [],
   "source": [
    "data = [100,24,255]\n",
    "buffer = bytes(data)\n",
    "print(buffer)\n",
    "f = open(\"binary.txt\", \"bw\")\n",
    "f.write(buffer)\n",
    "f.close()"
   ]
  },
  {
   "cell_type": "code",
   "execution_count": null,
   "metadata": {},
   "outputs": [],
   "source": [
    "f = open(\"binary.txt\", \"br\")\n",
    "binary = f.read()\n",
    "print(binary)\n",
    "data = list(binary)\n",
    "print(data)\n",
    "f.close()"
   ]
  },
  {
   "cell_type": "code",
   "execution_count": null,
   "metadata": {},
   "outputs": [],
   "source": [
    "# Pickling / Unpickling. "
   ]
  },
  {
   "cell_type": "code",
   "execution_count": null,
   "metadata": {},
   "outputs": [],
   "source": [
    "# The Python pickle modulle allows one to save the state of Python objects in a file and re-builds them on load. Therefore,\n",
    "# user-built classes and objects can be preserved and transferred for re-initialising one the an interpreter is run again. \n",
    "\n",
    "\n",
    "ex_dict = {'a':20, 'b': 30, 'c':40}\n",
    "    \n",
    "# To save the above dictionary to a file, one would have to convert everything including the curly braces to a string and\n",
    "# then while opening - re-convert the key, value pairs into a dictionary.\n",
    "\n",
    "# Pickle makes it simple."
   ]
  },
  {
   "cell_type": "code",
   "execution_count": null,
   "metadata": {},
   "outputs": [],
   "source": [
    "import pickle\n",
    "\n",
    "with open('dict_file.txt','wb') as f:\n",
    "    pickle.dump(ex_dict, f)"
   ]
  },
  {
   "cell_type": "code",
   "execution_count": null,
   "metadata": {},
   "outputs": [],
   "source": [
    "with open('dict_file.txt','rb') as f:\n",
    "    ex_dict = pickle.load(f)"
   ]
  },
  {
   "cell_type": "code",
   "execution_count": null,
   "metadata": {},
   "outputs": [],
   "source": [
    "print(ex_dict)"
   ]
  },
  {
   "cell_type": "code",
   "execution_count": null,
   "metadata": {},
   "outputs": [],
   "source": [
    "# It can be used with lists, sets, dictionaries, JSON files and any user defined classes and objects."
   ]
  }
 ],
 "metadata": {
  "kernelspec": {
   "display_name": "Python 3",
   "language": "python",
   "name": "python3"
  },
  "language_info": {
   "codemirror_mode": {
    "name": "ipython",
    "version": 3
   },
   "file_extension": ".py",
   "mimetype": "text/x-python",
   "name": "python",
   "nbconvert_exporter": "python",
   "pygments_lexer": "ipython3",
   "version": "3.8.3"
  }
 },
 "nbformat": 4,
 "nbformat_minor": 5
}
