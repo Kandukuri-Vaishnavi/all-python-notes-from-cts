{
 "cells": [
  {
   "cell_type": "code",
   "execution_count": 3,
   "metadata": {
    "id": "1YVTYu-CuCOO"
   },
   "outputs": [
    {
     "data": {
      "text/plain": [
       "5"
      ]
     },
     "execution_count": 3,
     "metadata": {},
     "output_type": "execute_result"
    }
   ],
   "source": [
    "# Define a function calls addNumber(x, y) that takes in two number and returns the sum of the two numbers.\n",
    "\n",
    "def addNumber(x,y):\n",
    "    return x+y\n",
    "\n",
    "addNumber(2,3)\n"
   ]
  },
  {
   "cell_type": "code",
   "execution_count": 4,
   "metadata": {
    "id": "1-gIq-Rju2i2"
   },
   "outputs": [
    {
     "data": {
      "text/plain": [
       "7"
      ]
     },
     "execution_count": 4,
     "metadata": {},
     "output_type": "execute_result"
    }
   ],
   "source": [
    "# Define a function calls subtractNumber(x, y) that takes in two numbers and returns the difference of the two numbers.\n",
    "\n",
    "def subtractNumber(x,y):\n",
    "    return x-y\n",
    "subtractNumber(10,3)"
   ]
  },
  {
   "cell_type": "code",
   "execution_count": 7,
   "metadata": {
    "id": "kiAE0iLbviG9"
   },
   "outputs": [
    {
     "data": {
      "text/plain": [
       "5"
      ]
     },
     "execution_count": 7,
     "metadata": {},
     "output_type": "execute_result"
    }
   ],
   "source": [
    "# Write a function getBiggerNumber(x, y) that takes in two numbers as arguments and returns the bigger number.\n",
    "\n",
    "def getBiggerNumber(x,y):\n",
    "    if x>y:\n",
    "        return x\n",
    "    else:\n",
    "        return y\n",
    "\n",
    "getBiggerNumber(4,5)\n"
   ]
  },
  {
   "cell_type": "code",
   "execution_count": 15,
   "metadata": {
    "id": "10B5oVcZh16d"
   },
   "outputs": [
    {
     "name": "stdout",
     "output_type": "stream",
     "text": [
      "4.0\n",
      "243.0\n",
      "28.274333882308138\n"
     ]
    }
   ],
   "source": [
    "# Python provides many built-in modules with many useful functions. \n",
    "# One such module is the math module. The math module provides many useful functions such as sqrt(x), pow(x, y), ceil(x), floor(x) etc. \n",
    "# You will need to do a \"import math\" before you are allowed to use the functions within the math module.\n",
    "\n",
    "\n",
    "# Calculate the square root of 16 and stores it in the variable a\n",
    "import math\n",
    "a=math.sqrt(16)\n",
    "print(a)\n",
    "\n",
    "\n",
    "# Calculate 3 to the power of 5 and stores it in the variable b\n",
    "b=math.pow(3,5)\n",
    "print(b)\n",
    "\n",
    "\n",
    "# Calculate area of circle with radius = 3.0 by making use of the math.pi constant and store it in the variable c\n",
    "c=math.pi*3*3\n",
    "print(c)\n"
   ]
  },
  {
   "cell_type": "code",
   "execution_count": 39,
   "metadata": {
    "id": "Yado0B99h2E_"
   },
   "outputs": [
    {
     "data": {
      "text/plain": [
       "82.4"
      ]
     },
     "execution_count": 39,
     "metadata": {},
     "output_type": "execute_result"
    }
   ],
   "source": [
    "# Write a function to convert temperature from Celsius to Fahrenheit scale.\n",
    "# oC to oF Conversion: Multipy by 9, then divide by 5, then add 32.\n",
    "\n",
    "# Note: Return a string of 2 decimal places.\n",
    "# In - Cel2Fah(28.0)\n",
    "# Out - '82.40'\n",
    "# In - Cel2Fah(0.00)\n",
    "# Out - '32.00'\n",
    "def Cel2Fah(x):\n",
    "    z=round(((x*9)/5+32),2)\n",
    "    return z\n",
    "Cel2Fah(28.0)\n",
    "\n",
    "    \n",
    "    "
   ]
  },
  {
   "cell_type": "code",
   "execution_count": 41,
   "metadata": {
    "id": "n7lsFol9h2ID"
   },
   "outputs": [
    {
     "data": {
      "text/plain": [
       "27.5"
      ]
     },
     "execution_count": 41,
     "metadata": {},
     "output_type": "execute_result"
    }
   ],
   "source": [
    "# Write a function to compute the BMI of a person.\n",
    "#     BMI = weight(kg)  /  ( height(m)*height(m) )\n",
    "\n",
    "# Note: Return a string of 1 decimal place.\n",
    "# In - BMI(63, 1.7)\n",
    "# Out - '21.8'\n",
    "# In - BMI(110, 2)\n",
    "# Out - '27.5'\n",
    "def BMI(x,y):\n",
    "    z=round((x/(y*y)),1)\n",
    "    return z\n",
    "    \n",
    "BMI(110, 2)\n"
   ]
  },
  {
   "cell_type": "code",
   "execution_count": 49,
   "metadata": {
    "id": "f2tV1AU8h2LN"
   },
   "outputs": [
    {
     "data": {
      "text/plain": [
       "525"
      ]
     },
     "execution_count": 49,
     "metadata": {},
     "output_type": "execute_result"
    }
   ],
   "source": [
    "# Write a function percent(value, total) that takes in two numbers as arguments, and returns the percentage value as an integer.\n",
    "# In - percent(46, 90)\n",
    "# Out - 51\n",
    "# In - percent(51, 51)\n",
    "# Out - 100\n",
    "# In - percent(63, 12)\n",
    "# Out - 525\n",
    "def percent(x,y):\n",
    "    return(round((x/y*100)))\n",
    "     \n",
    "percent(63, 12)\n"
   ]
  },
  {
   "cell_type": "code",
   "execution_count": 51,
   "metadata": {
    "id": "QyoWR3dQh2OZ"
   },
   "outputs": [
    {
     "data": {
      "text/plain": [
       "5"
      ]
     },
     "execution_count": 51,
     "metadata": {},
     "output_type": "execute_result"
    }
   ],
   "source": [
    "# Write a function to compute the hypotenuse given sides a and b of the triangle.\n",
    "# Hint: You can use math.sqrt(x) to compute the square root of x.\n",
    "# In - hypotenuse(3, 4)\n",
    "# Out - 5\n",
    "# In - hypotenuse(5, 12)\n",
    "# Out - 13\n",
    "import math\n",
    "def hypotenuse(a,b):\n",
    "    return(round(math.sqrt(a**2+b**2)))\n",
    "hypotenuse(3, 4)"
   ]
  },
  {
   "cell_type": "code",
   "execution_count": null,
   "metadata": {
    "id": "XthPUigkh2Ro"
   },
   "outputs": [],
   "source": [
    "# Write a function getSumOfLastDigits() that takes in a list of positive numbers and returns the sum of all the last digits in the list.\n",
    "# getSumOfLastDigits([2, 3, 4])\n",
    "# 9\n",
    "# getSumOfLastDigits([1, 23, 456])\n",
    "# 10"
   ]
  },
  {
   "cell_type": "code",
   "execution_count": 53,
   "metadata": {
    "id": "T-uIqm9Mh2Un"
   },
   "outputs": [
    {
     "name": "stdout",
     "output_type": "stream",
     "text": [
      "My name isLim.I am 20 years old\n"
     ]
    }
   ],
   "source": [
    "# Write a function that uses a default value.\n",
    "# In - introduce('Lim', 20)\n",
    "# Out - 'My name is Lim. I am 20 years old.'\n",
    "# In - introduce('Ahmad')\n",
    "# Out - 'My name is Ahmad. My age is secret.'\n",
    "def introduce(name,age):\n",
    "    print(f'My name is {name}.I am {age} years old')\n",
    "introduce('Lim', 20)\n",
    "    \n",
    "    \n",
    "\n"
   ]
  },
  {
   "cell_type": "code",
   "execution_count": 54,
   "metadata": {},
   "outputs": [
    {
     "name": "stdout",
     "output_type": "stream",
     "text": [
      "My name is Ahmad.My age is secret\n"
     ]
    }
   ],
   "source": [
    "def introduce(name,age=None):\n",
    "    print(f'My name is {name}.My age is secret')\n",
    "introduce('Ahmad')"
   ]
  },
  {
   "cell_type": "code",
   "execution_count": 74,
   "metadata": {
    "id": "h0pXo5vH6wA-"
   },
   "outputs": [
    {
     "data": {
      "text/plain": [
       "False"
      ]
     },
     "execution_count": 74,
     "metadata": {},
     "output_type": "execute_result"
    }
   ],
   "source": [
    "# Write a function isEquilateral(x, y, z) that accepts the 3 sides of a triangle as arguments. \n",
    "# The program should return True if it is an equilateral triangle.\n",
    "\n",
    "# In - isEquilateral(2, 4, 3)\n",
    "# False - False\n",
    "# In - isEquilateral(3, 3, 3)\n",
    "# Out - True\n",
    "# In - isEquilateral(-3, -3, -3)\n",
    "# Out - False\n",
    "def isEquilateral(x,y,z):\n",
    "    if x==y==z:\n",
    "        if (x>0 and y>0 and z>0):\n",
    "            return True\n",
    "        else:\n",
    "            return False\n",
    "    else:\n",
    "        return False\n",
    "    \n",
    "isEquilateral(-3, -3, -3)"
   ]
  },
  {
   "cell_type": "code",
   "execution_count": 4,
   "metadata": {
    "id": "3NvcKCkn6wFy"
   },
   "outputs": [
    {
     "data": {
      "text/plain": [
       "0"
      ]
     },
     "execution_count": 4,
     "metadata": {},
     "output_type": "execute_result"
    }
   ],
   "source": [
    "# For a quadratic equation in the form of ax2+bx+c, the discriminant, D is b2-4ac. Write a function to compute the discriminant, D.\n",
    "# In - quadratic(1, 2, 3)\n",
    "# Out - 'The discriminant is -8.'\n",
    "# In - quadratic(1, 3, 2)\n",
    "# Out - 'The discriminant is 1.'\n",
    "# In - quadratic(1, 4, 4)\n",
    "# Out - 'The discriminant is 0.'\n",
    "\n",
    "def quadrea(a,b,c):\n",
    "    return(b**2-4*a*c)\n",
    "quadrea(1, 4, 4)\n",
    "\n"
   ]
  },
  {
   "cell_type": "code",
   "execution_count": 7,
   "metadata": {
    "colab": {
     "base_uri": "https://localhost:8080/",
     "height": 34
    },
    "id": "ihmuttBS6wJQ",
    "outputId": "0ef031e9-dec6-4ffe-b1ea-38d836dbcdcf"
   },
   "outputs": [
    {
     "ename": "NameError",
     "evalue": "name 'n' is not defined",
     "output_type": "error",
     "traceback": [
      "\u001b[1;31m---------------------------------------------------------------------------\u001b[0m",
      "\u001b[1;31mNameError\u001b[0m                                 Traceback (most recent call last)",
      "\u001b[1;32m<ipython-input-7-3ea4cc974502>\u001b[0m in \u001b[0;36m<module>\u001b[1;34m\u001b[0m\n\u001b[0;32m     17\u001b[0m \u001b[1;33m\u001b[0m\u001b[0m\n\u001b[0;32m     18\u001b[0m \u001b[1;33m\u001b[0m\u001b[0m\n\u001b[1;32m---> 19\u001b[1;33m \u001b[0maddFirstAndLast\u001b[0m\u001b[1;33m(\u001b[0m\u001b[1;33m[\u001b[0m\u001b[1;36m10\u001b[0m\u001b[1;33m]\u001b[0m\u001b[1;33m)\u001b[0m\u001b[1;33m\u001b[0m\u001b[1;33m\u001b[0m\u001b[0m\n\u001b[0m",
      "\u001b[1;32m<ipython-input-7-3ea4cc974502>\u001b[0m in \u001b[0;36maddFirstAndLast\u001b[1;34m(x)\u001b[0m\n\u001b[0;32m     10\u001b[0m         \u001b[1;32mif\u001b[0m \u001b[0mx\u001b[0m\u001b[1;33m==\u001b[0m\u001b[1;33m[\u001b[0m\u001b[1;33m]\u001b[0m\u001b[1;33m:\u001b[0m\u001b[1;33m\u001b[0m\u001b[1;33m\u001b[0m\u001b[0m\n\u001b[0;32m     11\u001b[0m             \u001b[1;32mreturn\u001b[0m \u001b[1;36m0\u001b[0m\u001b[1;33m\u001b[0m\u001b[1;33m\u001b[0m\u001b[0m\n\u001b[1;32m---> 12\u001b[1;33m         \u001b[1;32mif\u001b[0m \u001b[0mx\u001b[0m\u001b[1;33m==\u001b[0m\u001b[1;33m[\u001b[0m\u001b[0mn\u001b[0m\u001b[1;33m]\u001b[0m\u001b[1;33m:\u001b[0m\u001b[1;33m\u001b[0m\u001b[1;33m\u001b[0m\u001b[0m\n\u001b[0m\u001b[0;32m     13\u001b[0m             \u001b[1;32mreturn\u001b[0m \u001b[0mn\u001b[0m\u001b[1;33m\u001b[0m\u001b[1;33m\u001b[0m\u001b[0m\n\u001b[0;32m     14\u001b[0m \u001b[1;33m\u001b[0m\u001b[0m\n",
      "\u001b[1;31mNameError\u001b[0m: name 'n' is not defined"
     ]
    }
   ],
   "source": [
    "# Define a function calls addFirstAndLast(x) that takes in a list of numbers and returns the sum of the first and last numbers.\n",
    "# In - addFirstAndLast([])\n",
    "# Out - 0\n",
    "# In - addFirstAndLast([2, 7, 3])\n",
    "# Out - 5\n",
    "# In - addFirstAndLast([10])\n",
    "# Out - 10\n",
    "\n",
    "def addFirstAndLast(x):\n",
    "        if x==[]:\n",
    "            return 0\n",
    "        if x==[n]:\n",
    "            return n\n",
    "           \n",
    "       \n",
    "        \n",
    "        \n",
    "\n",
    "addFirstAndLast([10])\n"
   ]
  },
  {
   "cell_type": "code",
   "execution_count": 106,
   "metadata": {
    "colab": {
     "base_uri": "https://localhost:8080/",
     "height": 34
    },
    "id": "lEt9HNPI6wM0",
    "outputId": "b07e15c3-a864-454c-aef5-1f1f0e07b39a"
   },
   "outputs": [
    {
     "data": {
      "text/plain": [
       "True"
      ]
     },
     "execution_count": 106,
     "metadata": {},
     "output_type": "execute_result"
    }
   ],
   "source": [
    "# Complete the 'lambda' expression so that it returns True if the argument is an even number, and False otherwise.\n",
    "\n",
    "(lambda num :True if num%2==0  else False)(6)"
   ]
  },
  {
   "cell_type": "code",
   "execution_count": 111,
   "metadata": {
    "colab": {
     "base_uri": "https://localhost:8080/",
     "height": 35
    },
    "id": "JYWSZXPg6wQN",
    "outputId": "7b71e08d-573f-4d03-d5e3-e220df4c3b90"
   },
   "outputs": [
    {
     "name": "stdout",
     "output_type": "stream",
     "text": [
      "'A function that computes and returns the final score.\n"
     ]
    }
   ],
   "source": [
    "\n",
    "# Get the documentation of below function\n",
    "\n",
    "def getScore():\n",
    "  ''''A function that computes and returns the final score.'''\n",
    "  pass\n",
    "print(getScore.__doc__)"
   ]
  },
  {
   "cell_type": "code",
   "execution_count": 113,
   "metadata": {
    "colab": {
     "base_uri": "https://localhost:8080/",
     "height": 34
    },
    "id": "zmi81hi76wTK",
    "outputId": "232b4456-63ad-4582-d2cd-d888952dc957"
   },
   "outputs": [],
   "source": [
    "# In Python, it is possible to pass a function as a argument to another function. \n",
    "# Write a function useFunction(func, num) that takes in a function and a number as arguments. \n",
    "# The useFunction should produce the output shown in the examples given below.\n",
    "\n",
    "\n",
    "\n",
    "\n",
    "\n",
    "\n",
    "\n"
   ]
  },
  {
   "cell_type": "code",
   "execution_count": 9,
   "metadata": {
    "id": "JJm1zFMX6wWK"
   },
   "outputs": [
    {
     "ename": "IndentationError",
     "evalue": "unindent does not match any outer indentation level (<tokenize>, line 19)",
     "output_type": "error",
     "traceback": [
      "\u001b[1;36m  File \u001b[1;32m\"<tokenize>\"\u001b[1;36m, line \u001b[1;32m19\u001b[0m\n\u001b[1;33m    num=int(input())\u001b[0m\n\u001b[1;37m    ^\u001b[0m\n\u001b[1;31mIndentationError\u001b[0m\u001b[1;31m:\u001b[0m unindent does not match any outer indentation level\n"
     ]
    }
   ],
   "source": [
    "# Write a function find_max that accepts three numbers as arguments and returns the largest number among three. \n",
    "# Write another function main, in main() function accept three numbers from user and call find_max.\n",
    "def find_max(x,y,z):\n",
    "    if (x>y and x>z):\n",
    "        return x\n",
    "    if(y>x and y>z):\n",
    "        return y\n",
    "    else:\n",
    "        return z\n",
    "    \n",
    "def main():\n",
    "#     count=0\n",
    "#     print(\"enter oly 3 values\",end='')\n",
    "#     num=int(input())\n",
    "#     if count>3:\n",
    "#         break  \n",
    " listempty=[]\n",
    "    print(\"how many numbers you would like to enter?\",end='')\n",
    "  num=int(input())\n",
    "for i in range(num):\n",
    "    print(\"enter element\",end='')\n",
    "    listempty.append(int(input()))\n",
    "print('new list is',listempty)\n",
    "c=set(listempty)\n",
    "print(list(c))\n"
   ]
  },
  {
   "cell_type": "code",
   "execution_count": null,
   "metadata": {},
   "outputs": [],
   "source": []
  },
  {
   "cell_type": "code",
   "execution_count": 173,
   "metadata": {
    "colab": {
     "base_uri": "https://localhost:8080/",
     "height": 34
    },
    "id": "PBvBwg0O6waD",
    "outputId": "57768b69-c749-4d88-be06-7a9d41a98de2"
   },
   "outputs": [
    {
     "name": "stdout",
     "output_type": "stream",
     "text": [
      "enter a string\n",
      "oij\n",
      "input is oij\n",
      "3\n"
     ]
    }
   ],
   "source": [
    "# Write a function, is_vowel that returns the value true if a given character is a vowel, \n",
    "# and otherwise returns false. \n",
    "# Write another function main, in main() function accept a string from user and count number \n",
    "# of vowels in that string.\n",
    "def is_vowel(x):\n",
    "    if (x=='a'or 'e' or 'i' or 'o' or 'u'):\n",
    "        return True\n",
    "    else:\n",
    "        return False\n",
    "count=0\n",
    "#is_vowel(a)\n"
   ]
  },
  {
   "cell_type": "code",
   "execution_count": null,
   "metadata": {},
   "outputs": [
    {
     "name": "stdout",
     "output_type": "stream",
     "text": [
      "enter a string\n"
     ]
    }
   ],
   "source": [
    "# Write another function main, in main() function accept a string from user and count number \n",
    "# of vowels in that string.\n",
    "\n",
    "def main():\n",
    "    print(\"enter a string\")\n",
    "    v=input()\n",
    "    print(f'input is {v}')\n",
    "    count=0\n",
    "    for i in v:\n",
    "        if(i=='a'or 'e' or 'i' or 'o' or 'u'):\n",
    "            count=count+1\n",
    "            return count\n",
    "main()"
   ]
  },
  {
   "cell_type": "code",
   "execution_count": 167,
   "metadata": {},
   "outputs": [],
   "source": [
    "# Write a function named is_prime, which takes an integer as an argument and returns true \n",
    "# if the argument is a prime number, or false otherwise. \n",
    "# Also, write the main function that displays prime numbers between 1 to 500.\n",
    "def is_prime(x):\n",
    "    if x\n",
    "    "
   ]
  },
  {
   "cell_type": "code",
   "execution_count": 26,
   "metadata": {},
   "outputs": [
    {
     "name": "stdout",
     "output_type": "stream",
     "text": [
      "[]\n",
      "[1]\n",
      "[1, 8]\n",
      "[1, 8, 27]\n",
      "[1, 8, 27, 64]\n",
      "[1, 8, 27, 64, 125]\n"
     ]
    }
   ],
   "source": [
    "# Write a function in python to find the sum of the cube of elements in a list. \n",
    "# The list is received as an argument to the function, in turn, the function must return the sum. \n",
    "# Write the main function which invokes the above function.\n",
    "list=[1,2,3,4,5]\n",
    "list_cube=[]\n",
    "sum=0\n",
    "def cube(list):\n",
    "    for i in list:\n",
    "        list_cube.append(i**3)\n",
    "        print(list_cube)\n",
    "for i in list_cube:\n",
    "    sum+=i\n",
    "    print(sum)\n",
    "     \n",
    "print(list_cube)       \n",
    "    \n",
    "        \n",
    "        \n",
    "\n",
    "cube(list)"
   ]
  },
  {
   "cell_type": "code",
   "execution_count": null,
   "metadata": {},
   "outputs": [],
   "source": [
    "# Write the definition of a function zero_ending(scores) to add all those values in the list of scores, \n",
    "# which are ending with zero and display the sum.\n",
    "# For example: If the scores contain [200, 456, 300, 100, 234, 678] The sum should be displayed as 600"
   ]
  },
  {
   "cell_type": "code",
   "execution_count": null,
   "metadata": {},
   "outputs": [],
   "source": [
    "# Write a definition of a method count_now(places) to find and display those place names, \n",
    "# in which there are more than 5 characters.\n",
    "\n",
    "# For example :\n",
    "# If the list places contains\n",
    "# [\"DELHI\",\"LONDON\",\"PARIS\",\"NEW YORK\",\"DUBAI\"]\n",
    "# The following should get displayed :\n",
    "# LONDON\n",
    "# NEW YORK"
   ]
  },
  {
   "cell_type": "code",
   "execution_count": null,
   "metadata": {},
   "outputs": [],
   "source": [
    "# Write a method in python to display the elements of list thrice if it is a number and display \n",
    "# the element terminated with ‘#’ if it is not a number.\n",
    "\n",
    "# For example, if the content of list is as follows :\n",
    "# ThisList=[‘41’,‘DROND’,‘GIRIRAJ’, ‘13’,‘ZARA’]\n",
    "# The output should be\n",
    "# 414141\n",
    "# DROND#\n",
    "# GIRIRAJ#\n",
    "# 131313\n",
    "# ZARA#"
   ]
  },
  {
   "cell_type": "code",
   "execution_count": null,
   "metadata": {},
   "outputs": [],
   "source": [
    "# For a given list of values in descending order, write a method in python to search \n",
    "# for a value with the help of Binary Search method. \n",
    "# The method should return position of the value and should return -1 if the value not present in the list.\n"
   ]
  },
  {
   "cell_type": "code",
   "execution_count": null,
   "metadata": {},
   "outputs": [],
   "source": [
    "# Write a function half_and_half that takes in a list and change the list \n",
    "# such that the elements of the second half are now in the first half.\n",
    "\n",
    "# For example, if the size of list is even and content of list is as follows :\n",
    "# my_liist = [10,20,30,40,50,60]\n",
    "# The output should be\n",
    "# [40,50,60,10,20,30]\n",
    "# if the size of list is odd and content of list is as follows :\n",
    "# my_liist = [10,20,30,40,50,60,70]\n",
    "# The output should be\n",
    "# [50,60,70,40,10,20,30]\n"
   ]
  },
  {
   "cell_type": "code",
   "execution_count": 10,
   "metadata": {
    "ExecuteTime": {
     "end_time": "2021-05-29T10:39:43.694779Z",
     "start_time": "2021-05-29T10:39:43.691446Z"
    }
   },
   "outputs": [
    {
     "ename": "SyntaxError",
     "evalue": "invalid syntax (<ipython-input-10-14b7c724a621>, line 9)",
     "output_type": "error",
     "traceback": [
      "\u001b[1;36m  File \u001b[1;32m\"<ipython-input-10-14b7c724a621>\"\u001b[1;36m, line \u001b[1;32m9\u001b[0m\n\u001b[1;33m    funt([10:'red'])\u001b[0m\n\u001b[1;37m            ^\u001b[0m\n\u001b[1;31mSyntaxError\u001b[0m\u001b[1;31m:\u001b[0m invalid syntax\n"
     ]
    }
   ],
   "source": [
    "# Write a function that accepts a dictionary as an argument. If the dictionary contains replicate values, \n",
    "# return an empty dictionary, otherwise, return a new dictionary whose values are now the keys and whose \n",
    "# keys are the values.\n",
    "def functu(d):\n",
    "    for val in d:\n",
    "        d[val]=dict.get(val,0)+1\n",
    "    for k,v in d.items():\n",
    "        print(f'{k} a {v}')\n",
    "funt([10:'red'])\n",
    "    \n",
    "    "
   ]
  },
  {
   "cell_type": "code",
   "execution_count": null,
   "metadata": {},
   "outputs": [],
   "source": []
  },
  {
   "cell_type": "code",
   "execution_count": null,
   "metadata": {},
   "outputs": [],
   "source": []
  },
  {
   "cell_type": "code",
   "execution_count": null,
   "metadata": {},
   "outputs": [],
   "source": []
  },
  {
   "cell_type": "code",
   "execution_count": null,
   "metadata": {},
   "outputs": [],
   "source": []
  }
 ],
 "metadata": {
  "colab": {
   "name": "Function_Assignment.ipynb",
   "provenance": []
  },
  "kernelspec": {
   "display_name": "Python 3",
   "language": "python",
   "name": "python3"
  },
  "language_info": {
   "codemirror_mode": {
    "name": "ipython",
    "version": 3
   },
   "file_extension": ".py",
   "mimetype": "text/x-python",
   "name": "python",
   "nbconvert_exporter": "python",
   "pygments_lexer": "ipython3",
   "version": "3.8.3"
  }
 },
 "nbformat": 4,
 "nbformat_minor": 1
}
