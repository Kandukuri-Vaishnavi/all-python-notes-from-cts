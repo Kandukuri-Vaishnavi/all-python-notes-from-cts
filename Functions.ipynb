{
 "cells": [
  {
   "cell_type": "markdown",
   "metadata": {},
   "source": [
    "# Functions"
   ]
  },
  {
   "cell_type": "code",
   "execution_count": null,
   "metadata": {},
   "outputs": [],
   "source": [
    "%autosave 60"
   ]
  },
  {
   "cell_type": "markdown",
   "metadata": {},
   "source": [
    "In programming, as we start to write bigger and more complex programs, we will often have to repeat the same set of steps in many different places in our program. Functions are a convenient way to group our code into reusable blocks. A function contains a sequence of steps that can be performed repeatedly throughout a program without having to repeat the process of writing the same code again. \n",
    "\n",
    "One of the many advantages of a function is that it takes 'parameters' i.e. we can put in different values as parameters and the same operations defined in the function will be performed on those parameters. Rather than copy paste the same block of code and then manually change wherever the values need to be changed, we just define a function with the required\n",
    "parameters and the function takes care of changing the values in the code (as long as we have defined the function correctly). "
   ]
  },
  {
   "cell_type": "markdown",
   "metadata": {},
   "source": [
    "The Python built-in functions are defined as the functions whose functionality is pre-defined in Python. These functions\n",
    "that are always present for use. These functions are known as Built-in Functions.There are 68 of them in Python 3 and can be viewed here : \n",
    "\n",
    "https://docs.python.org/3/library/functions.html"
   ]
  },
  {
   "cell_type": "markdown",
   "metadata": {},
   "source": [
    "##### User-defined functions are - as the name suggests - code defined by the user to run whenever the function is called."
   ]
  },
  {
   "cell_type": "markdown",
   "metadata": {},
   "source": [
    "Defining a function\n",
    "\n",
    "1. The def keyword indicates the beginning of a function (also known as a function header). The function header is followed\n",
    "by a name in snake_case format that describes the task the function performs. It’s best practice to give your functions a\n",
    "descriptive yet concise name.\n",
    "\n",
    "    - The rules for naming a function are a lot like rules for naming a variable:\n",
    "    - They must start with a letter or an underscore: _.\n",
    "    - They should be lowercase.\n",
    "    - They can have numbers.\n",
    "    - They can be any length (within reason), but keep them short.\n",
    "    - They can't be the same as a Python keyword.\n",
    "    - Not a rule but general convention - function names should be descriptive i.e. in a word or two describe what the\n",
    "      function does. A noun in the function name for returning a value and a verb if changing the state of a program.\n",
    "\n",
    "2. Following the function name is a pair of parenthesis ( ) that can hold input values known as parameters. When calling a \n",
    "function(see below for function calls) these same 'parameters' are called arguments. More on parameters/arguments below.\n",
    "\n",
    "3. A colon : to mark the end of the function header.\n",
    "\n",
    "4. DocString - A simple function may not require DocString explaining the use, required parameters or any other \n",
    "explanations. However, it is expected to have multi-line comments beginning and ending with triple double-quotes \"\"\"xxx\"\"\"\n",
    "when the function and code are complex. Not having documentation may render your code un-usable in the real world. This \n",
    "is also not a rule but general convention. \n",
    "\n",
    "5. Lastly, we have one or more valid python statements that make up the function body. \n",
    "   - The function body(code inside the function - must be indented! When the indent is stopped/broken - the function ends)\n",
    "   - The function may or may not have a return statement in the body. A return statement is used when we require a certain\n",
    "     output for later use. And if the function is to only perform a task such as print a statement or call another function\n",
    "     then a return statement may not be necessary.\n",
    "   - There may be one or more outputs from a return statement\n",
    "\n",
    "Function Calls\n",
    "\n",
    "1. A function can be called simply by writing it with parenthesis after the name of the function. Any mandatory arguments(\n",
    "   or keyword arguments that need to be changed from their default) must be put in these parenthesis e.g.\n",
    "\n",
    "def doHomework(a, b): ----> Function definition which takes two parameters (a and b)\n",
    "    <super code by Rikki for Robot> - 'Robot - do my homework!'\n",
    "\n",
    "doHomework('Descriptive', 'Inferential') ----> Function call with two arguments ('Descriptive', 'Inferential')\n",
    "\n",
    "Parameters and Arguments are discussed in detail later in the session."
   ]
  },
  {
   "cell_type": "code",
   "execution_count": 3,
   "metadata": {},
   "outputs": [
    {
     "name": "stdout",
     "output_type": "stream",
     "text": [
      "Welcome!\n",
      "None\n"
     ]
    }
   ],
   "source": [
    "#Examples:\n",
    "# With no return statement - will execute the code/task and then return None\n",
    "def welcome_message():\n",
    "    print('Welcome!')\n",
    "    \n",
    "print(welcome_message())"
   ]
  },
  {
   "cell_type": "code",
   "execution_count": 2,
   "metadata": {},
   "outputs": [
    {
     "data": {
      "text/plain": [
       "'Welcome one and all!'"
      ]
     },
     "execution_count": 2,
     "metadata": {},
     "output_type": "execute_result"
    }
   ],
   "source": [
    "#With return statement\n",
    "def welcome_again():\n",
    "    return 'Welcome one and all!'\n",
    "\n",
    "welcome_again()\n",
    "\n"
   ]
  },
  {
   "cell_type": "code",
   "execution_count": 4,
   "metadata": {},
   "outputs": [
    {
     "name": "stdout",
     "output_type": "stream",
     "text": [
      "('Welcome one!', 'Welcome all!')\n"
     ]
    }
   ],
   "source": [
    "#With multiple return statements and with docstring\n",
    "def welcome_again_N_again():\n",
    "    \"\"\"Notice the comma's between 'Welcome one!' and 'Welcome all!' - indicating they are two outputs seperated by a comma. \n",
    "    The outputs are returned in the form of a tuple by default. It is the COMMA which makes this into a tuple. To return\n",
    "    as different datatypes is possible as given in code later in the session.\"\"\"\n",
    "\n",
    "    return 'Welcome one!', 'Welcome all!'\n",
    "\n",
    "print(welcome_again_N_again())"
   ]
  },
  {
   "cell_type": "markdown",
   "metadata": {},
   "source": [
    "## Now starts the fun!!"
   ]
  },
  {
   "cell_type": "code",
   "execution_count": 5,
   "metadata": {},
   "outputs": [
    {
     "name": "stdout",
     "output_type": "stream",
     "text": [
      "Welcome!\n"
     ]
    }
   ],
   "source": [
    "welcome_message() #Since we have printed here - note below output is printed as would appear to a user. "
   ]
  },
  {
   "cell_type": "code",
   "execution_count": 6,
   "metadata": {},
   "outputs": [
    {
     "name": "stdout",
     "output_type": "stream",
     "text": [
      "----------------------------------------------------------------------------------------------------\n"
     ]
    }
   ],
   "source": [
    "welcome_again() #Since there is no print command here - this is the return or output. On another IDE this would not be\n",
    "#thrown out at all. \n",
    "print('-'*100)"
   ]
  },
  {
   "cell_type": "code",
   "execution_count": 7,
   "metadata": {},
   "outputs": [
    {
     "data": {
      "text/plain": [
       "('Welcome one!', 'Welcome all!')"
      ]
     },
     "execution_count": 7,
     "metadata": {},
     "output_type": "execute_result"
    }
   ],
   "source": [
    "welcome_again_N_again() #Again, note here that only because it is Jupyter you are getting an output below. On any other interpreter\n",
    "# you would not be able to see any output unless you printed it. "
   ]
  },
  {
   "cell_type": "code",
   "execution_count": 8,
   "metadata": {},
   "outputs": [
    {
     "name": "stdout",
     "output_type": "stream",
     "text": [
      "Help on function welcome_again_N_again in module __main__:\n",
      "\n",
      "welcome_again_N_again()\n",
      "    Notice the comma's between 'Welcome one!' and 'Welcome all!' - indicating they are two outputs seperated by a comma. \n",
      "    The outputs are returned in the form of a tuple by default. It is the COMMA which makes this into a tuple. To return\n",
      "    as different datatypes is possible as given in code later in the session.\n",
      "\n"
     ]
    }
   ],
   "source": [
    "# Example of using help on a function to view its DocString\n",
    "\n",
    "help(welcome_again_N_again)"
   ]
  },
  {
   "cell_type": "code",
   "execution_count": 9,
   "metadata": {},
   "outputs": [
    {
     "name": "stdout",
     "output_type": "stream",
     "text": [
      "Notice the comma's between 'Welcome one!' and 'Welcome all!' - indicating they are two outputs seperated by a comma. \n",
      "    The outputs are returned in the form of a tuple by default. It is the COMMA which makes this into a tuple. To return\n",
      "    as different datatypes is possible as given in code later in the session.\n"
     ]
    }
   ],
   "source": [
    "# Using __doc__ method to view docstring\n",
    "print(welcome_again_N_again.__doc__)"
   ]
  },
  {
   "cell_type": "code",
   "execution_count": 10,
   "metadata": {},
   "outputs": [],
   "source": [
    "#Use dir(function) to see available methods of class or function\n",
    "dir(welcome_again_N_again)\n",
    "\n",
    "#Setting DocString for a function after having defined the function\n",
    "# This REPLACES any DocString that was implemented during function definition. \n",
    "\n",
    "welcome_again_N_again.__doc__ = 'Set DocString after defining function'"
   ]
  },
  {
   "cell_type": "code",
   "execution_count": 11,
   "metadata": {},
   "outputs": [
    {
     "name": "stdout",
     "output_type": "stream",
     "text": [
      "Help on function welcome_again_N_again in module __main__:\n",
      "\n",
      "welcome_again_N_again()\n",
      "    Set DocString after defining function\n",
      "\n"
     ]
    }
   ],
   "source": [
    "help(welcome_again_N_again)"
   ]
  },
  {
   "cell_type": "code",
   "execution_count": 12,
   "metadata": {},
   "outputs": [
    {
     "name": "stdout",
     "output_type": "stream",
     "text": [
      "Set DocString after defining function\n"
     ]
    }
   ],
   "source": [
    "print(welcome_again_N_again.__doc__)"
   ]
  },
  {
   "cell_type": "code",
   "execution_count": 13,
   "metadata": {},
   "outputs": [
    {
     "name": "stdout",
     "output_type": "stream",
     "text": [
      "('Welcome one!', 'Welcome all!')\n",
      "<class 'tuple'>\n"
     ]
    }
   ],
   "source": [
    "# In case of multiple returns from a function, the variables are returned in a tuple by default. Tuples are the easiest to \n",
    "# pack and unpack so one may not need to use anything but the default. However, the function can be altered to return the\n",
    "# variables in a different datatype format as evidenced below.\n",
    "\n",
    "test = welcome_again_N_again()\n",
    "\n",
    "print(test)\n",
    "print(type(test))"
   ]
  },
  {
   "cell_type": "code",
   "execution_count": 14,
   "metadata": {},
   "outputs": [
    {
     "name": "stdout",
     "output_type": "stream",
     "text": [
      "Welcome one!\n",
      "Welcome all!\n"
     ]
    }
   ],
   "source": [
    "# We could directly unpack the returns if we wished to.\n",
    "\n",
    "a,b = welcome_again_N_again()\n",
    "\n",
    "print(a)\n",
    "print(b)"
   ]
  },
  {
   "cell_type": "code",
   "execution_count": 15,
   "metadata": {},
   "outputs": [
    {
     "name": "stdout",
     "output_type": "stream",
     "text": [
      "['Welcome one!', 'Welcome all!']\n",
      "<class 'list'>\n"
     ]
    }
   ],
   "source": [
    "def welcome_message_again_N_again_list():\n",
    "    return ['Welcome one!', 'Welcome all!']\n",
    "\n",
    "test1 = welcome_message_again_N_again_list()\n",
    "\n",
    "print(test1)\n",
    "print(type(test1))\n"
   ]
  },
  {
   "cell_type": "code",
   "execution_count": 16,
   "metadata": {},
   "outputs": [
    {
     "name": "stdout",
     "output_type": "stream",
     "text": [
      "{'Welcome all!', 'Welcome one!'}\n",
      "<class 'set'>\n"
     ]
    }
   ],
   "source": [
    "def welcome_message_again_N_again_set():\n",
    "    return {'Welcome one!', 'Welcome all!'}\n",
    "\n",
    "test2 = welcome_message_again_N_again_set()\n",
    "\n",
    "print(test2)\n",
    "print(type(test2))"
   ]
  },
  {
   "cell_type": "code",
   "execution_count": 17,
   "metadata": {},
   "outputs": [
    {
     "name": "stdout",
     "output_type": "stream",
     "text": [
      "{'a': 'Welcome One', 'b': 'Welcome all'}\n",
      "<class 'dict'>\n"
     ]
    }
   ],
   "source": [
    "def welcome_again_N_again_dict():\n",
    "    a = 'Welcome One'\n",
    "    b = 'Welcome all'\n",
    "    return {'a':a, 'b': b}\n",
    "\n",
    "test3 = welcome_again_N_again_dict()\n",
    "\n",
    "print(test3)\n",
    "print(type(test3))"
   ]
  },
  {
   "cell_type": "code",
   "execution_count": 18,
   "metadata": {},
   "outputs": [],
   "source": [
    "# Function Calls continued\n",
    "# Functions can be called by simply stating them with the following syntax:\n",
    "\n",
    "welcome_again_N_again()\n",
    "\n",
    "x = 10\n",
    "\n"
   ]
  },
  {
   "cell_type": "code",
   "execution_count": 19,
   "metadata": {},
   "outputs": [],
   "source": [
    "#Or an object can be created where the output of the function is stored in the variable/object\n",
    "\n",
    "test4 = welcome_again_N_again() #No output since the return is only stored in the object"
   ]
  },
  {
   "cell_type": "code",
   "execution_count": 20,
   "metadata": {},
   "outputs": [
    {
     "name": "stdout",
     "output_type": "stream",
     "text": [
      "('Welcome one!', 'Welcome all!')\n"
     ]
    }
   ],
   "source": [
    "print(test4) #Print the output that was stored in variable/object."
   ]
  },
  {
   "cell_type": "code",
   "execution_count": 21,
   "metadata": {},
   "outputs": [
    {
     "name": "stdout",
     "output_type": "stream",
     "text": [
      "1670882154384\n",
      "1670881647552\n"
     ]
    }
   ],
   "source": [
    "#Please also remember that function<object> and function<call> are two different things stored in two different memory IDs'.\n",
    "# A function<object> - the code that we want to re-use is stored at one memory location. While the return (or output) of\n",
    "# the function i.e. function<call> is stored at a different location. \n",
    "\n",
    "print(id(welcome_again_N_again)) # Note no parenthesis so function has not been called\n",
    "print(id(welcome_again_N_again())) # Note the parenthesis. Function has been called."
   ]
  },
  {
   "cell_type": "code",
   "execution_count": 22,
   "metadata": {},
   "outputs": [
    {
     "name": "stdout",
     "output_type": "stream",
     "text": [
      "1670882154384\n",
      "1670881647552\n"
     ]
    }
   ],
   "source": [
    "testA = welcome_again_N_again # Note no parenthesis so function has not been called\n",
    "testB = welcome_again_N_again() # Note the parenthesis. Function has been called.\n",
    "\n",
    "print(id(testA))\n",
    "print(id(testB))"
   ]
  },
  {
   "cell_type": "markdown",
   "metadata": {},
   "source": [
    "As we see the id for Function {object} and function {call} are different. However, when stored in a variable - the variable\n",
    "points to the function{object} or function{call} id - expounding on the idea of variables as labels and memory re-usability\n",
    "in Python. "
   ]
  },
  {
   "cell_type": "code",
   "execution_count": 23,
   "metadata": {},
   "outputs": [
    {
     "name": "stdout",
     "output_type": "stream",
     "text": [
      "Rikki, your payables are 900 and including GST works out to 1044.0.\n"
     ]
    }
   ],
   "source": [
    "# Functions can be 'nested' or called inside other functions. \n",
    "\n",
    "def add_tax(a):\n",
    "    b = a*0.16\n",
    "    return b\n",
    "\n",
    "def billing_statement(name, payables):\n",
    "    x = sum(payables)\n",
    "    total_bill = x + add_tax(x)\n",
    "    return f'{name}, your payables are {x} and including GST works out to {total_bill}.'\n",
    "    \n",
    "    \n",
    "print(billing_statement('Rikki', [100, 500, 300]))\n"
   ]
  },
  {
   "cell_type": "code",
   "execution_count": 24,
   "metadata": {},
   "outputs": [
    {
     "name": "stdout",
     "output_type": "stream",
     "text": [
      "Welcome!\n"
     ]
    }
   ],
   "source": [
    "# Interestingly a function can be stored in lists, dictionaries, tuples and sets and of course in a\n",
    "# variable. Note - function call and function <object> are two different things. And either of them can be stored in a \n",
    "# variable or list, dict, tuple and set datatypes\n",
    "\n",
    "def welcome_message():\n",
    "    print('Welcome!')\n",
    "    \n",
    "variable1 = welcome_message\n",
    "variable2 = welcome_message()"
   ]
  },
  {
   "cell_type": "code",
   "execution_count": 25,
   "metadata": {},
   "outputs": [
    {
     "name": "stdout",
     "output_type": "stream",
     "text": [
      "<function welcome_message at 0x00000185085B23A0>\n",
      "None\n"
     ]
    }
   ],
   "source": [
    "print(variable1)\n",
    "print(variable2)"
   ]
  },
  {
   "cell_type": "code",
   "execution_count": 26,
   "metadata": {},
   "outputs": [
    {
     "name": "stdout",
     "output_type": "stream",
     "text": [
      "<class 'function'>\n"
     ]
    }
   ],
   "source": [
    "#When a function <object> is stored to a variable - the variable now starts acting exactly like the function and you can \n",
    "#now call this variable as a function.\n",
    "\n",
    "def wel_mes(x):\n",
    "    return f'Welcome to {x}!'\n",
    "\n",
    "variable3 = wel_mes #Note no parenthisis on the function while assigning - so function not called and object stored.\n",
    "\n",
    "print(type(variable3))"
   ]
  },
  {
   "cell_type": "code",
   "execution_count": 27,
   "metadata": {},
   "outputs": [
    {
     "name": "stdout",
     "output_type": "stream",
     "text": [
      "Welcome to the Bahamas!\n"
     ]
    }
   ],
   "source": [
    "print(variable3('the Bahamas'))"
   ]
  },
  {
   "cell_type": "code",
   "execution_count": 28,
   "metadata": {},
   "outputs": [
    {
     "name": "stdout",
     "output_type": "stream",
     "text": [
      "10\n",
      "Rikki\n",
      "('Welcome one!', 'Welcome all!')\n"
     ]
    }
   ],
   "source": [
    "list1 = [10, 'Rikki', welcome_again_N_again()]\n",
    "\n",
    "for x in list1:\n",
    "    print(x)"
   ]
  },
  {
   "cell_type": "code",
   "execution_count": 30,
   "metadata": {},
   "outputs": [
    {
     "name": "stdout",
     "output_type": "stream",
     "text": [
      "('Welcome one!', 'Welcome all!')\n",
      "('Welcome one!', 'Welcome all!')\n"
     ]
    }
   ],
   "source": [
    "test5 = list1[2]\n",
    "\n",
    "print(test5)\n",
    "print(list1[2])"
   ]
  },
  {
   "cell_type": "code",
   "execution_count": 31,
   "metadata": {},
   "outputs": [
    {
     "name": "stdout",
     "output_type": "stream",
     "text": [
      "<class 'tuple'>\n"
     ]
    }
   ],
   "source": [
    "tuple1 = (10, 'Rikki', welcome_again_N_again())\n",
    "print(type(tuple1))"
   ]
  },
  {
   "cell_type": "code",
   "execution_count": 32,
   "metadata": {},
   "outputs": [
    {
     "name": "stdout",
     "output_type": "stream",
     "text": [
      "10\n",
      "Rikki\n",
      "('Welcome one!', 'Welcome all!')\n"
     ]
    }
   ],
   "source": [
    "for x in tuple1:\n",
    "    print(x)"
   ]
  },
  {
   "cell_type": "code",
   "execution_count": 33,
   "metadata": {},
   "outputs": [
    {
     "name": "stdout",
     "output_type": "stream",
     "text": [
      "10\n",
      "Rikki\n",
      "('Welcome one!', 'Welcome all!')\n"
     ]
    }
   ],
   "source": [
    "set1 = {10, 'Rikki', welcome_again_N_again()}\n",
    "for x in set1:\n",
    "    print(x)"
   ]
  },
  {
   "cell_type": "code",
   "execution_count": 34,
   "metadata": {},
   "outputs": [
    {
     "ename": "TypeError",
     "evalue": "'set' object is not subscriptable",
     "output_type": "error",
     "traceback": [
      "\u001b[1;31m---------------------------------------------------------------------------\u001b[0m",
      "\u001b[1;31mTypeError\u001b[0m                                 Traceback (most recent call last)",
      "\u001b[1;32m<ipython-input-34-bd7bad459e6a>\u001b[0m in \u001b[0;36m<module>\u001b[1;34m\u001b[0m\n\u001b[1;32m----> 1\u001b[1;33m \u001b[0mtest5\u001b[0m \u001b[1;33m=\u001b[0m \u001b[0mset1\u001b[0m\u001b[1;33m[\u001b[0m\u001b[1;36m1\u001b[0m\u001b[1;33m]\u001b[0m\u001b[1;33m(\u001b[0m\u001b[1;33m)\u001b[0m\u001b[1;33m\u001b[0m\u001b[1;33m\u001b[0m\u001b[0m\n\u001b[0m",
      "\u001b[1;31mTypeError\u001b[0m: 'set' object is not subscriptable"
     ]
    }
   ],
   "source": [
    "test5 = set1[1]()"
   ]
  },
  {
   "cell_type": "code",
   "execution_count": 37,
   "metadata": {},
   "outputs": [
    {
     "name": "stdout",
     "output_type": "stream",
     "text": [
      "1670882154384\n",
      "10\n",
      "Rikki\n",
      "<function welcome_again_N_again at 0x0000018508565790>\n"
     ]
    }
   ],
   "source": [
    "dict1 = {1 : 10, 2:'Rikki', 3:welcome_again_N_again}\n",
    "\n",
    "\n",
    "print(id(welcome_again_N_again))\n",
    "\n",
    "for x in dict1.values():\n",
    "    print(x)"
   ]
  },
  {
   "cell_type": "code",
   "execution_count": 38,
   "metadata": {},
   "outputs": [
    {
     "name": "stdout",
     "output_type": "stream",
     "text": [
      "('Welcome one!', 'Welcome all!')\n"
     ]
    }
   ],
   "source": [
    "test5 = dict1[3]()\n",
    "\n",
    "print(test5)"
   ]
  },
  {
   "cell_type": "code",
   "execution_count": null,
   "metadata": {},
   "outputs": [],
   "source": []
  },
  {
   "cell_type": "code",
   "execution_count": 39,
   "metadata": {},
   "outputs": [
    {
     "name": "stdout",
     "output_type": "stream",
     "text": [
      "Welcome!\n",
      "None\n"
     ]
    }
   ],
   "source": [
    "#Examples:\n",
    "# With no return statement - will execute the code/task and then return None\n",
    "def welcome_message():\n",
    "    print('Welcome!')\n",
    "    \n",
    "print(welcome_message())"
   ]
  },
  {
   "cell_type": "code",
   "execution_count": 40,
   "metadata": {},
   "outputs": [
    {
     "data": {
      "text/plain": [
       "'Welcome one and all!'"
      ]
     },
     "execution_count": 40,
     "metadata": {},
     "output_type": "execute_result"
    }
   ],
   "source": [
    "#With return statement\n",
    "def welcome_again():\n",
    "    return 'Welcome one and all!'\n",
    "\n",
    "welcome_again()\n",
    "\n"
   ]
  },
  {
   "cell_type": "code",
   "execution_count": 41,
   "metadata": {},
   "outputs": [
    {
     "name": "stdout",
     "output_type": "stream",
     "text": [
      "('Welcome one!', 'Welcome all!')\n"
     ]
    }
   ],
   "source": [
    "#With multiple return statements and with docstring\n",
    "def welcome_again_N_again():\n",
    "    \"\"\"Notice the comma's between 'Welcome one!' and 'Welcome all!' - indicating they are two outputs seperated by a comma. \n",
    "    The outputs are returned in the form of a tuple by default. It is the COMMA which makes this into a tuple. To return\n",
    "    as different datatypes is possible as given in code later in the session.\"\"\"\n",
    "\n",
    "    return 'Welcome one!', 'Welcome all!'\n",
    "\n",
    "print(welcome_again_N_again())"
   ]
  },
  {
   "cell_type": "code",
   "execution_count": 42,
   "metadata": {},
   "outputs": [
    {
     "name": "stdout",
     "output_type": "stream",
     "text": [
      "<function welcome_message at 0x00000185086468B0>\n",
      "<function welcome_again at 0x0000018508646940>\n",
      "<function welcome_again_N_again at 0x0000018508646430>\n",
      "1670883076272\n"
     ]
    }
   ],
   "source": [
    "list2 = [welcome_message, welcome_again, welcome_again_N_again]\n",
    "\n",
    "for x in list2:\n",
    "    print(x)\n",
    "    \n",
    "print(id(welcome_message))"
   ]
  },
  {
   "cell_type": "code",
   "execution_count": 43,
   "metadata": {},
   "outputs": [
    {
     "name": "stdout",
     "output_type": "stream",
     "text": [
      "Welcome!\n",
      "Return of <function welcome_message at 0x00000185086468B0> execution is None.\n",
      "Return of <function welcome_again at 0x0000018508646940> execution is Welcome one and all!.\n",
      "Return of <function welcome_again_N_again at 0x0000018508646430> execution is ('Welcome one!', 'Welcome all!').\n"
     ]
    }
   ],
   "source": [
    "for x in list2:\n",
    "    print(f'Return of {x} execution is {x()}.')"
   ]
  },
  {
   "cell_type": "code",
   "execution_count": 44,
   "metadata": {},
   "outputs": [],
   "source": [
    "\n",
    "\n",
    "def welcome():\n",
    "    return 'Welcome!'\n",
    "\n",
    "# Functions can be passed as arguments to other functions. \n",
    "\n",
    "def wel_mes_wFunc(x, y):\n",
    "    '''x expects a string and y expects a function object(without call)'''\n",
    "    print(y()+' ' + x)"
   ]
  },
  {
   "cell_type": "code",
   "execution_count": 45,
   "metadata": {},
   "outputs": [
    {
     "name": "stdout",
     "output_type": "stream",
     "text": [
      "Welcome! Rikki\n"
     ]
    }
   ],
   "source": [
    "wel_mes_wFunc('Rikki', welcome)"
   ]
  },
  {
   "cell_type": "markdown",
   "metadata": {},
   "source": [
    "### Function parameters and function arguments"
   ]
  },
  {
   "cell_type": "code",
   "execution_count": null,
   "metadata": {},
   "outputs": [],
   "source": [
    "# While defining the function, parameters that we mandate for the code to run are inserted in the parenthesis and called\n",
    "# the function parameters\n",
    "# When calling the function, the data (variable, literal or object) that we input within parenthesis are called the arguments.\n",
    "# Basically, while defining the function and asking for parameters - the required input is called parameters and while\n",
    "# calling the function, these same inputs are called the arguments. "
   ]
  },
  {
   "cell_type": "code",
   "execution_count": 46,
   "metadata": {},
   "outputs": [
    {
     "name": "stdout",
     "output_type": "stream",
     "text": [
      "Welcome Rikki to the Ritz-Carlton!\n"
     ]
    }
   ],
   "source": [
    "# There are mainly two types of parameters:\n",
    "# 1. Positional\n",
    "#    1b - Positional arbitary arguments\n",
    "# 2. Keyword\n",
    "\n",
    "# 1. Positional arguments \n",
    "# Arguments that get assigned to variables by their position while calling the function are positional arguments\n",
    "\n",
    "# Example:\n",
    "\n",
    "def hotel_greet(name, hotel):\n",
    "    return f'Welcome {name} to the {hotel}!'\n",
    "\n",
    "print(hotel_greet('Rikki', 'Ritz-Carlton'))"
   ]
  },
  {
   "cell_type": "code",
   "execution_count": 50,
   "metadata": {},
   "outputs": [
    {
     "name": "stdout",
     "output_type": "stream",
     "text": [
      "Welcome to the Ritz-Carlton Rikki!\n"
     ]
    }
   ],
   "source": [
    "# Note that the positional arguments are assigned while CALLING the function. Thereafter, you may use the variables inside\n",
    "# the function code in no particular order. \n",
    "\n",
    "def hotel_greet(name, hotel):\n",
    "    return f'Welcome to the {hotel} {name}!'\n",
    "\n",
    "print(hotel_greet('Rikki', 'Ritz-Carlton'))"
   ]
  },
  {
   "cell_type": "code",
   "execution_count": 48,
   "metadata": {},
   "outputs": [
    {
     "name": "stdout",
     "output_type": "stream",
     "text": [
      "Welcome to the Rikki Ritz-Carlton!\n"
     ]
    }
   ],
   "source": [
    "# 2. Keyword arguments\n",
    "\n",
    "# However, remembering the order of the arguments while using positional arguments can be tedious or impractical. After\n",
    "# all - incorrect order of positional arguments may result in unusable or silly code. \n",
    "\n",
    "print(hotel_greet('Ritz-Carlton', 'Rikki'))"
   ]
  },
  {
   "cell_type": "code",
   "execution_count": 51,
   "metadata": {},
   "outputs": [
    {
     "name": "stdout",
     "output_type": "stream",
     "text": [
      "Welcome to the Ritz-Carlton Rikki!\n"
     ]
    }
   ],
   "source": [
    "# Python allows us to use keyword arguments to resolve this. \n",
    "\n",
    "# Positional parameters may also be called using Keyword arguments!\n",
    "\n",
    "print(hotel_greet(hotel='Ritz-Carlton', name = 'Rikki'))"
   ]
  },
  {
   "cell_type": "code",
   "execution_count": null,
   "metadata": {},
   "outputs": [],
   "source": []
  },
  {
   "cell_type": "code",
   "execution_count": 53,
   "metadata": {},
   "outputs": [],
   "source": [
    "# Note that the positional arguments are assigned while CALLING the function. Thereafter, you may use the variables inside\n",
    "# the function code in no particular order. \n",
    "\n",
    "def hotel_greet(name, hotel):\n",
    "    return f'Welcome to the {hotel} {name}!'"
   ]
  },
  {
   "cell_type": "code",
   "execution_count": 54,
   "metadata": {},
   "outputs": [
    {
     "name": "stdout",
     "output_type": "stream",
     "text": [
      "Welcome to the Shankar Astoria!\n"
     ]
    }
   ],
   "source": [
    "print(hotel_greet('Astoria', 'Shankar'))"
   ]
  },
  {
   "cell_type": "code",
   "execution_count": 57,
   "metadata": {},
   "outputs": [
    {
     "name": "stdout",
     "output_type": "stream",
     "text": [
      "15\n"
     ]
    }
   ],
   "source": [
    "def addn(x,y):\n",
    "    return x + y\n",
    "\n",
    "print(addn(10,5))"
   ]
  },
  {
   "cell_type": "code",
   "execution_count": 58,
   "metadata": {},
   "outputs": [
    {
     "name": "stdout",
     "output_type": "stream",
     "text": [
      "2.0\n",
      "0.5\n"
     ]
    }
   ],
   "source": [
    "def divis(x,y):\n",
    "    return x / y\n",
    "\n",
    "print(divis(10,5))\n",
    "\n",
    "print(divis(5,10))"
   ]
  },
  {
   "cell_type": "code",
   "execution_count": 59,
   "metadata": {},
   "outputs": [],
   "source": [
    "# Alternately, while defining the parameters itself - we could ask the arguments to be provided as keywords. In case \n",
    "# keyword arguments are not provided while calling the function, the keyword arguments can take their default arguments.\n",
    "\n",
    "def hotel_greeting(name='Rikki', hotel='Ritz-Carlton'):\n",
    "    return f'Welcome {name} to the {hotel}!'"
   ]
  },
  {
   "cell_type": "code",
   "execution_count": null,
   "metadata": {},
   "outputs": [],
   "source": []
  },
  {
   "cell_type": "code",
   "execution_count": 60,
   "metadata": {},
   "outputs": [
    {
     "name": "stdout",
     "output_type": "stream",
     "text": [
      "Welcome Rikki to the Ritz-Carlton!\n"
     ]
    }
   ],
   "source": [
    "print(hotel_greeting())"
   ]
  },
  {
   "cell_type": "code",
   "execution_count": 61,
   "metadata": {},
   "outputs": [
    {
     "name": "stdout",
     "output_type": "stream",
     "text": [
      "Welcome Varun to the Holiday Inn!\n"
     ]
    }
   ],
   "source": [
    "#Example of interchanging the order of the keyword arguments without affecting the code\n",
    "\n",
    "print(hotel_greeting(hotel = 'Holiday Inn', name = 'Varun'))"
   ]
  },
  {
   "cell_type": "code",
   "execution_count": 62,
   "metadata": {},
   "outputs": [
    {
     "name": "stdout",
     "output_type": "stream",
     "text": [
      "Welcome Rikki to the Four Seasons!\n"
     ]
    }
   ],
   "source": [
    "# Here we can also only change only 1 of the arguments and the rest of the arguments will have the default value. \n",
    "\n",
    "print(hotel_greeting(hotel = 'Four Seasons'))"
   ]
  },
  {
   "cell_type": "code",
   "execution_count": 63,
   "metadata": {},
   "outputs": [],
   "source": [
    "# Of course, if the function has more than two keywords (example 5), you could change 1 to 4(or also 5) arguments and the \n",
    "# rest values would default. \n",
    "\n",
    "# We can mix and match positional and keyword arguments\n",
    "\n",
    "def hotel_greetings(hotel, name=\"Rikki\"):\n",
    "    return f'Welcome to {hotel}, {name}!'"
   ]
  },
  {
   "cell_type": "code",
   "execution_count": 64,
   "metadata": {},
   "outputs": [
    {
     "name": "stdout",
     "output_type": "stream",
     "text": [
      "Welcome to The Hyatt, Rikki!\n"
     ]
    }
   ],
   "source": [
    "print(hotel_greetings('The Hyatt')) #Keyword argument takes default"
   ]
  },
  {
   "cell_type": "code",
   "execution_count": 65,
   "metadata": {},
   "outputs": [
    {
     "name": "stdout",
     "output_type": "stream",
     "text": [
      "Welcome to Hell, Steve Jobs!\n"
     ]
    }
   ],
   "source": [
    "print(hotel_greetings('Hell', name = 'Steve Jobs')) # Keyword argument changed"
   ]
  },
  {
   "cell_type": "code",
   "execution_count": 66,
   "metadata": {},
   "outputs": [],
   "source": [
    "# One very important thing to note is that POSITIONAL arguments must ALWAYS ALWAYS ALWAYS be settled (i.e. ALL positional\n",
    "# arguments should have been assigned values before assigning/altering Keyword arguments)\n",
    "\n",
    "def hotel_greetings(hotel, name=None):\n",
    "     return f'Welcome to {hotel}, {name}!'"
   ]
  },
  {
   "cell_type": "code",
   "execution_count": 67,
   "metadata": {},
   "outputs": [
    {
     "ename": "SyntaxError",
     "evalue": "positional argument follows keyword argument (<ipython-input-67-4a956c76579d>, line 1)",
     "output_type": "error",
     "traceback": [
      "\u001b[1;36m  File \u001b[1;32m\"<ipython-input-67-4a956c76579d>\"\u001b[1;36m, line \u001b[1;32m1\u001b[0m\n\u001b[1;33m    print(hotel_greetings(name='Steve Jobs', 'Hell')) # This will throw an error\u001b[0m\n\u001b[1;37m                                             ^\u001b[0m\n\u001b[1;31mSyntaxError\u001b[0m\u001b[1;31m:\u001b[0m positional argument follows keyword argument\n"
     ]
    }
   ],
   "source": [
    "print(hotel_greetings(name='Steve Jobs', 'Hell')) # This will throw an error"
   ]
  },
  {
   "cell_type": "code",
   "execution_count": 68,
   "metadata": {},
   "outputs": [
    {
     "name": "stdout",
     "output_type": "stream",
     "text": [
      "Welcome to Hell, None!\n"
     ]
    }
   ],
   "source": [
    "print(hotel_greetings('Hell')) # This works"
   ]
  },
  {
   "cell_type": "code",
   "execution_count": 69,
   "metadata": {},
   "outputs": [
    {
     "name": "stdout",
     "output_type": "stream",
     "text": [
      "Welcome to Hell, Steve Jobs!\n"
     ]
    }
   ],
   "source": [
    "# Funnily, this works as well though the orders have been changed. The positional argument has been assigned using it like\n",
    "# a keyword argument!\n",
    "\n",
    "print(hotel_greetings(name = 'Steve Jobs', hotel = 'Hell')) # This works"
   ]
  },
  {
   "cell_type": "code",
   "execution_count": 70,
   "metadata": {},
   "outputs": [
    {
     "name": "stdout",
     "output_type": "stream",
     "text": [
      "Welcome Rikki!\n",
      "Welcome Rocky!\n",
      "Welcome Vikki!\n",
      "Welcome Mickey!\n"
     ]
    }
   ],
   "source": [
    "# Arbitary parameters. \n",
    "\n",
    "# When we do not know in advance the number of arguments to be passed into a function, while defining the function we can\n",
    "# prefix the parameter with an asterisk(*) denoting multiple arbitary arguments. \n",
    "\n",
    "# Python wraps arbitary(multiple) parameters in a tuple and accesses them using this tuple.\n",
    "\n",
    "def greetings_mass(*names):\n",
    "    for name in names:\n",
    "        print(f'Welcome {name}!')\n",
    "\n",
    "\n",
    "greetings_mass('Rikki','Rocky','Vikki','Mickey')"
   ]
  },
  {
   "cell_type": "code",
   "execution_count": 73,
   "metadata": {},
   "outputs": [
    {
     "name": "stdout",
     "output_type": "stream",
     "text": [
      "Rikki Rocky Vikki Mickey\n"
     ]
    }
   ],
   "source": [
    "def greetings_mass_tup(*names):\n",
    "    a,b,c,d = names\n",
    "    print(a,b,c,d)\n",
    "\n",
    "    \n",
    "greetings_mass_tup('Rikki', 'Rocky', 'Vikki', 'Mickey')"
   ]
  },
  {
   "cell_type": "code",
   "execution_count": 74,
   "metadata": {},
   "outputs": [
    {
     "name": "stdout",
     "output_type": "stream",
     "text": [
      "Rikki\n",
      "Rocky\n",
      "Vicky\n",
      "Mickey\n"
     ]
    }
   ],
   "source": [
    "#Of course, the same thing accomplished by *args can be accomplished by passing a list as an argument in a function.\n",
    "\n",
    "def greetings_mass_list(a):\n",
    "    for x in a:\n",
    "        print(x)\n",
    "\n",
    "greetings_mass_list(['Rikki', 'Rocky', 'Vicky', 'Mickey'])"
   ]
  },
  {
   "cell_type": "code",
   "execution_count": 75,
   "metadata": {},
   "outputs": [
    {
     "name": "stdout",
     "output_type": "stream",
     "text": [
      "([1, 2, 3, 4, 'a', 'b', 'c', 'd'], [11, 12, 13, 14, 'a', 'b', 'c', 'd'], [21, 22, 23, 24, 'a', 'b', 'c', 'd'])\n"
     ]
    }
   ],
   "source": [
    "# However, the fun starts when you combine *args (arbitary arguments) with lists. \n",
    "\n",
    "def asteriskargs_n_lists(*a):\n",
    "    for x in a:\n",
    "        x += list('abcd')\n",
    "    return a\n",
    "\n",
    "\n",
    "lst1 = [1,2,3,4]\n",
    "lst2 = [11,12,13,14]\n",
    "lst3 = [21,22,23,24]\n",
    "\n",
    "print(asteriskargs_n_lists(lst1, lst2,lst3))"
   ]
  },
  {
   "cell_type": "code",
   "execution_count": 77,
   "metadata": {},
   "outputs": [
    {
     "name": "stdout",
     "output_type": "stream",
     "text": [
      "[1, 2, 3, 4, 'a', 'b', 'c', 'd']\n",
      "[11, 12, 13, 14, 'a', 'b', 'c', 'd']\n",
      "[21, 22, 23, 24, 'a', 'b', 'c', 'd']\n"
     ]
    }
   ],
   "source": [
    "print(lst1)\n",
    "print(lst2)\n",
    "print(lst3)"
   ]
  },
  {
   "cell_type": "code",
   "execution_count": 78,
   "metadata": {},
   "outputs": [],
   "source": [
    "def hotel_greetings_mass(*names, hotel):\n",
    "    for name in names:\n",
    "        print(f'Welcome {name} to {hotel}!')\n",
    "        "
   ]
  },
  {
   "cell_type": "code",
   "execution_count": 79,
   "metadata": {},
   "outputs": [
    {
     "ename": "TypeError",
     "evalue": "hotel_greetings_mass() missing 1 required keyword-only argument: 'hotel'",
     "output_type": "error",
     "traceback": [
      "\u001b[1;31m---------------------------------------------------------------------------\u001b[0m",
      "\u001b[1;31mTypeError\u001b[0m                                 Traceback (most recent call last)",
      "\u001b[1;32m<ipython-input-79-89e448a7ecc5>\u001b[0m in \u001b[0;36m<module>\u001b[1;34m\u001b[0m\n\u001b[1;32m----> 1\u001b[1;33m \u001b[0mhotel_greetings_mass\u001b[0m\u001b[1;33m(\u001b[0m\u001b[1;33m(\u001b[0m\u001b[1;34m'Rikki'\u001b[0m\u001b[1;33m,\u001b[0m \u001b[1;34m'Rocky'\u001b[0m\u001b[1;33m,\u001b[0m \u001b[1;34m'Vicky'\u001b[0m\u001b[1;33m,\u001b[0m \u001b[1;34m'Mickey'\u001b[0m\u001b[1;33m)\u001b[0m\u001b[1;33m,\u001b[0m\u001b[1;34m'The Ritz-Carlton'\u001b[0m\u001b[1;33m)\u001b[0m \u001b[1;31m# This will throw an error since the\u001b[0m\u001b[1;33m\u001b[0m\u001b[1;33m\u001b[0m\u001b[0m\n\u001b[0m\u001b[0;32m      2\u001b[0m \u001b[1;31m#variable 'hotel' has not been defined.\u001b[0m\u001b[1;33m\u001b[0m\u001b[1;33m\u001b[0m\u001b[1;33m\u001b[0m\u001b[0m\n",
      "\u001b[1;31mTypeError\u001b[0m: hotel_greetings_mass() missing 1 required keyword-only argument: 'hotel'"
     ]
    }
   ],
   "source": [
    "hotel_greetings_mass(('Rikki', 'Rocky', 'Vicky', 'Mickey'),'The Ritz-Carlton') # This will throw an error since the\n",
    "#variable 'hotel' has not been defined."
   ]
  },
  {
   "cell_type": "code",
   "execution_count": 80,
   "metadata": {},
   "outputs": [
    {
     "name": "stdout",
     "output_type": "stream",
     "text": [
      "Welcome Rikki to The Ritz-Carlton!\n",
      "Welcome Rocky to The Ritz-Carlton!\n",
      "Welcome Vicky to The Ritz-Carlton!\n",
      "Welcome Mickey to The Ritz-Carlton!\n"
     ]
    }
   ],
   "source": [
    "hotel_greetings_mass('Rikki', 'Rocky', 'Vicky', 'Mickey',hotel = 'The Ritz-Carlton') #This works - So, even though while\n",
    "# defining the function 'hotel' was a positional argument, in this case it has to be treated as a keyword argument since\n",
    "# Python doesnt know where the arbitary argument (denoted by *name) ends and which value to assign to hotel. "
   ]
  },
  {
   "cell_type": "code",
   "execution_count": 81,
   "metadata": {},
   "outputs": [],
   "source": [
    "def hotel_greetings_mass2(*names, hotel='The Ritz-Carlton'):\n",
    "    for name in names:\n",
    "        print(f'Welcome {name} to {hotel}!')"
   ]
  },
  {
   "cell_type": "code",
   "execution_count": 82,
   "metadata": {},
   "outputs": [
    {
     "name": "stdout",
     "output_type": "stream",
     "text": [
      "Welcome Rikki to The Ritz-Carlton!\n",
      "Welcome Rocky to The Ritz-Carlton!\n",
      "Welcome Vicky to The Ritz-Carlton!\n",
      "Welcome Mickey to The Ritz-Carlton!\n"
     ]
    }
   ],
   "source": [
    "hotel_greetings_mass2('Rikki', 'Rocky', 'Vicky', 'Mickey') # This works since the keyword argument 'hotel' picked up the\n",
    "# default value"
   ]
  },
  {
   "cell_type": "code",
   "execution_count": 83,
   "metadata": {},
   "outputs": [
    {
     "name": "stdout",
     "output_type": "stream",
     "text": [
      "Welcome Rikki to The Holiday Inn!\n",
      "Welcome Rocky to The Holiday Inn!\n",
      "Welcome Vicky to The Holiday Inn!\n",
      "Welcome Mickey to The Holiday Inn!\n"
     ]
    }
   ],
   "source": [
    "hotel_greetings_mass2('Rikki', 'Rocky', 'Vicky', 'Mickey', hotel = 'The Holiday Inn') #This also works since the keyword\n",
    "# # argument value has only been changed."
   ]
  },
  {
   "cell_type": "code",
   "execution_count": 85,
   "metadata": {},
   "outputs": [],
   "source": [
    "def hotel_greetings_mass3(hotel, *names):\n",
    "    for name in names:\n",
    "        print(f'Welcome {name} to {hotel}')\n",
    "        "
   ]
  },
  {
   "cell_type": "code",
   "execution_count": 86,
   "metadata": {},
   "outputs": [
    {
     "name": "stdout",
     "output_type": "stream",
     "text": [
      "Welcome Rikki to The Ritz-Carlton\n",
      "Welcome Rocky to The Ritz-Carlton\n",
      "Welcome Vicky to The Ritz-Carlton\n",
      "Welcome Mickey to The Ritz-Carlton\n"
     ]
    }
   ],
   "source": [
    "hotel_greetings_mass3('The Ritz-Carlton', 'Rikki', 'Rocky', 'Vicky', 'Mickey') #This works also because the positional\n",
    "# argument 'hotel' has been settled before the arbitary positional arguments 'name'"
   ]
  },
  {
   "cell_type": "code",
   "execution_count": 87,
   "metadata": {},
   "outputs": [
    {
     "name": "stdout",
     "output_type": "stream",
     "text": [
      "name1 Rikki\n",
      "name2 Rocky\n",
      "name3 Vicky\n",
      "name4 Mickey\n"
     ]
    }
   ],
   "source": [
    "#Dictionary type Arbitary Keyword arguments - **kwargs\n",
    "\n",
    "# Functions can take unlimited values as part of a dictionary passed as **kwargs\n",
    "\n",
    "def greetings_mass_dict(a):\n",
    "    for i in a:\n",
    "        print(i, a[i])\n",
    "        \n",
    "greetings_mass_dict({'name1':'Rikki', 'name2':'Rocky', 'name3': 'Vicky', 'name4':'Mickey'})"
   ]
  },
  {
   "cell_type": "code",
   "execution_count": 88,
   "metadata": {},
   "outputs": [
    {
     "name": "stdout",
     "output_type": "stream",
     "text": [
      "{'name1': 'Rikki', 'name2': 'Rocky', 'name3': 'Vicky', 'name4': 'Mickey'}\n"
     ]
    }
   ],
   "source": [
    "def greetings_mass_dict_kwarg(**a):\n",
    "    print(a)\n",
    "\n",
    "greetings_mass_dict_kwarg(name1 =\"Rikki\", name2 =\"Rocky\", name3 = 'Vicky', name4 = 'Mickey')\n",
    " \n",
    "\n"
   ]
  },
  {
   "cell_type": "code",
   "execution_count": 89,
   "metadata": {},
   "outputs": [
    {
     "name": "stdout",
     "output_type": "stream",
     "text": [
      "<function greetings_mass_dict_kwarg at 0x0000018508667DC0>\n"
     ]
    }
   ],
   "source": [
    "print(greetings_mass_dict_kwarg)"
   ]
  },
  {
   "cell_type": "markdown",
   "metadata": {},
   "source": [
    "### Lambda functions"
   ]
  },
  {
   "cell_type": "code",
   "execution_count": null,
   "metadata": {},
   "outputs": [],
   "source": [
    "# Lambda functions are a special type of function in Python that can only evaluate expressions to one return line and have\n",
    "# no return keyword i.e They DO return an output but without specificying the return keyword. They are anonymous i.e. have\n",
    "# no name unlike normal functions which we name using the def keyword. However, lambda functions ARE defined i.e. what they\n",
    "# will do is stated - the difference is that normal functions are defined with the def keyword while lambda functions are\n",
    "# defined with the lambda keyword. "
   ]
  },
  {
   "cell_type": "code",
   "execution_count": null,
   "metadata": {},
   "outputs": [],
   "source": [
    "# The syntax for lambda is :\n",
    "\n",
    "# lambda variable(s): variable(s) included in an expression\n",
    "\n",
    "# A lambda function can have as many number of variables as we need but only ONE return output. We can use other functions\n",
    "# (including other lambda functions) inside a lambda function as long as everything results only in one return. "
   ]
  },
  {
   "cell_type": "code",
   "execution_count": 90,
   "metadata": {},
   "outputs": [
    {
     "name": "stdout",
     "output_type": "stream",
     "text": [
      "<function <lambda> at 0x0000018508667F70>\n"
     ]
    }
   ],
   "source": [
    "print(lambda x : x)"
   ]
  },
  {
   "cell_type": "code",
   "execution_count": null,
   "metadata": {},
   "outputs": [],
   "source": [
    "# As we see above, we have only received a lambda function object when we printed. We have not called the lambda function\n",
    "# yet. "
   ]
  },
  {
   "cell_type": "code",
   "execution_count": 91,
   "metadata": {},
   "outputs": [
    {
     "name": "stdout",
     "output_type": "stream",
     "text": [
      "30\n"
     ]
    }
   ],
   "source": [
    "# Lets compare regular functions with lambda function syntax. \n",
    "\n",
    "def addition(x,y):\n",
    "    return x + y\n",
    "\n",
    "print(addition(10,20))"
   ]
  },
  {
   "cell_type": "code",
   "execution_count": 92,
   "metadata": {},
   "outputs": [
    {
     "name": "stdout",
     "output_type": "stream",
     "text": [
      "30\n"
     ]
    }
   ],
   "source": [
    "print((lambda x,y : x+y)(10,20))\n",
    "\n",
    "#Differences:\n",
    "# 1. Def keyword to define normal function. Lambda keyword to define lambda function. \n",
    "# 2. The parameter(s) required by the function (x,y in these cases) are in parentheses in the regular function. In lambda\n",
    "# function the variables do not need to be enclosed by parentheses irrespective of whether it is a single variable or \n",
    "# multiple. They only need to be seperated by commas(,) in case of more than one variable(just like normal functions)."
   ]
  },
  {
   "cell_type": "code",
   "execution_count": 93,
   "metadata": {},
   "outputs": [
    {
     "name": "stdout",
     "output_type": "stream",
     "text": [
      "Hello there!\n"
     ]
    }
   ],
   "source": [
    "# Lambda with multiple variables\n",
    "\n",
    "print((lambda x,y : x+y)('Hello ', 'there!'))"
   ]
  },
  {
   "cell_type": "code",
   "execution_count": null,
   "metadata": {},
   "outputs": [],
   "source": []
  },
  {
   "cell_type": "code",
   "execution_count": null,
   "metadata": {},
   "outputs": [],
   "source": []
  },
  {
   "cell_type": "code",
   "execution_count": null,
   "metadata": {},
   "outputs": [],
   "source": []
  },
  {
   "cell_type": "code",
   "execution_count": null,
   "metadata": {},
   "outputs": [],
   "source": [
    "#3. Lambda functions can only have one expression to be finally evaluated to output."
   ]
  },
  {
   "cell_type": "code",
   "execution_count": 94,
   "metadata": {
    "scrolled": true
   },
   "outputs": [
    {
     "name": "stderr",
     "output_type": "stream",
     "text": [
      "<>:1: SyntaxWarning: 'tuple' object is not callable; perhaps you missed a comma?\n",
      "<>:1: SyntaxWarning: 'tuple' object is not callable; perhaps you missed a comma?\n",
      "<ipython-input-94-e4fa9b51234a>:1: SyntaxWarning: 'tuple' object is not callable; perhaps you missed a comma?\n",
      "  print((lambda x,y : x+y,x*y)(2,3))\n"
     ]
    },
    {
     "ename": "NameError",
     "evalue": "name 'y' is not defined",
     "output_type": "error",
     "traceback": [
      "\u001b[1;31m---------------------------------------------------------------------------\u001b[0m",
      "\u001b[1;31mNameError\u001b[0m                                 Traceback (most recent call last)",
      "\u001b[1;32m<ipython-input-94-e4fa9b51234a>\u001b[0m in \u001b[0;36m<module>\u001b[1;34m\u001b[0m\n\u001b[1;32m----> 1\u001b[1;33m \u001b[0mprint\u001b[0m\u001b[1;33m(\u001b[0m\u001b[1;33m(\u001b[0m\u001b[1;32mlambda\u001b[0m \u001b[0mx\u001b[0m\u001b[1;33m,\u001b[0m\u001b[0my\u001b[0m \u001b[1;33m:\u001b[0m \u001b[0mx\u001b[0m\u001b[1;33m+\u001b[0m\u001b[0my\u001b[0m\u001b[1;33m,\u001b[0m\u001b[0mx\u001b[0m\u001b[1;33m*\u001b[0m\u001b[0my\u001b[0m\u001b[1;33m)\u001b[0m\u001b[1;33m(\u001b[0m\u001b[1;36m2\u001b[0m\u001b[1;33m,\u001b[0m\u001b[1;36m3\u001b[0m\u001b[1;33m)\u001b[0m\u001b[1;33m)\u001b[0m\u001b[1;33m\u001b[0m\u001b[1;33m\u001b[0m\u001b[0m\n\u001b[0m",
      "\u001b[1;31mNameError\u001b[0m: name 'y' is not defined"
     ]
    }
   ],
   "source": [
    "print((lambda x,y : x+y,x*y)(2,3))"
   ]
  },
  {
   "cell_type": "code",
   "execution_count": 95,
   "metadata": {},
   "outputs": [
    {
     "name": "stdout",
     "output_type": "stream",
     "text": [
      "(5, 6)\n"
     ]
    }
   ],
   "source": [
    "print((lambda x,y : (x+y, x*y))(2,3))"
   ]
  },
  {
   "cell_type": "code",
   "execution_count": 96,
   "metadata": {},
   "outputs": [
    {
     "name": "stdout",
     "output_type": "stream",
     "text": [
      "7.0\n"
     ]
    }
   ],
   "source": [
    "#4 A lambda function can be immediately called i.e. it is 'iffy' or precisely IIFE-Immediately Invoked Function Expression\n",
    "# while a normal function cannot be invoked until after definition. \n",
    "\n",
    "print((lambda x,y : x/y)(21,3)) #------> Immediately invoked with function call. "
   ]
  },
  {
   "cell_type": "code",
   "execution_count": 97,
   "metadata": {},
   "outputs": [
    {
     "name": "stdout",
     "output_type": "stream",
     "text": [
      "<function addition at 0x0000018508667E50>\n",
      "<function <lambda> at 0x0000018508667B80>\n"
     ]
    }
   ],
   "source": [
    "# Similarities with normal function\n",
    "#1. Can be stored to variable which begins acting as the function. \n",
    "\n",
    "def addition(x,y):\n",
    "    return x + y\n",
    "\n",
    "addition = addition\n",
    "lamb_add = lambda x,y : x+y\n",
    "\n",
    "print(addition)\n",
    "print(lamb_add)"
   ]
  },
  {
   "cell_type": "code",
   "execution_count": 98,
   "metadata": {},
   "outputs": [
    {
     "name": "stdout",
     "output_type": "stream",
     "text": [
      "5\n",
      "5\n"
     ]
    }
   ],
   "source": [
    "#2. In the function call, parenthesis encloses the arguments. \n",
    "\n",
    "print(addition(2,3)) # Normal function call\n",
    "\n",
    "print(lamb_add(2,3)) # Lambda function call"
   ]
  },
  {
   "cell_type": "code",
   "execution_count": 99,
   "metadata": {},
   "outputs": [
    {
     "name": "stdout",
     "output_type": "stream",
     "text": [
      "9\n"
     ]
    }
   ],
   "source": [
    "#3. As with normal functions, we can call a function inside a lambda function or assign a function as an argument\n",
    "\n",
    "def addition(x,y):\n",
    "    return x + y\n",
    "\n",
    "addition = addition\n",
    "\n",
    "\n",
    "def add_on(funct,y,z,a):\n",
    "    return funct(y,z) + a\n",
    "\n",
    "print(add_on(addition, 2,3,4))"
   ]
  },
  {
   "cell_type": "code",
   "execution_count": 100,
   "metadata": {},
   "outputs": [
    {
     "name": "stdout",
     "output_type": "stream",
     "text": [
      "9\n"
     ]
    }
   ],
   "source": [
    "lamb_add = lambda x,y : x+y\n",
    "\n",
    "lamb_2 = lambda funct,y,z,a : funct(y,z) + a\n",
    "\n",
    "print(lamb_2(lamb_add, 2,3,4))"
   ]
  },
  {
   "cell_type": "code",
   "execution_count": 101,
   "metadata": {},
   "outputs": [
    {
     "name": "stdout",
     "output_type": "stream",
     "text": [
      "9\n"
     ]
    }
   ],
   "source": [
    "print((lambda x,y,z,a : x(y,z)+a)(lamb_add,2,3,4))"
   ]
  },
  {
   "cell_type": "code",
   "execution_count": 102,
   "metadata": {},
   "outputs": [],
   "source": [
    "double_lamb = lambda a, func : a + func(a)"
   ]
  },
  {
   "cell_type": "code",
   "execution_count": 103,
   "metadata": {},
   "outputs": [
    {
     "name": "stdout",
     "output_type": "stream",
     "text": [
      "30\n"
     ]
    }
   ],
   "source": [
    "print(double_lamb(5, lambda x : x*x))"
   ]
  },
  {
   "cell_type": "code",
   "execution_count": null,
   "metadata": {},
   "outputs": [],
   "source": [
    "#Lambda with if-else"
   ]
  },
  {
   "cell_type": "code",
   "execution_count": 104,
   "metadata": {},
   "outputs": [
    {
     "name": "stdout",
     "output_type": "stream",
     "text": [
      "20\n"
     ]
    }
   ],
   "source": [
    "max_lamb = lambda a,b : a if a>b else b\n",
    "\n",
    "print(max_lamb(10,20))"
   ]
  },
  {
   "cell_type": "code",
   "execution_count": 105,
   "metadata": {},
   "outputs": [
    {
     "name": "stdout",
     "output_type": "stream",
     "text": [
      "abc\n",
      "('', 200)\n",
      "Python\n"
     ]
    }
   ],
   "source": [
    "#Lambda with filter, map, reduce functions in Python\n",
    "\n",
    "# Filter built-in function in Python - returns a filtered iterator based on evaluation whether True or False. \n",
    "\n",
    "# It takes two arguments:\n",
    "# 1. The function to be used to evaluate\n",
    "# 2. The iterable (string, list, tuples, sets, dicts etc.)\n",
    "\n",
    "lst1 = ['abc', \"\", (\"\", 200), 'Python']\n",
    "\n",
    "filt_list = filter(len, lst1)\n",
    "\n",
    "for x in filt_list:\n",
    "    print(x)"
   ]
  },
  {
   "cell_type": "code",
   "execution_count": 106,
   "metadata": {},
   "outputs": [
    {
     "name": "stdout",
     "output_type": "stream",
     "text": [
      "['abc', ('', 200), 'Python']\n",
      "0\n"
     ]
    }
   ],
   "source": [
    "#print(list(filter(len, lst1)))\n",
    "\n",
    "list2 = list(filter(len,lst1))\n",
    "\n",
    "print(list2)\n",
    "\n",
    "print(len(list2[1][0]))"
   ]
  },
  {
   "cell_type": "code",
   "execution_count": 107,
   "metadata": {},
   "outputs": [
    {
     "name": "stdout",
     "output_type": "stream",
     "text": [
      "<class 'filter'>\n",
      "[]\n"
     ]
    }
   ],
   "source": [
    "print(type(filt_list))\n",
    "print(list(filt_list))"
   ]
  },
  {
   "cell_type": "code",
   "execution_count": null,
   "metadata": {},
   "outputs": [],
   "source": [
    "# Note here how the list applied to the filter object returns an empty list. This is because filter function returns\n",
    "# an iterator object. \n",
    "\n",
    "# The iterator objects are similar to generator objects which we will learn about below. However, iterators are a class\n",
    "# object implementing iter() and next() method to initialise iterator and call the next item in iteration while \n",
    "# generator objects use the 'yield' keyword to create a generator.  "
   ]
  },
  {
   "cell_type": "code",
   "execution_count": 116,
   "metadata": {},
   "outputs": [
    {
     "name": "stdout",
     "output_type": "stream",
     "text": [
      "[0, 1, 2, 3, 4, 5, 6, 7, 8, 9]\n"
     ]
    }
   ],
   "source": [
    "#Lambda with filter\n",
    "\n",
    "lst2 = [x for x in range(10)]\n",
    "\n",
    "print(lst2)"
   ]
  },
  {
   "cell_type": "code",
   "execution_count": 117,
   "metadata": {},
   "outputs": [
    {
     "name": "stdout",
     "output_type": "stream",
     "text": [
      "[1, 3, 5, 7, 9]\n"
     ]
    }
   ],
   "source": [
    "odd_lst = list(filter(lambda x : x%2 == 1, lst2))\n",
    "\n",
    "print(odd_lst)"
   ]
  },
  {
   "cell_type": "code",
   "execution_count": 112,
   "metadata": {},
   "outputs": [
    {
     "ename": "TypeError",
     "evalue": "filter expected 2 arguments, got 0",
     "output_type": "error",
     "traceback": [
      "\u001b[1;31m---------------------------------------------------------------------------\u001b[0m",
      "\u001b[1;31mTypeError\u001b[0m                                 Traceback (most recent call last)",
      "\u001b[1;32m<ipython-input-112-3c99ca8791d7>\u001b[0m in \u001b[0;36m<module>\u001b[1;34m\u001b[0m\n\u001b[1;32m----> 1\u001b[1;33m \u001b[0mfilter\u001b[0m\u001b[1;33m(\u001b[0m\u001b[1;33m)\u001b[0m\u001b[1;33m\u001b[0m\u001b[1;33m\u001b[0m\u001b[0m\n\u001b[0m",
      "\u001b[1;31mTypeError\u001b[0m: filter expected 2 arguments, got 0"
     ]
    }
   ],
   "source": [
    "filter()\n"
   ]
  },
  {
   "cell_type": "code",
   "execution_count": 113,
   "metadata": {},
   "outputs": [
    {
     "name": "stdout",
     "output_type": "stream",
     "text": [
      "['Python', 'great', 'Student']\n"
     ]
    }
   ],
   "source": [
    "lst3 = ['Python', 'great', 'is', 'Student', 'Class']\n",
    "\n",
    "print(list(filter(lambda x : 't' in x, lst3)))"
   ]
  },
  {
   "cell_type": "code",
   "execution_count": 114,
   "metadata": {},
   "outputs": [
    {
     "name": "stdout",
     "output_type": "stream",
     "text": [
      "Suman\n",
      "Sulekha\n",
      "Swapnil\n"
     ]
    }
   ],
   "source": [
    "stud_list = ['Varun', \"Venkat\", 'Vaishnavi', 'Suman', 'Krishna', 'Renu', 'Sulekha', 'Swapnil']\n",
    "\n",
    "y = 'S'\n",
    "lamb_in = lambda x, y=y : y in x\n",
    "\n",
    "filt_stud = filter(lamb_in, stud_list)\n",
    "\n",
    "for i in filt_stud:\n",
    "    print(i)"
   ]
  },
  {
   "cell_type": "code",
   "execution_count": 115,
   "metadata": {},
   "outputs": [
    {
     "name": "stdout",
     "output_type": "stream",
     "text": [
      "True\n",
      "True\n",
      "True\n",
      "False\n",
      "False\n",
      "False\n",
      "False\n",
      "False\n"
     ]
    }
   ],
   "source": [
    "lamb_in2 = lambda x, y : y in x\n",
    "\n",
    "for i in stud_list:\n",
    "    print(lamb_in2(i, 'V'))"
   ]
  },
  {
   "cell_type": "code",
   "execution_count": null,
   "metadata": {},
   "outputs": [],
   "source": [
    "# Map built-in function in Python - takes minimum two parameters and returns a map object which is an iterator(not iterable).\n",
    "\n",
    "#1. The first parameter is a function to be applied to each element in the second (or more) parameter(s) which is(are)\n",
    "# iterables.\n",
    "#2. The second parameter onwards are the iterables that are to be evaluated to the map function. "
   ]
  },
  {
   "cell_type": "code",
   "execution_count": 118,
   "metadata": {},
   "outputs": [
    {
     "name": "stdout",
     "output_type": "stream",
     "text": [
      "(6, 5, 6, 9)\n"
     ]
    }
   ],
   "source": [
    "lst1 = ['Python', 'Hello', 'Butter', 'Fantastic']\n",
    "\n",
    "lengths = tuple(map(len, lst1))\n",
    "\n",
    "print(lengths)\n",
    "\n"
   ]
  },
  {
   "cell_type": "code",
   "execution_count": 119,
   "metadata": {},
   "outputs": [
    {
     "name": "stdout",
     "output_type": "stream",
     "text": [
      "[[6, 'Python'], [5, 'Hello'], [6, 'Butter'], [9, 'Fantastic']]\n"
     ]
    }
   ],
   "source": [
    "lst3 = []\n",
    "\n",
    "for i in range(len(lengths)):\n",
    "    lst4 = []\n",
    "    lst4.append(lengths[i])\n",
    "    lst4.append(lst1[i])\n",
    "    lst3.append(lst4)\n",
    "    \n",
    "print(lst3)\n",
    "\n",
    "    "
   ]
  },
  {
   "cell_type": "code",
   "execution_count": null,
   "metadata": {},
   "outputs": [],
   "source": [
    "print(list(lengths))"
   ]
  },
  {
   "cell_type": "code",
   "execution_count": null,
   "metadata": {},
   "outputs": [],
   "source": [
    "# As with filter function, map function also returns an iterator."
   ]
  },
  {
   "cell_type": "code",
   "execution_count": 120,
   "metadata": {},
   "outputs": [
    {
     "name": "stdout",
     "output_type": "stream",
     "text": [
      "[6, 5, 6, 9]\n"
     ]
    }
   ],
   "source": [
    "lengths = list(map(len, lst1))\n",
    "\n",
    "print(lengths)"
   ]
  },
  {
   "cell_type": "code",
   "execution_count": 121,
   "metadata": {},
   "outputs": [
    {
     "name": "stdout",
     "output_type": "stream",
     "text": [
      "[6, 5, 6, 9]\n"
     ]
    }
   ],
   "source": [
    "lengths2 = [x for x in lengths]\n",
    "print(lengths2)"
   ]
  },
  {
   "cell_type": "code",
   "execution_count": null,
   "metadata": {},
   "outputs": [],
   "source": [
    "lst1 = [1,2,3,4,5,6]\n",
    "lst2 = [10,20,30,40,50]\n",
    "\n",
    "lst3 = list(map(lambda x,y : x*y,lst1, lst2))\n",
    "\n",
    "print(lst3)"
   ]
  },
  {
   "cell_type": "code",
   "execution_count": null,
   "metadata": {},
   "outputs": [],
   "source": [
    "# reduce function from functools module and accumulate from itertools module of Python"
   ]
  },
  {
   "cell_type": "code",
   "execution_count": null,
   "metadata": {},
   "outputs": [],
   "source": [
    "# Reduce function - Reduces the values of an iterable to a single output by taking two parameters - \n",
    "\n",
    "#1. The function to be applied\n",
    "#2. The iterable on which to perform the operation"
   ]
  },
  {
   "cell_type": "code",
   "execution_count": 124,
   "metadata": {},
   "outputs": [],
   "source": [
    "import functools"
   ]
  },
  {
   "cell_type": "code",
   "execution_count": 122,
   "metadata": {},
   "outputs": [
    {
     "name": "stdout",
     "output_type": "stream",
     "text": [
      "['P', 'y', 't', 'h', 'o', 'n']\n"
     ]
    }
   ],
   "source": [
    "lst1 = [2,7,9,20,11,1,6]\n",
    "lst_alpha = list('Python')\n",
    "print(lst_alpha)"
   ]
  },
  {
   "cell_type": "code",
   "execution_count": 125,
   "metadata": {},
   "outputs": [
    {
     "name": "stdout",
     "output_type": "stream",
     "text": [
      "56\n"
     ]
    }
   ],
   "source": [
    "lamb_add = lambda x, y : x + y\n",
    "\n",
    "num_sum = functools.reduce(lamb_add, lst1)\n",
    "print(num_sum)"
   ]
  },
  {
   "cell_type": "code",
   "execution_count": 126,
   "metadata": {},
   "outputs": [
    {
     "name": "stdout",
     "output_type": "stream",
     "text": [
      "Python\n"
     ]
    }
   ],
   "source": [
    "alpha_sum = functools.reduce(lamb_add, lst_alpha)\n",
    "print(alpha_sum)"
   ]
  },
  {
   "cell_type": "code",
   "execution_count": null,
   "metadata": {},
   "outputs": [],
   "source": [
    "# reduce to find max element"
   ]
  },
  {
   "cell_type": "code",
   "execution_count": 127,
   "metadata": {},
   "outputs": [],
   "source": [
    "lamb_max = lambda a,b : a if a > b else b\n"
   ]
  },
  {
   "cell_type": "code",
   "execution_count": 128,
   "metadata": {},
   "outputs": [
    {
     "name": "stdout",
     "output_type": "stream",
     "text": [
      "20\n"
     ]
    }
   ],
   "source": [
    "num_max = functools.reduce(lamb_max, lst1)\n",
    "print(num_max)"
   ]
  },
  {
   "cell_type": "code",
   "execution_count": 129,
   "metadata": {},
   "outputs": [
    {
     "name": "stdout",
     "output_type": "stream",
     "text": [
      "['P', 'y', 't', 'h', 'o', 'n']\n",
      "y\n"
     ]
    }
   ],
   "source": [
    "print(lst_alpha)\n",
    "\n",
    "alpha_max = functools.reduce(lamb_max, lst_alpha)\n",
    "print(alpha_max)"
   ]
  },
  {
   "cell_type": "code",
   "execution_count": 130,
   "metadata": {},
   "outputs": [
    {
     "name": "stdout",
     "output_type": "stream",
     "text": [
      "[2, 7, 9, 20, 11, 1, 6]\n",
      "[2, 9, 18, 38, 49, 50, 56]\n",
      "Output using reduce is 56.\n",
      "Last element using accumulate is : 56.\n"
     ]
    }
   ],
   "source": [
    "#Accumulate function - whereas reduce gives one final output, accumulate works exactly as reduce but:\n",
    "\n",
    "#1. Gives an iterable as the output at every stage and the last number in the list output of accumulate is the same output\n",
    "# as with the reduce function. \n",
    "#2. Takes the output first and the function as second parameter(whereas reduce takes function first and iterable second)\n",
    "#3. Returns an itertools.accumulate object which needs to be converted to an iterable.\n",
    "\n",
    "# Another difference is the accumulate takes the iterable first and function as second parameter. \n",
    "\n",
    "import itertools\n",
    "\n",
    "print(lst1)\n",
    "num_sum = list(itertools.accumulate(lst1, lamb_add))\n",
    "\n",
    "print(num_sum)\n",
    "    \n",
    "print(f'Output using reduce is {functools.reduce(lambda x,y : x+y, lst1)}.')\n",
    "print(f'Last element using accumulate is : {num_sum[-1]}.')"
   ]
  },
  {
   "cell_type": "code",
   "execution_count": 131,
   "metadata": {},
   "outputs": [
    {
     "name": "stdout",
     "output_type": "stream",
     "text": [
      "['P', 'Py', 'Pyt', 'Pyth', 'Pytho', 'Python']\n"
     ]
    }
   ],
   "source": [
    "alpha_sum = list(itertools.accumulate(lst_alpha, lamb_add))\n",
    "\n",
    "print(alpha_sum)"
   ]
  },
  {
   "cell_type": "markdown",
   "metadata": {},
   "source": [
    "### Global and Local variables in Python"
   ]
  },
  {
   "cell_type": "code",
   "execution_count": 132,
   "metadata": {},
   "outputs": [],
   "source": [
    "# Global variables are variables that are defined outside a function and can be accessed and changed anywhere in a program. \n",
    "# Local variables on the other hand only exist inside a function.\n",
    "\n",
    "# Everything in Python is an object and the variable names we assign are only references to these objects. However, we may\n",
    "# have one variable name pointing to different objects at different points in the program(example - inside and outside a\n",
    "# function). Python keeps a dicitionary type mapping for these different references which are called 'namespaces'.\n",
    "\n",
    "# It also maintains an hierarchy of namespaces. Global variables are accessible anywhere in the program (but may not be\n",
    "# changed from inside a function without using the global keyword. More on that in a bit). \n",
    "\n",
    "# Then we can have several layers of non-local name spaces\n",
    "\n",
    "# And finally, the local namespace of the function being run. \n",
    "\n",
    "x = 10\n",
    "y = 20\n",
    "z = 30\n",
    "\n",
    "def outer_funct():\n",
    "    x = 100\n",
    "    y = 200\n",
    "    z = 300\n",
    "    return x+y+z\n",
    "# E.g. \n",
    "\n",
    "# global namespace is {x = 10, y = 20, z = 30} - Read anywhere, write only in global namespace\n",
    "# local namespace while in outer_funct is {x = 100, y = 200, z = 300} - Read and write in outer_funct but can only read\n",
    "# global variables without global keyword\n",
    "\n",
    "def outer_funct():\n",
    "    x = 100\n",
    "    y = 200\n",
    "    z = 300\n",
    "    return x+y+z\n",
    "    def inner_funct():\n",
    "        x = 1000\n",
    "        y = 2000\n",
    "        z = 3000\n",
    "        return x+y+z\n",
    "\n",
    "    \n",
    "#Now, the outer_funct is a non local namespace while inside the inner_funct BUT a local namespace while running the outer_\n",
    "# funct. \n",
    "\n",
    "# global namespace is {x = 10, y = 20, z = 30} - Read anywhere, write only in global namespace\n",
    "# non_local namespace while in outer_funct is {x = 100, y = 200, z = 300} - Read and write in outer_funct but can only read\n",
    "# global variables without global keyword\n",
    "# local namespace while in innerr_funct is {x = 1000, y = 2000, z = 3000} - Read and write in inner_funct but can only read\n",
    "# global variables (without global keyword) and non_local variables(without nonlocal keyword)\n"
   ]
  },
  {
   "cell_type": "code",
   "execution_count": 133,
   "metadata": {},
   "outputs": [
    {
     "name": "stdout",
     "output_type": "stream",
     "text": [
      "Hello\n"
     ]
    }
   ],
   "source": [
    "# Global variables. \n",
    "\n",
    "str1 = 'Hello'\n",
    "\n",
    "print(str1)\n"
   ]
  },
  {
   "cell_type": "code",
   "execution_count": 134,
   "metadata": {},
   "outputs": [
    {
     "name": "stdout",
     "output_type": "stream",
     "text": [
      "Hi\n"
     ]
    }
   ],
   "source": [
    "str2 = 'Hi'\n",
    "print(str2)"
   ]
  },
  {
   "cell_type": "code",
   "execution_count": 135,
   "metadata": {},
   "outputs": [
    {
     "name": "stdout",
     "output_type": "stream",
     "text": [
      "Hello handsome\n"
     ]
    }
   ],
   "source": [
    "def greet(x):\n",
    "    str21 = x\n",
    "    print(str21)\n",
    "    \n",
    "greet('Hello handsome')"
   ]
  },
  {
   "cell_type": "code",
   "execution_count": 136,
   "metadata": {},
   "outputs": [
    {
     "ename": "NameError",
     "evalue": "name 'str21' is not defined",
     "output_type": "error",
     "traceback": [
      "\u001b[1;31m---------------------------------------------------------------------------\u001b[0m",
      "\u001b[1;31mNameError\u001b[0m                                 Traceback (most recent call last)",
      "\u001b[1;32m<ipython-input-136-269342402f12>\u001b[0m in \u001b[0;36m<module>\u001b[1;34m\u001b[0m\n\u001b[1;32m----> 1\u001b[1;33m \u001b[0mprint\u001b[0m\u001b[1;33m(\u001b[0m\u001b[0mstr21\u001b[0m\u001b[1;33m)\u001b[0m\u001b[1;33m\u001b[0m\u001b[1;33m\u001b[0m\u001b[0m\n\u001b[0m",
      "\u001b[1;31mNameError\u001b[0m: name 'str21' is not defined"
     ]
    }
   ],
   "source": [
    "print(str21)"
   ]
  },
  {
   "cell_type": "code",
   "execution_count": 137,
   "metadata": {},
   "outputs": [
    {
     "name": "stdout",
     "output_type": "stream",
     "text": [
      "Hello handsome\n"
     ]
    }
   ],
   "source": [
    "def greet(x):\n",
    "    str1 = x\n",
    "    print(str1)\n",
    "    \n",
    "greet('Hello handsome')"
   ]
  },
  {
   "cell_type": "code",
   "execution_count": 138,
   "metadata": {},
   "outputs": [
    {
     "name": "stdout",
     "output_type": "stream",
     "text": [
      "Hello\n"
     ]
    }
   ],
   "source": [
    "print(str1)"
   ]
  },
  {
   "cell_type": "code",
   "execution_count": null,
   "metadata": {},
   "outputs": [],
   "source": [
    "# Inside a function i.e. locally, if we assign a value to a variable that already exists outside the function i.e. globally,\n",
    "# it does not affect the global variable. However, if we explicitly wanted to change the value of a global variable from\n",
    "# inside afunction, we have to use the global keyword. More on that later. "
   ]
  },
  {
   "cell_type": "code",
   "execution_count": 139,
   "metadata": {},
   "outputs": [
    {
     "name": "stdout",
     "output_type": "stream",
     "text": [
      "Hello handsome\n"
     ]
    }
   ],
   "source": [
    "#Global variables can be accessed inside a function but local variables cannot be accessed outside the function(as we have\n",
    "# already seen).\n",
    "\n",
    "x = 'Hello handsome'\n",
    "\n",
    "def greet():\n",
    "    print(x)\n",
    "greet()"
   ]
  },
  {
   "cell_type": "code",
   "execution_count": 140,
   "metadata": {},
   "outputs": [
    {
     "name": "stdout",
     "output_type": "stream",
     "text": [
      "Hello handsome\n",
      "Hello handsome\n"
     ]
    }
   ],
   "source": [
    "x = 'Hello handsome'\n",
    "\n",
    "def greet():\n",
    "    strx = x\n",
    "    print(strx)\n",
    "    print(x)\n",
    "\n",
    "greet()"
   ]
  },
  {
   "cell_type": "code",
   "execution_count": 141,
   "metadata": {},
   "outputs": [
    {
     "name": "stdout",
     "output_type": "stream",
     "text": [
      "Hello handsome\n"
     ]
    }
   ],
   "source": [
    "print(x)"
   ]
  },
  {
   "cell_type": "code",
   "execution_count": 142,
   "metadata": {},
   "outputs": [
    {
     "ename": "NameError",
     "evalue": "name 'strx' is not defined",
     "output_type": "error",
     "traceback": [
      "\u001b[1;31m---------------------------------------------------------------------------\u001b[0m",
      "\u001b[1;31mNameError\u001b[0m                                 Traceback (most recent call last)",
      "\u001b[1;32m<ipython-input-142-f10d46eb9f68>\u001b[0m in \u001b[0;36m<module>\u001b[1;34m\u001b[0m\n\u001b[1;32m----> 1\u001b[1;33m \u001b[0mprint\u001b[0m\u001b[1;33m(\u001b[0m\u001b[0mstrx\u001b[0m\u001b[1;33m)\u001b[0m\u001b[1;33m\u001b[0m\u001b[1;33m\u001b[0m\u001b[0m\n\u001b[0m",
      "\u001b[1;31mNameError\u001b[0m: name 'strx' is not defined"
     ]
    }
   ],
   "source": [
    "print(strx)"
   ]
  },
  {
   "cell_type": "code",
   "execution_count": 143,
   "metadata": {},
   "outputs": [
    {
     "name": "stdout",
     "output_type": "stream",
     "text": [
      "51\n"
     ]
    }
   ],
   "source": [
    "total = 51\n",
    "\n",
    "def total_x(a,b):\n",
    "    print(total)\n",
    "    \n",
    "total_x(10,20)"
   ]
  },
  {
   "cell_type": "code",
   "execution_count": 144,
   "metadata": {},
   "outputs": [
    {
     "name": "stdout",
     "output_type": "stream",
     "text": [
      "81\n"
     ]
    }
   ],
   "source": [
    "total = 51\n",
    "\n",
    "def total_x(a,b):\n",
    "    global total\n",
    "    total += a+b\n",
    "    print(total)\n",
    "    \n",
    "total_x(10,20)"
   ]
  },
  {
   "cell_type": "code",
   "execution_count": 145,
   "metadata": {},
   "outputs": [
    {
     "name": "stdout",
     "output_type": "stream",
     "text": [
      "20\n"
     ]
    }
   ],
   "source": [
    "x = 10\n",
    "\n",
    "def no_local():\n",
    "    print(x+10)\n",
    "    \n",
    "no_local()\n"
   ]
  },
  {
   "cell_type": "code",
   "execution_count": 146,
   "metadata": {},
   "outputs": [
    {
     "name": "stdout",
     "output_type": "stream",
     "text": [
      "30\n",
      "Global variable remeains the same : 10.\n"
     ]
    }
   ],
   "source": [
    "def w_local():\n",
    "    x = 20\n",
    "    x += 10\n",
    "    print(x)\n",
    "\n",
    "w_local()\n",
    "print(f'Global variable remeains the same : {x}.')"
   ]
  },
  {
   "cell_type": "code",
   "execution_count": 147,
   "metadata": {},
   "outputs": [
    {
     "name": "stdout",
     "output_type": "stream",
     "text": [
      "110\n",
      "Global variable changed to : 110.\n"
     ]
    }
   ],
   "source": [
    "x = 100\n",
    "\n",
    "def w_global():\n",
    "    global x\n",
    "    x += 10\n",
    "    print(x)\n",
    "    \n",
    "w_global()\n",
    "print(f'Global variable changed to : {x}.')"
   ]
  },
  {
   "cell_type": "code",
   "execution_count": null,
   "metadata": {},
   "outputs": [],
   "source": [
    "def non_local_no_kw():\n",
    "    x = 10\n",
    "    def inner_no_kw():\n",
    "        x = 20\n",
    "        return x\n",
    "    return f'Inner variable x value : {inner_no_kw()}. \\nOuter funct x value : {x}.'\n",
    "\n",
    "print(non_local_no_kw())\n"
   ]
  },
  {
   "cell_type": "code",
   "execution_count": 148,
   "metadata": {},
   "outputs": [
    {
     "name": "stdout",
     "output_type": "stream",
     "text": [
      "Inner variable x value : 20. \n",
      "Outer funct x value : 20.\n"
     ]
    }
   ],
   "source": [
    "x = 1111\n",
    "\n",
    "def non_local_w_kw():\n",
    "    x = 10\n",
    "    def inner_w_kw():\n",
    "        nonlocal x\n",
    "        x = 20\n",
    "        return x\n",
    "    return f'Inner variable x value : {inner_w_kw()}. \\nOuter funct x value : {x}.'\n",
    "print(non_local_w_kw())"
   ]
  },
  {
   "cell_type": "code",
   "execution_count": 149,
   "metadata": {},
   "outputs": [
    {
     "name": "stdout",
     "output_type": "stream",
     "text": [
      "Inner function x, y values : (20, 40).\n",
      "Inner function x, y values : (20, 40).\n",
      "Outer funct x value : 20\n",
      "First inner funct y value (20, 40)\n",
      ".\n"
     ]
    }
   ],
   "source": [
    "def non_local_w_kw():\n",
    "    x = 10\n",
    "    def first_inner():\n",
    "        nonlocal x\n",
    "        x = 50\n",
    "        y = 30\n",
    "        def inner_w_kw():\n",
    "            nonlocal x\n",
    "            nonlocal y\n",
    "            x = 20\n",
    "            y = 40\n",
    "            print(f'Inner function x, y values : {x,y}.')\n",
    "            return x,y\n",
    "        inner_w_kw()\n",
    "        return x,y\n",
    "    first_inner()\n",
    "    return f'Outer funct x value : {x}\\nFirst inner funct y value {first_inner()}\\n.'\n",
    "\n",
    "\n",
    "print(non_local_w_kw())"
   ]
  },
  {
   "cell_type": "code",
   "execution_count": null,
   "metadata": {},
   "outputs": [],
   "source": [
    "def non_local_w_kw():\n",
    "    x = 10\n",
    "    def first_inner():\n",
    "        y = 30\n",
    "        nonlocal x\n",
    "        x = 50\n",
    "        def inner_w_kw():\n",
    "            nonlocal x\n",
    "            nonlocal y\n",
    "            x = 20\n",
    "            y = 40\n",
    "            print(f'Inner function x, y values : {x,y}.')\n",
    "            return x,y\n",
    "        inner_w_kw()\n",
    "        return x,y\n",
    "    return f'Outer funct x value : {x}\\nFirst inner funct y value {first_inner()}.'\n",
    "\n",
    "\n",
    "print(non_local_w_kw())"
   ]
  },
  {
   "cell_type": "markdown",
   "metadata": {},
   "source": [
    "### yield keyword and generator functions"
   ]
  },
  {
   "cell_type": "code",
   "execution_count": null,
   "metadata": {},
   "outputs": [],
   "source": [
    "# We have seen how we can create list, tuple, dictionary etc object. Python has another object type called 'generator'. \n",
    "# When we use the 'yield' keyword instead of a 'return' statement in a function, we have created a generator object."
   ]
  },
  {
   "cell_type": "code",
   "execution_count": 150,
   "metadata": {},
   "outputs": [
    {
     "name": "stdout",
     "output_type": "stream",
     "text": [
      "[0, 2, 4, 6, 8, 10, 12, 14, 16, 18]\n"
     ]
    }
   ],
   "source": [
    "def list_gen(x):\n",
    "    ret_list = []\n",
    "    for i in range(x):\n",
    "        if i % 2 == 0:\n",
    "            ret_list.append(i)\n",
    "    return ret_list\n",
    "\n",
    "list_even = list_gen(20)\n",
    "\n",
    "print(list_even)"
   ]
  },
  {
   "cell_type": "code",
   "execution_count": null,
   "metadata": {},
   "outputs": [],
   "source": [
    "# As expected, we got a list saved in the list_even variable. \n",
    "\n",
    "# And on iterating over it, we get the expected output. \n",
    "\n",
    "for i in list_even:\n",
    "    print(i, end=' ')"
   ]
  },
  {
   "cell_type": "code",
   "execution_count": 151,
   "metadata": {},
   "outputs": [
    {
     "name": "stdout",
     "output_type": "stream",
     "text": [
      "<generator object gen_gen at 0x000001850863FCF0>\n"
     ]
    }
   ],
   "source": [
    "# In the below program, we use yield instead of return. \n",
    "\n",
    "def gen_gen(x):\n",
    "    for i in range(x):\n",
    "        if i%2 == 0:\n",
    "            yield i\n",
    "\n",
    "gen_even = gen_gen(20)\n",
    "\n",
    "print(gen_even)"
   ]
  },
  {
   "cell_type": "code",
   "execution_count": 152,
   "metadata": {},
   "outputs": [
    {
     "name": "stdout",
     "output_type": "stream",
     "text": [
      "0 2 4 6 8 10 12 14 16 18 "
     ]
    }
   ],
   "source": [
    "# Note how we got a generator object instead of actually getting all the values. \n",
    "\n",
    "for i in gen_even:\n",
    "    print(i, end = ' ')"
   ]
  },
  {
   "cell_type": "code",
   "execution_count": null,
   "metadata": {},
   "outputs": [],
   "source": [
    "# Iterating over the generator object, we got the expected output of even numbers. \n",
    "\n",
    "# However, observe now how iterating over the list a second time, gives us the expected output. \n",
    "\n",
    "# But iterating over the generator object a second time(without calling the generator function which contains yield), does\n",
    "# NOT work. There is no output.\n",
    "\n",
    "# This is because by using 'yield' instead of 'return', we have changed the working of our function. \n",
    "\n",
    "# In the case of the first function, we are processing the whole function, adding values to a list object and outputting a\n",
    "# list with the values we need. \n",
    "\n",
    "# However, in the case of the generator object, the function runs till it hits the FIRST yield statement. Then stops until\n",
    "# another call to the generator object is made e.g. when we iterate over the generator object and require the next value.\n",
    "\n",
    "# Once all the processing of the generator is done - the generator is 'exhausted.'. It has NOT stored the resulting output\n",
    "# in memory and same cannot be accessed again. What can be done is to call the generator object again. \n",
    "\n",
    "# When we are using a few values - like 20 - it may not matter. But when running iterations over 1000's (or even millions)\n",
    "# of items - the generator object comes in handy. \n",
    "\n",
    "# Imagine we need to process a million rows of data - \n",
    "# (Don't be amazed, its not only possible but likely in the Data Science field). \n",
    "\n",
    "#  When we use a return function the whole function must run and return the resulting object. Imagine requiring a\n",
    "#  list or array containing a million rows. \n",
    "# - The resulting object must be stored in memory and will require a huge amount of space. \n",
    "# - The process of accumulating the list must be completed before we can process the elements of the list. So, this requires\n",
    "# longer processing time. \n",
    "\n",
    "# The advantage of a generator object in such cases is that - \n",
    "# - The processing is being done almost simultaneously. So faster processing time. \n",
    "# - Since the resulting output is not stored in memory, there is hardly - if any - memory usage. "
   ]
  },
  {
   "cell_type": "code",
   "execution_count": 153,
   "metadata": {},
   "outputs": [
    {
     "name": "stdout",
     "output_type": "stream",
     "text": [
      "0 200 400 600 800 1000 1200 1400 1600 1800 None\n"
     ]
    }
   ],
   "source": [
    "# As we have seen before function objects or calls can be passed to other functions: \n",
    "\n",
    "def mult_ply(x):\n",
    "    for i in x:\n",
    "        print(i*100, end = ' ')\n",
    "        \n",
    "multi_100 = mult_ply(gen_gen(20))\n",
    "\n",
    "print(multi_100)"
   ]
  },
  {
   "cell_type": "code",
   "execution_count": 154,
   "metadata": {},
   "outputs": [
    {
     "name": "stdout",
     "output_type": "stream",
     "text": [
      "0\n"
     ]
    }
   ],
   "source": [
    "# Another advantage of using the generator object is that we can call the next output of the generator object one by one:\n",
    "\n",
    "gentry = gen_gen(10)\n",
    "\n",
    "print(next(gentry))"
   ]
  },
  {
   "cell_type": "code",
   "execution_count": 155,
   "metadata": {},
   "outputs": [
    {
     "name": "stdout",
     "output_type": "stream",
     "text": [
      "2\n"
     ]
    }
   ],
   "source": [
    "print(next(gentry))"
   ]
  },
  {
   "cell_type": "code",
   "execution_count": null,
   "metadata": {},
   "outputs": [],
   "source": [
    "print(next(gentry))"
   ]
  },
  {
   "cell_type": "code",
   "execution_count": null,
   "metadata": {},
   "outputs": [],
   "source": [
    "print(next(gentry))"
   ]
  },
  {
   "cell_type": "code",
   "execution_count": null,
   "metadata": {},
   "outputs": [],
   "source": [
    "print(next(gentry))"
   ]
  },
  {
   "cell_type": "code",
   "execution_count": null,
   "metadata": {},
   "outputs": [],
   "source": [
    "print(next(gentry))\n",
    "\n",
    "# Once the generator is exhausted - we get a stop iteration error. "
   ]
  },
  {
   "cell_type": "code",
   "execution_count": null,
   "metadata": {},
   "outputs": [],
   "source": [
    "gentry = gen_gen(10)\n",
    "\n",
    "for i in range(3):\n",
    "    print(next(gentry))"
   ]
  },
  {
   "cell_type": "code",
   "execution_count": null,
   "metadata": {},
   "outputs": [],
   "source": [
    "print(next(gentry))"
   ]
  },
  {
   "cell_type": "code",
   "execution_count": null,
   "metadata": {},
   "outputs": [],
   "source": [
    "print(next(gentry))"
   ]
  },
  {
   "cell_type": "code",
   "execution_count": null,
   "metadata": {},
   "outputs": [],
   "source": [
    "print(next(gentry))"
   ]
  },
  {
   "cell_type": "code",
   "execution_count": null,
   "metadata": {},
   "outputs": [],
   "source": [
    "gentry = gen_gen(10)\n",
    "\n",
    "print(next(gentry))"
   ]
  },
  {
   "cell_type": "code",
   "execution_count": null,
   "metadata": {},
   "outputs": [],
   "source": [
    "print(next(gentry))"
   ]
  },
  {
   "cell_type": "code",
   "execution_count": null,
   "metadata": {},
   "outputs": [],
   "source": [
    "for i in range(4):\n",
    "    print(next(gentry))"
   ]
  },
  {
   "cell_type": "code",
   "execution_count": null,
   "metadata": {},
   "outputs": [],
   "source": [
    "# Multiple yield statements in a generator\n",
    "\n",
    "\n",
    "lst1 = [1,5,10,15,20]\n",
    "lst2 = [2,4,6,8,10]\n",
    "\n",
    "def multi_yield(a, b):\n",
    "    for i in range(len(a)):\n",
    "        \n",
    "        yield a[i]\n",
    "        \n",
    "        yield b[i]\n",
    "\n",
    "def alt_lst(gener):\n",
    "    fin_lst = []\n",
    "    for g in gener:\n",
    "        fin_lst.append(g)\n",
    "    return fin_lst\n",
    "        \n",
    "\n",
    "m_yield = multi_yield(lst1, lst2)\n",
    "\n",
    "print(alt_lst(m_yield))"
   ]
  },
  {
   "cell_type": "code",
   "execution_count": null,
   "metadata": {},
   "outputs": [],
   "source": [
    "def sum_sq_n_cube(x):\n",
    "    return next(x) + next(x)\n",
    "\n",
    "def sq_n_cube(l):\n",
    "    yield l*l\n",
    "    yield l*l*l\n",
    "\n",
    "\n",
    "for i in range(5):\n",
    "    print(sum_sq_n_cube(sq_n_cube(i)))\n",
    "\n",
    "    \n",
    "    "
   ]
  },
  {
   "cell_type": "code",
   "execution_count": null,
   "metadata": {},
   "outputs": [],
   "source": [
    "# Note however, the utility of generator objects really is observed when there is large information to process and at this\n",
    "# point in the python journey - it may not be possible to elaborate further. However, one may (or may not) require it \n",
    "# on immersing oneself in Advanced AI. At that point, do remember these generator objects and dig deeper. "
   ]
  },
  {
   "cell_type": "markdown",
   "metadata": {},
   "source": [
    "### Recursive functions"
   ]
  },
  {
   "cell_type": "code",
   "execution_count": null,
   "metadata": {},
   "outputs": [],
   "source": [
    "# Function that calls itself in its function definition is called a recursive function. Basically, asking it to perform a\n",
    "# certain task repeatedly to its own output until asked to stop. IMPORTANT - as we saw with While loops - we must give a\n",
    "# recursive function a stop condition which gets updated and checked and DOES change state i.e. from true/false, a certain\n",
    "# amount of steps etc. Otherwise a recursive function will end up in an infinite loop and is much more dangerous than a \n",
    "# a while loop because in recursive functions, the function itself is getting stored to a memory location"
   ]
  },
  {
   "cell_type": "code",
   "execution_count": null,
   "metadata": {},
   "outputs": [],
   "source": [
    "# Finding out the highest square-root before hitting the target number.\n",
    "\n",
    "#Using list\n",
    "\n",
    "a = 20\n",
    "\n",
    "for x in range(10):\n",
    "    if x*x > a:\n",
    "        print(x-1)\n",
    "        break"
   ]
  },
  {
   "cell_type": "code",
   "execution_count": null,
   "metadata": {},
   "outputs": [],
   "source": [
    "def highest_sq_rt(x,a):\n",
    "    if x*x>a:\n",
    "        return x-1\n",
    "    return highest_sq_rt(x+1,a)\n",
    "\n",
    "print(highest_sq_rt(1,20))\n",
    "    "
   ]
  },
  {
   "cell_type": "code",
   "execution_count": null,
   "metadata": {},
   "outputs": [],
   "source": [
    "# Factorial of a number through recursion\n",
    "\n",
    "def factorial(n):\n",
    "    if n == 0 or n == 1:\n",
    "        result = 1\n",
    "    else:\n",
    "        result = n * factorial(n-1)\n",
    "    return result\n",
    "\n",
    "print(factorial(6))\n"
   ]
  },
  {
   "cell_type": "code",
   "execution_count": null,
   "metadata": {},
   "outputs": [],
   "source": [
    "for i in range(6):\n",
    "    print(f'Factorial of {i} is {factorial(i)}.')"
   ]
  },
  {
   "cell_type": "code",
   "execution_count": null,
   "metadata": {},
   "outputs": [],
   "source": [
    "def fibo(n):\n",
    "    if n == 0:\n",
    "        return 0\n",
    "    elif n == 1:\n",
    "        return 1\n",
    "    return fibo(n-1) + fibo(n-2)\n",
    "\n",
    "print(fibo(10))"
   ]
  },
  {
   "cell_type": "code",
   "execution_count": null,
   "metadata": {},
   "outputs": [],
   "source": [
    "for i in range(2,11):\n",
    "    print(f'Fibonnaci at {i} is {fibo(i)}.')\n"
   ]
  },
  {
   "cell_type": "code",
   "execution_count": null,
   "metadata": {},
   "outputs": [],
   "source": [
    "#Using list\n",
    "\n",
    "y = [0,1]\n",
    "for x in range(1,11):\n",
    "    y.append(y[-2]+y[-1])\n",
    "    print(f'Fibonnaci at position {x} is {y[x]}.')"
   ]
  },
  {
   "cell_type": "code",
   "execution_count": null,
   "metadata": {},
   "outputs": [],
   "source": [
    "# Advantages and disadvantages of recursion\n",
    "\n",
    "#Advantages of Recursion\n",
    "# Recursive functions make the code look clean and elegant.\n",
    "# A complex task can be broken down into simpler sub-problems using recursion.\n",
    "# Sequence generation is easier with recursion than using some nested iteration.\n",
    "\n",
    "\n",
    "# Disadvantages of Recursion\n",
    "# Sometimes the logic behind recursion is hard to follow through.\n",
    "# Recursive calls are expensive (inefficient) as they take up a lot of memory and time.\n",
    "# Recursive functions are hard to debug."
   ]
  },
  {
   "cell_type": "markdown",
   "metadata": {},
   "source": [
    "### Function wrappers\n"
   ]
  },
  {
   "cell_type": "code",
   "execution_count": null,
   "metadata": {},
   "outputs": [],
   "source": [
    "# Wrappers or decorators are a tool in Python which allows us to add functionality to the function being wrapped without\n",
    "# modifying it. Also, decorators can be used to wrap many different functions extending each of them. \n",
    "\n",
    "\n",
    "# A decorator will take another function as its parameter, process the inner function and return the result."
   ]
  },
  {
   "cell_type": "code",
   "execution_count": null,
   "metadata": {},
   "outputs": [],
   "source": [
    "def num():\n",
    "    return 10\n",
    "\n",
    "def num1():\n",
    "    return 20\n",
    "\n",
    "def decor(swapnil):\n",
    "    def inner():\n",
    "        value = swapnil()+2\n",
    "        return value\n",
    "    return inner\n",
    "\n",
    "\n",
    "result = decor(num1)\n",
    "\n",
    "print(result)\n",
    "print(result())"
   ]
  },
  {
   "cell_type": "code",
   "execution_count": null,
   "metadata": {},
   "outputs": [],
   "source": [
    "def decorator(func): \n",
    "    def inner1(): \n",
    "        print(\"Before function execution\")\n",
    "        func()     \n",
    "        print(\"After function execution\")            \n",
    "    return inner1 \n",
    "\n",
    "# Note how we are not calling the inner1 function. It will return a function object i.e. the wrapper function. \n",
    "\n",
    "def function_to_use(): \n",
    "    print(\"Wrapped\") \n",
    "       \n",
    "wrapped_func = decorator(function_to_use) \n",
    "    \n",
    "print(wrapped_func)"
   ]
  },
  {
   "cell_type": "code",
   "execution_count": null,
   "metadata": {},
   "outputs": [],
   "source": [
    "wrapped_func()"
   ]
  },
  {
   "cell_type": "code",
   "execution_count": null,
   "metadata": {},
   "outputs": [],
   "source": [
    "# Decorator function\n",
    "\n",
    "def add_gst(funct):\n",
    "    def inner(*args, **kwargs):\n",
    "        value = round(funct(*args, **kwargs)*1.18,2)\n",
    "        return f'Bill is {funct(*args, **kwargs)} and with GST works out to {value}.'\n",
    "    return inner"
   ]
  },
  {
   "cell_type": "code",
   "execution_count": null,
   "metadata": {},
   "outputs": [],
   "source": [
    "def laundry_bill(x,y):\n",
    "    return x+y\n",
    "\n",
    "laundry_gst = add_gst(laundry_bill)\n",
    "print(laundry_gst(10,20))"
   ]
  },
  {
   "cell_type": "code",
   "execution_count": null,
   "metadata": {},
   "outputs": [],
   "source": [
    "def resto_bill(x):\n",
    "    total = 0\n",
    "    for i in x:\n",
    "        total += i\n",
    "    return total\n",
    "\n",
    "resto_gst = add_gst(resto_bill)\n",
    "print(resto_gst([10,20,30]))"
   ]
  },
  {
   "cell_type": "code",
   "execution_count": null,
   "metadata": {},
   "outputs": [],
   "source": [
    "def transport(x,y):\n",
    "    km = x\n",
    "    rate = y\n",
    "    return km*rate\n",
    "\n",
    "transport_gst = add_gst(transport)\n",
    "print(transport_gst(100,5))"
   ]
  },
  {
   "cell_type": "code",
   "execution_count": null,
   "metadata": {},
   "outputs": [],
   "source": [
    "def room_bar(**kwargs):\n",
    "    x = kwargs.items()\n",
    "    total = 0\n",
    "    for i in x:\n",
    "        total += i\n",
    "        \n",
    "    return total\n",
    "\n",
    "room_gst = add_gst(room_bar)\n",
    "print(room_gst(a=5,b=7,c=10,d=12,e=20))"
   ]
  },
  {
   "cell_type": "code",
   "execution_count": null,
   "metadata": {},
   "outputs": [],
   "source": [
    "# Easier syntax - Python allows us an easier way to wrap functions. \n",
    "\n",
    "def serv_charge(funct):\n",
    "    def inner(*args, **kwargs):\n",
    "        value = round(funct(*args, **kwargs)*1.10,2)\n",
    "        return value\n",
    "    return inner\n"
   ]
  },
  {
   "cell_type": "code",
   "execution_count": null,
   "metadata": {},
   "outputs": [],
   "source": [
    "@serv_charge\n",
    "def laundry_bill(x,y):\n",
    "    return x+y\n",
    "\n",
    "print(laundry_bill(10,20))"
   ]
  },
  {
   "cell_type": "code",
   "execution_count": null,
   "metadata": {},
   "outputs": [],
   "source": [
    "#Note here how the decorator was applied directly to the function and we did not need to create a new variable with the \n",
    "# wrapper object. Now, every time laundry bill is called, it will be decorated with the the serv_charge decorator."
   ]
  },
  {
   "cell_type": "code",
   "execution_count": null,
   "metadata": {},
   "outputs": [],
   "source": []
  },
  {
   "cell_type": "code",
   "execution_count": null,
   "metadata": {},
   "outputs": [],
   "source": [
    "@serv_charge\n",
    "def resto_bill(x):\n",
    "    total = 0\n",
    "    for i in x:\n",
    "        total += i\n",
    "    return total\n",
    "\n",
    "print(resto_bill([5,11,4]))"
   ]
  },
  {
   "cell_type": "code",
   "execution_count": null,
   "metadata": {},
   "outputs": [],
   "source": [
    "@serv_charge\n",
    "def transport(x,y):\n",
    "    km = x\n",
    "    rate = y\n",
    "    return km*rate\n",
    "\n",
    "print(transport(77,6))"
   ]
  },
  {
   "cell_type": "code",
   "execution_count": null,
   "metadata": {},
   "outputs": [],
   "source": [
    "@serv_charge\n",
    "def room_bar(x):\n",
    "    total = 0\n",
    "    for i in x:\n",
    "        total += i\n",
    "    return total\n",
    "\n",
    "print(room_bar([5,17,7,6]))"
   ]
  },
  {
   "cell_type": "code",
   "execution_count": null,
   "metadata": {},
   "outputs": [],
   "source": [
    "# We can apply multiple decorators to functions. \n",
    "\n",
    "@add_gst\n",
    "@serv_charge\n",
    "def laundry_bill(x,y):\n",
    "    return x+y\n",
    "\n",
    "print(laundry_bill(10,20))\n"
   ]
  },
  {
   "cell_type": "code",
   "execution_count": null,
   "metadata": {},
   "outputs": [],
   "source": [
    "@add_gst\n",
    "@serv_charge\n",
    "def resto_bill(x):\n",
    "    total = 0\n",
    "    for i in x:\n",
    "        total += i\n",
    "    return total\n",
    "\n",
    "print(resto_bill([5,11,4]))"
   ]
  },
  {
   "cell_type": "code",
   "execution_count": null,
   "metadata": {},
   "outputs": [],
   "source": [
    "@add_gst\n",
    "@serv_charge\n",
    "def transport(x,y):\n",
    "    km = x\n",
    "    rate = y\n",
    "    return km*rate\n",
    "\n",
    "print(transport(77,6))"
   ]
  },
  {
   "cell_type": "code",
   "execution_count": null,
   "metadata": {},
   "outputs": [],
   "source": [
    "@add_gst\n",
    "@serv_charge\n",
    "def room_bar(x):\n",
    "    total = 0\n",
    "    for i in x:\n",
    "        total += i\n",
    "    return total\n",
    "\n",
    "print(room_bar([5,17,7,6]))"
   ]
  },
  {
   "cell_type": "markdown",
   "metadata": {},
   "source": [
    "### Modules"
   ]
  },
  {
   "cell_type": "code",
   "execution_count": null,
   "metadata": {},
   "outputs": [],
   "source": [
    "# Modules refer to a file containing Python statements and definitions. A file containing Python code, for example:Pgm.py, \n",
    "# is called a module, and its module name would be Pgm. We use modules to break down large programs into small manageable\n",
    "# and organized files.\n",
    " \n",
    "# Furthermore, modules provide reusability of code.We can define our most used functions in a module and import it, \n",
    "# instead of copying their definitions into different programs.\n"
   ]
  },
  {
   "cell_type": "code",
   "execution_count": null,
   "metadata": {},
   "outputs": [],
   "source": [
    "import module"
   ]
  },
  {
   "cell_type": "code",
   "execution_count": null,
   "metadata": {},
   "outputs": [],
   "source": [
    "module.add_sumXYZ(10,20)"
   ]
  },
  {
   "cell_type": "code",
   "execution_count": null,
   "metadata": {},
   "outputs": [],
   "source": [
    "#Note how we needed to use the function defined with the following syntax:\n",
    "\n",
    "# modulename.function(arguments)"
   ]
  },
  {
   "cell_type": "code",
   "execution_count": null,
   "metadata": {},
   "outputs": [],
   "source": [
    "#Note that importing notebooks like jupyter as modules is much more complex than just .py files and requires 'hooks'. For\n",
    "# all practical purposes, it is sufficient to create modules in .py format and import them. "
   ]
  },
  {
   "cell_type": "code",
   "execution_count": null,
   "metadata": {},
   "outputs": [],
   "source": [
    "# We can import modules as aliases\n",
    "\n",
    "import module as modu\n",
    "\n",
    "modu.add_sumXYZ(100,200)"
   ]
  },
  {
   "cell_type": "code",
   "execution_count": null,
   "metadata": {},
   "outputs": [],
   "source": [
    "module.add_sumXYZ(5,10)"
   ]
  },
  {
   "cell_type": "code",
   "execution_count": null,
   "metadata": {},
   "outputs": [],
   "source": [
    "# Note however, that if we had imported module in the previous step directly i.e. without aliasing then module would not\n",
    "# have been part of our local scope and unavailable to run and only modu would be available. "
   ]
  },
  {
   "cell_type": "code",
   "execution_count": null,
   "metadata": {},
   "outputs": [],
   "source": [
    "# We can import a specific names and attributes from a module."
   ]
  },
  {
   "cell_type": "code",
   "execution_count": null,
   "metadata": {},
   "outputs": [],
   "source": [
    "from module import add_sumXYZ\n",
    "\n",
    "add_sumXYZ(10,20)"
   ]
  },
  {
   "cell_type": "code",
   "execution_count": null,
   "metadata": {},
   "outputs": [],
   "source": [
    "# Note here how we no longer had to use the module name before the function. So, the syntax has changed to:\n",
    "\n",
    "# function(arguments) instead of module.function(arguments)"
   ]
  },
  {
   "cell_type": "code",
   "execution_count": null,
   "metadata": {},
   "outputs": [],
   "source": [
    "# However, other functions in the module have not been imported. \n",
    "\n",
    "sub_numXYZ(20,10)"
   ]
  },
  {
   "cell_type": "code",
   "execution_count": null,
   "metadata": {},
   "outputs": [],
   "source": [
    "module.sub_numXYZ(20,10)"
   ]
  },
  {
   "cell_type": "code",
   "execution_count": null,
   "metadata": {},
   "outputs": [],
   "source": [
    "from module import sub_numXYZ\n",
    "\n",
    "sub_numXYZ(20,10)"
   ]
  },
  {
   "cell_type": "code",
   "execution_count": null,
   "metadata": {},
   "outputs": [],
   "source": [
    "# Now that we have imported the sub_numXYZ attribute seperately, it works."
   ]
  },
  {
   "cell_type": "code",
   "execution_count": null,
   "metadata": {},
   "outputs": [],
   "source": [
    "from module import add_sumXYZ as ads\n",
    "\n",
    "ads(100,25)"
   ]
  },
  {
   "cell_type": "code",
   "execution_count": null,
   "metadata": {},
   "outputs": [],
   "source": [
    "# Aliasing on the attributes also works. (Show in Thonny)"
   ]
  },
  {
   "cell_type": "code",
   "execution_count": null,
   "metadata": {},
   "outputs": [],
   "source": [
    "# We can also import all the attributes and methods using the * syntax. \n",
    "\n",
    "from module import *\n",
    "\n",
    "print(add_sumXYZ(1,2))"
   ]
  },
  {
   "cell_type": "code",
   "execution_count": null,
   "metadata": {},
   "outputs": [],
   "source": [
    "print(sub_numXYZ(2,1))"
   ]
  },
  {
   "cell_type": "markdown",
   "metadata": {},
   "source": [
    "#### However, the method to import all the functions and attributes with * is not recommended. While writing long pieces of codes it is possible (or even likely) to re-define some attributes and functions of the original module corrupting the program (sometimes fatally). "
   ]
  },
  {
   "cell_type": "code",
   "execution_count": null,
   "metadata": {},
   "outputs": [],
   "source": [
    "#Importing from other directories. \n",
    "\n",
    "# To import from other directories we need to tell Python to look in other directories as well. For that we need the sys\n",
    "# module and the append funtion from that module. \n",
    "\n",
    "import sys        \n",
    " \n",
    "sys.path.append(r'C:\\Users\\Vikas\\Documents\\Computer Learning\\Learnbay Training Programs\\Python\\Class 12 - Functions\\Inner File')       \n",
    " \n",
    "import LostPython\n"
   ]
  },
  {
   "cell_type": "code",
   "execution_count": null,
   "metadata": {},
   "outputs": [],
   "source": [
    "print(LostPython.multi_XYZ(10,8))"
   ]
  },
  {
   "cell_type": "code",
   "execution_count": null,
   "metadata": {},
   "outputs": [],
   "source": [
    "# Dir built-in function returns all the variables, functions and attributes in the local scope. \n",
    "\n",
    "print(dir(LostPython))"
   ]
  },
  {
   "cell_type": "code",
   "execution_count": null,
   "metadata": {},
   "outputs": [],
   "source": [
    "import module\n",
    "\n",
    "print(dir(module))"
   ]
  },
  {
   "cell_type": "code",
   "execution_count": null,
   "metadata": {},
   "outputs": [],
   "source": [
    "# Special Name variable. Look at Thonny files"
   ]
  },
  {
   "cell_type": "code",
   "execution_count": null,
   "metadata": {},
   "outputs": [],
   "source": []
  }
 ],
 "metadata": {
  "kernelspec": {
   "display_name": "Python 3",
   "language": "python",
   "name": "python3"
  },
  "language_info": {
   "codemirror_mode": {
    "name": "ipython",
    "version": 3
   },
   "file_extension": ".py",
   "mimetype": "text/x-python",
   "name": "python",
   "nbconvert_exporter": "python",
   "pygments_lexer": "ipython3",
   "version": "3.8.3"
  }
 },
 "nbformat": 4,
 "nbformat_minor": 5
}
