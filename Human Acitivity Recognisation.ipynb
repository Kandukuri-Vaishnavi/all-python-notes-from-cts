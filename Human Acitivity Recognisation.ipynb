{
 "cells": [
  {
   "cell_type": "markdown",
   "metadata": {},
   "source": [
    "### Human Activity Recognisation Dataset"
   ]
  },
  {
   "cell_type": "markdown",
   "metadata": {},
   "source": [
    "Human Activity Recognition - HAR - has emerged as a key research area in the last years and is gaining increasing attention by the pervasive computing research community, especially for the development of context-aware systems. There are many potential applications for HAR, like: elderly monitoring, life log systems for monitoring energy expenditure and for supporting weight-loss programs, and digital assistants for weight lifting exercises.\n",
    "\n",
    "Read more: https://github.com/Sarosh09/Human-Activity-Recognition"
   ]
  },
  {
   "cell_type": "code",
   "execution_count": 1,
   "metadata": {},
   "outputs": [],
   "source": [
    "# Import packages\n",
    "\n",
    "import numpy as np\n",
    "import pandas as pd\n",
    "import matplotlib.pyplot as plt\n",
    "import seaborn as sns; sns.set()\n",
    "\n",
    "from sklearn.naive_bayes import GaussianNB      \n",
    "from sklearn.metrics import confusion_matrix , classification_report, accuracy_score\n"
   ]
  },
  {
   "cell_type": "code",
   "execution_count": 2,
   "metadata": {},
   "outputs": [
    {
     "data": {
      "text/html": [
       "<div>\n",
       "<style scoped>\n",
       "    .dataframe tbody tr th:only-of-type {\n",
       "        vertical-align: middle;\n",
       "    }\n",
       "\n",
       "    .dataframe tbody tr th {\n",
       "        vertical-align: top;\n",
       "    }\n",
       "\n",
       "    .dataframe thead th {\n",
       "        text-align: right;\n",
       "    }\n",
       "</style>\n",
       "<table border=\"1\" class=\"dataframe\">\n",
       "  <thead>\n",
       "    <tr style=\"text-align: right;\">\n",
       "      <th></th>\n",
       "      <th>classe</th>\n",
       "      <th>roll_belt</th>\n",
       "      <th>pitch_belt</th>\n",
       "      <th>yaw_belt</th>\n",
       "      <th>total_accel_belt</th>\n",
       "      <th>gyros_belt_x</th>\n",
       "      <th>gyros_belt_y</th>\n",
       "      <th>gyros_belt_z</th>\n",
       "      <th>accel_belt_x</th>\n",
       "      <th>accel_belt_y</th>\n",
       "      <th>...</th>\n",
       "      <th>total_accel_forearm</th>\n",
       "      <th>gyros_forearm_x</th>\n",
       "      <th>gyros_forearm_y</th>\n",
       "      <th>gyros_forearm_z</th>\n",
       "      <th>accel_forearm_x</th>\n",
       "      <th>accel_forearm_y</th>\n",
       "      <th>accel_forearm_z</th>\n",
       "      <th>magnet_forearm_x</th>\n",
       "      <th>magnet_forearm_y</th>\n",
       "      <th>magnet_forearm_z</th>\n",
       "    </tr>\n",
       "  </thead>\n",
       "  <tbody>\n",
       "    <tr>\n",
       "      <th>0</th>\n",
       "      <td>A</td>\n",
       "      <td>1.41</td>\n",
       "      <td>8.07</td>\n",
       "      <td>-94.4</td>\n",
       "      <td>3</td>\n",
       "      <td>0.00</td>\n",
       "      <td>0.0</td>\n",
       "      <td>-0.02</td>\n",
       "      <td>-21</td>\n",
       "      <td>4</td>\n",
       "      <td>...</td>\n",
       "      <td>36</td>\n",
       "      <td>0.03</td>\n",
       "      <td>0.00</td>\n",
       "      <td>-0.02</td>\n",
       "      <td>192</td>\n",
       "      <td>203</td>\n",
       "      <td>-215</td>\n",
       "      <td>-17</td>\n",
       "      <td>654</td>\n",
       "      <td>476</td>\n",
       "    </tr>\n",
       "    <tr>\n",
       "      <th>1</th>\n",
       "      <td>A</td>\n",
       "      <td>1.41</td>\n",
       "      <td>8.07</td>\n",
       "      <td>-94.4</td>\n",
       "      <td>3</td>\n",
       "      <td>0.02</td>\n",
       "      <td>0.0</td>\n",
       "      <td>-0.02</td>\n",
       "      <td>-22</td>\n",
       "      <td>4</td>\n",
       "      <td>...</td>\n",
       "      <td>36</td>\n",
       "      <td>0.02</td>\n",
       "      <td>0.00</td>\n",
       "      <td>-0.02</td>\n",
       "      <td>192</td>\n",
       "      <td>203</td>\n",
       "      <td>-216</td>\n",
       "      <td>-18</td>\n",
       "      <td>661</td>\n",
       "      <td>473</td>\n",
       "    </tr>\n",
       "    <tr>\n",
       "      <th>2</th>\n",
       "      <td>A</td>\n",
       "      <td>1.42</td>\n",
       "      <td>8.07</td>\n",
       "      <td>-94.4</td>\n",
       "      <td>3</td>\n",
       "      <td>0.00</td>\n",
       "      <td>0.0</td>\n",
       "      <td>-0.02</td>\n",
       "      <td>-20</td>\n",
       "      <td>5</td>\n",
       "      <td>...</td>\n",
       "      <td>36</td>\n",
       "      <td>0.03</td>\n",
       "      <td>-0.02</td>\n",
       "      <td>0.00</td>\n",
       "      <td>196</td>\n",
       "      <td>204</td>\n",
       "      <td>-213</td>\n",
       "      <td>-18</td>\n",
       "      <td>658</td>\n",
       "      <td>469</td>\n",
       "    </tr>\n",
       "    <tr>\n",
       "      <th>3</th>\n",
       "      <td>A</td>\n",
       "      <td>1.48</td>\n",
       "      <td>8.05</td>\n",
       "      <td>-94.4</td>\n",
       "      <td>3</td>\n",
       "      <td>0.02</td>\n",
       "      <td>0.0</td>\n",
       "      <td>-0.03</td>\n",
       "      <td>-22</td>\n",
       "      <td>3</td>\n",
       "      <td>...</td>\n",
       "      <td>36</td>\n",
       "      <td>0.02</td>\n",
       "      <td>-0.02</td>\n",
       "      <td>0.00</td>\n",
       "      <td>189</td>\n",
       "      <td>206</td>\n",
       "      <td>-214</td>\n",
       "      <td>-16</td>\n",
       "      <td>658</td>\n",
       "      <td>469</td>\n",
       "    </tr>\n",
       "    <tr>\n",
       "      <th>4</th>\n",
       "      <td>A</td>\n",
       "      <td>1.45</td>\n",
       "      <td>8.06</td>\n",
       "      <td>-94.4</td>\n",
       "      <td>3</td>\n",
       "      <td>0.02</td>\n",
       "      <td>0.0</td>\n",
       "      <td>-0.02</td>\n",
       "      <td>-21</td>\n",
       "      <td>4</td>\n",
       "      <td>...</td>\n",
       "      <td>36</td>\n",
       "      <td>0.02</td>\n",
       "      <td>-0.02</td>\n",
       "      <td>-0.03</td>\n",
       "      <td>193</td>\n",
       "      <td>203</td>\n",
       "      <td>-215</td>\n",
       "      <td>-9</td>\n",
       "      <td>660</td>\n",
       "      <td>478</td>\n",
       "    </tr>\n",
       "  </tbody>\n",
       "</table>\n",
       "<p>5 rows × 53 columns</p>\n",
       "</div>"
      ],
      "text/plain": [
       "  classe  roll_belt  pitch_belt  yaw_belt  total_accel_belt  gyros_belt_x  \\\n",
       "0      A       1.41        8.07     -94.4                 3          0.00   \n",
       "1      A       1.41        8.07     -94.4                 3          0.02   \n",
       "2      A       1.42        8.07     -94.4                 3          0.00   \n",
       "3      A       1.48        8.05     -94.4                 3          0.02   \n",
       "4      A       1.45        8.06     -94.4                 3          0.02   \n",
       "\n",
       "   gyros_belt_y  gyros_belt_z  accel_belt_x  accel_belt_y  ...  \\\n",
       "0           0.0         -0.02           -21             4  ...   \n",
       "1           0.0         -0.02           -22             4  ...   \n",
       "2           0.0         -0.02           -20             5  ...   \n",
       "3           0.0         -0.03           -22             3  ...   \n",
       "4           0.0         -0.02           -21             4  ...   \n",
       "\n",
       "   total_accel_forearm  gyros_forearm_x  gyros_forearm_y  gyros_forearm_z  \\\n",
       "0                   36             0.03             0.00            -0.02   \n",
       "1                   36             0.02             0.00            -0.02   \n",
       "2                   36             0.03            -0.02             0.00   \n",
       "3                   36             0.02            -0.02             0.00   \n",
       "4                   36             0.02            -0.02            -0.03   \n",
       "\n",
       "   accel_forearm_x  accel_forearm_y  accel_forearm_z  magnet_forearm_x  \\\n",
       "0              192              203             -215               -17   \n",
       "1              192              203             -216               -18   \n",
       "2              196              204             -213               -18   \n",
       "3              189              206             -214               -16   \n",
       "4              193              203             -215                -9   \n",
       "\n",
       "   magnet_forearm_y  magnet_forearm_z  \n",
       "0               654               476  \n",
       "1               661               473  \n",
       "2               658               469  \n",
       "3               658               469  \n",
       "4               660               478  \n",
       "\n",
       "[5 rows x 53 columns]"
      ]
     },
     "execution_count": 2,
     "metadata": {},
     "output_type": "execute_result"
    }
   ],
   "source": [
    "# Import data\n",
    "training = pd.read_csv(\"har_train.csv\")\n",
    "test =  pd.read_csv(\"har_validate.csv\")\n",
    "training.head()"
   ]
  },
  {
   "cell_type": "code",
   "execution_count": 3,
   "metadata": {},
   "outputs": [
    {
     "data": {
      "text/plain": [
       "(13737, 53)"
      ]
     },
     "execution_count": 3,
     "metadata": {},
     "output_type": "execute_result"
    }
   ],
   "source": [
    "training.shape"
   ]
  },
  {
   "cell_type": "code",
   "execution_count": 4,
   "metadata": {},
   "outputs": [
    {
     "data": {
      "text/plain": [
       "Index(['classe', 'roll_belt', 'pitch_belt', 'yaw_belt', 'total_accel_belt',\n",
       "       'gyros_belt_x', 'gyros_belt_y', 'gyros_belt_z', 'accel_belt_x',\n",
       "       'accel_belt_y', 'accel_belt_z', 'magnet_belt_x', 'magnet_belt_y',\n",
       "       'magnet_belt_z', 'roll_arm', 'pitch_arm', 'yaw_arm', 'total_accel_arm',\n",
       "       'gyros_arm_x', 'gyros_arm_y', 'gyros_arm_z', 'accel_arm_x',\n",
       "       'accel_arm_y', 'accel_arm_z', 'magnet_arm_x', 'magnet_arm_y',\n",
       "       'magnet_arm_z', 'roll_dumbbell', 'pitch_dumbbell', 'yaw_dumbbell',\n",
       "       'total_accel_dumbbell', 'gyros_dumbbell_x', 'gyros_dumbbell_y',\n",
       "       'gyros_dumbbell_z', 'accel_dumbbell_x', 'accel_dumbbell_y',\n",
       "       'accel_dumbbell_z', 'magnet_dumbbell_x', 'magnet_dumbbell_y',\n",
       "       'magnet_dumbbell_z', 'roll_forearm', 'pitch_forearm', 'yaw_forearm',\n",
       "       'total_accel_forearm', 'gyros_forearm_x', 'gyros_forearm_y',\n",
       "       'gyros_forearm_z', 'accel_forearm_x', 'accel_forearm_y',\n",
       "       'accel_forearm_z', 'magnet_forearm_x', 'magnet_forearm_y',\n",
       "       'magnet_forearm_z'],\n",
       "      dtype='object')"
      ]
     },
     "execution_count": 4,
     "metadata": {},
     "output_type": "execute_result"
    }
   ],
   "source": [
    "training.columns"
   ]
  },
  {
   "cell_type": "code",
   "execution_count": 5,
   "metadata": {},
   "outputs": [
    {
     "data": {
      "text/plain": [
       "(5885, 53)"
      ]
     },
     "execution_count": 5,
     "metadata": {},
     "output_type": "execute_result"
    }
   ],
   "source": [
    "test.shape"
   ]
  },
  {
   "cell_type": "code",
   "execution_count": 6,
   "metadata": {},
   "outputs": [
    {
     "data": {
      "text/html": [
       "<div>\n",
       "<style scoped>\n",
       "    .dataframe tbody tr th:only-of-type {\n",
       "        vertical-align: middle;\n",
       "    }\n",
       "\n",
       "    .dataframe tbody tr th {\n",
       "        vertical-align: top;\n",
       "    }\n",
       "\n",
       "    .dataframe thead th {\n",
       "        text-align: right;\n",
       "    }\n",
       "</style>\n",
       "<table border=\"1\" class=\"dataframe\">\n",
       "  <thead>\n",
       "    <tr style=\"text-align: right;\">\n",
       "      <th></th>\n",
       "      <th>roll_belt</th>\n",
       "      <th>pitch_belt</th>\n",
       "      <th>yaw_belt</th>\n",
       "      <th>total_accel_belt</th>\n",
       "      <th>gyros_belt_x</th>\n",
       "      <th>gyros_belt_y</th>\n",
       "      <th>gyros_belt_z</th>\n",
       "      <th>accel_belt_x</th>\n",
       "      <th>accel_belt_y</th>\n",
       "      <th>accel_belt_z</th>\n",
       "      <th>...</th>\n",
       "      <th>total_accel_forearm</th>\n",
       "      <th>gyros_forearm_x</th>\n",
       "      <th>gyros_forearm_y</th>\n",
       "      <th>gyros_forearm_z</th>\n",
       "      <th>accel_forearm_x</th>\n",
       "      <th>accel_forearm_y</th>\n",
       "      <th>accel_forearm_z</th>\n",
       "      <th>magnet_forearm_x</th>\n",
       "      <th>magnet_forearm_y</th>\n",
       "      <th>magnet_forearm_z</th>\n",
       "    </tr>\n",
       "  </thead>\n",
       "  <tbody>\n",
       "    <tr>\n",
       "      <th>count</th>\n",
       "      <td>13737.000000</td>\n",
       "      <td>13737.000000</td>\n",
       "      <td>13737.000000</td>\n",
       "      <td>13737.000000</td>\n",
       "      <td>13737.000000</td>\n",
       "      <td>13737.000000</td>\n",
       "      <td>13737.000000</td>\n",
       "      <td>13737.000000</td>\n",
       "      <td>13737.000000</td>\n",
       "      <td>13737.000000</td>\n",
       "      <td>...</td>\n",
       "      <td>13737.000000</td>\n",
       "      <td>13737.000000</td>\n",
       "      <td>13737.00000</td>\n",
       "      <td>13737.000000</td>\n",
       "      <td>13737.000000</td>\n",
       "      <td>13737.000000</td>\n",
       "      <td>13737.000000</td>\n",
       "      <td>13737.000000</td>\n",
       "      <td>13737.000000</td>\n",
       "      <td>13737.000000</td>\n",
       "    </tr>\n",
       "    <tr>\n",
       "      <th>mean</th>\n",
       "      <td>64.503131</td>\n",
       "      <td>0.191794</td>\n",
       "      <td>-10.941653</td>\n",
       "      <td>11.317973</td>\n",
       "      <td>-0.004831</td>\n",
       "      <td>0.040013</td>\n",
       "      <td>-0.130328</td>\n",
       "      <td>-5.424620</td>\n",
       "      <td>30.152362</td>\n",
       "      <td>-72.748271</td>\n",
       "      <td>...</td>\n",
       "      <td>34.717551</td>\n",
       "      <td>0.159878</td>\n",
       "      <td>0.06067</td>\n",
       "      <td>0.142131</td>\n",
       "      <td>-61.736915</td>\n",
       "      <td>163.438087</td>\n",
       "      <td>-55.328383</td>\n",
       "      <td>-311.819611</td>\n",
       "      <td>379.741210</td>\n",
       "      <td>391.859212</td>\n",
       "    </tr>\n",
       "    <tr>\n",
       "      <th>std</th>\n",
       "      <td>62.768030</td>\n",
       "      <td>22.363296</td>\n",
       "      <td>95.374331</td>\n",
       "      <td>7.744534</td>\n",
       "      <td>0.206729</td>\n",
       "      <td>0.078435</td>\n",
       "      <td>0.241559</td>\n",
       "      <td>29.697752</td>\n",
       "      <td>28.560242</td>\n",
       "      <td>100.410466</td>\n",
       "      <td>...</td>\n",
       "      <td>10.089365</td>\n",
       "      <td>0.629520</td>\n",
       "      <td>2.15904</td>\n",
       "      <td>0.601628</td>\n",
       "      <td>180.263200</td>\n",
       "      <td>200.714691</td>\n",
       "      <td>138.501162</td>\n",
       "      <td>346.766862</td>\n",
       "      <td>511.403542</td>\n",
       "      <td>370.396450</td>\n",
       "    </tr>\n",
       "    <tr>\n",
       "      <th>min</th>\n",
       "      <td>-28.900000</td>\n",
       "      <td>-54.900000</td>\n",
       "      <td>-180.000000</td>\n",
       "      <td>0.000000</td>\n",
       "      <td>-1.040000</td>\n",
       "      <td>-0.640000</td>\n",
       "      <td>-1.350000</td>\n",
       "      <td>-120.000000</td>\n",
       "      <td>-69.000000</td>\n",
       "      <td>-269.000000</td>\n",
       "      <td>...</td>\n",
       "      <td>0.000000</td>\n",
       "      <td>-3.360000</td>\n",
       "      <td>-7.02000</td>\n",
       "      <td>-8.090000</td>\n",
       "      <td>-498.000000</td>\n",
       "      <td>-585.000000</td>\n",
       "      <td>-410.000000</td>\n",
       "      <td>-1280.000000</td>\n",
       "      <td>-892.000000</td>\n",
       "      <td>-973.000000</td>\n",
       "    </tr>\n",
       "    <tr>\n",
       "      <th>25%</th>\n",
       "      <td>1.100000</td>\n",
       "      <td>1.670000</td>\n",
       "      <td>-88.300000</td>\n",
       "      <td>3.000000</td>\n",
       "      <td>-0.030000</td>\n",
       "      <td>0.000000</td>\n",
       "      <td>-0.200000</td>\n",
       "      <td>-21.000000</td>\n",
       "      <td>3.000000</td>\n",
       "      <td>-162.000000</td>\n",
       "      <td>...</td>\n",
       "      <td>29.000000</td>\n",
       "      <td>-0.220000</td>\n",
       "      <td>-1.46000</td>\n",
       "      <td>-0.180000</td>\n",
       "      <td>-178.000000</td>\n",
       "      <td>54.000000</td>\n",
       "      <td>-182.000000</td>\n",
       "      <td>-613.000000</td>\n",
       "      <td>-3.000000</td>\n",
       "      <td>187.000000</td>\n",
       "    </tr>\n",
       "    <tr>\n",
       "      <th>50%</th>\n",
       "      <td>114.000000</td>\n",
       "      <td>5.260000</td>\n",
       "      <td>-12.700000</td>\n",
       "      <td>17.000000</td>\n",
       "      <td>0.030000</td>\n",
       "      <td>0.020000</td>\n",
       "      <td>-0.100000</td>\n",
       "      <td>-15.000000</td>\n",
       "      <td>35.000000</td>\n",
       "      <td>-152.000000</td>\n",
       "      <td>...</td>\n",
       "      <td>36.000000</td>\n",
       "      <td>0.050000</td>\n",
       "      <td>0.03000</td>\n",
       "      <td>0.080000</td>\n",
       "      <td>-57.000000</td>\n",
       "      <td>200.000000</td>\n",
       "      <td>-39.000000</td>\n",
       "      <td>-378.000000</td>\n",
       "      <td>595.000000</td>\n",
       "      <td>509.000000</td>\n",
       "    </tr>\n",
       "    <tr>\n",
       "      <th>75%</th>\n",
       "      <td>123.000000</td>\n",
       "      <td>14.800000</td>\n",
       "      <td>13.600000</td>\n",
       "      <td>18.000000</td>\n",
       "      <td>0.110000</td>\n",
       "      <td>0.110000</td>\n",
       "      <td>-0.020000</td>\n",
       "      <td>-5.000000</td>\n",
       "      <td>61.000000</td>\n",
       "      <td>27.000000</td>\n",
       "      <td>...</td>\n",
       "      <td>41.000000</td>\n",
       "      <td>0.560000</td>\n",
       "      <td>1.64000</td>\n",
       "      <td>0.490000</td>\n",
       "      <td>76.000000</td>\n",
       "      <td>312.000000</td>\n",
       "      <td>26.000000</td>\n",
       "      <td>-72.000000</td>\n",
       "      <td>737.000000</td>\n",
       "      <td>652.000000</td>\n",
       "    </tr>\n",
       "    <tr>\n",
       "      <th>max</th>\n",
       "      <td>162.000000</td>\n",
       "      <td>60.300000</td>\n",
       "      <td>179.000000</td>\n",
       "      <td>28.000000</td>\n",
       "      <td>2.220000</td>\n",
       "      <td>0.640000</td>\n",
       "      <td>1.620000</td>\n",
       "      <td>83.000000</td>\n",
       "      <td>164.000000</td>\n",
       "      <td>105.000000</td>\n",
       "      <td>...</td>\n",
       "      <td>73.000000</td>\n",
       "      <td>3.520000</td>\n",
       "      <td>6.13000</td>\n",
       "      <td>4.310000</td>\n",
       "      <td>477.000000</td>\n",
       "      <td>589.000000</td>\n",
       "      <td>291.000000</td>\n",
       "      <td>666.000000</td>\n",
       "      <td>1480.000000</td>\n",
       "      <td>1090.000000</td>\n",
       "    </tr>\n",
       "  </tbody>\n",
       "</table>\n",
       "<p>8 rows × 52 columns</p>\n",
       "</div>"
      ],
      "text/plain": [
       "          roll_belt    pitch_belt      yaw_belt  total_accel_belt  \\\n",
       "count  13737.000000  13737.000000  13737.000000      13737.000000   \n",
       "mean      64.503131      0.191794    -10.941653         11.317973   \n",
       "std       62.768030     22.363296     95.374331          7.744534   \n",
       "min      -28.900000    -54.900000   -180.000000          0.000000   \n",
       "25%        1.100000      1.670000    -88.300000          3.000000   \n",
       "50%      114.000000      5.260000    -12.700000         17.000000   \n",
       "75%      123.000000     14.800000     13.600000         18.000000   \n",
       "max      162.000000     60.300000    179.000000         28.000000   \n",
       "\n",
       "       gyros_belt_x  gyros_belt_y  gyros_belt_z  accel_belt_x  accel_belt_y  \\\n",
       "count  13737.000000  13737.000000  13737.000000  13737.000000  13737.000000   \n",
       "mean      -0.004831      0.040013     -0.130328     -5.424620     30.152362   \n",
       "std        0.206729      0.078435      0.241559     29.697752     28.560242   \n",
       "min       -1.040000     -0.640000     -1.350000   -120.000000    -69.000000   \n",
       "25%       -0.030000      0.000000     -0.200000    -21.000000      3.000000   \n",
       "50%        0.030000      0.020000     -0.100000    -15.000000     35.000000   \n",
       "75%        0.110000      0.110000     -0.020000     -5.000000     61.000000   \n",
       "max        2.220000      0.640000      1.620000     83.000000    164.000000   \n",
       "\n",
       "       accel_belt_z  ...  total_accel_forearm  gyros_forearm_x  \\\n",
       "count  13737.000000  ...         13737.000000     13737.000000   \n",
       "mean     -72.748271  ...            34.717551         0.159878   \n",
       "std      100.410466  ...            10.089365         0.629520   \n",
       "min     -269.000000  ...             0.000000        -3.360000   \n",
       "25%     -162.000000  ...            29.000000        -0.220000   \n",
       "50%     -152.000000  ...            36.000000         0.050000   \n",
       "75%       27.000000  ...            41.000000         0.560000   \n",
       "max      105.000000  ...            73.000000         3.520000   \n",
       "\n",
       "       gyros_forearm_y  gyros_forearm_z  accel_forearm_x  accel_forearm_y  \\\n",
       "count      13737.00000     13737.000000     13737.000000     13737.000000   \n",
       "mean           0.06067         0.142131       -61.736915       163.438087   \n",
       "std            2.15904         0.601628       180.263200       200.714691   \n",
       "min           -7.02000        -8.090000      -498.000000      -585.000000   \n",
       "25%           -1.46000        -0.180000      -178.000000        54.000000   \n",
       "50%            0.03000         0.080000       -57.000000       200.000000   \n",
       "75%            1.64000         0.490000        76.000000       312.000000   \n",
       "max            6.13000         4.310000       477.000000       589.000000   \n",
       "\n",
       "       accel_forearm_z  magnet_forearm_x  magnet_forearm_y  magnet_forearm_z  \n",
       "count     13737.000000      13737.000000      13737.000000      13737.000000  \n",
       "mean        -55.328383       -311.819611        379.741210        391.859212  \n",
       "std         138.501162        346.766862        511.403542        370.396450  \n",
       "min        -410.000000      -1280.000000       -892.000000       -973.000000  \n",
       "25%        -182.000000       -613.000000         -3.000000        187.000000  \n",
       "50%         -39.000000       -378.000000        595.000000        509.000000  \n",
       "75%          26.000000        -72.000000        737.000000        652.000000  \n",
       "max         291.000000        666.000000       1480.000000       1090.000000  \n",
       "\n",
       "[8 rows x 52 columns]"
      ]
     },
     "execution_count": 6,
     "metadata": {},
     "output_type": "execute_result"
    }
   ],
   "source": [
    "training.describe()"
   ]
  },
  {
   "cell_type": "code",
   "execution_count": null,
   "metadata": {},
   "outputs": [],
   "source": [
    "test.describe()"
   ]
  },
  {
   "cell_type": "code",
   "execution_count": 7,
   "metadata": {},
   "outputs": [
    {
     "data": {
      "text/plain": [
       "array(['A', 'B', 'C', 'D', 'E'], dtype=object)"
      ]
     },
     "execution_count": 7,
     "metadata": {},
     "output_type": "execute_result"
    }
   ],
   "source": [
    "training['classe'].unique()"
   ]
  },
  {
   "cell_type": "code",
   "execution_count": 9,
   "metadata": {},
   "outputs": [
    {
     "data": {
      "text/plain": [
       "A    3906\n",
       "B    2658\n",
       "E    2525\n",
       "C    2396\n",
       "D    2252\n",
       "Name: classe, dtype: int64"
      ]
     },
     "execution_count": 9,
     "metadata": {},
     "output_type": "execute_result"
    }
   ],
   "source": [
    "training['classe'].value_counts()"
   ]
  },
  {
   "cell_type": "code",
   "execution_count": 8,
   "metadata": {},
   "outputs": [
    {
     "data": {
      "text/plain": [
       "A    0.284342\n",
       "B    0.193492\n",
       "E    0.183810\n",
       "C    0.174419\n",
       "D    0.163937\n",
       "Name: classe, dtype: float64"
      ]
     },
     "execution_count": 8,
     "metadata": {},
     "output_type": "execute_result"
    }
   ],
   "source": [
    "training['classe'].value_counts()/len(training['classe'])"
   ]
  },
  {
   "cell_type": "code",
   "execution_count": 10,
   "metadata": {},
   "outputs": [],
   "source": [
    "# Create the X and Y\n",
    "xtrain = training.drop('classe', axis=1)\n",
    "ytrain = training.loc[:, 'classe']      #training['classe']\n",
    "\n",
    "xtest = test.drop('classe', axis=1)\n",
    "ytest = test.loc[:, 'classe']"
   ]
  },
  {
   "cell_type": "code",
   "execution_count": 11,
   "metadata": {},
   "outputs": [
    {
     "data": {
      "text/plain": [
       "GaussianNB()"
      ]
     },
     "execution_count": 11,
     "metadata": {},
     "output_type": "execute_result"
    }
   ],
   "source": [
    "# Init the Gaussian Classifier\n",
    "model = GaussianNB()\n",
    "\n",
    "# Train the model\n",
    "model.fit(xtrain, ytrain)"
   ]
  },
  {
   "cell_type": "code",
   "execution_count": 12,
   "metadata": {},
   "outputs": [
    {
     "name": "stdout",
     "output_type": "stream",
     "text": [
      "[[1070   95  262  212   35]\n",
      " [ 127  685  145   76  106]\n",
      " [ 223  106  512  136   49]\n",
      " [ 102   35  271  441  115]\n",
      " [  51  239   95  143  554]]\n"
     ]
    }
   ],
   "source": [
    "# Predict Output \n",
    "pred = model.predict(xtest)\n",
    "mat = confusion_matrix(ytest, pred)       #Multiclass Confusion Matrix\n",
    "print(mat)"
   ]
  },
  {
   "cell_type": "code",
   "execution_count": 13,
   "metadata": {},
   "outputs": [
    {
     "data": {
      "text/plain": [
       "[]"
      ]
     },
     "execution_count": 13,
     "metadata": {},
     "output_type": "execute_result"
    },
    {
     "data": {
      "image/png": "[encoded data removed]",
      "text/plain": [
       "<Figure size 720x576 with 1 Axes>"
      ]
     },
     "metadata": {},
     "output_type": "display_data"
    }
   ],
   "source": [
    "# Plot Confusion Matrix\n",
    "plt.figure(figsize=(10,8))\n",
    "names = np.unique(pred)\n",
    "sns.heatmap(mat, square=True, annot=True, fmt='d', cbar=False,\n",
    "            xticklabels=names, yticklabels=names)\n",
    "plt.xlabel('Predicted values')\n",
    "plt.ylabel('Actual values')\n",
    "plt.plot()"
   ]
  },
  {
   "cell_type": "code",
   "execution_count": 14,
   "metadata": {},
   "outputs": [
    {
     "name": "stderr",
     "output_type": "stream",
     "text": [
      "/Users/amritapanjwani/opt/anaconda3/lib/python3.9/site-packages/sklearn/utils/deprecation.py:87: FutureWarning: Function plot_confusion_matrix is deprecated; Function `plot_confusion_matrix` is deprecated in 1.0 and will be removed in 1.2. Use one of the class methods: ConfusionMatrixDisplay.from_predictions or ConfusionMatrixDisplay.from_estimator.\n",
      "  warnings.warn(msg, category=FutureWarning)\n"
     ]
    },
    {
     "data": {
      "text/plain": [
       "<sklearn.metrics._plot.confusion_matrix.ConfusionMatrixDisplay at 0x7ff15003c040>"
      ]
     },
     "execution_count": 14,
     "metadata": {},
     "output_type": "execute_result"
    },
    {
     "data": {
      "image/png": "[encoded data removed]",
      "text/plain": [
       "<Figure size 432x288 with 2 Axes>"
      ]
     },
     "metadata": {},
     "output_type": "display_data"
    }
   ],
   "source": [
    "from sklearn.metrics import plot_confusion_matrix\n",
    "plot_confusion_matrix(model, xtest, ytest)"
   ]
  },
  {
   "cell_type": "code",
   "execution_count": 15,
   "metadata": {},
   "outputs": [
    {
     "name": "stdout",
     "output_type": "stream",
     "text": [
      "              precision    recall  f1-score   support\n",
      "\n",
      "           A       0.64      0.68      0.66      1573\n",
      "           B       0.60      0.59      0.60      1160\n",
      "           C       0.50      0.40      0.44      1285\n",
      "           D       0.46      0.44      0.45      1008\n",
      "           E       0.51      0.64      0.57       859\n",
      "\n",
      "    accuracy                           0.55      5885\n",
      "   macro avg       0.54      0.55      0.54      5885\n",
      "weighted avg       0.55      0.55      0.55      5885\n",
      "\n"
     ]
    }
   ],
   "source": [
    "# Printing the precision and recall, among other metrics\n",
    "print(classification_report(pred, ytest, labels=[\"A\", \"B\", \"C\",\"D\",\"E\"]))"
   ]
  },
  {
   "cell_type": "code",
   "execution_count": 16,
   "metadata": {},
   "outputs": [
    {
     "name": "stdout",
     "output_type": "stream",
     "text": [
      "              precision    recall  f1-score   support\n",
      "\n",
      "           A       0.64      0.67      0.66      3699\n",
      "           B       0.60      0.62      0.61      2612\n",
      "           C       0.50      0.39      0.44      3077\n",
      "           D       0.48      0.45      0.46      2394\n",
      "           E       0.51      0.66      0.58      1955\n",
      "\n",
      "    accuracy                           0.56     13737\n",
      "   macro avg       0.55      0.56      0.55     13737\n",
      "weighted avg       0.55      0.56      0.55     13737\n",
      "\n"
     ]
    }
   ],
   "source": [
    "train_pred = model.predict(xtrain)\n",
    "print(classification_report(train_pred, ytrain, labels=[\"A\", \"B\", \"C\",\"D\",\"E\"]))"
   ]
  },
  {
   "cell_type": "code",
   "execution_count": 17,
   "metadata": {},
   "outputs": [],
   "source": [
    "# it is performing poor in training and testing both and hence it is underfitting\n",
    "#we should go ahead increase the complexity of the model\n",
    "#add more features (not possible right now)\n",
    "\n",
    "#use gridsearch (assignment: search the hyperparameters of NB ML algo)\n",
    "\n",
    "#Try another models"
   ]
  },
  {
   "cell_type": "code",
   "execution_count": null,
   "metadata": {},
   "outputs": [],
   "source": []
  }
 ],
 "metadata": {
  "kernelspec": {
   "display_name": "Python 3",
   "language": "python",
   "name": "python3"
  },
  "language_info": {
   "codemirror_mode": {
    "name": "ipython",
    "version": 3
   },
   "file_extension": ".py",
   "mimetype": "text/x-python",
   "name": "python",
   "nbconvert_exporter": "python",
   "pygments_lexer": "ipython3",
   "version": "3.8.3"
  }
 },
 "nbformat": 4,
 "nbformat_minor": 2
}
