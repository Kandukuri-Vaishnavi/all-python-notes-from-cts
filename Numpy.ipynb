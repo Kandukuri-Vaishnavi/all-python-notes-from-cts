{
 "cells": [
  {
   "cell_type": "markdown",
   "metadata": {},
   "source": [
    "### Numpy (Numerical Python) Library"
   ]
  },
  {
   "cell_type": "code",
   "execution_count": null,
   "metadata": {},
   "outputs": [],
   "source": [
    "# NumPy, short for Numerical Python, has long been a cornerstone of numerical computing in Python. It provides the data\n",
    "# structures, algorithms, and library glue needed for most scientific applications involving numerical data in Python. \n",
    "# NumPy contains, among other things:\n",
    "\n",
    "# ● A fast and efficient multidimensional array object ndarray\n",
    "# ● Functions for performing element-wise computations with arrays or mathematical\n",
    "# operations between arrays\n",
    "# ● Tools for reading and writing array-based datasets to disk\n",
    "# ● Linear algebra operations, Fourier transform, and random number generation\n",
    "# ● A mature C API to enable Python extensions and native C or C++ code to access"
   ]
  },
  {
   "cell_type": "code",
   "execution_count": null,
   "metadata": {},
   "outputs": [],
   "source": [
    "# NumPy’s data structures and computational facilities.\n",
    "\n",
    "# Beyond the fast array-processing capabilities that NumPy adds to Python, one of its primary uses in data analysis is as a\n",
    "# container for data to be passed between algorithms and libraries.\n",
    "\n",
    "# For numerical data, NumPy arrays are more efficient for storing and manipulating data than the other built-in Python\n",
    "# data structures. Also, libraries written in a lower-level language, such as C or Fortran, can operate on the data stored\n",
    "# in a NumPy array without copying data into some other memory representation. Thus, many numerical computing tools for\n",
    "# Python either assume NumPy arrays as a primary data structure or else target seamless interoperability with NumPy."
   ]
  },
  {
   "cell_type": "code",
   "execution_count": null,
   "metadata": {},
   "outputs": [],
   "source": [
    "# Why Numpy?\n",
    "# One of the reasons NumPy is so important for numerical computations in Python is because it is designed for efficiency on\n",
    "# large arrays of data. There are a number of reasons for this:\n",
    "# ● NumPy internally stores data in a contiguous block of memory, independent of other built-in Python objects. NumPy’s\n",
    "# library of algorithms written in the C language can operate on this memory without any type checking or other overhead. \n",
    "# NumPy arrays also use much less memory than built-in Python sequences.\n",
    "# ● NumPy operations perform complex computations on entire arrays without the need for Python for loops. To give you an\n",
    "# idea of the performance difference, consider a NumPy array of one million integers, and the equivalent Python list:"
   ]
  },
  {
   "cell_type": "code",
   "execution_count": 6,
   "metadata": {},
   "outputs": [
    {
     "name": "stdout",
     "output_type": "stream",
     "text": [
      "1000000\n",
      "1000000\n"
     ]
    }
   ],
   "source": [
    "import numpy as np\n",
    "np.random.seed(42)\n",
    "\n",
    "nump_a = np.arange(1000000)\n",
    "list_a = list(range(1000000))\n",
    "\n",
    "print(len(nump_a))\n",
    "\n",
    "print(len(list_a))"
   ]
  },
  {
   "cell_type": "code",
   "execution_count": 2,
   "metadata": {},
   "outputs": [
    {
     "name": "stdout",
     "output_type": "stream",
     "text": [
      "Wall time: 48.4 ms\n"
     ]
    }
   ],
   "source": [
    "%%time\n",
    "\n",
    "for x in range(10):\n",
    "    nump_a2 = nump_a * 2"
   ]
  },
  {
   "cell_type": "code",
   "execution_count": 3,
   "metadata": {},
   "outputs": [
    {
     "name": "stdout",
     "output_type": "stream",
     "text": [
      "Wall time: 2.05 s\n"
     ]
    }
   ],
   "source": [
    "%%time\n",
    "for x in range(10):\n",
    "    list_a2 = [x*2 for x in list_a]"
   ]
  },
  {
   "cell_type": "code",
   "execution_count": null,
   "metadata": {},
   "outputs": [],
   "source": [
    "# The NumPy ndarray\n",
    "# A Multidimensional Array Object One of the key features of NumPy is its N-dimensional array object, or ndarray, which is\n",
    "# a fast, flexible container for large datasets in Python. Arrays enable you to perform mathematical operations on whole\n",
    "# blocks of data using similar syntax to the equivalent operations between scalar elements."
   ]
  },
  {
   "cell_type": "code",
   "execution_count": 7,
   "metadata": {},
   "outputs": [
    {
     "name": "stdout",
     "output_type": "stream",
     "text": [
      "[[[7 4 8 5]\n",
      "  [7 3 7 8]\n",
      "  [5 4 8 8]]\n",
      "\n",
      " [[3 6 5 2]\n",
      "  [8 6 2 5]\n",
      "  [1 6 9 1]]]\n"
     ]
    }
   ],
   "source": [
    "data = np.random.randint(1,10,24).reshape(2,3,4)\n",
    "\n",
    "print(data)"
   ]
  },
  {
   "cell_type": "code",
   "execution_count": 8,
   "metadata": {},
   "outputs": [
    {
     "name": "stdout",
     "output_type": "stream",
     "text": [
      "[3 7 4 9 3 5 3 7 5 9 7 2 4 9 2 9 5 2 4 7 8 3 1 4]\n"
     ]
    }
   ],
   "source": [
    "data1 = np.random.randint(1,10,24)\n",
    "\n",
    "print(data1)\n"
   ]
  },
  {
   "cell_type": "code",
   "execution_count": 9,
   "metadata": {},
   "outputs": [
    {
     "name": "stdout",
     "output_type": "stream",
     "text": [
      "[[2 8 4 2 6 6]\n",
      " [4 6 2 2 4 8]\n",
      " [7 9 8 5 2 5]\n",
      " [8 9 9 1 9 7]]\n"
     ]
    }
   ],
   "source": [
    "data2 = np.random.randint(1,10,24).reshape(4,6)\n",
    "print(data2)"
   ]
  },
  {
   "cell_type": "code",
   "execution_count": 10,
   "metadata": {},
   "outputs": [
    {
     "name": "stdout",
     "output_type": "stream",
     "text": [
      "<class 'numpy.ndarray'>\n",
      "7\n",
      "4\n",
      "8\n",
      "5\n",
      "7\n",
      "3\n",
      "7\n",
      "8\n",
      "5\n",
      "4\n",
      "8\n",
      "8\n",
      "3\n",
      "6\n",
      "5\n",
      "2\n",
      "8\n",
      "6\n",
      "2\n",
      "5\n",
      "1\n",
      "6\n",
      "9\n",
      "1\n"
     ]
    }
   ],
   "source": [
    "# Note the appearance is of a 3 layer nested list. However, though they appear the same - these are arrays!! Important :\n",
    "# note NO commas between the elements of the array. \n",
    "\n",
    "print(type(data))\n",
    "\n",
    "for x in range(len(data)):\n",
    "    for y in range(len(data[x])):\n",
    "        for z in range(len(data[x][y])):\n",
    "            print(data[x][y][z])\n",
    "            \n",
    "# The 3 dimensional array object is constructed of : 4 elements in each row, 3 rows nested in the 2nd dimension of the \n",
    "# array object and 2 such 2nd Dimension arrays nested in the outer most array block. "
   ]
  },
  {
   "cell_type": "code",
   "execution_count": 11,
   "metadata": {},
   "outputs": [
    {
     "name": "stdout",
     "output_type": "stream",
     "text": [
      "[[[7 4 8 5]\n",
      "  [7 3 7 8]\n",
      "  [5 4 8 8]]\n",
      "\n",
      " [[3 6 5 2]\n",
      "  [8 6 2 5]\n",
      "  [1 6 9 1]]]\n"
     ]
    }
   ],
   "source": [
    "print(data)"
   ]
  },
  {
   "cell_type": "code",
   "execution_count": 12,
   "metadata": {},
   "outputs": [
    {
     "name": "stdout",
     "output_type": "stream",
     "text": [
      "[[[70 40 80 50]\n",
      "  [70 30 70 80]\n",
      "  [50 40 80 80]]\n",
      "\n",
      " [[30 60 50 20]\n",
      "  [80 60 20 50]\n",
      "  [10 60 90 10]]]\n"
     ]
    }
   ],
   "source": [
    "print(data * 10)"
   ]
  },
  {
   "cell_type": "code",
   "execution_count": 13,
   "metadata": {},
   "outputs": [
    {
     "name": "stdout",
     "output_type": "stream",
     "text": [
      "[[[7 4 8 5]\n",
      "  [7 3 7 8]\n",
      "  [5 4 8 8]]\n",
      "\n",
      " [[3 6 5 2]\n",
      "  [8 6 2 5]\n",
      "  [1 6 9 1]]]\n"
     ]
    }
   ],
   "source": [
    "# Note, we have not changed the original data ndarray.\n",
    "print(data)\n",
    "\n",
    "# We could change the original data variable by assigning the result to itself or to a new variable as usual."
   ]
  },
  {
   "cell_type": "code",
   "execution_count": 14,
   "metadata": {},
   "outputs": [
    {
     "name": "stdout",
     "output_type": "stream",
     "text": [
      "[[[14  8 16 10]\n",
      "  [14  6 14 16]\n",
      "  [10  8 16 16]]\n",
      "\n",
      " [[ 6 12 10  4]\n",
      "  [16 12  4 10]\n",
      "  [ 2 12 18  2]]]\n"
     ]
    }
   ],
   "source": [
    "print(data+data)"
   ]
  },
  {
   "cell_type": "code",
   "execution_count": 15,
   "metadata": {},
   "outputs": [
    {
     "name": "stdout",
     "output_type": "stream",
     "text": [
      "[[[70 40 80 50]\n",
      "  [70 30 70 80]\n",
      "  [50 40 80 80]]\n",
      "\n",
      " [[30 60 50 20]\n",
      "  [80 60 20 50]\n",
      "  [10 60 90 10]]]\n"
     ]
    }
   ],
   "source": [
    "data1 = data*10\n",
    "\n",
    "print(data1)"
   ]
  },
  {
   "cell_type": "code",
   "execution_count": null,
   "metadata": {},
   "outputs": [],
   "source": [
    "data1 = data1+data1\n",
    "print(data1)"
   ]
  },
  {
   "cell_type": "code",
   "execution_count": 16,
   "metadata": {},
   "outputs": [
    {
     "name": "stdout",
     "output_type": "stream",
     "text": [
      "['a' 100 (20, 30) {'x': 10, 'y': 20}]\n"
     ]
    }
   ],
   "source": [
    "# An ndarray is a generic multidimensional container for homogeneous data; that is, all of the elements must be the same\n",
    "# type. \n",
    "\n",
    "lst1 = ['a', 100, (20,30), {'x':10, 'y':20}]\n",
    "\n",
    "np_arr = np.array(lst1)\n",
    "print(np_arr)"
   ]
  },
  {
   "cell_type": "code",
   "execution_count": 17,
   "metadata": {},
   "outputs": [
    {
     "ename": "ValueError",
     "evalue": "invalid literal for int() with base 10: 'a'",
     "output_type": "error",
     "traceback": [
      "\u001b[1;31m---------------------------------------------------------------------------\u001b[0m",
      "\u001b[1;31mValueError\u001b[0m                                Traceback (most recent call last)",
      "\u001b[1;32m<ipython-input-17-e2899d1c88f1>\u001b[0m in \u001b[0;36m<module>\u001b[1;34m\u001b[0m\n\u001b[1;32m----> 1\u001b[1;33m \u001b[0mnp_arr\u001b[0m \u001b[1;33m=\u001b[0m \u001b[0mnp\u001b[0m\u001b[1;33m.\u001b[0m\u001b[0marray\u001b[0m\u001b[1;33m(\u001b[0m\u001b[0mlst1\u001b[0m\u001b[1;33m,\u001b[0m \u001b[0mdtype\u001b[0m \u001b[1;33m=\u001b[0m \u001b[0mint\u001b[0m\u001b[1;33m)\u001b[0m\u001b[1;33m\u001b[0m\u001b[1;33m\u001b[0m\u001b[0m\n\u001b[0m",
      "\u001b[1;31mValueError\u001b[0m: invalid literal for int() with base 10: 'a'"
     ]
    }
   ],
   "source": [
    "np_arr = np.array(lst1, dtype = int)"
   ]
  },
  {
   "cell_type": "code",
   "execution_count": null,
   "metadata": {},
   "outputs": [],
   "source": [
    "# Unless explicitly specified, np.array tries to infer a good data type for the array that it creates."
   ]
  },
  {
   "cell_type": "code",
   "execution_count": 18,
   "metadata": {},
   "outputs": [],
   "source": [
    "lst2 = [2.0, 300, 72, 3.4, 5.78]\n",
    "\n",
    "np_arr = np.array(lst2)"
   ]
  },
  {
   "cell_type": "code",
   "execution_count": 19,
   "metadata": {},
   "outputs": [
    {
     "name": "stdout",
     "output_type": "stream",
     "text": [
      "[  2.   300.    72.     3.4    5.78]\n",
      "float64\n"
     ]
    }
   ],
   "source": [
    "print(np_arr)\n",
    "print(np_arr.dtype)"
   ]
  },
  {
   "cell_type": "code",
   "execution_count": 20,
   "metadata": {},
   "outputs": [
    {
     "name": "stdout",
     "output_type": "stream",
     "text": [
      "[  2.13    7.272   3.      4.321  11.234 101.   ]\n",
      "float64\n",
      "<class 'numpy.float64'>\n"
     ]
    }
   ],
   "source": [
    "lst3 = [2.13, 7.272, 3, 4.321, 11.234, 101]\n",
    "\n",
    "np_arr2 = np.array(lst3)\n",
    "\n",
    "print(np_arr2)\n",
    "print(np_arr2.dtype)\n",
    "\n",
    "print(type(np_arr2[2]))"
   ]
  },
  {
   "cell_type": "code",
   "execution_count": 21,
   "metadata": {},
   "outputs": [
    {
     "name": "stdout",
     "output_type": "stream",
     "text": [
      "[[ 1  2  4  4]\n",
      " [10 20 30 40]]\n",
      "<class 'numpy.ndarray'>\n"
     ]
    }
   ],
   "source": [
    "lst11 = [[1,2,4,4], [10,20,30,40]]\n",
    "\n",
    "np_arr11 = np.array(lst11,dtype = int)\n",
    "print(np_arr11)\n",
    "print(type(np_arr11))"
   ]
  },
  {
   "cell_type": "code",
   "execution_count": 22,
   "metadata": {},
   "outputs": [
    {
     "name": "stdout",
     "output_type": "stream",
     "text": [
      "[2 3 2 3 3 3 2 2 2 2 3 2 2 2 2 2 3 2 3 2 3 2 2 3]\n"
     ]
    }
   ],
   "source": [
    "np_arr = np.random.randint(2,4,24)\n",
    "print(np_arr)"
   ]
  },
  {
   "cell_type": "code",
   "execution_count": 23,
   "metadata": {},
   "outputs": [
    {
     "name": "stdout",
     "output_type": "stream",
     "text": [
      "[[[2 3 2 3]\n",
      "  [3 3 2 2]\n",
      "  [2 2 3 2]]\n",
      "\n",
      " [[2 2 2 2]\n",
      "  [3 2 3 2]\n",
      "  [3 2 2 3]]]\n"
     ]
    }
   ],
   "source": [
    "np_arr_rs = np_arr.reshape(2,3,4)\n",
    "print(np_arr_rs)"
   ]
  },
  {
   "cell_type": "code",
   "execution_count": 24,
   "metadata": {},
   "outputs": [
    {
     "name": "stdout",
     "output_type": "stream",
     "text": [
      "[[[7 4 8 5]\n",
      "  [7 3 7 8]\n",
      "  [5 4 8 8]]\n",
      "\n",
      " [[3 6 5 2]\n",
      "  [8 6 2 5]\n",
      "  [1 6 9 1]]]\n",
      "(2, 3, 4)\n"
     ]
    }
   ],
   "source": [
    "# Every array has a shape, a tuple indicating the size of each dimension, and a dtype, an object describing the data\n",
    "# type of the array:\n",
    "print(data)\n",
    "print(data.shape)"
   ]
  },
  {
   "cell_type": "code",
   "execution_count": 25,
   "metadata": {},
   "outputs": [
    {
     "name": "stdout",
     "output_type": "stream",
     "text": [
      "int32\n"
     ]
    }
   ],
   "source": [
    "print(data.dtype)"
   ]
  },
  {
   "cell_type": "code",
   "execution_count": 26,
   "metadata": {},
   "outputs": [
    {
     "name": "stdout",
     "output_type": "stream",
     "text": [
      "[1 2 3 4]\n",
      "<class 'numpy.ndarray'>\n",
      "(4,)\n",
      "Dimensions of nump_arr is 1.\n"
     ]
    }
   ],
   "source": [
    "# Creating ndarrays The easiest way to create an array is to use the array function. This accepts any sequence-like object\n",
    "# (including other arrays) and produces a new NumPy array containing the passed data. For example, a list is a good\n",
    "# candidate for conversion:\n",
    "\n",
    "lst1 = [1,2,3,4]\n",
    "        \n",
    "\n",
    "nump_arr = np.array(lst1)\n",
    "\n",
    "print(nump_arr)\n",
    "print(type(nump_arr))\n",
    "print(nump_arr.shape)\n",
    "print(f'Dimensions of nump_arr is {nump_arr.ndim}.')"
   ]
  },
  {
   "cell_type": "code",
   "execution_count": null,
   "metadata": {},
   "outputs": [],
   "source": [
    "# Note, how for a one dimensional array, the shape tuple is (4,) but the dimensions are 1."
   ]
  },
  {
   "cell_type": "code",
   "execution_count": 27,
   "metadata": {},
   "outputs": [
    {
     "name": "stdout",
     "output_type": "stream",
     "text": [
      "(1, 4)\n",
      "2\n",
      "[[1 2 3 4]]\n"
     ]
    }
   ],
   "source": [
    "nump_arr = nump_arr.reshape(1,4)\n",
    "\n",
    "print(nump_arr.shape)\n",
    "print(nump_arr.ndim)\n",
    "print(nump_arr)"
   ]
  },
  {
   "cell_type": "code",
   "execution_count": null,
   "metadata": {},
   "outputs": [],
   "source": [
    "# Nested sequences, like a list of equal-length lists, will be converted into a multi-dimensional array:"
   ]
  },
  {
   "cell_type": "code",
   "execution_count": 28,
   "metadata": {},
   "outputs": [
    {
     "name": "stdout",
     "output_type": "stream",
     "text": [
      "[[ 1  2  3  4]\n",
      " [10 20 30 40]]\n",
      "<class 'numpy.ndarray'>\n",
      "(2, 4)\n",
      "Dimensions of nump_arr2 is 2.\n"
     ]
    }
   ],
   "source": [
    "lst2 = [[1,2,3,4], [10,20,30,40]]\n",
    "\n",
    "nump_arr2 = np.array(lst2)\n",
    "\n",
    "print(nump_arr2)\n",
    "print(type(nump_arr2))\n",
    "print(nump_arr2.shape)\n",
    "print(f'Dimensions of nump_arr2 is {nump_arr2.ndim}.')"
   ]
  },
  {
   "cell_type": "code",
   "execution_count": 29,
   "metadata": {},
   "outputs": [
    {
     "name": "stdout",
     "output_type": "stream",
     "text": [
      "[[ 1  2  3  4]\n",
      " [10 20 30 40]]\n"
     ]
    },
    {
     "data": {
      "text/plain": [
       "array([[ 1,  2,  3,  4],\n",
       "       [10, 20, 30, 40]])"
      ]
     },
     "execution_count": 29,
     "metadata": {},
     "output_type": "execute_result"
    }
   ],
   "source": [
    "print(nump_arr2)\n",
    "nump_arr2"
   ]
  },
  {
   "cell_type": "code",
   "execution_count": null,
   "metadata": {},
   "outputs": [],
   "source": [
    "# Note the output when outputting nump_arr2 on the notebook. It specifies that this is an array - but note the return of the\n",
    "# comma!! It doesnt make a difference since we know that this is an array but just pointing out the difference in the \n",
    "# view of both commands."
   ]
  },
  {
   "cell_type": "code",
   "execution_count": null,
   "metadata": {},
   "outputs": [],
   "source": [
    "#asarray"
   ]
  },
  {
   "cell_type": "code",
   "execution_count": 30,
   "metadata": {},
   "outputs": [
    {
     "name": "stdout",
     "output_type": "stream",
     "text": [
      "[1 2 3 4]\n",
      "<class 'numpy.ndarray'>\n",
      "[1 2 3 4]\n",
      "<class 'numpy.ndarray'>\n"
     ]
    }
   ],
   "source": [
    "import numpy as np\n",
    "\n",
    "lst1 = [1,2,3,4]\n",
    "np_array = np.array(lst1)\n",
    "np_asarray = np.asarray(lst1)\n",
    "\n",
    "print(np_array)\n",
    "print(type(np_array))\n",
    "\n",
    "print(np_asarray)\n",
    "print(type(np_asarray))"
   ]
  },
  {
   "cell_type": "code",
   "execution_count": 40,
   "metadata": {},
   "outputs": [
    {
     "name": "stdout",
     "output_type": "stream",
     "text": [
      "[100, 2, 3, 4]\n",
      "[1 2 3 4]\n",
      "[100   2   3   4]\n"
     ]
    }
   ],
   "source": [
    "lst1[0] = 100\n",
    "print(lst1)\n",
    "\n",
    "print(np_array)\n",
    "print(np_asarray)"
   ]
  },
  {
   "cell_type": "code",
   "execution_count": 41,
   "metadata": {},
   "outputs": [
    {
     "name": "stdout",
     "output_type": "stream",
     "text": [
      "[107   2   3   4]\n",
      "[100   2   3   4]\n"
     ]
    }
   ],
   "source": [
    "np_array[0] = 107\n",
    "print(np_array)\n",
    "print(np_asarray)"
   ]
  },
  {
   "cell_type": "code",
   "execution_count": 42,
   "metadata": {},
   "outputs": [
    {
     "name": "stdout",
     "output_type": "stream",
     "text": [
      "[1 2 3 4]\n"
     ]
    }
   ],
   "source": [
    "np_array[0] = 1\n",
    "print(np_array)"
   ]
  },
  {
   "cell_type": "code",
   "execution_count": 43,
   "metadata": {},
   "outputs": [
    {
     "name": "stdout",
     "output_type": "stream",
     "text": [
      "[1 2 3 4]\n",
      "[100   2   3   4]\n"
     ]
    }
   ],
   "source": [
    "np_asarray[0] = 100\n",
    "print(np_array)\n",
    "print(np_asarray)\n"
   ]
  },
  {
   "cell_type": "code",
   "execution_count": 44,
   "metadata": {},
   "outputs": [],
   "source": [
    "lst2 = [[1,2,3,4], [100,200,300,400]]\n",
    "\n",
    "np_lst = np.array(lst2)"
   ]
  },
  {
   "cell_type": "code",
   "execution_count": 45,
   "metadata": {},
   "outputs": [
    {
     "name": "stdout",
     "output_type": "stream",
     "text": [
      "[[  1   2   3   4]\n",
      " [100 200 300 400]]\n"
     ]
    }
   ],
   "source": [
    "print(np_lst)\n"
   ]
  },
  {
   "cell_type": "code",
   "execution_count": 46,
   "metadata": {},
   "outputs": [
    {
     "name": "stdout",
     "output_type": "stream",
     "text": [
      "[[  1   2   3   4]\n",
      " [100 200 300 400]]\n",
      "[[  1   2   3   4]\n",
      " [100 200 300 400]]\n"
     ]
    }
   ],
   "source": [
    "np_array_lst = np.array(np_lst)\n",
    "np_asarray_lst = np.asarray(np_lst)\n",
    "\n",
    "print(np_array_lst)\n",
    "print(np_asarray_lst)"
   ]
  },
  {
   "cell_type": "code",
   "execution_count": 47,
   "metadata": {},
   "outputs": [
    {
     "name": "stdout",
     "output_type": "stream",
     "text": [
      "[[1000    2    3    4]\n",
      " [ 100  200  300  400]]\n",
      "[[  1   2   3   4]\n",
      " [100 200 300 400]]\n",
      "[[1000    2    3    4]\n",
      " [ 100  200  300  400]]\n"
     ]
    }
   ],
   "source": [
    "np_lst[0][0] = 1000\n",
    "\n",
    "print(np_lst)\n",
    "print(np_array_lst)\n",
    "print(np_asarray_lst)"
   ]
  },
  {
   "cell_type": "code",
   "execution_count": 48,
   "metadata": {},
   "outputs": [
    {
     "ename": "TypeError",
     "evalue": "array() missing required argument 'object' (pos 1)",
     "output_type": "error",
     "traceback": [
      "\u001b[1;31m---------------------------------------------------------------------------\u001b[0m",
      "\u001b[1;31mTypeError\u001b[0m                                 Traceback (most recent call last)",
      "\u001b[1;32m<ipython-input-48-f4c9d75f10bb>\u001b[0m in \u001b[0;36m<module>\u001b[1;34m\u001b[0m\n\u001b[1;32m----> 1\u001b[1;33m \u001b[0mnp_array_lst\u001b[0m \u001b[1;33m=\u001b[0m \u001b[0mnp\u001b[0m\u001b[1;33m.\u001b[0m\u001b[0marray\u001b[0m\u001b[1;33m(\u001b[0m\u001b[1;33m)\u001b[0m\u001b[1;33m\u001b[0m\u001b[1;33m\u001b[0m\u001b[0m\n\u001b[0m",
      "\u001b[1;31mTypeError\u001b[0m: array() missing required argument 'object' (pos 1)"
     ]
    }
   ],
   "source": [
    "np_array_lst = np.array()"
   ]
  },
  {
   "cell_type": "code",
   "execution_count": 49,
   "metadata": {},
   "outputs": [
    {
     "data": {
      "text/plain": [
       "array([ 1,  2,  3,  4,  5,  6,  7,  8,  9, 10, 11, 12, 13, 14, 15, 16, 17,\n",
       "       18, 19, 20, 21, 22, 23, 24])"
      ]
     },
     "execution_count": 49,
     "metadata": {},
     "output_type": "execute_result"
    }
   ],
   "source": [
    "# Before we go on - lets make the axis of Numpy clear. \n",
    "import numpy as np\n",
    "\n",
    "arr = np.arange(1,25)\n",
    "arr"
   ]
  },
  {
   "cell_type": "code",
   "execution_count": 50,
   "metadata": {},
   "outputs": [
    {
     "data": {
      "text/plain": [
       "array([[ 1,  2,  3,  4,  5,  6,  7,  8],\n",
       "       [ 9, 10, 11, 12, 13, 14, 15, 16],\n",
       "       [17, 18, 19, 20, 21, 22, 23, 24]])"
      ]
     },
     "execution_count": 50,
     "metadata": {},
     "output_type": "execute_result"
    }
   ],
   "source": [
    "arr1 = arr.reshape(3,8)\n",
    "arr1"
   ]
  },
  {
   "cell_type": "code",
   "execution_count": 51,
   "metadata": {},
   "outputs": [
    {
     "data": {
      "text/plain": [
       "array([ 1,  2,  3,  4,  5,  6,  7,  8,  9, 10, 11, 12, 13, 14, 15, 16, 17,\n",
       "       18, 19, 20, 21, 22, 23, 24, 25, 26, 27, 28, 29, 30, 31, 32, 33, 34,\n",
       "       35, 36, 37, 38, 39, 40, 41, 42, 43, 44, 45, 46, 47, 48])"
      ]
     },
     "execution_count": 51,
     "metadata": {},
     "output_type": "execute_result"
    }
   ],
   "source": [
    "arrx = np.arange(1,49)\n",
    "arrx"
   ]
  },
  {
   "cell_type": "code",
   "execution_count": 52,
   "metadata": {},
   "outputs": [
    {
     "data": {
      "text/plain": [
       "array([[[ 1,  2,  3,  4,  5,  6,  7,  8],\n",
       "        [ 9, 10, 11, 12, 13, 14, 15, 16],\n",
       "        [17, 18, 19, 20, 21, 22, 23, 24]],\n",
       "\n",
       "       [[25, 26, 27, 28, 29, 30, 31, 32],\n",
       "        [33, 34, 35, 36, 37, 38, 39, 40],\n",
       "        [41, 42, 43, 44, 45, 46, 47, 48]]])"
      ]
     },
     "execution_count": 52,
     "metadata": {},
     "output_type": "execute_result"
    }
   ],
   "source": [
    "arr2 = arrx.reshape(2,3,8)\n",
    "arr2    "
   ]
  },
  {
   "cell_type": "code",
   "execution_count": 53,
   "metadata": {},
   "outputs": [
    {
     "data": {
      "text/plain": [
       "array([[[[ 1,  2,  3],\n",
       "         [ 4,  5,  6],\n",
       "         [ 7,  8,  9],\n",
       "         [10, 11, 12]],\n",
       "\n",
       "        [[13, 14, 15],\n",
       "         [16, 17, 18],\n",
       "         [19, 20, 21],\n",
       "         [22, 23, 24]]],\n",
       "\n",
       "\n",
       "       [[[25, 26, 27],\n",
       "         [28, 29, 30],\n",
       "         [31, 32, 33],\n",
       "         [34, 35, 36]],\n",
       "\n",
       "        [[37, 38, 39],\n",
       "         [40, 41, 42],\n",
       "         [43, 44, 45],\n",
       "         [46, 47, 48]]]])"
      ]
     },
     "execution_count": 53,
     "metadata": {},
     "output_type": "execute_result"
    }
   ],
   "source": [
    "arr2x = np.arange(1,49).reshape(2,2,4,3)\n",
    "\n",
    "arr2x"
   ]
  },
  {
   "cell_type": "code",
   "execution_count": 54,
   "metadata": {},
   "outputs": [
    {
     "name": "stdout",
     "output_type": "stream",
     "text": [
      "arr : [ 1  2  3  4  5  6  7  8  9 10 11 12 13 14 15 16 17 18 19 20 21 22 23 24] \n",
      " _____________________________________________________________________________________________________________________________\n",
      "arr1 : [[ 1  2  3  4  5  6  7  8]\n",
      " [ 9 10 11 12 13 14 15 16]\n",
      " [17 18 19 20 21 22 23 24]] \n",
      " _____________________________________________________________________________________________________________________________\n",
      "arr2 : [[[ 1  2  3  4  5  6  7  8]\n",
      "  [ 9 10 11 12 13 14 15 16]\n",
      "  [17 18 19 20 21 22 23 24]]\n",
      "\n",
      " [[25 26 27 28 29 30 31 32]\n",
      "  [33 34 35 36 37 38 39 40]\n",
      "  [41 42 43 44 45 46 47 48]]] \n",
      " _____________________________________________________________________________________________________________________________\n"
     ]
    }
   ],
   "source": [
    "print('arr :', arr, '\\n','_'*125)\n",
    "print('arr1 :', arr1, '\\n','_'*125)\n",
    "print('arr2 :', arr2, '\\n','_'*125)"
   ]
  },
  {
   "cell_type": "code",
   "execution_count": 55,
   "metadata": {},
   "outputs": [
    {
     "name": "stdout",
     "output_type": "stream",
     "text": [
      "arr2 : [[[ 1  2  3  4]\n",
      "  [ 5  6  7  8]\n",
      "  [ 9 10 11 12]]\n",
      "\n",
      " [[13 14 15 16]\n",
      "  [17 18 19 20]\n",
      "  [21 22 23 24]]] \n",
      " _____________________________________________________________________________________________________________________________\n",
      "arr3 : [[[ 1  2  3]\n",
      "  [ 4  5  6]\n",
      "  [ 7  8  9]\n",
      "  [10 11 12]]\n",
      "\n",
      " [[13 14 15]\n",
      "  [16 17 18]\n",
      "  [19 20 21]\n",
      "  [22 23 24]]] \n",
      " _____________________________________________________________________________________________________________________________\n",
      "arr4 : [[[ 1  2]\n",
      "  [ 3  4]\n",
      "  [ 5  6]]\n",
      "\n",
      " [[ 7  8]\n",
      "  [ 9 10]\n",
      "  [11 12]]\n",
      "\n",
      " [[13 14]\n",
      "  [15 16]\n",
      "  [17 18]]\n",
      "\n",
      " [[19 20]\n",
      "  [21 22]\n",
      "  [23 24]]] \n",
      " _____________________________________________________________________________________________________________________________\n"
     ]
    }
   ],
   "source": [
    "arr2 = arr.reshape(2,3,4)\n",
    "arr3 = arr.reshape(2,4,3)\n",
    "arr4 = arr.reshape(4,3,2)\n",
    "print('arr2 :', arr2, '\\n','_'*125)\n",
    "print('arr3 :', arr3, '\\n','_'*125)\n",
    "print('arr4 :', arr4, '\\n','_'*125)"
   ]
  },
  {
   "cell_type": "code",
   "execution_count": 56,
   "metadata": {},
   "outputs": [
    {
     "name": "stdout",
     "output_type": "stream",
     "text": [
      "[ 1  2  3  4  5  6  7  8  9 10 11 12 13 14 15 16 17 18 19 20 21 22 23 24]\n"
     ]
    }
   ],
   "source": [
    "print(arr)"
   ]
  },
  {
   "cell_type": "code",
   "execution_count": 57,
   "metadata": {},
   "outputs": [
    {
     "name": "stdout",
     "output_type": "stream",
     "text": [
      "Sum Arr 300\n"
     ]
    }
   ],
   "source": [
    "print('Sum Arr', np.sum(arr, axis = 0)) # 1D Array has no axis 1."
   ]
  },
  {
   "cell_type": "code",
   "execution_count": 58,
   "metadata": {},
   "outputs": [
    {
     "name": "stdout",
     "output_type": "stream",
     "text": [
      "[[[ 1  2]\n",
      "  [ 3  4]\n",
      "  [ 5  6]]\n",
      "\n",
      " [[ 7  8]\n",
      "  [ 9 10]\n",
      "  [11 12]]\n",
      "\n",
      " [[13 14]\n",
      "  [15 16]\n",
      "  [17 18]]\n",
      "\n",
      " [[19 20]\n",
      "  [21 22]\n",
      "  [23 24]]]\n"
     ]
    }
   ],
   "source": [
    "print(arr4)\n",
    "\n",
    "\n"
   ]
  },
  {
   "cell_type": "code",
   "execution_count": 59,
   "metadata": {},
   "outputs": [
    {
     "name": "stdout",
     "output_type": "stream",
     "text": [
      "300\n"
     ]
    }
   ],
   "source": [
    "print(np.sum(arr4))"
   ]
  },
  {
   "cell_type": "code",
   "execution_count": 60,
   "metadata": {},
   "outputs": [
    {
     "name": "stdout",
     "output_type": "stream",
     "text": [
      "[[[ 1  2]\n",
      "  [ 3  4]\n",
      "  [ 5  6]]\n",
      "\n",
      " [[ 7  8]\n",
      "  [ 9 10]\n",
      "  [11 12]]\n",
      "\n",
      " [[13 14]\n",
      "  [15 16]\n",
      "  [17 18]]\n",
      "\n",
      " [[19 20]\n",
      "  [21 22]\n",
      "  [23 24]]]\n"
     ]
    }
   ],
   "source": [
    "print(arr4)"
   ]
  },
  {
   "cell_type": "code",
   "execution_count": 61,
   "metadata": {},
   "outputs": [
    {
     "name": "stdout",
     "output_type": "stream",
     "text": [
      "sum Axis 0 [[40 44]\n",
      " [48 52]\n",
      " [56 60]]\n"
     ]
    }
   ],
   "source": [
    "print('sum Axis 0', np.sum(arr4, axis = 0))"
   ]
  },
  {
   "cell_type": "code",
   "execution_count": 62,
   "metadata": {},
   "outputs": [
    {
     "name": "stdout",
     "output_type": "stream",
     "text": [
      "[[[ 1  2]\n",
      "  [ 3  4]\n",
      "  [ 5  6]]\n",
      "\n",
      " [[ 7  8]\n",
      "  [ 9 10]\n",
      "  [11 12]]\n",
      "\n",
      " [[13 14]\n",
      "  [15 16]\n",
      "  [17 18]]\n",
      "\n",
      " [[19 20]\n",
      "  [21 22]\n",
      "  [23 24]]]\n",
      "(4, 3, 2)\n"
     ]
    }
   ],
   "source": [
    "print(arr4)\n",
    "print(arr4.shape)"
   ]
  },
  {
   "cell_type": "code",
   "execution_count": 63,
   "metadata": {},
   "outputs": [
    {
     "name": "stdout",
     "output_type": "stream",
     "text": [
      "[[[ 1  2]\n",
      "  [ 3  4]\n",
      "  [ 5  6]]\n",
      "\n",
      " [[ 7  8]\n",
      "  [ 9 10]\n",
      "  [11 12]]\n",
      "\n",
      " [[13 14]\n",
      "  [15 16]\n",
      "  [17 18]]\n",
      "\n",
      " [[19 20]\n",
      "  [21 22]\n",
      "  [23 24]]]\n"
     ]
    }
   ],
   "source": [
    "print(arr4)"
   ]
  },
  {
   "cell_type": "code",
   "execution_count": 64,
   "metadata": {},
   "outputs": [
    {
     "name": "stdout",
     "output_type": "stream",
     "text": [
      "[[ 9 12]\n",
      " [27 30]\n",
      " [45 48]\n",
      " [63 66]]\n",
      "(4, 2)\n"
     ]
    }
   ],
   "source": [
    "arr_col = np.sum(arr4, axis = 1)\n",
    "print(arr_col)\n",
    "print(arr_col.shape)"
   ]
  },
  {
   "cell_type": "code",
   "execution_count": 65,
   "metadata": {},
   "outputs": [
    {
     "name": "stdout",
     "output_type": "stream",
     "text": [
      "[[[ 1  2]\n",
      "  [ 3  4]\n",
      "  [ 5  6]]\n",
      "\n",
      " [[ 7  8]\n",
      "  [ 9 10]\n",
      "  [11 12]]\n",
      "\n",
      " [[13 14]\n",
      "  [15 16]\n",
      "  [17 18]]\n",
      "\n",
      " [[19 20]\n",
      "  [21 22]\n",
      "  [23 24]]]\n",
      "Sum Axis 2 [[ 3  7 11]\n",
      " [15 19 23]\n",
      " [27 31 35]\n",
      " [39 43 47]]\n"
     ]
    }
   ],
   "source": [
    "print(arr4)\n",
    "\n",
    "print('Sum Axis 2', np.sum(arr4, axis = 2))"
   ]
  },
  {
   "cell_type": "code",
   "execution_count": 66,
   "metadata": {},
   "outputs": [
    {
     "name": "stdout",
     "output_type": "stream",
     "text": [
      "[[[ 1  2]\n",
      "  [ 3  4]]\n",
      "\n",
      " [[ 5  6]\n",
      "  [ 7  8]]\n",
      "\n",
      " [[ 9 10]\n",
      "  [11 12]]]\n"
     ]
    }
   ],
   "source": [
    "arr6 = np.arange(1,13).reshape(3,2,2)\n",
    "\n",
    "print(arr6)"
   ]
  },
  {
   "cell_type": "code",
   "execution_count": 67,
   "metadata": {},
   "outputs": [
    {
     "name": "stdout",
     "output_type": "stream",
     "text": [
      "arr5 : [[[[ 1  2]\n",
      "   [ 3  4]]\n",
      "\n",
      "  [[ 5  6]\n",
      "   [ 7  8]]\n",
      "\n",
      "  [[ 9 10]\n",
      "   [11 12]]\n",
      "\n",
      "  [[13 14]\n",
      "   [15 16]]]\n",
      "\n",
      "\n",
      " [[[17 18]\n",
      "   [19 20]]\n",
      "\n",
      "  [[21 22]\n",
      "   [23 24]]\n",
      "\n",
      "  [[25 26]\n",
      "   [27 28]]\n",
      "\n",
      "  [[29 30]\n",
      "   [31 32]]]\n",
      "\n",
      "\n",
      " [[[33 34]\n",
      "   [35 36]]\n",
      "\n",
      "  [[37 38]\n",
      "   [39 40]]\n",
      "\n",
      "  [[41 42]\n",
      "   [43 44]]\n",
      "\n",
      "  [[45 46]\n",
      "   [47 48]]]]\n",
      "Sum Axis 3 [[[51 54]\n",
      "  [57 60]]\n",
      "\n",
      " [[63 66]\n",
      "  [69 72]]\n",
      "\n",
      " [[75 78]\n",
      "  [81 84]]\n",
      "\n",
      " [[87 90]\n",
      "  [93 96]]]\n"
     ]
    }
   ],
   "source": [
    "arr = np.arange(1,49)\n",
    "arr5 = arr.reshape(3,4,2,2)\n",
    "print('arr5 :', arr5)\n",
    "print('Sum Axis 3', np.sum(arr5, axis = 0))"
   ]
  },
  {
   "cell_type": "code",
   "execution_count": 69,
   "metadata": {},
   "outputs": [
    {
     "name": "stdout",
     "output_type": "stream",
     "text": [
      "[[[ 1  2]\n",
      "  [ 3  4]]\n",
      "\n",
      " [[ 5  6]\n",
      "  [ 7  8]]\n",
      "\n",
      " [[ 9 10]\n",
      "  [11 12]]]\n"
     ]
    }
   ],
   "source": [
    "print(arr6)\n"
   ]
  },
  {
   "cell_type": "code",
   "execution_count": 70,
   "metadata": {},
   "outputs": [
    {
     "name": "stdout",
     "output_type": "stream",
     "text": [
      "[[ 3  7]\n",
      " [11 15]\n",
      " [19 23]]\n"
     ]
    }
   ],
   "source": [
    "print(np.sum(arr6,axis = 2))"
   ]
  },
  {
   "cell_type": "code",
   "execution_count": 71,
   "metadata": {},
   "outputs": [
    {
     "name": "stdout",
     "output_type": "stream",
     "text": [
      "[[ 4  6]\n",
      " [12 14]\n",
      " [20 22]]\n"
     ]
    }
   ],
   "source": [
    "print(np.sum(arr6, axis = 1))"
   ]
  },
  {
   "cell_type": "code",
   "execution_count": 72,
   "metadata": {},
   "outputs": [
    {
     "name": "stdout",
     "output_type": "stream",
     "text": [
      "78\n"
     ]
    }
   ],
   "source": [
    "print(np.sum(arr6))"
   ]
  },
  {
   "cell_type": "markdown",
   "metadata": {},
   "source": [
    "### Homogeneous n-dimensional vectors:\n",
    "\n",
    "In addition to np.array, there are a number of other functions for creating new arrays. As examples, zeros and ones create arrays of 0s or 1s, respectively, with a given length or shape(using tuples for shape)."
   ]
  },
  {
   "cell_type": "code",
   "execution_count": 73,
   "metadata": {},
   "outputs": [
    {
     "name": "stdout",
     "output_type": "stream",
     "text": [
      "[0. 0. 0. 0. 0. 0. 0. 0. 0. 0.]\n"
     ]
    }
   ],
   "source": [
    "np_zero = np.zeros(10)\n",
    "\n",
    "print(np_zero)"
   ]
  },
  {
   "cell_type": "code",
   "execution_count": 74,
   "metadata": {},
   "outputs": [
    {
     "name": "stdout",
     "output_type": "stream",
     "text": [
      "[[0. 0. 0. 0. 0. 0.]\n",
      " [0. 0. 0. 0. 0. 0.]]\n"
     ]
    }
   ],
   "source": [
    "np_zero6x2 = np.zeros((2,6))\n",
    "\n",
    "print(np_zero6x2)"
   ]
  },
  {
   "cell_type": "code",
   "execution_count": null,
   "metadata": {},
   "outputs": [],
   "source": [
    "#Note above how the shape is a tuple. "
   ]
  },
  {
   "cell_type": "code",
   "execution_count": 75,
   "metadata": {},
   "outputs": [
    {
     "name": "stdout",
     "output_type": "stream",
     "text": [
      "[1. 1. 1. 1. 1. 1. 1. 1. 1. 1.]\n"
     ]
    }
   ],
   "source": [
    "np_one = np.ones(10)\n",
    "print(np_one)"
   ]
  },
  {
   "cell_type": "code",
   "execution_count": 76,
   "metadata": {},
   "outputs": [
    {
     "name": "stdout",
     "output_type": "stream",
     "text": [
      "[[1. 1. 1. 1. 1. 1.]\n",
      " [1. 1. 1. 1. 1. 1.]]\n"
     ]
    }
   ],
   "source": [
    "np_one6x2 = np.ones((2,6))\n",
    "\n",
    "print(np_one6x2)"
   ]
  },
  {
   "cell_type": "code",
   "execution_count": 77,
   "metadata": {},
   "outputs": [
    {
     "name": "stdout",
     "output_type": "stream",
     "text": [
      "[5 5 5 5 5 5 5 5 5 5]\n"
     ]
    }
   ],
   "source": [
    "np_full_5 = np.full(10,5)\n",
    "\n",
    "print(np_full_5)"
   ]
  },
  {
   "cell_type": "code",
   "execution_count": 78,
   "metadata": {},
   "outputs": [],
   "source": [
    "np_full_a = np.full(10, 'a')"
   ]
  },
  {
   "cell_type": "code",
   "execution_count": 79,
   "metadata": {},
   "outputs": [
    {
     "name": "stdout",
     "output_type": "stream",
     "text": [
      "['a' 'a' 'a' 'a' 'a' 'a' 'a' 'a' 'a' 'a']\n"
     ]
    }
   ],
   "source": [
    "print(np_full_a)"
   ]
  },
  {
   "cell_type": "code",
   "execution_count": 80,
   "metadata": {},
   "outputs": [
    {
     "name": "stdout",
     "output_type": "stream",
     "text": [
      "[[5 5 5 5 5 5]\n",
      " [5 5 5 5 5 5]]\n"
     ]
    }
   ],
   "source": [
    "np_full6x2_5 = np.full((2,6), 5)\n",
    "\n",
    "print(np_full6x2_5)"
   ]
  },
  {
   "cell_type": "code",
   "execution_count": null,
   "metadata": {},
   "outputs": [],
   "source": [
    "# Empty creates an array without initializing its values to any particular value. To create a higher dimensional array\n",
    "# with these methods, use a tuple for shape."
   ]
  },
  {
   "cell_type": "code",
   "execution_count": 95,
   "metadata": {},
   "outputs": [
    {
     "name": "stdout",
     "output_type": "stream",
     "text": [
      "[7.74860419e-304 7.29290208e-304 7.74860419e-304 7.74860419e-304\n",
      " 7.74860419e-304 7.74860419e-304 7.74860419e-304 2.13031734e-314\n",
      " 0.00000000e+000 7.74860419e-304]\n"
     ]
    }
   ],
   "source": [
    "import numpy as np\n",
    "\n",
    "np_empty = np.empty(10)\n",
    "print(np_empty)"
   ]
  },
  {
   "cell_type": "code",
   "execution_count": 96,
   "metadata": {},
   "outputs": [
    {
     "name": "stdout",
     "output_type": "stream",
     "text": [
      "[[1. 1. 1. 1. 1. 1.]\n",
      " [1. 1. 1. 1. 1. 1.]]\n"
     ]
    }
   ],
   "source": [
    "np_empty6x2 = np.empty((2,6))\n",
    "print(np_empty6x2)"
   ]
  },
  {
   "cell_type": "code",
   "execution_count": 91,
   "metadata": {},
   "outputs": [],
   "source": [
    "#Note that the numpy empty does not actually have empty values - it does create the array of desired shape and size but with\n",
    "# arbitary values. It is slightly faster to initialise than np.zeros and np.ones especially for larger arrays. "
   ]
  },
  {
   "cell_type": "markdown",
   "metadata": {},
   "source": [
    "#### Note that for each of np.zeros, np.ones, np.full and np.empty there are np.zeros_like, ones_like, full_like and empty_like which behave just like the difference between np.array and np.asarray i.e. if the matrix is already an array, then does not create a copy but just gives array like funcitonality."
   ]
  },
  {
   "cell_type": "code",
   "execution_count": null,
   "metadata": {},
   "outputs": [],
   "source": [
    "#Matrix Functions"
   ]
  },
  {
   "cell_type": "code",
   "execution_count": 97,
   "metadata": {},
   "outputs": [
    {
     "name": "stdout",
     "output_type": "stream",
     "text": [
      "[[1. 0. 0. 0. 0.]\n",
      " [0. 1. 0. 0. 0.]\n",
      " [0. 0. 1. 0. 0.]\n",
      " [0. 0. 0. 1. 0.]\n",
      " [0. 0. 0. 0. 1.]]\n"
     ]
    }
   ],
   "source": [
    "#1. The identity matrix:\n",
    "# In linear algebra, the identity matrix of size n is the n × n square matrix with ones on the main diagonal and zeros\n",
    "# elsewhere.\n",
    "\n",
    "np_id = np.identity(5)\n",
    "\n",
    "print(np_id)"
   ]
  },
  {
   "cell_type": "code",
   "execution_count": null,
   "metadata": {},
   "outputs": [],
   "source": [
    "# Note that by default the 1s and 0s are float type. "
   ]
  },
  {
   "cell_type": "code",
   "execution_count": 98,
   "metadata": {},
   "outputs": [
    {
     "name": "stdout",
     "output_type": "stream",
     "text": [
      "[[1 0 0 0 0]\n",
      " [0 1 0 0 0]\n",
      " [0 0 1 0 0]\n",
      " [0 0 0 1 0]\n",
      " [0 0 0 0 1]]\n"
     ]
    }
   ],
   "source": [
    "np_id_int = np.identity(5, dtype = int)\n",
    "\n",
    "print(np_id_int)"
   ]
  },
  {
   "cell_type": "code",
   "execution_count": 99,
   "metadata": {},
   "outputs": [
    {
     "name": "stdout",
     "output_type": "stream",
     "text": [
      "[[ True False False False False]\n",
      " [False  True False False False]\n",
      " [False False  True False False]\n",
      " [False False False  True False]\n",
      " [False False False False  True]]\n"
     ]
    }
   ],
   "source": [
    "np_id_bool = np.identity(5,dtype= bool)\n",
    "\n",
    "print(np_id_bool)"
   ]
  },
  {
   "cell_type": "code",
   "execution_count": 100,
   "metadata": {},
   "outputs": [
    {
     "name": "stdout",
     "output_type": "stream",
     "text": [
      "[[1. 0. 0.]\n",
      " [0. 1. 0.]\n",
      " [0. 0. 1.]]\n"
     ]
    }
   ],
   "source": [
    "# 2. Function ‘eye’:\n",
    "# It is used to return a 2-D array with ones on the diagonal and zeros elsewhere. Unlike identity, array does not necessarily\n",
    "# have to be square.\n",
    "\n",
    "np_eye_1 = np.eye(3)\n",
    "\n",
    "print(np_eye_1)\n"
   ]
  },
  {
   "cell_type": "code",
   "execution_count": 101,
   "metadata": {},
   "outputs": [
    {
     "name": "stdout",
     "output_type": "stream",
     "text": [
      "[[1. 0. 0. 0.]\n",
      " [0. 1. 0. 0.]\n",
      " [0. 0. 1. 0.]\n",
      " [0. 0. 0. 1.]\n",
      " [0. 0. 0. 0.]]\n"
     ]
    }
   ],
   "source": [
    "np_eye_5x4 = np.eye(5,4)\n",
    "\n",
    "print(np_eye_5x4)"
   ]
  },
  {
   "cell_type": "code",
   "execution_count": null,
   "metadata": {},
   "outputs": [],
   "source": [
    "# We can also specify the diagnol in the eye function unlike the identity function. 0 is the default, Positive values are\n",
    "# integers above the main diagonal and negative values are integers below the main diagonal. "
   ]
  },
  {
   "cell_type": "code",
   "execution_count": 102,
   "metadata": {},
   "outputs": [
    {
     "name": "stdout",
     "output_type": "stream",
     "text": [
      "[[1. 0. 0. 0. 0. 0.]\n",
      " [0. 1. 0. 0. 0. 0.]\n",
      " [0. 0. 1. 0. 0. 0.]\n",
      " [0. 0. 0. 1. 0. 0.]\n",
      " [0. 0. 0. 0. 1. 0.]\n",
      " [0. 0. 0. 0. 0. 1.]]\n"
     ]
    }
   ],
   "source": [
    "np_eye_8x6_0 = np.eye(6,6,0)\n",
    "\n",
    "print(np_eye_8x6_0)"
   ]
  },
  {
   "cell_type": "code",
   "execution_count": 103,
   "metadata": {},
   "outputs": [
    {
     "name": "stdout",
     "output_type": "stream",
     "text": [
      "[[0. 1. 0. 0. 0. 0.]\n",
      " [0. 0. 1. 0. 0. 0.]\n",
      " [0. 0. 0. 1. 0. 0.]\n",
      " [0. 0. 0. 0. 1. 0.]\n",
      " [0. 0. 0. 0. 0. 1.]\n",
      " [0. 0. 0. 0. 0. 0.]]\n"
     ]
    }
   ],
   "source": [
    "np_eye_8x6_p1 = np.eye(6,6,1)\n",
    "\n",
    "print(np_eye_8x6_p1)"
   ]
  },
  {
   "cell_type": "code",
   "execution_count": 104,
   "metadata": {},
   "outputs": [
    {
     "name": "stdout",
     "output_type": "stream",
     "text": [
      "[[0. 0. 1. 0. 0. 0.]\n",
      " [0. 0. 0. 1. 0. 0.]\n",
      " [0. 0. 0. 0. 1. 0.]\n",
      " [0. 0. 0. 0. 0. 1.]\n",
      " [0. 0. 0. 0. 0. 0.]\n",
      " [0. 0. 0. 0. 0. 0.]]\n"
     ]
    }
   ],
   "source": [
    "np_eye_8x6_p2 = np.eye(6,6,2)\n",
    "\n",
    "print(np_eye_8x6_p2)"
   ]
  },
  {
   "cell_type": "code",
   "execution_count": 105,
   "metadata": {},
   "outputs": [
    {
     "name": "stdout",
     "output_type": "stream",
     "text": [
      "[[0. 0. 0. 0. 0. 0.]\n",
      " [1. 0. 0. 0. 0. 0.]\n",
      " [0. 1. 0. 0. 0. 0.]\n",
      " [0. 0. 1. 0. 0. 0.]\n",
      " [0. 0. 0. 1. 0. 0.]\n",
      " [0. 0. 0. 0. 1. 0.]]\n"
     ]
    }
   ],
   "source": [
    "np_eye_8x6_n1 = np.eye(6,6,-1)\n",
    "\n",
    "print(np_eye_8x6_n1)"
   ]
  },
  {
   "cell_type": "code",
   "execution_count": 106,
   "metadata": {},
   "outputs": [
    {
     "name": "stdout",
     "output_type": "stream",
     "text": [
      "[[1. 0. 0. 0. 0. 0.]\n",
      " [0. 1. 0. 0. 0. 0.]\n",
      " [0. 0. 1. 0. 0. 0.]\n",
      " [0. 0. 0. 1. 0. 0.]\n",
      " [0. 0. 0. 0. 1. 0.]\n",
      " [0. 0. 0. 0. 0. 1.]]\n"
     ]
    }
   ],
   "source": [
    "np_eye_8x6_n2 = np.eye(6,6,00)\n",
    "\n",
    "print(np_eye_8x6_n2)"
   ]
  },
  {
   "cell_type": "code",
   "execution_count": null,
   "metadata": {},
   "outputs": [],
   "source": [
    "# 3. Function diag:\n",
    "# The diag function takes two arguments:\n",
    "# ● An ndarray v.\n",
    "# ● An integer k (default = 0). If ‘v’ is dimension is 1 then the function constructs a matrix where its diagonal number k \n",
    "# is formed by the elements of the vector ‘v’. If a is a matrix (dimension 2) then the function extracts the elements of\n",
    "# the kth diagonal in a one-dimensional vector."
   ]
  },
  {
   "cell_type": "code",
   "execution_count": 107,
   "metadata": {},
   "outputs": [
    {
     "name": "stdout",
     "output_type": "stream",
     "text": [
      "[[1 0 0]\n",
      " [0 5 0]\n",
      " [0 0 7]]\n"
     ]
    }
   ],
   "source": [
    "np_diag = np.diag([1,5,7])\n",
    "\n",
    "print(np_diag)"
   ]
  },
  {
   "cell_type": "code",
   "execution_count": 108,
   "metadata": {},
   "outputs": [
    {
     "name": "stdout",
     "output_type": "stream",
     "text": [
      "[[5. 5. 5.]\n",
      " [5. 5. 5.]\n",
      " [5. 5. 5.]]\n",
      "[5. 5. 5.]\n",
      "[[1 0 0]\n",
      " [0 3 0]\n",
      " [0 0 5]]\n"
     ]
    }
   ],
   "source": [
    "np_array_1 = np.ones((3,3))*5\n",
    "print(np_array_1)\n",
    "\n",
    "np_diag1 = np.diag(np_array_1)\n",
    "print(np_diag1)\n",
    "\n",
    "np_array_1 = np.diag([1,3,5])\n",
    "print(np_array_1)"
   ]
  },
  {
   "cell_type": "code",
   "execution_count": 109,
   "metadata": {},
   "outputs": [
    {
     "name": "stdout",
     "output_type": "stream",
     "text": [
      "[[1 0 0]\n",
      " [0 3 0]\n",
      " [0 0 5]]\n"
     ]
    }
   ],
   "source": [
    "np_diag1 = np.diag(np_array_1)\n",
    "\n",
    "print(np_array_1)"
   ]
  },
  {
   "cell_type": "code",
   "execution_count": 110,
   "metadata": {},
   "outputs": [
    {
     "name": "stdout",
     "output_type": "stream",
     "text": [
      "[1 3 5]\n"
     ]
    }
   ],
   "source": [
    "print(np_diag1)"
   ]
  },
  {
   "cell_type": "code",
   "execution_count": 111,
   "metadata": {},
   "outputs": [
    {
     "name": "stdout",
     "output_type": "stream",
     "text": [
      "[[  1   2   3]\n",
      " [ 10  20  30]\n",
      " [100 200 300]]\n"
     ]
    }
   ],
   "source": [
    "np_arr_lst = np.array([[1,2,3], [10,20,30], [100,200,300]])\n",
    "\n",
    "print(np_arr_lst)"
   ]
  },
  {
   "cell_type": "code",
   "execution_count": 112,
   "metadata": {},
   "outputs": [
    {
     "name": "stdout",
     "output_type": "stream",
     "text": [
      "[  1  20 300]\n"
     ]
    }
   ],
   "source": [
    "np_diag_l = np.diag(np_arr_lst)\n",
    "\n",
    "print(np_diag_l)"
   ]
  },
  {
   "cell_type": "code",
   "execution_count": 115,
   "metadata": {},
   "outputs": [
    {
     "name": "stdout",
     "output_type": "stream",
     "text": [
      "[ 2 30]\n"
     ]
    }
   ],
   "source": [
    "np_diag_2 = np.diag(np_arr_lst, 1)\n",
    "\n",
    "print(np_diag_2)"
   ]
  },
  {
   "cell_type": "code",
   "execution_count": 116,
   "metadata": {},
   "outputs": [
    {
     "name": "stdout",
     "output_type": "stream",
     "text": [
      "[[[ 0.  1.  2.]\n",
      "  [-1.  0.  1.]\n",
      "  [-2. -1.  0.]]\n",
      "\n",
      " [[ 1.  2.  3.]\n",
      "  [ 0.  1.  2.]\n",
      "  [-1.  0.  1.]]\n",
      "\n",
      " [[ 2.  3.  4.]\n",
      "  [ 1.  2.  3.]\n",
      "  [ 0.  1.  2.]]]\n"
     ]
    }
   ],
   "source": [
    "# 4. Function ‘fromfunction’:\n",
    "# Construct an array by executing a function over each coordinate. Let’s create a vector-based on its indices.\n",
    "\n",
    "np_ffunc = np.fromfunction(lambda x,y,z : x-y+z, (3,3,3))\n",
    "# 0,0,0  0,0,1  0,0,2\n",
    "# 0,1,0  0,1,1, 0,1,2\n",
    "# 0,2,0, 0,2,1, 0,2,2\n",
    "\n",
    "# 1,0,0  0,0,1  0,0,2\n",
    "# 1,1,0  0,1,1, 0,1,2\n",
    "# 1,2,0, 0,2,1, 0,2,2\n",
    "\n",
    "# 2,0,0  0,0,1  0,0,2\n",
    "# 2,1,0  0,1,1, 0,1,2\n",
    "# 2,2,0, 0,2,1, 0,2,2\n",
    "\n",
    "print(np_ffunc)"
   ]
  },
  {
   "cell_type": "code",
   "execution_count": null,
   "metadata": {},
   "outputs": [],
   "source": [
    "#Remember here that the co-ordinates x,y for each element are as follows:\n",
    "\n",
    "0,0   0,1   0,2\n",
    "1,0   1,1   1,2\n",
    "2,0   2,1   2,2"
   ]
  },
  {
   "cell_type": "code",
   "execution_count": 117,
   "metadata": {},
   "outputs": [
    {
     "name": "stdout",
     "output_type": "stream",
     "text": [
      "[[2. 2. 2.]\n",
      " [2. 3. 4.]\n",
      " [2. 4. 6.]]\n"
     ]
    }
   ],
   "source": [
    "np_ffuncXY2 = np.fromfunction(lambda x,y : x*y+2, (3,3))\n",
    "\n",
    "print(np_ffuncXY2)\n",
    "\n",
    "# 0,0,0  0,0,1  0,0,2\n",
    "# 0,1,0  0,1,1, 0,1,2\n",
    "# 0,2,0, 0,2,1, 0,2,2\n",
    "\n",
    "# 1,0,0  0,0,1  0,0,2\n",
    "# 1,1,0  0,1,1, 0,1,2\n",
    "# 1,2,0, 0,2,1, 0,2,2\n",
    "\n",
    "# 2,0,0  0,0,1  0,0,2\n",
    "# 2,1,0  0,1,1, 0,1,2\n",
    "# 2,2,0, 0,2,1, 0,2,2"
   ]
  },
  {
   "cell_type": "code",
   "execution_count": 118,
   "metadata": {},
   "outputs": [
    {
     "name": "stdout",
     "output_type": "stream",
     "text": [
      "[[ True False False]\n",
      " [ True  True False]\n",
      " [ True  True  True]]\n"
     ]
    }
   ],
   "source": [
    "import numpy as np\n",
    "\n",
    "np_ffunct_gte = np.fromfunction(lambda x,y : x >= y, (3,3))\n",
    "\n",
    "print(np_ffunct_gte)"
   ]
  },
  {
   "cell_type": "code",
   "execution_count": 119,
   "metadata": {},
   "outputs": [
    {
     "name": "stdout",
     "output_type": "stream",
     "text": [
      "[[[ 0  1  2  3]\n",
      "  [ 4  5  6  7]\n",
      "  [ 8  9 10 11]]\n",
      "\n",
      " [[12 13 14 15]\n",
      "  [16 17 18 19]\n",
      "  [20 21 22 23]]]\n"
     ]
    }
   ],
   "source": [
    "# Aggregation methods:\n",
    "\n",
    "np_sample = np.arange(24).reshape(2,3,4)\n",
    "\n",
    "print(np_sample)"
   ]
  },
  {
   "cell_type": "code",
   "execution_count": 120,
   "metadata": {},
   "outputs": [
    {
     "ename": "TypeError",
     "evalue": "'float' object cannot be interpreted as an integer",
     "output_type": "error",
     "traceback": [
      "\u001b[1;31m---------------------------------------------------------------------------\u001b[0m",
      "\u001b[1;31mTypeError\u001b[0m                                 Traceback (most recent call last)",
      "\u001b[1;32m<ipython-input-120-3f710ce719e8>\u001b[0m in \u001b[0;36m<module>\u001b[1;34m\u001b[0m\n\u001b[1;32m----> 1\u001b[1;33m \u001b[0mtest\u001b[0m \u001b[1;33m=\u001b[0m \u001b[0mlist\u001b[0m\u001b[1;33m(\u001b[0m\u001b[0mrange\u001b[0m\u001b[1;33m(\u001b[0m\u001b[1;36m1\u001b[0m\u001b[1;33m,\u001b[0m\u001b[1;36m20\u001b[0m\u001b[1;33m,\u001b[0m\u001b[1;36m0.2\u001b[0m\u001b[1;33m)\u001b[0m\u001b[1;33m)\u001b[0m\u001b[1;33m\u001b[0m\u001b[1;33m\u001b[0m\u001b[0m\n\u001b[0m",
      "\u001b[1;31mTypeError\u001b[0m: 'float' object cannot be interpreted as an integer"
     ]
    }
   ],
   "source": [
    "test = list(range(1,20,0.2))"
   ]
  },
  {
   "cell_type": "code",
   "execution_count": 121,
   "metadata": {},
   "outputs": [
    {
     "name": "stdout",
     "output_type": "stream",
     "text": [
      "[1.  1.2 1.4 1.6 1.8 2.  2.2 2.4 2.6 2.8 3.  3.2 3.4 3.6 3.8 4.  4.2 4.4\n",
      " 4.6 4.8]\n"
     ]
    }
   ],
   "source": [
    "test1 = np.arange(1,5,0.2)\n",
    "\n",
    "print(test1)"
   ]
  },
  {
   "cell_type": "code",
   "execution_count": 122,
   "metadata": {},
   "outputs": [
    {
     "name": "stdout",
     "output_type": "stream",
     "text": [
      "[[[ 0  1  2  3]\n",
      "  [ 4  5  6  7]\n",
      "  [ 8  9 10 11]]\n",
      "\n",
      " [[12 13 14 15]\n",
      "  [16 17 18 19]\n",
      "  [20 21 22 23]]]\n"
     ]
    }
   ],
   "source": [
    "# ● ndarray.sum: Return the sum of the array elements over the given axis.\n",
    "print(np_sample)"
   ]
  },
  {
   "cell_type": "code",
   "execution_count": 123,
   "metadata": {},
   "outputs": [
    {
     "name": "stdout",
     "output_type": "stream",
     "text": [
      "276\n"
     ]
    }
   ],
   "source": [
    "print(np_sample.sum()) # - With no axis specified, sums all the elements of the 0 axis."
   ]
  },
  {
   "cell_type": "code",
   "execution_count": 124,
   "metadata": {},
   "outputs": [
    {
     "name": "stdout",
     "output_type": "stream",
     "text": [
      "[[12 14 16 18]\n",
      " [20 22 24 26]\n",
      " [28 30 32 34]]\n",
      "2\n"
     ]
    }
   ],
   "source": [
    "np_s_a0 = np_sample.sum(0) # - with axis specified sums elements of specified axis or you could say collapses specified axis\n",
    "\n",
    "print(np_s_a0)\n",
    "print(np_s_a0.ndim)"
   ]
  },
  {
   "cell_type": "code",
   "execution_count": 125,
   "metadata": {},
   "outputs": [
    {
     "name": "stdout",
     "output_type": "stream",
     "text": [
      "[[[ 0  1  2  3]\n",
      "  [ 4  5  6  7]\n",
      "  [ 8  9 10 11]]\n",
      "\n",
      " [[12 13 14 15]\n",
      "  [16 17 18 19]\n",
      "  [20 21 22 23]]]\n",
      "3\n"
     ]
    }
   ],
   "source": [
    "print(np_sample)\n",
    "print(np_sample.ndim)"
   ]
  },
  {
   "cell_type": "code",
   "execution_count": 126,
   "metadata": {},
   "outputs": [
    {
     "name": "stdout",
     "output_type": "stream",
     "text": [
      "[[12 15 18 21]\n",
      " [48 51 54 57]]\n",
      "2\n"
     ]
    }
   ],
   "source": [
    "np_s_a1 = np_sample.sum(1)\n",
    "\n",
    "print(np_s_a1)\n",
    "print(np_s_a1.ndim)"
   ]
  },
  {
   "cell_type": "code",
   "execution_count": 127,
   "metadata": {},
   "outputs": [
    {
     "name": "stdout",
     "output_type": "stream",
     "text": [
      "[[ 6 22 38]\n",
      " [54 70 86]]\n",
      "2\n"
     ]
    }
   ],
   "source": [
    "np_s_a2 = np_sample.sum(2)\n",
    "\n",
    "print(np_s_a2)\n",
    "print(np_s_a2.ndim)"
   ]
  },
  {
   "cell_type": "code",
   "execution_count": 128,
   "metadata": {},
   "outputs": [
    {
     "name": "stdout",
     "output_type": "stream",
     "text": [
      "[[[ 0  1  2  3]\n",
      "  [ 4  5  6  7]\n",
      "  [ 8  9 10 11]]\n",
      "\n",
      " [[12 13 14 15]\n",
      "  [16 17 18 19]\n",
      "  [20 21 22 23]]]\n"
     ]
    }
   ],
   "source": [
    "print(np_sample)"
   ]
  },
  {
   "cell_type": "code",
   "execution_count": 129,
   "metadata": {},
   "outputs": [
    {
     "name": "stdout",
     "output_type": "stream",
     "text": [
      "[[ 1  2  3  4  5]\n",
      " [ 6  7  8  9 10]]\n"
     ]
    }
   ],
   "source": [
    "# ● ndarray.product: Return the product of the array elements over the given axis.\n",
    "\n",
    "np_sample_2 = np.arange(1,11).reshape(2,5)\n",
    "\n",
    "print(np_sample_2)"
   ]
  },
  {
   "cell_type": "code",
   "execution_count": 130,
   "metadata": {},
   "outputs": [
    {
     "name": "stdout",
     "output_type": "stream",
     "text": [
      "3628800\n"
     ]
    }
   ],
   "source": [
    "np_prod = np_sample_2.prod()\n",
    "\n",
    "print(np_prod)"
   ]
  },
  {
   "cell_type": "code",
   "execution_count": 131,
   "metadata": {},
   "outputs": [
    {
     "name": "stdout",
     "output_type": "stream",
     "text": [
      "[[ 1  2  3  4  5]\n",
      " [ 6  7  8  9 10]]\n"
     ]
    }
   ],
   "source": [
    "print(np_sample_2)"
   ]
  },
  {
   "cell_type": "code",
   "execution_count": 132,
   "metadata": {},
   "outputs": [
    {
     "name": "stdout",
     "output_type": "stream",
     "text": [
      "[ 6 14 24 36 50]\n"
     ]
    }
   ],
   "source": [
    "np_prod_0 = np_sample_2.prod(0)\n",
    "\n",
    "print(np_prod_0)"
   ]
  },
  {
   "cell_type": "code",
   "execution_count": 133,
   "metadata": {},
   "outputs": [
    {
     "name": "stdout",
     "output_type": "stream",
     "text": [
      "[  120 30240]\n"
     ]
    }
   ],
   "source": [
    "np_prod_1 = np_sample_2.prod(1)\n",
    "\n",
    "print(np_prod_1)"
   ]
  },
  {
   "cell_type": "code",
   "execution_count": 134,
   "metadata": {},
   "outputs": [
    {
     "name": "stdout",
     "output_type": "stream",
     "text": [
      "[[[12 34 33 48]\n",
      "  [23 62 88 37]\n",
      "  [99 44 86 91]]\n",
      "\n",
      " [[35 65 99 47]\n",
      "  [78  3  1  5]\n",
      "  [90 14 27  9]]]\n"
     ]
    }
   ],
   "source": [
    "np_rand_sample = np.random.randint(1,100,24).reshape(2,3,4)\n",
    "\n",
    "print(np_rand_sample)"
   ]
  },
  {
   "cell_type": "code",
   "execution_count": null,
   "metadata": {},
   "outputs": [],
   "source": [
    "# ● ndarray.max: Return the maximum along the given axis.\n",
    "# ● ndarray.argmax: Return indices of the maximum values along the given axis"
   ]
  },
  {
   "cell_type": "code",
   "execution_count": 135,
   "metadata": {},
   "outputs": [
    {
     "name": "stdout",
     "output_type": "stream",
     "text": [
      "99\n",
      "8\n",
      "[12 34 33 48 23 62 88 37 99 44 86 91 35 65 99 47 78  3  1  5 90 14 27  9]\n"
     ]
    }
   ],
   "source": [
    "print(np_rand_sample.max()) #without any axis - maximum of array\n",
    "\n",
    "print(np_rand_sample.argmax()) # Index position of maximum number - without any axis > index value of max number (flattened\n",
    "# array)\n",
    "\n",
    "print(np_rand_sample.flatten())"
   ]
  },
  {
   "cell_type": "code",
   "execution_count": 136,
   "metadata": {
    "scrolled": false
   },
   "outputs": [
    {
     "name": "stdout",
     "output_type": "stream",
     "text": [
      "[[[12 34 33 48]\n",
      "  [23 62 88 37]\n",
      "  [99 44 86 91]]\n",
      "\n",
      " [[35 65 99 47]\n",
      "  [78  3  1  5]\n",
      "  [90 14 27  9]]]\n"
     ]
    }
   ],
   "source": [
    "print(np_rand_sample)\n"
   ]
  },
  {
   "cell_type": "code",
   "execution_count": 138,
   "metadata": {},
   "outputs": [
    {
     "name": "stdout",
     "output_type": "stream",
     "text": [
      "[[35 65 99 48]\n",
      " [78 62 88 37]\n",
      " [99 44 86 91]]\n",
      "[[1 1 1 0]\n",
      " [1 0 0 0]\n",
      " [0 0 0 0]]\n"
     ]
    }
   ],
   "source": [
    "print(np_rand_sample.max(0)) # with axis 0\n",
    "\n",
    "print(np_rand_sample.argmax(0)) # with axis 0"
   ]
  },
  {
   "cell_type": "code",
   "execution_count": 139,
   "metadata": {},
   "outputs": [
    {
     "name": "stdout",
     "output_type": "stream",
     "text": [
      "[[[12 34 33 48]\n",
      "  [23 62 88 37]\n",
      "  [99 44 86 91]]\n",
      "\n",
      " [[35 65 99 47]\n",
      "  [78  3  1  5]\n",
      "  [90 14 27  9]]]\n"
     ]
    }
   ],
   "source": [
    "print(np_rand_sample)"
   ]
  },
  {
   "cell_type": "code",
   "execution_count": 140,
   "metadata": {},
   "outputs": [
    {
     "name": "stdout",
     "output_type": "stream",
     "text": [
      "[[99 62 88 91]\n",
      " [90 65 99 47]]\n",
      "[[2 1 1 2]\n",
      " [2 0 0 0]]\n"
     ]
    }
   ],
   "source": [
    "print(np_rand_sample.max(1))\n",
    "print(np_rand_sample.argmax(1))\n"
   ]
  },
  {
   "cell_type": "code",
   "execution_count": 141,
   "metadata": {},
   "outputs": [
    {
     "name": "stdout",
     "output_type": "stream",
     "text": [
      "[[[12 34 33 48]\n",
      "  [23 62 88 37]\n",
      "  [99 44 86 91]]\n",
      "\n",
      " [[35 65 99 47]\n",
      "  [78  3  1  5]\n",
      "  [90 14 27  9]]]\n"
     ]
    }
   ],
   "source": [
    "print(np_rand_sample)"
   ]
  },
  {
   "cell_type": "code",
   "execution_count": 142,
   "metadata": {},
   "outputs": [
    {
     "name": "stdout",
     "output_type": "stream",
     "text": [
      "[[48 88 99]\n",
      " [99 78 90]]\n",
      "[[3 2 0]\n",
      " [2 0 0]]\n"
     ]
    }
   ],
   "source": [
    "print(np_rand_sample.max(2))\n",
    "print(np_rand_sample.argmax(2))"
   ]
  },
  {
   "cell_type": "code",
   "execution_count": 143,
   "metadata": {},
   "outputs": [
    {
     "name": "stdout",
     "output_type": "stream",
     "text": [
      "[[[12 34 33 48]\n",
      "  [23 62 88 37]\n",
      "  [99 44 86 91]]\n",
      "\n",
      " [[35 65 99 47]\n",
      "  [78  3  1  5]\n",
      "  [90 14 27  9]]]\n"
     ]
    }
   ],
   "source": [
    "print(np_rand_sample)\n"
   ]
  },
  {
   "cell_type": "code",
   "execution_count": null,
   "metadata": {},
   "outputs": [],
   "source": [
    "# ● ndarray.min: Return the minimum along the given axis.\n",
    "# ● ndarray.argmin: Return indices of the minimum values along the given axis."
   ]
  },
  {
   "cell_type": "code",
   "execution_count": 144,
   "metadata": {},
   "outputs": [
    {
     "name": "stdout",
     "output_type": "stream",
     "text": [
      "1\n",
      "18\n",
      "[12 34 33 48 23 62 88 37 99 44 86 91 35 65 99 47 78  3  1  5 90 14 27  9]\n"
     ]
    }
   ],
   "source": [
    "print(np_rand_sample.min())\n",
    "print(np_rand_sample.argmin())\n",
    "print(np_rand_sample.flatten())"
   ]
  },
  {
   "cell_type": "code",
   "execution_count": 145,
   "metadata": {},
   "outputs": [
    {
     "name": "stdout",
     "output_type": "stream",
     "text": [
      "[[[12 34 33 48]\n",
      "  [23 62 88 37]\n",
      "  [99 44 86 91]]\n",
      "\n",
      " [[35 65 99 47]\n",
      "  [78  3  1  5]\n",
      "  [90 14 27  9]]]\n"
     ]
    }
   ],
   "source": [
    "print(np_rand_sample)"
   ]
  },
  {
   "cell_type": "code",
   "execution_count": 146,
   "metadata": {},
   "outputs": [
    {
     "name": "stdout",
     "output_type": "stream",
     "text": [
      "[[12 34 33 47]\n",
      " [23  3  1  5]\n",
      " [90 14 27  9]]\n",
      "[[0 0 0 1]\n",
      " [0 1 1 1]\n",
      " [1 1 1 1]]\n"
     ]
    }
   ],
   "source": [
    "print(np_rand_sample.min(0))\n",
    "print(np_rand_sample.argmin(0))"
   ]
  },
  {
   "cell_type": "code",
   "execution_count": null,
   "metadata": {},
   "outputs": [],
   "source": [
    "print(np_rand_sample)"
   ]
  },
  {
   "cell_type": "code",
   "execution_count": null,
   "metadata": {},
   "outputs": [],
   "source": [
    "print(np_rand_sample.min(1))\n",
    "print(np_rand_sample.argmin(1))"
   ]
  },
  {
   "cell_type": "code",
   "execution_count": null,
   "metadata": {},
   "outputs": [],
   "source": [
    "print(np_rand_sample.min(2))\n",
    "print(np_rand_sample.argmin(2))"
   ]
  },
  {
   "cell_type": "code",
   "execution_count": 147,
   "metadata": {},
   "outputs": [
    {
     "name": "stdout",
     "output_type": "stream",
     "text": [
      "[[[12 34 33 48]\n",
      "  [23 62 88 37]\n",
      "  [99 44 86 91]]\n",
      "\n",
      " [[35 65 99 47]\n",
      "  [78  3  1  5]\n",
      "  [90 14 27  9]]]\n"
     ]
    }
   ],
   "source": [
    "# ● ndarray.mean: Returns the average of the array elements along the given axis.\n",
    "\n",
    "print(np_rand_sample)"
   ]
  },
  {
   "cell_type": "code",
   "execution_count": 148,
   "metadata": {},
   "outputs": [
    {
     "name": "stdout",
     "output_type": "stream",
     "text": [
      "47.083333333333336\n"
     ]
    }
   ],
   "source": [
    "print(np_rand_sample.mean()) #without axis - mean of all elements."
   ]
  },
  {
   "cell_type": "code",
   "execution_count": null,
   "metadata": {},
   "outputs": [],
   "source": [
    "print(np_rand_sample.mean(0))"
   ]
  },
  {
   "cell_type": "code",
   "execution_count": null,
   "metadata": {},
   "outputs": [],
   "source": [
    "print(np_rand_sample.mean(1))"
   ]
  },
  {
   "cell_type": "code",
   "execution_count": null,
   "metadata": {},
   "outputs": [],
   "source": [
    "print(np_rand_sample.mean(2))"
   ]
  },
  {
   "cell_type": "code",
   "execution_count": null,
   "metadata": {},
   "outputs": [],
   "source": [
    "# ● ndarray.cumsum: Return the cumulative sum of the elements along the given axis."
   ]
  },
  {
   "cell_type": "code",
   "execution_count": 149,
   "metadata": {},
   "outputs": [
    {
     "name": "stdout",
     "output_type": "stream",
     "text": [
      "[[[12 34 33 48]\n",
      "  [23 62 88 37]\n",
      "  [99 44 86 91]]\n",
      "\n",
      " [[35 65 99 47]\n",
      "  [78  3  1  5]\n",
      "  [90 14 27  9]]]\n"
     ]
    }
   ],
   "source": [
    "print(np_rand_sample)"
   ]
  },
  {
   "cell_type": "code",
   "execution_count": 150,
   "metadata": {},
   "outputs": [
    {
     "name": "stdout",
     "output_type": "stream",
     "text": [
      "[  12   46   79  127  150  212  300  337  436  480  566  657  692  757\n",
      "  856  903  981  984  985  990 1080 1094 1121 1130]\n"
     ]
    }
   ],
   "source": [
    "print(np_rand_sample.cumsum())"
   ]
  },
  {
   "cell_type": "code",
   "execution_count": 151,
   "metadata": {},
   "outputs": [
    {
     "name": "stdout",
     "output_type": "stream",
     "text": [
      "[[[ 12  34  33  48]\n",
      "  [ 23  62  88  37]\n",
      "  [ 99  44  86  91]]\n",
      "\n",
      " [[ 47  99 132  95]\n",
      "  [101  65  89  42]\n",
      "  [189  58 113 100]]]\n"
     ]
    }
   ],
   "source": [
    "print(np_rand_sample.cumsum(0))"
   ]
  },
  {
   "cell_type": "code",
   "execution_count": 152,
   "metadata": {},
   "outputs": [
    {
     "name": "stdout",
     "output_type": "stream",
     "text": [
      "[[[ 12  34  33  48]\n",
      "  [ 35  96 121  85]\n",
      "  [134 140 207 176]]\n",
      "\n",
      " [[ 35  65  99  47]\n",
      "  [113  68 100  52]\n",
      "  [203  82 127  61]]]\n"
     ]
    }
   ],
   "source": [
    "print(np_rand_sample.cumsum(1))"
   ]
  },
  {
   "cell_type": "code",
   "execution_count": 153,
   "metadata": {},
   "outputs": [
    {
     "name": "stdout",
     "output_type": "stream",
     "text": [
      "[[[12 34 33 48]\n",
      "  [23 62 88 37]\n",
      "  [99 44 86 91]]\n",
      "\n",
      " [[35 65 99 47]\n",
      "  [78  3  1  5]\n",
      "  [90 14 27  9]]]\n"
     ]
    }
   ],
   "source": [
    "print(np_rand_sample)\n"
   ]
  },
  {
   "cell_type": "code",
   "execution_count": null,
   "metadata": {},
   "outputs": [],
   "source": [
    "print(np_rand_sample.cumsum(2))"
   ]
  },
  {
   "cell_type": "code",
   "execution_count": null,
   "metadata": {},
   "outputs": [],
   "source": [
    "# ● ndarray.cumprod: Return the cumulative product of the elements along the given axis."
   ]
  },
  {
   "cell_type": "code",
   "execution_count": null,
   "metadata": {},
   "outputs": [],
   "source": [
    "np_sample_cd = np.random.randint(1,10, 12).reshape(2,2,3)\n",
    "\n",
    "print(np_sample_cd)"
   ]
  },
  {
   "cell_type": "code",
   "execution_count": null,
   "metadata": {},
   "outputs": [],
   "source": [
    "print(np_sample_cd.cumprod())"
   ]
  },
  {
   "cell_type": "code",
   "execution_count": null,
   "metadata": {},
   "outputs": [],
   "source": [
    "print(np_sample_cd.cumprod(0))"
   ]
  },
  {
   "cell_type": "code",
   "execution_count": null,
   "metadata": {},
   "outputs": [],
   "source": [
    "print(np_sample_cd)"
   ]
  },
  {
   "cell_type": "code",
   "execution_count": null,
   "metadata": {},
   "outputs": [],
   "source": [
    "print(np_sample_cd.cumprod(1))"
   ]
  },
  {
   "cell_type": "code",
   "execution_count": null,
   "metadata": {},
   "outputs": [],
   "source": [
    "print(np_sample_cd.cumprod(2))"
   ]
  },
  {
   "cell_type": "code",
   "execution_count": null,
   "metadata": {},
   "outputs": [],
   "source": [
    "# ● ndarray.var: Returns the variance of the array elements, along the given axis.\n",
    "# ● ndarray.std: Returns the standard deviation of the array elements along the given axis."
   ]
  },
  {
   "cell_type": "code",
   "execution_count": 154,
   "metadata": {},
   "outputs": [
    {
     "name": "stdout",
     "output_type": "stream",
     "text": [
      "[[[12 34 33 48]\n",
      "  [23 62 88 37]\n",
      "  [99 44 86 91]]\n",
      "\n",
      " [[35 65 99 47]\n",
      "  [78  3  1  5]\n",
      "  [90 14 27  9]]]\n"
     ]
    }
   ],
   "source": [
    "print(np_rand_sample)"
   ]
  },
  {
   "cell_type": "code",
   "execution_count": 155,
   "metadata": {},
   "outputs": [
    {
     "name": "stdout",
     "output_type": "stream",
     "text": [
      "Variance :  1044.7430555555554\n",
      "Standard Deviation :  32.32248529360877\n"
     ]
    }
   ],
   "source": [
    "print('Variance : ', np_rand_sample.var())\n",
    "print('Standard Deviation : ', np_rand_sample.std())"
   ]
  },
  {
   "cell_type": "code",
   "execution_count": 156,
   "metadata": {},
   "outputs": [
    {
     "name": "stdout",
     "output_type": "stream",
     "text": [
      "Variance\n",
      "[[1.32250e+02 2.40250e+02 1.08900e+03 2.50000e-01]\n",
      " [7.56250e+02 8.70250e+02 1.89225e+03 2.56000e+02]\n",
      " [2.02500e+01 2.25000e+02 8.70250e+02 1.68100e+03]]\n",
      "-----------------------------------------------------------------------------------------------------------------------------\n",
      "Standard Deviation\n",
      "[[11.5 15.5 33.   0.5]\n",
      " [27.5 29.5 43.5 16. ]\n",
      " [ 4.5 15.  29.5 41. ]]\n"
     ]
    }
   ],
   "source": [
    "print('Variance')\n",
    "print(np_rand_sample.var(0))\n",
    "\n",
    "print('-'*125)\n",
    "\n",
    "print('Standard Deviation')\n",
    "print(np_rand_sample.std(0))"
   ]
  },
  {
   "cell_type": "code",
   "execution_count": null,
   "metadata": {},
   "outputs": [],
   "source": [
    "print('Variance')\n",
    "print(np_rand_sample.var(1))\n",
    "\n",
    "print('-'*125)\n",
    "\n",
    "print('Standard Deviation')\n",
    "print(np_rand_sample.std(1))"
   ]
  },
  {
   "cell_type": "code",
   "execution_count": null,
   "metadata": {},
   "outputs": [],
   "source": [
    "print('Variance')\n",
    "print(np_rand_sample.var(2))\n",
    "\n",
    "print('-'*125)\n",
    "\n",
    "print('Standard Deviation')\n",
    "print(np_rand_sample.std(2))"
   ]
  },
  {
   "cell_type": "markdown",
   "metadata": {},
   "source": [
    "### Data Types for ndarrays"
   ]
  },
  {
   "cell_type": "code",
   "execution_count": null,
   "metadata": {},
   "outputs": [],
   "source": [
    "# The data type or dtype is a special object containing the information (or metadata, data about data) the ndarray needs to\n",
    "# interpret a chunk of memory as a particular type of data:"
   ]
  },
  {
   "cell_type": "code",
   "execution_count": 157,
   "metadata": {},
   "outputs": [],
   "source": [
    "import numpy as np\n",
    "import sys\n",
    "np_arr1 = np.array([1,2,3], dtype = 'float16')"
   ]
  },
  {
   "cell_type": "code",
   "execution_count": 158,
   "metadata": {},
   "outputs": [
    {
     "name": "stdout",
     "output_type": "stream",
     "text": [
      "float16\n",
      "[1. 2. 3.]\n"
     ]
    }
   ],
   "source": [
    "print(np_arr1.dtype)\n",
    "print(np_arr1)"
   ]
  },
  {
   "cell_type": "code",
   "execution_count": 159,
   "metadata": {},
   "outputs": [
    {
     "name": "stdout",
     "output_type": "stream",
     "text": [
      "int8\n",
      "[10 -4  3]\n",
      "25\n",
      "28\n"
     ]
    }
   ],
   "source": [
    "np_arr2 = np.array([10,-4,3], dtype = 'int8')\n",
    "\n",
    "print(np_arr2.dtype)\n",
    "print(np_arr2)\n",
    "\n",
    "print(sys.getsizeof(np_arr2[0]))\n",
    "print(sys.getsizeof(10))"
   ]
  },
  {
   "cell_type": "code",
   "execution_count": null,
   "metadata": {},
   "outputs": [],
   "source": [
    "# Type              Type code           Description\n",
    "# int8, uint8       i1, u1              Signed and unsigned 8-bit (1byte) integer types\n",
    "# int16, uint16     i2, u2              Signed and unsigned 16-bit integer types\n",
    "# int32, uint32     i4, u4              Signed and unsigned 32-bit integer types\n",
    "# int64, uint64     i8, u8              Signed and unsigned 64-bit integer types\n",
    "# float16           f2                  Half-precision floating point\n",
    "# float32           f4 or f             Standard single-precision floating point; compatible with C float\n",
    "# float64           f8 or d             Standard double-precision floating point; compatible with C double\n",
    "#                                       and Python float object\n",
    "# float128          f16 or g            Extended-precision floating point\n",
    "# complex64,        c8, c16, c32        Complex numbers represented by two 32, 64, or 128 floats respectively\n",
    "# complex128,\n",
    "# complex256\n",
    "# bool              ?                   Boolean type storing True and False values\n",
    "# object            O                   Python object type; a value can be any Python object\n",
    "# string_           S                   Fixed-length ASCII string type (1 byte per character); for example, to create a\n",
    "#                                       string dtype with length 10, use 'S10'\n",
    "# unicode_          U                   Fixed-length Unicode type (number of bytes platform specific); same specification\n",
    "#                                       semantics as string_ (e.g., 'U10')\n",
    "\n",
    "# Note: It’s important to be cautious when using the numpy string_ type, as string data in NumPy is fixed size and may\n",
    "# truncate input without warning"
   ]
  },
  {
   "cell_type": "markdown",
   "metadata": {},
   "source": [
    "### Arithmetic with NumPy"
   ]
  },
  {
   "cell_type": "code",
   "execution_count": null,
   "metadata": {},
   "outputs": [],
   "source": [
    "# Arrays Arrays are important because they enable you to express batch operations on data without writing any for loops. \n",
    "# NumPy users call this vectorization. Any arithmetic operations between equal-size arrays applies the operation\n",
    "# element-wise:"
   ]
  },
  {
   "cell_type": "code",
   "execution_count": 160,
   "metadata": {},
   "outputs": [
    {
     "name": "stdout",
     "output_type": "stream",
     "text": [
      "[[1 2 3]\n",
      " [4 5 6]]\n",
      "[[ 2  4  6]\n",
      " [ 8 10 12]]\n"
     ]
    }
   ],
   "source": [
    "np_arr1 = np.array([[1,2,3], [4,5,6]])\n",
    "\n",
    "np_arr2 = np.array([[2,4,6], [8,10,12]])\n",
    "\n",
    "print(np_arr1)\n",
    "print(np_arr2)"
   ]
  },
  {
   "cell_type": "code",
   "execution_count": 161,
   "metadata": {},
   "outputs": [
    {
     "name": "stdout",
     "output_type": "stream",
     "text": [
      "[[ 2  8 18]\n",
      " [32 50 72]]\n"
     ]
    }
   ],
   "source": [
    "print(np_arr1 * np_arr2)"
   ]
  },
  {
   "cell_type": "code",
   "execution_count": 162,
   "metadata": {},
   "outputs": [
    {
     "name": "stdout",
     "output_type": "stream",
     "text": [
      "[[1 2 3]\n",
      " [4 5 6]]\n"
     ]
    }
   ],
   "source": [
    "print(np_arr2 - np_arr1)"
   ]
  },
  {
   "cell_type": "code",
   "execution_count": null,
   "metadata": {},
   "outputs": [],
   "source": [
    "# Arithmetic operations with scalars propagate the scalar argument to each element in the array:"
   ]
  },
  {
   "cell_type": "code",
   "execution_count": null,
   "metadata": {},
   "outputs": [],
   "source": [
    "print(np_arr1)"
   ]
  },
  {
   "cell_type": "code",
   "execution_count": null,
   "metadata": {},
   "outputs": [],
   "source": [
    "print(1/(np_arr1**2))"
   ]
  },
  {
   "cell_type": "code",
   "execution_count": null,
   "metadata": {},
   "outputs": [],
   "source": [
    "print(np_arr1)\n",
    "print(np_arr2)"
   ]
  },
  {
   "cell_type": "code",
   "execution_count": null,
   "metadata": {},
   "outputs": [],
   "source": [
    "print(np_arr1 * np_arr2)"
   ]
  },
  {
   "cell_type": "code",
   "execution_count": null,
   "metadata": {},
   "outputs": [],
   "source": [
    "print((np_arr1*np_arr2)**1/2)"
   ]
  },
  {
   "cell_type": "code",
   "execution_count": null,
   "metadata": {},
   "outputs": [],
   "source": [
    "# Comparisons between arrays of the same size yield boolean arrays:"
   ]
  },
  {
   "cell_type": "code",
   "execution_count": null,
   "metadata": {},
   "outputs": [],
   "source": [
    "print(np_arr1)\n",
    "print(np_arr2)\n",
    "\n",
    "print(np_arr1 < np_arr2)"
   ]
  },
  {
   "cell_type": "code",
   "execution_count": 163,
   "metadata": {},
   "outputs": [
    {
     "name": "stdout",
     "output_type": "stream",
     "text": [
      "2\n",
      "[[ 1  2  3  4  5]\n",
      " [ 6  7  8  9 10]]\n"
     ]
    }
   ],
   "source": [
    "arrtest = np.arange(1,11).reshape(2,5)\n",
    "\n",
    "arrtest\n",
    "\n",
    "print(arrtest.ndim)\n",
    "print(arrtest)"
   ]
  },
  {
   "cell_type": "code",
   "execution_count": 164,
   "metadata": {},
   "outputs": [
    {
     "name": "stdout",
     "output_type": "stream",
     "text": [
      "[[1 2]\n",
      " [3 4]\n",
      " [5 6]]\n",
      "[[10 20]\n",
      " [30 40]\n",
      " [50 60]]\n"
     ]
    }
   ],
   "source": [
    "# Uncommon dimensions arrays are 'broadcast'. E.g.\n",
    "\n",
    "import numpy as np\n",
    "\n",
    "# However, broadcasting needs to follow certain rules. \n",
    "\n",
    "# Arrays are broadcastable if:\n",
    "\n",
    "# Arrays have exactly the same shape.\n",
    "\n",
    "np_arr_so = np.arange(1,7).reshape(3,2)\n",
    "np_arr_lo = np.arange(10,70,10).reshape(3,2)\n",
    "\n",
    "print(np_arr_so)\n",
    "print(np_arr_lo)"
   ]
  },
  {
   "cell_type": "code",
   "execution_count": null,
   "metadata": {},
   "outputs": [],
   "source": [
    "print(np_arr_so*np_arr_lo)"
   ]
  },
  {
   "cell_type": "code",
   "execution_count": null,
   "metadata": {},
   "outputs": [],
   "source": [
    "# Arrays have the same number of dimensions and the length of each dimension is either a common length or 1.\n",
    "\n",
    "np_arr_so = np.arange(3).reshape(1,3)\n",
    "print(np_arr_so)"
   ]
  },
  {
   "cell_type": "code",
   "execution_count": null,
   "metadata": {},
   "outputs": [],
   "source": [
    "np_arr_lo = np.arange(0,60,10).reshape(2,3)\n",
    "print(np_arr_lo)"
   ]
  },
  {
   "cell_type": "code",
   "execution_count": null,
   "metadata": {},
   "outputs": [],
   "source": [
    "print(np_arr_so*np_arr_lo)"
   ]
  },
  {
   "cell_type": "code",
   "execution_count": null,
   "metadata": {},
   "outputs": [],
   "source": [
    "arr_lo = np.arange(1,385).reshape(2,4,6,8)\n",
    "arr_so = np.arange(1,17).reshape(2,1,1,8)\n",
    "\n",
    "print(arr_lo * arr_so)"
   ]
  },
  {
   "cell_type": "code",
   "execution_count": null,
   "metadata": {},
   "outputs": [],
   "source": [
    "np_arr_lo = np.arange(0,60,10).reshape(3,2)\n",
    "np_arr_so = np.arange(2).reshape(1,2)\n",
    "\n",
    "print(np_arr_lo)\n",
    "print(np_arr_so)"
   ]
  },
  {
   "cell_type": "code",
   "execution_count": null,
   "metadata": {},
   "outputs": [],
   "source": [
    "print(np_arr_lo*np_arr_so)"
   ]
  },
  {
   "cell_type": "code",
   "execution_count": null,
   "metadata": {},
   "outputs": [],
   "source": [
    "np_arr_so = np.arange(6).reshape(1,2,3)\n",
    "np_arr_so"
   ]
  },
  {
   "cell_type": "code",
   "execution_count": null,
   "metadata": {},
   "outputs": [],
   "source": [
    "np_arr_lo = np.arange(0,120,10).reshape(2,2,3)\n",
    "np_arr_lo"
   ]
  },
  {
   "cell_type": "code",
   "execution_count": null,
   "metadata": {},
   "outputs": [],
   "source": [
    "print(np_arr_so+np_arr_lo)"
   ]
  },
  {
   "cell_type": "code",
   "execution_count": null,
   "metadata": {},
   "outputs": [],
   "source": [
    "# Array having too few dimensions can have its shape prepended with a dimension of length 1, so that the above stated\n",
    "# property is true.\n",
    "\n",
    "np_arr_so = np.arange(1,7).reshape(1,2,3)\n",
    "print(np_arr_so)"
   ]
  },
  {
   "cell_type": "code",
   "execution_count": null,
   "metadata": {},
   "outputs": [],
   "source": [
    "np_arr_lo = np.arange(1,19).reshape(3,2,3)\n",
    "print(np_arr_lo)"
   ]
  },
  {
   "cell_type": "code",
   "execution_count": null,
   "metadata": {},
   "outputs": [],
   "source": [
    "np_arr_so*np_arr_lo"
   ]
  },
  {
   "cell_type": "code",
   "execution_count": null,
   "metadata": {},
   "outputs": [],
   "source": [
    "np_arr_so = np_arr_so.reshape(1,2,3)\n",
    "print(np_arr_so)\n"
   ]
  },
  {
   "cell_type": "code",
   "execution_count": null,
   "metadata": {},
   "outputs": [],
   "source": [
    "print(np_arr_lo)"
   ]
  },
  {
   "cell_type": "code",
   "execution_count": null,
   "metadata": {},
   "outputs": [],
   "source": [
    "print(np_arr_so*np_arr_lo)"
   ]
  },
  {
   "cell_type": "code",
   "execution_count": null,
   "metadata": {},
   "outputs": [],
   "source": [
    "# However, broadcasting follows certain rules:\n",
    "\n",
    "# Array with smaller ndim than the other is prepended with '1' in its shape.\n",
    "\n",
    "# Size in each dimension of the output shape is maximum of the input sizes in that dimension.\n",
    "\n",
    "# An input can be used in calculation, if its size in a particular dimension matches the output size or its value is exactly\n",
    "# 1.\n",
    "\n",
    "# If an input has a dimension size of 1, the first data entry in that dimension is used for all calculations along that\n",
    "# dimension."
   ]
  },
  {
   "cell_type": "markdown",
   "metadata": {},
   "source": [
    "### Basic Indexing and Slicing"
   ]
  },
  {
   "cell_type": "code",
   "execution_count": null,
   "metadata": {},
   "outputs": [],
   "source": [
    "#NumPy array indexing is a rich topic, as there are many ways you may want to select a subset of your data or individual\n",
    "# elements. One-dimensional arrays are simple; on the surface they act similarly to Python lists:"
   ]
  },
  {
   "cell_type": "code",
   "execution_count": null,
   "metadata": {},
   "outputs": [],
   "source": [
    "arr1 = np.arange(10)\n",
    "print(arr1)"
   ]
  },
  {
   "cell_type": "code",
   "execution_count": null,
   "metadata": {},
   "outputs": [],
   "source": [
    "print(arr1[5])"
   ]
  },
  {
   "cell_type": "code",
   "execution_count": null,
   "metadata": {},
   "outputs": [],
   "source": [
    "print(arr1[2:4])"
   ]
  },
  {
   "cell_type": "code",
   "execution_count": null,
   "metadata": {},
   "outputs": [],
   "source": [
    "# Slice assignment\n",
    "\n",
    "arr1[2:4] = 11\n",
    "\n",
    "print(arr1)"
   ]
  },
  {
   "cell_type": "code",
   "execution_count": null,
   "metadata": {},
   "outputs": [],
   "source": [
    "list1 = list(range(10))\n",
    "print(list1)\n",
    "list1[2:4] = 11,\n",
    "print(list1)"
   ]
  },
  {
   "cell_type": "code",
   "execution_count": null,
   "metadata": {},
   "outputs": [],
   "source": [
    "# As you can see, if you assign a scalar value to a slice of an array, as in arr[2:4] = 11, the value is propagated (or \n",
    "# broadcasted henceforth) to the entire selection. While for lists, the value(s) of the iterable replace(s) the slice."
   ]
  },
  {
   "cell_type": "code",
   "execution_count": null,
   "metadata": {},
   "outputs": [],
   "source": [
    "# An important first distinction from Python’s built-in lists is that array slices are views on the original array. This\n",
    "# means that the data is not copied, and any modifications to the view will be reflected in the source array. To give\n",
    "# an example of this, first create a slice of arr:"
   ]
  },
  {
   "cell_type": "code",
   "execution_count": null,
   "metadata": {},
   "outputs": [],
   "source": [
    "arr = np.arange(11)\n",
    "arr_slice = arr[5:8]\n",
    "print(arr_slice)"
   ]
  },
  {
   "cell_type": "code",
   "execution_count": null,
   "metadata": {},
   "outputs": [],
   "source": [
    "arr_slice[1] = 6789\n",
    "print(arr_slice)\n",
    "print(arr)"
   ]
  },
  {
   "cell_type": "code",
   "execution_count": null,
   "metadata": {},
   "outputs": [],
   "source": [
    "list1 = list(range(11))\n",
    "lst_slice = list1[5:8]\n",
    "print(lst_slice)"
   ]
  },
  {
   "cell_type": "code",
   "execution_count": null,
   "metadata": {},
   "outputs": [],
   "source": [
    "lst_slice[1] = 6789\n",
    "print(lst_slice)\n",
    "print(list1)"
   ]
  },
  {
   "cell_type": "code",
   "execution_count": null,
   "metadata": {},
   "outputs": [],
   "source": [
    "# To copy an array or its slice you have to exlicitly copy."
   ]
  },
  {
   "cell_type": "code",
   "execution_count": null,
   "metadata": {},
   "outputs": [],
   "source": [
    "arr = np.arange(11)\n",
    "print(arr)\n",
    "arr_slice = arr[5:8].copy()\n",
    "\n",
    "print(arr_slice)"
   ]
  },
  {
   "cell_type": "code",
   "execution_count": null,
   "metadata": {},
   "outputs": [],
   "source": [
    "arr_slice[1] = 6789\n",
    "\n",
    "print(arr_slice)\n",
    "print(arr)"
   ]
  },
  {
   "cell_type": "code",
   "execution_count": null,
   "metadata": {},
   "outputs": [],
   "source": [
    "# Accessing values in nested arrays."
   ]
  },
  {
   "cell_type": "code",
   "execution_count": null,
   "metadata": {},
   "outputs": [],
   "source": [
    "arr_hdim = np.array([[1,2,3],[4,5,6],[7,8,9]])\n",
    "\n",
    "print(arr_hdim)"
   ]
  },
  {
   "cell_type": "code",
   "execution_count": null,
   "metadata": {},
   "outputs": [],
   "source": [
    "print(arr_hdim[1][1])"
   ]
  },
  {
   "cell_type": "code",
   "execution_count": null,
   "metadata": {},
   "outputs": [],
   "source": [
    "# Numpy allows you to use easier syntax to access elements in nested arrays.\n",
    "\n",
    "print(arr_hdim[1,0])"
   ]
  },
  {
   "cell_type": "code",
   "execution_count": null,
   "metadata": {},
   "outputs": [],
   "source": [
    "#Indexing with slices\n",
    "\n",
    "#Like one-dimensional objects such as Python lists, ndarrays can be sliced with the familiar syntax:\n",
    "\n",
    "arr = np.arange(11)\n",
    "arr"
   ]
  },
  {
   "cell_type": "code",
   "execution_count": null,
   "metadata": {},
   "outputs": [],
   "source": [
    "print(arr[1:6])"
   ]
  },
  {
   "cell_type": "code",
   "execution_count": null,
   "metadata": {},
   "outputs": [],
   "source": [
    "# Consider a two-dimensional array. Slicing this array is a bit different:\n",
    " \n",
    "arr_2d = np.array([[1,2,3], [4,5,6],[7,8,9]])\n",
    "\n",
    "print(arr_2d)"
   ]
  },
  {
   "cell_type": "code",
   "execution_count": null,
   "metadata": {},
   "outputs": [],
   "source": [
    "print(arr_2d[:2])"
   ]
  },
  {
   "cell_type": "code",
   "execution_count": null,
   "metadata": {},
   "outputs": [],
   "source": [
    "# As we see, the array has been sliced on axis 0"
   ]
  },
  {
   "cell_type": "code",
   "execution_count": null,
   "metadata": {},
   "outputs": [],
   "source": [
    "# As the syntax for multiple indexes seen previously, we can pass multiple slices as well. \n",
    "\n",
    "print(arr_2d[:2])\n",
    "print(arr_2d[:2, :2])"
   ]
  },
  {
   "cell_type": "code",
   "execution_count": null,
   "metadata": {},
   "outputs": [],
   "source": [
    "arr_2d"
   ]
  },
  {
   "cell_type": "code",
   "execution_count": null,
   "metadata": {},
   "outputs": [],
   "source": [
    "# or\n",
    "\n",
    "print(arr_2d[:2,1:])"
   ]
  },
  {
   "cell_type": "code",
   "execution_count": null,
   "metadata": {},
   "outputs": [],
   "source": [
    "# When slicing like this, you always obtain array views of the same number of dimensions"
   ]
  },
  {
   "cell_type": "code",
   "execution_count": null,
   "metadata": {},
   "outputs": [],
   "source": [
    "# By mixing integer indexes and slices, you get lower dimensional slices"
   ]
  },
  {
   "cell_type": "code",
   "execution_count": null,
   "metadata": {},
   "outputs": [],
   "source": [
    "print(arr_2d)"
   ]
  },
  {
   "cell_type": "code",
   "execution_count": null,
   "metadata": {},
   "outputs": [],
   "source": [
    "print(arr_2d[1,1:])"
   ]
  },
  {
   "cell_type": "code",
   "execution_count": null,
   "metadata": {},
   "outputs": [],
   "source": [
    "# Here we first selected the 1st index on axis 0 and then sliced from 1st index to end along axis 1"
   ]
  },
  {
   "cell_type": "code",
   "execution_count": null,
   "metadata": {},
   "outputs": [],
   "source": [
    "# Another example, slice from 1st index to end along axis 0 and then index 2 along axis 1\n",
    "print(arr_2d[1:])\n",
    "\n",
    "print(arr_2d[1:,2])"
   ]
  },
  {
   "cell_type": "markdown",
   "metadata": {},
   "source": [
    "### Boolean Indexing"
   ]
  },
  {
   "cell_type": "code",
   "execution_count": null,
   "metadata": {},
   "outputs": [],
   "source": [
    "# Let’s consider an example where we have some data in an array and an array of names with duplicates. "
   ]
  },
  {
   "cell_type": "code",
   "execution_count": null,
   "metadata": {},
   "outputs": [],
   "source": [
    "names = np.array(['Bob', 'John', 'Steve', 'Will', 'Bob', 'Steve', 'Bob'])\n",
    "print(names)"
   ]
  },
  {
   "cell_type": "code",
   "execution_count": null,
   "metadata": {},
   "outputs": [],
   "source": [
    "# Like arithmetic operations, comparisons (such as ==) with arrays are also vectorized. Thus, comparing names with\n",
    "# the string 'Bob' yields a boolean array:\n",
    "print(names == 'Bob')"
   ]
  },
  {
   "cell_type": "code",
   "execution_count": null,
   "metadata": {
    "scrolled": true
   },
   "outputs": [],
   "source": [
    "data = np.random.randint(1,10,49).reshape(7,7)\n",
    "\n",
    "print(data)"
   ]
  },
  {
   "cell_type": "code",
   "execution_count": null,
   "metadata": {},
   "outputs": [],
   "source": [
    "# We can use the values from the boolean array returned from the comparison operator == performed on 'names' array to \n",
    "# index from another array data."
   ]
  },
  {
   "cell_type": "code",
   "execution_count": null,
   "metadata": {},
   "outputs": [],
   "source": [
    "print(names=='Bob')"
   ]
  },
  {
   "cell_type": "code",
   "execution_count": null,
   "metadata": {},
   "outputs": [],
   "source": [
    "print(data[1, names == 'Bob'])"
   ]
  },
  {
   "cell_type": "code",
   "execution_count": null,
   "metadata": {},
   "outputs": [],
   "source": [
    "print(data[names == 'Bob'])"
   ]
  },
  {
   "cell_type": "code",
   "execution_count": null,
   "metadata": {},
   "outputs": [],
   "source": [
    "print(data[names == 'Bob', names=='Bob'])"
   ]
  },
  {
   "cell_type": "code",
   "execution_count": null,
   "metadata": {},
   "outputs": [],
   "source": [
    "# Arange function in Numpy. Takes 4 arguments\n",
    "\n",
    "#1. Start - Optional - defaults to 0\n",
    "#2. Stop - Mandatory\n",
    "#3. Step - Optional - Defaults to 1 but can take floating point numbers as a step (Unlike built-in range function of Python)\n",
    "#4. dtype - Optional\n",
    "\n",
    "\n",
    "np_arr_dec = np.arange(1,3,0.1)\n",
    "\n",
    "print(np_arr_dec)"
   ]
  },
  {
   "cell_type": "code",
   "execution_count": null,
   "metadata": {},
   "outputs": [],
   "source": [
    "range_1 = list(range(1,3,0.1))\n",
    "print(list(range_1))"
   ]
  },
  {
   "cell_type": "code",
   "execution_count": null,
   "metadata": {},
   "outputs": [],
   "source": [
    "range_2 = list(range(1,3,1))\n",
    "print(list(range_2))"
   ]
  },
  {
   "cell_type": "code",
   "execution_count": null,
   "metadata": {},
   "outputs": [],
   "source": [
    "# linspace function - returns evenly spaced equidistant number numbers between a specified range."
   ]
  },
  {
   "cell_type": "code",
   "execution_count": null,
   "metadata": {},
   "outputs": [],
   "source": [
    "# It takes 7 arguments.\n",
    "\n",
    "#1. Start - Mandatory\n",
    "#2. Stop - Mandatory\n",
    "#3. Num - Optional - Number of samples required between the range/interval. By default set to 50\n",
    "#4. endpoint - Optional - By default set to true and includes the endpoint(i.e. stop value) - if set to False, returns\n",
    "# equidistant numbers not including the endpoint/stop value.\n",
    "#5 retstep - Optional - Default is False. If set to true, returns the samples and the step value (distance between samples)\n",
    "#6 dtype - Optional - By default datatype will be inferred. However, for int datatype, float will be considered even if \n",
    "# start and stop are int.\n",
    "#7 axis - Optional - By default 0 axis. Only useful in case start and stop are array-like.\n",
    "\n"
   ]
  },
  {
   "cell_type": "code",
   "execution_count": null,
   "metadata": {},
   "outputs": [],
   "source": [
    "arr_lin = np.linspace(1,10)\n",
    "\n",
    "print(arr_lin)"
   ]
  },
  {
   "cell_type": "code",
   "execution_count": null,
   "metadata": {},
   "outputs": [],
   "source": [
    "# By default creates 50 equidistant samples / points"
   ]
  },
  {
   "cell_type": "code",
   "execution_count": null,
   "metadata": {},
   "outputs": [],
   "source": [
    "arr_lin10 = np.linspace(1,20,5) # with num of samples specified\n",
    "\n",
    "print(arr_lin10)"
   ]
  },
  {
   "cell_type": "code",
   "execution_count": null,
   "metadata": {},
   "outputs": [],
   "source": [
    "arr_lin10_noEP = np.linspace(1,20,5, endpoint=False) #No Endpoint included"
   ]
  },
  {
   "cell_type": "code",
   "execution_count": null,
   "metadata": {},
   "outputs": [],
   "source": [
    "print(arr_lin10_noEP)"
   ]
  },
  {
   "cell_type": "code",
   "execution_count": null,
   "metadata": {},
   "outputs": [],
   "source": [
    "arr_lin10_noEP_wRS = np.linspace(1,20,5, endpoint=False, retstep=True) #With array as 1st element and step value as 2nd\n",
    "                                                                       # element of tuple.\n",
    "print(arr_lin10_noEP_wRS)\n",
    "print(type(arr_lin10_noEP_wRS))"
   ]
  },
  {
   "cell_type": "code",
   "execution_count": null,
   "metadata": {},
   "outputs": [],
   "source": [
    "arr_lin10_int = np.linspace(1,20,5, dtype = int) # With dtype specified.\n",
    "print(arr_lin10_int)"
   ]
  },
  {
   "cell_type": "code",
   "execution_count": null,
   "metadata": {},
   "outputs": [],
   "source": [
    "arr_like_lin10 = np.linspace((1,2), (3,4), 10) # Array like start and stop values.\n",
    "print(arr_like_lin10)\n",
    "\n",
    "#Note here that default axis is 0. The equidistant numbers are being added along 0 axis"
   ]
  },
  {
   "cell_type": "code",
   "execution_count": null,
   "metadata": {},
   "outputs": [],
   "source": [
    "arr_like_lin10_ax1 = np.linspace((1,2), (3,4), 10, axis=1) # with equidistant samples added along axis 1\n",
    "\n",
    "print(arr_like_lin10_ax1)"
   ]
  },
  {
   "cell_type": "markdown",
   "metadata": {},
   "source": [
    "### Random Module in Numpy"
   ]
  },
  {
   "cell_type": "code",
   "execution_count": null,
   "metadata": {},
   "outputs": [],
   "source": [
    "#Randint to generate a random integer\n",
    "\n",
    "result = np.random.randint(1,10,5)\n",
    "\n",
    "print(result)\n",
    "\n",
    "# Returns random numbers between specified range and number of values specified in third parameter"
   ]
  },
  {
   "cell_type": "code",
   "execution_count": null,
   "metadata": {},
   "outputs": [],
   "source": [
    "print(np.random.randint(1,10)) # Prints 1 number between 0 and 9 - Start not specified defaults to 0, number not specified \n",
    "                             # defaults to 1."
   ]
  },
  {
   "cell_type": "code",
   "execution_count": null,
   "metadata": {},
   "outputs": [],
   "source": [
    "#rand - For random float values between 0 and 1 only.\n",
    "\n",
    "result = np.random.rand()\n",
    "\n",
    "print(result)\n",
    "\n"
   ]
  },
  {
   "cell_type": "code",
   "execution_count": null,
   "metadata": {},
   "outputs": [],
   "source": [
    "print(np.random.rand(3,2,4)) # Can take shape as parameter. Here will return 3 arrays on axis 0, 2 on 1 and 4 on 2"
   ]
  },
  {
   "cell_type": "code",
   "execution_count": null,
   "metadata": {},
   "outputs": [],
   "source": [
    "#randn function - returns float values in given shape array from a standard normal distribution i.e. \n",
    "\n",
    "# Roughly - 65% of the values will be between -1 to 1\n",
    "# Roughly - 95% of the values will be between -2 to 2\n",
    "# Roughly - 99% of the values will be between -3 to 3\n",
    "\n",
    "# If no shape provided will return a single float value.\n",
    "\n",
    "result = np.random.randn(3,3,3)\n",
    "\n",
    "print(result)"
   ]
  },
  {
   "cell_type": "code",
   "execution_count": null,
   "metadata": {},
   "outputs": [],
   "source": []
  },
  {
   "cell_type": "code",
   "execution_count": null,
   "metadata": {},
   "outputs": [],
   "source": []
  },
  {
   "cell_type": "code",
   "execution_count": null,
   "metadata": {},
   "outputs": [],
   "source": [
    "arr1 = np.arange(10)\n",
    "arr1"
   ]
  },
  {
   "cell_type": "code",
   "execution_count": null,
   "metadata": {},
   "outputs": [],
   "source": [
    "#choice - Choose a random number from an array or integer. \n",
    "\n",
    "# Takes only one 1D array or an integer as input from which to chose. \n",
    "\n",
    "choice = np.random.choice(arr1)\n",
    "\n",
    "print(choice)"
   ]
  },
  {
   "cell_type": "code",
   "execution_count": null,
   "metadata": {},
   "outputs": [],
   "source": [
    "choice = np.random.choice(10) # If an integer x is specified - treats it as a choice in np.arange(x) i.e from 0 to x-1 e.g.\n",
    "                              # here - it will choose between 0 to 9.\n",
    "    \n",
    "print(choice)"
   ]
  },
  {
   "cell_type": "code",
   "execution_count": null,
   "metadata": {},
   "outputs": [],
   "source": [
    "choice = np.random.choice(arr1, 5) # Size of choice specified.\n",
    "print(choice)"
   ]
  },
  {
   "cell_type": "code",
   "execution_count": null,
   "metadata": {},
   "outputs": [],
   "source": [
    "# By default - replace parameter is True i.e. if a number has been chosen, it will be put back in the array and has a chance\n",
    "# to be chosen again. By setting to false - the number is removed from array and wont be chosen again.\n",
    "\n",
    "choice = np.random.choice(arr1, 10, replace = False)\n",
    "\n",
    "print(choice)"
   ]
  },
  {
   "cell_type": "code",
   "execution_count": null,
   "metadata": {},
   "outputs": [],
   "source": [
    "# The p parameter takes probabilities i.e. if I had numbers 1 to 5 - in a uniform distribution each would have a 20% chance\n",
    "# or (0.2 probability). However, if we were to specify the probabilities, it will take those probabilities into account\n",
    "# while generating random numbers\n",
    "\n",
    "choice = np.random.choice(np.arange(3), p = [0.1,0.2,0.7], size = 10)\n",
    "\n",
    "print(choice)"
   ]
  },
  {
   "cell_type": "code",
   "execution_count": null,
   "metadata": {},
   "outputs": [],
   "source": [
    "#permutation - Returns a random permutation of input array or if integer specified random permutation of np.arrange(integer)\n",
    "\n",
    "perm = np.random.permutation(10)\n",
    "\n",
    "print(perm)"
   ]
  },
  {
   "cell_type": "code",
   "execution_count": null,
   "metadata": {},
   "outputs": [],
   "source": [
    "arr = np.arange(24).reshape(4,3,2)\n",
    "print(arr)"
   ]
  },
  {
   "cell_type": "code",
   "execution_count": null,
   "metadata": {},
   "outputs": [],
   "source": [
    "perm_arr = np.random.permutation(arr) #\n",
    "print(perm_arr)\n",
    "\n",
    "\n",
    "# For a multidimensional array - it is only shuffled along the 0 index axis."
   ]
  },
  {
   "cell_type": "code",
   "execution_count": null,
   "metadata": {},
   "outputs": [],
   "source": [
    "arr = np.arange(10)\n",
    "print(arr)"
   ]
  },
  {
   "cell_type": "code",
   "execution_count": null,
   "metadata": {},
   "outputs": [],
   "source": [
    "#any - Returns true if any of the elements in the array are true. \n",
    "#all Returns true if all of the elements in the array are true."
   ]
  },
  {
   "cell_type": "code",
   "execution_count": null,
   "metadata": {},
   "outputs": [],
   "source": [
    "print(np.any(arr))\n",
    "print(np.all(arr))"
   ]
  },
  {
   "cell_type": "code",
   "execution_count": null,
   "metadata": {},
   "outputs": [],
   "source": [
    "arr_zero = np.zeros(5)\n",
    "\n",
    "print(np.any(arr_zero))\n",
    "print(np.all(arr_zero))"
   ]
  },
  {
   "cell_type": "code",
   "execution_count": null,
   "metadata": {},
   "outputs": [],
   "source": [
    "arr_alt = np.random.randint(0,2,5)\n",
    "\n",
    "print(arr_alt)"
   ]
  },
  {
   "cell_type": "code",
   "execution_count": null,
   "metadata": {},
   "outputs": [],
   "source": [
    "print(np.any(arr_alt))\n",
    "print(np.all(arr_alt))"
   ]
  },
  {
   "cell_type": "code",
   "execution_count": null,
   "metadata": {},
   "outputs": [],
   "source": [
    "arr_zero_grid = np.zeros((2,3))\n",
    "\n",
    "print(np.any(arr_zero_grid))\n",
    "print(np.all(arr_zero_grid))"
   ]
  },
  {
   "cell_type": "code",
   "execution_count": null,
   "metadata": {},
   "outputs": [],
   "source": [
    "arr_one_grid = np.ones((2,3))\n",
    "print(arr_one_grid)\n",
    "print(np.any(arr_one_grid))\n",
    "print(np.all(arr_one_grid))"
   ]
  },
  {
   "cell_type": "code",
   "execution_count": null,
   "metadata": {},
   "outputs": [],
   "source": [
    "arr = np.arange(11)\n",
    "arr10 = np.arange(11,21)\n",
    "print(arr)\n",
    "print(arr10)"
   ]
  },
  {
   "cell_type": "code",
   "execution_count": null,
   "metadata": {},
   "outputs": [],
   "source": [
    "# Append\n",
    "\n",
    "arr_n_10 = np.append(arr, arr10)\n",
    "print(arr_n_10)"
   ]
  },
  {
   "cell_type": "code",
   "execution_count": null,
   "metadata": {},
   "outputs": [],
   "source": [
    "arr_1 = np.arange(1,11).reshape(2,5)\n",
    "arr_2 = np.arange(21,31).reshape(2,5)\n",
    "\n",
    "print(arr_1)\n",
    "print(arr_2)"
   ]
  },
  {
   "cell_type": "code",
   "execution_count": null,
   "metadata": {},
   "outputs": [],
   "source": [
    "arr_1n2 = np.append(arr_1, arr_2, axis = 1)\n",
    "\n",
    "print(arr_1n2)"
   ]
  },
  {
   "cell_type": "code",
   "execution_count": null,
   "metadata": {},
   "outputs": [],
   "source": [
    "arr_1n2V = np.append(arr_1, arr_2, axis = 0)\n",
    "\n",
    "print(arr_1n2V)"
   ]
  },
  {
   "cell_type": "code",
   "execution_count": null,
   "metadata": {},
   "outputs": [],
   "source": [
    "#vstack - stacks arrays vertically\n",
    "\n",
    "arr_V = np.vstack((arr_1, arr_2))\n",
    "print(arr_V)"
   ]
  },
  {
   "cell_type": "code",
   "execution_count": null,
   "metadata": {},
   "outputs": [],
   "source": [
    "arr1x = np.arange(1,6)\n",
    "arr2x = np.arange(11,16)\n",
    "print(arr1x)\n",
    "print(arr2x)"
   ]
  },
  {
   "cell_type": "code",
   "execution_count": null,
   "metadata": {},
   "outputs": [],
   "source": [
    "arr_vx = np.vstack((arr1x, arr2x))\n",
    "arr_vx\n"
   ]
  },
  {
   "cell_type": "code",
   "execution_count": null,
   "metadata": {},
   "outputs": [],
   "source": [
    "arr_apx = np.append(arr1x, arr2x, axis = 1)\n",
    "\n",
    "arr_apx"
   ]
  },
  {
   "cell_type": "code",
   "execution_count": null,
   "metadata": {},
   "outputs": [],
   "source": [
    "arr_H = np.hstack((arr1x, arr2x))\n",
    "\n",
    "print(arr_H)"
   ]
  },
  {
   "cell_type": "code",
   "execution_count": null,
   "metadata": {},
   "outputs": [],
   "source": [
    "#sort\n",
    "\n",
    "arr_rand = np.random.randint(1,10, 20).reshape(4,5)\n",
    "print(arr_rand)"
   ]
  },
  {
   "cell_type": "code",
   "execution_count": null,
   "metadata": {},
   "outputs": [],
   "source": [
    "arr_sort = np.sort(arr_rand)\n",
    "print(arr_sort)"
   ]
  },
  {
   "cell_type": "code",
   "execution_count": null,
   "metadata": {},
   "outputs": [],
   "source": [
    "print(arr_rand)\n",
    "arr_sort = np.sort(arr_rand, axis = 0)\n",
    "print(arr_sort)"
   ]
  },
  {
   "cell_type": "code",
   "execution_count": null,
   "metadata": {},
   "outputs": [],
   "source": [
    "# insert\n",
    "\n",
    "print(arr_sort)"
   ]
  },
  {
   "cell_type": "code",
   "execution_count": null,
   "metadata": {},
   "outputs": [],
   "source": [
    "arr_ins = np.insert(arr_sort, 15, [0,0,0,0,0]).reshape(5,5)\n",
    "\n",
    "print(arr_ins)"
   ]
  },
  {
   "cell_type": "code",
   "execution_count": null,
   "metadata": {},
   "outputs": [],
   "source": [
    "arr_flat = arr_ins.flatten()\n",
    "print(arr_flat)"
   ]
  },
  {
   "cell_type": "code",
   "execution_count": null,
   "metadata": {},
   "outputs": [],
   "source": [
    "arr_flat_ins = np.insert(arr_flat, 4, 20)\n",
    "\n",
    "print(arr_flat_ins)"
   ]
  },
  {
   "cell_type": "code",
   "execution_count": null,
   "metadata": {},
   "outputs": [],
   "source": [
    "#Transpose"
   ]
  },
  {
   "cell_type": "code",
   "execution_count": null,
   "metadata": {},
   "outputs": [],
   "source": [
    "arr_1 = np.arange(1,25).reshape(4,6)\n",
    "\n",
    "arr_1"
   ]
  },
  {
   "cell_type": "code",
   "execution_count": null,
   "metadata": {},
   "outputs": [],
   "source": [
    "arr_2 = arr_1.transpose() #Returns only a view of the transposed array and does not have a inplace parameter - so to see\n",
    "# the effect - must save the transposed view to a variable.\n",
    "\n",
    "arr_2"
   ]
  },
  {
   "cell_type": "code",
   "execution_count": null,
   "metadata": {},
   "outputs": [],
   "source": [
    "arr_2[2][3] = 777\n",
    "\n",
    "arr_2"
   ]
  },
  {
   "cell_type": "code",
   "execution_count": null,
   "metadata": {},
   "outputs": [],
   "source": [
    "arr_1"
   ]
  },
  {
   "cell_type": "code",
   "execution_count": null,
   "metadata": {},
   "outputs": [],
   "source": [
    "import copy\n",
    "\n",
    "arr_3 = copy.deepcopy(arr_1.transpose())"
   ]
  },
  {
   "cell_type": "code",
   "execution_count": null,
   "metadata": {},
   "outputs": [],
   "source": [
    "arr_3"
   ]
  },
  {
   "cell_type": "code",
   "execution_count": null,
   "metadata": {},
   "outputs": [],
   "source": [
    "arr_3[0][0] = 1\n",
    "\n",
    "arr_3"
   ]
  },
  {
   "cell_type": "code",
   "execution_count": null,
   "metadata": {},
   "outputs": [],
   "source": [
    "arr_1"
   ]
  },
  {
   "cell_type": "code",
   "execution_count": null,
   "metadata": {},
   "outputs": [],
   "source": [
    "arr_1 = np.arange(1,25).reshape(2,3,4)\n",
    "\n",
    "arr_1"
   ]
  },
  {
   "cell_type": "code",
   "execution_count": null,
   "metadata": {},
   "outputs": [],
   "source": [
    "arr_2 = np.transpose(arr_1, (1,0,2))\n",
    "\n",
    "arr_2.shape"
   ]
  },
  {
   "cell_type": "code",
   "execution_count": null,
   "metadata": {},
   "outputs": [],
   "source": [
    "arr_3 = np.transpose(arr_1, (1,2,0))\n",
    "arr_3.shape"
   ]
  },
  {
   "cell_type": "code",
   "execution_count": null,
   "metadata": {},
   "outputs": [],
   "source": [
    "np.dot()"
   ]
  },
  {
   "cell_type": "code",
   "execution_count": null,
   "metadata": {},
   "outputs": [],
   "source": [
    "print(dir(np))"
   ]
  },
  {
   "cell_type": "code",
   "execution_count": null,
   "metadata": {},
   "outputs": [],
   "source": []
  }
 ],
 "metadata": {
  "kernelspec": {
   "display_name": "Python 3",
   "language": "python",
   "name": "python3"
  },
  "language_info": {
   "codemirror_mode": {
    "name": "ipython",
    "version": 3
   },
   "file_extension": ".py",
   "mimetype": "text/x-python",
   "name": "python",
   "nbconvert_exporter": "python",
   "pygments_lexer": "ipython3",
   "version": "3.8.3"
  }
 },
 "nbformat": 4,
 "nbformat_minor": 5
}
