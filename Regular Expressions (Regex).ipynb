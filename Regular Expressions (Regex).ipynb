{
 "cells": [
  {
   "cell_type": "markdown",
   "metadata": {},
   "source": [
    "### Regex - Regular Expressions"
   ]
  },
  {
   "cell_type": "code",
   "execution_count": 1,
   "metadata": {},
   "outputs": [],
   "source": [
    "# Many times, we need to extract required information from given text data. For example, we want to know the number of\n",
    "# people who contacted us in the last month through Gmail or we want to know the phone numbers of employees in a company \n",
    "# whose names start with 'A' or we want to retrieve the date of births of the patients in a hospital who joined for\n",
    "# treatment for hypertension, etc. To get such information, we have to conduct a searching operation on the text data. Once\n",
    "# the required information is found, we may have to perform further operations on such data. Regular expressions are useful\n",
    "# to perform such operations on data."
   ]
  },
  {
   "cell_type": "code",
   "execution_count": 2,
   "metadata": {},
   "outputs": [
    {
     "data": {
      "text/plain": [
       "11"
      ]
     },
     "execution_count": 2,
     "metadata": {},
     "output_type": "execute_result"
    }
   ],
   "source": [
    "# Regular Expressions\n",
    "# A regular expression is a string that contains special symbols and characters to find and extract the information needed\n",
    "# by us from the given data. \n",
    "\n",
    "# Where a string method in Python to search for a substring in a string would look like this:\n",
    "\n",
    "input_str = 'Betty bought some butter but the butter was bitter so Betty bought some better butter to make\\\n",
    "the bitter butter better'\n",
    "\n",
    "sub_str = 'b'\n",
    "\n",
    "input_str.count(sub_str)"
   ]
  },
  {
   "cell_type": "code",
   "execution_count": 3,
   "metadata": {},
   "outputs": [
    {
     "name": "stdout",
     "output_type": "stream",
     "text": [
      "['b', 'b', 'b', 'b', 'b', 'b', 'b', 'b', 'b', 'b', 'b']\n"
     ]
    }
   ],
   "source": [
    "import re\n",
    "\n",
    "sub_re = 'b'\n",
    "\n",
    "result = re.findall(sub_re, input_str)\n",
    "print(result)"
   ]
  },
  {
   "cell_type": "code",
   "execution_count": 4,
   "metadata": {},
   "outputs": [
    {
     "name": "stdout",
     "output_type": "stream",
     "text": [
      "11\n"
     ]
    }
   ],
   "source": [
    "print(len(result))\n",
    "\n",
    "# We can use the findall method of the re module to look for all the occurrences of 'b'. "
   ]
  },
  {
   "cell_type": "code",
   "execution_count": 5,
   "metadata": {},
   "outputs": [
    {
     "name": "stdout",
     "output_type": "stream",
     "text": [
      "['B', 'b', 'b', 'b', 'b', 'b', 'B', 'b', 'b', 'b', 'b', 'b', 'b']\n",
      "13\n"
     ]
    }
   ],
   "source": [
    "# However, if we wanted to find out all the occurrences of b - whether small or capital, we would have to do some\n",
    "# manipulations to get the desired result. Regex gives us tools to handle these queries and operations in a much simpler\n",
    "# manner. \n",
    "\n",
    "input_str = 'Betty bought some butter but the butter was bitter so Betty bought some better butter to make\\\n",
    "the bitter butter better'\n",
    "\n",
    "sub_re = '[bB]'\n",
    "result = re.findall(sub_re, input_str)\n",
    "print(result)\n",
    "print(len(result))\n"
   ]
  },
  {
   "cell_type": "code",
   "execution_count": 6,
   "metadata": {},
   "outputs": [],
   "source": [
    "# Note here how the capital B was also returned in the result. We shall see the other available methods in regex module \n",
    "# shortly."
   ]
  },
  {
   "cell_type": "code",
   "execution_count": 7,
   "metadata": {},
   "outputs": [],
   "source": [
    "# A regular expression helps us to search match, find and split based on specified patterns as per\n",
    "# our requirements. A regular expression is also called simply regex. Regular expressions are available in many languages\n",
    "# besides Python. \n",
    "\n",
    "\n",
    "# Python provides re module that stands for regular expressions. This module contains methods\n",
    "# like compile(), search(), match(), findall(), split(), etc. which are used in finding the information in\n",
    "# the available data. So, when we write a regular expression, we should import re module as:\n",
    "\n",
    "import re"
   ]
  },
  {
   "cell_type": "markdown",
   "metadata": {},
   "source": [
    "#### The re module has several methods to help us write regex. \n",
    "\n",
    "search - returns a match object if the substring is matched in the string to be searched. It returns only the first\n",
    "occurrence of the match.\n",
    "\n",
    "findall - returns a list containing all matches\n",
    "\n",
    "split - returns a list where string has been split at each pattern match. \n",
    "\n",
    "sub - replaces one or many pattern matches with a specified string. \n",
    "\n",
    "As well as other methods which we shall see in a bit."
   ]
  },
  {
   "cell_type": "code",
   "execution_count": 8,
   "metadata": {},
   "outputs": [],
   "source": [
    "# While going forward - it is important to remember that the RegEx module works character by character from left to right \n",
    "# i.e. continues matching the pattern and keeps going on as long as the conditions for matching are continuing to be\n",
    "# satisfied (or not satisfied depending on how the regex pattern is written). You shall see examples of this later in the\n",
    "# class."
   ]
  },
  {
   "cell_type": "code",
   "execution_count": 9,
   "metadata": {},
   "outputs": [],
   "source": [
    "# List of special sequences. A special sequence is a \\ followed by one of the characters from list below and each special\n",
    "# sequence has a special meaning.\n",
    "\n",
    "# Special Sequence             Description\n",
    "# \\A                           Matches if the string begins with the given pattern\n",
    "\n",
    "# \\b                           Matches if the word begins or ends with the given character.(\\b before pattern to check if it\n",
    "#                              begins with the pattern and \\b after pattern to see if it ends with the specified pattern).\n",
    "# \\B                           It is the opposite of the \\b i.e. the string should not start or end with the given regex.\n",
    "# \\d                           Matches any decimal digit, this is equivalent to the set class [0-9]\n",
    "# \\D                           Matches any non-digit character, this is equivalent to the set class [^0-9]\n",
    "# \\s                           Matches any whitespace character.\n",
    "# \\S                           Matches any non-whitespace character\n",
    "# \\w                           Matches any alphanumeric character, this is equivalent to the class [a-zA-Z0-9_].\n",
    "# \\W                           Matches any non-alphanumeric character.\n",
    "# \\Z                           Matches if the string ends with the given regex"
   ]
  },
  {
   "cell_type": "code",
   "execution_count": 10,
   "metadata": {},
   "outputs": [],
   "source": [
    "input_str = 'B3t!y b0u6ht some butt3r but the butt3r w@s b!tt3r s0 Betty b0u6ht s0me b3tt3r butt3r to m@k3 the b!tt3r\\\n",
    "butt3r b3tt3r.'"
   ]
  },
  {
   "cell_type": "code",
   "execution_count": 11,
   "metadata": {},
   "outputs": [
    {
     "name": "stdout",
     "output_type": "stream",
     "text": [
      "['B', 'b', 'b', 'b', 'b', 'b', 'B', 'b', 'b', 'b', 'b', 'b', 'b']\n"
     ]
    }
   ],
   "source": [
    "sub_str = '[bB]'\n",
    "\n",
    "result = re.findall(sub_str, input_str)\n",
    "print(result)\n",
    "\n",
    "# The findall function takes the two parameters, substring and the string to be searched. It returns the matches in a list \n",
    "# in the order they are found. If no matches are found, it returns an empty list."
   ]
  },
  {
   "cell_type": "code",
   "execution_count": 12,
   "metadata": {},
   "outputs": [
    {
     "name": "stdout",
     "output_type": "stream",
     "text": [
      "['B3t', 'y', 'b0u6ht', 'some', 'butt3r', 'but', 'the', 'butt3r', 'w', 's', 'b', 'tt3r', 's0', 'Betty', 'b0u6ht', 's0me', 'b3tt3r', 'butt3r', 'to', 'm', 'k3', 'the', 'b', 'tt3rbutt3r', 'b3tt3r']\n"
     ]
    }
   ],
   "source": [
    "#\\A Returns a match if the specified characters are at the beginning of the string(NOT words but the whole string)\n",
    "sub_str = r'\\w+'\n",
    "\n",
    "print(re.findall(sub_str, input_str))"
   ]
  },
  {
   "cell_type": "code",
   "execution_count": 13,
   "metadata": {},
   "outputs": [
    {
     "name": "stdout",
     "output_type": "stream",
     "text": [
      "<re.Match object; span=(0, 3), match='B3t'>\n"
     ]
    }
   ],
   "source": [
    "result = re.search(sub_str, input_str)\n",
    "\n",
    "print(result)"
   ]
  },
  {
   "cell_type": "code",
   "execution_count": 14,
   "metadata": {},
   "outputs": [],
   "source": [
    "# Note here how we started using r denoting (raw-string) before the regex? This is because in Regex \\ is used in front of\n",
    "# many shorthand notations while \\ is also an escape character in Python. To avoid conflict, we always put regular\n",
    "# expressions to be searched in r format. "
   ]
  },
  {
   "cell_type": "code",
   "execution_count": 15,
   "metadata": {},
   "outputs": [
    {
     "name": "stdout",
     "output_type": "stream",
     "text": [
      "None\n"
     ]
    }
   ],
   "source": [
    "input_str = 'B3t!y b0u6ht some butt3r but the butt3r w@s b!tt3r s0 Betty b0u6ht s0me b3tt3r butt3r to m@k3 the b!tt3r\\\n",
    "butt3r b3tt3r.'\n",
    "\n",
    "sub_str = '\\bbu\\w+'\n",
    "\n",
    "result = re.search(sub_str, input_str)\n",
    "\n",
    "print(result)\n",
    "#print(result.group())\n",
    "\n",
    "#Note the result when not putting the r rawstring"
   ]
  },
  {
   "cell_type": "code",
   "execution_count": 16,
   "metadata": {},
   "outputs": [
    {
     "name": "stdout",
     "output_type": "stream",
     "text": [
      "<re.Match object; span=(18, 24), match='butt3r'>\n",
      "butt3r\n"
     ]
    }
   ],
   "source": [
    "#Workaround\n",
    "\n",
    "sub_str = '\\\\bbu\\\\w+'\n",
    "\n",
    "result = re.search(sub_str, input_str)\n",
    "\n",
    "print(result)\n",
    "print(result.group())"
   ]
  },
  {
   "cell_type": "code",
   "execution_count": 17,
   "metadata": {},
   "outputs": [
    {
     "name": "stdout",
     "output_type": "stream",
     "text": [
      "<re.Match object; span=(18, 24), match='butt3r'>\n",
      "butt3r\n"
     ]
    }
   ],
   "source": [
    "#Easiest way\n",
    "\n",
    "sub_str = r'\\bbu\\w+'\n",
    "\n",
    "result = re.search(sub_str, input_str)\n",
    "\n",
    "print(result)\n",
    "print(result.group())"
   ]
  },
  {
   "cell_type": "code",
   "execution_count": 18,
   "metadata": {},
   "outputs": [
    {
     "name": "stdout",
     "output_type": "stream",
     "text": [
      "<callable_iterator object at 0x000001D647F7D940>\n",
      "butt3r (18, 24)\n",
      "but (25, 28)\n",
      "butt3r (33, 39)\n",
      "butt3r (79, 85)\n"
     ]
    }
   ],
   "source": [
    "input_str = 'B3t!y b0u6ht some butt3r but the butt3r w@s b!tt3r s0 Betty b0u6ht s0me b3tt3r butt3r to m@k3 the b!tt3r\\\n",
    "butt3r b3tt3r.'\n",
    "result = re.finditer(sub_str, input_str)\n",
    "\n",
    "print(result)\n",
    "\n",
    "for x in result:\n",
    "    print(x.group(), x.span())"
   ]
  },
  {
   "cell_type": "code",
   "execution_count": 19,
   "metadata": {},
   "outputs": [],
   "source": [
    "for x in result:\n",
    "    print(x.group(), x.span())"
   ]
  },
  {
   "cell_type": "code",
   "execution_count": 20,
   "metadata": {},
   "outputs": [
    {
     "name": "stdout",
     "output_type": "stream",
     "text": [
      "<re.Match object; span=(13, 17), match='some'>\n"
     ]
    }
   ],
   "source": [
    "#\\b Returns a match if the specificed characters are at the beginning or end of a word. \n",
    "\n",
    "\n",
    "input_str = 'B3tty b0u6ht some butt3r but the butt3r w@s bitt3r s0 Betty b0u6ht s0me b3tt3r butt3r to m@k3 the bitt3r \\\n",
    "butt3r b3tt3r'\n",
    "\n",
    "sub_str = r'\\bs\\w+'\n",
    "\n",
    "result = re.search(sub_str, input_str)\n",
    "print(result)"
   ]
  },
  {
   "cell_type": "code",
   "execution_count": 21,
   "metadata": {},
   "outputs": [
    {
     "name": "stdout",
     "output_type": "stream",
     "text": [
      "['some', 's0', 's0me']\n"
     ]
    }
   ],
   "source": [
    "result = re.findall(sub_str, input_str)\n",
    "print(result)"
   ]
  },
  {
   "cell_type": "code",
   "execution_count": 22,
   "metadata": {},
   "outputs": [
    {
     "name": "stdout",
     "output_type": "stream",
     "text": [
      "[' b0u6ht', ' butt3r', ' but', ' butt3r', ' Betty', ' b0u6ht', ' b3tt3r', ' butt3r', ' b3tt3r']\n"
     ]
    }
   ],
   "source": [
    "input_str = 'B3tty b0u6ht some butt3r but the butt3r w@s b!tt3r s0 Betty b0u6ht s0me b3tt3r butt3r to m@k3 the b!tt3r\\\n",
    "butt3r b3tt3r.'\n",
    "\n",
    "sub_str = r'\\b\\s\\w+t\\w*'\n",
    "\n",
    "result = re.findall(sub_str, input_str)\n",
    "print(result)"
   ]
  },
  {
   "cell_type": "code",
   "execution_count": 23,
   "metadata": {},
   "outputs": [
    {
     "name": "stdout",
     "output_type": "stream",
     "text": [
      "<re.Match object; span=(29, 32), match='the'>\n",
      "29\n"
     ]
    }
   ],
   "source": [
    "sub_str = r'\\bt\\w+'\n",
    "\n",
    "result = re.search(sub_str, input_str)\n",
    "print(result)\n",
    "\n",
    "print(input_str.index('the'))"
   ]
  },
  {
   "cell_type": "code",
   "execution_count": 24,
   "metadata": {},
   "outputs": [
    {
     "name": "stdout",
     "output_type": "stream",
     "text": [
      "<re.Match object; span=(6, 12), match='b0u6ht'>\n",
      "6\n"
     ]
    }
   ],
   "source": [
    "input_str = 'B3tty b0u6ht some butt3r but the butt3r w@s b!tt3r s0 Betty b0u6ht s0me b3tt3r butt3r to m@k3 the b!tt3r\\\n",
    "butt3r b3tt3r.'\n",
    "\n",
    "sub_str = r'\\bb0u6\\w*'\n",
    "\n",
    "result = re.search(sub_str, input_str)\n",
    "print(result)\n",
    "\n",
    "print(input_str.index('b0u6'))"
   ]
  },
  {
   "cell_type": "code",
   "execution_count": 25,
   "metadata": {},
   "outputs": [
    {
     "name": "stdout",
     "output_type": "stream",
     "text": [
      "Found match b0u6ht beginning at 6 and ending at 12 and span is (6, 12).\n"
     ]
    }
   ],
   "source": [
    "# for x in result:\n",
    "    \n",
    "    \n",
    "#     print('-'*100)\n",
    "#     print(x)\n",
    "print(f'Found match {result.group()} beginning at {result.start()} and ending at {result.end()} and span is {result.span()}.')"
   ]
  },
  {
   "cell_type": "code",
   "execution_count": 26,
   "metadata": {},
   "outputs": [
    {
     "ename": "NameError",
     "evalue": "name 'lst_match' is not defined",
     "output_type": "error",
     "traceback": [
      "\u001b[1;31m---------------------------------------------------------------------------\u001b[0m",
      "\u001b[1;31mNameError\u001b[0m                                 Traceback (most recent call last)",
      "\u001b[1;32m<ipython-input-26-8f3c63fe296c>\u001b[0m in \u001b[0;36m<module>\u001b[1;34m\u001b[0m\n\u001b[1;32m----> 1\u001b[1;33m \u001b[0mprint\u001b[0m\u001b[1;33m(\u001b[0m\u001b[0mlst_match\u001b[0m\u001b[1;33m)\u001b[0m\u001b[1;33m\u001b[0m\u001b[1;33m\u001b[0m\u001b[0m\n\u001b[0m",
      "\u001b[1;31mNameError\u001b[0m: name 'lst_match' is not defined"
     ]
    }
   ],
   "source": [
    "print(lst_match)\n"
   ]
  },
  {
   "cell_type": "code",
   "execution_count": 27,
   "metadata": {},
   "outputs": [
    {
     "name": "stdout",
     "output_type": "stream",
     "text": [
      "B3tty b0u6ht some butt3r but the butt3r w@s b!tt3r s0 Betty b0u6ht s0me b3tt3r butt3r to m@k3 the b!tt3rbutt3r b3tt3r.\n"
     ]
    }
   ],
   "source": [
    "print(result.string)"
   ]
  },
  {
   "cell_type": "code",
   "execution_count": 28,
   "metadata": {},
   "outputs": [],
   "source": [
    "# The match object returned from the search function has the following methods to retrieve the information:\n",
    "\n",
    "# .span() - returns the beginning and end index numbers of the matched string in a tuple. \n",
    "# .string - returns the string passed into the function to be searched. \n",
    "# .group() - returns the part of the string where there was a match. \n",
    "# .start() - returns the start index\n",
    "# .end() - returns the end index"
   ]
  },
  {
   "cell_type": "code",
   "execution_count": 29,
   "metadata": {},
   "outputs": [
    {
     "name": "stdout",
     "output_type": "stream",
     "text": [
      "<re.Match object; span=(6, 12), match='b0u6ht'>\n"
     ]
    }
   ],
   "source": [
    "print(result)"
   ]
  },
  {
   "cell_type": "code",
   "execution_count": 30,
   "metadata": {},
   "outputs": [
    {
     "name": "stdout",
     "output_type": "stream",
     "text": [
      "(6, 12)\n"
     ]
    }
   ],
   "source": [
    "print(result.span())"
   ]
  },
  {
   "cell_type": "code",
   "execution_count": 31,
   "metadata": {},
   "outputs": [
    {
     "name": "stdout",
     "output_type": "stream",
     "text": [
      "6\n"
     ]
    }
   ],
   "source": [
    "print(result.start())"
   ]
  },
  {
   "cell_type": "code",
   "execution_count": 32,
   "metadata": {},
   "outputs": [
    {
     "name": "stdout",
     "output_type": "stream",
     "text": [
      "12\n"
     ]
    }
   ],
   "source": [
    "print(result.end())"
   ]
  },
  {
   "cell_type": "code",
   "execution_count": 33,
   "metadata": {},
   "outputs": [
    {
     "name": "stdout",
     "output_type": "stream",
     "text": [
      "B3tty b0u6ht some butt3r but the butt3r w@s b!tt3r s0 Betty b0u6ht s0me b3tt3r butt3r to m@k3 the b!tt3rbutt3r b3tt3r.\n"
     ]
    }
   ],
   "source": [
    "print(result.string)\n",
    "#'B3tty b0u6ht some butt3r but the butt3r w@s b!tt3r s0 Betty b0u6ht s0me b3tt3r butt3r to m@k3 the b!tt3r\\\n",
    "#butt3r b3tt3r.'"
   ]
  },
  {
   "cell_type": "code",
   "execution_count": 34,
   "metadata": {},
   "outputs": [
    {
     "name": "stdout",
     "output_type": "stream",
     "text": [
      "b0u6ht\n"
     ]
    }
   ],
   "source": [
    "print(result.group())"
   ]
  },
  {
   "cell_type": "code",
   "execution_count": 35,
   "metadata": {},
   "outputs": [
    {
     "name": "stdout",
     "output_type": "stream",
     "text": [
      "<callable_iterator object at 0x000001D649005940>\n",
      "----------------------------------------------------------------------------------------------------\n",
      "<re.Match object; span=(18, 24), match='butt3r'>\n",
      "Found match butt3r beginning at 18 and ending at 24.\n",
      "----------------------------------------------------------------------------------------------------\n",
      "<re.Match object; span=(33, 39), match='butt3r'>\n",
      "Found match butt3r beginning at 33 and ending at 39.\n",
      "----------------------------------------------------------------------------------------------------\n",
      "<re.Match object; span=(79, 85), match='butt3r'>\n",
      "Found match butt3r beginning at 79 and ending at 85.\n",
      "----------------------------------------------------------------------------------------------------\n",
      "<re.Match object; span=(104, 110), match='butt3r'>\n",
      "Found match butt3r beginning at 104 and ending at 110.\n"
     ]
    }
   ],
   "source": [
    "#Finding all match objects for a pattern using finditer\n",
    "\n",
    "input_str = 'B3tty b0u6ht some butt3r but the butt3r w@s b!tt3r s0 Betty b0u6ht s0me b3tt3r butt3r to m@k3 the b!tt3r\\\n",
    "butt3r b3tt3r.'\n",
    "\n",
    "sub_str = 'but\\w+'\n",
    "\n",
    "result = re.finditer(sub_str, input_str)\n",
    "\n",
    "print(result)\n",
    "\n",
    "for x in result:\n",
    "    print('-'*100)\n",
    "    print(x)\n",
    "    print(f'Found match {x.group()} beginning at {x.start()} and ending at {x.end()}.')\n"
   ]
  },
  {
   "cell_type": "code",
   "execution_count": 36,
   "metadata": {},
   "outputs": [
    {
     "name": "stdout",
     "output_type": "stream",
     "text": [
      "['some', 'the', 's0me', 'the']\n"
     ]
    }
   ],
   "source": [
    "input_str = 'B3tty b0u6ht some butt3r but the butt3r w@s b!tt3r s0 Betty b0u6ht s0me b3tt3r butt3r to m@k3 the b!tt3r\\\n",
    "butt3r b3tt3r.'\n",
    "\n",
    "sub_str = r'\\w+e\\b'\n",
    "\n",
    "result = re.findall(sub_str, input_str)\n",
    "\n",
    "print(result)"
   ]
  },
  {
   "cell_type": "code",
   "execution_count": 37,
   "metadata": {},
   "outputs": [],
   "source": [
    "#\\w returns a match where the strings contains any word characters - upper, lower case alphabets, digits - 0 to 9 and _\n",
    "# underscore. \n",
    "# + (outside square brackets) is a metacharacter specifying 1 or more occurrences. \n",
    "\n",
    "# So in the above substring - r'\\bbu\\w+' - we specified:\n",
    "\n",
    "# r - this is a raw string - do not consider \\ escape characters. \n",
    "# '' - quotes denoting strings.\n",
    "# \\b - pattern begins with\n",
    "# bu - characters to search - so, pattern we are looking for - begins with 'bu'\n",
    "# \\w - After 'bu' search for any word character\n",
    "# + - One or more occurrences of word character. \n",
    "\n",
    "# So, in summary: \n",
    "\n",
    "# Search for a pattern in the string which begins with 'bu' and has one or more word characters after bu. Note here that - \n",
    "# it wont catch 'bu' if it occurred in the input string in this case."
   ]
  },
  {
   "cell_type": "code",
   "execution_count": 38,
   "metadata": {},
   "outputs": [
    {
     "name": "stdout",
     "output_type": "stream",
     "text": [
      "but\n"
     ]
    }
   ],
   "source": [
    "input_str = 'B3tty b0u6ht some bu but the butt3r w@s b!tt3r s0 betty b0u6ht s0me b3tt3r butt3r to m@k3 the b!tt3r\\\n",
    "butt3r b3tt3r.'\n",
    "\n",
    "sub_str = r'\\bbu\\w+'\n",
    "result = re.search(sub_str, input_str)\n",
    "\n",
    "print(result.group())"
   ]
  },
  {
   "cell_type": "code",
   "execution_count": 39,
   "metadata": {},
   "outputs": [
    {
     "name": "stdout",
     "output_type": "stream",
     "text": [
      "bu\n"
     ]
    }
   ],
   "source": [
    "# Changing the + to * will return bu. \n",
    "\n",
    "sub_str = r'\\bbu\\w*'\n",
    "\n",
    "result = re.search(sub_str, input_str)\n",
    "\n",
    "print(result.group())"
   ]
  },
  {
   "cell_type": "code",
   "execution_count": 40,
   "metadata": {},
   "outputs": [
    {
     "name": "stdout",
     "output_type": "stream",
     "text": [
      "butt3r\n"
     ]
    }
   ],
   "source": [
    "input_str = 'B3tty b0u6ht some butt3r but the butt3r w@s b!tt3r s0 betty b0u6ht s0me b3tt3r butt3r to m@k3 the b!tt3r\\\n",
    "butt3r b3tt3r.'\n",
    "\n",
    "sub_str = r'\\bbu\\w*'\n",
    "\n",
    "result = re.search(sub_str, input_str)\n",
    "\n",
    "print(result.group())"
   ]
  },
  {
   "cell_type": "code",
   "execution_count": 41,
   "metadata": {},
   "outputs": [
    {
     "name": "stdout",
     "output_type": "stream",
     "text": [
      "None\n"
     ]
    }
   ],
   "source": [
    "c='which one is yon on'\n",
    "sub_str = r'\\Bon'\n",
    "\n",
    "result = re.search(sub_str, input_str)\n",
    "\n",
    "print(result)\n"
   ]
  },
  {
   "cell_type": "code",
   "execution_count": 42,
   "metadata": {},
   "outputs": [
    {
     "name": "stdout",
     "output_type": "stream",
     "text": [
      "B3tty b0u6ht some butt3r but the butt3r w@s b!tt3r s0 Betty b0u6ht s0me b3tt3r butt3r to m@k3 the b!tt3rbutt3r b3tt3r.\n"
     ]
    }
   ],
   "source": [
    "# \\B Returns a match where the specified pattern is NOT at beginning or end of string.\n",
    "\n",
    "\n",
    "input_str = 'B3tty b0u6ht some butt3r but the butt3r w@s b!tt3r s0 Betty b0u6ht s0me b3tt3r butt3r to m@k3 the b!tt3r\\\n",
    "butt3r b3tt3r.'\n",
    "\n",
    "print(input_str)"
   ]
  },
  {
   "cell_type": "code",
   "execution_count": 43,
   "metadata": {},
   "outputs": [
    {
     "name": "stdout",
     "output_type": "stream",
     "text": [
      "<re.Match object; span=(104, 106), match='bu'>\n"
     ]
    }
   ],
   "source": [
    "sub_str = r'\\Bbu'\n",
    "\n",
    "result = re.search(sub_str, input_str)\n",
    "\n",
    "print(result)"
   ]
  },
  {
   "cell_type": "code",
   "execution_count": 44,
   "metadata": {},
   "outputs": [
    {
     "name": "stdout",
     "output_type": "stream",
     "text": [
      "<re.Match object; span=(30, 32), match='he'>\n",
      "he\n"
     ]
    }
   ],
   "source": [
    "input_str = 'B3tty b0u6ht some butt3r but the butt3r w@s b!tt3r s0 Betty b0u6ht s0me b3tt3r butt3r to m@k3 the b!tt3r\\\n",
    "butt3r b3tt3r.'\n",
    "\n",
    "sub_str = r'\\Bhe'\n",
    "\n",
    "result = re.search(sub_str, input_str)\n",
    "\n",
    "print(result)\n",
    "print(result.group())"
   ]
  },
  {
   "cell_type": "code",
   "execution_count": 45,
   "metadata": {},
   "outputs": [
    {
     "name": "stdout",
     "output_type": "stream",
     "text": [
      "<re.Match object; span=(78, 84), match='butt3r'>\n",
      "butt3r\n"
     ]
    }
   ],
   "source": [
    "input_str = 'B3tty b0u6ht some butt3r but the butt3r w@s b!tt3r s0 Betty b0u6ht s0me s3tt3rbutt3r to m@k3 the b!tt3r \\\n",
    "butt3r b3tt3r.'\n",
    "\n",
    "sub_str = r'\\Bbu\\w+'\n",
    "\n",
    "result = re.search(sub_str, input_str)\n",
    "\n",
    "print(result)\n",
    "print(result.group())"
   ]
  },
  {
   "cell_type": "code",
   "execution_count": 46,
   "metadata": {},
   "outputs": [
    {
     "name": "stdout",
     "output_type": "stream",
     "text": [
      "[]\n"
     ]
    }
   ],
   "source": [
    "sub_str = r'\\w+ht\\B'\n",
    "\n",
    "result = re.findall(sub_str, input_str)\n",
    "\n",
    "print(result)"
   ]
  },
  {
   "cell_type": "code",
   "execution_count": 47,
   "metadata": {},
   "outputs": [],
   "source": [
    "input_str = 'B3tty b0u6ht some butt3r but the butt3r w@s b!tt3r s0 betty b0u6ht s0me b3tt3r butt3r to m@k3 the b!tt3r \\\n",
    "butt3r b3tt3r.'"
   ]
  },
  {
   "cell_type": "code",
   "execution_count": 48,
   "metadata": {},
   "outputs": [
    {
     "name": "stdout",
     "output_type": "stream",
     "text": [
      "['3tty', '0u6ht', '3r', '3r', '3r', '0u6ht', '0me', '3tt3r', '3r', '3r', '3r', '3tt3r']\n"
     ]
    }
   ],
   "source": [
    "#\\d Returns a match where the string contains digits.\n",
    "\n",
    "sub_str = r'\\d\\w+'\n",
    "\n",
    "result = re.findall(sub_str, input_str)\n",
    "\n",
    "print(result)\n",
    "\n"
   ]
  },
  {
   "cell_type": "code",
   "execution_count": 49,
   "metadata": {},
   "outputs": [],
   "source": [
    "# Note here how '6ht' and '3r' are not separate outputs from '0u6ht' and '3tt3r'. This is because the regex takes a match\n",
    "# till the pattern continues to match and starts searching for the next match from the next index number. "
   ]
  },
  {
   "cell_type": "code",
   "execution_count": 50,
   "metadata": {},
   "outputs": [
    {
     "name": "stdout",
     "output_type": "stream",
     "text": [
      "['B3tty', 'b0u6ht', 'butt3r', 'butt3r', 'tt3r', 'b0u6ht', 's0me', 'b3tt3r', 'butt3r', 'tt3r', 'butt3r', 'b3tt3r']\n"
     ]
    }
   ],
   "source": [
    "sub_str = r'\\w+\\d\\w+'\n",
    "\n",
    "result = re.findall(sub_str, input_str)\n",
    "\n",
    "print(result)"
   ]
  },
  {
   "cell_type": "code",
   "execution_count": 51,
   "metadata": {},
   "outputs": [],
   "source": [
    "input_str = 'B3tty b0u6ht some butt3r but the butt3r w@s b!tt3r s0 betty b0u6ht s0me b3tt3r butt3r to m@k3 the b!tt3r \\\n",
    "butt3r b3tt3r.'"
   ]
  },
  {
   "cell_type": "code",
   "execution_count": 52,
   "metadata": {},
   "outputs": [],
   "source": [
    "#\\s Returns a match where the string contains a space character. \n"
   ]
  },
  {
   "cell_type": "code",
   "execution_count": 53,
   "metadata": {},
   "outputs": [
    {
     "name": "stdout",
     "output_type": "stream",
     "text": [
      "['B3tty b0u6ht', 'some butt3r', 'the butt3r', 's0 betty', 's0me b3tt3r', 'tt3r butt3r']\n"
     ]
    }
   ],
   "source": [
    "sub_str = r'\\w+\\sb\\w+'\n",
    "\n",
    "result = re.findall(sub_str, input_str)\n",
    "\n",
    "print(result)"
   ]
  },
  {
   "cell_type": "code",
   "execution_count": 54,
   "metadata": {},
   "outputs": [
    {
     "name": "stdout",
     "output_type": "stream",
     "text": [
      "['B3tty', 'butt3r', 'butt3r', 'b!tt3r', 'betty', 'b3tt3r', 'butt3r', 'b!tt3r', 'butt3r', 'b3tt3r']\n"
     ]
    }
   ],
   "source": [
    "sub_str = r'\\w+\\St\\w+'\n",
    "\n",
    "result = re.findall(sub_str, input_str)\n",
    "\n",
    "print(result)"
   ]
  },
  {
   "cell_type": "code",
   "execution_count": 55,
   "metadata": {},
   "outputs": [
    {
     "name": "stdout",
     "output_type": "stream",
     "text": [
      "['B3ttyb0u6ht', 'butt3rbut', 'b3tt3rbutt3r']\n"
     ]
    }
   ],
   "source": [
    "input_str = 'B3ttyb0u6ht some butt3rbut the butt3r w@s b!tt3r s0 betty b0u6ht s0me b3tt3rbutt3r to m@k3 the b!tt3r \\\n",
    "butt3r b3tt3r.'\n",
    "\n",
    "sub_str = r'\\w+\\Sb\\w+'\n",
    "\n",
    "result = re.findall(sub_str, input_str)\n",
    "\n",
    "print(result)"
   ]
  },
  {
   "cell_type": "code",
   "execution_count": 56,
   "metadata": {},
   "outputs": [
    {
     "name": "stdout",
     "output_type": "stream",
     "text": [
      "['B', '3', 't', 't', 'y', 'b', '0', 'u', '6', 'h', 't', 's', 'o', 'm', 'e', 'b', 'u', 't', 't', '3', 'r', 'b', 'u', 't', 't', 'h', 'e', 'b', 'u', 't', 't', '3', 'r', 'w', 's', 'b', 't', 't', '3', 'r', 's', '0', 'b', 'e', 't', 't', 'y', 'b', '0', 'u', '6', 'h', 't', 's', '0', 'm', 'e', 'b', '3', 't', 't', '3', 'r', 'b', 'u', 't', 't', '3', 'r', 't', 'o', 'm', 'k', '3', 't', 'h', 'e', 'b', 't', 't', '3', 'r', 'b', 'u', 't', 't', '3', 'r', 'b', '3', 't', 't', '3', 'r']\n"
     ]
    }
   ],
   "source": [
    "#\\w Returns a match where the pattern match contains any word characters - a to z, A to Z and 0 to 9\n",
    "\n",
    "input_str = 'B3tty b0u6ht some butt3r but the butt3r w@s b!tt3r s0 betty b0u6ht s0me b3tt3r butt3r to m@k3 the b!tt3r \\\n",
    "butt3r b3tt3r.'\n",
    "\n",
    "sub_str = r'\\w'\n",
    "\n",
    "result = re.findall(sub_str, input_str)\n",
    "\n",
    "print(result)"
   ]
  },
  {
   "cell_type": "code",
   "execution_count": 57,
   "metadata": {},
   "outputs": [
    {
     "name": "stdout",
     "output_type": "stream",
     "text": [
      "['B3tty b0u6ht', 'some butt3r', 'but the', 'butt3r w', 's b', 'tt3r s0', 'betty b0u6ht', 's0me b3tt3r', 'butt3r to', 'm@k3', 'the b', 'tt3r butt3r']\n"
     ]
    }
   ],
   "source": [
    "sub_str = r'\\w+\\W\\w+'\n",
    "\n",
    "result = re.findall(sub_str, input_str)\n",
    "\n",
    "print(result)"
   ]
  },
  {
   "cell_type": "code",
   "execution_count": 58,
   "metadata": {},
   "outputs": [
    {
     "name": "stdout",
     "output_type": "stream",
     "text": [
      "<re.Match object; span=(116, 118), match='3r'>\n",
      "116\n",
      "B3tty b0u6ht some butt3r but the butt3r w@s b!tt3r s0 betty b0u6ht s0me b3tt3r butt3r to m@k3 the b!tt3r butt3r b3tt\n"
     ]
    }
   ],
   "source": [
    "#\\Z - returns a match if the pattern is found at the end of the string(not each word)\n",
    "\n",
    "input_str = 'B3tty b0u6ht some butt3r but the butt3r w@s b!tt3r s0 betty b0u6ht s0me b3tt3r butt3r to m@k3 the b!tt3r \\\n",
    "butt3r b3tt3r'\n",
    "\n",
    "sub_str = r'3r\\Z'\n",
    "\n",
    "result = re.search(sub_str,input_str)\n",
    "\n",
    "print(result)\n",
    "print(result.start())\n",
    "\n",
    "print(input_str[:116])"
   ]
  },
  {
   "cell_type": "code",
   "execution_count": 59,
   "metadata": {},
   "outputs": [],
   "source": [
    "# There are also Metacharacters.\n",
    "\n",
    "# MetaCharacters               Description\n",
    "# \\                            Used to drop the special meaning of character following it\n",
    "# []                           Represent a character class\n",
    "# ^                            Matches the beginning\n",
    "# $                            Matches the end\n",
    "# .                            Matches any character except newline\n",
    "# |                            Means OR (Matches with any of the characters separated by it.\n",
    "\n",
    "# And Quantifiers\n",
    "\n",
    "# ?                            Matches zero or one occurrence - It signifies optional character.\n",
    "# *                            Any number of occurrences (including 0 occurrences)\n",
    "# +                            One or more occurrences\n",
    "# {}                           Indicate the number of occurrences of a preceding regex to match.\n",
    "# ()                           Enclose a group of Regex\n"
   ]
  },
  {
   "cell_type": "code",
   "execution_count": 60,
   "metadata": {},
   "outputs": [],
   "source": [
    "# Metacharacters - Characters with special meaning in RegEx"
   ]
  },
  {
   "cell_type": "code",
   "execution_count": 61,
   "metadata": {},
   "outputs": [],
   "source": [
    "input_str = 'B3tty b0u6ht some bu\\tt3r but the butt3r w@s b!tt3r s0 betty b0u6ht s0me b3tt3r butt3r to m@k3 the b!tt3r\\\n",
    "butt3r b3tt3r.'"
   ]
  },
  {
   "cell_type": "code",
   "execution_count": 62,
   "metadata": {},
   "outputs": [],
   "source": [
    "#[] Any 'set' of characters inside the braces. "
   ]
  },
  {
   "cell_type": "code",
   "execution_count": 63,
   "metadata": {},
   "outputs": [
    {
     "name": "stdout",
     "output_type": "stream",
     "text": [
      "['B3tty', 'b0u6ht', 'the', 'butt3r', 'tt3r', 'betty', 'b0u6ht', 'b3tt3r', 'butt3r', 'the', 'tt3rbutt3r', 'b3tt3r']\n"
     ]
    }
   ],
   "source": [
    "input_str = 'B3tty b0u6ht some bu\\tt3r but the butt3r w@s b!tt3r s0 betty b0u6ht s0me b3tt3r butt3r to m@k3 the b!tt3r\\\n",
    "butt3r b3tt3r.'\n",
    "\n",
    "sub_str = r'\\w+[ht]\\w+'\n",
    "\n",
    "result = re.findall(sub_str, input_str)\n",
    "\n",
    "print(result)\n",
    "\n",
    "# Matches any word with EITHER t or h in it. Gives a match including any alphanumeric characters before and after the t or h\n",
    "# is found. "
   ]
  },
  {
   "cell_type": "code",
   "execution_count": 64,
   "metadata": {},
   "outputs": [
    {
     "name": "stdout",
     "output_type": "stream",
     "text": [
      "B3tty b0u6ht some bu\tt3r but the butt3r w@s b!tt3r s0 betty b0u6ht s0me b3tt3r butt3r to m@k3 the b!tt3rbutt3r b3tt3r.\n"
     ]
    }
   ],
   "source": [
    "input_str = 'B3tty b0u6ht some bu\\tt3r but the butt3r w@s b!tt3r s0 betty b0u6ht s0me b3tt3r butt3r to m@k3 the b!tt3r\\\n",
    "butt3r b3tt3r.'\n",
    "\n",
    "print(input_str)"
   ]
  },
  {
   "cell_type": "code",
   "execution_count": 65,
   "metadata": {},
   "outputs": [
    {
     "name": "stdout",
     "output_type": "stream",
     "text": [
      "['B3tt', 'b0u6ht', 'some', 'but', 'the', 'butt', 'tt', 'bett', 'b0u6ht', 's0me', 'b3tt', 'butt', 'the', 'tt3rbutt', 'b3tt']\n"
     ]
    }
   ],
   "source": [
    "sub_str = r'\\w+[et]'\n",
    "\n",
    "result = re.findall(sub_str, input_str)\n",
    "\n",
    "print(result)\n",
    "\n",
    "# Returns match of any words that have either e or t in them. Matches any number of characters before the e or t is found."
   ]
  },
  {
   "cell_type": "code",
   "execution_count": 66,
   "metadata": {},
   "outputs": [
    {
     "name": "stdout",
     "output_type": "stream",
     "text": [
      "['B3tt', 'b0u6ht', 'some', 'but', 'the', 'buttttt', 'tt', 'bett', 'b0u6ht', 's0me', 'b3tt', 'butt', 'the', 'tt3rbutt', 'b3tt']\n"
     ]
    }
   ],
   "source": [
    "# Note here how - 'B3tt', 'butt', 'tt', 'bett' - the match wasnt stopped as soon as the first t was found. That is because\n",
    "# regex patterns perform 'greedy' matches as much as they can match - they will try to match. In the example above - when \n",
    "# the regex program reaches the first t of b3tt - it satisfies BOTH conditions that it is an alphanumeric character \\w AND\n",
    "# it is part of the set [et], so it moves on to the next character which also satisfies both conditions - BUT we have not\n",
    "# specified that after it finds e or t - can there be any text after that? Since we have not specified that - the match\n",
    "# stops. However, if we were to add more t's after the first 2 - they would continue to get matched till the last t. \n",
    "\n",
    "input_str = 'B3tty b0u6ht some bu\\tt3r but the buttttt3r w@s b!tt3r s0 betty b0u6ht s0me b3tt3r butt3r to m@k3 the b!tt3r\\\n",
    "butt3r b3tt3r.'\n",
    "\n",
    "sub_str = r'\\w+[et]'\n",
    "\n",
    "result = re.findall(sub_str, input_str)\n",
    "\n",
    "\n",
    "print(result)\n"
   ]
  },
  {
   "cell_type": "code",
   "execution_count": 67,
   "metadata": {},
   "outputs": [
    {
     "name": "stdout",
     "output_type": "stream",
     "text": [
      "B3tty b0u6ht some butt3r but the butt3r w@s b!tt3r s0 betty b0u6ht s0me b3tt3r butt3r to m@k3 the b!tt3r butt3r b3tt3r.\n"
     ]
    }
   ],
   "source": [
    "# \\ Usually signifies a special sequence but put before a special character can be used to signify escaping. \n",
    "\n",
    "input_str = '''B3tty b0u6ht some butt3r but the butt3r w@s b!tt3r s0 betty b0u6ht s0me b3tt3r butt3r to m@k3 the b!tt3r \\\n",
    "butt3r b3tt3r.'''\n",
    "\n",
    "print(input_str)"
   ]
  },
  {
   "cell_type": "code",
   "execution_count": 68,
   "metadata": {},
   "outputs": [
    {
     "name": "stdout",
     "output_type": "stream",
     "text": [
      "None\n"
     ]
    }
   ],
   "source": [
    "sub_str = r'\\\\'\n",
    "\n",
    "result = re.search(sub_str, input_str)\n",
    "\n",
    "print(result)"
   ]
  },
  {
   "cell_type": "code",
   "execution_count": 69,
   "metadata": {},
   "outputs": [
    {
     "name": "stdout",
     "output_type": "stream",
     "text": [
      "B3tty b0u6ht some butt3r but the butt3r w@s b\\!tt3r s0 betty b0u6ht s0me b3tt3r butt3r to m@k3 the b!tt3r butt3r b3tt3r.\n"
     ]
    }
   ],
   "source": [
    "input_str = '''B3tty b0u6ht some butt3r but the butt3r w@s b\\!tt3r s0 betty b0u6ht s0me b3tt3r butt3r to m@k3 the b!tt3r \\\n",
    "butt3r b3tt3r.'''\n",
    "\n",
    "print(input_str)"
   ]
  },
  {
   "cell_type": "code",
   "execution_count": 70,
   "metadata": {},
   "outputs": [
    {
     "name": "stdout",
     "output_type": "stream",
     "text": [
      "<re.Match object; span=(45, 46), match='\\\\'>\n",
      "45\n"
     ]
    }
   ],
   "source": [
    "sub_str = r'\\\\'\n",
    "\n",
    "result = re.search(sub_str, input_str)\n",
    "\n",
    "print(result)\n",
    "print(input_str.index('\\\\'))"
   ]
  },
  {
   "cell_type": "code",
   "execution_count": 71,
   "metadata": {},
   "outputs": [
    {
     "name": "stdout",
     "output_type": "stream",
     "text": [
      "B3tty b0u6ht some butt3r but the bu\\tt3r w@s b!tt3r s0 Betty b0u6ht s0me b3tt3r butt3r to m@k3 the b!tt3rbutt3r b3tt3r.\n"
     ]
    }
   ],
   "source": [
    "input_str = 'B3tty b0u6ht some butt3r but the bu\\\\tt3r w@s b!tt3r s0 Betty b0u6ht s0me b3tt3r butt3r to m@k3 the b!tt3r\\\n",
    "butt3r b3tt3r.'\n",
    "\n",
    "print(input_str)"
   ]
  },
  {
   "cell_type": "code",
   "execution_count": 72,
   "metadata": {},
   "outputs": [
    {
     "name": "stdout",
     "output_type": "stream",
     "text": [
      "<re.Match object; span=(35, 36), match='\\\\'>\n"
     ]
    }
   ],
   "source": [
    "sub_str = r'\\\\'\n",
    "result = re.search(sub_str, input_str)\n",
    "\n",
    "print(result)"
   ]
  },
  {
   "cell_type": "code",
   "execution_count": 73,
   "metadata": {},
   "outputs": [
    {
     "name": "stdout",
     "output_type": "stream",
     "text": [
      "B3tty b0u6ht some butt3r but the bu\\tt3r w@s b!tt3r s0 Betty b0u6ht s0me b3tt3r butt3r to m@k3 the b!tt3r\\\n",
      "butt3r b3tt3r.\n"
     ]
    }
   ],
   "source": [
    "input_str = r'B3tty b0u6ht some butt3r but the bu\\tt3r w@s b!tt3r s0 Betty b0u6ht s0me b3tt3r butt3r to m@k3 the b!tt3r\\\n",
    "butt3r b3tt3r.'\n",
    "\n",
    "print(input_str)"
   ]
  },
  {
   "cell_type": "code",
   "execution_count": 74,
   "metadata": {},
   "outputs": [
    {
     "name": "stdout",
     "output_type": "stream",
     "text": [
      "<re.Match object; span=(35, 36), match='\\\\'>\n"
     ]
    }
   ],
   "source": [
    "sub_str = r'\\\\'\n",
    "\n",
    "result = re.search(sub_str, input_str)\n",
    "\n",
    "print(result)"
   ]
  },
  {
   "cell_type": "code",
   "execution_count": 75,
   "metadata": {},
   "outputs": [],
   "source": [
    "# . Signifies any character except newline characters"
   ]
  },
  {
   "cell_type": "code",
   "execution_count": 76,
   "metadata": {},
   "outputs": [
    {
     "name": "stdout",
     "output_type": "stream",
     "text": [
      "B3tty b0u6ht some butt3r but the bu\tt3r w@s b!tt3r s0 Betty b0u6ht s0me b3tt3r butt3r to m@k3 the b!tt3r \n",
      "butt3r b3tt3r.\n"
     ]
    }
   ],
   "source": [
    "import re\n",
    "\n",
    "input_str = 'B3tty b0u6ht some butt3r but the bu\\tt3r w@s b!tt3r s0 Betty b0u6ht s0me b3tt3r butt3r to m@k3 the b!tt3r \\n\\\n",
    "butt3r b3tt3r.'\n",
    "\n",
    "print(input_str)"
   ]
  },
  {
   "cell_type": "code",
   "execution_count": 77,
   "metadata": {},
   "outputs": [
    {
     "name": "stdout",
     "output_type": "stream",
     "text": [
      "['B', '3', 't', 't', 'y', ' ', 'b', '0', 'u', '6', 'h', 't', ' ', 's', 'o', 'm', 'e', ' ', 'b', 'u', 't', 't', '3', 'r', ' ', 'b', 'u', 't', ' ', 't', 'h', 'e', ' ', 'b', 'u', '\\t', 't', '3', 'r', ' ', 'w', '@', 's', ' ', 'b', '!', 't', 't', '3', 'r', ' ', 's', '0', ' ', 'B', 'e', 't', 't', 'y', ' ', 'b', '0', 'u', '6', 'h', 't', ' ', 's', '0', 'm', 'e', ' ', 'b', '3', 't', 't', '3', 'r', ' ', 'b', 'u', 't', 't', '3', 'r', ' ', 't', 'o', ' ', 'm', '@', 'k', '3', ' ', 't', 'h', 'e', ' ', 'b', '!', 't', 't', '3', 'r', ' ', 'b', 'u', 't', 't', '3', 'r', ' ', 'b', '3', 't', 't', '3', 'r', '.']\n"
     ]
    }
   ],
   "source": [
    "sub_str = r'.'\n",
    "\n",
    "result = re.findall(sub_str,input_str)\n",
    "\n",
    "print(result)"
   ]
  },
  {
   "cell_type": "code",
   "execution_count": 78,
   "metadata": {},
   "outputs": [
    {
     "name": "stdout",
     "output_type": "stream",
     "text": [
      "['B3tty ', 'b0u6ht ', 'some ', 'butt3r ', 'but ', 'the ', 'bu\\t', 't3r ', 'w@', 's ', 'b!', 'tt3r ', 's0 ', 'Betty ', 'b0u6ht ', 's0me ', 'b3tt3r ', 'butt3r ', 'to ', 'm@', 'k3 ', 'the ', 'b!', 'tt3r ', 'butt3r ', 'b3tt3r.']\n"
     ]
    }
   ],
   "source": [
    "sub_str = '\\w+.'\n",
    "\n",
    "result = re.findall(sub_str, input_str)\n",
    "print(result)"
   ]
  },
  {
   "cell_type": "code",
   "execution_count": 79,
   "metadata": {},
   "outputs": [],
   "source": [
    "# ^ Starts with specified character - same as \\A"
   ]
  },
  {
   "cell_type": "code",
   "execution_count": 80,
   "metadata": {},
   "outputs": [
    {
     "name": "stdout",
     "output_type": "stream",
     "text": [
      "['B3tty']\n"
     ]
    }
   ],
   "source": [
    "input_str = 'B3tty b0u6ht some butt3r but the butt3r w@s b!tt3r s0 Betty b0u6ht s0me b3tt3r butt3r to m@k3 the b!tt3r\\\n",
    "butt3r b3tt3r.'\n",
    "\n",
    "sub_str = r'^B\\w+'\n",
    "\n",
    "\n",
    "result = re.findall(sub_str, input_str)\n",
    "\n",
    "print(result)"
   ]
  },
  {
   "cell_type": "code",
   "execution_count": 81,
   "metadata": {},
   "outputs": [
    {
     "name": "stdout",
     "output_type": "stream",
     "text": [
      "['B3tty']\n"
     ]
    }
   ],
   "source": [
    "sub_str = r'\\AB\\w+'\n",
    "\n",
    "result = re.findall(sub_str, input_str)\n",
    "\n",
    "print(result)"
   ]
  },
  {
   "cell_type": "code",
   "execution_count": 82,
   "metadata": {},
   "outputs": [
    {
     "name": "stdout",
     "output_type": "stream",
     "text": [
      "['B3tty', 'Betty']\n"
     ]
    }
   ],
   "source": [
    "sub_str = r'\\bB\\w+'\n",
    "\n",
    "result = re.findall(sub_str, input_str)\n",
    "\n",
    "print(result)"
   ]
  },
  {
   "cell_type": "code",
   "execution_count": 83,
   "metadata": {},
   "outputs": [
    {
     "name": "stdout",
     "output_type": "stream",
     "text": [
      "[]\n"
     ]
    }
   ],
   "source": [
    "sub_str = r'^b\\w+'\n",
    "\n",
    "result = re.findall(sub_str, input_str)\n",
    "\n",
    "print(result)"
   ]
  },
  {
   "cell_type": "code",
   "execution_count": 84,
   "metadata": {},
   "outputs": [
    {
     "name": "stdout",
     "output_type": "stream",
     "text": [
      "['b3tty b0u6ht some butt3r but the butt3r w@s b!tt3r s0 betty b0u6ht s0me b3tt3r butt3r to m@k3 the b!tt3rbutt3r b3tt3r.']\n"
     ]
    }
   ],
   "source": [
    "input_str = 'b3tty b0u6ht some butt3r but the butt3r w@s b!tt3r s0 betty b0u6ht s0me b3tt3r butt3r to m@k3 the b!tt3r\\\n",
    "butt3r b3tt3r.'\n",
    "\n",
    "sub_str = r'^b.+'\n",
    "\n",
    "result = re.findall(sub_str, input_str)\n",
    "\n",
    "print(result)"
   ]
  },
  {
   "cell_type": "code",
   "execution_count": 85,
   "metadata": {},
   "outputs": [
    {
     "name": "stdout",
     "output_type": "stream",
     "text": [
      "['b3tty']\n"
     ]
    }
   ],
   "source": [
    "sub_str = r'\\Ab\\w+'\n",
    "\n",
    "result = re.findall(sub_str, input_str)\n",
    "\n",
    "print(result)"
   ]
  },
  {
   "cell_type": "code",
   "execution_count": 86,
   "metadata": {},
   "outputs": [],
   "source": [
    "# $ - Checks if whole string ends with specified characters. Same as \\Z"
   ]
  },
  {
   "cell_type": "code",
   "execution_count": 87,
   "metadata": {},
   "outputs": [
    {
     "name": "stdout",
     "output_type": "stream",
     "text": [
      "['t3r.']\n"
     ]
    }
   ],
   "source": [
    "input_str = 'B3tty b0u6ht some butt3r but the butt3r w@s b!tt3r s0 Betty b0u6ht s0me b3tt3r butt3r to m@k3 the b!tt3r\\\n",
    "butt3r b3tt3r.'\n",
    "\n",
    "sub_str = r't3r.$'\n",
    "\n",
    "result = re.findall(sub_str, input_str)\n",
    "\n",
    "print(result)"
   ]
  },
  {
   "cell_type": "code",
   "execution_count": 88,
   "metadata": {},
   "outputs": [
    {
     "name": "stdout",
     "output_type": "stream",
     "text": [
      "['t3r.']\n"
     ]
    }
   ],
   "source": [
    "#Note no result since the string does not end with 't3r' but with 't3r.'\n",
    "\n",
    "sub_str = r't3r.$'\n",
    "\n",
    "result = re.findall(sub_str, input_str)\n",
    "\n",
    "print(result)"
   ]
  },
  {
   "cell_type": "code",
   "execution_count": 89,
   "metadata": {},
   "outputs": [
    {
     "name": "stdout",
     "output_type": "stream",
     "text": [
      "['t3r.']\n"
     ]
    }
   ],
   "source": [
    "sub_str = r't3r\\.'\n",
    "\n",
    "result = re.findall(sub_str, input_str)\n",
    "\n",
    "print(result)"
   ]
  },
  {
   "cell_type": "code",
   "execution_count": 90,
   "metadata": {},
   "outputs": [
    {
     "name": "stdout",
     "output_type": "stream",
     "text": [
      "<re.Match object; span=(114, 118), match='t3r.'>\n"
     ]
    }
   ],
   "source": [
    "sub_str = r't3r\\.'\n",
    "\n",
    "result = re.search(sub_str, input_str)\n",
    "\n",
    "print(result)"
   ]
  },
  {
   "cell_type": "code",
   "execution_count": 91,
   "metadata": {},
   "outputs": [
    {
     "name": "stdout",
     "output_type": "stream",
     "text": [
      "['B3tty', 'b0u6ht', 'some', 'butt3r', 'but', 'the', 'butt3r', 'w', 's', 'b', 'tt3r', 's0', 'Betty', 'b0u6ht', 's0me', 'b3tt3r', 'butt3r', 'to', 'm', 'k3', 'the', 'b', '773rbutt3r', 'b3tt3r']\n"
     ]
    }
   ],
   "source": [
    "# * - 0 or more occurrences of specified characters(placed on the right of the characters we wish to specify)\n",
    "\n",
    "input_str = 'B3tty b0u6ht some butt3r but the butt3r w@s b!tt3r s0 Betty b0u6ht s0me b3tt3r butt3r to m@k3 the b!773r\\\n",
    "butt3r b3tt3r.'\n",
    "\n",
    "sub_str = r'\\w+t*'\n",
    "\n",
    "result = re.findall(sub_str, input_str)\n",
    "\n",
    "print(result)\n"
   ]
  },
  {
   "cell_type": "code",
   "execution_count": 92,
   "metadata": {},
   "outputs": [
    {
     "name": "stdout",
     "output_type": "stream",
     "text": [
      "['B3tty', 'b0u6ht', 'butt3r', 'but', 'butt3r', 'tt3r', 'Betty', 'b0u6ht', 'b3tt3r', 'butt3r', '773rbutt3r', 'b3tt3r']\n"
     ]
    }
   ],
   "source": [
    "# + - 1 or more occurrences of specified characters(placed on the right side of the characters we wish to specify)\n",
    "input_str = 'B3tty b0u6ht some butt3r but the butt3r w@s b!tt3r s0 Betty b0u6ht s0me b3tt3r butt3r to m@k3 the b!773r\\\n",
    "butt3r b3tt3r.'\n",
    "\n",
    "sub_str = r'\\w+t+\\w*'\n",
    "\n",
    "result = re.findall(sub_str, input_str)\n",
    "\n",
    "print(result)"
   ]
  },
  {
   "cell_type": "code",
   "execution_count": 93,
   "metadata": {},
   "outputs": [
    {
     "name": "stdout",
     "output_type": "stream",
     "text": [
      "['B3tty', 'butt3r', 'butt3r', 'Betty', 'b3tt3r', 'butt3r', '773rbutt3r', 'b3tt3r']\n"
     ]
    }
   ],
   "source": [
    "# {} - Exactly the specified number of occurrences. \n",
    "\n",
    "sub_str = r'\\w+t{2}\\w*'\n",
    "\n",
    "result = re.findall(sub_str, input_str)\n",
    "\n",
    "print(result)"
   ]
  },
  {
   "cell_type": "code",
   "execution_count": 94,
   "metadata": {},
   "outputs": [
    {
     "name": "stdout",
     "output_type": "stream",
     "text": [
      "['B3tt', 'butt', 'butt', 'Bett', 'b3tt', 'butt', '773rbutt', 'b3tt']\n"
     ]
    }
   ],
   "source": [
    "# {} - Exactly the specified number of occurrences. \n",
    "\n",
    "sub_str = r'\\w+t{2}'\n",
    "\n",
    "result = re.findall(sub_str, input_str)\n",
    "\n",
    "print(result)"
   ]
  },
  {
   "cell_type": "code",
   "execution_count": 95,
   "metadata": {},
   "outputs": [
    {
     "name": "stdout",
     "output_type": "stream",
     "text": [
      "['B3tty', 'butt3r', 'butt3r', 'Betty', 'b3tt3r', 'butt3r', '773rbutt3r', 'b3tt3r']\n"
     ]
    }
   ],
   "source": [
    "# {} - Exactly the specified number of occurrences. \n",
    "\n",
    "sub_str = r'\\w+t{2}\\w+'\n",
    "\n",
    "result = re.findall(sub_str, input_str)\n",
    "\n",
    "print(result)\n"
   ]
  },
  {
   "cell_type": "code",
   "execution_count": 96,
   "metadata": {},
   "outputs": [
    {
     "name": "stdout",
     "output_type": "stream",
     "text": [
      "['B3tt', 'butt', 'butt', 'Bett', 'b3tttt', 'butt', 't3rbutt', 'b3tttt']\n"
     ]
    }
   ],
   "source": [
    "# {x,y} - Between the specified number of occurrences. \n",
    "\n",
    "input_str = 'B3tty b0u6ht some butt3r but the butt3r w@s b!t3r s0 Betty b0u6ht s0me b3tttttt3r butt3r to m@k3 the b!t3r\\\n",
    "butt3r b3tttt3r.'\n",
    "\n",
    "sub_str = r'\\w+[3ue]t{2,4}'\n",
    "\n",
    "result = re.findall(sub_str, input_str)\n",
    "\n",
    "print(result)"
   ]
  },
  {
   "cell_type": "code",
   "execution_count": 97,
   "metadata": {},
   "outputs": [
    {
     "name": "stdout",
     "output_type": "stream",
     "text": [
      "['B3tty', 'butt3r', 'butt3r', 'w@s', 'tt3r', 'b3tt3r', 'butt3r', 'm@k3', 'tt3rbutt3r', 'b3tt3r']\n"
     ]
    }
   ],
   "source": [
    "# | - Either / or any of the specified characcters in pattern. \n",
    "\n",
    "input_str = 'B3tty b0u6ht some butt3r but the butt3r w@s b!tt3r s0 Betty b0u6ht s0me b3tt3r butt3r to m@k3 the b!tt3r\\\n",
    "butt3r b3tt3r.'\n",
    "\n",
    "\n",
    "sub_str = r'\\w+3\\w+|\\w+@\\w+'\n",
    "\n",
    "result = re.findall(sub_str, input_str)\n",
    "\n",
    "print(result)"
   ]
  },
  {
   "cell_type": "code",
   "execution_count": 98,
   "metadata": {},
   "outputs": [
    {
     "name": "stdout",
     "output_type": "stream",
     "text": [
      "['colour', 'color']\n"
     ]
    }
   ],
   "source": [
    "# ? - Makes the character preceding the ? mark optional.\n",
    "\n",
    "text = 'The colonel colours the car in a Red color'\n",
    "\n",
    "sub_str = r'colou?r'\n",
    "\n",
    "result = re.findall(sub_str, text)\n",
    "\n",
    "print(result)"
   ]
  },
  {
   "cell_type": "code",
   "execution_count": 99,
   "metadata": {},
   "outputs": [],
   "source": [
    "# As you probably noticed, the regex query matched both 'colour' and 'color' since it was optional to match the u, if\n",
    "# present it was matched, even if not present the pattern was matched."
   ]
  },
  {
   "cell_type": "code",
   "execution_count": 100,
   "metadata": {},
   "outputs": [],
   "source": [
    "# () Capture and group the specified characters pattern. Allows you to match (or capture) a specific group of characters\n",
    "# collectively."
   ]
  },
  {
   "cell_type": "code",
   "execution_count": 101,
   "metadata": {},
   "outputs": [
    {
     "name": "stdout",
     "output_type": "stream",
     "text": [
      "<re.Match object; span=(4, 7), match='bar'>\n"
     ]
    }
   ],
   "source": [
    "input_str = 'foo bar baz'\n",
    "\n",
    "sub_str = r'bar'\n",
    "\n",
    "result = re.search(sub_str, input_str)\n",
    "\n",
    "print(result)"
   ]
  },
  {
   "cell_type": "code",
   "execution_count": 102,
   "metadata": {},
   "outputs": [
    {
     "name": "stdout",
     "output_type": "stream",
     "text": [
      "<re.Match object; span=(4, 7), match='bar'>\n"
     ]
    }
   ],
   "source": [
    "sub_str = r'(bar)'\n",
    "\n",
    "result = re.search(sub_str, input_str)\n",
    "\n",
    "print(result)"
   ]
  },
  {
   "cell_type": "code",
   "execution_count": 103,
   "metadata": {},
   "outputs": [
    {
     "name": "stdout",
     "output_type": "stream",
     "text": [
      "[' bar', ' ba']\n"
     ]
    }
   ],
   "source": [
    "# The difference though - between regular regex without the parenthesis and with is that now the characters defined in the\n",
    "# parentheses are treated as one group. e.g.\n",
    "\n",
    "input_str = 'foo barbar baz'\n",
    "\n",
    "sub_str = r'\\sbar?'\n",
    "\n",
    "result = re.findall(sub_str, input_str)\n",
    "\n",
    "print(result)"
   ]
  },
  {
   "cell_type": "code",
   "execution_count": 104,
   "metadata": {},
   "outputs": [],
   "source": [
    "# As we can see it took the r as an optional character in this case. "
   ]
  },
  {
   "cell_type": "code",
   "execution_count": 105,
   "metadata": {},
   "outputs": [
    {
     "name": "stdout",
     "output_type": "stream",
     "text": [
      "['bar']\n"
     ]
    }
   ],
   "source": [
    "sub_str = r'\\s(bar)+'\n",
    "\n",
    "result = re.findall(sub_str, input_str)\n",
    "\n",
    "print(result)"
   ]
  },
  {
   "cell_type": "code",
   "execution_count": 106,
   "metadata": {},
   "outputs": [],
   "source": [
    "#We can use nested grouping to capture specific characters.\n",
    "\n",
    "input_str = 'B3tty b0u6ht s0me but the butt3r was bitt3r so B3tty b0u6ht some b3tt3r butt3r to mak3 the bitt3r \\\n",
    "butt3r b3tt3r.'\n",
    "\n",
    "sub_str = r'((b[ue3]t)(t3r)?)'\n",
    "\n",
    "result = re.search(sub_str, input_str)"
   ]
  },
  {
   "cell_type": "code",
   "execution_count": 107,
   "metadata": {},
   "outputs": [
    {
     "name": "stdout",
     "output_type": "stream",
     "text": [
      "<re.Match object; span=(18, 21), match='but'>\n",
      "but\n"
     ]
    }
   ],
   "source": [
    "print(result)\n",
    "print(result.group())"
   ]
  },
  {
   "cell_type": "code",
   "execution_count": 108,
   "metadata": {},
   "outputs": [
    {
     "name": "stdout",
     "output_type": "stream",
     "text": [
      "('but', 'but', None)\n"
     ]
    }
   ],
   "source": [
    "print(result.groups())"
   ]
  },
  {
   "cell_type": "code",
   "execution_count": 109,
   "metadata": {},
   "outputs": [],
   "source": [
    "# Note how the groups() method gave out a tuple of the matches. We have seen 3 captures in our regex - outer capture 1, \n",
    "# inner capture 1 and inner capture2. \n",
    "\n",
    "# ((innercap1)(innercap2)) - Not all captures may have participated in the group. To get the breakdown of the groups\n",
    "# captured by the regex in a match object, we can use the group or groups methods. "
   ]
  },
  {
   "cell_type": "code",
   "execution_count": 110,
   "metadata": {},
   "outputs": [
    {
     "name": "stdout",
     "output_type": "stream",
     "text": [
      "<re.Match object; span=(0, 17), match='I love basketball'>\n",
      "<re.Match object; span=(0, 21), match='I also like badminton'>\n"
     ]
    }
   ],
   "source": [
    "input_str = 'I love basketball. But I am not very good at it.'\n",
    "input_str2 = 'I also like badminton which I am actually pretty good at'\n",
    "\n",
    "sub_str = r'I (also )?(love|like) (basketball|badminton)'\n",
    "\n",
    "result = re.search(sub_str, input_str)\n",
    "\n",
    "print(result)\n",
    "\n",
    "result = re.search(sub_str, input_str2)\n",
    "\n",
    "print(result)\n"
   ]
  },
  {
   "cell_type": "code",
   "execution_count": 111,
   "metadata": {},
   "outputs": [],
   "source": [
    "# Sets - A set in Regex is a set of characters inside a pair of square brackets [] with a special meaning. \n",
    "\n",
    "# Set        Description\n",
    "# [apz]      Returns a match where any one of the specified characters (a, p, or z) are present\n",
    "# [a-e]      Returns a match for any lower case character, alphabetically between a and e\n",
    "# [^apz]     Returns a match for any character EXCEPT a, p, and z\n",
    "# [0123]     Returns a match where any of the specified digits (0, 1, 2, or 3) are present\n",
    "# [0-9]      Returns a match for any digit between 0 and 9\n",
    "# [0-5][0-9] Returns a match for any two-digit numbers from 00 and 59\t\n",
    "# [a-zA-Z]   Returns a match for any character alphabetically between a and z, lower case OR upper case\t\n",
    "# [+]        In sets, +, *, ., |, (), $,{} has no special meaning, so [+] means: return a match for any + character\n",
    "#            in the string, [*] for any * character and so on.\n"
   ]
  },
  {
   "cell_type": "code",
   "execution_count": 112,
   "metadata": {},
   "outputs": [
    {
     "name": "stdout",
     "output_type": "stream",
     "text": [
      "['bough', 'som', 'th', 'bough', 'som', 'th']\n"
     ]
    }
   ],
   "source": [
    "# [apz] - Square brackets around specified characters - Returns a match where any one of the specified characters\n",
    "# (a, p, or z) are present\n",
    "\n",
    "\n",
    "input_str = 'Betty bought some butter but the butter was bitter so Betty bought some better butter to make the bitter \\\n",
    "butter better'\n",
    "\n",
    "sub_str = r'\\w+[mh]'\n",
    "\n",
    "result = re.findall(sub_str, input_str)\n",
    "\n",
    "print(result)"
   ]
  },
  {
   "cell_type": "code",
   "execution_count": 113,
   "metadata": {},
   "outputs": [
    {
     "name": "stdout",
     "output_type": "stream",
     "text": [
      "['wa', 'ma']\n"
     ]
    }
   ],
   "source": [
    "# [a-e] - Returns a match for any lower case character, alphabetically between a and e\n",
    "\n",
    "sub_str = r'\\w+[a-d]'\n",
    "\n",
    "result = re.findall(sub_str, input_str)\n",
    "\n",
    "print(result)"
   ]
  },
  {
   "cell_type": "code",
   "execution_count": 114,
   "metadata": {},
   "outputs": [
    {
     "name": "stdout",
     "output_type": "stream",
     "text": [
      "['b0u6ht s0me', 'but the', 'butt3r', 'bou6ht s0m3', 'butt3r', 'mak3 th3', 'bitt3r', 'butt3r', 'b3tt3r']\n"
     ]
    }
   ],
   "source": [
    "# [^apz] - Returns a match for any character EXCEPT a, p, and z\n",
    "\n",
    "input_str = 'B3tty b0u6ht s0me butter but the butt3r was bitter so Betty bou6ht s0m3 better butt3r to mak3 th3 bitt3r \\\n",
    "butt3r b3tt3r'\n",
    "\n",
    "sub_str = r'\\w+[^eu]t[^te]\\w+'\n",
    "\n",
    "result = re.findall(sub_str, input_str)\n",
    "\n",
    "print(result)"
   ]
  },
  {
   "cell_type": "code",
   "execution_count": 115,
   "metadata": {},
   "outputs": [
    {
     "name": "stdout",
     "output_type": "stream",
     "text": [
      "['B3', 'b0', 's0', 'butt3', 's0m3', 'butt3', 'mak3', 'th3', 'bitt3', 'butt3', 'b3tt3']\n"
     ]
    }
   ],
   "source": [
    "# [0123]     Returns a match where any of the specified digits (0, 1, 2, or 3) are present\n",
    "\n",
    "input_str = 'B3tty b0u6ht s0me butter but the butt3r was bitter so Betty bou6ht s0m3 better butt3r to mak3 th3 bitt3r \\\n",
    "butt3r b3tt3r'\n",
    "\n",
    "sub_str = r'\\w+[03]'\n",
    "\n",
    "result = re.findall(sub_str, input_str)\n",
    "\n",
    "print(result)"
   ]
  },
  {
   "cell_type": "code",
   "execution_count": 116,
   "metadata": {},
   "outputs": [
    {
     "name": "stdout",
     "output_type": "stream",
     "text": [
      "['B3', 'b0u64', 's0', '43', 't4', 'butt3', 'bitt3', 'B3', 'bou64', 's0m3', 'b3tt3', 'butt3', 'mak3', 't43', 'bitt3', 'butt3', 'b3tt3']\n"
     ]
    }
   ],
   "source": [
    "# [0-9]      Returns a match for any digit between 0 and 9\n",
    "\n",
    "input_str = 'B3tty b0u64t s0me butter but 43 t4e butt3r was bitt3r so B3tty bou64t s0m3 b3tt3r butt3r to mak3 t43 bitt3r \\\n",
    "butt3r b3tt3r'\n",
    "\n",
    "sub_str = r'\\w+[0-9]'\n",
    "\n",
    "result = re.findall(sub_str, input_str)\n",
    "print(result)"
   ]
  },
  {
   "cell_type": "code",
   "execution_count": 117,
   "metadata": {},
   "outputs": [
    {
     "name": "stdout",
     "output_type": "stream",
     "text": [
      "['b0u64', 'bou64', 't43']\n"
     ]
    }
   ],
   "source": [
    "# [0-5][0-9] Returns a match for any two-digit numbers from 00 and 59\n",
    "\n",
    "input_str = 'B3tty b0u64t s0me butter but 43 t4e butt3r was bitt3r so B3tty bou64t s0m3 b3tt3r butt3r to mak3 t43 bitt3r \\\n",
    "butt3r b3tt3r'\n",
    "\n",
    "sub_str = r'\\w+[2-6][3-5]'\n",
    "\n",
    "result = re.findall(sub_str, input_str)\n",
    "\n",
    "print( result)"
   ]
  },
  {
   "cell_type": "code",
   "execution_count": 118,
   "metadata": {},
   "outputs": [
    {
     "name": "stdout",
     "output_type": "stream",
     "text": [
      "['b0u64', 'bou64']\n"
     ]
    }
   ],
   "source": [
    "sub_str = r'\\w+[2-6][4-5]'\n",
    "\n",
    "result = re.findall(sub_str, input_str)\n",
    "\n",
    "print( result)"
   ]
  },
  {
   "cell_type": "code",
   "execution_count": 119,
   "metadata": {},
   "outputs": [
    {
     "name": "stdout",
     "output_type": "stream",
     "text": [
      "['B3tty', 'b0ught', 's0m', 'tt3r']\n"
     ]
    }
   ],
   "source": [
    "# [a-zA-Z]   Returns a match for any character alphabetically between a and z, lower case OR upper case\n",
    "\n",
    "input_str = 'B3tty b0ught s0m3 b~tt3r'\n",
    "\n",
    "sub_str = r'\\w+[a-zA-Z]'\n",
    "\n",
    "result = re.findall(sub_str, input_str)\n",
    "\n",
    "print(result)"
   ]
  },
  {
   "cell_type": "code",
   "execution_count": 120,
   "metadata": {},
   "outputs": [],
   "source": [
    "# [+]        In sets, +, *, ., |, (), $,{} has no special meaning, so [+] means: return a match for any + character\n",
    "#            in the string, [*] for any * character and so on."
   ]
  },
  {
   "cell_type": "code",
   "execution_count": 121,
   "metadata": {},
   "outputs": [
    {
     "name": "stdout",
     "output_type": "stream",
     "text": [
      "['B3+', 'b*', 'ugh+', 's*', 'b~']\n"
     ]
    }
   ],
   "source": [
    "input_str = 'B3++y b*ugh+ s*m3 b~tt3r'\n",
    "\n",
    "sub_str = r'\\w+[+*~]'\n",
    "\n",
    "result = re.findall(sub_str, input_str)\n",
    "\n",
    "print(result)"
   ]
  },
  {
   "cell_type": "code",
   "execution_count": 122,
   "metadata": {},
   "outputs": [],
   "source": [
    "# Flags - Most regex methods allow a third parameter called flags. The most common flags used are: "
   ]
  },
  {
   "cell_type": "code",
   "execution_count": 123,
   "metadata": {},
   "outputs": [],
   "source": [
    "# Short Name          Long Name         Effect\n",
    "# re.I                re.IGNORECASE     Makes matching of alphabetic characters case-insensitive\n",
    "# re.M                re.MULTILINE      Causes start-of-string and end-of-string anchors to match embedded newlines\n",
    "# re.S                re.DOTALL         Causes the dot metacharacter to match a newline"
   ]
  },
  {
   "cell_type": "code",
   "execution_count": 124,
   "metadata": {},
   "outputs": [
    {
     "name": "stdout",
     "output_type": "stream",
     "text": [
      "['b0u64t', 'butter', 'but', 'butt3r', 'bitt3r', 'bou64t', 'b3tt3r', 'butt3r', 'bitt3r', 'butt3r', 'b3tt3r']\n"
     ]
    }
   ],
   "source": [
    "# Ignore case\n",
    "\n",
    "input_str = 'B3tty b0u64t s0me butter but t4e butt3r was bitt3r so B3tty bou64t s0m3 b3tt3r butt3r to mak3 t43 bitt3r \\n\\\n",
    "butt3r b3tt3r'\n",
    "\n",
    "sub_str = r'b\\w+'\n",
    "\n",
    "result = re.findall(sub_str, input_str)\n",
    "\n",
    "print(result)"
   ]
  },
  {
   "cell_type": "code",
   "execution_count": 125,
   "metadata": {},
   "outputs": [
    {
     "name": "stdout",
     "output_type": "stream",
     "text": [
      "['B3tty', 'b0u64t', 'butter', 'but', 'butt3r', 'bitt3r', 'B3tty', 'bou64t', 'b3tt3r', 'butt3r', 'bitt3r', 'butt3r', 'b3tt3r']\n"
     ]
    }
   ],
   "source": [
    "result = re.findall(sub_str, input_str, flags = re.I)\n",
    "\n",
    "print(result)"
   ]
  },
  {
   "cell_type": "code",
   "execution_count": 126,
   "metadata": {},
   "outputs": [],
   "source": [
    "# Multiline"
   ]
  },
  {
   "cell_type": "code",
   "execution_count": 127,
   "metadata": {},
   "outputs": [
    {
     "name": "stdout",
     "output_type": "stream",
     "text": [
      "B3tty b0u64t s0me butter but t4e butt3r was bitt3r so B3tty bou64t s0m3 b3tt3r butt3r to mak3 t43 bitt3r butt3r b3tt3r\n",
      "B3tty b0u64t s0me butter but t4e butt3r was bitt3r so B3tty bou64t s0m3 b3tt3r butt3r to mak3 t43 bitt3r butt3r b3tt3r\n",
      "B3tty b0u64t s0me butter but t4e butt3r was bitt3r so B3tty bou64t s0m3 b3tt3r butt3r to mak3 t43 bitt3r butt3r b3tt3r\n"
     ]
    }
   ],
   "source": [
    "input_str = 'B3tty b0u64t s0me butter but t4e butt3r was bitt3r so B3tty bou64t s0m3 b3tt3r butt3r to mak3 t43 bitt3r \\\n",
    "butt3r b3tt3r\\nB3tty b0u64t s0me butter but t4e butt3r was bitt3r so B3tty bou64t s0m3 b3tt3r butt3r to mak3 t43 bitt3r \\\n",
    "butt3r b3tt3r\\nB3tty b0u64t s0me butter but t4e butt3r was bitt3r so B3tty bou64t s0m3 b3tt3r butt3r to mak3 t43 bitt3r \\\n",
    "butt3r b3tt3r'\n",
    "\n",
    "\n",
    "print(input_str)"
   ]
  },
  {
   "cell_type": "code",
   "execution_count": 128,
   "metadata": {},
   "outputs": [
    {
     "name": "stdout",
     "output_type": "stream",
     "text": [
      "[]\n"
     ]
    }
   ],
   "source": [
    "sub_str = r'^b\\w+y'\n",
    "\n",
    "result = re.findall(sub_str, input_str)\n",
    "\n",
    "print(result)"
   ]
  },
  {
   "cell_type": "code",
   "execution_count": 129,
   "metadata": {},
   "outputs": [
    {
     "name": "stdout",
     "output_type": "stream",
     "text": [
      "['B3tty', 'B3tty', 'B3tty']\n"
     ]
    }
   ],
   "source": [
    "result = re.findall(sub_str, input_str, flags = re.M | re.I)\n",
    "\n",
    "print(result)"
   ]
  },
  {
   "cell_type": "code",
   "execution_count": 130,
   "metadata": {},
   "outputs": [],
   "source": [
    "#Dotall includes the \\n characters in the . search character set. \n"
   ]
  },
  {
   "cell_type": "code",
   "execution_count": 131,
   "metadata": {},
   "outputs": [
    {
     "name": "stdout",
     "output_type": "stream",
     "text": [
      "['3r b3', '3r b3', '3r b3']\n"
     ]
    }
   ],
   "source": [
    "sub_str = r'3r.b3'\n",
    "\n",
    "result = re.findall(sub_str, input_str)\n",
    "\n",
    "print(result)"
   ]
  },
  {
   "cell_type": "code",
   "execution_count": 132,
   "metadata": {},
   "outputs": [
    {
     "name": "stdout",
     "output_type": "stream",
     "text": [
      "['3r b3', '3r\\nB3', '3r b3', '3r\\nB3', '3r b3']\n"
     ]
    }
   ],
   "source": [
    "result = re.findall(sub_str, input_str, flags=re.S | re.I)\n",
    "\n",
    "print(result)"
   ]
  },
  {
   "cell_type": "code",
   "execution_count": 133,
   "metadata": {},
   "outputs": [
    {
     "name": "stdout",
     "output_type": "stream",
     "text": [
      "['b0u64t s0me butter but t4e butt3r was bitt3r so B3tty bou64t s0m3 b3tt3r butt3r to mak3 t43 bitt3r', 'butt3r b3tt3r']\n"
     ]
    }
   ],
   "source": [
    "\n",
    "input_str = 'B3tty b0u64t s0me butter but t4e butt3r was bitt3r so B3tty bou64t s0m3 b3tt3r butt3r to mak3 t43 bitt3r \\n\\\n",
    "butt3r b3tt3r'\n",
    "\n",
    "sub_str = r'b.*r'\n",
    "\n",
    "result = re.findall(sub_str, input_str)\n",
    "\n",
    "print(result)"
   ]
  },
  {
   "cell_type": "code",
   "execution_count": null,
   "metadata": {},
   "outputs": [],
   "source": []
  },
  {
   "cell_type": "code",
   "execution_count": 134,
   "metadata": {},
   "outputs": [],
   "source": [
    "# Other methods in re module\n",
    "\n",
    "# We have already seen search (along with span, start, end, string, group and groups methods on match objects) method.\n",
    "# We have also seen findall method. \n",
    "\n",
    "# Some other methods in regex are:"
   ]
  },
  {
   "cell_type": "code",
   "execution_count": 135,
   "metadata": {},
   "outputs": [
    {
     "name": "stdout",
     "output_type": "stream",
     "text": [
      "['B3+', 'b*', 'ugh+', 's*', 'b~']\n"
     ]
    }
   ],
   "source": [
    "# compile method - compiles the stated regex into a regex object that can be reused and methods can be applied to it\n",
    "# directly. \n",
    "\n",
    "input_str = 'B3++y b*ugh+ s*m3 b~tt3r'\n",
    "\n",
    "sub_str = r'\\w+[+*~]'\n",
    "\n",
    "result = re.findall(sub_str, input_str)\n",
    "\n",
    "print(result)"
   ]
  },
  {
   "cell_type": "code",
   "execution_count": 136,
   "metadata": {},
   "outputs": [
    {
     "name": "stdout",
     "output_type": "stream",
     "text": [
      "['B3+', 'b*', 'ugh+', 's*', 'b~']\n",
      "<class 're.Pattern'>\n"
     ]
    }
   ],
   "source": [
    "ss = re.compile(r'\\w+[+*~]')\n",
    "\n",
    "result = ss.findall(input_str)\n",
    "\n",
    "print(result)\n",
    "print(type(ss))"
   ]
  },
  {
   "cell_type": "code",
   "execution_count": 137,
   "metadata": {},
   "outputs": [
    {
     "name": "stdout",
     "output_type": "stream",
     "text": [
      "['B3+', 'b*', 'ugh+', 's*', 'b~']\n"
     ]
    }
   ],
   "source": [
    "# Note above when we used the compile method on the regex we converted it to a re.Pattern object. And now we can apply the\n",
    "# methods directly on the ss object. If we have a lot of operations to perform with the same regex pattern, or the pattern\n",
    "# may be used frequently, it may be better to save it as a re.Pattern object.\n",
    "\n",
    "# Intenally compilation of substring happens when we call the sub_str we want to search as the parameter to the different\n",
    "# method as follows: \n",
    "\n",
    "sub_str = r'\\w+[+*~]'\n",
    "\n",
    "result = re.findall(re.compile(sub_str), input_str)\n",
    "\n",
    "print(result)"
   ]
  },
  {
   "cell_type": "code",
   "execution_count": 138,
   "metadata": {},
   "outputs": [],
   "source": [
    "# For our current module, since we were changing the regex frequently, we did not compile the regex patterns. However, \n",
    "# complex patterns that are frequently used, more often than not are compiled and stashed. "
   ]
  },
  {
   "cell_type": "code",
   "execution_count": 139,
   "metadata": {},
   "outputs": [],
   "source": [
    "#match method - only returns the match if it is at the beginning of the string"
   ]
  },
  {
   "cell_type": "code",
   "execution_count": 140,
   "metadata": {},
   "outputs": [
    {
     "name": "stdout",
     "output_type": "stream",
     "text": [
      "<re.Match object; span=(0, 3), match='Xyz'>\n"
     ]
    }
   ],
   "source": [
    "input_str = 'Xyz abc xyz abc'\n",
    "\n",
    "sub_str = r'Xyz'\n",
    "\n",
    "result = re.match(sub_str, input_str)\n",
    "\n",
    "print(result)"
   ]
  },
  {
   "cell_type": "code",
   "execution_count": 141,
   "metadata": {},
   "outputs": [
    {
     "name": "stdout",
     "output_type": "stream",
     "text": [
      "None\n"
     ]
    }
   ],
   "source": [
    "sub_str = r'xyz'\n",
    "\n",
    "result = re.match(sub_str, input_str)\n",
    "\n",
    "print(result)"
   ]
  },
  {
   "cell_type": "code",
   "execution_count": 142,
   "metadata": {},
   "outputs": [
    {
     "name": "stdout",
     "output_type": "stream",
     "text": [
      "<re.Match object; span=(0, 3), match='Xyz'>\n"
     ]
    }
   ],
   "source": [
    "sub_str = r'xyz'\n",
    "\n",
    "result = re.match(sub_str, input_str, flags = re.I)\n",
    "\n",
    "print(result)"
   ]
  },
  {
   "cell_type": "code",
   "execution_count": 143,
   "metadata": {},
   "outputs": [
    {
     "name": "stdout",
     "output_type": "stream",
     "text": [
      "['B3tty b0u64t s0me ', ' but t4e ', ' was ', '']\n"
     ]
    }
   ],
   "source": [
    "#split method in re takes 4 parameters\n",
    "\n",
    "#re.split(pattern, string, maxsplit=0, flags=0)\n",
    "\n",
    "#1. The regex pattern - mandatory\n",
    "#2. The string to be checked - mandatory\n",
    "#3. Maxsplit - count of how many maximum splits we want\n",
    "#4. flags - as discussed above. \n",
    "\n",
    "input_str = 'B3tty b0u64t s0me butter but t4e butter was bitter'\n",
    "sub_str = r'b[uei]tter'\n",
    "\n",
    "result = re.split(sub_str, input_str)\n",
    "\n",
    "print(result)"
   ]
  },
  {
   "cell_type": "code",
   "execution_count": 144,
   "metadata": {},
   "outputs": [
    {
     "name": "stdout",
     "output_type": "stream",
     "text": [
      "['B3tty b0u64t s0me ', ' but t4e butter was bitter']\n"
     ]
    }
   ],
   "source": [
    "result = re.split(sub_str, input_str, maxsplit = 1)\n",
    "\n",
    "print(result)"
   ]
  },
  {
   "cell_type": "code",
   "execution_count": 145,
   "metadata": {},
   "outputs": [
    {
     "name": "stdout",
     "output_type": "stream",
     "text": [
      "['B3tty b0u64t ', ' butter but t4e butter was bitter']\n"
     ]
    }
   ],
   "source": [
    "input_str = 'B3tty b0u64t S0me butter but t4e butter was bitter'\n",
    "sub_str = 's0me'\n",
    "result = re.split(sub_str, input_str, flags = re.I)\n",
    "\n",
    "print(result)"
   ]
  },
  {
   "cell_type": "code",
   "execution_count": 146,
   "metadata": {},
   "outputs": [
    {
     "name": "stdout",
     "output_type": "stream",
     "text": [
      "Xyz Abc xyz pqr xyz aBc\n"
     ]
    }
   ],
   "source": [
    "#sub method takes in 5 parameters\n",
    "\n",
    "#1. The regex expression to be matched - mandatory\n",
    "#2. The replacement string - mandatory\n",
    "#3. The string to be checked - mandatory\n",
    "#4. Count - the max number of times the replacement is to be performed - optional\n",
    "#5. Flag - optional\n",
    "\n",
    "input_str = 'Xyz Abc xyz abc xyz aBc'\n",
    "\n",
    "sub_str = r'abc'\n",
    "\n",
    "repl = r'pqr'\n",
    "\n",
    "result = re.sub(sub_str, repl, input_str)\n",
    "\n",
    "print(result)"
   ]
  },
  {
   "cell_type": "code",
   "execution_count": 147,
   "metadata": {},
   "outputs": [
    {
     "name": "stdout",
     "output_type": "stream",
     "text": [
      "Xyz pqr xyz pqr xyz pqr\n"
     ]
    }
   ],
   "source": [
    "result = re.sub(sub_str, repl, input_str, flags = re.I)\n",
    "\n",
    "print(result)"
   ]
  },
  {
   "cell_type": "code",
   "execution_count": 148,
   "metadata": {},
   "outputs": [
    {
     "name": "stdout",
     "output_type": "stream",
     "text": [
      "Xyz pqr xyz pqr xyz aBc\n"
     ]
    }
   ],
   "source": [
    "result = re.sub(sub_str, repl, input_str, flags = re.I, count = 2)\n",
    "\n",
    "print(result)"
   ]
  },
  {
   "cell_type": "code",
   "execution_count": 149,
   "metadata": {},
   "outputs": [
    {
     "name": "stdout",
     "output_type": "stream",
     "text": [
      "('Xyz Abc xyz pqr xyz aBc', 1)\n"
     ]
    }
   ],
   "source": [
    "#Subn method is the same as the sub method except it provides the replacement count along with the replaced string as a \n",
    "# tuple\n",
    "\n",
    "result = re.subn(sub_str, repl, input_str)\n",
    "\n",
    "print(result)"
   ]
  },
  {
   "cell_type": "code",
   "execution_count": 150,
   "metadata": {},
   "outputs": [
    {
     "name": "stdout",
     "output_type": "stream",
     "text": [
      "('Xyz pqr xyz pqr xyz pqr', 3)\n"
     ]
    }
   ],
   "source": [
    "result = re.subn(sub_str, repl, input_str, flags = re.I)\n",
    "\n",
    "print(result)"
   ]
  },
  {
   "cell_type": "code",
   "execution_count": 151,
   "metadata": {},
   "outputs": [
    {
     "name": "stdout",
     "output_type": "stream",
     "text": [
      "('Xyz pqr xyz pqr xyz aBc', 2)\n"
     ]
    }
   ],
   "source": [
    "result = re.subn(sub_str, repl, input_str, flags = re.I, count = 2)\n",
    "\n",
    "print(result)"
   ]
  },
  {
   "cell_type": "code",
   "execution_count": 152,
   "metadata": {},
   "outputs": [],
   "source": [
    "import numpy as np\n",
    "import pandas as pd\n"
   ]
  },
  {
   "cell_type": "code",
   "execution_count": 153,
   "metadata": {},
   "outputs": [],
   "source": [
    "import matplotlib.pyplot as plt\n",
    "import seaborn as sns\n"
   ]
  },
  {
   "cell_type": "code",
   "execution_count": null,
   "metadata": {},
   "outputs": [],
   "source": []
  },
  {
   "cell_type": "code",
   "execution_count": null,
   "metadata": {},
   "outputs": [],
   "source": []
  },
  {
   "cell_type": "code",
   "execution_count": null,
   "metadata": {},
   "outputs": [],
   "source": [
    "\n"
   ]
  }
 ],
 "metadata": {
  "kernelspec": {
   "display_name": "Python 3",
   "language": "python",
   "name": "python3"
  },
  "language_info": {
   "codemirror_mode": {
    "name": "ipython",
    "version": 3
   },
   "file_extension": ".py",
   "mimetype": "text/x-python",
   "name": "python",
   "nbconvert_exporter": "python",
   "pygments_lexer": "ipython3",
   "version": "3.8.3"
  }
 },
 "nbformat": 4,
 "nbformat_minor": 5
}
