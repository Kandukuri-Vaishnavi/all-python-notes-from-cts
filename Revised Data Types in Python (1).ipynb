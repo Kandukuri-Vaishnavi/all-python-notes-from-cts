{
 "cells": [
  {
   "cell_type": "markdown",
   "metadata": {},
   "source": [
    "\n",
    "### Data types in Python\n",
    "\n",
    "#### There are 14 data types in Python\n",
    "\n",
    "##### Fundamental Types\n",
    "1. Integer - Number\n",
    "2. Float   - Number\n",
    "3. Complex - Number\n",
    "4. Boolean - True / False - Special type\n",
    "5. None    - Special Type\n",
    "6. String(single character)  - Text char including special symbols. (Part 1)\n",
    "\n",
    "##### Derived Data Types\n",
    "6. String sequence - Sequence of string characters is technically a derived datatype. Derived from the fundamental datatype string (Part 2). However, Python treats this also as a fundamental datatype that is immutable and there is absolutely no difference to the operations and handling of strings in Python whether they are of a single character or multiple characters 'stringed' together to form a sequence of characters except indexing, slicing and iteration can be performed over stringed characters but obviously not on a single string character.\n",
    "\n",
    "7. List - A sequential datatype. Made of sequence of other objects. Mutable. Indexing and slicing work.\n",
    "8. Tuple - A sequential datatype. Made of sequence of other objects. Immutable object in itself. But objects (elements) inside tuple may be mutable. Indexing and slicing work.\n",
    "9. Set - Mutable object. But objects inside set must be immutable. An unordered datatype. Therefore indexing and slicing is not supported.\n",
    "10. Dictionary - A mutable datatype. Keys of a Dictionary must be immutable objects. But since a dictionary itself is mutable, the keys may be changed(i.e. keys may be deleted and/or new keys added). Values may be mutable objects. Indexing is not supported.\n",
    "11. Frozen Sets - Immutable set\n",
    "12. Range - \n",
    "13. Bytes\n",
    "14. Bytearrays\n",
    "\n",
    "##### There is no concept of fixing sizes of datatypes / objects in Python. Python handles this internally. Some other languages like C++ require explicitly defining size of the object. \n",
    "\n",
    "#### Below - we shall take a brief overview of each datatype. However, there are lot of methods and unique features of Strings, Lists, Tuples, Dictionaries and Sets(and Frozen Sets). We will talk about each of these datatypes in detail in subsequent classes. \n"
   ]
  },
  {
   "cell_type": "markdown",
   "metadata": {},
   "source": [
    "###### Today, I wish to focus on the difference between the fundamental data types and derived datatypes. \n",
    "\n",
    "###### I shall briefly talk about two examples (Strings and Lists) of what we mean by sequential datatype.\n",
    "\n",
    "###### A short explanation of nesting\n",
    "\n",
    "###### I wish to move on to indexing, slicing and iteration over sequential datatypes.\n",
    "\n",
    "###### Then we shall talk about the concept of Object Re-usability and finally Mutability and Immutability.\n",
    "\n",
    "###### I shall skip the tuple, dictionary, sets and frozen sets datatypes for now and move on to the range, byte and bytearray datatypes.\n",
    "\n",
    "###### Strings, Lists, Tuples, Dictionaries, Sets alongwith Frozen sets - each of them will require a lengthy period of time for each datatype to discuss the initialisation, methods available and unique attributes. So, we shall take a deep dive into them one by one.\n",
    "\n",
    "###### In the end, will provide a chart showing typecasting between datatypes. Please go ahead and try the type casting in the chart by yourselves in your notebooks and compare the results to the expected results. If result is unexpected, try and analyse why. We can discuss in following class if any questions about this.\n"
   ]
  },
  {
   "cell_type": "code",
   "execution_count": 1,
   "metadata": {},
   "outputs": [
    {
     "name": "stdout",
     "output_type": "stream",
     "text": [
      "<class 'int'>\n",
      "<class 'int'>\n",
      "<class 'int'>\n",
      "<class 'int'>\n"
     ]
    }
   ],
   "source": [
    "#1. Integers\n",
    "\n",
    "# Any whole number including 0 and negative numbers. E.g.\n",
    "# Python automatically allocates the size required to store integers in Python - 8bits, 16bits, 32bits and so on.\n",
    "\n",
    "print(type(0))\n",
    "print(type(7832903))\n",
    "print(type(-88))\n",
    "print(type(-23018413))"
   ]
  },
  {
   "cell_type": "code",
   "execution_count": 2,
   "metadata": {},
   "outputs": [
    {
     "name": "stdout",
     "output_type": "stream",
     "text": [
      "28\n",
      "28\n"
     ]
    }
   ],
   "source": [
    "# getsizeof() method returns the size of the memory allocated to an object in Python. \n",
    "# It is a system-specific method. Which means - that on different OS, it may throw different results.\n",
    "# We need to import sys module to use it.\n",
    "# It returns the size of the instance object it is called on - including overhead like reference count and type information\n",
    "# etc.\n",
    "\n",
    "import sys\n",
    "print(sys.getsizeof(1))\n",
    "print(sys.getsizeof(23018413))"
   ]
  },
  {
   "cell_type": "code",
   "execution_count": 3,
   "metadata": {},
   "outputs": [
    {
     "name": "stdout",
     "output_type": "stream",
     "text": [
      "<class 'float'>\n",
      "<class 'float'>\n",
      "<class 'float'>\n",
      "24\n",
      "24\n"
     ]
    }
   ],
   "source": [
    "#2. Float\n",
    "\n",
    "# Any real number with decimal point\n",
    "# Can only be represented in decimal in Python not in binary, octal or hexadecimal\n",
    "# No concept of double precision in Python\n",
    "# Takes the form of MSB(Sign)+Exponential+Mantissa in binary(64-bits) \n",
    "\n",
    "print(type(10.2))\n",
    "print(type(0.132022))\n",
    "print(type(.132022))\n",
    "\n",
    "print(sys.getsizeof(0.132022))\n",
    "print(0.13022.__sizeof__())\n",
    "\n"
   ]
  },
  {
   "cell_type": "code",
   "execution_count": 4,
   "metadata": {},
   "outputs": [
    {
     "name": "stdout",
     "output_type": "stream",
     "text": [
      "(11+5j)\n",
      "(11+5j)\n",
      "(11+5j)\n",
      "(11+5j)\n",
      "16\n",
      "<class 'int'>\n"
     ]
    }
   ],
   "source": [
    "#3. Complex numbers\n",
    "\n",
    "# Takes the shape of a + b*j (or J) where j/J represents square root of -1\n",
    "# a is a real number\n",
    "# b is a real number multipled with imaginary number j making it an imaginary number\n",
    "# a can be decimal/binary/octal or hexadecimal\n",
    "# b can only be real\n",
    "# Cannot perform modulo or floor division on complex numbers but other arithmetic operations can be performed\n",
    "# Mainly used in mathematical applications, engineering etceteras.\n",
    "d = 11 + 5j\n",
    "b = 0b1011 + 5j\n",
    "o = 0o13 + 5j\n",
    "x = 0xB + 5j\n",
    "\n",
    "print(d,b,o,x, sep = '\\n')\n",
    "\n",
    "y = 11 + 0b101\n",
    "print(y)\n",
    "\n",
    "print(type(y))\n",
    "# z = 11 + 0b101J\n",
    "# print(z)"
   ]
  },
  {
   "cell_type": "code",
   "execution_count": 5,
   "metadata": {},
   "outputs": [
    {
     "name": "stdout",
     "output_type": "stream",
     "text": [
      "False\n",
      "True\n"
     ]
    }
   ],
   "source": [
    "#4. Boolean Datatype\n",
    "\n",
    "# Can only hold values of True and False. Always equated to 0 is false and all else is true or 1. Empty string is False\n",
    "# and all else is true or 1.\n",
    "\n",
    "# However, while EVALUATING 100 (though true) will NOT be equal to 1 or True\n",
    "\n",
    "print(100==200)\n",
    "print(100==100)"
   ]
  },
  {
   "cell_type": "code",
   "execution_count": 6,
   "metadata": {},
   "outputs": [
    {
     "name": "stdout",
     "output_type": "stream",
     "text": [
      "Hello. I could print because the if condition is True\n",
      "I could also print because the if condition is True\n"
     ]
    }
   ],
   "source": [
    "a = 1\n",
    "b = 0\n",
    "c = 100\n",
    "\n",
    "if a == True:\n",
    "    print('Hello. I could print because the if condition is True')\n",
    "    \n",
    "if b == False:\n",
    "    print('I could also print because the if condition is True')"
   ]
  },
  {
   "cell_type": "code",
   "execution_count": 7,
   "metadata": {},
   "outputs": [
    {
     "name": "stdout",
     "output_type": "stream",
     "text": [
      "Hello. I could print because the if condition is True\n",
      "I could also print because the if condition is True\n",
      "c evaluates to True so I could print because the if condition is True\n"
     ]
    }
   ],
   "source": [
    "a = 1\n",
    "b = 0\n",
    "c = 100\n",
    "\n",
    "if a == True:\n",
    "    print('Hello. I could print because the if condition is True')\n",
    "    \n",
    "if b == False:\n",
    "    print('I could also print because the if condition is True')\n",
    "    \n",
    "if c:\n",
    "    print('c evaluates to True so I could print because the if condition is True')"
   ]
  },
  {
   "cell_type": "code",
   "execution_count": 8,
   "metadata": {},
   "outputs": [
    {
     "name": "stdout",
     "output_type": "stream",
     "text": [
      "Hello. I could print because the if condition is True\n"
     ]
    }
   ],
   "source": [
    "if True:\n",
    "    print('Hello. I could print because the if condition is True')\n",
    "    \n",
    "if False:\n",
    "    print('Hi there! I wont be print because the if condition is False')"
   ]
  },
  {
   "cell_type": "code",
   "execution_count": 9,
   "metadata": {},
   "outputs": [
    {
     "name": "stdout",
     "output_type": "stream",
     "text": [
      "Hello. I could print because the if condition is True\n"
     ]
    }
   ],
   "source": [
    "if 100:\n",
    "    print('Hello. I could print because the if condition is True')"
   ]
  },
  {
   "cell_type": "code",
   "execution_count": 10,
   "metadata": {},
   "outputs": [],
   "source": [
    "if 0:\n",
    "    print('Hi there! I wont be print because the if condition is False')"
   ]
  },
  {
   "cell_type": "code",
   "execution_count": 11,
   "metadata": {},
   "outputs": [
    {
     "name": "stdout",
     "output_type": "stream",
     "text": [
      "Hello. I could print because the if condition is True\n"
     ]
    }
   ],
   "source": [
    "if 'Python':\n",
    "    print('Hello. I could print because the if condition is True')\n",
    "\n",
    "if '':\n",
    "    print('Hi there! I wont be print because the if condition is False')"
   ]
  },
  {
   "cell_type": "code",
   "execution_count": 12,
   "metadata": {},
   "outputs": [
    {
     "name": "stdout",
     "output_type": "stream",
     "text": [
      "None\n",
      "<class 'NoneType'>\n"
     ]
    }
   ],
   "source": [
    "#5. None datatype\n",
    "\n",
    "a = None\n",
    "print(a)\n",
    "print(type(a))"
   ]
  },
  {
   "cell_type": "code",
   "execution_count": 89,
   "metadata": {},
   "outputs": [
    {
     "name": "stdout",
     "output_type": "stream",
     "text": [
      "Python\n",
      "False\n"
     ]
    }
   ],
   "source": [
    "a==10\n",
    "b=a\n",
    "print(b)\n",
    "print(b==None)\n"
   ]
  },
  {
   "cell_type": "code",
   "execution_count": 13,
   "metadata": {},
   "outputs": [
    {
     "name": "stdout",
     "output_type": "stream",
     "text": [
      "False\n",
      "False\n"
     ]
    }
   ],
   "source": [
    "b = a==10\n",
    "print(b)\n",
    "print(b==None)"
   ]
  },
  {
   "cell_type": "code",
   "execution_count": 14,
   "metadata": {},
   "outputs": [
    {
     "name": "stdout",
     "output_type": "stream",
     "text": [
      "'' = None is False\n",
      "0 = None is False\n"
     ]
    }
   ],
   "source": [
    "b = ''\n",
    "c = 0\n",
    "\n",
    "print(\"'' = None is\", b == None)\n",
    "print(\"0 = None is\", c == None)"
   ]
  },
  {
   "cell_type": "code",
   "execution_count": 92,
   "metadata": {},
   "outputs": [
    {
     "ename": "NameError",
     "evalue": "name 'hh' is not defined",
     "output_type": "error",
     "traceback": [
      "\u001b[1;31m---------------------------------------------------------------------------\u001b[0m",
      "\u001b[1;31mNameError\u001b[0m                                 Traceback (most recent call last)",
      "\u001b[1;32m<ipython-input-92-0bb3c0f9e196>\u001b[0m in \u001b[0;36m<module>\u001b[1;34m\u001b[0m\n\u001b[1;32m----> 1\u001b[1;33m \u001b[0mhh\u001b[0m\u001b[1;33m==\u001b[0m\u001b[1;36m10\u001b[0m\u001b[1;33m\u001b[0m\u001b[1;33m\u001b[0m\u001b[0m\n\u001b[0m\u001b[0;32m      2\u001b[0m \u001b[0mb\u001b[0m\u001b[1;33m=\u001b[0m\u001b[0mx\u001b[0m\u001b[1;33m\u001b[0m\u001b[1;33m\u001b[0m\u001b[0m\n\u001b[0;32m      3\u001b[0m \u001b[0mprint\u001b[0m\u001b[1;33m(\u001b[0m\u001b[0mb\u001b[0m\u001b[1;33m)\u001b[0m\u001b[1;33m\u001b[0m\u001b[1;33m\u001b[0m\u001b[0m\n\u001b[0;32m      4\u001b[0m \u001b[0mprint\u001b[0m\u001b[1;33m(\u001b[0m\u001b[0mtype\u001b[0m\u001b[1;33m(\u001b[0m\u001b[0mb\u001b[0m\u001b[1;33m)\u001b[0m\u001b[1;33m)\u001b[0m\u001b[1;33m\u001b[0m\u001b[1;33m\u001b[0m\u001b[0m\n",
      "\u001b[1;31mNameError\u001b[0m: name 'hh' is not defined"
     ]
    }
   ],
   "source": []
  },
  {
   "cell_type": "code",
   "execution_count": 90,
   "metadata": {},
   "outputs": [
    {
     "name": "stdout",
     "output_type": "stream",
     "text": [
      "****\n",
      "Result of temp_func is None\n"
     ]
    }
   ],
   "source": [
    "x = 3\n",
    "y = 5\n",
    "\n",
    "def temp_func():\n",
    "    print('****')\n",
    "    z = x + y\n",
    "    #return temp_func()\n",
    "    \n",
    "print('Result of temp_func is', temp_func())"
   ]
  },
  {
   "cell_type": "code",
   "execution_count": null,
   "metadata": {},
   "outputs": [],
   "source": [
    "def temp_func():\n",
    "    print('****')\n",
    "    z = x + y\n",
    "    return 'This is the return from the temporary function', z\n",
    "\n",
    "print(temp_func())"
   ]
  },
  {
   "cell_type": "code",
   "execution_count": 17,
   "metadata": {},
   "outputs": [
    {
     "name": "stdout",
     "output_type": "stream",
     "text": [
      "<class 'str'>\n",
      "<class 'str'>\n",
      "<class 'str'>\n"
     ]
    }
   ],
   "source": [
    "#6. Strings\n",
    "\n",
    "#Strings are text or characters they are usually enclosed in single ('Python'), double (\"Python\") or triple ('''Python''')\n",
    "#quotation marks\n",
    "\n",
    "print(type('Python'))\n",
    "print(type(\"Python\"))\n",
    "print(type('''Python'''))"
   ]
  },
  {
   "cell_type": "markdown",
   "metadata": {},
   "source": [
    "#### Before taking you any futher in the datatypes, I wish to digress into memory management and indexing, slicing and iteration in Python.\n",
    "\n",
    "#### Then we shall discuss the idea of Object-Re-usability. \n",
    "\n",
    "#### Then we shall take a look at another simple datatype - Lists\n",
    "\n",
    "#### And finally, we can explain mutability and immutability in Python."
   ]
  },
  {
   "cell_type": "code",
   "execution_count": 18,
   "metadata": {},
   "outputs": [
    {
     "name": "stdout",
     "output_type": "stream",
     "text": [
      "True\n",
      "2740308033456 2740308033456\n"
     ]
    }
   ],
   "source": [
    "### Memory Management in python\n",
    "\n",
    "## On start up Python initialises\n",
    "#1. All alphabets in upper and lower case\n",
    "#2. Numbers between -5 to 256\n",
    "#3. Boolean literals - True, False\n",
    "#4. None Datatype\n",
    "\n",
    "# These are the most used objects and this initialisation is done to reduce overhead. Every time one of these characters\n",
    "# is used, Python points to the same memory location. \n",
    "\n",
    "### Note that this range is typical for CPython i.e. the C implementation of Python. CPython is the most common \n",
    "### implementation of Python. However, other implementations such as JPython, IronPython etc. may have a different range.\n",
    "\n",
    "x = 'a'\n",
    "y = 'a'\n",
    "\n",
    "print(x is y)\n",
    "print(id(x), id(y))"
   ]
  },
  {
   "cell_type": "code",
   "execution_count": 19,
   "metadata": {},
   "outputs": [
    {
     "name": "stdout",
     "output_type": "stream",
     "text": [
      "True\n",
      "2740308175536 2740308175536\n"
     ]
    }
   ],
   "source": [
    "a = 'Python'\n",
    "b = 'Python'\n",
    "print(a is b)\n",
    "print(id(a), id(b))"
   ]
  },
  {
   "cell_type": "code",
   "execution_count": 20,
   "metadata": {},
   "outputs": [
    {
     "name": "stdout",
     "output_type": "stream",
     "text": [
      "<class 'int'>\n"
     ]
    }
   ],
   "source": [
    "a = '#'\n",
    "b = '#'\n",
    "\n",
    "a = 0\n",
    "print(type(a))\n",
    "\n",
    "\n",
    "# print(a is b)\n",
    "# print(id(a), id(b))"
   ]
  },
  {
   "cell_type": "code",
   "execution_count": 21,
   "metadata": {},
   "outputs": [
    {
     "name": "stdout",
     "output_type": "stream",
     "text": [
      "True\n",
      "140737028761344 140737028761344\n"
     ]
    }
   ],
   "source": [
    "x = 0\n",
    "y = 0\n",
    "\n",
    "print(x is y)\n",
    "print(id(x), id(y))"
   ]
  },
  {
   "cell_type": "code",
   "execution_count": 22,
   "metadata": {},
   "outputs": [
    {
     "name": "stdout",
     "output_type": "stream",
     "text": [
      "True\n",
      "140737028761376 140737028761376\n"
     ]
    }
   ],
   "source": [
    "x = 1\n",
    "y = 1\n",
    "\n",
    "print(x is y)\n",
    "print(id(x), id(y))"
   ]
  },
  {
   "cell_type": "code",
   "execution_count": 23,
   "metadata": {},
   "outputs": [
    {
     "name": "stdout",
     "output_type": "stream",
     "text": [
      "True\n",
      "140737028761312 140737028761312\n"
     ]
    }
   ],
   "source": [
    "x = -1\n",
    "y = -1\n",
    "\n",
    "print(x is y)\n",
    "print(id(x), id(y))"
   ]
  },
  {
   "cell_type": "code",
   "execution_count": 24,
   "metadata": {},
   "outputs": [
    {
     "name": "stdout",
     "output_type": "stream",
     "text": [
      "True\n",
      "140737028764544 140737028764544\n"
     ]
    }
   ],
   "source": [
    "x = 100\n",
    "y = 100\n",
    "\n",
    "print(x is y)\n",
    "print(id(x), id(y))"
   ]
  },
  {
   "cell_type": "code",
   "execution_count": 25,
   "metadata": {},
   "outputs": [
    {
     "name": "stdout",
     "output_type": "stream",
     "text": [
      "True\n",
      "140737028769536 140737028769536\n"
     ]
    }
   ],
   "source": [
    "x = 256\n",
    "y = 256\n",
    "\n",
    "print(x is y)\n",
    "print(id(x), id(y))"
   ]
  },
  {
   "cell_type": "code",
   "execution_count": 26,
   "metadata": {},
   "outputs": [
    {
     "name": "stdout",
     "output_type": "stream",
     "text": [
      "False\n",
      "2740375533328 2740375533904\n"
     ]
    }
   ],
   "source": [
    "x = 257\n",
    "y = 257\n",
    "\n",
    "print(x is y)\n",
    "print(id(x), id(y))"
   ]
  },
  {
   "cell_type": "code",
   "execution_count": 27,
   "metadata": {},
   "outputs": [
    {
     "name": "stdout",
     "output_type": "stream",
     "text": [
      "True\n",
      "140737028761184 140737028761184\n"
     ]
    }
   ],
   "source": [
    "x = -5\n",
    "y = -5\n",
    "\n",
    "print(x is y)\n",
    "print(id(x), id(y))"
   ]
  },
  {
   "cell_type": "code",
   "execution_count": 28,
   "metadata": {},
   "outputs": [
    {
     "name": "stdout",
     "output_type": "stream",
     "text": [
      "False\n",
      "2740375533904 2740375532944\n"
     ]
    }
   ],
   "source": [
    "x = -6\n",
    "y = -6\n",
    "\n",
    "print(x is y)\n",
    "print(id(x), id(y))"
   ]
  },
  {
   "cell_type": "code",
   "execution_count": 29,
   "metadata": {},
   "outputs": [
    {
     "name": "stdout",
     "output_type": "stream",
     "text": [
      "False\n",
      "2740375534096 2740375534160\n"
     ]
    }
   ],
   "source": [
    "### For the most part, the above range holds true for CPython. However, IDEs and systems also have cache memory and have\n",
    "### their own set of rules to optimize memory. It is not suprising to see objects outside this range sometimes having the\n",
    "### same ID especially if a block of code has been run repeatedly.\n",
    "\n",
    "x = 10000\n",
    "y = 10000\n",
    "z = x\n",
    "\n",
    "print(x is y)\n",
    "print(id(x), id(y))\n",
    "# print(z is x)\n",
    "\n",
    "### Lets see this in another IDE 'Thonny'\n",
    "\n",
    "\n",
    "#XXXXXXXXXXXXXXXXXXXXXXXXXXXXXXXXXXXXXXXXXXXXXXXXXXXXXXXXXXXXXXXXXXXXXXXXXXXXXXXXXXXXXXXXXXXXXXXXXXXXXXXXXXXXXXXXXXXXXXXXXX"
   ]
  },
  {
   "cell_type": "code",
   "execution_count": 30,
   "metadata": {},
   "outputs": [
    {
     "name": "stdout",
     "output_type": "stream",
     "text": [
      "True\n"
     ]
    }
   ],
   "source": [
    "v = None\n",
    "w = None\n",
    "\n",
    "print(v is w)"
   ]
  },
  {
   "cell_type": "code",
   "execution_count": 31,
   "metadata": {},
   "outputs": [
    {
     "name": "stdout",
     "output_type": "stream",
     "text": [
      "True\n"
     ]
    }
   ],
   "source": [
    "v = True\n",
    "w = True\n",
    "\n",
    "print(v is w)"
   ]
  },
  {
   "cell_type": "code",
   "execution_count": 32,
   "metadata": {},
   "outputs": [
    {
     "name": "stdout",
     "output_type": "stream",
     "text": [
      "True\n"
     ]
    }
   ],
   "source": [
    "v = False\n",
    "w = False\n",
    "\n",
    "print(v is w)"
   ]
  },
  {
   "cell_type": "code",
   "execution_count": 33,
   "metadata": {},
   "outputs": [
    {
     "name": "stdout",
     "output_type": "stream",
     "text": [
      "P\n",
      "n\n",
      "Pytho\n",
      "Pyth\n"
     ]
    }
   ],
   "source": [
    "# Indexing in Python\n",
    "\n",
    "abc = 'Python'\n",
    "print(abc[0])\n",
    "print(abc[5])\n",
    "\n",
    "print(abc[0:5])\n",
    "print(abc[-6:-2])"
   ]
  },
  {
   "cell_type": "code",
   "execution_count": 34,
   "metadata": {},
   "outputs": [
    {
     "data": {
      "text/plain": [
       "'P'"
      ]
     },
     "execution_count": 34,
     "metadata": {},
     "output_type": "execute_result"
    }
   ],
   "source": [
    "abc[-1]\n",
    "abc[-6]"
   ]
  },
  {
   "cell_type": "code",
   "execution_count": 35,
   "metadata": {},
   "outputs": [
    {
     "name": "stdout",
     "output_type": "stream",
     "text": [
      "<class 'list'>\n"
     ]
    }
   ],
   "source": [
    "xyz = [1,2,3,4,5,6]\n",
    "\n",
    "print(type(xyz))"
   ]
  },
  {
   "cell_type": "code",
   "execution_count": 36,
   "metadata": {},
   "outputs": [
    {
     "name": "stdout",
     "output_type": "stream",
     "text": [
      "1\n",
      "6\n"
     ]
    }
   ],
   "source": [
    "xyz = [1,2,3,4,5,6]\n",
    "print(xyz[0])\n",
    "print(xyz[5])"
   ]
  },
  {
   "cell_type": "code",
   "execution_count": 37,
   "metadata": {},
   "outputs": [
    {
     "name": "stdout",
     "output_type": "stream",
     "text": [
      "6\n",
      "1\n"
     ]
    }
   ],
   "source": [
    "print(xyz[-1])\n",
    "print(xyz[-6])"
   ]
  },
  {
   "cell_type": "code",
   "execution_count": 38,
   "metadata": {},
   "outputs": [
    {
     "name": "stdout",
     "output_type": "stream",
     "text": [
      "1\n",
      "200\n",
      "1000\n"
     ]
    }
   ],
   "source": [
    "## Nested Indexing\n",
    "\n",
    "nest_lst = [1,2*100,['a', 2, 'Hello'], ['Nested', 'List'], 1000]\n",
    "\n",
    "print(nest_lst[0])\n",
    "print(nest_lst[1])\n",
    "print(nest_lst[-1])"
   ]
  },
  {
   "cell_type": "code",
   "execution_count": 39,
   "metadata": {},
   "outputs": [
    {
     "name": "stdout",
     "output_type": "stream",
     "text": [
      "Hello\n",
      "2\n",
      "Nested\n"
     ]
    }
   ],
   "source": [
    "print(nest_lst[2][2])\n",
    "print(nest_lst[2][1])\n",
    "print(nest_lst[3][0])"
   ]
  },
  {
   "cell_type": "code",
   "execution_count": 70,
   "metadata": {},
   "outputs": [
    {
     "name": "stdout",
     "output_type": "stream",
     "text": [
      "2740306594096 2740306594096 2740306594096\n",
      "True\n",
      "True\n",
      "True\n"
     ]
    }
   ],
   "source": [
    "## Object reutilisation in Python\n",
    "\n",
    "a = 'Python'\n",
    "bt = 'python'\n",
    "b = 'P'\n",
    "c = 'y'\n",
    "d = 't'\n",
    "e = 'h'\n",
    "f = 'o'\n",
    "g = 'n'\n",
    "\n",
    "# print(a[0], a[0] is b)\n",
    "# print(id(a[0]), id(b))\n",
    "\n",
    "# print(id(a))\n",
    "\n",
    "print(id(a[1]), id(bt[1]), id(c))\n",
    "print(a[1] is bt[1])\n",
    "print(a[1] is c)\n",
    "print(bt[1] is c)\n",
    "# print(a[1], a[1] is c)\n",
    "# print(a[2], a[2] is d)\n",
    "# print(a[3], a[3] is e)\n",
    "# print(a[4], a[4] is f)\n",
    "# print(a[5], a[5] is g)"
   ]
  },
  {
   "cell_type": "code",
   "execution_count": 41,
   "metadata": {},
   "outputs": [
    {
     "name": "stdout",
     "output_type": "stream",
     "text": [
      "1 True\n",
      "2 True\n",
      "3 True\n",
      "4 True\n",
      "5 True\n",
      "6 True\n"
     ]
    }
   ],
   "source": [
    "a = [1,2,3,4,5,6]\n",
    "b = 1\n",
    "c = 2\n",
    "d = 3\n",
    "e = 4\n",
    "f = 5\n",
    "g = 6\n",
    "\n",
    "print(a[0], a[0] is b)\n",
    "print(a[1], a[1] is c)\n",
    "print(a[2], a[2] is d)\n",
    "print(a[3], a[3] is e)\n",
    "print(a[4], a[4] is f)\n",
    "print(a[5], a[5] is g)"
   ]
  },
  {
   "cell_type": "code",
   "execution_count": 42,
   "metadata": {},
   "outputs": [
    {
     "name": "stdout",
     "output_type": "stream",
     "text": [
      "1000 False\n",
      "2000 False\n",
      "3000 False\n",
      "4000 False\n",
      "5000 False\n",
      "6000 False\n"
     ]
    }
   ],
   "source": [
    "a = [1000,2000,3000,4000,5000,6000]\n",
    "b = 1000\n",
    "c = 2000\n",
    "d = 3000\n",
    "e = 4000\n",
    "f = 5000\n",
    "g = 6000\n",
    "\n",
    "print(a[0], a[0] is b)\n",
    "print(a[1], a[1] is c)\n",
    "print(a[2], a[2] is d)\n",
    "print(a[3], a[3] is e)\n",
    "print(a[4], a[4] is f)\n",
    "print(a[5], a[5] is g)"
   ]
  },
  {
   "cell_type": "code",
   "execution_count": 43,
   "metadata": {},
   "outputs": [
    {
     "name": "stdout",
     "output_type": "stream",
     "text": [
      "1 True\n",
      "2 True\n",
      "3 True\n",
      "4 True\n",
      "5 True\n",
      "6 True\n"
     ]
    }
   ],
   "source": [
    "b = 1\n",
    "c = 2\n",
    "d = 3\n",
    "e = 4\n",
    "f = 5\n",
    "g = 6\n",
    "\n",
    "a = [b,c,d,e,f,g]\n",
    "\n",
    "print(a[0], a[0] is b)\n",
    "print(a[1], a[1] is c)\n",
    "print(a[2], a[2] is d)\n",
    "print(a[3], a[3] is e)\n",
    "print(a[4], a[4] is f)\n",
    "print(a[5], a[5] is g)"
   ]
  },
  {
   "cell_type": "markdown",
   "metadata": {},
   "source": [
    "### Indexing and Slicing(Part 2)"
   ]
  },
  {
   "cell_type": "code",
   "execution_count": null,
   "metadata": {},
   "outputs": [],
   "source": [
    "## Syntax for slicing"
   ]
  },
  {
   "cell_type": "code",
   "execution_count": 48,
   "metadata": {},
   "outputs": [
    {
     "name": "stdout",
     "output_type": "stream",
     "text": [
      "Python\n"
     ]
    }
   ],
   "source": [
    "## Slicing in Python takes 3 parameters\n",
    "\n",
    "# [Start index : Stop Index : Step Size] enclosed in Square Brackets next to the object that supports indexing. \n",
    "\n",
    "abc = 'Python'\n",
    "\n",
    "print(abc[0:6:1])"
   ]
  },
  {
   "cell_type": "code",
   "execution_count": 45,
   "metadata": {},
   "outputs": [
    {
     "name": "stdout",
     "output_type": "stream",
     "text": [
      "Pytho\n"
     ]
    }
   ],
   "source": [
    "print(abc[0:5:1])"
   ]
  },
  {
   "cell_type": "code",
   "execution_count": 46,
   "metadata": {},
   "outputs": [
    {
     "name": "stdout",
     "output_type": "stream",
     "text": [
      "yth\n"
     ]
    }
   ],
   "source": [
    "print(abc[1:4:1])"
   ]
  },
  {
   "cell_type": "code",
   "execution_count": 51,
   "metadata": {},
   "outputs": [
    {
     "name": "stdout",
     "output_type": "stream",
     "text": [
      "Ph\n"
     ]
    }
   ],
   "source": [
    "print(abc[0:6:3])"
   ]
  },
  {
   "cell_type": "code",
   "execution_count": 52,
   "metadata": {},
   "outputs": [
    {
     "name": "stdout",
     "output_type": "stream",
     "text": [
      "Python\n"
     ]
    }
   ],
   "source": [
    "# All three parameters are optional i.e. if not provided the defaults will be taken. \n",
    "\n",
    "# Defaults are:\n",
    "\n",
    "# Start index - defaults to 0\n",
    "# Stop index - defaults to end of indexable object\n",
    "# Step size - defaults to 1\n",
    "\n",
    "# However, if defaults are to be used just include a colon inside square brackets so - [:] \n",
    "\n",
    "print(abc[:])"
   ]
  },
  {
   "cell_type": "code",
   "execution_count": 55,
   "metadata": {},
   "outputs": [
    {
     "name": "stdout",
     "output_type": "stream",
     "text": [
      "nhy\n"
     ]
    }
   ],
   "source": [
    "# We can also do negative slicing i.e. slice backwards or from the end.\n",
    "\n",
    "print(abc[::-2])"
   ]
  },
  {
   "cell_type": "code",
   "execution_count": 54,
   "metadata": {},
   "outputs": [
    {
     "name": "stdout",
     "output_type": "stream",
     "text": [
      "\n"
     ]
    }
   ],
   "source": [
    "print(abc[1:4:-1])"
   ]
  },
  {
   "cell_type": "code",
   "execution_count": 56,
   "metadata": {},
   "outputs": [
    {
     "name": "stdout",
     "output_type": "stream",
     "text": [
      "oht\n"
     ]
    }
   ],
   "source": [
    "print(abc[4:1:-1])"
   ]
  },
  {
   "cell_type": "code",
   "execution_count": 57,
   "metadata": {},
   "outputs": [
    {
     "name": "stdout",
     "output_type": "stream",
     "text": [
      "1\n",
      "5\n",
      "[5, 4, 3, 2, 1]\n"
     ]
    }
   ],
   "source": [
    "# Lists\n",
    "\n",
    "x = [1,2,3,4,5]\n",
    "\n",
    "print(x[0])\n",
    "print(x[-1])\n",
    "print(x[::-1])"
   ]
  },
  {
   "cell_type": "code",
   "execution_count": null,
   "metadata": {},
   "outputs": [],
   "source": [
    "y = []\n",
    "print(y)"
   ]
  },
  {
   "cell_type": "code",
   "execution_count": 58,
   "metadata": {},
   "outputs": [
    {
     "name": "stdout",
     "output_type": "stream",
     "text": [
      "<class 'tuple'>\n"
     ]
    }
   ],
   "source": [
    "z = (1,2,3,4,5)\n",
    "print(type(z))"
   ]
  },
  {
   "cell_type": "code",
   "execution_count": 59,
   "metadata": {},
   "outputs": [
    {
     "name": "stdout",
     "output_type": "stream",
     "text": [
      "[1, 2, 3, 4, 5]\n"
     ]
    }
   ],
   "source": [
    "y = list(z)\n",
    "print(y)"
   ]
  },
  {
   "cell_type": "code",
   "execution_count": 60,
   "metadata": {},
   "outputs": [
    {
     "name": "stdout",
     "output_type": "stream",
     "text": [
      "[1, 2, 3, 4, 5]\n"
     ]
    }
   ],
   "source": [
    "y = list((1,2,3,4,5))\n",
    "print(y)"
   ]
  },
  {
   "cell_type": "code",
   "execution_count": null,
   "metadata": {},
   "outputs": [],
   "source": [
    "# A list is a datatype in Python that holds a collection of elements. \n",
    "# It can hold different datatypes. \n",
    "# It is mutable. \n",
    "# It is considered a 'Sequence'. The reason it is considered a sequence is that it is ordered and elements can be accessed\n",
    "# through the index position. holds other memory objects (or more specifically, a pointer to the location where the object\n",
    "# is actually stored.) Slicing, Indexing and iteration can be performed over sequential datatypes .\n",
    "\n",
    "# We can perform iteration on a list:\n",
    "\n",
    "for a in x:\n",
    "    print(f'7 times {a} is {a * 7}.')"
   ]
  },
  {
   "cell_type": "code",
   "execution_count": null,
   "metadata": {},
   "outputs": [],
   "source": [
    "    \n",
    "#Nesting - Lists, Tuples and Dictionaries(only for their values) support nesting. \n",
    "\n",
    "lst11 = [1,2,3, [4,5,6]]\n",
    "\n",
    "for a in lst11:\n",
    "    print(a)"
   ]
  },
  {
   "cell_type": "code",
   "execution_count": null,
   "metadata": {},
   "outputs": [],
   "source": [
    "# To access a nested list(or other iterable) by index number, simply call the index positions one after the other, \n",
    "# Like looking for a street number and then the house number. \n",
    "\n",
    "print(lst11[3][2])\n",
    "\n",
    "lst111 = [1,[2,'a', 'KKR', 'RCB'], 3, [4,5,6]]\n",
    "\n",
    "print(lst111[1][2])"
   ]
  },
  {
   "cell_type": "code",
   "execution_count": null,
   "metadata": {},
   "outputs": [],
   "source": [
    "# lst22 = [1,2,3,[4,5,6]]\n",
    "\n",
    "# print(lst22)\n",
    "\n",
    "# for a in lst22:\n",
    "#     if hasattr(a, '__iter__'):\n",
    "#         print(f'{a} is iterable and has the following values')\n",
    "#         for b in a:\n",
    "#             print(b)\n",
    "#     else:\n",
    "#         print(f'{a} is not iterable')"
   ]
  },
  {
   "cell_type": "code",
   "execution_count": null,
   "metadata": {},
   "outputs": [],
   "source": [
    "# Python also has an array module for creating arrays. An array can only hold one datatype and that has to be specified\n",
    "# while creating the array. An array is mutable i.e. indexing, slicing, iteration, addition/deletion of elements, \n",
    "# concatenation etc - all these can be performed. \n",
    "\n",
    "import array as arr\n",
    "\n",
    "new_arr = arr.array('i', [1,2,3,4,5])\n",
    "\n",
    "print(new_arr)\n",
    "print(new_arr[0])\n",
    "print(type(new_arr))\n",
    "\n",
    "#Note arr is just an alias (nickname) for the module we are importing so it is easier & faster to type. Once we alias\n",
    "# the import, all the functions in the module will work exactly as originally intended."
   ]
  },
  {
   "cell_type": "code",
   "execution_count": null,
   "metadata": {},
   "outputs": [],
   "source": [
    "# Arrays are fast to process since they contain only datatype and are an important datatype in the Data Science journey. \n",
    "# However, Numpy library is mostly used for arrays in Data Science and we shall cover the Numpy library in detail going\n",
    "# forward.\n",
    "\n",
    "# Difference between Array and List - An array can only hold one datatype. Lists can hold multiple datatypes. They can hold\n",
    "# other sequential datatypes.\n",
    "\n",
    "x = [1,'a', None, True, 3+2j, 10.2, ['P', 'for', 'pajamas']]\n",
    "\n",
    "for a in x:\n",
    "    print(a)"
   ]
  },
  {
   "cell_type": "code",
   "execution_count": null,
   "metadata": {},
   "outputs": [],
   "source": [
    "for a in x[-1]:\n",
    "    print(a)\n",
    "\n",
    "# for a in x[0]:\n",
    "#     print(a)"
   ]
  },
  {
   "cell_type": "code",
   "execution_count": null,
   "metadata": {},
   "outputs": [],
   "source": [
    "#### Mutability and immutability\n",
    "\n",
    "# Fundamental datatypes in Python are immutable. You can think of an immutable datatype as one that cannot be broken down\n",
    "# further without losing its meaning.\n",
    "\n",
    "# String fundamental datatype is peculiar in Python because though it is sequential and supports indexing, slicing and\n",
    "# iteration, it is immutable. \n",
    "\n",
    "# String Character (NOTE - I am clearly not saying a string of characters but a single character)\n",
    "\n",
    "# If I type the letter P, can I in any way change it to another letter without changing what it represents?\n",
    "# The number 645, can I in any way change it to another number without changing what it represents?\n",
    "# Complex number 3+5j, if I change this to 2 + 4j - does this not change what it represents?\n",
    "# Changing True to False in Boolean datatype obviously changes its meaning\n",
    "# None datatype to any other datatype makes it lose its meaning. \n",
    "\n",
    "#However a sequential derived datatype, may or may not be mutatble based on how it is defined in Python and its uses.\n",
    "# A list of students in class [Adithya, Subham, Vaishnavi, Venu, Venkat, Varun]\n",
    "# I could change one of them it still remains the list of students in class but only the names inside have changed.\n",
    "\n",
    "# One may argue that a 3-digit number is sequential. No it is not. Please remember that 645 is basically 6 x 100 + 4 x 10 \n",
    "# + 5 x 1. Without treating this as a single unit - the computer would have no way of understanding its actual value of 645.\n",
    "\n",
    "# Now that we can agree that fundamental datatypes in Python are immutable, let us understand how Python handles fundamental\n",
    "# datatypes and Derived datatypes. Note, for a datatype to be mutable it must be derived datatype. We are hearing the\n",
    "# word mutable so much # What IS IT??"
   ]
  },
  {
   "cell_type": "code",
   "execution_count": null,
   "metadata": {},
   "outputs": [],
   "source": [
    "a = 1000\n",
    "b = 'Python'\n",
    "\n",
    "lst1 = [a, b]\n",
    "\n",
    "print(a is lst1[0])\n",
    "print(b is lst1[1])\n",
    "print(id(a), id(lst1[0]))\n",
    "print(id(b), id(lst1[1]))\n",
    "\n",
    "#So, as we see, lst1 is actually holding the objects which were in variables a and b. Specifically, it is actually holding\n",
    "#only the pointers to where these objects are located in the memory."
   ]
  },
  {
   "cell_type": "code",
   "execution_count": null,
   "metadata": {},
   "outputs": [],
   "source": [
    "lst1 = [1, 'P']\n",
    "\n",
    "a = 1\n",
    "b = 'P'\n",
    "print(1 is lst1[0])\n",
    "print('P' is lst1[1])"
   ]
  },
  {
   "cell_type": "code",
   "execution_count": null,
   "metadata": {},
   "outputs": [],
   "source": [
    "print(a is lst1[0])\n",
    "print(b is lst1[1])"
   ]
  },
  {
   "cell_type": "code",
   "execution_count": null,
   "metadata": {},
   "outputs": [],
   "source": [
    "print(id(1), id(a), id(lst1[0]))\n",
    "print(id('P'), id(b), id(lst1[1]))"
   ]
  },
  {
   "cell_type": "code",
   "execution_count": null,
   "metadata": {},
   "outputs": [],
   "source": [
    "lst1 = [1000, 'Python']\n",
    "a = 1000\n",
    "b = 'Python'\n",
    "print(1000 is lst1[0])\n",
    "print('Python' is lst1[1])"
   ]
  },
  {
   "cell_type": "code",
   "execution_count": null,
   "metadata": {},
   "outputs": [],
   "source": [
    "print(a is lst1[0])\n",
    "print(b is lst1[1])"
   ]
  },
  {
   "cell_type": "code",
   "execution_count": null,
   "metadata": {},
   "outputs": [],
   "source": [
    "print(id(1000), id(a), id(lst1[0]))\n",
    "print(id('Python'), id(b), id(lst1[1]))"
   ]
  },
  {
   "cell_type": "code",
   "execution_count": null,
   "metadata": {},
   "outputs": [],
   "source": [
    "lst1 = [a, b]\n",
    "\n",
    "print(a is lst1[0])\n",
    "print(b is lst1[1])"
   ]
  },
  {
   "cell_type": "code",
   "execution_count": null,
   "metadata": {},
   "outputs": [],
   "source": [
    "print(id(a), id(lst1[0]))\n",
    "print(id(b), id(lst1[1]))"
   ]
  },
  {
   "cell_type": "code",
   "execution_count": null,
   "metadata": {},
   "outputs": [],
   "source": [
    "# We can access the element at a certain index location in the list and alter it.\n",
    "\n",
    "c = 2000\n",
    "\n",
    "lst1[1] = c\n",
    "\n",
    "print(lst1)"
   ]
  },
  {
   "cell_type": "code",
   "execution_count": null,
   "metadata": {},
   "outputs": [],
   "source": [
    "# We can extend the list by using the append function i.e. add another element to it.\n",
    "\n",
    "lst1.append(b)\n",
    "print(lst1)"
   ]
  },
  {
   "cell_type": "code",
   "execution_count": null,
   "metadata": {},
   "outputs": [],
   "source": [
    "# We can iterate over it.\n",
    "\n",
    "for a in lst1:\n",
    "    print(a)\n",
    "    \n",
    "for a in range(len(lst1)):\n",
    "    print(lst1[a])"
   ]
  },
  {
   "cell_type": "code",
   "execution_count": null,
   "metadata": {},
   "outputs": [],
   "source": [
    "# All the above prove that a list is a MUTABLE datatype in Python. A list is NOT a fundamental datatype. It is a derived\n",
    "# data type. It is sequential i.e. it doesnt contain the objects themselves but the memory locations of the objects\n",
    "# that it contains. Therefore we can perform slicing, indexing and iteration over it. \n",
    "\n",
    "# But that does not mean that a datatype that is sequential, one that we CAN slice, index or iterate over is necessarily a\n",
    "# mutable type. In derived datatypes - tuples and frozen sets are immutable - even though they are sequential. A range\n",
    "# datatype # is a peculiar datatype in that it is a function AND a datatype. \n",
    "\n",
    "# A dictionary datatype is ordered starting in Python 3.7 - therefore sequential. Yet, it does not support indexing or slicing. \n",
    "# The KEYS of dictionaries are immutable, the values may or may not be mutable and the dictionary ITSELF is mutable. Though a tuple itself is immutable, it can hold\n",
    "# mutable datatypes and therefore the elements inside a mutable element inside a tuple can be mutated.\n",
    "\n",
    "# The above 5 lines are bound to make anyones head spin. But once we dig deeper into each of these datatypes, it will not\n",
    "# be a headscratcher any more."
   ]
  },
  {
   "cell_type": "code",
   "execution_count": null,
   "metadata": {},
   "outputs": [],
   "source": [
    "# But now we come to the mother of all mutable/immutable exceptions:\n",
    "\n",
    "## The string of length more than 1\n",
    "\n",
    "a = 'Python'\n",
    "print(a[0] is 'P')\n",
    "print(a[1] is 'y')\n",
    "print(a[2] is 't')\n",
    "print(a[3] is 'h')\n",
    "print(a[4] is 'o')\n",
    "print(a[5] is 'n')"
   ]
  },
  {
   "cell_type": "code",
   "execution_count": null,
   "metadata": {},
   "outputs": [],
   "source": [
    "for x in a:\n",
    "    print(x)\n",
    "    \n",
    "ida = id(a)\n",
    "print(ida)"
   ]
  },
  {
   "cell_type": "code",
   "execution_count": null,
   "metadata": {},
   "outputs": [],
   "source": [
    "# As we can see, a string of more than one characters is sequential i.e. contains the memory location of other objects\n",
    "# of which it comprises. It can be indexed, sliced and iterated over. However, a string is STILL immutable in Python i.e. \n",
    "# even if I wished to change just one letter of a string text (i) Strings do not support item/index assignment i.e. changing\n",
    "# of characters inside the string and (ii) Reassigning a new string value to the variable will store the new object in a \n",
    "# different memory location.\n",
    "\n",
    "a[0] = 'p'\n",
    "\n",
    "print(a)\n",
    "\n",
    "print(id(a))"
   ]
  },
  {
   "cell_type": "code",
   "execution_count": null,
   "metadata": {},
   "outputs": [],
   "source": [
    "a = 'python'\n",
    "\n",
    "idaa = id(a)\n",
    "print(id(a))"
   ]
  },
  {
   "cell_type": "code",
   "execution_count": null,
   "metadata": {},
   "outputs": [],
   "source": [
    "# We can get the values at a specific memory location in Python using the ctypes module\n",
    "\n",
    "import ctypes\n",
    "\n",
    "old_id_val = ctypes.cast(ida, ctypes.py_object).value\n",
    "new_id_val = ctypes.cast(idaa, ctypes.py_object).value\n",
    "\n",
    "print(f'Comparing values at specific memory location : {old_id_val}, {new_id_val}.')"
   ]
  },
  {
   "cell_type": "code",
   "execution_count": null,
   "metadata": {},
   "outputs": [],
   "source": [
    "# To delete an object, use the del() function\n",
    "\n",
    "del(a) \n",
    "\n",
    "print(a)"
   ]
  },
  {
   "cell_type": "markdown",
   "metadata": {},
   "source": [
    "### Now that we understand object re-usability, sequential datatypes and mutability and immutability we can return to the other datatypes in Python."
   ]
  },
  {
   "cell_type": "code",
   "execution_count": null,
   "metadata": {},
   "outputs": [],
   "source": [
    "#Range Datatype (and is also a built-in function in Python!)\n",
    "\n",
    "a = range(0,10,1)\n",
    "print(a)\n",
    "print(type(a))"
   ]
  },
  {
   "cell_type": "code",
   "execution_count": null,
   "metadata": {},
   "outputs": [],
   "source": [
    "b = [0,1,2,3,4,5,6,7,8,9]\n",
    "\n",
    "for x in a:\n",
    "    print(x, id(x) == id(b[x]))"
   ]
  },
  {
   "cell_type": "code",
   "execution_count": null,
   "metadata": {},
   "outputs": [],
   "source": [
    "#Range can take in 3 parameters\n",
    "\n",
    "#1. Start parameter - Optional. If not specified defaults to 0.\n",
    "#2. End Parameter - Mandatory\n",
    "#3. Step - Optional. If not specified defaults to 1\n",
    "\n",
    "## Please remember though - Start Parameter and Step are optional and have default values. BUT - you can never use the step\n",
    "# value if you do not specify the start value i.e. you can have the following combinations:\n",
    "\n",
    "# 1. (Only stop value)\n",
    "# 2. (Start value, Stop value)\n",
    "# 3. (Start value, Stop value, Step value)\n",
    "\n",
    "# But cannot have:\n",
    "\n",
    "# (Stop value, step value) without Start value. So, stop value is required whether or not start and step are specified. \n",
    "\n",
    "# Start value can be specified without step value (but with stop value). However, step value cannot be specified if stop\n",
    "# value or stop value is not specified.\n",
    "\n",
    "b = range(0,10,1)\n",
    "\n",
    "for x in b:\n",
    "    print(x)"
   ]
  },
  {
   "cell_type": "code",
   "execution_count": null,
   "metadata": {},
   "outputs": [],
   "source": [
    "b = range(0,10)\n",
    "\n",
    "for x in b:\n",
    "    print(x)"
   ]
  },
  {
   "cell_type": "code",
   "execution_count": null,
   "metadata": {},
   "outputs": [],
   "source": [
    "b = range(10)\n",
    "\n",
    "for x in b:\n",
    "    print(x)"
   ]
  },
  {
   "cell_type": "code",
   "execution_count": null,
   "metadata": {},
   "outputs": [],
   "source": [
    "b = range(0,10,2)\n",
    "\n",
    "for x in b:\n",
    "    print(x)"
   ]
  },
  {
   "cell_type": "code",
   "execution_count": null,
   "metadata": {},
   "outputs": [],
   "source": [
    "    \n",
    "b = range(10,2)\n",
    "\n",
    "for x in b:\n",
    "    print(x)"
   ]
  },
  {
   "cell_type": "code",
   "execution_count": null,
   "metadata": {},
   "outputs": [],
   "source": [
    "c = range(1,10,1)\n",
    "\n",
    "for x in c:\n",
    "    print(x)"
   ]
  },
  {
   "cell_type": "code",
   "execution_count": null,
   "metadata": {},
   "outputs": [],
   "source": [
    "c = range(1,10,2)\n",
    "\n",
    "for x in c:\n",
    "    print(x)"
   ]
  },
  {
   "cell_type": "code",
   "execution_count": null,
   "metadata": {},
   "outputs": [],
   "source": [
    "#Using range in reverse order\n",
    "\n",
    "b = range(10,0,-1)\n",
    "\n",
    "for x in b:\n",
    "    print(x)"
   ]
  },
  {
   "cell_type": "code",
   "execution_count": null,
   "metadata": {},
   "outputs": [],
   "source": [
    "#Using range to generate negative numbers\n",
    "\n",
    "b = range(0,-10,-1)\n",
    "\n",
    "for x in b:\n",
    "    print(x)"
   ]
  },
  {
   "cell_type": "code",
   "execution_count": null,
   "metadata": {},
   "outputs": [],
   "source": [
    "y = 3\n",
    "print(f'When slicing b we get back a range object {b[-2:-5]}')\n",
    "print(f'Object at index {y} of b is {b[y]}')"
   ]
  },
  {
   "cell_type": "code",
   "execution_count": null,
   "metadata": {},
   "outputs": [],
   "source": [
    "### Bytes datatype\n",
    "\n",
    "# Bytes datatype in Python is an immutable array of bytes. \n",
    "# Each element of the array can take values between 0 to 255.\n",
    "# A bytes datatype is iterable.\n",
    "\n",
    "# 8 bits make up a byte in binary. Maximum value of 8 bits is 255. \n",
    "# Fortunately, hexadecimal also has a maximum value of 255 but using only 2 digits. \n",
    "\n",
    "bint = bin(255)\n",
    "hexd = hex(255)\n",
    "\n",
    "print(bint, hexd, sep = '\\n')"
   ]
  },
  {
   "cell_type": "code",
   "execution_count": null,
   "metadata": {},
   "outputs": [],
   "source": [
    "### The bytes function in Python returns an immutable byte-array object representing the original object. It returns a \n",
    "# new datatype(object).\n",
    "\n",
    "# It can be used on either numbers or on strings. \n",
    "# It takes 3 parameters - \n",
    "\n",
    "#Source - The source object to be converted\n",
    "#Encoding - (In case of strings) whether to use ASCII, UTF-8 or UTF-16\n",
    "#Error - In case of an error while handling a string input, how to handle the error"
   ]
  },
  {
   "cell_type": "code",
   "execution_count": null,
   "metadata": {},
   "outputs": [],
   "source": [
    "### Bytes function with no arguments\n",
    "\n",
    "x = bytes()\n",
    "print(x)\n",
    "\n",
    "# # This returns a byte-array of no size. Note the output below with the prefix b and then empty string. "
   ]
  },
  {
   "cell_type": "code",
   "execution_count": null,
   "metadata": {},
   "outputs": [],
   "source": [
    "# ### Bytes function with one argument\n",
    "\n",
    "x = bytes(5)\n",
    "print(x)\n",
    "\n",
    "# # This returns a byte-array of specified size all initialised to 0 value in hexadecimal"
   ]
  },
  {
   "cell_type": "code",
   "execution_count": null,
   "metadata": {},
   "outputs": [],
   "source": [
    "for a in x:\n",
    "    print(a)"
   ]
  },
  {
   "cell_type": "code",
   "execution_count": null,
   "metadata": {},
   "outputs": [],
   "source": [
    "    \n",
    "### Bytes function with an iterable object (or string character, more on that later)\n",
    "\n",
    "x = bytes([1,2,7,79])\n",
    "print(x)"
   ]
  },
  {
   "cell_type": "code",
   "execution_count": null,
   "metadata": {},
   "outputs": [],
   "source": [
    "for a in x:\n",
    "    print(a)"
   ]
  },
  {
   "cell_type": "code",
   "execution_count": null,
   "metadata": {},
   "outputs": [],
   "source": [
    "## Bytes function with a value higher than 255 (i.e.8-bits)\n",
    "\n",
    "x = bytes([1,2,255,7])\n",
    "print(x)"
   ]
  },
  {
   "cell_type": "code",
   "execution_count": null,
   "metadata": {},
   "outputs": [],
   "source": [
    "## Bytes object to binary\n",
    "\n",
    "for a in x:\n",
    "    print(bin(a))\n"
   ]
  },
  {
   "cell_type": "code",
   "execution_count": null,
   "metadata": {},
   "outputs": [],
   "source": [
    "#### Bytes-array with string\n",
    "\n",
    "### ASCII (128 characters) and Unicode, cp1252 are different encoding protocols. \n",
    "### Within Unicode - UTF-8 (112,064 characters), UTF16 and UTF32 are different encoding systems depending on the bits sizes being used.\n",
    "\n",
    "### Each character in each of these encoding systems is assigned a unique bit value. When converting a string to bytes, \n",
    "### each character in the string gets assigned that value(depending on the encoding system specified)\n",
    "\n",
    "\n",
    "### Note that in Python the default encoding is UTF-8. \n",
    "\n",
    "### However, the default encoding of the built-in function open() <which we will see while doing file handling>\n",
    "### depends on the platform and can be checked by \n",
    "\n",
    "# For windows platform\n",
    "\n",
    "import locale\n",
    "locale.getpreferredencoding()"
   ]
  },
  {
   "cell_type": "code",
   "execution_count": null,
   "metadata": {},
   "outputs": [],
   "source": [
    "# ### Bytes array with string, without specifying encoding will throw an error\n",
    "\n",
    "x = 'Python'\n",
    "\n",
    "print(bytes(x))"
   ]
  },
  {
   "cell_type": "code",
   "execution_count": null,
   "metadata": {},
   "outputs": [],
   "source": [
    "print(bytes(x,'utf-8'))\n",
    "print(bytes(x,'ascii'))\n",
    "print(bytes(x,'cp1252'))"
   ]
  },
  {
   "cell_type": "code",
   "execution_count": null,
   "metadata": {},
   "outputs": [],
   "source": [
    "## Note how the output of the string encoding is still text? Internally, Python has converted each of these characters to\n",
    "## their corresponding values of the respective systems. But that is not human-readable and therefore Python converts this\n",
    "## to human-readable format i.e. text prefixed by b <b'text'> before printing the output."
   ]
  },
  {
   "cell_type": "code",
   "execution_count": null,
   "metadata": {},
   "outputs": [],
   "source": [
    "### We can also specify how to handle errors in the bytes function when encoding strings.\n",
    "\n",
    "#Ignore - Ignores unencodable character and returns the rest of the string encoded\n",
    "p = 'ⱣytꞪon'\n",
    "\n",
    "print(bytes(p,'ascii',errors='ignore'))\n",
    "print(bytes(p,'cp1252',errors='ignore'))"
   ]
  },
  {
   "cell_type": "code",
   "execution_count": null,
   "metadata": {},
   "outputs": [],
   "source": [
    "print(bytes(p,'utf-8',errors='ignore'))\n",
    "\n",
    "# Take a look at the last bit of output for the utf-8 encoding output\n",
    "\n",
    "b'\\xe2\\xb1\\xa3yt\\xea\\x9e\\xaaon'\n",
    "\n",
    "# In the UTF-8 encoding the first section:\n",
    "\n",
    "# \\xe2\\xb1\\xa3 is our special character Ᵽ\n",
    "\n",
    "# 2nd section:\n",
    "\n",
    "# yt are our ASCII encodable characters and human-readable characters 'yt'\n",
    "\n",
    "# 3rd section:\n",
    "\n",
    "# \\xea\\x9e\\xaa is our special character Ɦ\n",
    "\n",
    "# 4th section:\n",
    "\n",
    "# on are again ASCII encodable\n",
    "\n",
    "# As mentioned before UTF-8 has 100,000 plus characters encodable."
   ]
  },
  {
   "cell_type": "code",
   "execution_count": null,
   "metadata": {},
   "outputs": [],
   "source": [
    "# Replace - Replace the unencodable character to ? along with the rest of the string encoded.\n",
    "\n",
    "print(bytes(p,'ascii',errors='replace'))\n",
    "print(bytes(p,'cp1252',errors='replace'))\n",
    "\n",
    "print(bytes(p,'utf-8',errors='replace')) # Note - nothing was replaced here."
   ]
  },
  {
   "cell_type": "code",
   "execution_count": null,
   "metadata": {},
   "outputs": [],
   "source": [
    "#Strict - Throws an error if it finds an un-encodable character.\n",
    "\n",
    "print(bytes(p,'ascii',errors='strict'))"
   ]
  },
  {
   "cell_type": "code",
   "execution_count": null,
   "metadata": {},
   "outputs": [],
   "source": [
    "print(bytes(p,'cp1252',errors='strict'))"
   ]
  },
  {
   "cell_type": "code",
   "execution_count": null,
   "metadata": {},
   "outputs": [],
   "source": [
    "print(bytes(p,'utf-8',errors='strict'))"
   ]
  },
  {
   "cell_type": "code",
   "execution_count": null,
   "metadata": {},
   "outputs": [],
   "source": [
    "pyt = 'Pythhhhhhon'\n",
    "z = bytes(pyt,'ascii',errors='strict')\n",
    "print(z)\n",
    "\n",
    "for i in z:\n",
    "    print(i)"
   ]
  },
  {
   "cell_type": "code",
   "execution_count": null,
   "metadata": {},
   "outputs": [],
   "source": [
    "# A bytes object is immutable. It cannot be changed.\n",
    "\n",
    "z[0] = hex(112)"
   ]
  },
  {
   "cell_type": "code",
   "execution_count": null,
   "metadata": {},
   "outputs": [],
   "source": [
    "# Since it is an array - all functions used on arrays can be used here. \n",
    "\n",
    "print(len(z))\n",
    "print(z.count(b'h'))"
   ]
  },
  {
   "cell_type": "code",
   "execution_count": null,
   "metadata": {},
   "outputs": [],
   "source": [
    "#### Bytearray is another datatype in Python for dealing with Bytes. However, bytearray object IS mutable. \n",
    "\n",
    "x = 'Python'\n",
    "\n",
    "z = bytearray(x, 'ascii')\n",
    "print(z)"
   ]
  },
  {
   "cell_type": "code",
   "execution_count": null,
   "metadata": {},
   "outputs": [],
   "source": [
    "for i in z:\n",
    "    print(i)"
   ]
  },
  {
   "cell_type": "code",
   "execution_count": null,
   "metadata": {},
   "outputs": [],
   "source": [
    "z[0] = 112\n",
    "print(z)"
   ]
  },
  {
   "cell_type": "code",
   "execution_count": null,
   "metadata": {},
   "outputs": [],
   "source": [
    "z[0] = 65\n",
    "print(z)"
   ]
  },
  {
   "cell_type": "code",
   "execution_count": null,
   "metadata": {},
   "outputs": [],
   "source": [
    "print(z[:2])\n",
    "\n",
    "# All other operations, parameters for bytearray remain exactly the same as for bytes. "
   ]
  },
  {
   "cell_type": "code",
   "execution_count": null,
   "metadata": {},
   "outputs": [],
   "source": []
  }
 ],
 "metadata": {
  "kernelspec": {
   "display_name": "Python 3",
   "language": "python",
   "name": "python3"
  },
  "language_info": {
   "codemirror_mode": {
    "name": "ipython",
    "version": 3
   },
   "file_extension": ".py",
   "mimetype": "text/x-python",
   "name": "python",
   "nbconvert_exporter": "python",
   "pygments_lexer": "ipython3",
   "version": "3.8.3"
  }
 },
 "nbformat": 4,
 "nbformat_minor": 5
}
