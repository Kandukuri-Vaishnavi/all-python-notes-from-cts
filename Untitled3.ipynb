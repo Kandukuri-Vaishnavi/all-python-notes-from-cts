{
 "cells": [
  {
   "cell_type": "code",
   "execution_count": 11,
   "metadata": {},
   "outputs": [
    {
     "name": "stdout",
     "output_type": "stream",
     "text": [
      "0    1\n",
      "1    2\n",
      "2    3\n",
      "3    4\n",
      "dtype: int32\n",
      "[1, 2, 3, 4]\n",
      "<class 'list'>\n"
     ]
    }
   ],
   "source": [
    "# Write a Python program to convert a Panda module Series to\n",
    "# Python list and its type.\n",
    "import numpy as np\n",
    "import pandas as pd\n",
    "c=pd.Series(np.array([1,2,3,4]))\n",
    "print(c) \n",
    "d=c.tolist()\n",
    "print(d)\n",
    "print(type(d))\n"
   ]
  },
  {
   "cell_type": "code",
   "execution_count": 21,
   "metadata": {},
   "outputs": [
    {
     "name": "stdout",
     "output_type": "stream",
     "text": [
      "0    1\n",
      "1    2\n",
      "2    3\n",
      "3    4\n",
      "dtype: int64\n",
      "0    9\n",
      "1    5\n",
      "2    6\n",
      "3    7\n",
      "dtype: int32\n",
      "add\n",
      "0    10\n",
      "1     7\n",
      "2     9\n",
      "3    11\n",
      "dtype: int64\n",
      "sub\n",
      "0   -8\n",
      "1   -3\n",
      "2   -3\n",
      "3   -3\n",
      "dtype: int64\n",
      "div\n",
      "0    0.111111\n",
      "1    0.400000\n",
      "2    0.500000\n",
      "3    0.571429\n",
      "dtype: float64\n",
      "mul\n",
      "0     9\n",
      "1    10\n",
      "2    18\n",
      "3    28\n",
      "dtype: int64\n"
     ]
    }
   ],
   "source": [
    "# Write a Python program to add, subtract, multiple and divide\n",
    "# two Pandas Series.\n",
    "a=pd.Series([1,2,3,4])\n",
    "b=pd.Series(np.array([9,5,6,7]))\n",
    "print(a)\n",
    "print(b)\n",
    "print('add')\n",
    "print(np.add(a,b))\n",
    "print('sub')\n",
    "print(np.subtract(a,b))\n",
    "print('div')\n",
    "print(np.divide(a,b))\n",
    "print('mul')\n",
    "print(np.multiply(a,b))"
   ]
  },
  {
   "cell_type": "code",
   "execution_count": 45,
   "metadata": {},
   "outputs": [
    {
     "name": "stdout",
     "output_type": "stream",
     "text": [
      "c is 0    5\n",
      "1    6\n",
      "2    7\n",
      "dtype: int32\n",
      "d is  0     8\n",
      "1     9\n",
      "2    10\n",
      "dtype: int32\n",
      "c==d 0    False\n",
      "1    False\n",
      "2    False\n",
      "dtype: bool\n",
      "c<d 0    True\n",
      "1    True\n",
      "2    True\n",
      "dtype: bool\n",
      "c>d 0    False\n",
      "1    False\n",
      "2    False\n",
      "dtype: bool\n",
      "c<=d 0    True\n",
      "1    True\n",
      "2    True\n",
      "dtype: bool\n"
     ]
    }
   ],
   "source": [
    "# Write a Python program to compare the elements of the two\n",
    "# Pandas Series.\n",
    "import pandas as pd\n",
    "c=pd.Series(np.array([5,6,7]))\n",
    "print(\"c is\",c)\n",
    "\n",
    "d=pd.Series(np.array([8,9,10]))\n",
    "print(\"d is \",d)\n",
    "print(\"c==d\",c==d)\n",
    "print(\"c<d\",c<d)\n",
    "print(\"c>d\",c>d)\n",
    "print(\"c<=d\",c<=d)\n"
   ]
  },
  {
   "cell_type": "code",
   "execution_count": 169,
   "metadata": {},
   "outputs": [
    {
     "data": {
      "text/html": [
       "<div>\n",
       "<style scoped>\n",
       "    .dataframe tbody tr th:only-of-type {\n",
       "        vertical-align: middle;\n",
       "    }\n",
       "\n",
       "    .dataframe tbody tr th {\n",
       "        vertical-align: top;\n",
       "    }\n",
       "\n",
       "    .dataframe thead th {\n",
       "        text-align: right;\n",
       "    }\n",
       "</style>\n",
       "<table border=\"1\" class=\"dataframe\">\n",
       "  <thead>\n",
       "    <tr style=\"text-align: right;\">\n",
       "      <th></th>\n",
       "      <th>student</th>\n",
       "      <th>occupation</th>\n",
       "      <th>salary</th>\n",
       "    </tr>\n",
       "  </thead>\n",
       "  <tbody>\n",
       "    <tr>\n",
       "      <th>0</th>\n",
       "      <td>vaish</td>\n",
       "      <td>job</td>\n",
       "      <td>100000</td>\n",
       "    </tr>\n",
       "    <tr>\n",
       "      <th>1</th>\n",
       "      <td>vk</td>\n",
       "      <td>student</td>\n",
       "      <td>200000</td>\n",
       "    </tr>\n",
       "    <tr>\n",
       "      <th>2</th>\n",
       "      <td>shizuka</td>\n",
       "      <td>doctor</td>\n",
       "      <td>400000</td>\n",
       "    </tr>\n",
       "  </tbody>\n",
       "</table>\n",
       "</div>"
      ],
      "text/plain": [
       "   student occupation  salary\n",
       "0    vaish        job  100000\n",
       "1       vk    student  200000\n",
       "2  shizuka     doctor  400000"
      ]
     },
     "execution_count": 169,
     "metadata": {},
     "output_type": "execute_result"
    }
   ],
   "source": [
    "# Write a Python program to create and display a Data Frame\n",
    "# from a specified dictionary data which has the index labels.\n",
    "dict1={'student':['vaish','vk','shizuka'],'occupation':['job','student','doctor'],'salary':[100000,200000,400000]}\n",
    "v=pd.DataFrame(dict1,columns=('student','occupation','salary'),index=range(3))\n",
    "v"
   ]
  },
  {
   "cell_type": "code",
   "execution_count": 107,
   "metadata": {},
   "outputs": [
    {
     "name": "stdout",
     "output_type": "stream",
     "text": [
      "0      vaish\n",
      "1         vk\n",
      "2    shizuka\n",
      "Name: student, dtype: object\n"
     ]
    }
   ],
   "source": [
    "# Write a Python program to select the specified columns and\n",
    "# rows from a given Data Frame.\n",
    "#v.student\n",
    "print(v['student'])"
   ]
  },
  {
   "cell_type": "code",
   "execution_count": 56,
   "metadata": {},
   "outputs": [
    {
     "data": {
      "text/plain": [
       "student            vk\n",
       "occupation    student\n",
       "salary         200000\n",
       "Name: 1, dtype: object"
      ]
     },
     "execution_count": 56,
     "metadata": {},
     "output_type": "execute_result"
    }
   ],
   "source": [
    "#rows from a given Data Frame.\n",
    "v.iloc[1]"
   ]
  },
  {
   "cell_type": "code",
   "execution_count": 29,
   "metadata": {},
   "outputs": [
    {
     "name": "stdout",
     "output_type": "stream",
     "text": [
      "0    1\n",
      "1    2\n",
      "2    3\n",
      "dtype: int32\n",
      "<class 'pandas.core.series.Series'>\n"
     ]
    }
   ],
   "source": [
    "# Write a Python program to create and display a one-\n",
    "# dimensional array-like object containing an array of data using\n",
    "\n",
    "# Pandas module.\n",
    "c=pd.Series(np.array([1,2,3]))\n",
    "print(c)\n",
    "print(type(c))"
   ]
  },
  {
   "cell_type": "code",
   "execution_count": 108,
   "metadata": {},
   "outputs": [
    {
     "data": {
      "text/html": [
       "<div>\n",
       "<style scoped>\n",
       "    .dataframe tbody tr th:only-of-type {\n",
       "        vertical-align: middle;\n",
       "    }\n",
       "\n",
       "    .dataframe tbody tr th {\n",
       "        vertical-align: top;\n",
       "    }\n",
       "\n",
       "    .dataframe thead th {\n",
       "        text-align: right;\n",
       "    }\n",
       "</style>\n",
       "<table border=\"1\" class=\"dataframe\">\n",
       "  <thead>\n",
       "    <tr style=\"text-align: right;\">\n",
       "      <th></th>\n",
       "      <th>student</th>\n",
       "      <th>occupation</th>\n",
       "      <th>salary</th>\n",
       "      <th>score</th>\n",
       "    </tr>\n",
       "  </thead>\n",
       "  <tbody>\n",
       "    <tr>\n",
       "      <th>0</th>\n",
       "      <td>vaish</td>\n",
       "      <td>job</td>\n",
       "      <td>100000</td>\n",
       "      <td>18</td>\n",
       "    </tr>\n",
       "    <tr>\n",
       "      <th>1</th>\n",
       "      <td>vk</td>\n",
       "      <td>student</td>\n",
       "      <td>200000</td>\n",
       "      <td>10</td>\n",
       "    </tr>\n",
       "    <tr>\n",
       "      <th>2</th>\n",
       "      <td>shizuka</td>\n",
       "      <td>doctor</td>\n",
       "      <td>400000</td>\n",
       "      <td>20</td>\n",
       "    </tr>\n",
       "  </tbody>\n",
       "</table>\n",
       "</div>"
      ],
      "text/plain": [
       "   student occupation  salary  score\n",
       "0    vaish        job  100000     18\n",
       "1       vk    student  200000     10\n",
       "2  shizuka     doctor  400000     20"
      ]
     },
     "execution_count": 108,
     "metadata": {},
     "output_type": "execute_result"
    }
   ],
   "source": [
    "\n",
    "v['score']=[18,10,20]\n",
    "v\n"
   ]
  },
  {
   "cell_type": "code",
   "execution_count": 109,
   "metadata": {},
   "outputs": [
    {
     "name": "stdout",
     "output_type": "stream",
     "text": [
      "   student occupation  salary  score\n",
      "0    vaish        job  100000     18\n",
      "2  shizuka     doctor  400000     20\n"
     ]
    }
   ],
   "source": [
    "# Write a Python program to select the rows the score is between\n",
    "# 15 and 20 (inclusive).\n",
    "print(v[v['score'].between(15,20)])"
   ]
  },
  {
   "cell_type": "code",
   "execution_count": 110,
   "metadata": {},
   "outputs": [],
   "source": [
    "\n",
    "v['attempts_in_exam']=[1,5,17]\n"
   ]
  },
  {
   "cell_type": "code",
   "execution_count": 111,
   "metadata": {},
   "outputs": [
    {
     "name": "stdout",
     "output_type": "stream",
     "text": [
      "  student occupation  salary  score  attempts_in_exam\n",
      "0   vaish        job  100000     18                 1\n"
     ]
    }
   ],
   "source": [
    "# Write a Python program to select the rows where number of\n",
    "# attempts in the examination is less than 2 and score greater than 15\n",
    "print(v[(v['attempts_in_exam']<2) & (v['score']>15)])\n"
   ]
  },
  {
   "cell_type": "code",
   "execution_count": 119,
   "metadata": {},
   "outputs": [
    {
     "data": {
      "text/html": [
       "<div>\n",
       "<style scoped>\n",
       "    .dataframe tbody tr th:only-of-type {\n",
       "        vertical-align: middle;\n",
       "    }\n",
       "\n",
       "    .dataframe tbody tr th {\n",
       "        vertical-align: top;\n",
       "    }\n",
       "\n",
       "    .dataframe thead th {\n",
       "        text-align: right;\n",
       "    }\n",
       "</style>\n",
       "<table border=\"1\" class=\"dataframe\">\n",
       "  <thead>\n",
       "    <tr style=\"text-align: right;\">\n",
       "      <th></th>\n",
       "      <th>student</th>\n",
       "      <th>occupation</th>\n",
       "      <th>salary</th>\n",
       "      <th>score</th>\n",
       "      <th>attempts_in_exam</th>\n",
       "    </tr>\n",
       "  </thead>\n",
       "  <tbody>\n",
       "    <tr>\n",
       "      <th>0</th>\n",
       "      <td>vaish</td>\n",
       "      <td>job</td>\n",
       "      <td>100000</td>\n",
       "      <td>18</td>\n",
       "      <td>1</td>\n",
       "    </tr>\n",
       "    <tr>\n",
       "      <th>1</th>\n",
       "      <td>vk</td>\n",
       "      <td>student</td>\n",
       "      <td>200000</td>\n",
       "      <td>10</td>\n",
       "      <td>5</td>\n",
       "    </tr>\n",
       "    <tr>\n",
       "      <th>2</th>\n",
       "      <td>shizuka</td>\n",
       "      <td>doctor</td>\n",
       "      <td>400000</td>\n",
       "      <td>20</td>\n",
       "      <td>17</td>\n",
       "    </tr>\n",
       "  </tbody>\n",
       "</table>\n",
       "</div>"
      ],
      "text/plain": [
       "   student occupation  salary  score  attempts_in_exam\n",
       "0    vaish        job  100000     18                 1\n",
       "1       vk    student  200000     10                 5\n",
       "2  shizuka     doctor  400000     20                17"
      ]
     },
     "execution_count": 119,
     "metadata": {},
     "output_type": "execute_result"
    }
   ],
   "source": [
    "v"
   ]
  },
  {
   "cell_type": "code",
   "execution_count": 124,
   "metadata": {},
   "outputs": [
    {
     "data": {
      "text/html": [
       "<div>\n",
       "<style scoped>\n",
       "    .dataframe tbody tr th:only-of-type {\n",
       "        vertical-align: middle;\n",
       "    }\n",
       "\n",
       "    .dataframe tbody tr th {\n",
       "        vertical-align: top;\n",
       "    }\n",
       "\n",
       "    .dataframe thead th {\n",
       "        text-align: right;\n",
       "    }\n",
       "</style>\n",
       "<table border=\"1\" class=\"dataframe\">\n",
       "  <thead>\n",
       "    <tr style=\"text-align: right;\">\n",
       "      <th></th>\n",
       "      <th>student</th>\n",
       "      <th>occupation</th>\n",
       "      <th>salary</th>\n",
       "      <th>score</th>\n",
       "      <th>attempts_in_exam</th>\n",
       "    </tr>\n",
       "  </thead>\n",
       "  <tbody>\n",
       "    <tr>\n",
       "      <th>0</th>\n",
       "      <td>vaish</td>\n",
       "      <td>job</td>\n",
       "      <td>100000</td>\n",
       "      <td>18</td>\n",
       "      <td>1</td>\n",
       "    </tr>\n",
       "    <tr>\n",
       "      <th>1</th>\n",
       "      <td>vk</td>\n",
       "      <td>student</td>\n",
       "      <td>200000</td>\n",
       "      <td>10</td>\n",
       "      <td>5</td>\n",
       "    </tr>\n",
       "    <tr>\n",
       "      <th>2</th>\n",
       "      <td>shizuka</td>\n",
       "      <td>doctor</td>\n",
       "      <td>400000</td>\n",
       "      <td>20</td>\n",
       "      <td>17</td>\n",
       "    </tr>\n",
       "    <tr>\n",
       "      <th>k</th>\n",
       "      <td>austin</td>\n",
       "      <td>teacher</td>\n",
       "      <td>8000</td>\n",
       "      <td>17</td>\n",
       "      <td>3</td>\n",
       "    </tr>\n",
       "  </tbody>\n",
       "</table>\n",
       "</div>"
      ],
      "text/plain": [
       "   student occupation  salary  score  attempts_in_exam\n",
       "0    vaish        job  100000     18                 1\n",
       "1       vk    student  200000     10                 5\n",
       "2  shizuka     doctor  400000     20                17\n",
       "k   austin    teacher    8000     17                 3"
      ]
     },
     "execution_count": 124,
     "metadata": {},
     "output_type": "execute_result"
    }
   ],
   "source": [
    "# Write a Python program to append a new row 'k' to Data Frame\n",
    "# with given values for each column. Now delete the new row and\n",
    "# return the original data frame.\n",
    "v.loc['k'] = ['austin', 'teacher', 8000,17,3]\n",
    "v"
   ]
  },
  {
   "cell_type": "code",
   "execution_count": 131,
   "metadata": {},
   "outputs": [],
   "source": [
    "v=v.drop('k')"
   ]
  },
  {
   "cell_type": "code",
   "execution_count": 132,
   "metadata": {},
   "outputs": [
    {
     "data": {
      "text/html": [
       "<div>\n",
       "<style scoped>\n",
       "    .dataframe tbody tr th:only-of-type {\n",
       "        vertical-align: middle;\n",
       "    }\n",
       "\n",
       "    .dataframe tbody tr th {\n",
       "        vertical-align: top;\n",
       "    }\n",
       "\n",
       "    .dataframe thead th {\n",
       "        text-align: right;\n",
       "    }\n",
       "</style>\n",
       "<table border=\"1\" class=\"dataframe\">\n",
       "  <thead>\n",
       "    <tr style=\"text-align: right;\">\n",
       "      <th></th>\n",
       "      <th>student</th>\n",
       "      <th>occupation</th>\n",
       "      <th>salary</th>\n",
       "      <th>score</th>\n",
       "      <th>attempts_in_exam</th>\n",
       "    </tr>\n",
       "  </thead>\n",
       "  <tbody>\n",
       "    <tr>\n",
       "      <th>0</th>\n",
       "      <td>vaish</td>\n",
       "      <td>job</td>\n",
       "      <td>100000</td>\n",
       "      <td>18</td>\n",
       "      <td>1</td>\n",
       "    </tr>\n",
       "    <tr>\n",
       "      <th>1</th>\n",
       "      <td>vk</td>\n",
       "      <td>student</td>\n",
       "      <td>200000</td>\n",
       "      <td>10</td>\n",
       "      <td>5</td>\n",
       "    </tr>\n",
       "    <tr>\n",
       "      <th>2</th>\n",
       "      <td>shizuka</td>\n",
       "      <td>doctor</td>\n",
       "      <td>400000</td>\n",
       "      <td>20</td>\n",
       "      <td>17</td>\n",
       "    </tr>\n",
       "  </tbody>\n",
       "</table>\n",
       "</div>"
      ],
      "text/plain": [
       "   student occupation  salary  score  attempts_in_exam\n",
       "0    vaish        job  100000     18                 1\n",
       "1       vk    student  200000     10                 5\n",
       "2  shizuka     doctor  400000     20                17"
      ]
     },
     "execution_count": 132,
     "metadata": {},
     "output_type": "execute_result"
    }
   ],
   "source": [
    "v"
   ]
  },
  {
   "cell_type": "code",
   "execution_count": 168,
   "metadata": {},
   "outputs": [],
   "source": [
    "# Write a Python program to sort the data frame first by 'name' in\n",
    "# descending order, then by 'score' in ascending order.\n"
   ]
  },
  {
   "cell_type": "code",
   "execution_count": 137,
   "metadata": {},
   "outputs": [
    {
     "data": {
      "text/html": [
       "<div>\n",
       "<style scoped>\n",
       "    .dataframe tbody tr th:only-of-type {\n",
       "        vertical-align: middle;\n",
       "    }\n",
       "\n",
       "    .dataframe tbody tr th {\n",
       "        vertical-align: top;\n",
       "    }\n",
       "\n",
       "    .dataframe thead th {\n",
       "        text-align: right;\n",
       "    }\n",
       "</style>\n",
       "<table border=\"1\" class=\"dataframe\">\n",
       "  <thead>\n",
       "    <tr style=\"text-align: right;\">\n",
       "      <th></th>\n",
       "      <th>student</th>\n",
       "      <th>occupation</th>\n",
       "      <th>salary</th>\n",
       "      <th>score</th>\n",
       "      <th>attempts_in_exam</th>\n",
       "      <th>area</th>\n",
       "    </tr>\n",
       "  </thead>\n",
       "  <tbody>\n",
       "    <tr>\n",
       "      <th>0</th>\n",
       "      <td>vaish</td>\n",
       "      <td>job</td>\n",
       "      <td>100000</td>\n",
       "      <td>18</td>\n",
       "      <td>1</td>\n",
       "      <td>hyd</td>\n",
       "    </tr>\n",
       "    <tr>\n",
       "      <th>1</th>\n",
       "      <td>vk</td>\n",
       "      <td>student</td>\n",
       "      <td>200000</td>\n",
       "      <td>10</td>\n",
       "      <td>5</td>\n",
       "      <td>ny</td>\n",
       "    </tr>\n",
       "    <tr>\n",
       "      <th>2</th>\n",
       "      <td>shizuka</td>\n",
       "      <td>doctor</td>\n",
       "      <td>400000</td>\n",
       "      <td>20</td>\n",
       "      <td>17</td>\n",
       "      <td>us</td>\n",
       "    </tr>\n",
       "  </tbody>\n",
       "</table>\n",
       "</div>"
      ],
      "text/plain": [
       "   student occupation  salary  score  attempts_in_exam area\n",
       "0    vaish        job  100000     18                 1  hyd\n",
       "1       vk    student  200000     10                 5   ny\n",
       "2  shizuka     doctor  400000     20                17   us"
      ]
     },
     "execution_count": 137,
     "metadata": {},
     "output_type": "execute_result"
    }
   ],
   "source": [
    "# Write a Python program to insert a new column in existing Data\n",
    "# Frame\n",
    "v['area']=['hyd','ny','us']\n",
    "v"
   ]
  },
  {
   "cell_type": "code",
   "execution_count": 141,
   "metadata": {},
   "outputs": [
    {
     "data": {
      "text/html": [
       "<div>\n",
       "<style scoped>\n",
       "    .dataframe tbody tr th:only-of-type {\n",
       "        vertical-align: middle;\n",
       "    }\n",
       "\n",
       "    .dataframe tbody tr th {\n",
       "        vertical-align: top;\n",
       "    }\n",
       "\n",
       "    .dataframe thead th {\n",
       "        text-align: right;\n",
       "    }\n",
       "</style>\n",
       "<table border=\"1\" class=\"dataframe\">\n",
       "  <thead>\n",
       "    <tr style=\"text-align: right;\">\n",
       "      <th></th>\n",
       "      <th>student</th>\n",
       "      <th>occupation</th>\n",
       "      <th>salary</th>\n",
       "      <th>score</th>\n",
       "      <th>attempts_in_exam</th>\n",
       "      <th>area</th>\n",
       "    </tr>\n",
       "  </thead>\n",
       "  <tbody>\n",
       "    <tr>\n",
       "      <th>0</th>\n",
       "      <td>vaish</td>\n",
       "      <td>job</td>\n",
       "      <td>100000</td>\n",
       "      <td>18</td>\n",
       "      <td>1</td>\n",
       "      <td>hyd</td>\n",
       "    </tr>\n",
       "    <tr>\n",
       "      <th>1</th>\n",
       "      <td>vk</td>\n",
       "      <td>student</td>\n",
       "      <td>200000</td>\n",
       "      <td>10</td>\n",
       "      <td>5</td>\n",
       "      <td>ny</td>\n",
       "    </tr>\n",
       "    <tr>\n",
       "      <th>2</th>\n",
       "      <td>shizuka</td>\n",
       "      <td>doctor</td>\n",
       "      <td>400000</td>\n",
       "      <td>20</td>\n",
       "      <td>17</td>\n",
       "      <td>us</td>\n",
       "    </tr>\n",
       "    <tr>\n",
       "      <th>n</th>\n",
       "      <td>James</td>\n",
       "      <td>writer</td>\n",
       "      <td>70000</td>\n",
       "      <td>19</td>\n",
       "      <td>2</td>\n",
       "      <td>karnataka</td>\n",
       "    </tr>\n",
       "  </tbody>\n",
       "</table>\n",
       "</div>"
      ],
      "text/plain": [
       "   student occupation  salary  score  attempts_in_exam       area\n",
       "0    vaish        job  100000     18                 1        hyd\n",
       "1       vk    student  200000     10                 5         ny\n",
       "2  shizuka     doctor  400000     20                17         us\n",
       "n    James     writer   70000     19                 2  karnataka"
      ]
     },
     "execution_count": 141,
     "metadata": {},
     "output_type": "execute_result"
    }
   ],
   "source": [
    "v.loc['n']=['James','writer',70000,19,2,'karnataka']\n",
    "v"
   ]
  },
  {
   "cell_type": "code",
   "execution_count": 151,
   "metadata": {},
   "outputs": [
    {
     "data": {
      "text/html": [
       "<div>\n",
       "<style scoped>\n",
       "    .dataframe tbody tr th:only-of-type {\n",
       "        vertical-align: middle;\n",
       "    }\n",
       "\n",
       "    .dataframe tbody tr th {\n",
       "        vertical-align: top;\n",
       "    }\n",
       "\n",
       "    .dataframe thead th {\n",
       "        text-align: right;\n",
       "    }\n",
       "</style>\n",
       "<table border=\"1\" class=\"dataframe\">\n",
       "  <thead>\n",
       "    <tr style=\"text-align: right;\">\n",
       "      <th></th>\n",
       "      <th>student</th>\n",
       "      <th>occupation</th>\n",
       "      <th>salary</th>\n",
       "      <th>score</th>\n",
       "      <th>attempts_in_exam</th>\n",
       "      <th>area</th>\n",
       "    </tr>\n",
       "  </thead>\n",
       "  <tbody>\n",
       "    <tr>\n",
       "      <th>a</th>\n",
       "      <td>vaish</td>\n",
       "      <td>job</td>\n",
       "      <td>100000</td>\n",
       "      <td>18</td>\n",
       "      <td>1</td>\n",
       "      <td>hyd</td>\n",
       "    </tr>\n",
       "    <tr>\n",
       "      <th>b</th>\n",
       "      <td>vk</td>\n",
       "      <td>student</td>\n",
       "      <td>200000</td>\n",
       "      <td>10</td>\n",
       "      <td>5</td>\n",
       "      <td>ny</td>\n",
       "    </tr>\n",
       "    <tr>\n",
       "      <th>c</th>\n",
       "      <td>shizuka</td>\n",
       "      <td>doctor</td>\n",
       "      <td>400000</td>\n",
       "      <td>20</td>\n",
       "      <td>17</td>\n",
       "      <td>us</td>\n",
       "    </tr>\n",
       "    <tr>\n",
       "      <th>d</th>\n",
       "      <td>James</td>\n",
       "      <td>writer</td>\n",
       "      <td>70000</td>\n",
       "      <td>19</td>\n",
       "      <td>2</td>\n",
       "      <td>karnataka</td>\n",
       "    </tr>\n",
       "  </tbody>\n",
       "</table>\n",
       "</div>"
      ],
      "text/plain": [
       "   student occupation  salary  score  attempts_in_exam       area\n",
       "a    vaish        job  100000     18                 1        hyd\n",
       "b       vk    student  200000     10                 5         ny\n",
       "c  shizuka     doctor  400000     20                17         us\n",
       "d    James     writer   70000     19                 2  karnataka"
      ]
     },
     "execution_count": 151,
     "metadata": {},
     "output_type": "execute_result"
    }
   ],
   "source": [
    "v.rename(index={0:'a',1:'b',2:'c','n':'d'},inplace=True)\n",
    "v\n"
   ]
  },
  {
   "cell_type": "code",
   "execution_count": null,
   "metadata": {},
   "outputs": [],
   "source": []
  },
  {
   "cell_type": "code",
   "execution_count": 157,
   "metadata": {},
   "outputs": [
    {
     "name": "stderr",
     "output_type": "stream",
     "text": [
      "C:\\Users\\890234.CTS\\Anaconda3\\lib\\site-packages\\pandas\\core\\indexing.py:671: SettingWithCopyWarning: \n",
      "A value is trying to be set on a copy of a slice from a DataFrame\n",
      "\n",
      "See the caveats in the documentation: https://pandas.pydata.org/pandas-docs/stable/user_guide/indexing.html#returning-a-view-versus-a-copy\n",
      "  self._setitem_with_indexer(indexer, value)\n"
     ]
    },
    {
     "data": {
      "text/html": [
       "<div>\n",
       "<style scoped>\n",
       "    .dataframe tbody tr th:only-of-type {\n",
       "        vertical-align: middle;\n",
       "    }\n",
       "\n",
       "    .dataframe tbody tr th {\n",
       "        vertical-align: top;\n",
       "    }\n",
       "\n",
       "    .dataframe thead th {\n",
       "        text-align: right;\n",
       "    }\n",
       "</style>\n",
       "<table border=\"1\" class=\"dataframe\">\n",
       "  <thead>\n",
       "    <tr style=\"text-align: right;\">\n",
       "      <th></th>\n",
       "      <th>student</th>\n",
       "      <th>occupation</th>\n",
       "      <th>salary</th>\n",
       "      <th>score</th>\n",
       "      <th>attempts_in_exam</th>\n",
       "      <th>area</th>\n",
       "    </tr>\n",
       "  </thead>\n",
       "  <tbody>\n",
       "    <tr>\n",
       "      <th>a</th>\n",
       "      <td>vaish</td>\n",
       "      <td>job</td>\n",
       "      <td>100000</td>\n",
       "      <td>18</td>\n",
       "      <td>1</td>\n",
       "      <td>hyd</td>\n",
       "    </tr>\n",
       "    <tr>\n",
       "      <th>b</th>\n",
       "      <td>vk</td>\n",
       "      <td>student</td>\n",
       "      <td>200000</td>\n",
       "      <td>10</td>\n",
       "      <td>5</td>\n",
       "      <td>ny</td>\n",
       "    </tr>\n",
       "    <tr>\n",
       "      <th>c</th>\n",
       "      <td>shizuka</td>\n",
       "      <td>doctor</td>\n",
       "      <td>400000</td>\n",
       "      <td>20</td>\n",
       "      <td>17</td>\n",
       "      <td>us</td>\n",
       "    </tr>\n",
       "    <tr>\n",
       "      <th>d</th>\n",
       "      <td>Suresh</td>\n",
       "      <td>writer</td>\n",
       "      <td>70000</td>\n",
       "      <td>19</td>\n",
       "      <td>2</td>\n",
       "      <td>karnataka</td>\n",
       "    </tr>\n",
       "  </tbody>\n",
       "</table>\n",
       "</div>"
      ],
      "text/plain": [
       "   student occupation  salary  score  attempts_in_exam       area\n",
       "a    vaish        job  100000     18                 1        hyd\n",
       "b       vk    student  200000     10                 5         ny\n",
       "c  shizuka     doctor  400000     20                17         us\n",
       "d   Suresh     writer   70000     19                 2  karnataka"
      ]
     },
     "execution_count": 157,
     "metadata": {},
     "output_type": "execute_result"
    }
   ],
   "source": [
    "v['student'].loc['d']='Suresh'\n",
    "v"
   ]
  },
  {
   "cell_type": "code",
   "execution_count": null,
   "metadata": {},
   "outputs": [],
   "source": [
    "#rename(index = {0:'a', 1:'b', 2:'c', 3:'d', 4:'e', 5:'f'}, inplace = True)"
   ]
  },
  {
   "cell_type": "code",
   "execution_count": 164,
   "metadata": {},
   "outputs": [
    {
     "name": "stdout",
     "output_type": "stream",
     "text": [
      "   student occupation  salary  score  attempts_in_exam area\n",
      "b       vk    student  200000     10                 5   ny\n",
      "c  shizuka     doctor  400000     20                17   us\n"
     ]
    }
   ],
   "source": [
    "print(v.loc[['b','c']])"
   ]
  },
  {
   "cell_type": "code",
   "execution_count": 166,
   "metadata": {},
   "outputs": [
    {
     "name": "stdout",
     "output_type": "stream",
     "text": [
      "   student occupation  salary  score  attempts_in_exam area\n",
      "b       vk    student  200000     10                 5   ny\n",
      "c  shizuka     doctor  400000     20                17   us\n"
     ]
    }
   ],
   "source": [
    "print(v.iloc[1:3])"
   ]
  },
  {
   "cell_type": "code",
   "execution_count": 167,
   "metadata": {},
   "outputs": [
    {
     "name": "stdout",
     "output_type": "stream",
     "text": [
      "student                Suresh\n",
      "occupation             writer\n",
      "salary                  70000\n",
      "score                      19\n",
      "attempts_in_exam            2\n",
      "area                karnataka\n",
      "Name: d, dtype: object\n"
     ]
    }
   ],
   "source": [
    "print(v.loc['d'])"
   ]
  },
  {
   "cell_type": "code",
   "execution_count": null,
   "metadata": {},
   "outputs": [],
   "source": []
  }
 ],
 "metadata": {
  "kernelspec": {
   "display_name": "Python 3",
   "language": "python",
   "name": "python3"
  },
  "language_info": {
   "codemirror_mode": {
    "name": "ipython",
    "version": 3
   },
   "file_extension": ".py",
   "mimetype": "text/x-python",
   "name": "python",
   "nbconvert_exporter": "python",
   "pygments_lexer": "ipython3",
   "version": "3.8.3"
  }
 },
 "nbformat": 4,
 "nbformat_minor": 4
}
