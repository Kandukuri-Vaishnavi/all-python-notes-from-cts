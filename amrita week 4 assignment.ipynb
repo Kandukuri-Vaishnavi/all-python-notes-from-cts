{
 "cells": [
  {
   "cell_type": "code",
   "execution_count": 1,
   "metadata": {},
   "outputs": [],
   "source": [
    "#### First Test: One sample Z test\n",
    "\n",
    "# Library to be used: ***** from statsmodels.stats.weightstats import ztest ****\n",
    "\n",
    "# Information about ****ztest***\n",
    "# It returns two values: Z calcuated and P value\n",
    "\n",
    "# ztest takes: sample information , hypothesized value , and type of alternative test\n",
    "\n",
    "# Example:\n",
    "# z ,pval = ztest(sample_1, value=156 , alternative = 'two-sided')\n"
   ]
  },
  {
   "cell_type": "code",
   "execution_count": 12,
   "metadata": {},
   "outputs": [
    {
     "name": "stdout",
     "output_type": "stream",
     "text": [
      "-2.177598558933893 0.0294359369343824\n",
      "reject null\n"
     ]
    }
   ],
   "source": [
    "# Use Z test to test the claim if mean of sample_1 is 156 and print the final conclusion\n",
    "from statsmodels.stats.weightstats import ztest\n",
    "import numpy as np\n",
    "sample_1=np.arange(120,180,2)\n",
    "z ,pval = ztest(sample_1, value=156 , alternative = 'two-sided')\n",
    "print(z,pval)\n",
    "if(pval<0.05):\n",
    "    print(\"reject null\")\n",
    "else:\n",
    "    print(\"accept null\")\n",
    "\n"
   ]
  },
  {
   "cell_type": "code",
   "execution_count": null,
   "metadata": {},
   "outputs": [],
   "source": [
    "# #### Second test: One sample t test\n",
    "\n",
    "# Library to be used: ****from scipy.stats import ttest_1samp**\n",
    "\n",
    "# Information about **ttest_1samp : It returns two values: t calculated and P value\n",
    "\n",
    "# ttest_1samp takes: sample information , hypothesized value and type of alternative\n",
    "\n",
    "# Example: t, pval = ttest_1samp(sample2, 30 , alternative = 'two-sided')"
   ]
  },
  {
   "cell_type": "code",
   "execution_count": 17,
   "metadata": {},
   "outputs": [
    {
     "ename": "TypeError",
     "evalue": "ttest_1samp() got an unexpected keyword argument 'alternative'",
     "output_type": "error",
     "traceback": [
      "\u001b[1;31m---------------------------------------------------------------------------\u001b[0m",
      "\u001b[1;31mTypeError\u001b[0m                                 Traceback (most recent call last)",
      "\u001b[1;32m<ipython-input-17-d3ac6dba693c>\u001b[0m in \u001b[0;36m<module>\u001b[1;34m\u001b[0m\n\u001b[0;32m      3\u001b[0m \u001b[1;33m\u001b[0m\u001b[0m\n\u001b[0;32m      4\u001b[0m \u001b[1;32mfrom\u001b[0m \u001b[0mscipy\u001b[0m\u001b[1;33m.\u001b[0m\u001b[0mstats\u001b[0m \u001b[1;32mimport\u001b[0m \u001b[0mttest_1samp\u001b[0m\u001b[1;33m\u001b[0m\u001b[1;33m\u001b[0m\u001b[0m\n\u001b[1;32m----> 5\u001b[1;33m \u001b[0mt\u001b[0m\u001b[1;33m,\u001b[0m\u001b[0mpval\u001b[0m \u001b[1;33m=\u001b[0m \u001b[0mttest_1samp\u001b[0m\u001b[1;33m(\u001b[0m\u001b[0msample2\u001b[0m\u001b[1;33m,\u001b[0m \u001b[1;36m30\u001b[0m \u001b[1;33m,\u001b[0m\u001b[0malternative\u001b[0m \u001b[1;33m=\u001b[0m \u001b[1;34m'two-sided'\u001b[0m\u001b[1;33m)\u001b[0m\u001b[1;33m\u001b[0m\u001b[1;33m\u001b[0m\u001b[0m\n\u001b[0m\u001b[0;32m      6\u001b[0m \u001b[1;33m\u001b[0m\u001b[0m\n\u001b[0;32m      7\u001b[0m \u001b[0mprint\u001b[0m\u001b[1;33m(\u001b[0m\u001b[0mt\u001b[0m\u001b[1;33m,\u001b[0m\u001b[0mpval\u001b[0m\u001b[1;33m)\u001b[0m\u001b[1;33m\u001b[0m\u001b[1;33m\u001b[0m\u001b[0m\n",
      "\u001b[1;31mTypeError\u001b[0m: ttest_1samp() got an unexpected keyword argument 'alternative'"
     ]
    }
   ],
   "source": [
    "#Use t test to test the claim if mean of sample2 is 30 and print the final conclusion\n",
    "sample2=[20,25,30,31,54,65,67,21,23,45,32,43,32,23,56,30,30,30,30,30,30,30,30,30,30,30,30,30]\n",
    "\n",
    "from scipy.stats import ttest_1samp\n",
    "t,pval = ttest_1samp(sample2, 30 ,alternative = 'two-sided')\n",
    "\n",
    "print(t,pval)"
   ]
  },
  {
   "cell_type": "code",
   "execution_count": 18,
   "metadata": {},
   "outputs": [
    {
     "ename": "SyntaxError",
     "evalue": "invalid syntax (<ipython-input-18-127113addf0a>, line 1)",
     "output_type": "error",
     "traceback": [
      "\u001b[1;36m  File \u001b[1;32m\"<ipython-input-18-127113addf0a>\"\u001b[1;36m, line \u001b[1;32m1\u001b[0m\n\u001b[1;33m    ***Third test: One sample proportion test***\u001b[0m\n\u001b[1;37m    ^\u001b[0m\n\u001b[1;31mSyntaxError\u001b[0m\u001b[1;31m:\u001b[0m invalid syntax\n"
     ]
    }
   ],
   "source": [
    "# ***Third test: One sample proportion test***\n",
    "\n",
    "# Library to be used: ****from statsmodels.stats.proportion import proportions_ztest***\n",
    "\n",
    "# Information about proportions_ztest: it returns Z calculated and P value\n",
    "\n",
    "# it takes: number of defective observations(count), total number of observations (nobs), value of P\n",
    "\n",
    "# Example: z ,pval = proportions_ztest(count=defective, nobs=sample_size, value=0.2)"
   ]
  },
  {
   "cell_type": "code",
   "execution_count": 19,
   "metadata": {},
   "outputs": [
    {
     "name": "stdout",
     "output_type": "stream",
     "text": [
      "1.1547005383792512 0.24821307898992362\n",
      "accept null\n"
     ]
    }
   ],
   "source": [
    "# Use Z test to test the claim if proportion of sample3 is 0.2 and print the final conclusion\n",
    "# sample_size=100\n",
    "# defective=25\n",
    "\n",
    "#Here count is 25 and nobs is 100 ( if you check manually sample proportion is p^ = 25/100 = 0.25)\n",
    "# value taken by the function is hypothesized population proportion P\n",
    "\n",
    "from statsmodels.stats.proportion import proportions_ztest\n",
    "z ,pval = proportions_ztest(count=25, nobs=100, value=0.2)\n",
    "print(z,pval)\n",
    "if(pval<0.05):\n",
    "    print(\"reject null\")\n",
    "else:\n",
    "    print(\"accept null\")"
   ]
  },
  {
   "cell_type": "code",
   "execution_count": 20,
   "metadata": {},
   "outputs": [],
   "source": [
    "# #### Fourth test: 2 independent samples t test\n",
    "\n",
    "# Library to be used: **from scipy.stats import ttest_ind***\n",
    "\n",
    "# Information about ttest_ind: it returns t calculated and P value\n",
    "\n",
    "# It takes: sample 1, sample 2 , value and alternative\n",
    "# # Example: ttest,pval = ttest_ind(week1,week2, 0 , alternative = 'two-sided')"
   ]
  },
  {
   "cell_type": "code",
   "execution_count": 21,
   "metadata": {},
   "outputs": [
    {
     "ename": "TypeError",
     "evalue": "ttest_ind() got an unexpected keyword argument 'alternative'",
     "output_type": "error",
     "traceback": [
      "\u001b[1;31m---------------------------------------------------------------------------\u001b[0m",
      "\u001b[1;31mTypeError\u001b[0m                                 Traceback (most recent call last)",
      "\u001b[1;32m<ipython-input-21-9721107835c7>\u001b[0m in \u001b[0;36m<module>\u001b[1;34m\u001b[0m\n\u001b[0;32m      3\u001b[0m \u001b[0mweek2\u001b[0m\u001b[1;33m=\u001b[0m\u001b[0mnp\u001b[0m\u001b[1;33m.\u001b[0m\u001b[0marange\u001b[0m\u001b[1;33m(\u001b[0m\u001b[1;36m110\u001b[0m\u001b[1;33m,\u001b[0m\u001b[1;36m170\u001b[0m\u001b[1;33m,\u001b[0m\u001b[1;36m1\u001b[0m\u001b[1;33m)\u001b[0m\u001b[1;33m\u001b[0m\u001b[1;33m\u001b[0m\u001b[0m\n\u001b[0;32m      4\u001b[0m \u001b[1;32mfrom\u001b[0m \u001b[0mscipy\u001b[0m\u001b[1;33m.\u001b[0m\u001b[0mstats\u001b[0m \u001b[1;32mimport\u001b[0m \u001b[0mttest_ind\u001b[0m\u001b[1;33m\u001b[0m\u001b[1;33m\u001b[0m\u001b[0m\n\u001b[1;32m----> 5\u001b[1;33m \u001b[0mttest\u001b[0m\u001b[1;33m,\u001b[0m\u001b[0mpval\u001b[0m \u001b[1;33m=\u001b[0m \u001b[0mttest_ind\u001b[0m\u001b[1;33m(\u001b[0m\u001b[0mweek1\u001b[0m\u001b[1;33m,\u001b[0m\u001b[0mweek2\u001b[0m\u001b[1;33m,\u001b[0m \u001b[1;36m0\u001b[0m \u001b[1;33m,\u001b[0m \u001b[0malternative\u001b[0m \u001b[1;33m=\u001b[0m \u001b[1;34m'two-sided'\u001b[0m\u001b[1;33m)\u001b[0m\u001b[1;33m\u001b[0m\u001b[1;33m\u001b[0m\u001b[0m\n\u001b[0m\u001b[0;32m      6\u001b[0m \u001b[0mprint\u001b[0m\u001b[1;33m(\u001b[0m\u001b[0mttest\u001b[0m\u001b[1;33m,\u001b[0m\u001b[0mpval\u001b[0m\u001b[1;33m)\u001b[0m\u001b[1;33m\u001b[0m\u001b[1;33m\u001b[0m\u001b[0m\n",
      "\u001b[1;31mTypeError\u001b[0m: ttest_ind() got an unexpected keyword argument 'alternative'"
     ]
    }
   ],
   "source": [
    "#Use two independent samples t test to test the claim that both samples have same mean, so Mean difference value = 0\n",
    "week1=np.arange(120,180,2)\n",
    "week2=np.arange(110,170,1)\n",
    "from scipy.stats import ttest_ind\n",
    "ttest,pval = ttest_ind(week1,week2, 0 , alternative = 'two-sided')\n",
    "print(ttest,pval)\n"
   ]
  },
  {
   "cell_type": "code",
   "execution_count": null,
   "metadata": {},
   "outputs": [],
   "source": []
  }
 ],
 "metadata": {
  "kernelspec": {
   "display_name": "Python 3",
   "language": "python",
   "name": "python3"
  },
  "language_info": {
   "codemirror_mode": {
    "name": "ipython",
    "version": 3
   },
   "file_extension": ".py",
   "mimetype": "text/x-python",
   "name": "python",
   "nbconvert_exporter": "python",
   "pygments_lexer": "ipython3",
   "version": "3.8.3"
  }
 },
 "nbformat": 4,
 "nbformat_minor": 4
}
