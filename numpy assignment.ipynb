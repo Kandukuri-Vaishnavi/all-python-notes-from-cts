{
 "cells": [
  {
   "cell_type": "code",
   "execution_count": 1,
   "metadata": {},
   "outputs": [],
   "source": [
    "import numpy as np\n"
   ]
  },
  {
   "cell_type": "code",
   "execution_count": 3,
   "metadata": {},
   "outputs": [
    {
     "name": "stdout",
     "output_type": "stream",
     "text": [
      "[1 2 3 4]\n",
      "[1 2 3]\n"
     ]
    }
   ],
   "source": [
    "#prgm to convert list and tuple to array\n",
    "lst1 = [1,2,3,4]\n",
    "tup=(1,2,3)\n",
    "np_array = np.array(lst1)\n",
    "np_arr_tup=np.array(tup)\n",
    "print(np_array)\n",
    "print(np_arr_tup)"
   ]
  },
  {
   "cell_type": "code",
   "execution_count": 4,
   "metadata": {},
   "outputs": [
    {
     "name": "stdout",
     "output_type": "stream",
     "text": [
      "[1 2 3]\n"
     ]
    }
   ],
   "source": [
    "#prgm to find common vlues in 2 arrays\n",
    "common_val=np.intersect1d(np_array,np_arr_tup)\n",
    "print(common_val)"
   ]
  },
  {
   "cell_type": "code",
   "execution_count": 15,
   "metadata": {},
   "outputs": [
    {
     "name": "stdout",
     "output_type": "stream",
     "text": [
      "array a is: [1 2 3 4]\n",
      "array b is : [9 2 4 5]\n",
      "a is less than b\n",
      "[ True False  True  True]\n",
      "a is less than or equal to  b\n",
      "[ True  True  True  True]\n",
      "a is great than b\n",
      "[False False False False]\n",
      "a is greater than or =  b\n",
      "[False  True False False]\n",
      "a==b\n",
      "[False  True False False]\n"
     ]
    }
   ],
   "source": [
    "#prgm to compare 2 arrays using numpy\n",
    "a=np.array([1,2,3,4])\n",
    "b=np.array([9,2,4,5])\n",
    "print(\"array a is:\", a)\n",
    "print(\"array b is :\",b)\n",
    "print('a is less than b')\n",
    "print(np.less(a,b))\n",
    "print('a is less than or equal to  b')\n",
    "print(np.less_equal(a,b))\n",
    "print('a is great than b')\n",
    "print(np.greater(a,b))\n",
    "print('a is greater than or =  b')\n",
    "print(np.greater_equal(a,b))\n",
    "print(\"a==b\")\n",
    "print(np.equal(a,b))\n",
    "\n"
   ]
  },
  {
   "cell_type": "code",
   "execution_count": 30,
   "metadata": {},
   "outputs": [
    {
     "name": "stdout",
     "output_type": "stream",
     "text": [
      "[1 5 8]\n",
      "[8 5 1]\n",
      "[8 5 1]\n",
      "[8 5 1]\n"
     ]
    }
   ],
   "source": [
    "#prgm to reverse an 1d array\n",
    "a=np.array([1,5,8])\n",
    "print(a)\n",
    "print(np.flip(a))\n",
    "print(a[::-1])\n",
    "print(np.flipud(a))\n"
   ]
  },
  {
   "cell_type": "code",
   "execution_count": 29,
   "metadata": {},
   "outputs": [
    {
     "name": "stdout",
     "output_type": "stream",
     "text": [
      "[[ 1  2  3  4]\n",
      " [10 20 30 40]]\n",
      "[[ 4  3  2  1]\n",
      " [40 30 20 10]]\n"
     ]
    }
   ],
   "source": [
    "#prgm to reverse an 2d> array\n",
    "l1=[[1,2,3,4], [10,20,30,40]]\n",
    "x=np.array(l1)\n",
    "print(x)\n",
    "print(np.fliplr(x))"
   ]
  },
  {
   "cell_type": "code",
   "execution_count": 60,
   "metadata": {},
   "outputs": [
    {
     "name": "stdout",
     "output_type": "stream",
     "text": [
      "not empty\n"
     ]
    }
   ],
   "source": [
    "# Write a Python program to check whether the\n",
    "# numpy array is empty or not.\n",
    "v=[1,2]\n",
    "z=np.size(v)\n",
    "if z==0:\n",
    "    print('empty')\n",
    "else:\n",
    "    print('not empty')"
   ]
  },
  {
   "cell_type": "code",
   "execution_count": 40,
   "metadata": {},
   "outputs": [
    {
     "name": "stdout",
     "output_type": "stream",
     "text": [
      "Array is not empty \n"
     ]
    }
   ],
   "source": [
    "# Write a Python program to check whether the\n",
    "# numpy array is empty or not.\n",
    "v=[]\n",
    "flag= not np.any(x)\n",
    "if flag==True:\n",
    "    print('Array is empty ')\n",
    "else:\n",
    "    print('Array is not empty ')\n",
    "    \n",
    "    \n",
    "# print(x)\n",
    "# print(np.any(x))"
   ]
  },
  {
   "cell_type": "markdown",
   "metadata": {},
   "source": [
    "    np.empty\n",
    "    "
   ]
  },
  {
   "cell_type": "code",
   "execution_count": 51,
   "metadata": {},
   "outputs": [
    {
     "name": "stdout",
     "output_type": "stream",
     "text": [
      "[[ 1  2  3  4]\n",
      " [10 20 30 40]]\n",
      "[[1]\n",
      " [1]]\n",
      "[[ 1  2  3  4  1]\n",
      " [10 20 30 40  1]]\n"
     ]
    }
   ],
   "source": [
    "\n",
    "# Write a Python program to how to add an extra\n",
    "# column to a numpy array.\n",
    "l1=[[1,2,3,4], [10,20,30,40]]\n",
    "x=np.array(l1)\n",
    "y=np.ones((2,1),dtype=np.int32)\n",
    "z=np.append(x,y,axis=1)\n",
    "print(x)\n",
    "print(y)\n",
    "print(z)"
   ]
  },
  {
   "cell_type": "code",
   "execution_count": 58,
   "metadata": {},
   "outputs": [
    {
     "name": "stdout",
     "output_type": "stream",
     "text": [
      "[[1]\n",
      " [2]]\n",
      "[[ 1  2  3  4  1]\n",
      " [10 20 30 40  2]]\n"
     ]
    }
   ],
   "source": [
    "# Write a Python program to how to add an extra\n",
    "# column to a numpy array.\n",
    "l1=[[1,2,3,4], [10,20,30,40]]\n",
    "x=np.array(l1)\n",
    "y=np.array((1,2)).reshape(2,1)\n",
    "print(y)\n",
    "z=np.append(x,y,axis=1)\n",
    "print(z)"
   ]
  },
  {
   "cell_type": "code",
   "execution_count": 75,
   "metadata": {},
   "outputs": [
    {
     "name": "stdout",
     "output_type": "stream",
     "text": [
      "[[ 1  2  3  4]\n",
      " [10 20 30 40]]\n",
      "[[10 20 30 40]\n",
      " [ 1  2  3  4]]\n"
     ]
    }
   ],
   "source": [
    "#How to swap two rows of an array?\n",
    "\n",
    "l1=[[1,2,3,4], [10,20,30,40]]\n",
    "x=np.array(l1)\n",
    "print(x)\n",
    "x[ [0, 1]] = x[ [1, 0]]\n",
    "print(x)"
   ]
  },
  {
   "cell_type": "code",
   "execution_count": 129,
   "metadata": {},
   "outputs": [
    {
     "name": "stdout",
     "output_type": "stream",
     "text": [
      "add of 2 nums is:\n",
      "3\n",
      "sub of 2 nums is:\n",
      "8.4\n",
      "mul of 2 nums is:\n",
      "218\n",
      "div of 2 nums is:\n",
      "5.0\n"
     ]
    }
   ],
   "source": [
    "#Write a Python program to add, subtract,\n",
    "#multiply, divide arguments element-wise.\n",
    "print(\"add of 2 nums is:\")\n",
    "print(np.add(1,2))\n",
    "print(\"sub of 2 nums is:\")\n",
    "print(np.subtract(10.4,2))\n",
    "print(\"mul of 2 nums is:\")\n",
    "print(np.multiply(109,2))\n",
    "print(\"div of 2 nums is:\")\n",
    "print(np.divide(10,2))\n"
   ]
  },
  {
   "cell_type": "code",
   "execution_count": 103,
   "metadata": {},
   "outputs": [
    {
     "name": "stdout",
     "output_type": "stream",
     "text": [
      "today is 2022-06-29\n",
      "yday is 2022-06-28\n",
      "tmrw is 2022-06-30\n"
     ]
    }
   ],
   "source": [
    "# Write a Python program to get the dates of\n",
    "# yesterday, today and tomorrow.\n",
    "\n",
    "t=(np.datetime64('today','D'))\n",
    "print(f'today is {t}')\n",
    "y=(np.datetime64('today','D')-np.timedelta64(1,'D'))\n",
    "print(f'yday is {y}')  \n",
    "tm=(np.datetime64('today','D')+np.timedelta64(1,'D'))\n",
    "print(f'tmrw is {tm}')"
   ]
  },
  {
   "cell_type": "code",
   "execution_count": 118,
   "metadata": {},
   "outputs": [
    {
     "name": "stdout",
     "output_type": "stream",
     "text": [
      "(48,)\n",
      "1\n",
      "[[ 1  2  3  4  5  6  7  8]\n",
      " [ 9 10 11 12 13 14 15 16]\n",
      " [17 18 19 20 21 22 23 24]\n",
      " [25 26 27 28 29 30 31 32]\n",
      " [33 34 35 36 37 38 39 40]\n",
      " [41 42 43 44 45 46 47 48]]\n",
      "2\n"
     ]
    }
   ],
   "source": [
    "# Write a Python program to change the\n",
    "# dimension of an array.\n",
    "listone=np.arange(1,49)\n",
    "print(listone.shape)\n",
    "print(np.ndim(listone))\n",
    "reshapedim=listone.reshape(6,8)\n",
    "print(reshapedim)\n",
    "print(np.ndim(reshapedim))\n"
   ]
  },
  {
   "cell_type": "code",
   "execution_count": 134,
   "metadata": {},
   "outputs": [
    {
     "name": "stdout",
     "output_type": "stream",
     "text": [
      "(48,)\n"
     ]
    },
    {
     "ename": "ValueError",
     "evalue": "cannot reshape array of size 48 into shape (3,8)",
     "output_type": "error",
     "traceback": [
      "\u001b[1;31m---------------------------------------------------------------------------\u001b[0m",
      "\u001b[1;31mValueError\u001b[0m                                Traceback (most recent call last)",
      "\u001b[1;32m<ipython-input-134-9d67bee25909>\u001b[0m in \u001b[0;36m<module>\u001b[1;34m\u001b[0m\n\u001b[0;32m      3\u001b[0m \u001b[0mprint\u001b[0m\u001b[1;33m(\u001b[0m\u001b[0mlistone\u001b[0m\u001b[1;33m.\u001b[0m\u001b[0mshape\u001b[0m\u001b[1;33m)\u001b[0m\u001b[1;33m\u001b[0m\u001b[1;33m\u001b[0m\u001b[0m\n\u001b[0;32m      4\u001b[0m \u001b[0mnp\u001b[0m\u001b[1;33m.\u001b[0m\u001b[0mseterr\u001b[0m\u001b[1;33m(\u001b[0m\u001b[0mall\u001b[0m\u001b[1;33m=\u001b[0m\u001b[1;34m\"ignore\"\u001b[0m\u001b[1;33m)\u001b[0m\u001b[1;33m\u001b[0m\u001b[1;33m\u001b[0m\u001b[0m\n\u001b[1;32m----> 5\u001b[1;33m \u001b[0mreshapedim\u001b[0m\u001b[1;33m=\u001b[0m\u001b[0mlistone\u001b[0m\u001b[1;33m.\u001b[0m\u001b[0mreshape\u001b[0m\u001b[1;33m(\u001b[0m\u001b[1;36m3\u001b[0m\u001b[1;33m,\u001b[0m\u001b[1;36m8\u001b[0m\u001b[1;33m)\u001b[0m\u001b[1;33m\u001b[0m\u001b[1;33m\u001b[0m\u001b[0m\n\u001b[0m\u001b[0;32m      6\u001b[0m \u001b[0mprint\u001b[0m\u001b[1;33m(\u001b[0m\u001b[0mreshapedim\u001b[0m\u001b[1;33m)\u001b[0m\u001b[1;33m\u001b[0m\u001b[1;33m\u001b[0m\u001b[0m\n",
      "\u001b[1;31mValueError\u001b[0m: cannot reshape array of size 48 into shape (3,8)"
     ]
    }
   ],
   "source": [
    "#https://het.as.utexas.edu/HET/Software/Numpy/reference/generated/numpy.seterr.html\n",
    "listone=np.arange(1,49)\n",
    "print(listone.shape)\n",
    "np.seterr(all=\"ignore\")\n",
    "reshapedim=listone.reshape(3,8)\n",
    "print(reshapedim)"
   ]
  },
  {
   "cell_type": "markdown",
   "metadata": {},
   "source": [
    "##### https://numpy.org/doc/stable/reference/arrays.datetime.html\n",
    "print(np.array([0, 1577836800], dtype='datetime64[s]'))"
   ]
  },
  {
   "cell_type": "code",
   "execution_count": 121,
   "metadata": {},
   "outputs": [
    {
     "name": "stdout",
     "output_type": "stream",
     "text": [
      "[[ 1  2  3  4]\n",
      " [10 20 30 40]]\n",
      "[[1, 2, 3, 4], [10, 20, 30, 40]]\n"
     ]
    }
   ],
   "source": [
    "# Write a Python program to convert a NumPy\n",
    "# array into Python list structure.\n",
    "l1=[[1,2,3,4], [10,20,30,40]]\n",
    "x=np.array(l1)\n",
    "print(x)\n",
    "y=x.tolist()\n",
    "print(y)"
   ]
  },
  {
   "cell_type": "code",
   "execution_count": 131,
   "metadata": {},
   "outputs": [
    {
     "name": "stdout",
     "output_type": "stream",
     "text": [
      "[1 4 5 2 5 5 6 1 7 7]\n",
      "[1 1 2 4 5 5 5 6 7 7]\n"
     ]
    }
   ],
   "source": [
    "# Python program to create a random vector of\n",
    "# size 10 and sort it.\n",
    "x=np.random.randint(1,10,10)\n",
    "print(x)\n",
    "y=np.sort(x)\n",
    "print(y)\n"
   ]
  },
  {
   "cell_type": "code",
   "execution_count": null,
   "metadata": {},
   "outputs": [],
   "source": []
  }
 ],
 "metadata": {
  "kernelspec": {
   "display_name": "Python 3",
   "language": "python",
   "name": "python3"
  },
  "language_info": {
   "codemirror_mode": {
    "name": "ipython",
    "version": 3
   },
   "file_extension": ".py",
   "mimetype": "text/x-python",
   "name": "python",
   "nbconvert_exporter": "python",
   "pygments_lexer": "ipython3",
   "version": "3.8.3"
  }
 },
 "nbformat": 4,
 "nbformat_minor": 4
}
